{
 "cells": [
  {
   "cell_type": "code",
   "execution_count": 1,
   "metadata": {},
   "outputs": [],
   "source": [
    "import pandas as pd\n",
    "import numpy as np\n",
    "import scanpy as sc\n",
    "import os\n",
    "from sklearn.cluster import KMeans\n",
    "from sklearn.cluster import AgglomerativeClustering\n",
    "from sklearn.metrics.cluster import adjusted_rand_score\n",
    "from sklearn.metrics.cluster import adjusted_mutual_info_score\n",
    "from sklearn.metrics.cluster import homogeneity_score\n",
    "import rpy2.robjects as robjects\n",
    "from rpy2.robjects import pandas2ri"
   ]
  },
  {
   "cell_type": "code",
   "execution_count": 2,
   "metadata": {},
   "outputs": [],
   "source": [
    "df_metrics = pd.DataFrame(columns=['ARI_Louvain','ARI_kmeans','ARI_HC',\n",
    "                                   'AMI_Louvain','AMI_kmeans','AMI_HC',\n",
    "                                   'Homogeneity_Louvain','Homogeneity_kmeans','Homogeneity_HC'])"
   ]
  },
  {
   "cell_type": "code",
   "execution_count": 3,
   "metadata": {},
   "outputs": [
    {
     "data": {
      "text/plain": [
       "0"
      ]
     },
     "execution_count": 3,
     "metadata": {},
     "output_type": "execute_result"
    }
   ],
   "source": [
    "workdir = './output/'\n",
    "path_fm = os.path.join(workdir,'feature_matrices/')\n",
    "path_clusters = os.path.join(workdir,'clusters/')\n",
    "path_metrics = os.path.join(workdir,'metrics/')\n",
    "os.system('mkdir -p '+path_clusters)\n",
    "os.system('mkdir -p '+path_metrics)"
   ]
  },
  {
   "cell_type": "code",
   "execution_count": 4,
   "metadata": {},
   "outputs": [],
   "source": [
    "metadata = pd.read_csv('./input/metadata.tsv',sep='\\t',index_col=0)\n",
    "num_clusters = len(np.unique(metadata['label']))"
   ]
  },
  {
   "cell_type": "code",
   "execution_count": 5,
   "metadata": {},
   "outputs": [
    {
     "data": {
      "text/plain": [
       "17"
      ]
     },
     "execution_count": 5,
     "metadata": {},
     "output_type": "execute_result"
    }
   ],
   "source": [
    "files = [x for x in os.listdir(path_fm) if x.startswith('FM')]\n",
    "len(files)"
   ]
  },
  {
   "cell_type": "code",
   "execution_count": 6,
   "metadata": {},
   "outputs": [
    {
     "data": {
      "text/plain": [
       "['FM_Control_Eryclean.rds',\n",
       " 'FM_BROCKMAN_Eryclean.rds',\n",
       " 'FM_Cusanovich2018_Eryclean.rds',\n",
       " 'FM_cisTopic_Eryclean.rds',\n",
       " 'FM_chromVAR_Eryclean_kmers.rds',\n",
       " 'FM_chromVAR_Eryclean_motifs.rds',\n",
       " 'FM_chromVAR_Eryclean_kmers_pca.rds',\n",
       " 'FM_chromVAR_Eryclean_motifs_pca.rds',\n",
       " 'FM_GeneScoring_Eryclean.rds',\n",
       " 'FM_GeneScoring_Eryclean_pca.rds',\n",
       " 'FM_Cicero_Eryclean.rds',\n",
       " 'FM_Cicero_Eryclean_pca.rds',\n",
       " 'FM_SnapATAC_Eryclean.rds',\n",
       " 'FM_Scasat_Eryclean.rds',\n",
       " 'FM_scABC_Eryclean.rds',\n",
       " 'FM_SCRAT_Eryclean.rds',\n",
       " 'FM_SCRAT_Eryclean_pca.rds']"
      ]
     },
     "execution_count": 6,
     "metadata": {},
     "output_type": "execute_result"
    }
   ],
   "source": [
    "files"
   ]
  },
  {
   "cell_type": "code",
   "execution_count": 7,
   "metadata": {},
   "outputs": [],
   "source": [
    "def getNClusters(adata,n_cluster,range_min=0,range_max=3,max_steps=20):\n",
    "    this_step = 0\n",
    "    this_min = float(range_min)\n",
    "    this_max = float(range_max)\n",
    "    while this_step < max_steps:\n",
    "        print('step ' + str(this_step))\n",
    "        this_resolution = this_min + ((this_max-this_min)/2)\n",
    "        sc.tl.louvain(adata,resolution=this_resolution)\n",
    "        this_clusters = adata.obs['louvain'].nunique()\n",
    "        \n",
    "        print('got ' + str(this_clusters) + ' at resolution ' + str(this_resolution))\n",
    "        \n",
    "        if this_clusters > n_cluster:\n",
    "            this_max = this_resolution\n",
    "        elif this_clusters < n_cluster:\n",
    "            this_min = this_resolution\n",
    "        else:\n",
    "            return(this_resolution, adata)\n",
    "        this_step += 1\n",
    "    \n",
    "    print('Cannot find the number of clusters')\n",
    "    print('Clustering solution from last iteration is used:' + str(this_clusters) + ' at resolution ' + str(this_resolution))"
   ]
  },
  {
   "cell_type": "code",
   "execution_count": 8,
   "metadata": {
    "scrolled": false
   },
   "outputs": [
    {
     "name": "stdout",
     "output_type": "stream",
     "text": [
      "Control\n"
     ]
    },
    {
     "name": "stderr",
     "output_type": "stream",
     "text": [
      "/data/pinello/SHARED_SOFTWARE/anaconda3/envs/ATACseq_clustering/lib/python3.7/site-packages/rpy2/robjects/pandas2ri.py:191: FutureWarning: from_items is deprecated. Please use DataFrame.from_dict(dict(items), ...) instead. DataFrame.from_dict(OrderedDict(items)) may be used to preserve the key order.\n",
      "  res = PandasDataFrame.from_items(items)\n"
     ]
    },
    {
     "name": "stdout",
     "output_type": "stream",
     "text": [
      "step 0\n",
      "got 10 at resolution 1.5\n",
      "step 1\n",
      "got 13 at resolution 2.25\n",
      "step 2\n",
      "got 11 at resolution 1.875\n",
      "step 3\n",
      "got 12 at resolution 2.0625\n",
      "BROCKMAN\n"
     ]
    },
    {
     "name": "stderr",
     "output_type": "stream",
     "text": [
      "/data/pinello/SHARED_SOFTWARE/anaconda3/envs/ATACseq_clustering/lib/python3.7/site-packages/rpy2/robjects/pandas2ri.py:191: FutureWarning: from_items is deprecated. Please use DataFrame.from_dict(dict(items), ...) instead. DataFrame.from_dict(OrderedDict(items)) may be used to preserve the key order.\n",
      "  res = PandasDataFrame.from_items(items)\n"
     ]
    },
    {
     "name": "stdout",
     "output_type": "stream",
     "text": [
      "step 0\n",
      "got 11 at resolution 1.5\n",
      "step 1\n",
      "got 13 at resolution 2.25\n",
      "step 2\n",
      "got 12 at resolution 1.875\n",
      "Cusanovich2018\n"
     ]
    },
    {
     "name": "stderr",
     "output_type": "stream",
     "text": [
      "/data/pinello/SHARED_SOFTWARE/anaconda3/envs/ATACseq_clustering/lib/python3.7/site-packages/rpy2/robjects/pandas2ri.py:191: FutureWarning: from_items is deprecated. Please use DataFrame.from_dict(dict(items), ...) instead. DataFrame.from_dict(OrderedDict(items)) may be used to preserve the key order.\n",
      "  res = PandasDataFrame.from_items(items)\n"
     ]
    },
    {
     "name": "stdout",
     "output_type": "stream",
     "text": [
      "step 0\n",
      "got 10 at resolution 1.5\n",
      "step 1\n",
      "got 13 at resolution 2.25\n",
      "step 2\n",
      "got 11 at resolution 1.875\n",
      "step 3\n",
      "got 12 at resolution 2.0625\n",
      "cisTopic\n"
     ]
    },
    {
     "name": "stderr",
     "output_type": "stream",
     "text": [
      "/data/pinello/SHARED_SOFTWARE/anaconda3/envs/ATACseq_clustering/lib/python3.7/site-packages/rpy2/robjects/pandas2ri.py:191: FutureWarning: from_items is deprecated. Please use DataFrame.from_dict(dict(items), ...) instead. DataFrame.from_dict(OrderedDict(items)) may be used to preserve the key order.\n",
      "  res = PandasDataFrame.from_items(items)\n"
     ]
    },
    {
     "name": "stdout",
     "output_type": "stream",
     "text": [
      "step 0\n",
      "got 10 at resolution 1.5\n",
      "step 1\n",
      "got 10 at resolution 2.25\n",
      "step 2\n",
      "got 12 at resolution 2.625\n",
      "chromVAR_kmers\n"
     ]
    },
    {
     "name": "stderr",
     "output_type": "stream",
     "text": [
      "/data/pinello/SHARED_SOFTWARE/anaconda3/envs/ATACseq_clustering/lib/python3.7/site-packages/rpy2/robjects/pandas2ri.py:191: FutureWarning: from_items is deprecated. Please use DataFrame.from_dict(dict(items), ...) instead. DataFrame.from_dict(OrderedDict(items)) may be used to preserve the key order.\n",
      "  res = PandasDataFrame.from_items(items)\n"
     ]
    },
    {
     "name": "stdout",
     "output_type": "stream",
     "text": [
      "step 0\n",
      "got 7 at resolution 1.5\n",
      "step 1\n",
      "got 9 at resolution 2.25\n",
      "step 2\n",
      "got 10 at resolution 2.625\n",
      "step 3\n",
      "got 11 at resolution 2.8125\n",
      "step 4\n",
      "got 11 at resolution 2.90625\n",
      "step 5\n",
      "got 11 at resolution 2.953125\n",
      "step 6\n",
      "got 12 at resolution 2.9765625\n",
      "chromVAR_motifs\n"
     ]
    },
    {
     "name": "stderr",
     "output_type": "stream",
     "text": [
      "/data/pinello/SHARED_SOFTWARE/anaconda3/envs/ATACseq_clustering/lib/python3.7/site-packages/rpy2/robjects/pandas2ri.py:191: FutureWarning: from_items is deprecated. Please use DataFrame.from_dict(dict(items), ...) instead. DataFrame.from_dict(OrderedDict(items)) may be used to preserve the key order.\n",
      "  res = PandasDataFrame.from_items(items)\n"
     ]
    },
    {
     "name": "stdout",
     "output_type": "stream",
     "text": [
      "step 0\n",
      "got 7 at resolution 1.5\n",
      "step 1\n",
      "got 11 at resolution 2.25\n",
      "step 2\n",
      "got 13 at resolution 2.625\n",
      "step 3\n",
      "got 11 at resolution 2.4375\n",
      "step 4\n",
      "got 12 at resolution 2.53125\n",
      "chromVAR_kmers_pca\n"
     ]
    },
    {
     "name": "stderr",
     "output_type": "stream",
     "text": [
      "/data/pinello/SHARED_SOFTWARE/anaconda3/envs/ATACseq_clustering/lib/python3.7/site-packages/rpy2/robjects/pandas2ri.py:191: FutureWarning: from_items is deprecated. Please use DataFrame.from_dict(dict(items), ...) instead. DataFrame.from_dict(OrderedDict(items)) may be used to preserve the key order.\n",
      "  res = PandasDataFrame.from_items(items)\n"
     ]
    },
    {
     "name": "stdout",
     "output_type": "stream",
     "text": [
      "step 0\n",
      "got 8 at resolution 1.5\n",
      "step 1\n",
      "got 9 at resolution 2.25\n",
      "step 2\n",
      "got 9 at resolution 2.625\n",
      "step 3\n",
      "got 9 at resolution 2.8125\n",
      "step 4\n",
      "got 10 at resolution 2.90625\n",
      "step 5\n",
      "got 9 at resolution 2.953125\n",
      "step 6\n",
      "got 9 at resolution 2.9765625\n",
      "step 7\n",
      "got 9 at resolution 2.98828125\n",
      "step 8\n",
      "got 9 at resolution 2.994140625\n",
      "step 9\n",
      "got 9 at resolution 2.9970703125\n",
      "step 10\n",
      "got 9 at resolution 2.99853515625\n",
      "step 11\n",
      "got 9 at resolution 2.999267578125\n",
      "step 12\n",
      "got 9 at resolution 2.9996337890625\n",
      "step 13\n",
      "got 9 at resolution 2.99981689453125\n",
      "step 14\n",
      "got 9 at resolution 2.999908447265625\n",
      "step 15\n",
      "got 9 at resolution 2.9999542236328125\n",
      "step 16\n",
      "got 9 at resolution 2.9999771118164062\n",
      "step 17\n",
      "got 9 at resolution 2.999988555908203\n",
      "step 18\n",
      "got 9 at resolution 2.9999942779541016\n",
      "step 19\n",
      "got 9 at resolution 2.999997138977051\n",
      "Cannot find the number of clusters\n",
      "Clustering solution from last iteration is used:9 at resolution 2.999997138977051\n",
      "chromVAR_motifs_pca\n"
     ]
    },
    {
     "name": "stderr",
     "output_type": "stream",
     "text": [
      "/data/pinello/SHARED_SOFTWARE/anaconda3/envs/ATACseq_clustering/lib/python3.7/site-packages/rpy2/robjects/pandas2ri.py:191: FutureWarning: from_items is deprecated. Please use DataFrame.from_dict(dict(items), ...) instead. DataFrame.from_dict(OrderedDict(items)) may be used to preserve the key order.\n",
      "  res = PandasDataFrame.from_items(items)\n"
     ]
    },
    {
     "name": "stdout",
     "output_type": "stream",
     "text": [
      "step 0\n",
      "got 7 at resolution 1.5\n",
      "step 1\n",
      "got 11 at resolution 2.25\n",
      "step 2\n",
      "got 15 at resolution 2.625\n",
      "step 3\n",
      "got 13 at resolution 2.4375\n",
      "step 4\n",
      "got 13 at resolution 2.34375\n",
      "step 5\n",
      "got 12 at resolution 2.296875\n",
      "GeneScoring\n"
     ]
    },
    {
     "name": "stderr",
     "output_type": "stream",
     "text": [
      "/data/pinello/SHARED_SOFTWARE/anaconda3/envs/ATACseq_clustering/lib/python3.7/site-packages/rpy2/robjects/pandas2ri.py:191: FutureWarning: from_items is deprecated. Please use DataFrame.from_dict(dict(items), ...) instead. DataFrame.from_dict(OrderedDict(items)) may be used to preserve the key order.\n",
      "  res = PandasDataFrame.from_items(items)\n"
     ]
    },
    {
     "name": "stdout",
     "output_type": "stream",
     "text": [
      "step 0\n",
      "got 33 at resolution 1.5\n",
      "step 1\n",
      "got 2 at resolution 0.75\n",
      "step 2\n",
      "got 14 at resolution 1.125\n",
      "step 3\n",
      "got 5 at resolution 0.9375\n",
      "step 4\n",
      "got 11 at resolution 1.03125\n",
      "step 5\n",
      "got 9 at resolution 1.078125\n",
      "step 6\n",
      "got 13 at resolution 1.1015625\n",
      "step 7\n",
      "got 10 at resolution 1.08984375\n",
      "step 8\n",
      "got 14 at resolution 1.095703125\n",
      "step 9\n",
      "got 13 at resolution 1.0927734375\n",
      "step 10\n",
      "got 12 at resolution 1.09130859375\n",
      "GeneScoring_pca\n"
     ]
    },
    {
     "name": "stderr",
     "output_type": "stream",
     "text": [
      "/data/pinello/SHARED_SOFTWARE/anaconda3/envs/ATACseq_clustering/lib/python3.7/site-packages/rpy2/robjects/pandas2ri.py:191: FutureWarning: from_items is deprecated. Please use DataFrame.from_dict(dict(items), ...) instead. DataFrame.from_dict(OrderedDict(items)) may be used to preserve the key order.\n",
      "  res = PandasDataFrame.from_items(items)\n"
     ]
    },
    {
     "name": "stdout",
     "output_type": "stream",
     "text": [
      "step 0\n",
      "got 10 at resolution 1.5\n",
      "step 1\n",
      "got 15 at resolution 2.25\n",
      "step 2\n",
      "got 11 at resolution 1.875\n",
      "step 3\n",
      "got 13 at resolution 2.0625\n",
      "step 4\n",
      "got 12 at resolution 1.96875\n",
      "Cicero\n"
     ]
    },
    {
     "name": "stderr",
     "output_type": "stream",
     "text": [
      "/data/pinello/SHARED_SOFTWARE/anaconda3/envs/ATACseq_clustering/lib/python3.7/site-packages/rpy2/robjects/pandas2ri.py:191: FutureWarning: from_items is deprecated. Please use DataFrame.from_dict(dict(items), ...) instead. DataFrame.from_dict(OrderedDict(items)) may be used to preserve the key order.\n",
      "  res = PandasDataFrame.from_items(items)\n"
     ]
    },
    {
     "name": "stdout",
     "output_type": "stream",
     "text": [
      "step 0\n",
      "got 35 at resolution 1.5\n",
      "step 1\n",
      "got 1 at resolution 0.75\n",
      "step 2\n",
      "got 18 at resolution 1.125\n",
      "step 3\n",
      "got 6 at resolution 0.9375\n",
      "step 4\n",
      "got 12 at resolution 1.03125\n",
      "Cicero_pca\n"
     ]
    },
    {
     "name": "stderr",
     "output_type": "stream",
     "text": [
      "/data/pinello/SHARED_SOFTWARE/anaconda3/envs/ATACseq_clustering/lib/python3.7/site-packages/rpy2/robjects/pandas2ri.py:191: FutureWarning: from_items is deprecated. Please use DataFrame.from_dict(dict(items), ...) instead. DataFrame.from_dict(OrderedDict(items)) may be used to preserve the key order.\n",
      "  res = PandasDataFrame.from_items(items)\n"
     ]
    },
    {
     "name": "stdout",
     "output_type": "stream",
     "text": [
      "step 0\n",
      "got 11 at resolution 1.5\n",
      "step 1\n",
      "got 18 at resolution 2.25\n",
      "step 2\n",
      "got 16 at resolution 1.875\n",
      "step 3\n",
      "got 15 at resolution 1.6875\n",
      "step 4\n",
      "got 12 at resolution 1.59375\n",
      "SnapATAC\n"
     ]
    },
    {
     "name": "stderr",
     "output_type": "stream",
     "text": [
      "/data/pinello/SHARED_SOFTWARE/anaconda3/envs/ATACseq_clustering/lib/python3.7/site-packages/rpy2/robjects/pandas2ri.py:191: FutureWarning: from_items is deprecated. Please use DataFrame.from_dict(dict(items), ...) instead. DataFrame.from_dict(OrderedDict(items)) may be used to preserve the key order.\n",
      "  res = PandasDataFrame.from_items(items)\n"
     ]
    },
    {
     "name": "stdout",
     "output_type": "stream",
     "text": [
      "step 0\n",
      "got 12 at resolution 1.5\n",
      "Scasat\n"
     ]
    },
    {
     "name": "stderr",
     "output_type": "stream",
     "text": [
      "/data/pinello/SHARED_SOFTWARE/anaconda3/envs/ATACseq_clustering/lib/python3.7/site-packages/rpy2/robjects/pandas2ri.py:191: FutureWarning: from_items is deprecated. Please use DataFrame.from_dict(dict(items), ...) instead. DataFrame.from_dict(OrderedDict(items)) may be used to preserve the key order.\n",
      "  res = PandasDataFrame.from_items(items)\n"
     ]
    },
    {
     "name": "stdout",
     "output_type": "stream",
     "text": [
      "step 0\n",
      "got 10 at resolution 1.5\n",
      "step 1\n",
      "got 12 at resolution 2.25\n",
      "scABC\n"
     ]
    },
    {
     "name": "stderr",
     "output_type": "stream",
     "text": [
      "/data/pinello/SHARED_SOFTWARE/anaconda3/envs/ATACseq_clustering/lib/python3.7/site-packages/rpy2/robjects/pandas2ri.py:191: FutureWarning: from_items is deprecated. Please use DataFrame.from_dict(dict(items), ...) instead. DataFrame.from_dict(OrderedDict(items)) may be used to preserve the key order.\n",
      "  res = PandasDataFrame.from_items(items)\n"
     ]
    },
    {
     "name": "stdout",
     "output_type": "stream",
     "text": [
      "step 0\n",
      "got 6 at resolution 1.5\n",
      "step 1\n",
      "got 10 at resolution 2.25\n",
      "step 2\n",
      "got 16 at resolution 2.625\n",
      "step 3\n",
      "got 12 at resolution 2.4375\n",
      "SCRAT\n"
     ]
    },
    {
     "name": "stderr",
     "output_type": "stream",
     "text": [
      "/data/pinello/SHARED_SOFTWARE/anaconda3/envs/ATACseq_clustering/lib/python3.7/site-packages/rpy2/robjects/pandas2ri.py:191: FutureWarning: from_items is deprecated. Please use DataFrame.from_dict(dict(items), ...) instead. DataFrame.from_dict(OrderedDict(items)) may be used to preserve the key order.\n",
      "  res = PandasDataFrame.from_items(items)\n"
     ]
    },
    {
     "name": "stdout",
     "output_type": "stream",
     "text": [
      "step 0\n",
      "got 9 at resolution 1.5\n",
      "step 1\n",
      "got 11 at resolution 2.25\n",
      "step 2\n",
      "got 13 at resolution 2.625\n",
      "step 3\n",
      "got 12 at resolution 2.4375\n",
      "SCRAT_pca\n"
     ]
    },
    {
     "name": "stderr",
     "output_type": "stream",
     "text": [
      "/data/pinello/SHARED_SOFTWARE/anaconda3/envs/ATACseq_clustering/lib/python3.7/site-packages/rpy2/robjects/pandas2ri.py:191: FutureWarning: from_items is deprecated. Please use DataFrame.from_dict(dict(items), ...) instead. DataFrame.from_dict(OrderedDict(items)) may be used to preserve the key order.\n",
      "  res = PandasDataFrame.from_items(items)\n"
     ]
    },
    {
     "name": "stdout",
     "output_type": "stream",
     "text": [
      "step 0\n",
      "got 10 at resolution 1.5\n",
      "step 1\n",
      "got 12 at resolution 2.25\n"
     ]
    }
   ],
   "source": [
    "for file in files:\n",
    "    file_split = file.split('_')\n",
    "    method = file_split[1]\n",
    "    dataset = file_split[2].split('.')[0]\n",
    "    if(len(file_split)>3):\n",
    "        method = method + '_' + '_'.join(file_split[3:]).split('.')[0]\n",
    "    print(method)\n",
    "\n",
    "    pandas2ri.activate()\n",
    "    readRDS = robjects.r['readRDS']\n",
    "    df_rds = readRDS(os.path.join(path_fm,file))\n",
    "    fm_mat = pandas2ri.ri2py(robjects.r['data.frame'](robjects.r['as.matrix'](df_rds)))\n",
    "    fm_mat.columns = metadata.index\n",
    "    \n",
    "    adata = sc.AnnData(fm_mat.T)\n",
    "    adata.var_names_make_unique()\n",
    "    adata.obs = metadata.loc[adata.obs.index,]\n",
    "    df_metrics.loc[method,] = \"\"\n",
    "    #Louvain\n",
    "    sc.pp.neighbors(adata, n_neighbors=15,use_rep='X')\n",
    "#     sc.tl.louvain(adata)\n",
    "    getNClusters(adata,n_cluster=num_clusters)\n",
    "    #kmeans\n",
    "    kmeans = KMeans(n_clusters=num_clusters, random_state=2019).fit(adata.X)\n",
    "    adata.obs['kmeans'] = pd.Series(kmeans.labels_,index=adata.obs.index).astype('category')\n",
    "    #hierachical clustering\n",
    "    hc = AgglomerativeClustering(n_clusters=num_clusters).fit(adata.X)\n",
    "    adata.obs['hc'] = pd.Series(hc.labels_,index=adata.obs.index).astype('category')\n",
    "    #clustering metrics\n",
    "    \n",
    "    #adjusted rank index\n",
    "    ari_louvain = adjusted_rand_score(adata.obs['label'], adata.obs['louvain'])\n",
    "    ari_kmeans = adjusted_rand_score(adata.obs['label'], adata.obs['kmeans'])\n",
    "    ari_hc = adjusted_rand_score(adata.obs['label'], adata.obs['hc'])\n",
    "    #adjusted mutual information\n",
    "    ami_louvain = adjusted_mutual_info_score(adata.obs['label'], adata.obs['louvain'],average_method='arithmetic')\n",
    "    ami_kmeans = adjusted_mutual_info_score(adata.obs['label'], adata.obs['kmeans'],average_method='arithmetic')   \n",
    "    ami_hc = adjusted_mutual_info_score(adata.obs['label'], adata.obs['hc'],average_method='arithmetic')\n",
    "    #homogeneity\n",
    "    homo_louvain = homogeneity_score(adata.obs['label'], adata.obs['louvain'])\n",
    "    homo_kmeans = homogeneity_score(adata.obs['label'], adata.obs['kmeans'])\n",
    "    homo_hc = homogeneity_score(adata.obs['label'], adata.obs['hc'])\n",
    "\n",
    "    df_metrics.loc[method,['ARI_Louvain','ARI_kmeans','ARI_HC']] = [ari_louvain,ari_kmeans,ari_hc]\n",
    "    df_metrics.loc[method,['AMI_Louvain','AMI_kmeans','AMI_HC']] = [ami_louvain,ami_kmeans,ami_hc]\n",
    "    df_metrics.loc[method,['Homogeneity_Louvain','Homogeneity_kmeans','Homogeneity_HC']] = [homo_louvain,homo_kmeans,homo_hc] \n",
    "    adata.obs[['louvain','kmeans','hc']].to_csv(os.path.join(path_clusters ,method + '_clusters.tsv'),sep='\\t')"
   ]
  },
  {
   "cell_type": "code",
   "execution_count": 9,
   "metadata": {},
   "outputs": [],
   "source": [
    "df_metrics.to_csv(path_metrics+'clustering_scores.csv')"
   ]
  },
  {
   "cell_type": "code",
   "execution_count": 10,
   "metadata": {},
   "outputs": [
    {
     "data": {
      "text/html": [
       "<div>\n",
       "<style scoped>\n",
       "    .dataframe tbody tr th:only-of-type {\n",
       "        vertical-align: middle;\n",
       "    }\n",
       "\n",
       "    .dataframe tbody tr th {\n",
       "        vertical-align: top;\n",
       "    }\n",
       "\n",
       "    .dataframe thead th {\n",
       "        text-align: right;\n",
       "    }\n",
       "</style>\n",
       "<table border=\"1\" class=\"dataframe\">\n",
       "  <thead>\n",
       "    <tr style=\"text-align: right;\">\n",
       "      <th></th>\n",
       "      <th>ARI_Louvain</th>\n",
       "      <th>ARI_kmeans</th>\n",
       "      <th>ARI_HC</th>\n",
       "      <th>AMI_Louvain</th>\n",
       "      <th>AMI_kmeans</th>\n",
       "      <th>AMI_HC</th>\n",
       "      <th>Homogeneity_Louvain</th>\n",
       "      <th>Homogeneity_kmeans</th>\n",
       "      <th>Homogeneity_HC</th>\n",
       "    </tr>\n",
       "  </thead>\n",
       "  <tbody>\n",
       "    <tr>\n",
       "      <th>Control</th>\n",
       "      <td>0.750941</td>\n",
       "      <td>0.699898</td>\n",
       "      <td>0.696635</td>\n",
       "      <td>0.854198</td>\n",
       "      <td>0.820996</td>\n",
       "      <td>0.823917</td>\n",
       "      <td>0.855354</td>\n",
       "      <td>0.824273</td>\n",
       "      <td>0.822788</td>\n",
       "    </tr>\n",
       "    <tr>\n",
       "      <th>BROCKMAN</th>\n",
       "      <td>0.853937</td>\n",
       "      <td>0.710585</td>\n",
       "      <td>0.715</td>\n",
       "      <td>0.912684</td>\n",
       "      <td>0.841918</td>\n",
       "      <td>0.856994</td>\n",
       "      <td>0.911527</td>\n",
       "      <td>0.837232</td>\n",
       "      <td>0.847617</td>\n",
       "    </tr>\n",
       "    <tr>\n",
       "      <th>Cusanovich2018</th>\n",
       "      <td>0.833878</td>\n",
       "      <td>0.705488</td>\n",
       "      <td>0.728346</td>\n",
       "      <td>0.91051</td>\n",
       "      <td>0.857965</td>\n",
       "      <td>0.882825</td>\n",
       "      <td>0.912229</td>\n",
       "      <td>0.836235</td>\n",
       "      <td>0.838571</td>\n",
       "    </tr>\n",
       "    <tr>\n",
       "      <th>cisTopic</th>\n",
       "      <td>0.859505</td>\n",
       "      <td>0.870247</td>\n",
       "      <td>0.862204</td>\n",
       "      <td>0.925826</td>\n",
       "      <td>0.924597</td>\n",
       "      <td>0.91813</td>\n",
       "      <td>0.924268</td>\n",
       "      <td>0.926108</td>\n",
       "      <td>0.91906</td>\n",
       "    </tr>\n",
       "    <tr>\n",
       "      <th>chromVAR_kmers</th>\n",
       "      <td>0.631362</td>\n",
       "      <td>0.683125</td>\n",
       "      <td>0.633939</td>\n",
       "      <td>0.779703</td>\n",
       "      <td>0.811993</td>\n",
       "      <td>0.771349</td>\n",
       "      <td>0.774795</td>\n",
       "      <td>0.809344</td>\n",
       "      <td>0.77325</td>\n",
       "    </tr>\n",
       "    <tr>\n",
       "      <th>chromVAR_motifs</th>\n",
       "      <td>0.41833</td>\n",
       "      <td>0.37396</td>\n",
       "      <td>0.349499</td>\n",
       "      <td>0.61227</td>\n",
       "      <td>0.586485</td>\n",
       "      <td>0.558589</td>\n",
       "      <td>0.61134</td>\n",
       "      <td>0.591831</td>\n",
       "      <td>0.559489</td>\n",
       "    </tr>\n",
       "    <tr>\n",
       "      <th>chromVAR_kmers_pca</th>\n",
       "      <td>0.694709</td>\n",
       "      <td>0.702174</td>\n",
       "      <td>0.670427</td>\n",
       "      <td>0.844425</td>\n",
       "      <td>0.818812</td>\n",
       "      <td>0.794689</td>\n",
       "      <td>0.790521</td>\n",
       "      <td>0.822046</td>\n",
       "      <td>0.789706</td>\n",
       "    </tr>\n",
       "    <tr>\n",
       "      <th>chromVAR_motifs_pca</th>\n",
       "      <td>0.396611</td>\n",
       "      <td>0.351722</td>\n",
       "      <td>0.366967</td>\n",
       "      <td>0.587496</td>\n",
       "      <td>0.583859</td>\n",
       "      <td>0.564477</td>\n",
       "      <td>0.590708</td>\n",
       "      <td>0.588734</td>\n",
       "      <td>0.562235</td>\n",
       "    </tr>\n",
       "    <tr>\n",
       "      <th>GeneScoring</th>\n",
       "      <td>0.0127545</td>\n",
       "      <td>0.281442</td>\n",
       "      <td>0.280855</td>\n",
       "      <td>0.0212587</td>\n",
       "      <td>0.501921</td>\n",
       "      <td>0.468168</td>\n",
       "      <td>0.0415435</td>\n",
       "      <td>0.432987</td>\n",
       "      <td>0.44614</td>\n",
       "    </tr>\n",
       "    <tr>\n",
       "      <th>GeneScoring_pca</th>\n",
       "      <td>0.295875</td>\n",
       "      <td>0.316226</td>\n",
       "      <td>0.278184</td>\n",
       "      <td>0.504467</td>\n",
       "      <td>0.560827</td>\n",
       "      <td>0.516213</td>\n",
       "      <td>0.508565</td>\n",
       "      <td>0.551597</td>\n",
       "      <td>0.50641</td>\n",
       "    </tr>\n",
       "    <tr>\n",
       "      <th>Cicero</th>\n",
       "      <td>0.00345831</td>\n",
       "      <td>0.278615</td>\n",
       "      <td>0.421731</td>\n",
       "      <td>0.00964498</td>\n",
       "      <td>0.498187</td>\n",
       "      <td>0.617713</td>\n",
       "      <td>0.03029</td>\n",
       "      <td>0.411871</td>\n",
       "      <td>0.570884</td>\n",
       "    </tr>\n",
       "    <tr>\n",
       "      <th>Cicero_pca</th>\n",
       "      <td>0.357091</td>\n",
       "      <td>0.338578</td>\n",
       "      <td>0.373742</td>\n",
       "      <td>0.544237</td>\n",
       "      <td>0.542257</td>\n",
       "      <td>0.564644</td>\n",
       "      <td>0.535721</td>\n",
       "      <td>0.542227</td>\n",
       "      <td>0.549007</td>\n",
       "    </tr>\n",
       "    <tr>\n",
       "      <th>SnapATAC</th>\n",
       "      <td>0.918173</td>\n",
       "      <td>0.92643</td>\n",
       "      <td>0.937413</td>\n",
       "      <td>0.952017</td>\n",
       "      <td>0.952101</td>\n",
       "      <td>0.958222</td>\n",
       "      <td>0.952462</td>\n",
       "      <td>0.953057</td>\n",
       "      <td>0.95892</td>\n",
       "    </tr>\n",
       "    <tr>\n",
       "      <th>Scasat</th>\n",
       "      <td>0.762754</td>\n",
       "      <td>0.732875</td>\n",
       "      <td>0.736203</td>\n",
       "      <td>0.864581</td>\n",
       "      <td>0.839181</td>\n",
       "      <td>0.843802</td>\n",
       "      <td>0.857477</td>\n",
       "      <td>0.834717</td>\n",
       "      <td>0.836037</td>\n",
       "    </tr>\n",
       "    <tr>\n",
       "      <th>scABC</th>\n",
       "      <td>0.520153</td>\n",
       "      <td>0.39602</td>\n",
       "      <td>0.591362</td>\n",
       "      <td>0.704576</td>\n",
       "      <td>0.647946</td>\n",
       "      <td>0.75744</td>\n",
       "      <td>0.656948</td>\n",
       "      <td>0.564696</td>\n",
       "      <td>0.744747</td>\n",
       "    </tr>\n",
       "    <tr>\n",
       "      <th>SCRAT</th>\n",
       "      <td>0.643702</td>\n",
       "      <td>0.604504</td>\n",
       "      <td>0.619747</td>\n",
       "      <td>0.793135</td>\n",
       "      <td>0.783077</td>\n",
       "      <td>0.797117</td>\n",
       "      <td>0.792125</td>\n",
       "      <td>0.780015</td>\n",
       "      <td>0.787514</td>\n",
       "    </tr>\n",
       "    <tr>\n",
       "      <th>SCRAT_pca</th>\n",
       "      <td>0.640408</td>\n",
       "      <td>0.594598</td>\n",
       "      <td>0.577834</td>\n",
       "      <td>0.790124</td>\n",
       "      <td>0.774677</td>\n",
       "      <td>0.773088</td>\n",
       "      <td>0.789533</td>\n",
       "      <td>0.773574</td>\n",
       "      <td>0.768022</td>\n",
       "    </tr>\n",
       "  </tbody>\n",
       "</table>\n",
       "</div>"
      ],
      "text/plain": [
       "                    ARI_Louvain ARI_kmeans    ARI_HC AMI_Louvain AMI_kmeans  \\\n",
       "Control                0.750941   0.699898  0.696635    0.854198   0.820996   \n",
       "BROCKMAN               0.853937   0.710585     0.715    0.912684   0.841918   \n",
       "Cusanovich2018         0.833878   0.705488  0.728346     0.91051   0.857965   \n",
       "cisTopic               0.859505   0.870247  0.862204    0.925826   0.924597   \n",
       "chromVAR_kmers         0.631362   0.683125  0.633939    0.779703   0.811993   \n",
       "chromVAR_motifs         0.41833    0.37396  0.349499     0.61227   0.586485   \n",
       "chromVAR_kmers_pca     0.694709   0.702174  0.670427    0.844425   0.818812   \n",
       "chromVAR_motifs_pca    0.396611   0.351722  0.366967    0.587496   0.583859   \n",
       "GeneScoring           0.0127545   0.281442  0.280855   0.0212587   0.501921   \n",
       "GeneScoring_pca        0.295875   0.316226  0.278184    0.504467   0.560827   \n",
       "Cicero               0.00345831   0.278615  0.421731  0.00964498   0.498187   \n",
       "Cicero_pca             0.357091   0.338578  0.373742    0.544237   0.542257   \n",
       "SnapATAC               0.918173    0.92643  0.937413    0.952017   0.952101   \n",
       "Scasat                 0.762754   0.732875  0.736203    0.864581   0.839181   \n",
       "scABC                  0.520153    0.39602  0.591362    0.704576   0.647946   \n",
       "SCRAT                  0.643702   0.604504  0.619747    0.793135   0.783077   \n",
       "SCRAT_pca              0.640408   0.594598  0.577834    0.790124   0.774677   \n",
       "\n",
       "                       AMI_HC Homogeneity_Louvain Homogeneity_kmeans  \\\n",
       "Control              0.823917            0.855354           0.824273   \n",
       "BROCKMAN             0.856994            0.911527           0.837232   \n",
       "Cusanovich2018       0.882825            0.912229           0.836235   \n",
       "cisTopic              0.91813            0.924268           0.926108   \n",
       "chromVAR_kmers       0.771349            0.774795           0.809344   \n",
       "chromVAR_motifs      0.558589             0.61134           0.591831   \n",
       "chromVAR_kmers_pca   0.794689            0.790521           0.822046   \n",
       "chromVAR_motifs_pca  0.564477            0.590708           0.588734   \n",
       "GeneScoring          0.468168           0.0415435           0.432987   \n",
       "GeneScoring_pca      0.516213            0.508565           0.551597   \n",
       "Cicero               0.617713             0.03029           0.411871   \n",
       "Cicero_pca           0.564644            0.535721           0.542227   \n",
       "SnapATAC             0.958222            0.952462           0.953057   \n",
       "Scasat               0.843802            0.857477           0.834717   \n",
       "scABC                 0.75744            0.656948           0.564696   \n",
       "SCRAT                0.797117            0.792125           0.780015   \n",
       "SCRAT_pca            0.773088            0.789533           0.773574   \n",
       "\n",
       "                    Homogeneity_HC  \n",
       "Control                   0.822788  \n",
       "BROCKMAN                  0.847617  \n",
       "Cusanovich2018            0.838571  \n",
       "cisTopic                   0.91906  \n",
       "chromVAR_kmers             0.77325  \n",
       "chromVAR_motifs           0.559489  \n",
       "chromVAR_kmers_pca        0.789706  \n",
       "chromVAR_motifs_pca       0.562235  \n",
       "GeneScoring                0.44614  \n",
       "GeneScoring_pca            0.50641  \n",
       "Cicero                    0.570884  \n",
       "Cicero_pca                0.549007  \n",
       "SnapATAC                   0.95892  \n",
       "Scasat                    0.836037  \n",
       "scABC                     0.744747  \n",
       "SCRAT                     0.787514  \n",
       "SCRAT_pca                 0.768022  "
      ]
     },
     "execution_count": 10,
     "metadata": {},
     "output_type": "execute_result"
    }
   ],
   "source": [
    "df_metrics"
   ]
  },
  {
   "cell_type": "code",
   "execution_count": null,
   "metadata": {},
   "outputs": [],
   "source": []
  }
 ],
 "metadata": {
  "kernelspec": {
   "display_name": "Python [conda env:ATACseq_clustering]",
   "language": "python",
   "name": "conda-env-ATACseq_clustering-py"
  },
  "language_info": {
   "codemirror_mode": {
    "name": "ipython",
    "version": 3
   },
   "file_extension": ".py",
   "mimetype": "text/x-python",
   "name": "python",
   "nbconvert_exporter": "python",
   "pygments_lexer": "ipython3",
   "version": "3.7.3"
  }
 },
 "nbformat": 4,
 "nbformat_minor": 2
}
