{
 "cells": [
  {
   "cell_type": "code",
   "execution_count": 1,
   "metadata": {},
   "outputs": [],
   "source": [
    "import pandas as pd\n",
    "import numpy as np\n",
    "import scanpy as sc\n",
    "import os\n",
    "from sklearn.cluster import KMeans\n",
    "from sklearn.cluster import AgglomerativeClustering\n",
    "from sklearn.metrics.cluster import adjusted_rand_score\n",
    "from sklearn.metrics.cluster import adjusted_mutual_info_score\n",
    "from sklearn.metrics.cluster import homogeneity_score\n",
    "import rpy2.robjects as robjects\n",
    "from rpy2.robjects import pandas2ri"
   ]
  },
  {
   "cell_type": "code",
   "execution_count": 2,
   "metadata": {},
   "outputs": [],
   "source": [
    "df_metrics = pd.DataFrame(columns=['ARI_Louvain','ARI_kmeans','ARI_HC',\n",
    "                                   'AMI_Louvain','AMI_kmeans','AMI_HC',\n",
    "                                   'Homogeneity_Louvain','Homogeneity_kmeans','Homogeneity_HC'])"
   ]
  },
  {
   "cell_type": "code",
   "execution_count": 3,
   "metadata": {},
   "outputs": [
    {
     "data": {
      "text/plain": [
       "0"
      ]
     },
     "execution_count": 3,
     "metadata": {},
     "output_type": "execute_result"
    }
   ],
   "source": [
    "workdir = './output/'\n",
    "path_fm = os.path.join(workdir,'feature_matrices/')\n",
    "path_clusters = os.path.join(workdir,'clusters/')\n",
    "path_metrics = os.path.join(workdir,'metrics/')\n",
    "os.system('mkdir -p '+path_clusters)\n",
    "os.system('mkdir -p '+path_metrics)"
   ]
  },
  {
   "cell_type": "code",
   "execution_count": 4,
   "metadata": {},
   "outputs": [],
   "source": [
    "metadata = pd.read_csv('./input/metadata.tsv',sep='\\t',index_col=0)\n",
    "num_clusters = len(np.unique(metadata['label']))"
   ]
  },
  {
   "cell_type": "code",
   "execution_count": 5,
   "metadata": {},
   "outputs": [
    {
     "data": {
      "text/plain": [
       "17"
      ]
     },
     "execution_count": 5,
     "metadata": {},
     "output_type": "execute_result"
    }
   ],
   "source": [
    "files = [x for x in os.listdir(path_fm) if x.startswith('FM')]\n",
    "len(files)"
   ]
  },
  {
   "cell_type": "code",
   "execution_count": 6,
   "metadata": {},
   "outputs": [
    {
     "data": {
      "text/plain": [
       "['FM_Control_BMclean.rds',\n",
       " 'FM_BROCKMAN_BMclean.rds',\n",
       " 'FM_Cusanovich2018_BMclean.rds',\n",
       " 'FM_cisTopic_BMclean.rds',\n",
       " 'FM_chromVAR_BMclean_kmers.rds',\n",
       " 'FM_chromVAR_BMclean_motifs.rds',\n",
       " 'FM_chromVAR_BMclean_kmers_pca.rds',\n",
       " 'FM_chromVAR_BMclean_motifs_pca.rds',\n",
       " 'FM_GeneScoring_BMclean.rds',\n",
       " 'FM_GeneScoring_BMclean_pca.rds',\n",
       " 'FM_Cicero_BMclean.rds',\n",
       " 'FM_Cicero_BMclean_pca.rds',\n",
       " 'FM_SnapATAC_BMclean.rds',\n",
       " 'FM_Scasat_BMclean.rds',\n",
       " 'FM_scABC_BMclean.rds',\n",
       " 'FM_SCRAT_BMclean.rds',\n",
       " 'FM_SCRAT_BMclean_pca.rds']"
      ]
     },
     "execution_count": 6,
     "metadata": {},
     "output_type": "execute_result"
    }
   ],
   "source": [
    "files"
   ]
  },
  {
   "cell_type": "code",
   "execution_count": 7,
   "metadata": {},
   "outputs": [],
   "source": [
    "def getNClusters(adata,n_cluster,range_min=0,range_max=3,max_steps=20):\n",
    "    this_step = 0\n",
    "    this_min = float(range_min)\n",
    "    this_max = float(range_max)\n",
    "    while this_step < max_steps:\n",
    "        print('step ' + str(this_step))\n",
    "        this_resolution = this_min + ((this_max-this_min)/2)\n",
    "        sc.tl.louvain(adata,resolution=this_resolution)\n",
    "        this_clusters = adata.obs['louvain'].nunique()\n",
    "        \n",
    "        print('got ' + str(this_clusters) + ' at resolution ' + str(this_resolution))\n",
    "        \n",
    "        if this_clusters > n_cluster:\n",
    "            this_max = this_resolution\n",
    "        elif this_clusters < n_cluster:\n",
    "            this_min = this_resolution\n",
    "        else:\n",
    "            return(this_resolution, adata)\n",
    "        this_step += 1\n",
    "    \n",
    "    print('Cannot find the number of clusters')\n",
    "    print('Clustering solution from last iteration is used:' + str(this_clusters) + ' at resolution ' + str(this_resolution))"
   ]
  },
  {
   "cell_type": "code",
   "execution_count": 8,
   "metadata": {
    "scrolled": false
   },
   "outputs": [
    {
     "name": "stdout",
     "output_type": "stream",
     "text": [
      "Control\n"
     ]
    },
    {
     "name": "stderr",
     "output_type": "stream",
     "text": [
      "/data/pinello/SHARED_SOFTWARE/anaconda3/envs/ATACseq_clustering/lib/python3.7/site-packages/rpy2/robjects/pandas2ri.py:191: FutureWarning: from_items is deprecated. Please use DataFrame.from_dict(dict(items), ...) instead. DataFrame.from_dict(OrderedDict(items)) may be used to preserve the key order.\n",
      "  res = PandasDataFrame.from_items(items)\n"
     ]
    },
    {
     "name": "stdout",
     "output_type": "stream",
     "text": [
      "step 0\n",
      "got 6 at resolution 1.5\n",
      "BROCKMAN\n"
     ]
    },
    {
     "name": "stderr",
     "output_type": "stream",
     "text": [
      "/data/pinello/SHARED_SOFTWARE/anaconda3/envs/ATACseq_clustering/lib/python3.7/site-packages/rpy2/robjects/pandas2ri.py:191: FutureWarning: from_items is deprecated. Please use DataFrame.from_dict(dict(items), ...) instead. DataFrame.from_dict(OrderedDict(items)) may be used to preserve the key order.\n",
      "  res = PandasDataFrame.from_items(items)\n"
     ]
    },
    {
     "name": "stdout",
     "output_type": "stream",
     "text": [
      "step 0\n",
      "got 11 at resolution 1.5\n",
      "step 1\n",
      "got 6 at resolution 0.75\n",
      "Cusanovich2018\n"
     ]
    },
    {
     "name": "stderr",
     "output_type": "stream",
     "text": [
      "/data/pinello/SHARED_SOFTWARE/anaconda3/envs/ATACseq_clustering/lib/python3.7/site-packages/rpy2/robjects/pandas2ri.py:191: FutureWarning: from_items is deprecated. Please use DataFrame.from_dict(dict(items), ...) instead. DataFrame.from_dict(OrderedDict(items)) may be used to preserve the key order.\n",
      "  res = PandasDataFrame.from_items(items)\n"
     ]
    },
    {
     "name": "stdout",
     "output_type": "stream",
     "text": [
      "step 0\n",
      "got 6 at resolution 1.5\n",
      "cisTopic\n"
     ]
    },
    {
     "name": "stderr",
     "output_type": "stream",
     "text": [
      "/data/pinello/SHARED_SOFTWARE/anaconda3/envs/ATACseq_clustering/lib/python3.7/site-packages/rpy2/robjects/pandas2ri.py:191: FutureWarning: from_items is deprecated. Please use DataFrame.from_dict(dict(items), ...) instead. DataFrame.from_dict(OrderedDict(items)) may be used to preserve the key order.\n",
      "  res = PandasDataFrame.from_items(items)\n"
     ]
    },
    {
     "name": "stdout",
     "output_type": "stream",
     "text": [
      "step 0\n",
      "got 6 at resolution 1.5\n",
      "chromVAR_kmers\n"
     ]
    },
    {
     "name": "stderr",
     "output_type": "stream",
     "text": [
      "/data/pinello/SHARED_SOFTWARE/anaconda3/envs/ATACseq_clustering/lib/python3.7/site-packages/rpy2/robjects/pandas2ri.py:191: FutureWarning: from_items is deprecated. Please use DataFrame.from_dict(dict(items), ...) instead. DataFrame.from_dict(OrderedDict(items)) may be used to preserve the key order.\n",
      "  res = PandasDataFrame.from_items(items)\n"
     ]
    },
    {
     "name": "stdout",
     "output_type": "stream",
     "text": [
      "step 0\n",
      "got 5 at resolution 1.5\n",
      "step 1\n",
      "got 9 at resolution 2.25\n",
      "step 2\n",
      "got 6 at resolution 1.875\n",
      "chromVAR_motifs\n"
     ]
    },
    {
     "name": "stderr",
     "output_type": "stream",
     "text": [
      "/data/pinello/SHARED_SOFTWARE/anaconda3/envs/ATACseq_clustering/lib/python3.7/site-packages/rpy2/robjects/pandas2ri.py:191: FutureWarning: from_items is deprecated. Please use DataFrame.from_dict(dict(items), ...) instead. DataFrame.from_dict(OrderedDict(items)) may be used to preserve the key order.\n",
      "  res = PandasDataFrame.from_items(items)\n"
     ]
    },
    {
     "name": "stdout",
     "output_type": "stream",
     "text": [
      "step 0\n",
      "got 6 at resolution 1.5\n",
      "chromVAR_kmers_pca\n"
     ]
    },
    {
     "name": "stderr",
     "output_type": "stream",
     "text": [
      "/data/pinello/SHARED_SOFTWARE/anaconda3/envs/ATACseq_clustering/lib/python3.7/site-packages/rpy2/robjects/pandas2ri.py:191: FutureWarning: from_items is deprecated. Please use DataFrame.from_dict(dict(items), ...) instead. DataFrame.from_dict(OrderedDict(items)) may be used to preserve the key order.\n",
      "  res = PandasDataFrame.from_items(items)\n"
     ]
    },
    {
     "name": "stdout",
     "output_type": "stream",
     "text": [
      "step 0\n",
      "got 6 at resolution 1.5\n",
      "chromVAR_motifs_pca\n"
     ]
    },
    {
     "name": "stderr",
     "output_type": "stream",
     "text": [
      "/data/pinello/SHARED_SOFTWARE/anaconda3/envs/ATACseq_clustering/lib/python3.7/site-packages/rpy2/robjects/pandas2ri.py:191: FutureWarning: from_items is deprecated. Please use DataFrame.from_dict(dict(items), ...) instead. DataFrame.from_dict(OrderedDict(items)) may be used to preserve the key order.\n",
      "  res = PandasDataFrame.from_items(items)\n"
     ]
    },
    {
     "name": "stdout",
     "output_type": "stream",
     "text": [
      "step 0\n",
      "got 6 at resolution 1.5\n",
      "GeneScoring\n"
     ]
    },
    {
     "name": "stderr",
     "output_type": "stream",
     "text": [
      "/data/pinello/SHARED_SOFTWARE/anaconda3/envs/ATACseq_clustering/lib/python3.7/site-packages/rpy2/robjects/pandas2ri.py:191: FutureWarning: from_items is deprecated. Please use DataFrame.from_dict(dict(items), ...) instead. DataFrame.from_dict(OrderedDict(items)) may be used to preserve the key order.\n",
      "  res = PandasDataFrame.from_items(items)\n"
     ]
    },
    {
     "name": "stdout",
     "output_type": "stream",
     "text": [
      "step 0\n",
      "got 23 at resolution 1.5\n",
      "step 1\n",
      "got 3 at resolution 0.75\n",
      "step 2\n",
      "got 10 at resolution 1.125\n",
      "step 3\n",
      "got 5 at resolution 0.9375\n",
      "step 4\n",
      "got 6 at resolution 1.03125\n",
      "GeneScoring_pca\n"
     ]
    },
    {
     "name": "stderr",
     "output_type": "stream",
     "text": [
      "/data/pinello/SHARED_SOFTWARE/anaconda3/envs/ATACseq_clustering/lib/python3.7/site-packages/rpy2/robjects/pandas2ri.py:191: FutureWarning: from_items is deprecated. Please use DataFrame.from_dict(dict(items), ...) instead. DataFrame.from_dict(OrderedDict(items)) may be used to preserve the key order.\n",
      "  res = PandasDataFrame.from_items(items)\n"
     ]
    },
    {
     "name": "stdout",
     "output_type": "stream",
     "text": [
      "step 0\n",
      "got 13 at resolution 1.5\n",
      "step 1\n",
      "got 8 at resolution 0.75\n",
      "step 2\n",
      "got 6 at resolution 0.375\n",
      "Cicero\n"
     ]
    },
    {
     "name": "stderr",
     "output_type": "stream",
     "text": [
      "/data/pinello/SHARED_SOFTWARE/anaconda3/envs/ATACseq_clustering/lib/python3.7/site-packages/rpy2/robjects/pandas2ri.py:191: FutureWarning: from_items is deprecated. Please use DataFrame.from_dict(dict(items), ...) instead. DataFrame.from_dict(OrderedDict(items)) may be used to preserve the key order.\n",
      "  res = PandasDataFrame.from_items(items)\n"
     ]
    },
    {
     "name": "stdout",
     "output_type": "stream",
     "text": [
      "step 0\n",
      "got 21 at resolution 1.5\n",
      "step 1\n",
      "got 2 at resolution 0.75\n",
      "step 2\n",
      "got 11 at resolution 1.125\n",
      "step 3\n",
      "got 2 at resolution 0.9375\n",
      "step 4\n",
      "got 5 at resolution 1.03125\n",
      "step 5\n",
      "got 4 at resolution 1.078125\n",
      "step 6\n",
      "got 5 at resolution 1.1015625\n",
      "step 7\n",
      "got 6 at resolution 1.11328125\n",
      "Cicero_pca\n"
     ]
    },
    {
     "name": "stderr",
     "output_type": "stream",
     "text": [
      "/data/pinello/SHARED_SOFTWARE/anaconda3/envs/ATACseq_clustering/lib/python3.7/site-packages/rpy2/robjects/pandas2ri.py:191: FutureWarning: from_items is deprecated. Please use DataFrame.from_dict(dict(items), ...) instead. DataFrame.from_dict(OrderedDict(items)) may be used to preserve the key order.\n",
      "  res = PandasDataFrame.from_items(items)\n"
     ]
    },
    {
     "name": "stdout",
     "output_type": "stream",
     "text": [
      "step 0\n",
      "got 12 at resolution 1.5\n",
      "step 1\n",
      "got 5 at resolution 0.75\n",
      "step 2\n",
      "got 7 at resolution 1.125\n",
      "step 3\n",
      "got 6 at resolution 0.9375\n",
      "SnapATAC\n"
     ]
    },
    {
     "name": "stderr",
     "output_type": "stream",
     "text": [
      "/data/pinello/SHARED_SOFTWARE/anaconda3/envs/ATACseq_clustering/lib/python3.7/site-packages/rpy2/robjects/pandas2ri.py:191: FutureWarning: from_items is deprecated. Please use DataFrame.from_dict(dict(items), ...) instead. DataFrame.from_dict(OrderedDict(items)) may be used to preserve the key order.\n",
      "  res = PandasDataFrame.from_items(items)\n"
     ]
    },
    {
     "name": "stdout",
     "output_type": "stream",
     "text": [
      "step 0\n",
      "got 6 at resolution 1.5\n",
      "Scasat\n"
     ]
    },
    {
     "name": "stderr",
     "output_type": "stream",
     "text": [
      "/data/pinello/SHARED_SOFTWARE/anaconda3/envs/ATACseq_clustering/lib/python3.7/site-packages/rpy2/robjects/pandas2ri.py:191: FutureWarning: from_items is deprecated. Please use DataFrame.from_dict(dict(items), ...) instead. DataFrame.from_dict(OrderedDict(items)) may be used to preserve the key order.\n",
      "  res = PandasDataFrame.from_items(items)\n"
     ]
    },
    {
     "name": "stdout",
     "output_type": "stream",
     "text": [
      "step 0\n",
      "got 6 at resolution 1.5\n",
      "scABC\n"
     ]
    },
    {
     "name": "stderr",
     "output_type": "stream",
     "text": [
      "/data/pinello/SHARED_SOFTWARE/anaconda3/envs/ATACseq_clustering/lib/python3.7/site-packages/rpy2/robjects/pandas2ri.py:191: FutureWarning: from_items is deprecated. Please use DataFrame.from_dict(dict(items), ...) instead. DataFrame.from_dict(OrderedDict(items)) may be used to preserve the key order.\n",
      "  res = PandasDataFrame.from_items(items)\n"
     ]
    },
    {
     "name": "stdout",
     "output_type": "stream",
     "text": [
      "step 0\n",
      "got 7 at resolution 1.5\n",
      "step 1\n",
      "got 2 at resolution 0.75\n",
      "step 2\n",
      "got 4 at resolution 1.125\n",
      "step 3\n",
      "got 6 at resolution 1.3125\n",
      "SCRAT\n"
     ]
    },
    {
     "name": "stderr",
     "output_type": "stream",
     "text": [
      "/data/pinello/SHARED_SOFTWARE/anaconda3/envs/ATACseq_clustering/lib/python3.7/site-packages/rpy2/robjects/pandas2ri.py:191: FutureWarning: from_items is deprecated. Please use DataFrame.from_dict(dict(items), ...) instead. DataFrame.from_dict(OrderedDict(items)) may be used to preserve the key order.\n",
      "  res = PandasDataFrame.from_items(items)\n"
     ]
    },
    {
     "name": "stdout",
     "output_type": "stream",
     "text": [
      "step 0\n",
      "got 6 at resolution 1.5\n",
      "SCRAT_pca\n"
     ]
    },
    {
     "name": "stderr",
     "output_type": "stream",
     "text": [
      "/data/pinello/SHARED_SOFTWARE/anaconda3/envs/ATACseq_clustering/lib/python3.7/site-packages/rpy2/robjects/pandas2ri.py:191: FutureWarning: from_items is deprecated. Please use DataFrame.from_dict(dict(items), ...) instead. DataFrame.from_dict(OrderedDict(items)) may be used to preserve the key order.\n",
      "  res = PandasDataFrame.from_items(items)\n"
     ]
    },
    {
     "name": "stdout",
     "output_type": "stream",
     "text": [
      "step 0\n",
      "got 10 at resolution 1.5\n",
      "step 1\n",
      "got 5 at resolution 0.75\n",
      "step 2\n",
      "got 6 at resolution 1.125\n"
     ]
    }
   ],
   "source": [
    "for file in files:\n",
    "    file_split = file.split('_')\n",
    "    method = file_split[1]\n",
    "    dataset = file_split[2].split('.')[0]\n",
    "    if(len(file_split)>3):\n",
    "        method = method + '_' + '_'.join(file_split[3:]).split('.')[0]\n",
    "    print(method)\n",
    "\n",
    "    pandas2ri.activate()\n",
    "    readRDS = robjects.r['readRDS']\n",
    "    df_rds = readRDS(os.path.join(path_fm,file))\n",
    "    fm_mat = pandas2ri.ri2py(robjects.r['data.frame'](robjects.r['as.matrix'](df_rds)))\n",
    "    fm_mat.columns = metadata.index\n",
    "    \n",
    "    adata = sc.AnnData(fm_mat.T)\n",
    "    adata.var_names_make_unique()\n",
    "    adata.obs = metadata.loc[adata.obs.index,]\n",
    "    df_metrics.loc[method,] = \"\"\n",
    "    #Louvain\n",
    "    sc.pp.neighbors(adata, n_neighbors=15,use_rep='X')\n",
    "#     sc.tl.louvain(adata)\n",
    "    getNClusters(adata,n_cluster=num_clusters)\n",
    "    #kmeans\n",
    "    kmeans = KMeans(n_clusters=num_clusters, random_state=2019).fit(adata.X)\n",
    "    adata.obs['kmeans'] = pd.Series(kmeans.labels_,index=adata.obs.index).astype('category')\n",
    "    #hierachical clustering\n",
    "    hc = AgglomerativeClustering(n_clusters=num_clusters).fit(adata.X)\n",
    "    adata.obs['hc'] = pd.Series(hc.labels_,index=adata.obs.index).astype('category')\n",
    "    #clustering metrics\n",
    "    \n",
    "    #adjusted rank index\n",
    "    ari_louvain = adjusted_rand_score(adata.obs['label'], adata.obs['louvain'])\n",
    "    ari_kmeans = adjusted_rand_score(adata.obs['label'], adata.obs['kmeans'])\n",
    "    ari_hc = adjusted_rand_score(adata.obs['label'], adata.obs['hc'])\n",
    "    #adjusted mutual information\n",
    "    ami_louvain = adjusted_mutual_info_score(adata.obs['label'], adata.obs['louvain'],average_method='arithmetic')\n",
    "    ami_kmeans = adjusted_mutual_info_score(adata.obs['label'], adata.obs['kmeans'],average_method='arithmetic')   \n",
    "    ami_hc = adjusted_mutual_info_score(adata.obs['label'], adata.obs['hc'],average_method='arithmetic')\n",
    "    #homogeneity\n",
    "    homo_louvain = homogeneity_score(adata.obs['label'], adata.obs['louvain'])\n",
    "    homo_kmeans = homogeneity_score(adata.obs['label'], adata.obs['kmeans'])\n",
    "    homo_hc = homogeneity_score(adata.obs['label'], adata.obs['hc'])\n",
    "\n",
    "    df_metrics.loc[method,['ARI_Louvain','ARI_kmeans','ARI_HC']] = [ari_louvain,ari_kmeans,ari_hc]\n",
    "    df_metrics.loc[method,['AMI_Louvain','AMI_kmeans','AMI_HC']] = [ami_louvain,ami_kmeans,ami_hc]\n",
    "    df_metrics.loc[method,['Homogeneity_Louvain','Homogeneity_kmeans','Homogeneity_HC']] = [homo_louvain,homo_kmeans,homo_hc] \n",
    "    adata.obs[['louvain','kmeans','hc']].to_csv(os.path.join(path_clusters ,method + '_clusters.tsv'),sep='\\t')"
   ]
  },
  {
   "cell_type": "code",
   "execution_count": 9,
   "metadata": {},
   "outputs": [],
   "source": [
    "df_metrics.to_csv(path_metrics+'clustering_scores.csv')"
   ]
  },
  {
   "cell_type": "code",
   "execution_count": 10,
   "metadata": {},
   "outputs": [
    {
     "data": {
      "text/html": [
       "<div>\n",
       "<style scoped>\n",
       "    .dataframe tbody tr th:only-of-type {\n",
       "        vertical-align: middle;\n",
       "    }\n",
       "\n",
       "    .dataframe tbody tr th {\n",
       "        vertical-align: top;\n",
       "    }\n",
       "\n",
       "    .dataframe thead th {\n",
       "        text-align: right;\n",
       "    }\n",
       "</style>\n",
       "<table border=\"1\" class=\"dataframe\">\n",
       "  <thead>\n",
       "    <tr style=\"text-align: right;\">\n",
       "      <th></th>\n",
       "      <th>ARI_Louvain</th>\n",
       "      <th>ARI_kmeans</th>\n",
       "      <th>ARI_HC</th>\n",
       "      <th>AMI_Louvain</th>\n",
       "      <th>AMI_kmeans</th>\n",
       "      <th>AMI_HC</th>\n",
       "      <th>Homogeneity_Louvain</th>\n",
       "      <th>Homogeneity_kmeans</th>\n",
       "      <th>Homogeneity_HC</th>\n",
       "    </tr>\n",
       "  </thead>\n",
       "  <tbody>\n",
       "    <tr>\n",
       "      <th>Control</th>\n",
       "      <td>0.990084</td>\n",
       "      <td>0.98421</td>\n",
       "      <td>0.988131</td>\n",
       "      <td>0.987472</td>\n",
       "      <td>0.981477</td>\n",
       "      <td>0.985582</td>\n",
       "      <td>0.987544</td>\n",
       "      <td>0.981562</td>\n",
       "      <td>0.985662</td>\n",
       "    </tr>\n",
       "    <tr>\n",
       "      <th>BROCKMAN</th>\n",
       "      <td>0.982333</td>\n",
       "      <td>0.831069</td>\n",
       "      <td>0.85348</td>\n",
       "      <td>0.980535</td>\n",
       "      <td>0.857435</td>\n",
       "      <td>0.896508</td>\n",
       "      <td>0.98062</td>\n",
       "      <td>0.858096</td>\n",
       "      <td>0.896072</td>\n",
       "    </tr>\n",
       "    <tr>\n",
       "      <th>Cusanovich2018</th>\n",
       "      <td>1</td>\n",
       "      <td>0.772794</td>\n",
       "      <td>0.997997</td>\n",
       "      <td>1</td>\n",
       "      <td>0.899824</td>\n",
       "      <td>0.997053</td>\n",
       "      <td>1</td>\n",
       "      <td>0.871049</td>\n",
       "      <td>0.99707</td>\n",
       "    </tr>\n",
       "    <tr>\n",
       "      <th>cisTopic</th>\n",
       "      <td>1</td>\n",
       "      <td>1</td>\n",
       "      <td>1</td>\n",
       "      <td>1</td>\n",
       "      <td>1</td>\n",
       "      <td>1</td>\n",
       "      <td>1</td>\n",
       "      <td>1</td>\n",
       "      <td>1</td>\n",
       "    </tr>\n",
       "    <tr>\n",
       "      <th>chromVAR_kmers</th>\n",
       "      <td>0.843163</td>\n",
       "      <td>0.799171</td>\n",
       "      <td>0.76985</td>\n",
       "      <td>0.868031</td>\n",
       "      <td>0.842185</td>\n",
       "      <td>0.812872</td>\n",
       "      <td>0.867396</td>\n",
       "      <td>0.842316</td>\n",
       "      <td>0.812087</td>\n",
       "    </tr>\n",
       "    <tr>\n",
       "      <th>chromVAR_motifs</th>\n",
       "      <td>0.512253</td>\n",
       "      <td>0.504477</td>\n",
       "      <td>0.505056</td>\n",
       "      <td>0.654553</td>\n",
       "      <td>0.656979</td>\n",
       "      <td>0.647731</td>\n",
       "      <td>0.654538</td>\n",
       "      <td>0.658108</td>\n",
       "      <td>0.634236</td>\n",
       "    </tr>\n",
       "    <tr>\n",
       "      <th>chromVAR_kmers_pca</th>\n",
       "      <td>0.839422</td>\n",
       "      <td>0.884756</td>\n",
       "      <td>0.78633</td>\n",
       "      <td>0.879319</td>\n",
       "      <td>0.897241</td>\n",
       "      <td>0.826066</td>\n",
       "      <td>0.876413</td>\n",
       "      <td>0.897375</td>\n",
       "      <td>0.826903</td>\n",
       "    </tr>\n",
       "    <tr>\n",
       "      <th>chromVAR_motifs_pca</th>\n",
       "      <td>0.64132</td>\n",
       "      <td>0.509436</td>\n",
       "      <td>0.505189</td>\n",
       "      <td>0.724372</td>\n",
       "      <td>0.656391</td>\n",
       "      <td>0.637485</td>\n",
       "      <td>0.724971</td>\n",
       "      <td>0.65828</td>\n",
       "      <td>0.633793</td>\n",
       "    </tr>\n",
       "    <tr>\n",
       "      <th>GeneScoring</th>\n",
       "      <td>0.0618276</td>\n",
       "      <td>0.454361</td>\n",
       "      <td>0.391331</td>\n",
       "      <td>0.0729624</td>\n",
       "      <td>0.561881</td>\n",
       "      <td>0.482972</td>\n",
       "      <td>0.0756808</td>\n",
       "      <td>0.540819</td>\n",
       "      <td>0.454368</td>\n",
       "    </tr>\n",
       "    <tr>\n",
       "      <th>GeneScoring_pca</th>\n",
       "      <td>0.408209</td>\n",
       "      <td>0.428704</td>\n",
       "      <td>0.442471</td>\n",
       "      <td>0.559569</td>\n",
       "      <td>0.526914</td>\n",
       "      <td>0.56194</td>\n",
       "      <td>0.533376</td>\n",
       "      <td>0.516252</td>\n",
       "      <td>0.53811</td>\n",
       "    </tr>\n",
       "    <tr>\n",
       "      <th>Cicero</th>\n",
       "      <td>0.243898</td>\n",
       "      <td>0.475872</td>\n",
       "      <td>0.523611</td>\n",
       "      <td>0.331234</td>\n",
       "      <td>0.71664</td>\n",
       "      <td>0.668203</td>\n",
       "      <td>0.304208</td>\n",
       "      <td>0.565448</td>\n",
       "      <td>0.650277</td>\n",
       "    </tr>\n",
       "    <tr>\n",
       "      <th>Cicero_pca</th>\n",
       "      <td>0.608853</td>\n",
       "      <td>0.653923</td>\n",
       "      <td>0.5907</td>\n",
       "      <td>0.725897</td>\n",
       "      <td>0.764528</td>\n",
       "      <td>0.70686</td>\n",
       "      <td>0.685718</td>\n",
       "      <td>0.74116</td>\n",
       "      <td>0.69032</td>\n",
       "    </tr>\n",
       "    <tr>\n",
       "      <th>SnapATAC</th>\n",
       "      <td>1</td>\n",
       "      <td>1</td>\n",
       "      <td>1</td>\n",
       "      <td>1</td>\n",
       "      <td>1</td>\n",
       "      <td>1</td>\n",
       "      <td>1</td>\n",
       "      <td>1</td>\n",
       "      <td>1</td>\n",
       "    </tr>\n",
       "    <tr>\n",
       "      <th>Scasat</th>\n",
       "      <td>0.99402</td>\n",
       "      <td>0.984255</td>\n",
       "      <td>0.99402</td>\n",
       "      <td>0.991814</td>\n",
       "      <td>0.98177</td>\n",
       "      <td>0.992702</td>\n",
       "      <td>0.99186</td>\n",
       "      <td>0.981872</td>\n",
       "      <td>0.992735</td>\n",
       "    </tr>\n",
       "    <tr>\n",
       "      <th>scABC</th>\n",
       "      <td>0.625386</td>\n",
       "      <td>0.65761</td>\n",
       "      <td>0.81288</td>\n",
       "      <td>0.762979</td>\n",
       "      <td>0.800656</td>\n",
       "      <td>0.837973</td>\n",
       "      <td>0.678197</td>\n",
       "      <td>0.726589</td>\n",
       "      <td>0.838614</td>\n",
       "    </tr>\n",
       "    <tr>\n",
       "      <th>SCRAT</th>\n",
       "      <td>0.713639</td>\n",
       "      <td>0.631533</td>\n",
       "      <td>0.642085</td>\n",
       "      <td>0.780723</td>\n",
       "      <td>0.736164</td>\n",
       "      <td>0.748453</td>\n",
       "      <td>0.780032</td>\n",
       "      <td>0.736826</td>\n",
       "      <td>0.737397</td>\n",
       "    </tr>\n",
       "    <tr>\n",
       "      <th>SCRAT_pca</th>\n",
       "      <td>0.695512</td>\n",
       "      <td>0.628438</td>\n",
       "      <td>0.609265</td>\n",
       "      <td>0.777893</td>\n",
       "      <td>0.734144</td>\n",
       "      <td>0.738379</td>\n",
       "      <td>0.778124</td>\n",
       "      <td>0.734896</td>\n",
       "      <td>0.72327</td>\n",
       "    </tr>\n",
       "  </tbody>\n",
       "</table>\n",
       "</div>"
      ],
      "text/plain": [
       "                    ARI_Louvain ARI_kmeans    ARI_HC AMI_Louvain AMI_kmeans  \\\n",
       "Control                0.990084    0.98421  0.988131    0.987472   0.981477   \n",
       "BROCKMAN               0.982333   0.831069   0.85348    0.980535   0.857435   \n",
       "Cusanovich2018                1   0.772794  0.997997           1   0.899824   \n",
       "cisTopic                      1          1         1           1          1   \n",
       "chromVAR_kmers         0.843163   0.799171   0.76985    0.868031   0.842185   \n",
       "chromVAR_motifs        0.512253   0.504477  0.505056    0.654553   0.656979   \n",
       "chromVAR_kmers_pca     0.839422   0.884756   0.78633    0.879319   0.897241   \n",
       "chromVAR_motifs_pca     0.64132   0.509436  0.505189    0.724372   0.656391   \n",
       "GeneScoring           0.0618276   0.454361  0.391331   0.0729624   0.561881   \n",
       "GeneScoring_pca        0.408209   0.428704  0.442471    0.559569   0.526914   \n",
       "Cicero                 0.243898   0.475872  0.523611    0.331234    0.71664   \n",
       "Cicero_pca             0.608853   0.653923    0.5907    0.725897   0.764528   \n",
       "SnapATAC                      1          1         1           1          1   \n",
       "Scasat                  0.99402   0.984255   0.99402    0.991814    0.98177   \n",
       "scABC                  0.625386    0.65761   0.81288    0.762979   0.800656   \n",
       "SCRAT                  0.713639   0.631533  0.642085    0.780723   0.736164   \n",
       "SCRAT_pca              0.695512   0.628438  0.609265    0.777893   0.734144   \n",
       "\n",
       "                       AMI_HC Homogeneity_Louvain Homogeneity_kmeans  \\\n",
       "Control              0.985582            0.987544           0.981562   \n",
       "BROCKMAN             0.896508             0.98062           0.858096   \n",
       "Cusanovich2018       0.997053                   1           0.871049   \n",
       "cisTopic                    1                   1                  1   \n",
       "chromVAR_kmers       0.812872            0.867396           0.842316   \n",
       "chromVAR_motifs      0.647731            0.654538           0.658108   \n",
       "chromVAR_kmers_pca   0.826066            0.876413           0.897375   \n",
       "chromVAR_motifs_pca  0.637485            0.724971            0.65828   \n",
       "GeneScoring          0.482972           0.0756808           0.540819   \n",
       "GeneScoring_pca       0.56194            0.533376           0.516252   \n",
       "Cicero               0.668203            0.304208           0.565448   \n",
       "Cicero_pca            0.70686            0.685718            0.74116   \n",
       "SnapATAC                    1                   1                  1   \n",
       "Scasat               0.992702             0.99186           0.981872   \n",
       "scABC                0.837973            0.678197           0.726589   \n",
       "SCRAT                0.748453            0.780032           0.736826   \n",
       "SCRAT_pca            0.738379            0.778124           0.734896   \n",
       "\n",
       "                    Homogeneity_HC  \n",
       "Control                   0.985662  \n",
       "BROCKMAN                  0.896072  \n",
       "Cusanovich2018             0.99707  \n",
       "cisTopic                         1  \n",
       "chromVAR_kmers            0.812087  \n",
       "chromVAR_motifs           0.634236  \n",
       "chromVAR_kmers_pca        0.826903  \n",
       "chromVAR_motifs_pca       0.633793  \n",
       "GeneScoring               0.454368  \n",
       "GeneScoring_pca            0.53811  \n",
       "Cicero                    0.650277  \n",
       "Cicero_pca                 0.69032  \n",
       "SnapATAC                         1  \n",
       "Scasat                    0.992735  \n",
       "scABC                     0.838614  \n",
       "SCRAT                     0.737397  \n",
       "SCRAT_pca                  0.72327  "
      ]
     },
     "execution_count": 10,
     "metadata": {},
     "output_type": "execute_result"
    }
   ],
   "source": [
    "df_metrics"
   ]
  },
  {
   "cell_type": "code",
   "execution_count": null,
   "metadata": {},
   "outputs": [],
   "source": []
  }
 ],
 "metadata": {
  "kernelspec": {
   "display_name": "Python [conda env:ATACseq_clustering]",
   "language": "python",
   "name": "conda-env-ATACseq_clustering-py"
  },
  "language_info": {
   "codemirror_mode": {
    "name": "ipython",
    "version": 3
   },
   "file_extension": ".py",
   "mimetype": "text/x-python",
   "name": "python",
   "nbconvert_exporter": "python",
   "pygments_lexer": "ipython3",
   "version": "3.7.3"
  }
 },
 "nbformat": 4,
 "nbformat_minor": 2
}
