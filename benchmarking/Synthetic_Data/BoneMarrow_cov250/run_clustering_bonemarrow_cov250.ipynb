{
 "cells": [
  {
   "cell_type": "code",
   "execution_count": 1,
   "metadata": {},
   "outputs": [],
   "source": [
    "import pandas as pd\n",
    "import numpy as np\n",
    "import scanpy as sc\n",
    "import os\n",
    "from sklearn.cluster import KMeans\n",
    "from sklearn.cluster import AgglomerativeClustering\n",
    "from sklearn.metrics.cluster import adjusted_rand_score\n",
    "from sklearn.metrics.cluster import adjusted_mutual_info_score\n",
    "from sklearn.metrics.cluster import homogeneity_score\n",
    "import rpy2.robjects as robjects\n",
    "from rpy2.robjects import pandas2ri"
   ]
  },
  {
   "cell_type": "code",
   "execution_count": 2,
   "metadata": {},
   "outputs": [],
   "source": [
    "df_metrics = pd.DataFrame(columns=['ARI_Louvain','ARI_kmeans','ARI_HC',\n",
    "                                   'AMI_Louvain','AMI_kmeans','AMI_HC',\n",
    "                                   'Homogeneity_Louvain','Homogeneity_kmeans','Homogeneity_HC'])"
   ]
  },
  {
   "cell_type": "code",
   "execution_count": 3,
   "metadata": {},
   "outputs": [
    {
     "data": {
      "text/plain": [
       "0"
      ]
     },
     "execution_count": 3,
     "metadata": {},
     "output_type": "execute_result"
    }
   ],
   "source": [
    "workdir = './output/'\n",
    "path_fm = os.path.join(workdir,'feature_matrices/')\n",
    "path_clusters = os.path.join(workdir,'clusters/')\n",
    "path_metrics = os.path.join(workdir,'metrics/')\n",
    "os.system('mkdir -p '+path_clusters)\n",
    "os.system('mkdir -p '+path_metrics)"
   ]
  },
  {
   "cell_type": "code",
   "execution_count": 4,
   "metadata": {},
   "outputs": [],
   "source": [
    "metadata = pd.read_csv('./input/metadata.tsv',sep='\\t',index_col=0)\n",
    "num_clusters = len(np.unique(metadata['label']))"
   ]
  },
  {
   "cell_type": "code",
   "execution_count": 5,
   "metadata": {},
   "outputs": [
    {
     "data": {
      "text/plain": [
       "17"
      ]
     },
     "execution_count": 5,
     "metadata": {},
     "output_type": "execute_result"
    }
   ],
   "source": [
    "files = [x for x in os.listdir(path_fm) if x.startswith('FM')]\n",
    "len(files)"
   ]
  },
  {
   "cell_type": "code",
   "execution_count": 6,
   "metadata": {},
   "outputs": [
    {
     "data": {
      "text/plain": [
       "['FM_Control_BMcov250.rds',\n",
       " 'FM_BROCKMAN_BMcov250.rds',\n",
       " 'FM_Cusanovich2018_BMcov250.rds',\n",
       " 'FM_cisTopic_BMcov250.rds',\n",
       " 'FM_chromVAR_BMcov250_kmers.rds',\n",
       " 'FM_chromVAR_BMcov250_motifs.rds',\n",
       " 'FM_chromVAR_BMcov250_kmers_pca.rds',\n",
       " 'FM_chromVAR_BMcov250_motifs_pca.rds',\n",
       " 'FM_GeneScoring_BMcov250.rds',\n",
       " 'FM_GeneScoring_BMcov250_pca.rds',\n",
       " 'FM_Cicero_BMcov250.rds',\n",
       " 'FM_Cicero_BMcov250_pca.rds',\n",
       " 'FM_SnapATAC_BMcov250.rds',\n",
       " 'FM_Scasat_BMcov250.rds',\n",
       " 'FM_scABC_BMcov250.rds',\n",
       " 'FM_SCRAT_BMcov250.rds',\n",
       " 'FM_SCRAT_BMcov250_pca.rds']"
      ]
     },
     "execution_count": 6,
     "metadata": {},
     "output_type": "execute_result"
    }
   ],
   "source": [
    "files"
   ]
  },
  {
   "cell_type": "code",
   "execution_count": 7,
   "metadata": {},
   "outputs": [],
   "source": [
    "def getNClusters(adata,n_cluster,range_min=0,range_max=3,max_steps=20):\n",
    "    this_step = 0\n",
    "    this_min = float(range_min)\n",
    "    this_max = float(range_max)\n",
    "    while this_step < max_steps:\n",
    "        print('step ' + str(this_step))\n",
    "        this_resolution = this_min + ((this_max-this_min)/2)\n",
    "        sc.tl.louvain(adata,resolution=this_resolution)\n",
    "        this_clusters = adata.obs['louvain'].nunique()\n",
    "        \n",
    "        print('got ' + str(this_clusters) + ' at resolution ' + str(this_resolution))\n",
    "        \n",
    "        if this_clusters > n_cluster:\n",
    "            this_max = this_resolution\n",
    "        elif this_clusters < n_cluster:\n",
    "            this_min = this_resolution\n",
    "        else:\n",
    "            return(this_resolution, adata)\n",
    "        this_step += 1\n",
    "    \n",
    "    print('Cannot find the number of clusters')\n",
    "    print('Clustering solution from last iteration is used:' + str(this_clusters) + ' at resolution ' + str(this_resolution))"
   ]
  },
  {
   "cell_type": "code",
   "execution_count": 8,
   "metadata": {
    "scrolled": false
   },
   "outputs": [
    {
     "name": "stdout",
     "output_type": "stream",
     "text": [
      "Control\n"
     ]
    },
    {
     "name": "stderr",
     "output_type": "stream",
     "text": [
      "/data/pinello/SHARED_SOFTWARE/anaconda3/envs/ATACseq_clustering/lib/python3.7/site-packages/rpy2/robjects/pandas2ri.py:191: FutureWarning: from_items is deprecated. Please use DataFrame.from_dict(dict(items), ...) instead. DataFrame.from_dict(OrderedDict(items)) may be used to preserve the key order.\n",
      "  res = PandasDataFrame.from_items(items)\n"
     ]
    },
    {
     "name": "stdout",
     "output_type": "stream",
     "text": [
      "step 0\n",
      "got 12 at resolution 1.5\n",
      "step 1\n",
      "got 4 at resolution 0.75\n",
      "step 2\n",
      "got 6 at resolution 1.125\n",
      "BROCKMAN\n"
     ]
    },
    {
     "name": "stderr",
     "output_type": "stream",
     "text": [
      "/data/pinello/SHARED_SOFTWARE/anaconda3/envs/ATACseq_clustering/lib/python3.7/site-packages/rpy2/robjects/pandas2ri.py:191: FutureWarning: from_items is deprecated. Please use DataFrame.from_dict(dict(items), ...) instead. DataFrame.from_dict(OrderedDict(items)) may be used to preserve the key order.\n",
      "  res = PandasDataFrame.from_items(items)\n"
     ]
    },
    {
     "name": "stdout",
     "output_type": "stream",
     "text": [
      "step 0\n",
      "got 10 at resolution 1.5\n",
      "step 1\n",
      "got 6 at resolution 0.75\n",
      "Cusanovich2018\n"
     ]
    },
    {
     "name": "stderr",
     "output_type": "stream",
     "text": [
      "/data/pinello/SHARED_SOFTWARE/anaconda3/envs/ATACseq_clustering/lib/python3.7/site-packages/rpy2/robjects/pandas2ri.py:191: FutureWarning: from_items is deprecated. Please use DataFrame.from_dict(dict(items), ...) instead. DataFrame.from_dict(OrderedDict(items)) may be used to preserve the key order.\n",
      "  res = PandasDataFrame.from_items(items)\n"
     ]
    },
    {
     "name": "stdout",
     "output_type": "stream",
     "text": [
      "step 0\n",
      "got 10 at resolution 1.5\n",
      "step 1\n",
      "got 3 at resolution 0.75\n",
      "step 2\n",
      "got 6 at resolution 1.125\n",
      "cisTopic\n"
     ]
    },
    {
     "name": "stderr",
     "output_type": "stream",
     "text": [
      "/data/pinello/SHARED_SOFTWARE/anaconda3/envs/ATACseq_clustering/lib/python3.7/site-packages/rpy2/robjects/pandas2ri.py:191: FutureWarning: from_items is deprecated. Please use DataFrame.from_dict(dict(items), ...) instead. DataFrame.from_dict(OrderedDict(items)) may be used to preserve the key order.\n",
      "  res = PandasDataFrame.from_items(items)\n"
     ]
    },
    {
     "name": "stdout",
     "output_type": "stream",
     "text": [
      "step 0\n",
      "got 13 at resolution 1.5\n",
      "step 1\n",
      "got 8 at resolution 0.75\n",
      "step 2\n",
      "got 2 at resolution 0.375\n",
      "step 3\n",
      "got 4 at resolution 0.5625\n",
      "step 4\n",
      "got 5 at resolution 0.65625\n",
      "step 5\n",
      "got 5 at resolution 0.703125\n",
      "step 6\n",
      "got 7 at resolution 0.7265625\n",
      "step 7\n",
      "got 6 at resolution 0.71484375\n",
      "chromVAR_kmers\n"
     ]
    },
    {
     "name": "stderr",
     "output_type": "stream",
     "text": [
      "/data/pinello/SHARED_SOFTWARE/anaconda3/envs/ATACseq_clustering/lib/python3.7/site-packages/rpy2/robjects/pandas2ri.py:191: FutureWarning: from_items is deprecated. Please use DataFrame.from_dict(dict(items), ...) instead. DataFrame.from_dict(OrderedDict(items)) may be used to preserve the key order.\n",
      "  res = PandasDataFrame.from_items(items)\n"
     ]
    },
    {
     "name": "stdout",
     "output_type": "stream",
     "text": [
      "step 0\n",
      "got 23 at resolution 1.5\n",
      "step 1\n",
      "got 3 at resolution 0.75\n",
      "step 2\n",
      "got 8 at resolution 1.125\n",
      "step 3\n",
      "got 4 at resolution 0.9375\n",
      "step 4\n",
      "got 5 at resolution 1.03125\n",
      "step 5\n",
      "got 7 at resolution 1.078125\n",
      "step 6\n",
      "got 7 at resolution 1.0546875\n",
      "step 7\n",
      "got 6 at resolution 1.04296875\n",
      "chromVAR_motifs\n"
     ]
    },
    {
     "name": "stderr",
     "output_type": "stream",
     "text": [
      "/data/pinello/SHARED_SOFTWARE/anaconda3/envs/ATACseq_clustering/lib/python3.7/site-packages/rpy2/robjects/pandas2ri.py:191: FutureWarning: from_items is deprecated. Please use DataFrame.from_dict(dict(items), ...) instead. DataFrame.from_dict(OrderedDict(items)) may be used to preserve the key order.\n",
      "  res = PandasDataFrame.from_items(items)\n"
     ]
    },
    {
     "name": "stdout",
     "output_type": "stream",
     "text": [
      "step 0\n",
      "got 14 at resolution 1.5\n",
      "step 1\n",
      "got 3 at resolution 0.75\n",
      "step 2\n",
      "got 6 at resolution 1.125\n",
      "chromVAR_kmers_pca\n"
     ]
    },
    {
     "name": "stderr",
     "output_type": "stream",
     "text": [
      "/data/pinello/SHARED_SOFTWARE/anaconda3/envs/ATACseq_clustering/lib/python3.7/site-packages/rpy2/robjects/pandas2ri.py:191: FutureWarning: from_items is deprecated. Please use DataFrame.from_dict(dict(items), ...) instead. DataFrame.from_dict(OrderedDict(items)) may be used to preserve the key order.\n",
      "  res = PandasDataFrame.from_items(items)\n"
     ]
    },
    {
     "name": "stdout",
     "output_type": "stream",
     "text": [
      "step 0\n",
      "got 15 at resolution 1.5\n",
      "step 1\n",
      "got 3 at resolution 0.75\n",
      "step 2\n",
      "got 6 at resolution 1.125\n",
      "chromVAR_motifs_pca\n"
     ]
    },
    {
     "name": "stderr",
     "output_type": "stream",
     "text": [
      "/data/pinello/SHARED_SOFTWARE/anaconda3/envs/ATACseq_clustering/lib/python3.7/site-packages/rpy2/robjects/pandas2ri.py:191: FutureWarning: from_items is deprecated. Please use DataFrame.from_dict(dict(items), ...) instead. DataFrame.from_dict(OrderedDict(items)) may be used to preserve the key order.\n",
      "  res = PandasDataFrame.from_items(items)\n"
     ]
    },
    {
     "name": "stdout",
     "output_type": "stream",
     "text": [
      "step 0\n",
      "got 14 at resolution 1.5\n",
      "step 1\n",
      "got 3 at resolution 0.75\n",
      "step 2\n",
      "got 7 at resolution 1.125\n",
      "step 3\n",
      "got 5 at resolution 0.9375\n",
      "step 4\n",
      "got 6 at resolution 1.03125\n",
      "GeneScoring\n"
     ]
    },
    {
     "name": "stderr",
     "output_type": "stream",
     "text": [
      "/data/pinello/SHARED_SOFTWARE/anaconda3/envs/ATACseq_clustering/lib/python3.7/site-packages/rpy2/robjects/pandas2ri.py:191: FutureWarning: from_items is deprecated. Please use DataFrame.from_dict(dict(items), ...) instead. DataFrame.from_dict(OrderedDict(items)) may be used to preserve the key order.\n",
      "  res = PandasDataFrame.from_items(items)\n"
     ]
    },
    {
     "name": "stdout",
     "output_type": "stream",
     "text": [
      "step 0\n",
      "got 35 at resolution 1.5\n",
      "step 1\n",
      "got 3 at resolution 0.75\n",
      "step 2\n",
      "got 19 at resolution 1.125\n",
      "step 3\n",
      "got 8 at resolution 0.9375\n",
      "step 4\n",
      "got 5 at resolution 0.84375\n",
      "step 5\n",
      "got 5 at resolution 0.890625\n",
      "step 6\n",
      "got 7 at resolution 0.9140625\n",
      "step 7\n",
      "got 6 at resolution 0.90234375\n",
      "GeneScoring_pca\n"
     ]
    },
    {
     "name": "stderr",
     "output_type": "stream",
     "text": [
      "/data/pinello/SHARED_SOFTWARE/anaconda3/envs/ATACseq_clustering/lib/python3.7/site-packages/rpy2/robjects/pandas2ri.py:191: FutureWarning: from_items is deprecated. Please use DataFrame.from_dict(dict(items), ...) instead. DataFrame.from_dict(OrderedDict(items)) may be used to preserve the key order.\n",
      "  res = PandasDataFrame.from_items(items)\n"
     ]
    },
    {
     "name": "stdout",
     "output_type": "stream",
     "text": [
      "step 0\n",
      "got 20 at resolution 1.5\n",
      "step 1\n",
      "got 12 at resolution 0.75\n",
      "step 2\n",
      "got 6 at resolution 0.375\n",
      "Cicero\n"
     ]
    },
    {
     "name": "stderr",
     "output_type": "stream",
     "text": [
      "/data/pinello/SHARED_SOFTWARE/anaconda3/envs/ATACseq_clustering/lib/python3.7/site-packages/rpy2/robjects/pandas2ri.py:191: FutureWarning: from_items is deprecated. Please use DataFrame.from_dict(dict(items), ...) instead. DataFrame.from_dict(OrderedDict(items)) may be used to preserve the key order.\n",
      "  res = PandasDataFrame.from_items(items)\n"
     ]
    },
    {
     "name": "stdout",
     "output_type": "stream",
     "text": [
      "step 0\n",
      "got 38 at resolution 1.5\n",
      "step 1\n",
      "got 1 at resolution 0.75\n",
      "step 2\n",
      "got 18 at resolution 1.125\n",
      "step 3\n",
      "got 5 at resolution 0.9375\n",
      "step 4\n",
      "got 13 at resolution 1.03125\n",
      "step 5\n",
      "got 11 at resolution 0.984375\n",
      "step 6\n",
      "got 9 at resolution 0.9609375\n",
      "step 7\n",
      "got 8 at resolution 0.94921875\n",
      "step 8\n",
      "got 8 at resolution 0.943359375\n",
      "step 9\n",
      "got 7 at resolution 0.9404296875\n",
      "step 10\n",
      "got 7 at resolution 0.93896484375\n",
      "step 11\n",
      "got 7 at resolution 0.938232421875\n",
      "step 12\n",
      "got 6 at resolution 0.9378662109375\n",
      "Cicero_pca\n"
     ]
    },
    {
     "name": "stderr",
     "output_type": "stream",
     "text": [
      "/data/pinello/SHARED_SOFTWARE/anaconda3/envs/ATACseq_clustering/lib/python3.7/site-packages/rpy2/robjects/pandas2ri.py:191: FutureWarning: from_items is deprecated. Please use DataFrame.from_dict(dict(items), ...) instead. DataFrame.from_dict(OrderedDict(items)) may be used to preserve the key order.\n",
      "  res = PandasDataFrame.from_items(items)\n"
     ]
    },
    {
     "name": "stdout",
     "output_type": "stream",
     "text": [
      "step 0\n",
      "got 14 at resolution 1.5\n",
      "step 1\n",
      "got 6 at resolution 0.75\n",
      "SnapATAC\n"
     ]
    },
    {
     "name": "stderr",
     "output_type": "stream",
     "text": [
      "/data/pinello/SHARED_SOFTWARE/anaconda3/envs/ATACseq_clustering/lib/python3.7/site-packages/rpy2/robjects/pandas2ri.py:191: FutureWarning: from_items is deprecated. Please use DataFrame.from_dict(dict(items), ...) instead. DataFrame.from_dict(OrderedDict(items)) may be used to preserve the key order.\n",
      "  res = PandasDataFrame.from_items(items)\n"
     ]
    },
    {
     "name": "stdout",
     "output_type": "stream",
     "text": [
      "step 0\n",
      "got 10 at resolution 1.5\n",
      "step 1\n",
      "got 3 at resolution 0.75\n",
      "step 2\n",
      "got 6 at resolution 1.125\n",
      "Scasat\n"
     ]
    },
    {
     "name": "stderr",
     "output_type": "stream",
     "text": [
      "/data/pinello/SHARED_SOFTWARE/anaconda3/envs/ATACseq_clustering/lib/python3.7/site-packages/rpy2/robjects/pandas2ri.py:191: FutureWarning: from_items is deprecated. Please use DataFrame.from_dict(dict(items), ...) instead. DataFrame.from_dict(OrderedDict(items)) may be used to preserve the key order.\n",
      "  res = PandasDataFrame.from_items(items)\n"
     ]
    },
    {
     "name": "stdout",
     "output_type": "stream",
     "text": [
      "step 0\n",
      "got 13 at resolution 1.5\n",
      "step 1\n",
      "got 3 at resolution 0.75\n",
      "step 2\n",
      "got 6 at resolution 1.125\n",
      "scABC\n"
     ]
    },
    {
     "name": "stderr",
     "output_type": "stream",
     "text": [
      "/data/pinello/SHARED_SOFTWARE/anaconda3/envs/ATACseq_clustering/lib/python3.7/site-packages/rpy2/robjects/pandas2ri.py:191: FutureWarning: from_items is deprecated. Please use DataFrame.from_dict(dict(items), ...) instead. DataFrame.from_dict(OrderedDict(items)) may be used to preserve the key order.\n",
      "  res = PandasDataFrame.from_items(items)\n"
     ]
    },
    {
     "name": "stdout",
     "output_type": "stream",
     "text": [
      "step 0\n",
      "got 28 at resolution 1.5\n",
      "step 1\n",
      "got 1 at resolution 0.75\n",
      "step 2\n",
      "got 16 at resolution 1.125\n",
      "step 3\n",
      "got 5 at resolution 0.9375\n",
      "step 4\n",
      "got 13 at resolution 1.03125\n",
      "step 5\n",
      "got 10 at resolution 0.984375\n",
      "step 6\n",
      "got 8 at resolution 0.9609375\n",
      "step 7\n",
      "got 7 at resolution 0.94921875\n",
      "step 8\n",
      "got 8 at resolution 0.943359375\n",
      "step 9\n",
      "got 7 at resolution 0.9404296875\n",
      "step 10\n",
      "got 6 at resolution 0.93896484375\n",
      "SCRAT\n"
     ]
    },
    {
     "name": "stderr",
     "output_type": "stream",
     "text": [
      "/data/pinello/SHARED_SOFTWARE/anaconda3/envs/ATACseq_clustering/lib/python3.7/site-packages/rpy2/robjects/pandas2ri.py:191: FutureWarning: from_items is deprecated. Please use DataFrame.from_dict(dict(items), ...) instead. DataFrame.from_dict(OrderedDict(items)) may be used to preserve the key order.\n",
      "  res = PandasDataFrame.from_items(items)\n"
     ]
    },
    {
     "name": "stdout",
     "output_type": "stream",
     "text": [
      "step 0\n",
      "got 9 at resolution 1.5\n",
      "step 1\n",
      "got 4 at resolution 0.75\n",
      "step 2\n",
      "got 7 at resolution 1.125\n",
      "step 3\n",
      "got 6 at resolution 0.9375\n",
      "SCRAT_pca\n"
     ]
    },
    {
     "name": "stderr",
     "output_type": "stream",
     "text": [
      "/data/pinello/SHARED_SOFTWARE/anaconda3/envs/ATACseq_clustering/lib/python3.7/site-packages/rpy2/robjects/pandas2ri.py:191: FutureWarning: from_items is deprecated. Please use DataFrame.from_dict(dict(items), ...) instead. DataFrame.from_dict(OrderedDict(items)) may be used to preserve the key order.\n",
      "  res = PandasDataFrame.from_items(items)\n"
     ]
    },
    {
     "name": "stdout",
     "output_type": "stream",
     "text": [
      "step 0\n",
      "got 12 at resolution 1.5\n",
      "step 1\n",
      "got 6 at resolution 0.75\n"
     ]
    }
   ],
   "source": [
    "for file in files:\n",
    "    file_split = file.split('_')\n",
    "    method = file_split[1]\n",
    "    dataset = file_split[2].split('.')[0]\n",
    "    if(len(file_split)>3):\n",
    "        method = method + '_' + '_'.join(file_split[3:]).split('.')[0]\n",
    "    print(method)\n",
    "\n",
    "    pandas2ri.activate()\n",
    "    readRDS = robjects.r['readRDS']\n",
    "    df_rds = readRDS(os.path.join(path_fm,file))\n",
    "    fm_mat = pandas2ri.ri2py(robjects.r['data.frame'](robjects.r['as.matrix'](df_rds)))\n",
    "    fm_mat.columns = metadata.index\n",
    "    \n",
    "    adata = sc.AnnData(fm_mat.T)\n",
    "    adata.var_names_make_unique()\n",
    "    adata.obs = metadata.loc[adata.obs.index,]\n",
    "    df_metrics.loc[method,] = \"\"\n",
    "    #Louvain\n",
    "    sc.pp.neighbors(adata, n_neighbors=15,use_rep='X')\n",
    "#     sc.tl.louvain(adata)\n",
    "    getNClusters(adata,n_cluster=num_clusters)\n",
    "    #kmeans\n",
    "    kmeans = KMeans(n_clusters=num_clusters, random_state=2019).fit(adata.X)\n",
    "    adata.obs['kmeans'] = pd.Series(kmeans.labels_,index=adata.obs.index).astype('category')\n",
    "    #hierachical clustering\n",
    "    hc = AgglomerativeClustering(n_clusters=num_clusters).fit(adata.X)\n",
    "    adata.obs['hc'] = pd.Series(hc.labels_,index=adata.obs.index).astype('category')\n",
    "    #clustering metrics\n",
    "    \n",
    "    #adjusted rank index\n",
    "    ari_louvain = adjusted_rand_score(adata.obs['label'], adata.obs['louvain'])\n",
    "    ari_kmeans = adjusted_rand_score(adata.obs['label'], adata.obs['kmeans'])\n",
    "    ari_hc = adjusted_rand_score(adata.obs['label'], adata.obs['hc'])\n",
    "    #adjusted mutual information\n",
    "    ami_louvain = adjusted_mutual_info_score(adata.obs['label'], adata.obs['louvain'],average_method='arithmetic')\n",
    "    ami_kmeans = adjusted_mutual_info_score(adata.obs['label'], adata.obs['kmeans'],average_method='arithmetic')   \n",
    "    ami_hc = adjusted_mutual_info_score(adata.obs['label'], adata.obs['hc'],average_method='arithmetic')\n",
    "    #homogeneity\n",
    "    homo_louvain = homogeneity_score(adata.obs['label'], adata.obs['louvain'])\n",
    "    homo_kmeans = homogeneity_score(adata.obs['label'], adata.obs['kmeans'])\n",
    "    homo_hc = homogeneity_score(adata.obs['label'], adata.obs['hc'])\n",
    "\n",
    "    df_metrics.loc[method,['ARI_Louvain','ARI_kmeans','ARI_HC']] = [ari_louvain,ari_kmeans,ari_hc]\n",
    "    df_metrics.loc[method,['AMI_Louvain','AMI_kmeans','AMI_HC']] = [ami_louvain,ami_kmeans,ami_hc]\n",
    "    df_metrics.loc[method,['Homogeneity_Louvain','Homogeneity_kmeans','Homogeneity_HC']] = [homo_louvain,homo_kmeans,homo_hc] \n",
    "    adata.obs[['louvain','kmeans','hc']].to_csv(os.path.join(path_clusters ,method + '_clusters.tsv'),sep='\\t')"
   ]
  },
  {
   "cell_type": "code",
   "execution_count": 9,
   "metadata": {},
   "outputs": [],
   "source": [
    "df_metrics.to_csv(path_metrics+'clustering_scores.csv')"
   ]
  },
  {
   "cell_type": "code",
   "execution_count": 10,
   "metadata": {},
   "outputs": [
    {
     "data": {
      "text/html": [
       "<div>\n",
       "<style scoped>\n",
       "    .dataframe tbody tr th:only-of-type {\n",
       "        vertical-align: middle;\n",
       "    }\n",
       "\n",
       "    .dataframe tbody tr th {\n",
       "        vertical-align: top;\n",
       "    }\n",
       "\n",
       "    .dataframe thead th {\n",
       "        text-align: right;\n",
       "    }\n",
       "</style>\n",
       "<table border=\"1\" class=\"dataframe\">\n",
       "  <thead>\n",
       "    <tr style=\"text-align: right;\">\n",
       "      <th></th>\n",
       "      <th>ARI_Louvain</th>\n",
       "      <th>ARI_kmeans</th>\n",
       "      <th>ARI_HC</th>\n",
       "      <th>AMI_Louvain</th>\n",
       "      <th>AMI_kmeans</th>\n",
       "      <th>AMI_HC</th>\n",
       "      <th>Homogeneity_Louvain</th>\n",
       "      <th>Homogeneity_kmeans</th>\n",
       "      <th>Homogeneity_HC</th>\n",
       "    </tr>\n",
       "  </thead>\n",
       "  <tbody>\n",
       "    <tr>\n",
       "      <th>Control</th>\n",
       "      <td>0.436509</td>\n",
       "      <td>0.432355</td>\n",
       "      <td>0.419495</td>\n",
       "      <td>0.519116</td>\n",
       "      <td>0.512964</td>\n",
       "      <td>0.496273</td>\n",
       "      <td>0.507425</td>\n",
       "      <td>0.506057</td>\n",
       "      <td>0.481675</td>\n",
       "    </tr>\n",
       "    <tr>\n",
       "      <th>BROCKMAN</th>\n",
       "      <td>0.383853</td>\n",
       "      <td>0.2704</td>\n",
       "      <td>0.209239</td>\n",
       "      <td>0.485115</td>\n",
       "      <td>0.393496</td>\n",
       "      <td>0.350152</td>\n",
       "      <td>0.475787</td>\n",
       "      <td>0.390847</td>\n",
       "      <td>0.341665</td>\n",
       "    </tr>\n",
       "    <tr>\n",
       "      <th>Cusanovich2018</th>\n",
       "      <td>0.463964</td>\n",
       "      <td>0.466708</td>\n",
       "      <td>0.453909</td>\n",
       "      <td>0.567261</td>\n",
       "      <td>0.695973</td>\n",
       "      <td>0.658807</td>\n",
       "      <td>0.554357</td>\n",
       "      <td>0.552239</td>\n",
       "      <td>0.520299</td>\n",
       "    </tr>\n",
       "    <tr>\n",
       "      <th>cisTopic</th>\n",
       "      <td>0.23206</td>\n",
       "      <td>0.237213</td>\n",
       "      <td>0.1857</td>\n",
       "      <td>0.26956</td>\n",
       "      <td>0.300838</td>\n",
       "      <td>0.258956</td>\n",
       "      <td>0.272064</td>\n",
       "      <td>0.304103</td>\n",
       "      <td>0.256091</td>\n",
       "    </tr>\n",
       "    <tr>\n",
       "      <th>chromVAR_kmers</th>\n",
       "      <td>0.157436</td>\n",
       "      <td>0.187673</td>\n",
       "      <td>0.100992</td>\n",
       "      <td>0.171068</td>\n",
       "      <td>0.239831</td>\n",
       "      <td>0.132838</td>\n",
       "      <td>0.172821</td>\n",
       "      <td>0.242487</td>\n",
       "      <td>0.134722</td>\n",
       "    </tr>\n",
       "    <tr>\n",
       "      <th>chromVAR_motifs</th>\n",
       "      <td>0.0182829</td>\n",
       "      <td>0.00421336</td>\n",
       "      <td>0.00778921</td>\n",
       "      <td>0.0270994</td>\n",
       "      <td>0.00588628</td>\n",
       "      <td>0.0110186</td>\n",
       "      <td>0.0318046</td>\n",
       "      <td>0.0116947</td>\n",
       "      <td>0.0165816</td>\n",
       "    </tr>\n",
       "    <tr>\n",
       "      <th>chromVAR_kmers_pca</th>\n",
       "      <td>0.213044</td>\n",
       "      <td>0.206892</td>\n",
       "      <td>0.131206</td>\n",
       "      <td>0.246701</td>\n",
       "      <td>0.257686</td>\n",
       "      <td>0.166595</td>\n",
       "      <td>0.249285</td>\n",
       "      <td>0.261157</td>\n",
       "      <td>0.165977</td>\n",
       "    </tr>\n",
       "    <tr>\n",
       "      <th>chromVAR_motifs_pca</th>\n",
       "      <td>0.0181206</td>\n",
       "      <td>0.00511444</td>\n",
       "      <td>0.00831785</td>\n",
       "      <td>0.0241337</td>\n",
       "      <td>0.00706837</td>\n",
       "      <td>0.0144193</td>\n",
       "      <td>0.0293356</td>\n",
       "      <td>0.0128519</td>\n",
       "      <td>0.0198276</td>\n",
       "    </tr>\n",
       "    <tr>\n",
       "      <th>GeneScoring</th>\n",
       "      <td>-0.000575516</td>\n",
       "      <td>0.000181295</td>\n",
       "      <td>8.45398e-05</td>\n",
       "      <td>0.00028572</td>\n",
       "      <td>0.000647666</td>\n",
       "      <td>0.00110577</td>\n",
       "      <td>0.0062593</td>\n",
       "      <td>0.00567277</td>\n",
       "      <td>0.00703753</td>\n",
       "    </tr>\n",
       "    <tr>\n",
       "      <th>GeneScoring_pca</th>\n",
       "      <td>0.00489502</td>\n",
       "      <td>0.000220458</td>\n",
       "      <td>0.000357904</td>\n",
       "      <td>0.00458554</td>\n",
       "      <td>0.00337199</td>\n",
       "      <td>0.00399909</td>\n",
       "      <td>0.00985128</td>\n",
       "      <td>0.00849958</td>\n",
       "      <td>0.00893085</td>\n",
       "    </tr>\n",
       "    <tr>\n",
       "      <th>Cicero</th>\n",
       "      <td>0.00511285</td>\n",
       "      <td>0.00129546</td>\n",
       "      <td>0.000676487</td>\n",
       "      <td>0.00749815</td>\n",
       "      <td>0.00551815</td>\n",
       "      <td>0.0189073</td>\n",
       "      <td>0.0132542</td>\n",
       "      <td>0.00840594</td>\n",
       "      <td>0.0157892</td>\n",
       "    </tr>\n",
       "    <tr>\n",
       "      <th>Cicero_pca</th>\n",
       "      <td>0.138344</td>\n",
       "      <td>0.169506</td>\n",
       "      <td>0.133869</td>\n",
       "      <td>0.147149</td>\n",
       "      <td>0.184575</td>\n",
       "      <td>0.150198</td>\n",
       "      <td>0.148612</td>\n",
       "      <td>0.183788</td>\n",
       "      <td>0.151371</td>\n",
       "    </tr>\n",
       "    <tr>\n",
       "      <th>SnapATAC</th>\n",
       "      <td>0.456709</td>\n",
       "      <td>0.452591</td>\n",
       "      <td>0.442317</td>\n",
       "      <td>0.554563</td>\n",
       "      <td>0.542329</td>\n",
       "      <td>0.539471</td>\n",
       "      <td>0.541368</td>\n",
       "      <td>0.532776</td>\n",
       "      <td>0.515763</td>\n",
       "    </tr>\n",
       "    <tr>\n",
       "      <th>Scasat</th>\n",
       "      <td>0.438832</td>\n",
       "      <td>0.422656</td>\n",
       "      <td>0.406995</td>\n",
       "      <td>0.528011</td>\n",
       "      <td>0.49924</td>\n",
       "      <td>0.490193</td>\n",
       "      <td>0.511236</td>\n",
       "      <td>0.493234</td>\n",
       "      <td>0.476979</td>\n",
       "    </tr>\n",
       "    <tr>\n",
       "      <th>scABC</th>\n",
       "      <td>0.0102605</td>\n",
       "      <td>-5.51497e-06</td>\n",
       "      <td>0.0295658</td>\n",
       "      <td>0.0190588</td>\n",
       "      <td>-0.000635829</td>\n",
       "      <td>0.0882195</td>\n",
       "      <td>0.0236311</td>\n",
       "      <td>0.00440851</td>\n",
       "      <td>0.059802</td>\n",
       "    </tr>\n",
       "    <tr>\n",
       "      <th>SCRAT</th>\n",
       "      <td>0.262336</td>\n",
       "      <td>0.176508</td>\n",
       "      <td>0.176186</td>\n",
       "      <td>0.367159</td>\n",
       "      <td>0.256473</td>\n",
       "      <td>0.30511</td>\n",
       "      <td>0.358151</td>\n",
       "      <td>0.258425</td>\n",
       "      <td>0.294334</td>\n",
       "    </tr>\n",
       "    <tr>\n",
       "      <th>SCRAT_pca</th>\n",
       "      <td>0.277325</td>\n",
       "      <td>0.166874</td>\n",
       "      <td>0.192388</td>\n",
       "      <td>0.356227</td>\n",
       "      <td>0.247448</td>\n",
       "      <td>0.305604</td>\n",
       "      <td>0.35154</td>\n",
       "      <td>0.250083</td>\n",
       "      <td>0.29697</td>\n",
       "    </tr>\n",
       "  </tbody>\n",
       "</table>\n",
       "</div>"
      ],
      "text/plain": [
       "                     ARI_Louvain   ARI_kmeans       ARI_HC AMI_Louvain  \\\n",
       "Control                 0.436509     0.432355     0.419495    0.519116   \n",
       "BROCKMAN                0.383853       0.2704     0.209239    0.485115   \n",
       "Cusanovich2018          0.463964     0.466708     0.453909    0.567261   \n",
       "cisTopic                 0.23206     0.237213       0.1857     0.26956   \n",
       "chromVAR_kmers          0.157436     0.187673     0.100992    0.171068   \n",
       "chromVAR_motifs        0.0182829   0.00421336   0.00778921   0.0270994   \n",
       "chromVAR_kmers_pca      0.213044     0.206892     0.131206    0.246701   \n",
       "chromVAR_motifs_pca    0.0181206   0.00511444   0.00831785   0.0241337   \n",
       "GeneScoring         -0.000575516  0.000181295  8.45398e-05  0.00028572   \n",
       "GeneScoring_pca       0.00489502  0.000220458  0.000357904  0.00458554   \n",
       "Cicero                0.00511285   0.00129546  0.000676487  0.00749815   \n",
       "Cicero_pca              0.138344     0.169506     0.133869    0.147149   \n",
       "SnapATAC                0.456709     0.452591     0.442317    0.554563   \n",
       "Scasat                  0.438832     0.422656     0.406995    0.528011   \n",
       "scABC                  0.0102605 -5.51497e-06    0.0295658   0.0190588   \n",
       "SCRAT                   0.262336     0.176508     0.176186    0.367159   \n",
       "SCRAT_pca               0.277325     0.166874     0.192388    0.356227   \n",
       "\n",
       "                      AMI_kmeans      AMI_HC Homogeneity_Louvain  \\\n",
       "Control                 0.512964    0.496273            0.507425   \n",
       "BROCKMAN                0.393496    0.350152            0.475787   \n",
       "Cusanovich2018          0.695973    0.658807            0.554357   \n",
       "cisTopic                0.300838    0.258956            0.272064   \n",
       "chromVAR_kmers          0.239831    0.132838            0.172821   \n",
       "chromVAR_motifs       0.00588628   0.0110186           0.0318046   \n",
       "chromVAR_kmers_pca      0.257686    0.166595            0.249285   \n",
       "chromVAR_motifs_pca   0.00706837   0.0144193           0.0293356   \n",
       "GeneScoring          0.000647666  0.00110577           0.0062593   \n",
       "GeneScoring_pca       0.00337199  0.00399909          0.00985128   \n",
       "Cicero                0.00551815   0.0189073           0.0132542   \n",
       "Cicero_pca              0.184575    0.150198            0.148612   \n",
       "SnapATAC                0.542329    0.539471            0.541368   \n",
       "Scasat                   0.49924    0.490193            0.511236   \n",
       "scABC               -0.000635829   0.0882195           0.0236311   \n",
       "SCRAT                   0.256473     0.30511            0.358151   \n",
       "SCRAT_pca               0.247448    0.305604             0.35154   \n",
       "\n",
       "                    Homogeneity_kmeans Homogeneity_HC  \n",
       "Control                       0.506057       0.481675  \n",
       "BROCKMAN                      0.390847       0.341665  \n",
       "Cusanovich2018                0.552239       0.520299  \n",
       "cisTopic                      0.304103       0.256091  \n",
       "chromVAR_kmers                0.242487       0.134722  \n",
       "chromVAR_motifs              0.0116947      0.0165816  \n",
       "chromVAR_kmers_pca            0.261157       0.165977  \n",
       "chromVAR_motifs_pca          0.0128519      0.0198276  \n",
       "GeneScoring                 0.00567277     0.00703753  \n",
       "GeneScoring_pca             0.00849958     0.00893085  \n",
       "Cicero                      0.00840594      0.0157892  \n",
       "Cicero_pca                    0.183788       0.151371  \n",
       "SnapATAC                      0.532776       0.515763  \n",
       "Scasat                        0.493234       0.476979  \n",
       "scABC                       0.00440851       0.059802  \n",
       "SCRAT                         0.258425       0.294334  \n",
       "SCRAT_pca                     0.250083        0.29697  "
      ]
     },
     "execution_count": 10,
     "metadata": {},
     "output_type": "execute_result"
    }
   ],
   "source": [
    "df_metrics"
   ]
  },
  {
   "cell_type": "code",
   "execution_count": null,
   "metadata": {},
   "outputs": [],
   "source": []
  }
 ],
 "metadata": {
  "kernelspec": {
   "display_name": "Python [conda env:ATACseq_clustering]",
   "language": "python",
   "name": "conda-env-ATACseq_clustering-py"
  },
  "language_info": {
   "codemirror_mode": {
    "name": "ipython",
    "version": 3
   },
   "file_extension": ".py",
   "mimetype": "text/x-python",
   "name": "python",
   "nbconvert_exporter": "python",
   "pygments_lexer": "ipython3",
   "version": "3.7.3"
  }
 },
 "nbformat": 4,
 "nbformat_minor": 2
}
