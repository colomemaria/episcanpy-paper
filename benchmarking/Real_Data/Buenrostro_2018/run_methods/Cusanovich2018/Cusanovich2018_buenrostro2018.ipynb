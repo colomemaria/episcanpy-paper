{
 "cells": [
  {
   "cell_type": "markdown",
   "metadata": {},
   "source": [
    "### Import packages"
   ]
  },
  {
   "cell_type": "code",
   "execution_count": 1,
   "metadata": {},
   "outputs": [
    {
     "name": "stderr",
     "output_type": "stream",
     "text": [
      "\n",
      "Attaching package: ‘proxy’\n",
      "\n",
      "The following object is masked from ‘package:Matrix’:\n",
      "\n",
      "    as.matrix\n",
      "\n",
      "The following objects are masked from ‘package:stats’:\n",
      "\n",
      "    as.dist, dist\n",
      "\n",
      "The following object is masked from ‘package:base’:\n",
      "\n",
      "    as.matrix\n",
      "\n"
     ]
    }
   ],
   "source": [
    "library(data.table)\n",
    "library(Matrix)\n",
    "library(proxy)\n",
    "library(Rtsne)\n",
    "library(densityClust)\n",
    "library(data.table)\n",
    "library(irlba)\n",
    "library(umap)\n",
    "library(ggplot2)"
   ]
  },
  {
   "cell_type": "code",
   "execution_count": null,
   "metadata": {},
   "outputs": [],
   "source": []
  },
  {
   "cell_type": "markdown",
   "metadata": {},
   "source": [
    "### Preprocess"
   ]
  },
  {
   "cell_type": "markdown",
   "metadata": {},
   "source": [
    "`bsub < count_reads_peaks.sh`"
   ]
  },
  {
   "cell_type": "code",
   "execution_count": 2,
   "metadata": {},
   "outputs": [
    {
     "data": {
      "text/html": [
       "2034"
      ],
      "text/latex": [
       "2034"
      ],
      "text/markdown": [
       "2034"
      ],
      "text/plain": [
       "[1] 2034"
      ]
     },
     "metadata": {},
     "output_type": "display_data"
    }
   ],
   "source": [
    "path = './count_reads_peaks_output/'\n",
    "files <- list.files(path,pattern = \"\\\\.txt$\")\n",
    "length(files)"
   ]
  },
  {
   "cell_type": "code",
   "execution_count": 3,
   "metadata": {},
   "outputs": [],
   "source": [
    "#assuming tab separated values with a header    \n",
    "datalist = lapply(files, function(x)fread(paste0(path,x))$V4) \n",
    "#assuming the same header/columns for all files\n",
    "datafr = do.call(\"cbind\", datalist) "
   ]
  },
  {
   "cell_type": "code",
   "execution_count": 4,
   "metadata": {
    "scrolled": true
   },
   "outputs": [
    {
     "data": {
      "text/html": [
       "<ol class=list-inline>\n",
       "\t<li>237450</li>\n",
       "\t<li>2034</li>\n",
       "</ol>\n"
      ],
      "text/latex": [
       "\\begin{enumerate*}\n",
       "\\item 237450\n",
       "\\item 2034\n",
       "\\end{enumerate*}\n"
      ],
      "text/markdown": [
       "1. 237450\n",
       "2. 2034\n",
       "\n",
       "\n"
      ],
      "text/plain": [
       "[1] 237450   2034"
      ]
     },
     "metadata": {},
     "output_type": "display_data"
    }
   ],
   "source": [
    "dim(datafr)"
   ]
  },
  {
   "cell_type": "code",
   "execution_count": 5,
   "metadata": {},
   "outputs": [],
   "source": [
    "df_regions = read.csv(\"../../input/combined.sorted.merged.bed\",\n",
    "                      sep = '\\t',header=FALSE,stringsAsFactors=FALSE)"
   ]
  },
  {
   "cell_type": "code",
   "execution_count": 6,
   "metadata": {},
   "outputs": [
    {
     "data": {
      "text/html": [
       "<ol class=list-inline>\n",
       "\t<li>237450</li>\n",
       "\t<li>3</li>\n",
       "</ol>\n"
      ],
      "text/latex": [
       "\\begin{enumerate*}\n",
       "\\item 237450\n",
       "\\item 3\n",
       "\\end{enumerate*}\n"
      ],
      "text/markdown": [
       "1. 237450\n",
       "2. 3\n",
       "\n",
       "\n"
      ],
      "text/plain": [
       "[1] 237450      3"
      ]
     },
     "metadata": {},
     "output_type": "display_data"
    }
   ],
   "source": [
    "dim(df_regions)"
   ]
  },
  {
   "cell_type": "code",
   "execution_count": 7,
   "metadata": {},
   "outputs": [],
   "source": [
    "peaknames = paste(df_regions$V1,df_regions$V2,df_regions$V3,sep = \"_\")"
   ]
  },
  {
   "cell_type": "code",
   "execution_count": 8,
   "metadata": {
    "scrolled": false
   },
   "outputs": [
    {
     "data": {
      "text/html": [
       "<ol class=list-inline>\n",
       "\t<li>'chr1_10413_10625'</li>\n",
       "\t<li>'chr1_13380_13624'</li>\n",
       "\t<li>'chr1_16145_16354'</li>\n",
       "\t<li>'chr1_96388_96812'</li>\n",
       "\t<li>'chr1_115650_115812'</li>\n",
       "\t<li>'chr1_237625_237888'</li>\n",
       "</ol>\n"
      ],
      "text/latex": [
       "\\begin{enumerate*}\n",
       "\\item 'chr1\\_10413\\_10625'\n",
       "\\item 'chr1\\_13380\\_13624'\n",
       "\\item 'chr1\\_16145\\_16354'\n",
       "\\item 'chr1\\_96388\\_96812'\n",
       "\\item 'chr1\\_115650\\_115812'\n",
       "\\item 'chr1\\_237625\\_237888'\n",
       "\\end{enumerate*}\n"
      ],
      "text/markdown": [
       "1. 'chr1_10413_10625'\n",
       "2. 'chr1_13380_13624'\n",
       "3. 'chr1_16145_16354'\n",
       "4. 'chr1_96388_96812'\n",
       "5. 'chr1_115650_115812'\n",
       "6. 'chr1_237625_237888'\n",
       "\n",
       "\n"
      ],
      "text/plain": [
       "[1] \"chr1_10413_10625\"   \"chr1_13380_13624\"   \"chr1_16145_16354\"  \n",
       "[4] \"chr1_96388_96812\"   \"chr1_115650_115812\" \"chr1_237625_237888\""
      ]
     },
     "metadata": {},
     "output_type": "display_data"
    }
   ],
   "source": [
    "head(peaknames)"
   ]
  },
  {
   "cell_type": "code",
   "execution_count": 9,
   "metadata": {},
   "outputs": [
    {
     "data": {
      "text/html": [
       "<ol class=list-inline>\n",
       "\t<li>'BM1077-CLP-Frozen-160106-13'</li>\n",
       "\t<li>'BM1077-CLP-Frozen-160106-14'</li>\n",
       "\t<li>'BM1077-CLP-Frozen-160106-2'</li>\n",
       "\t<li>'BM1077-CLP-Frozen-160106-21'</li>\n",
       "\t<li>'BM1077-CLP-Frozen-160106-27'</li>\n",
       "\t<li>'BM1077-CLP-Frozen-160106-3'</li>\n",
       "</ol>\n"
      ],
      "text/latex": [
       "\\begin{enumerate*}\n",
       "\\item 'BM1077-CLP-Frozen-160106-13'\n",
       "\\item 'BM1077-CLP-Frozen-160106-14'\n",
       "\\item 'BM1077-CLP-Frozen-160106-2'\n",
       "\\item 'BM1077-CLP-Frozen-160106-21'\n",
       "\\item 'BM1077-CLP-Frozen-160106-27'\n",
       "\\item 'BM1077-CLP-Frozen-160106-3'\n",
       "\\end{enumerate*}\n"
      ],
      "text/markdown": [
       "1. 'BM1077-CLP-Frozen-160106-13'\n",
       "2. 'BM1077-CLP-Frozen-160106-14'\n",
       "3. 'BM1077-CLP-Frozen-160106-2'\n",
       "4. 'BM1077-CLP-Frozen-160106-21'\n",
       "5. 'BM1077-CLP-Frozen-160106-27'\n",
       "6. 'BM1077-CLP-Frozen-160106-3'\n",
       "\n",
       "\n"
      ],
      "text/plain": [
       "[1] \"BM1077-CLP-Frozen-160106-13\" \"BM1077-CLP-Frozen-160106-14\"\n",
       "[3] \"BM1077-CLP-Frozen-160106-2\"  \"BM1077-CLP-Frozen-160106-21\"\n",
       "[5] \"BM1077-CLP-Frozen-160106-27\" \"BM1077-CLP-Frozen-160106-3\" "
      ]
     },
     "metadata": {},
     "output_type": "display_data"
    }
   ],
   "source": [
    "head(sapply(strsplit(files,'\\\\.'),'[', 1))"
   ]
  },
  {
   "cell_type": "code",
   "execution_count": 10,
   "metadata": {},
   "outputs": [],
   "source": [
    "colnames(datafr) = sapply(strsplit(files,'\\\\.'),'[', 1)\n",
    "rownames(datafr) = peaknames"
   ]
  },
  {
   "cell_type": "code",
   "execution_count": 11,
   "metadata": {},
   "outputs": [
    {
     "data": {
      "text/html": [
       "<table>\n",
       "<thead><tr><th></th><th scope=col>BM1077-CLP-Frozen-160106-13</th><th scope=col>BM1077-CLP-Frozen-160106-14</th><th scope=col>BM1077-CLP-Frozen-160106-2</th><th scope=col>BM1077-CLP-Frozen-160106-21</th><th scope=col>BM1077-CLP-Frozen-160106-27</th><th scope=col>BM1077-CLP-Frozen-160106-3</th><th scope=col>BM1077-CLP-Frozen-160106-36</th><th scope=col>BM1077-CLP-Frozen-160106-42</th><th scope=col>BM1077-CLP-Frozen-160106-44</th><th scope=col>BM1077-CLP-Frozen-160106-50</th><th scope=col>⋯</th><th scope=col>singles-PB1022-mono-160128-81</th><th scope=col>singles-PB1022-mono-160128-82</th><th scope=col>singles-PB1022-mono-160128-83</th><th scope=col>singles-PB1022-mono-160128-84</th><th scope=col>singles-PB1022-mono-160128-85</th><th scope=col>singles-PB1022-mono-160128-86</th><th scope=col>singles-PB1022-mono-160128-89</th><th scope=col>singles-PB1022-mono-160128-90</th><th scope=col>singles-PB1022-mono-160128-95</th><th scope=col>singles-PB1022-mono-160128-96</th></tr></thead>\n",
       "<tbody>\n",
       "\t<tr><th scope=row>chr1_10413_10625</th><td>0</td><td>0</td><td>0</td><td>0</td><td>0</td><td>0</td><td>0</td><td>0</td><td>0</td><td>0</td><td>⋯</td><td>0</td><td>0</td><td>0</td><td>0</td><td>0</td><td>0</td><td>0</td><td>0</td><td>0</td><td>0</td></tr>\n",
       "\t<tr><th scope=row>chr1_13380_13624</th><td>0</td><td>0</td><td>0</td><td>0</td><td>0</td><td>0</td><td>0</td><td>0</td><td>0</td><td>0</td><td>⋯</td><td>0</td><td>0</td><td>0</td><td>0</td><td>0</td><td>0</td><td>0</td><td>0</td><td>0</td><td>0</td></tr>\n",
       "\t<tr><th scope=row>chr1_16145_16354</th><td>0</td><td>0</td><td>0</td><td>0</td><td>0</td><td>0</td><td>0</td><td>0</td><td>0</td><td>0</td><td>⋯</td><td>0</td><td>0</td><td>0</td><td>0</td><td>0</td><td>0</td><td>0</td><td>0</td><td>0</td><td>0</td></tr>\n",
       "\t<tr><th scope=row>chr1_96388_96812</th><td>0</td><td>0</td><td>0</td><td>0</td><td>0</td><td>0</td><td>0</td><td>0</td><td>0</td><td>0</td><td>⋯</td><td>0</td><td>0</td><td>0</td><td>0</td><td>0</td><td>0</td><td>0</td><td>2</td><td>0</td><td>0</td></tr>\n",
       "\t<tr><th scope=row>chr1_115650_115812</th><td>0</td><td>0</td><td>0</td><td>0</td><td>0</td><td>0</td><td>0</td><td>0</td><td>0</td><td>0</td><td>⋯</td><td>0</td><td>0</td><td>0</td><td>0</td><td>0</td><td>0</td><td>0</td><td>0</td><td>0</td><td>0</td></tr>\n",
       "\t<tr><th scope=row>chr1_237625_237888</th><td>0</td><td>0</td><td>0</td><td>0</td><td>0</td><td>0</td><td>0</td><td>0</td><td>0</td><td>0</td><td>⋯</td><td>0</td><td>0</td><td>0</td><td>0</td><td>0</td><td>0</td><td>0</td><td>0</td><td>0</td><td>0</td></tr>\n",
       "</tbody>\n",
       "</table>\n"
      ],
      "text/latex": [
       "\\begin{tabular}{r|llllllllllllllllllllllllllllllllllllllllllllllllllllllllllllllllllllllllllllllllllllllllllllllllllllllllllllllllllllllllllllllllllllllllllllllllllllllllllllllllllllllllllllllllllllllllllllllllllllllllllllllllllllllllllllllllllllllllllllllllllllllllllllllllllllllllllllllllllllllllllllllllllllllllllllllllllllllllllllllllllllllllllllllllllllllllllllllllllllllllllllllllllllllllllllllllllllllllllllllllllllllllllllllllllllllllllllllllllllllllllllllllllllllllllllllllllllllllllllllllllllllllllllllllllllllllllllllllllllllllllllllllllllllllllllllllllllllllllllllllllllllllllllllllllllllllllllllllllllllllllllllllllllllllllllllllllllllllllllllllllllllllllllllllllllllllllllllllllllllllllllllllllllllllllllllllllllllllllllllllllllllllllllllllllllllllllllllllllllllllllllllllllllllllllllllllllllllllllllllllllllllllllllllllllllllllllllllllllllllllllllllllllllllllllllllllllllllllllllllllllllllllllllllllllllllllllllllllllllllllllllllllllllllllllllllllllllllllllllllllllllllllllllllllllllllllllllllllllllllllllllllllllllllllllllllllllllllllllllllllllllllllllllllllllllllllllllllllllllllllllllllllllllllllllllllllllllllllllllllllllllllllllllllllllllllllllllllllllllllllllllllllllllllllllllllllllllllllllllllllllllllllllllllllllllllllllllllllllllllllllllllllllllllllllllllllllllllllllllllllllllllllllllllllllllllllllllllllllllllllllllllllllllllllllllllllllllllllllllllllllllllllllllllllllllllllllllllllllllllllllllllllllllllllllllllllllllllllllllllllllllllllllllllllllllllllllllllllllllllllllllllllllllllllllllllllllllllllllllllllllllllllllllllllllllllllllllllllllllllllllllllllllllllllllllllllllllllllllllllllllllllllllllllllllllllllllllllllllllllllllllllllllllllllllllllllllllllllllllllllllllllllllllllllllllllllllllllllllllllllllllllllllllllllllllllllllllllllllllllllllllllllllllllllllllllllllllllllllllllllllllllllllllllllllllllllllllllllllllllllllllllllllllllllllllllllllllllllllllllllllllllllllllllllllllllllllllllllllllllllllllllllllllllllllllllllllllllllllllllllllllllllllllllllllllllllllllllllllllllllllllllllllllllllllllllllllllllllll}\n",
       "  & BM1077-CLP-Frozen-160106-13 & BM1077-CLP-Frozen-160106-14 & BM1077-CLP-Frozen-160106-2 & BM1077-CLP-Frozen-160106-21 & BM1077-CLP-Frozen-160106-27 & BM1077-CLP-Frozen-160106-3 & BM1077-CLP-Frozen-160106-36 & BM1077-CLP-Frozen-160106-42 & BM1077-CLP-Frozen-160106-44 & BM1077-CLP-Frozen-160106-50 & ⋯ & singles-PB1022-mono-160128-81 & singles-PB1022-mono-160128-82 & singles-PB1022-mono-160128-83 & singles-PB1022-mono-160128-84 & singles-PB1022-mono-160128-85 & singles-PB1022-mono-160128-86 & singles-PB1022-mono-160128-89 & singles-PB1022-mono-160128-90 & singles-PB1022-mono-160128-95 & singles-PB1022-mono-160128-96\\\\\n",
       "\\hline\n",
       "\tchr1\\_10413\\_10625 & 0 & 0 & 0 & 0 & 0 & 0 & 0 & 0 & 0 & 0 & ⋯ & 0 & 0 & 0 & 0 & 0 & 0 & 0 & 0 & 0 & 0\\\\\n",
       "\tchr1\\_13380\\_13624 & 0 & 0 & 0 & 0 & 0 & 0 & 0 & 0 & 0 & 0 & ⋯ & 0 & 0 & 0 & 0 & 0 & 0 & 0 & 0 & 0 & 0\\\\\n",
       "\tchr1\\_16145\\_16354 & 0 & 0 & 0 & 0 & 0 & 0 & 0 & 0 & 0 & 0 & ⋯ & 0 & 0 & 0 & 0 & 0 & 0 & 0 & 0 & 0 & 0\\\\\n",
       "\tchr1\\_96388\\_96812 & 0 & 0 & 0 & 0 & 0 & 0 & 0 & 0 & 0 & 0 & ⋯ & 0 & 0 & 0 & 0 & 0 & 0 & 0 & 2 & 0 & 0\\\\\n",
       "\tchr1\\_115650\\_115812 & 0 & 0 & 0 & 0 & 0 & 0 & 0 & 0 & 0 & 0 & ⋯ & 0 & 0 & 0 & 0 & 0 & 0 & 0 & 0 & 0 & 0\\\\\n",
       "\tchr1\\_237625\\_237888 & 0 & 0 & 0 & 0 & 0 & 0 & 0 & 0 & 0 & 0 & ⋯ & 0 & 0 & 0 & 0 & 0 & 0 & 0 & 0 & 0 & 0\\\\\n",
       "\\end{tabular}\n"
      ],
      "text/markdown": [
       "\n",
       "| <!--/--> | BM1077-CLP-Frozen-160106-13 | BM1077-CLP-Frozen-160106-14 | BM1077-CLP-Frozen-160106-2 | BM1077-CLP-Frozen-160106-21 | BM1077-CLP-Frozen-160106-27 | BM1077-CLP-Frozen-160106-3 | BM1077-CLP-Frozen-160106-36 | BM1077-CLP-Frozen-160106-42 | BM1077-CLP-Frozen-160106-44 | BM1077-CLP-Frozen-160106-50 | ⋯ | singles-PB1022-mono-160128-81 | singles-PB1022-mono-160128-82 | singles-PB1022-mono-160128-83 | singles-PB1022-mono-160128-84 | singles-PB1022-mono-160128-85 | singles-PB1022-mono-160128-86 | singles-PB1022-mono-160128-89 | singles-PB1022-mono-160128-90 | singles-PB1022-mono-160128-95 | singles-PB1022-mono-160128-96 |\n",
       "|---|---|---|---|---|---|---|---|---|---|---|---|---|---|---|---|---|---|---|---|---|---|\n",
       "| chr1_10413_10625 | 0 | 0 | 0 | 0 | 0 | 0 | 0 | 0 | 0 | 0 | ⋯ | 0 | 0 | 0 | 0 | 0 | 0 | 0 | 0 | 0 | 0 |\n",
       "| chr1_13380_13624 | 0 | 0 | 0 | 0 | 0 | 0 | 0 | 0 | 0 | 0 | ⋯ | 0 | 0 | 0 | 0 | 0 | 0 | 0 | 0 | 0 | 0 |\n",
       "| chr1_16145_16354 | 0 | 0 | 0 | 0 | 0 | 0 | 0 | 0 | 0 | 0 | ⋯ | 0 | 0 | 0 | 0 | 0 | 0 | 0 | 0 | 0 | 0 |\n",
       "| chr1_96388_96812 | 0 | 0 | 0 | 0 | 0 | 0 | 0 | 0 | 0 | 0 | ⋯ | 0 | 0 | 0 | 0 | 0 | 0 | 0 | 2 | 0 | 0 |\n",
       "| chr1_115650_115812 | 0 | 0 | 0 | 0 | 0 | 0 | 0 | 0 | 0 | 0 | ⋯ | 0 | 0 | 0 | 0 | 0 | 0 | 0 | 0 | 0 | 0 |\n",
       "| chr1_237625_237888 | 0 | 0 | 0 | 0 | 0 | 0 | 0 | 0 | 0 | 0 | ⋯ | 0 | 0 | 0 | 0 | 0 | 0 | 0 | 0 | 0 | 0 |\n",
       "\n"
      ],
      "text/plain": [
       "                   BM1077-CLP-Frozen-160106-13 BM1077-CLP-Frozen-160106-14\n",
       "chr1_10413_10625   0                           0                          \n",
       "chr1_13380_13624   0                           0                          \n",
       "chr1_16145_16354   0                           0                          \n",
       "chr1_96388_96812   0                           0                          \n",
       "chr1_115650_115812 0                           0                          \n",
       "chr1_237625_237888 0                           0                          \n",
       "                   BM1077-CLP-Frozen-160106-2 BM1077-CLP-Frozen-160106-21\n",
       "chr1_10413_10625   0                          0                          \n",
       "chr1_13380_13624   0                          0                          \n",
       "chr1_16145_16354   0                          0                          \n",
       "chr1_96388_96812   0                          0                          \n",
       "chr1_115650_115812 0                          0                          \n",
       "chr1_237625_237888 0                          0                          \n",
       "                   BM1077-CLP-Frozen-160106-27 BM1077-CLP-Frozen-160106-3\n",
       "chr1_10413_10625   0                           0                         \n",
       "chr1_13380_13624   0                           0                         \n",
       "chr1_16145_16354   0                           0                         \n",
       "chr1_96388_96812   0                           0                         \n",
       "chr1_115650_115812 0                           0                         \n",
       "chr1_237625_237888 0                           0                         \n",
       "                   BM1077-CLP-Frozen-160106-36 BM1077-CLP-Frozen-160106-42\n",
       "chr1_10413_10625   0                           0                          \n",
       "chr1_13380_13624   0                           0                          \n",
       "chr1_16145_16354   0                           0                          \n",
       "chr1_96388_96812   0                           0                          \n",
       "chr1_115650_115812 0                           0                          \n",
       "chr1_237625_237888 0                           0                          \n",
       "                   BM1077-CLP-Frozen-160106-44 BM1077-CLP-Frozen-160106-50 ⋯\n",
       "chr1_10413_10625   0                           0                           ⋯\n",
       "chr1_13380_13624   0                           0                           ⋯\n",
       "chr1_16145_16354   0                           0                           ⋯\n",
       "chr1_96388_96812   0                           0                           ⋯\n",
       "chr1_115650_115812 0                           0                           ⋯\n",
       "chr1_237625_237888 0                           0                           ⋯\n",
       "                   singles-PB1022-mono-160128-81 singles-PB1022-mono-160128-82\n",
       "chr1_10413_10625   0                             0                            \n",
       "chr1_13380_13624   0                             0                            \n",
       "chr1_16145_16354   0                             0                            \n",
       "chr1_96388_96812   0                             0                            \n",
       "chr1_115650_115812 0                             0                            \n",
       "chr1_237625_237888 0                             0                            \n",
       "                   singles-PB1022-mono-160128-83 singles-PB1022-mono-160128-84\n",
       "chr1_10413_10625   0                             0                            \n",
       "chr1_13380_13624   0                             0                            \n",
       "chr1_16145_16354   0                             0                            \n",
       "chr1_96388_96812   0                             0                            \n",
       "chr1_115650_115812 0                             0                            \n",
       "chr1_237625_237888 0                             0                            \n",
       "                   singles-PB1022-mono-160128-85 singles-PB1022-mono-160128-86\n",
       "chr1_10413_10625   0                             0                            \n",
       "chr1_13380_13624   0                             0                            \n",
       "chr1_16145_16354   0                             0                            \n",
       "chr1_96388_96812   0                             0                            \n",
       "chr1_115650_115812 0                             0                            \n",
       "chr1_237625_237888 0                             0                            \n",
       "                   singles-PB1022-mono-160128-89 singles-PB1022-mono-160128-90\n",
       "chr1_10413_10625   0                             0                            \n",
       "chr1_13380_13624   0                             0                            \n",
       "chr1_16145_16354   0                             0                            \n",
       "chr1_96388_96812   0                             2                            \n",
       "chr1_115650_115812 0                             0                            \n",
       "chr1_237625_237888 0                             0                            \n",
       "                   singles-PB1022-mono-160128-95 singles-PB1022-mono-160128-96\n",
       "chr1_10413_10625   0                             0                            \n",
       "chr1_13380_13624   0                             0                            \n",
       "chr1_16145_16354   0                             0                            \n",
       "chr1_96388_96812   0                             0                            \n",
       "chr1_115650_115812 0                             0                            \n",
       "chr1_237625_237888 0                             0                            "
      ]
     },
     "metadata": {},
     "output_type": "display_data"
    }
   ],
   "source": [
    "head(datafr)"
   ]
  },
  {
   "cell_type": "code",
   "execution_count": 12,
   "metadata": {},
   "outputs": [
    {
     "data": {
      "text/html": [
       "<ol class=list-inline>\n",
       "\t<li>237450</li>\n",
       "\t<li>2034</li>\n",
       "</ol>\n"
      ],
      "text/latex": [
       "\\begin{enumerate*}\n",
       "\\item 237450\n",
       "\\item 2034\n",
       "\\end{enumerate*}\n"
      ],
      "text/markdown": [
       "1. 237450\n",
       "2. 2034\n",
       "\n",
       "\n"
      ],
      "text/plain": [
       "[1] 237450   2034"
      ]
     },
     "metadata": {},
     "output_type": "display_data"
    }
   ],
   "source": [
    "dim(datafr)"
   ]
  },
  {
   "cell_type": "code",
   "execution_count": null,
   "metadata": {},
   "outputs": [],
   "source": [
    "# saveRDS(datafr, file = './datafr.rds')\n",
    "# datafr = readRDS('./datafr.rds')"
   ]
  },
  {
   "cell_type": "code",
   "execution_count": 13,
   "metadata": {},
   "outputs": [],
   "source": [
    "elbow_plot <- function(mat,num_pcs=50,scale=FALSE,center=FALSE,title='',width=3,height=3){\n",
    "    set.seed(2019) \n",
    "    mat = data.matrix(mat)\n",
    "    SVD = irlba(mat, num_pcs, num_pcs,scale=scale,center=center)\n",
    "    options(repr.plot.width=width, repr.plot.height=height)\n",
    "    df_plot = data.frame(PC=1:num_pcs, SD=SVD$d);\n",
    "#     print(SVD$d[1:num_pcs])\n",
    "    p <- ggplot(df_plot, aes(x = PC, y = SD)) +\n",
    "      geom_point(col=\"#cd5c5c\",size = 1) + \n",
    "      ggtitle(title)\n",
    "    return(p)\n",
    "}"
   ]
  },
  {
   "cell_type": "code",
   "execution_count": null,
   "metadata": {},
   "outputs": [],
   "source": []
  },
  {
   "cell_type": "markdown",
   "metadata": {},
   "source": [
    "### Obtain Feature Matrix"
   ]
  },
  {
   "cell_type": "code",
   "execution_count": 14,
   "metadata": {},
   "outputs": [],
   "source": [
    "start_time <- Sys.time()"
   ]
  },
  {
   "cell_type": "code",
   "execution_count": 15,
   "metadata": {},
   "outputs": [],
   "source": [
    "metadata <- read.table('../../input/metadata.tsv',\n",
    "                         header = TRUE,\n",
    "                         stringsAsFactors=FALSE,quote=\"\",row.names=1)"
   ]
  },
  {
   "cell_type": "code",
   "execution_count": 16,
   "metadata": {
    "scrolled": true
   },
   "outputs": [],
   "source": [
    "binary_mat = as.matrix((datafr > 0) + 0)\n",
    "binary_mat = Matrix(binary_mat, sparse = TRUE) "
   ]
  },
  {
   "cell_type": "code",
   "execution_count": 17,
   "metadata": {
    "scrolled": false
   },
   "outputs": [
    {
     "data": {
      "text/plain": [
       "3 x 3 sparse Matrix of class \"dgCMatrix\"\n",
       "                 BM1077-CLP-Frozen-160106-13 BM1077-CLP-Frozen-160106-14\n",
       "chr1_10413_10625                           .                           .\n",
       "chr1_13380_13624                           .                           .\n",
       "chr1_16145_16354                           .                           .\n",
       "                 BM1077-CLP-Frozen-160106-2\n",
       "chr1_10413_10625                          .\n",
       "chr1_13380_13624                          .\n",
       "chr1_16145_16354                          ."
      ]
     },
     "metadata": {},
     "output_type": "display_data"
    }
   ],
   "source": [
    "binary_mat[1:3,1:3]"
   ]
  },
  {
   "cell_type": "code",
   "execution_count": 18,
   "metadata": {},
   "outputs": [
    {
     "data": {
      "image/png": "[encoded data removed]",
      "text/plain": [
       "Plot with title “Number of Sites Each Cell Uses”"
      ]
     },
     "metadata": {},
     "output_type": "display_data"
    }
   ],
   "source": [
    "num_cells_ncounted = rowSums(binary_mat)\n",
    "ncounts = binary_mat[num_cells_ncounted >= dim(binary_mat)[2]*0.01,]\n",
    "new_counts = colSums(ncounts)\n",
    "# ncounts = ncounts[,new_counts >= quantile(new_counts,probs=0.1)]\n",
    "ncounts = ncounts[rowSums(ncounts) > 0,]\n",
    "\n",
    "options(repr.plot.width=8, repr.plot.height=4)\n",
    "par(mfrow=c(1,2))\n",
    "hist(log10(num_cells_ncounted),main=\"No. of Cells Each Site is Observed In\",breaks=50)\n",
    "abline(v=log10(min(num_cells_ncounted[num_cells_ncounted >= dim(binary_mat)[2]*0.01])),lwd=2,col=\"indianred\")\n",
    "hist(log10(new_counts),main=\"Number of Sites Each Cell Uses\",breaks=50)\n",
    "# abline(v=log10(quantile(new_counts,probs=0.1)),lwd=2,col=\"indianred\")"
   ]
  },
  {
   "cell_type": "code",
   "execution_count": 19,
   "metadata": {
    "scrolled": true
   },
   "outputs": [
    {
     "data": {
      "text/html": [
       "<ol class=list-inline>\n",
       "\t<li>101172</li>\n",
       "\t<li>2034</li>\n",
       "</ol>\n"
      ],
      "text/latex": [
       "\\begin{enumerate*}\n",
       "\\item 101172\n",
       "\\item 2034\n",
       "\\end{enumerate*}\n"
      ],
      "text/markdown": [
       "1. 101172\n",
       "2. 2034\n",
       "\n",
       "\n"
      ],
      "text/plain": [
       "[1] 101172   2034"
      ]
     },
     "metadata": {},
     "output_type": "display_data"
    }
   ],
   "source": [
    "dim(ncounts)"
   ]
  },
  {
   "cell_type": "code",
   "execution_count": 20,
   "metadata": {
    "scrolled": true
   },
   "outputs": [],
   "source": [
    "sexsites = c(grep(\"chrY\",rownames(ncounts)),grep(\"chrX\",rownames(ncounts)))\n",
    "ncounts.nosex = ncounts[-sexsites,]\n",
    "\n",
    "nfreqs = t(t(ncounts.nosex) / Matrix::colSums(ncounts.nosex))\n",
    "idf = as(log(1 + ncol(ncounts.nosex) / Matrix::rowSums(ncounts.nosex)), \"sparseVector\")\n",
    "tf_idf_counts = as(Diagonal(x=as.vector(idf)), \"sparseMatrix\") %*% nfreqs"
   ]
  },
  {
   "cell_type": "code",
   "execution_count": 21,
   "metadata": {},
   "outputs": [
    {
     "data": {
      "text/html": [
       "<ol class=list-inline>\n",
       "\t<li>98738</li>\n",
       "\t<li>2034</li>\n",
       "</ol>\n"
      ],
      "text/latex": [
       "\\begin{enumerate*}\n",
       "\\item 98738\n",
       "\\item 2034\n",
       "\\end{enumerate*}\n"
      ],
      "text/markdown": [
       "1. 98738\n",
       "2. 2034\n",
       "\n",
       "\n"
      ],
      "text/plain": [
       "[1] 98738  2034"
      ]
     },
     "metadata": {},
     "output_type": "display_data"
    }
   ],
   "source": [
    "dim(tf_idf_counts)"
   ]
  },
  {
   "cell_type": "code",
   "execution_count": 22,
   "metadata": {
    "scrolled": true
   },
   "outputs": [
    {
     "data": {
      "image/png": "[encoded data removed]",
      "text/plain": [
       "plot without title"
      ]
     },
     "metadata": {},
     "output_type": "display_data"
    }
   ],
   "source": [
    "p_elbow_LSI <- elbow_plot(tf_idf_counts,num_pcs = 200, title = 'PCA on LSI')\n",
    "p_elbow_LSI"
   ]
  },
  {
   "cell_type": "code",
   "execution_count": 23,
   "metadata": {},
   "outputs": [
    {
     "data": {
      "text/html": [
       "<ol class=list-inline>\n",
       "\t<li>2034</li>\n",
       "\t<li>150</li>\n",
       "</ol>\n"
      ],
      "text/latex": [
       "\\begin{enumerate*}\n",
       "\\item 2034\n",
       "\\item 150\n",
       "\\end{enumerate*}\n"
      ],
      "text/markdown": [
       "1. 2034\n",
       "2. 150\n",
       "\n",
       "\n"
      ],
      "text/plain": [
       "[1] 2034  150"
      ]
     },
     "metadata": {},
     "output_type": "display_data"
    },
    {
     "data": {
      "text/html": [
       "<table>\n",
       "<tbody>\n",
       "\t<tr><td>-0.009937305 </td><td>0.0005788599 </td><td>-0.0002860652</td></tr>\n",
       "\t<tr><td>-0.010330579 </td><td>0.0003788091 </td><td>-0.0003985498</td></tr>\n",
       "\t<tr><td>-0.010217924 </td><td>0.0005008491 </td><td>-0.0004240064</td></tr>\n",
       "</tbody>\n",
       "</table>\n"
      ],
      "text/latex": [
       "\\begin{tabular}{lll}\n",
       "\t -0.009937305  & 0.0005788599  & -0.0002860652\\\\\n",
       "\t -0.010330579  & 0.0003788091  & -0.0003985498\\\\\n",
       "\t -0.010217924  & 0.0005008491  & -0.0004240064\\\\\n",
       "\\end{tabular}\n"
      ],
      "text/markdown": [
       "\n",
       "| -0.009937305  | 0.0005788599  | -0.0002860652 |\n",
       "| -0.010330579  | 0.0003788091  | -0.0003985498 |\n",
       "| -0.010217924  | 0.0005008491  | -0.0004240064 |\n",
       "\n"
      ],
      "text/plain": [
       "     [,1]         [,2]         [,3]         \n",
       "[1,] -0.009937305 0.0005788599 -0.0002860652\n",
       "[2,] -0.010330579 0.0003788091 -0.0003985498\n",
       "[3,] -0.010217924 0.0005008491 -0.0004240064"
      ]
     },
     "metadata": {},
     "output_type": "display_data"
    }
   ],
   "source": [
    "set.seed(2019)\n",
    "num_pcs = 150\n",
    "SVDtsne = irlba(tf_idf_counts, num_pcs, num_pcs)\n",
    "d_diagtsne = matrix(0, nrow=num_pcs, ncol=num_pcs)\n",
    "diag(d_diagtsne) = SVDtsne$d\n",
    "SVDtsne_vd = t(d_diagtsne %*% t(SVDtsne$v))\n",
    "\n",
    "dim(SVDtsne_vd)\n",
    "SVDtsne_vd[1:3,1:3]"
   ]
  },
  {
   "cell_type": "code",
   "execution_count": 24,
   "metadata": {},
   "outputs": [],
   "source": [
    "end_time <- Sys.time()"
   ]
  },
  {
   "cell_type": "code",
   "execution_count": 25,
   "metadata": {
    "scrolled": true
   },
   "outputs": [
    {
     "data": {
      "text/plain": [
       "Time difference of 2.22633 mins"
      ]
     },
     "metadata": {},
     "output_type": "display_data"
    }
   ],
   "source": [
    "end_time - start_time"
   ]
  },
  {
   "cell_type": "code",
   "execution_count": null,
   "metadata": {},
   "outputs": [],
   "source": []
  },
  {
   "cell_type": "code",
   "execution_count": null,
   "metadata": {},
   "outputs": [],
   "source": []
  },
  {
   "cell_type": "code",
   "execution_count": 26,
   "metadata": {
    "scrolled": true
   },
   "outputs": [
    {
     "data": {
      "text/html": [
       "<ol class=list-inline>\n",
       "\t<li>150</li>\n",
       "\t<li>2034</li>\n",
       "</ol>\n"
      ],
      "text/latex": [
       "\\begin{enumerate*}\n",
       "\\item 150\n",
       "\\item 2034\n",
       "\\end{enumerate*}\n"
      ],
      "text/markdown": [
       "1. 150\n",
       "2. 2034\n",
       "\n",
       "\n"
      ],
      "text/plain": [
       "[1]  150 2034"
      ]
     },
     "metadata": {},
     "output_type": "display_data"
    }
   ],
   "source": [
    "df_out = t(SVDtsne_vd)\n",
    "colnames(df_out) = colnames(datafr)\n",
    "rownames(df_out) = paste('PC',1:dim(SVDtsne_vd)[2])\n",
    "dim(df_out)"
   ]
  },
  {
   "cell_type": "code",
   "execution_count": 27,
   "metadata": {},
   "outputs": [
    {
     "data": {
      "text/html": [
       "TRUE"
      ],
      "text/latex": [
       "TRUE"
      ],
      "text/markdown": [
       "TRUE"
      ],
      "text/plain": [
       "[1] TRUE"
      ]
     },
     "metadata": {},
     "output_type": "display_data"
    }
   ],
   "source": [
    "all(colnames(df_out) == rownames(metadata))"
   ]
  },
  {
   "cell_type": "code",
   "execution_count": 28,
   "metadata": {},
   "outputs": [],
   "source": [
    "saveRDS(df_out, file = '../../output/feature_matrices/FM_Cusanovich2018_buenrostro2018.rds')"
   ]
  },
  {
   "cell_type": "code",
   "execution_count": null,
   "metadata": {},
   "outputs": [],
   "source": []
  },
  {
   "cell_type": "markdown",
   "metadata": {},
   "source": [
    "### Downstream Analysis"
   ]
  },
  {
   "cell_type": "code",
   "execution_count": 29,
   "metadata": {},
   "outputs": [],
   "source": [
    "set.seed(0)\n",
    "tsnetfidf = Rtsne(SVDtsne_vd,pca=F)"
   ]
  },
  {
   "cell_type": "code",
   "execution_count": 30,
   "metadata": {},
   "outputs": [],
   "source": [
    "library(RColorBrewer)"
   ]
  },
  {
   "cell_type": "code",
   "execution_count": 31,
   "metadata": {},
   "outputs": [],
   "source": [
    "plot.tsne <- function(x, labels,\n",
    "         main=\"A tSNE visualization\",n=20,\n",
    "         pad=0.1, cex=0.65, pch=19, add=FALSE, legend.suffix=\"\",\n",
    "         cex.main=1, cex.legend=1) {\n",
    "  qual_col_pals = brewer.pal.info[brewer.pal.info$category == 'qual',]\n",
    "  col_vector = unlist(mapply(brewer.pal, qual_col_pals$maxcolors, rownames(qual_col_pals)))\n",
    "  layout = x\n",
    "  \n",
    "  xylim = range(layout)\n",
    "  xylim = xylim + ((xylim[2]-xylim[1])*pad)*c(-0.5, 0.5)\n",
    "  if (!add) {\n",
    "    par(mar=c(0.2,0.7,1.2,0.7), ps=10)\n",
    "    plot(xylim, xylim, type=\"n\", axes=F, frame=F)\n",
    "    rect(xylim[1], xylim[1], xylim[2], xylim[2], border=\"#aaaaaa\", lwd=0.25)  \n",
    "  }\n",
    "  points(layout[,1], layout[,2], col=col_vector[as.integer(labels)],\n",
    "         cex=cex, pch=pch)\n",
    "  mtext(side=3, main, cex=cex.main)\n",
    "\n",
    "  labels.u = unique(labels)\n",
    "  legend.pos = \"topright\"\n",
    "  legend.text = as.character(labels.u)\n",
    "  if (add) {\n",
    "    legend.pos = \"bottomright\"\n",
    "    legend.text = paste(as.character(labels.u), legend.suffix)\n",
    "  }\n",
    "  legend(legend.pos, legend=legend.text,\n",
    "         col=col_vector[as.integer(labels.u)],\n",
    "         bty=\"n\", pch=pch, cex=cex.legend)\n",
    "}"
   ]
  },
  {
   "cell_type": "code",
   "execution_count": 32,
   "metadata": {
    "scrolled": true
   },
   "outputs": [
    {
     "data": {
      "image/png": "[encoded data removed]",
      "text/plain": [
       "plot without title"
      ]
     },
     "metadata": {},
     "output_type": "display_data"
    }
   ],
   "source": [
    "options(repr.plot.width=5, repr.plot.height=5)\n",
    "plot.tsne(tsnetfidf$Y,as.factor(metadata[,'label']))"
   ]
  },
  {
   "cell_type": "code",
   "execution_count": null,
   "metadata": {},
   "outputs": [],
   "source": []
  },
  {
   "cell_type": "code",
   "execution_count": 33,
   "metadata": {},
   "outputs": [
    {
     "data": {
      "text/plain": [
       "R version 3.5.1 (2018-07-02)\n",
       "Platform: x86_64-conda_cos6-linux-gnu (64-bit)\n",
       "Running under: CentOS Linux 7 (Core)\n",
       "\n",
       "Matrix products: default\n",
       "BLAS/LAPACK: /data/pinello/SHARED_SOFTWARE/anaconda3/envs/ATACseq_sciATAC/lib/R/lib/libRblas.so\n",
       "\n",
       "locale:\n",
       " [1] LC_CTYPE=en_US.UTF-8       LC_NUMERIC=C              \n",
       " [3] LC_TIME=en_US.UTF-8        LC_COLLATE=en_US.UTF-8    \n",
       " [5] LC_MONETARY=en_US.UTF-8    LC_MESSAGES=en_US.UTF-8   \n",
       " [7] LC_PAPER=en_US.UTF-8       LC_NAME=C                 \n",
       " [9] LC_ADDRESS=C               LC_TELEPHONE=C            \n",
       "[11] LC_MEASUREMENT=en_US.UTF-8 LC_IDENTIFICATION=C       \n",
       "\n",
       "attached base packages:\n",
       "[1] stats     graphics  grDevices utils     datasets  methods   base     \n",
       "\n",
       "other attached packages:\n",
       "[1] RColorBrewer_1.1-2 ggplot2_3.1.1      umap_0.2.0.0       irlba_2.3.2       \n",
       "[5] densityClust_0.3   Rtsne_0.15         proxy_0.4-22       Matrix_1.2-17     \n",
       "[9] data.table_1.12.2 \n",
       "\n",
       "loaded via a namespace (and not attached):\n",
       " [1] Rcpp_1.0.1       compiler_3.5.1   pillar_1.3.1     plyr_1.8.4      \n",
       " [5] base64enc_0.1-3  tools_3.5.1      digest_0.6.18    uuid_0.1-2      \n",
       " [9] jsonlite_1.6     evaluate_0.13    tibble_2.1.1     gtable_0.3.0    \n",
       "[13] lattice_0.20-38  pkgconfig_2.0.2  rlang_0.3.4      IRdisplay_0.7.0 \n",
       "[17] ggrepel_0.8.0    IRkernel_0.8.15  gridExtra_2.3    withr_2.1.2     \n",
       "[21] repr_0.19.2      dplyr_0.8.0.1    grid_3.5.1       tidyselect_0.2.5\n",
       "[25] reticulate_1.12  glue_1.3.1       R6_2.4.0         pbdZMQ_0.3-3    \n",
       "[29] purrr_0.3.2      magrittr_1.5     scales_1.0.0     htmltools_0.3.6 \n",
       "[33] assertthat_0.2.1 colorspace_1.4-1 labeling_0.3     lazyeval_0.2.2  \n",
       "[37] munsell_0.5.0    crayon_1.3.4     FNN_1.1.3       "
      ]
     },
     "metadata": {},
     "output_type": "display_data"
    }
   ],
   "source": [
    "sessionInfo()"
   ]
  },
  {
   "cell_type": "code",
   "execution_count": 34,
   "metadata": {},
   "outputs": [],
   "source": [
    "save.image(file = 'Cusanovich2018_buenrostro2018.RData')"
   ]
  },
  {
   "cell_type": "code",
   "execution_count": 1,
   "metadata": {},
   "outputs": [],
   "source": [
    "load('Cusanovich2018_buenrostro2018.RData')"
   ]
  },
  {
   "cell_type": "code",
   "execution_count": null,
   "metadata": {},
   "outputs": [],
   "source": []
  }
 ],
 "metadata": {
  "kernelspec": {
   "display_name": "R [conda env:ATACseq_sciATAC]",
   "language": "R",
   "name": "conda-env-ATACseq_sciATAC-r"
  },
  "language_info": {
   "codemirror_mode": "r",
   "file_extension": ".r",
   "mimetype": "text/x-r-source",
   "name": "R",
   "pygments_lexer": "r",
   "version": "3.5.1"
  }
 },
 "nbformat": 4,
 "nbformat_minor": 2
}
