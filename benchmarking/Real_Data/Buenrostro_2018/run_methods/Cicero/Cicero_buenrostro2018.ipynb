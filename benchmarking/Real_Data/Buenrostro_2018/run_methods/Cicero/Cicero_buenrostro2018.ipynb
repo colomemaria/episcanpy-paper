{
 "cells": [
  {
   "cell_type": "markdown",
   "metadata": {},
   "source": [
    "### Installation"
   ]
  },
  {
   "cell_type": "code",
   "execution_count": 1,
   "metadata": {},
   "outputs": [],
   "source": [
    "# if (!requireNamespace(\"BiocManager\", quietly = TRUE))\n",
    "#      install.packages(\"BiocManager\")\n",
    "#   BiocManager::install(\"cicero\")"
   ]
  },
  {
   "cell_type": "markdown",
   "metadata": {},
   "source": [
    "Vignette: https://www.bioconductor.org/packages/devel/bioc/vignettes/cicero/inst/doc/website.html"
   ]
  },
  {
   "cell_type": "code",
   "execution_count": null,
   "metadata": {},
   "outputs": [],
   "source": []
  },
  {
   "cell_type": "markdown",
   "metadata": {},
   "source": [
    "### Import packages"
   ]
  },
  {
   "cell_type": "code",
   "execution_count": 2,
   "metadata": {},
   "outputs": [
    {
     "name": "stderr",
     "output_type": "stream",
     "text": [
      "Loading required package: monocle\n",
      "Loading required package: Matrix\n",
      "Loading required package: Biobase\n",
      "Loading required package: BiocGenerics\n",
      "Loading required package: parallel\n",
      "\n",
      "Attaching package: ‘BiocGenerics’\n",
      "\n",
      "The following objects are masked from ‘package:parallel’:\n",
      "\n",
      "    clusterApply, clusterApplyLB, clusterCall, clusterEvalQ,\n",
      "    clusterExport, clusterMap, parApply, parCapply, parLapply,\n",
      "    parLapplyLB, parRapply, parSapply, parSapplyLB\n",
      "\n",
      "The following objects are masked from ‘package:Matrix’:\n",
      "\n",
      "    colMeans, colSums, rowMeans, rowSums, which\n",
      "\n",
      "The following objects are masked from ‘package:stats’:\n",
      "\n",
      "    IQR, mad, sd, var, xtabs\n",
      "\n",
      "The following objects are masked from ‘package:base’:\n",
      "\n",
      "    anyDuplicated, append, as.data.frame, basename, cbind, colMeans,\n",
      "    colnames, colSums, dirname, do.call, duplicated, eval, evalq,\n",
      "    Filter, Find, get, grep, grepl, intersect, is.unsorted, lapply,\n",
      "    lengths, Map, mapply, match, mget, order, paste, pmax, pmax.int,\n",
      "    pmin, pmin.int, Position, rank, rbind, Reduce, rowMeans, rownames,\n",
      "    rowSums, sapply, setdiff, sort, table, tapply, union, unique,\n",
      "    unsplit, which, which.max, which.min\n",
      "\n",
      "Welcome to Bioconductor\n",
      "\n",
      "    Vignettes contain introductory material; view with\n",
      "    'browseVignettes()'. To cite Bioconductor, see\n",
      "    'citation(\"Biobase\")', and for packages 'citation(\"pkgname\")'.\n",
      "\n",
      "Loading required package: ggplot2\n",
      "Loading required package: VGAM\n",
      "Loading required package: stats4\n",
      "Loading required package: splines\n",
      "Loading required package: DDRTree\n",
      "Loading required package: irlba\n",
      "Loading required package: Gviz\n",
      "Loading required package: S4Vectors\n",
      "\n",
      "Attaching package: ‘S4Vectors’\n",
      "\n",
      "The following object is masked from ‘package:Matrix’:\n",
      "\n",
      "    expand\n",
      "\n",
      "The following object is masked from ‘package:base’:\n",
      "\n",
      "    expand.grid\n",
      "\n",
      "Loading required package: IRanges\n",
      "Loading required package: GenomicRanges\n",
      "Loading required package: GenomeInfoDb\n",
      "Loading required package: grid\n",
      "\n",
      "Attaching package: 'data.table'\n",
      "\n",
      "The following object is masked from 'package:GenomicRanges':\n",
      "\n",
      "    shift\n",
      "\n",
      "The following object is masked from 'package:IRanges':\n",
      "\n",
      "    shift\n",
      "\n",
      "The following objects are masked from 'package:S4Vectors':\n",
      "\n",
      "    first, second\n",
      "\n",
      "\n",
      "Attaching package: 'proxy'\n",
      "\n",
      "The following object is masked from 'package:IRanges':\n",
      "\n",
      "    as.matrix\n",
      "\n",
      "The following object is masked from 'package:S4Vectors':\n",
      "\n",
      "    as.matrix\n",
      "\n",
      "The following object is masked from 'package:Matrix':\n",
      "\n",
      "    as.matrix\n",
      "\n",
      "The following objects are masked from 'package:stats':\n",
      "\n",
      "    as.dist, dist\n",
      "\n",
      "The following object is masked from 'package:base':\n",
      "\n",
      "    as.matrix\n",
      "\n",
      "\n",
      "Attaching package: 'reshape2'\n",
      "\n",
      "The following objects are masked from 'package:data.table':\n",
      "\n",
      "    dcast, melt\n",
      "\n",
      "Loading required package: MASS\n"
     ]
    }
   ],
   "source": [
    "library(cicero)\n",
    "library(data.table)\n",
    "library(Matrix)\n",
    "library(proxy)\n",
    "library(reshape2)\n",
    "library(BuenColors)\n",
    "library(umap)"
   ]
  },
  {
   "cell_type": "code",
   "execution_count": null,
   "metadata": {},
   "outputs": [],
   "source": []
  },
  {
   "cell_type": "markdown",
   "metadata": {},
   "source": [
    "### Preprocess"
   ]
  },
  {
   "cell_type": "markdown",
   "metadata": {},
   "source": [
    "`bsub < count_reads_peaks.sh`"
   ]
  },
  {
   "cell_type": "code",
   "execution_count": 3,
   "metadata": {},
   "outputs": [
    {
     "data": {
      "text/html": [
       "2034"
      ],
      "text/latex": [
       "2034"
      ],
      "text/markdown": [
       "2034"
      ],
      "text/plain": [
       "[1] 2034"
      ]
     },
     "metadata": {},
     "output_type": "display_data"
    }
   ],
   "source": [
    "path = './count_reads_peaks_output/'\n",
    "files <- list.files(path,pattern = \"\\\\.txt$\")\n",
    "length(files)"
   ]
  },
  {
   "cell_type": "code",
   "execution_count": null,
   "metadata": {},
   "outputs": [],
   "source": [
    "#assuming tab separated values with a header    \n",
    "datalist = lapply(files, function(x)fread(paste0(path,x))$V4) \n",
    "#assuming the same header/columns for all files\n",
    "datafr = do.call(\"cbind\", datalist) "
   ]
  },
  {
   "cell_type": "code",
   "execution_count": 5,
   "metadata": {},
   "outputs": [
    {
     "data": {
      "text/html": [
       "<ol class=list-inline>\n",
       "\t<li>237450</li>\n",
       "\t<li>2034</li>\n",
       "</ol>\n"
      ],
      "text/latex": [
       "\\begin{enumerate*}\n",
       "\\item 237450\n",
       "\\item 2034\n",
       "\\end{enumerate*}\n"
      ],
      "text/markdown": [
       "1. 237450\n",
       "2. 2034\n",
       "\n",
       "\n"
      ],
      "text/plain": [
       "[1] 237450   2034"
      ]
     },
     "metadata": {},
     "output_type": "display_data"
    }
   ],
   "source": [
    "dim(datafr)"
   ]
  },
  {
   "cell_type": "code",
   "execution_count": 6,
   "metadata": {},
   "outputs": [],
   "source": [
    "df_regions = read.csv(\"../../input/combined.sorted.merged.bed\",\n",
    "                      sep = '\\t',header=FALSE,stringsAsFactors=FALSE)"
   ]
  },
  {
   "cell_type": "code",
   "execution_count": 7,
   "metadata": {},
   "outputs": [
    {
     "data": {
      "text/html": [
       "<ol class=list-inline>\n",
       "\t<li>237450</li>\n",
       "\t<li>3</li>\n",
       "</ol>\n"
      ],
      "text/latex": [
       "\\begin{enumerate*}\n",
       "\\item 237450\n",
       "\\item 3\n",
       "\\end{enumerate*}\n"
      ],
      "text/markdown": [
       "1. 237450\n",
       "2. 3\n",
       "\n",
       "\n"
      ],
      "text/plain": [
       "[1] 237450      3"
      ]
     },
     "metadata": {},
     "output_type": "display_data"
    }
   ],
   "source": [
    "dim(df_regions)"
   ]
  },
  {
   "cell_type": "code",
   "execution_count": 8,
   "metadata": {},
   "outputs": [],
   "source": [
    "peaknames = paste(df_regions$V1,df_regions$V2,df_regions$V3,sep = \"_\")"
   ]
  },
  {
   "cell_type": "code",
   "execution_count": 9,
   "metadata": {},
   "outputs": [
    {
     "data": {
      "text/html": [
       "<ol class=list-inline>\n",
       "\t<li>'chr1_10413_10625'</li>\n",
       "\t<li>'chr1_13380_13624'</li>\n",
       "\t<li>'chr1_16145_16354'</li>\n",
       "\t<li>'chr1_96388_96812'</li>\n",
       "\t<li>'chr1_115650_115812'</li>\n",
       "\t<li>'chr1_237625_237888'</li>\n",
       "</ol>\n"
      ],
      "text/latex": [
       "\\begin{enumerate*}\n",
       "\\item 'chr1\\_10413\\_10625'\n",
       "\\item 'chr1\\_13380\\_13624'\n",
       "\\item 'chr1\\_16145\\_16354'\n",
       "\\item 'chr1\\_96388\\_96812'\n",
       "\\item 'chr1\\_115650\\_115812'\n",
       "\\item 'chr1\\_237625\\_237888'\n",
       "\\end{enumerate*}\n"
      ],
      "text/markdown": [
       "1. 'chr1_10413_10625'\n",
       "2. 'chr1_13380_13624'\n",
       "3. 'chr1_16145_16354'\n",
       "4. 'chr1_96388_96812'\n",
       "5. 'chr1_115650_115812'\n",
       "6. 'chr1_237625_237888'\n",
       "\n",
       "\n"
      ],
      "text/plain": [
       "[1] \"chr1_10413_10625\"   \"chr1_13380_13624\"   \"chr1_16145_16354\"  \n",
       "[4] \"chr1_96388_96812\"   \"chr1_115650_115812\" \"chr1_237625_237888\""
      ]
     },
     "metadata": {},
     "output_type": "display_data"
    }
   ],
   "source": [
    "head(peaknames)"
   ]
  },
  {
   "cell_type": "code",
   "execution_count": 10,
   "metadata": {},
   "outputs": [
    {
     "data": {
      "text/html": [
       "<ol class=list-inline>\n",
       "\t<li>'BM1077-CLP-Frozen-160106-13'</li>\n",
       "\t<li>'BM1077-CLP-Frozen-160106-14'</li>\n",
       "\t<li>'BM1077-CLP-Frozen-160106-2'</li>\n",
       "\t<li>'BM1077-CLP-Frozen-160106-21'</li>\n",
       "\t<li>'BM1077-CLP-Frozen-160106-27'</li>\n",
       "\t<li>'BM1077-CLP-Frozen-160106-3'</li>\n",
       "</ol>\n"
      ],
      "text/latex": [
       "\\begin{enumerate*}\n",
       "\\item 'BM1077-CLP-Frozen-160106-13'\n",
       "\\item 'BM1077-CLP-Frozen-160106-14'\n",
       "\\item 'BM1077-CLP-Frozen-160106-2'\n",
       "\\item 'BM1077-CLP-Frozen-160106-21'\n",
       "\\item 'BM1077-CLP-Frozen-160106-27'\n",
       "\\item 'BM1077-CLP-Frozen-160106-3'\n",
       "\\end{enumerate*}\n"
      ],
      "text/markdown": [
       "1. 'BM1077-CLP-Frozen-160106-13'\n",
       "2. 'BM1077-CLP-Frozen-160106-14'\n",
       "3. 'BM1077-CLP-Frozen-160106-2'\n",
       "4. 'BM1077-CLP-Frozen-160106-21'\n",
       "5. 'BM1077-CLP-Frozen-160106-27'\n",
       "6. 'BM1077-CLP-Frozen-160106-3'\n",
       "\n",
       "\n"
      ],
      "text/plain": [
       "[1] \"BM1077-CLP-Frozen-160106-13\" \"BM1077-CLP-Frozen-160106-14\"\n",
       "[3] \"BM1077-CLP-Frozen-160106-2\"  \"BM1077-CLP-Frozen-160106-21\"\n",
       "[5] \"BM1077-CLP-Frozen-160106-27\" \"BM1077-CLP-Frozen-160106-3\" "
      ]
     },
     "metadata": {},
     "output_type": "display_data"
    }
   ],
   "source": [
    "head(sapply(strsplit(files,'\\\\.'),'[', 1))"
   ]
  },
  {
   "cell_type": "code",
   "execution_count": 11,
   "metadata": {},
   "outputs": [],
   "source": [
    "colnames(datafr) = sapply(strsplit(files,'\\\\.'),'[', 1)\n",
    "rownames(datafr) = peaknames"
   ]
  },
  {
   "cell_type": "code",
   "execution_count": 12,
   "metadata": {},
   "outputs": [
    {
     "data": {
      "text/html": [
       "<table>\n",
       "<thead><tr><th></th><th scope=col>BM1077-CLP-Frozen-160106-13</th><th scope=col>BM1077-CLP-Frozen-160106-14</th><th scope=col>BM1077-CLP-Frozen-160106-2</th><th scope=col>BM1077-CLP-Frozen-160106-21</th><th scope=col>BM1077-CLP-Frozen-160106-27</th></tr></thead>\n",
       "<tbody>\n",
       "\t<tr><th scope=row>chr1_10413_10625</th><td>0</td><td>0</td><td>0</td><td>0</td><td>0</td></tr>\n",
       "\t<tr><th scope=row>chr1_13380_13624</th><td>0</td><td>0</td><td>0</td><td>0</td><td>0</td></tr>\n",
       "\t<tr><th scope=row>chr1_16145_16354</th><td>0</td><td>0</td><td>0</td><td>0</td><td>0</td></tr>\n",
       "\t<tr><th scope=row>chr1_96388_96812</th><td>0</td><td>0</td><td>0</td><td>0</td><td>0</td></tr>\n",
       "\t<tr><th scope=row>chr1_115650_115812</th><td>0</td><td>0</td><td>0</td><td>0</td><td>0</td></tr>\n",
       "</tbody>\n",
       "</table>\n"
      ],
      "text/latex": [
       "\\begin{tabular}{r|lllll}\n",
       "  & BM1077-CLP-Frozen-160106-13 & BM1077-CLP-Frozen-160106-14 & BM1077-CLP-Frozen-160106-2 & BM1077-CLP-Frozen-160106-21 & BM1077-CLP-Frozen-160106-27\\\\\n",
       "\\hline\n",
       "\tchr1\\_10413\\_10625 & 0 & 0 & 0 & 0 & 0\\\\\n",
       "\tchr1\\_13380\\_13624 & 0 & 0 & 0 & 0 & 0\\\\\n",
       "\tchr1\\_16145\\_16354 & 0 & 0 & 0 & 0 & 0\\\\\n",
       "\tchr1\\_96388\\_96812 & 0 & 0 & 0 & 0 & 0\\\\\n",
       "\tchr1\\_115650\\_115812 & 0 & 0 & 0 & 0 & 0\\\\\n",
       "\\end{tabular}\n"
      ],
      "text/markdown": [
       "\n",
       "| <!--/--> | BM1077-CLP-Frozen-160106-13 | BM1077-CLP-Frozen-160106-14 | BM1077-CLP-Frozen-160106-2 | BM1077-CLP-Frozen-160106-21 | BM1077-CLP-Frozen-160106-27 |\n",
       "|---|---|---|---|---|---|\n",
       "| chr1_10413_10625 | 0 | 0 | 0 | 0 | 0 |\n",
       "| chr1_13380_13624 | 0 | 0 | 0 | 0 | 0 |\n",
       "| chr1_16145_16354 | 0 | 0 | 0 | 0 | 0 |\n",
       "| chr1_96388_96812 | 0 | 0 | 0 | 0 | 0 |\n",
       "| chr1_115650_115812 | 0 | 0 | 0 | 0 | 0 |\n",
       "\n"
      ],
      "text/plain": [
       "                   BM1077-CLP-Frozen-160106-13 BM1077-CLP-Frozen-160106-14\n",
       "chr1_10413_10625   0                           0                          \n",
       "chr1_13380_13624   0                           0                          \n",
       "chr1_16145_16354   0                           0                          \n",
       "chr1_96388_96812   0                           0                          \n",
       "chr1_115650_115812 0                           0                          \n",
       "                   BM1077-CLP-Frozen-160106-2 BM1077-CLP-Frozen-160106-21\n",
       "chr1_10413_10625   0                          0                          \n",
       "chr1_13380_13624   0                          0                          \n",
       "chr1_16145_16354   0                          0                          \n",
       "chr1_96388_96812   0                          0                          \n",
       "chr1_115650_115812 0                          0                          \n",
       "                   BM1077-CLP-Frozen-160106-27\n",
       "chr1_10413_10625   0                          \n",
       "chr1_13380_13624   0                          \n",
       "chr1_16145_16354   0                          \n",
       "chr1_96388_96812   0                          \n",
       "chr1_115650_115812 0                          "
      ]
     },
     "metadata": {},
     "output_type": "display_data"
    }
   ],
   "source": [
    "datafr[1:5,1:5]"
   ]
  },
  {
   "cell_type": "code",
   "execution_count": 13,
   "metadata": {},
   "outputs": [
    {
     "data": {
      "text/html": [
       "<ol class=list-inline>\n",
       "\t<li>237450</li>\n",
       "\t<li>2034</li>\n",
       "</ol>\n"
      ],
      "text/latex": [
       "\\begin{enumerate*}\n",
       "\\item 237450\n",
       "\\item 2034\n",
       "\\end{enumerate*}\n"
      ],
      "text/markdown": [
       "1. 237450\n",
       "2. 2034\n",
       "\n",
       "\n"
      ],
      "text/plain": [
       "[1] 237450   2034"
      ]
     },
     "metadata": {},
     "output_type": "display_data"
    }
   ],
   "source": [
    "dim(datafr)"
   ]
  },
  {
   "cell_type": "code",
   "execution_count": 14,
   "metadata": {},
   "outputs": [],
   "source": [
    "# saveRDS(datafr, file = './datafr.rds')\n",
    "# datafr = readRDS('./datafr.rds')"
   ]
  },
  {
   "cell_type": "code",
   "execution_count": 16,
   "metadata": {},
   "outputs": [],
   "source": [
    "mat_sparse = as(datafr, \"dgTMatrix\")\n",
    "cicero_data = data.frame(cbind(Peak=rownames(datafr)[mat_sparse@i+1],\n",
    "                               Cell=colnames(datafr)[mat_sparse@j+1],\n",
    "                               Count=mat_sparse@x),stringsAsFactors = FALSE)\n",
    "cicero_data$Count = as.numeric(cicero_data$Count)"
   ]
  },
  {
   "cell_type": "code",
   "execution_count": 71,
   "metadata": {
    "scrolled": true
   },
   "outputs": [
    {
     "data": {
      "text/html": [
       "<table>\n",
       "<thead><tr><th scope=col>Peak</th><th scope=col>Cell</th><th scope=col>Count</th></tr></thead>\n",
       "<tbody>\n",
       "\t<tr><td>chr1_1240748_1241351       </td><td>BM1077-CLP-Frozen-160106-13</td><td>4                          </td></tr>\n",
       "\t<tr><td>chr1_2427677_2428017       </td><td>BM1077-CLP-Frozen-160106-13</td><td>2                          </td></tr>\n",
       "\t<tr><td>chr1_2486986_2488268       </td><td>BM1077-CLP-Frozen-160106-13</td><td>2                          </td></tr>\n",
       "\t<tr><td>chr1_8442693_8443580       </td><td>BM1077-CLP-Frozen-160106-13</td><td>2                          </td></tr>\n",
       "\t<tr><td>chr1_8877572_8878334       </td><td>BM1077-CLP-Frozen-160106-13</td><td>2                          </td></tr>\n",
       "\t<tr><td>chr1_9294304_9295359       </td><td>BM1077-CLP-Frozen-160106-13</td><td>2                          </td></tr>\n",
       "</tbody>\n",
       "</table>\n"
      ],
      "text/latex": [
       "\\begin{tabular}{r|lll}\n",
       " Peak & Cell & Count\\\\\n",
       "\\hline\n",
       "\t chr1\\_1240748\\_1241351    & BM1077-CLP-Frozen-160106-13 & 4                          \\\\\n",
       "\t chr1\\_2427677\\_2428017    & BM1077-CLP-Frozen-160106-13 & 2                          \\\\\n",
       "\t chr1\\_2486986\\_2488268    & BM1077-CLP-Frozen-160106-13 & 2                          \\\\\n",
       "\t chr1\\_8442693\\_8443580    & BM1077-CLP-Frozen-160106-13 & 2                          \\\\\n",
       "\t chr1\\_8877572\\_8878334    & BM1077-CLP-Frozen-160106-13 & 2                          \\\\\n",
       "\t chr1\\_9294304\\_9295359    & BM1077-CLP-Frozen-160106-13 & 2                          \\\\\n",
       "\\end{tabular}\n"
      ],
      "text/markdown": [
       "\n",
       "| Peak | Cell | Count |\n",
       "|---|---|---|\n",
       "| chr1_1240748_1241351        | BM1077-CLP-Frozen-160106-13 | 4                           |\n",
       "| chr1_2427677_2428017        | BM1077-CLP-Frozen-160106-13 | 2                           |\n",
       "| chr1_2486986_2488268        | BM1077-CLP-Frozen-160106-13 | 2                           |\n",
       "| chr1_8442693_8443580        | BM1077-CLP-Frozen-160106-13 | 2                           |\n",
       "| chr1_8877572_8878334        | BM1077-CLP-Frozen-160106-13 | 2                           |\n",
       "| chr1_9294304_9295359        | BM1077-CLP-Frozen-160106-13 | 2                           |\n",
       "\n"
      ],
      "text/plain": [
       "  Peak                 Cell                        Count\n",
       "1 chr1_1240748_1241351 BM1077-CLP-Frozen-160106-13 4    \n",
       "2 chr1_2427677_2428017 BM1077-CLP-Frozen-160106-13 2    \n",
       "3 chr1_2486986_2488268 BM1077-CLP-Frozen-160106-13 2    \n",
       "4 chr1_8442693_8443580 BM1077-CLP-Frozen-160106-13 2    \n",
       "5 chr1_8877572_8878334 BM1077-CLP-Frozen-160106-13 2    \n",
       "6 chr1_9294304_9295359 BM1077-CLP-Frozen-160106-13 2    "
      ]
     },
     "metadata": {},
     "output_type": "display_data"
    }
   ],
   "source": [
    "head(cicero_data)"
   ]
  },
  {
   "cell_type": "code",
   "execution_count": null,
   "metadata": {},
   "outputs": [],
   "source": []
  },
  {
   "cell_type": "markdown",
   "metadata": {},
   "source": [
    "### Obtain Feature Matrix"
   ]
  },
  {
   "cell_type": "code",
   "execution_count": 17,
   "metadata": {},
   "outputs": [],
   "source": [
    "start_time <- Sys.time()"
   ]
  },
  {
   "cell_type": "code",
   "execution_count": 18,
   "metadata": {},
   "outputs": [],
   "source": [
    "metadata <- read.table('../../input/metadata.tsv',\n",
    "                         header = TRUE,\n",
    "                         stringsAsFactors=FALSE,quote=\"\",row.names=1)"
   ]
  },
  {
   "cell_type": "code",
   "execution_count": 19,
   "metadata": {
    "scrolled": true
   },
   "outputs": [],
   "source": [
    "input_cds <- make_atac_cds(cicero_data, binarize = TRUE)"
   ]
  },
  {
   "cell_type": "code",
   "execution_count": 20,
   "metadata": {},
   "outputs": [],
   "source": [
    "pData(input_cds)$label = metadata[rownames(pData(input_cds)),'label']"
   ]
  },
  {
   "cell_type": "code",
   "execution_count": 21,
   "metadata": {
    "scrolled": true
   },
   "outputs": [
    {
     "data": {
      "text/html": [
       "<dl class=dl-horizontal>\n",
       "\t<dt>Features</dt>\n",
       "\t\t<dd>237450</dd>\n",
       "\t<dt>Samples</dt>\n",
       "\t\t<dd>2034</dd>\n",
       "</dl>\n"
      ],
      "text/latex": [
       "\\begin{description*}\n",
       "\\item[Features] 237450\n",
       "\\item[Samples] 2034\n",
       "\\end{description*}\n"
      ],
      "text/markdown": [
       "Features\n",
       ":   237450Samples\n",
       ":   2034\n",
       "\n"
      ],
      "text/plain": [
       "Features  Samples \n",
       "  237450     2034 "
      ]
     },
     "metadata": {},
     "output_type": "display_data"
    }
   ],
   "source": [
    "dim(input_cds)"
   ]
  },
  {
   "cell_type": "code",
   "execution_count": 22,
   "metadata": {},
   "outputs": [],
   "source": [
    "#Ensure there are no peaks included with zero reads\n",
    "input_cds <- input_cds[Matrix::rowSums(exprs(input_cds)) != 0,] "
   ]
  },
  {
   "cell_type": "code",
   "execution_count": 23,
   "metadata": {
    "scrolled": true
   },
   "outputs": [
    {
     "data": {
      "text/html": [
       "<dl class=dl-horizontal>\n",
       "\t<dt>Features</dt>\n",
       "\t\t<dd>237450</dd>\n",
       "\t<dt>Samples</dt>\n",
       "\t\t<dd>2034</dd>\n",
       "</dl>\n"
      ],
      "text/latex": [
       "\\begin{description*}\n",
       "\\item[Features] 237450\n",
       "\\item[Samples] 2034\n",
       "\\end{description*}\n"
      ],
      "text/markdown": [
       "Features\n",
       ":   237450Samples\n",
       ":   2034\n",
       "\n"
      ],
      "text/plain": [
       "Features  Samples \n",
       "  237450     2034 "
      ]
     },
     "metadata": {},
     "output_type": "display_data"
    }
   ],
   "source": [
    "dim(input_cds)"
   ]
  },
  {
   "cell_type": "code",
   "execution_count": 24,
   "metadata": {},
   "outputs": [],
   "source": [
    "set.seed(2019)\n",
    "input_cds <- detectGenes(input_cds)\n",
    "input_cds <- estimateSizeFactors(input_cds)\n",
    "input_cds <- reduceDimension(input_cds, max_components = 2, num_dim=15,\n",
    "                        reduction_method = 'tSNE', norm_method = \"none\")"
   ]
  },
  {
   "cell_type": "code",
   "execution_count": 25,
   "metadata": {},
   "outputs": [],
   "source": [
    "tsne_coords <- t(reducedDimA(input_cds))"
   ]
  },
  {
   "cell_type": "code",
   "execution_count": 26,
   "metadata": {},
   "outputs": [
    {
     "data": {
      "text/html": [
       "<table>\n",
       "<tbody>\n",
       "\t<tr><td>5.978882 </td><td>-24.45483</td></tr>\n",
       "\t<tr><td>6.585963 </td><td>-28.13208</td></tr>\n",
       "\t<tr><td>6.676215 </td><td>-28.01971</td></tr>\n",
       "\t<tr><td>6.429126 </td><td>-28.21335</td></tr>\n",
       "\t<tr><td>4.781831 </td><td>-25.64204</td></tr>\n",
       "\t<tr><td>4.746844 </td><td>-21.90432</td></tr>\n",
       "</tbody>\n",
       "</table>\n"
      ],
      "text/latex": [
       "\\begin{tabular}{ll}\n",
       "\t 5.978882  & -24.45483\\\\\n",
       "\t 6.585963  & -28.13208\\\\\n",
       "\t 6.676215  & -28.01971\\\\\n",
       "\t 6.429126  & -28.21335\\\\\n",
       "\t 4.781831  & -25.64204\\\\\n",
       "\t 4.746844  & -21.90432\\\\\n",
       "\\end{tabular}\n"
      ],
      "text/markdown": [
       "\n",
       "| 5.978882  | -24.45483 |\n",
       "| 6.585963  | -28.13208 |\n",
       "| 6.676215  | -28.01971 |\n",
       "| 6.429126  | -28.21335 |\n",
       "| 4.781831  | -25.64204 |\n",
       "| 4.746844  | -21.90432 |\n",
       "\n"
      ],
      "text/plain": [
       "     [,1]     [,2]     \n",
       "[1,] 5.978882 -24.45483\n",
       "[2,] 6.585963 -28.13208\n",
       "[3,] 6.676215 -28.01971\n",
       "[4,] 6.429126 -28.21335\n",
       "[5,] 4.781831 -25.64204\n",
       "[6,] 4.746844 -21.90432"
      ]
     },
     "metadata": {},
     "output_type": "display_data"
    }
   ],
   "source": [
    "head(tsne_coords)"
   ]
  },
  {
   "cell_type": "code",
   "execution_count": 27,
   "metadata": {
    "scrolled": true
   },
   "outputs": [],
   "source": [
    "df_tsne_coords = data.frame(cbind(tsne_coords,as.character(pData(input_cds)$label)),stringsAsFactors = FALSE)\n",
    "colnames(df_tsne_coords) = c('tsne_1','tsne_2','label')\n",
    "df_tsne_coords$tsne_1 = as.numeric(df_tsne_coords$tsne_1)\n",
    "df_tsne_coords$tsne_2 = as.numeric(df_tsne_coords$tsne_2)"
   ]
  },
  {
   "cell_type": "code",
   "execution_count": 28,
   "metadata": {},
   "outputs": [
    {
     "data": {
      "image/png": "[encoded data removed]",
      "text/plain": [
       "plot without title"
      ]
     },
     "metadata": {},
     "output_type": "display_data"
    }
   ],
   "source": [
    "all_color_maps <- c(jdb_color_maps, \"UNK\" = \"#333333\" )\n",
    "options(repr.plot.width=4, repr.plot.height=3)\n",
    "p <- ggplot(shuf(df_tsne_coords), aes(x = tsne_1, y = tsne_2, color = label)) +\n",
    "  geom_point(size = 1) + scale_color_manual(values = all_color_maps) +\n",
    "  ggtitle('tSNE') + theme_classic()\n",
    "p"
   ]
  },
  {
   "cell_type": "code",
   "execution_count": null,
   "metadata": {},
   "outputs": [],
   "source": []
  },
  {
   "cell_type": "code",
   "execution_count": 29,
   "metadata": {},
   "outputs": [],
   "source": [
    "data(\"human.hg19.genome\")\n",
    "genome_ref = human.hg19.genome\n",
    "file_tss='../../input/hg19/hg19-tss.bed'"
   ]
  },
  {
   "cell_type": "code",
   "execution_count": 30,
   "metadata": {
    "scrolled": true
   },
   "outputs": [
    {
     "data": {
      "text/html": [
       "<table>\n",
       "<thead><tr><th scope=col>V1</th><th scope=col>V2</th></tr></thead>\n",
       "<tbody>\n",
       "\t<tr><td>chr1     </td><td>249250621</td></tr>\n",
       "\t<tr><td>chr2     </td><td>243199373</td></tr>\n",
       "\t<tr><td>chr3     </td><td>198022430</td></tr>\n",
       "\t<tr><td>chr4     </td><td>191154276</td></tr>\n",
       "\t<tr><td>chr5     </td><td>180915260</td></tr>\n",
       "\t<tr><td>chr6     </td><td>171115067</td></tr>\n",
       "</tbody>\n",
       "</table>\n"
      ],
      "text/latex": [
       "\\begin{tabular}{r|ll}\n",
       " V1 & V2\\\\\n",
       "\\hline\n",
       "\t chr1      & 249250621\\\\\n",
       "\t chr2      & 243199373\\\\\n",
       "\t chr3      & 198022430\\\\\n",
       "\t chr4      & 191154276\\\\\n",
       "\t chr5      & 180915260\\\\\n",
       "\t chr6      & 171115067\\\\\n",
       "\\end{tabular}\n"
      ],
      "text/markdown": [
       "\n",
       "| V1 | V2 |\n",
       "|---|---|\n",
       "| chr1      | 249250621 |\n",
       "| chr2      | 243199373 |\n",
       "| chr3      | 198022430 |\n",
       "| chr4      | 191154276 |\n",
       "| chr5      | 180915260 |\n",
       "| chr6      | 171115067 |\n",
       "\n"
      ],
      "text/plain": [
       "  V1   V2       \n",
       "1 chr1 249250621\n",
       "2 chr2 243199373\n",
       "3 chr3 198022430\n",
       "4 chr4 191154276\n",
       "5 chr5 180915260\n",
       "6 chr6 171115067"
      ]
     },
     "metadata": {},
     "output_type": "display_data"
    }
   ],
   "source": [
    "head(genome_ref)"
   ]
  },
  {
   "cell_type": "code",
   "execution_count": 31,
   "metadata": {
    "scrolled": true
   },
   "outputs": [
    {
     "name": "stderr",
     "output_type": "stream",
     "text": [
      "Overlap QC metrics:\n",
      "Cells per bin: 50\n",
      "Maximum shared cells bin-bin: 44\n",
      "Mean shared cells bin-bin: 1.43827978041384\n",
      "Median shared cells bin-bin: 0\n"
     ]
    },
    {
     "name": "stdout",
     "output_type": "stream",
     "text": [
      "[1] \"Starting Cicero\"\n",
      "[1] \"Calculating distance_parameter value\"\n",
      "[1] \"Running models\"\n",
      "[1] \"Assembling connections\"\n",
      "[1] \"Done\"\n"
     ]
    }
   ],
   "source": [
    "row.names(tsne_coords) <- row.names(pData(input_cds))\n",
    "cicero_cds <- make_cicero_cds(input_cds, reduced_coordinates = tsne_coords)\n",
    "conns <- run_cicero(cicero_cds, genome_ref) # Takes a few minutes to run"
   ]
  },
  {
   "cell_type": "code",
   "execution_count": 32,
   "metadata": {
    "scrolled": true
   },
   "outputs": [],
   "source": [
    "gene_annotation <- read.table(file_tss,sep='\\t')\n",
    "names(gene_annotation)[4] <- \"gene\"    \n",
    "gene_annotation_pos <- subset(gene_annotation, V5 == \"+\")\n",
    "gene_annotation_pos$V3 <- gene_annotation_pos$V2 + 1\n",
    "gene_annotation_neg <- subset(gene_annotation, V5 == \"-\")\n",
    "gene_annotation_neg$V2 <- gene_annotation_neg$V3 - 1\n",
    "tss <- rbind(gene_annotation_pos, gene_annotation_neg)    "
   ]
  },
  {
   "cell_type": "code",
   "execution_count": 33,
   "metadata": {},
   "outputs": [],
   "source": [
    "input_cds <- annotate_cds_by_site(input_cds, tss)\n",
    "# generate unnormalized gene activity matrix\n",
    "unnorm_ga <- build_gene_activity_matrix(input_cds, conns)\n",
    "unnorm_ga <- unnorm_ga[!Matrix::rowSums(unnorm_ga) == 0,]\n",
    "\n",
    "# make a list of num_genes_expressed\n",
    "num_genes <- pData(input_cds)$num_genes_expressed\n",
    "names(num_genes) <- row.names(pData(input_cds))\n",
    "\n",
    "# normalize\n",
    "cicero_gene_activities <- normalize_gene_activities(unnorm_ga, num_genes)    \n",
    "fm_Cicero = as.matrix(cicero_gene_activities)"
   ]
  },
  {
   "cell_type": "code",
   "execution_count": 34,
   "metadata": {},
   "outputs": [],
   "source": [
    "end_time <- Sys.time()"
   ]
  },
  {
   "cell_type": "code",
   "execution_count": 35,
   "metadata": {},
   "outputs": [
    {
     "data": {
      "text/plain": [
       "Time difference of 15.9385 mins"
      ]
     },
     "metadata": {},
     "output_type": "display_data"
    }
   ],
   "source": [
    "end_time - start_time"
   ]
  },
  {
   "cell_type": "code",
   "execution_count": null,
   "metadata": {},
   "outputs": [],
   "source": []
  },
  {
   "cell_type": "code",
   "execution_count": 44,
   "metadata": {
    "scrolled": true
   },
   "outputs": [
    {
     "data": {
      "text/html": [
       "TRUE"
      ],
      "text/latex": [
       "TRUE"
      ],
      "text/markdown": [
       "TRUE"
      ],
      "text/plain": [
       "[1] TRUE"
      ]
     },
     "metadata": {},
     "output_type": "display_data"
    }
   ],
   "source": [
    "all(colnames(fm_Cicero) == rownames(metadata))"
   ]
  },
  {
   "cell_type": "code",
   "execution_count": null,
   "metadata": {},
   "outputs": [],
   "source": []
  },
  {
   "cell_type": "code",
   "execution_count": 37,
   "metadata": {},
   "outputs": [],
   "source": [
    "saveRDS(fm_Cicero, file = '../../output/feature_matrices/FM_Cicero_buenrostro2018.rds')"
   ]
  },
  {
   "cell_type": "code",
   "execution_count": null,
   "metadata": {},
   "outputs": [],
   "source": []
  },
  {
   "cell_type": "markdown",
   "metadata": {},
   "source": [
    "### Downstream Analysis"
   ]
  },
  {
   "cell_type": "code",
   "execution_count": 38,
   "metadata": {},
   "outputs": [],
   "source": [
    "df_umap_Cicero <- umap(t(fm_Cicero))$layout"
   ]
  },
  {
   "cell_type": "code",
   "execution_count": 39,
   "metadata": {},
   "outputs": [
    {
     "data": {
      "image/png": "[encoded data removed]",
      "text/plain": [
       "plot without title"
      ]
     },
     "metadata": {},
     "output_type": "display_data"
    }
   ],
   "source": [
    "df_umap = data.frame(cbind(df_umap_Cicero,metadata[rownames(pData(input_cds)),'label']),stringsAsFactors = FALSE)\n",
    "colnames(df_umap) = c('umap_1','umap_2','label')\n",
    "df_umap$umap_1 = as.numeric(df_umap$umap_1)\n",
    "df_umap$umap_2 = as.numeric(df_umap$umap_2)\n",
    "options(repr.plot.width=5, repr.plot.height=4)\n",
    "p <- ggplot(df_umap, aes(x = umap_1, y = umap_2, color = label)) +\n",
    "  geom_point(size = 1) + scale_color_manual(values = all_color_maps) +\n",
    "  ggtitle('Cicero') + theme_classic()\n",
    "p"
   ]
  },
  {
   "cell_type": "code",
   "execution_count": 40,
   "metadata": {
    "scrolled": true
   },
   "outputs": [
    {
     "data": {
      "text/plain": [
       "R version 3.5.1 (2018-07-02)\n",
       "Platform: x86_64-conda_cos6-linux-gnu (64-bit)\n",
       "Running under: CentOS Linux 7 (Core)\n",
       "\n",
       "Matrix products: default\n",
       "BLAS/LAPACK: /data/pinello/SHARED_SOFTWARE/anaconda3/envs/ATACseq_Cicero/lib/R/lib/libRblas.so\n",
       "\n",
       "locale:\n",
       " [1] LC_CTYPE=en_US.UTF-8       LC_NUMERIC=C              \n",
       " [3] LC_TIME=en_US.UTF-8        LC_COLLATE=en_US.UTF-8    \n",
       " [5] LC_MONETARY=en_US.UTF-8    LC_MESSAGES=en_US.UTF-8   \n",
       " [7] LC_PAPER=en_US.UTF-8       LC_NAME=C                 \n",
       " [9] LC_ADDRESS=C               LC_TELEPHONE=C            \n",
       "[11] LC_MEASUREMENT=en_US.UTF-8 LC_IDENTIFICATION=C       \n",
       "\n",
       "attached base packages:\n",
       " [1] grid      splines   stats4    parallel  stats     graphics  grDevices\n",
       " [8] utils     datasets  methods   base     \n",
       "\n",
       "other attached packages:\n",
       " [1] umap_0.2.2.0         BuenColors_0.5.5     MASS_7.3-51.1       \n",
       " [4] reshape2_1.4.3       proxy_0.4-23         data.table_1.12.0   \n",
       " [7] cicero_1.0.15        Gviz_1.26.5          GenomicRanges_1.34.0\n",
       "[10] GenomeInfoDb_1.18.1  IRanges_2.16.0       S4Vectors_0.20.1    \n",
       "[13] monocle_2.10.1       DDRTree_0.1.5        irlba_2.3.3         \n",
       "[16] VGAM_1.0-6           ggplot2_3.1.0        Biobase_2.42.0      \n",
       "[19] BiocGenerics_0.28.0  Matrix_1.2-17       \n",
       "\n",
       "loaded via a namespace (and not attached):\n",
       "  [1] Rtsne_0.15                  colorspace_1.4-1           \n",
       "  [3] biovizBase_1.30.1           IRdisplay_0.7.0            \n",
       "  [5] htmlTable_1.13.1            XVector_0.22.0             \n",
       "  [7] base64enc_0.1-3             dichromat_2.0-0            \n",
       "  [9] rstudioapi_0.10             ggrepel_0.8.0              \n",
       " [11] bit64_0.9-7                 RSpectra_0.14-0            \n",
       " [13] AnnotationDbi_1.44.0        docopt_0.6.1               \n",
       " [15] knitr_1.22                  glasso_1.10                \n",
       " [17] IRkernel_0.8.15             Formula_1.2-3              \n",
       " [19] jsonlite_1.6                Rsamtools_1.34.0           \n",
       " [21] cluster_2.0.7-1             pheatmap_1.0.12            \n",
       " [23] compiler_3.5.1              httr_1.4.0                 \n",
       " [25] backports_1.1.3             assertthat_0.2.1           \n",
       " [27] lazyeval_0.2.2              limma_3.38.3               \n",
       " [29] acepack_1.4.1               htmltools_0.3.6            \n",
       " [31] prettyunits_1.0.2           tools_3.5.1                \n",
       " [33] igraph_1.2.4                gtable_0.3.0               \n",
       " [35] glue_1.3.1                  GenomeInfoDbData_1.2.1     \n",
       " [37] RANN_2.6.1                  dplyr_0.8.0.1              \n",
       " [39] Rcpp_1.0.1                  slam_0.1-45                \n",
       " [41] Biostrings_2.50.2           rtracklayer_1.42.1         \n",
       " [43] xfun_0.6                    stringr_1.4.0              \n",
       " [45] ensembldb_2.6.8             XML_3.98-1.19              \n",
       " [47] zlibbioc_1.28.0             scales_1.0.0               \n",
       " [49] BSgenome_1.50.0             VariantAnnotation_1.28.13  \n",
       " [51] hms_0.4.2                   ProtGenerics_1.14.0        \n",
       " [53] SummarizedExperiment_1.12.0 AnnotationFilter_1.6.0     \n",
       " [55] RColorBrewer_1.1-2          curl_3.3                   \n",
       " [57] reticulate_1.12             memoise_1.1.0              \n",
       " [59] gridExtra_2.3               biomaRt_2.38.0             \n",
       " [61] rpart_4.1-13                fastICA_1.2-1              \n",
       " [63] latticeExtra_0.6-28         stringi_1.4.3              \n",
       " [65] RSQLite_2.1.1               checkmate_1.9.1            \n",
       " [67] GenomicFeatures_1.34.8      densityClust_0.3           \n",
       " [69] BiocParallel_1.16.6         repr_0.19.2                \n",
       " [71] rlang_0.3.3                 pkgconfig_2.0.2            \n",
       " [73] matrixStats_0.54.0          bitops_1.0-6               \n",
       " [75] qlcMatrix_0.9.7             evaluate_0.13              \n",
       " [77] lattice_0.20-38             purrr_0.3.2                \n",
       " [79] labeling_0.3                GenomicAlignments_1.18.1   \n",
       " [81] htmlwidgets_1.3             bit_1.1-14                 \n",
       " [83] tidyselect_0.2.5            plyr_1.8.4                 \n",
       " [85] magrittr_1.5                R6_2.4.0                   \n",
       " [87] Hmisc_4.2-0                 combinat_0.0-8             \n",
       " [89] pbdZMQ_0.3-3                DelayedArray_0.8.0         \n",
       " [91] DBI_1.0.0                   pillar_1.3.1               \n",
       " [93] foreign_0.8-71              withr_2.1.2                \n",
       " [95] survival_2.43-3             RCurl_1.95-4.12            \n",
       " [97] nnet_7.3-12                 tibble_2.1.1               \n",
       " [99] crayon_1.3.4                uuid_0.1-2                 \n",
       "[101] viridis_0.5.1               progress_1.2.0             \n",
       "[103] blob_1.1.1                  FNN_1.1.3                  \n",
       "[105] HSMMSingleCell_1.2.0        sparsesvd_0.1-4            \n",
       "[107] digest_0.6.18               munsell_0.5.0              \n",
       "[109] viridisLite_0.3.0          "
      ]
     },
     "metadata": {},
     "output_type": "display_data"
    }
   ],
   "source": [
    "sessionInfo()"
   ]
  },
  {
   "cell_type": "code",
   "execution_count": 41,
   "metadata": {},
   "outputs": [],
   "source": [
    "save.image(file = 'Cicero_buenrostro2018.RData')"
   ]
  },
  {
   "cell_type": "code",
   "execution_count": null,
   "metadata": {},
   "outputs": [],
   "source": []
  }
 ],
 "metadata": {
  "kernelspec": {
   "display_name": "R [conda env:ATACseq_Cicero]",
   "language": "R",
   "name": "conda-env-ATACseq_Cicero-r"
  },
  "language_info": {
   "codemirror_mode": "r",
   "file_extension": ".r",
   "mimetype": "text/x-r-source",
   "name": "R",
   "pygments_lexer": "r",
   "version": "3.5.1"
  }
 },
 "nbformat": 4,
 "nbformat_minor": 2
}
