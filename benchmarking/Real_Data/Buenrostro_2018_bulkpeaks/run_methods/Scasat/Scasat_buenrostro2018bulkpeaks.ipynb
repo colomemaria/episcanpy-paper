{
 "cells": [
  {
   "cell_type": "markdown",
   "metadata": {},
   "source": [
    "### Import packages"
   ]
  },
  {
   "cell_type": "code",
   "execution_count": 1,
   "metadata": {},
   "outputs": [
    {
     "name": "stderr",
     "output_type": "stream",
     "text": [
      "Loading required package: MASS\n",
      "Loading required package: mclust\n",
      "Package 'mclust' version 5.4.3\n",
      "Type 'citation(\"mclust\")' for citing this R package in publications.\n"
     ]
    }
   ],
   "source": [
    "library(prabclus)\n",
    "library(Matrix)\n",
    "library(Rtsne)\n",
    "library(ggplot2) "
   ]
  },
  {
   "cell_type": "code",
   "execution_count": null,
   "metadata": {},
   "outputs": [],
   "source": []
  },
  {
   "cell_type": "markdown",
   "metadata": {},
   "source": [
    "### Preprocess"
   ]
  },
  {
   "cell_type": "markdown",
   "metadata": {},
   "source": [
    "`bsub < count_reads_peaks.sh`"
   ]
  },
  {
   "cell_type": "code",
   "execution_count": 2,
   "metadata": {},
   "outputs": [
    {
     "data": {
      "text/html": [
       "2034"
      ],
      "text/latex": [
       "2034"
      ],
      "text/markdown": [
       "2034"
      ],
      "text/plain": [
       "[1] 2034"
      ]
     },
     "metadata": {},
     "output_type": "display_data"
    }
   ],
   "source": [
    "path = './count_reads_peaks_output/'\n",
    "files <- list.files(path,pattern = \"\\\\.txt$\")\n",
    "length(files)"
   ]
  },
  {
   "cell_type": "code",
   "execution_count": null,
   "metadata": {},
   "outputs": [],
   "source": [
    "#assuming tab separated values with a header    \n",
    "datalist = lapply(files, function(x)fread(paste0(path,x))$V4) \n",
    "#assuming the same header/columns for all files\n",
    "datafr = do.call(\"cbind\", datalist) "
   ]
  },
  {
   "cell_type": "code",
   "execution_count": 4,
   "metadata": {},
   "outputs": [
    {
     "data": {
      "text/html": [
       "<ol class=list-inline>\n",
       "\t<li>491437</li>\n",
       "\t<li>2034</li>\n",
       "</ol>\n"
      ],
      "text/latex": [
       "\\begin{enumerate*}\n",
       "\\item 491437\n",
       "\\item 2034\n",
       "\\end{enumerate*}\n"
      ],
      "text/markdown": [
       "1. 491437\n",
       "2. 2034\n",
       "\n",
       "\n"
      ],
      "text/plain": [
       "[1] 491437   2034"
      ]
     },
     "metadata": {},
     "output_type": "display_data"
    }
   ],
   "source": [
    "dim(datafr)"
   ]
  },
  {
   "cell_type": "code",
   "execution_count": 5,
   "metadata": {},
   "outputs": [],
   "source": [
    "df_regions = read.csv(\"../../input/GSE96769_PeakFile_20160207.bed\",\n",
    "                      sep = '\\t',header=FALSE,stringsAsFactors=FALSE)"
   ]
  },
  {
   "cell_type": "code",
   "execution_count": 6,
   "metadata": {},
   "outputs": [
    {
     "data": {
      "text/html": [
       "<ol class=list-inline>\n",
       "\t<li>491437</li>\n",
       "\t<li>14</li>\n",
       "</ol>\n"
      ],
      "text/latex": [
       "\\begin{enumerate*}\n",
       "\\item 491437\n",
       "\\item 14\n",
       "\\end{enumerate*}\n"
      ],
      "text/markdown": [
       "1. 491437\n",
       "2. 14\n",
       "\n",
       "\n"
      ],
      "text/plain": [
       "[1] 491437     14"
      ]
     },
     "metadata": {},
     "output_type": "display_data"
    }
   ],
   "source": [
    "dim(df_regions)"
   ]
  },
  {
   "cell_type": "code",
   "execution_count": 7,
   "metadata": {},
   "outputs": [],
   "source": [
    "peaknames = paste(df_regions$V1,df_regions$V2,df_regions$V3,sep = \"_\")"
   ]
  },
  {
   "cell_type": "code",
   "execution_count": 8,
   "metadata": {},
   "outputs": [
    {
     "data": {
      "text/html": [
       "<ol class=list-inline>\n",
       "\t<li>'chr1_10279_10779'</li>\n",
       "\t<li>'chr1_13252_13752'</li>\n",
       "\t<li>'chr1_16019_16519'</li>\n",
       "\t<li>'chr1_29026_29526'</li>\n",
       "\t<li>'chr1_96364_96864'</li>\n",
       "\t<li>'chr1_115440_115940'</li>\n",
       "</ol>\n"
      ],
      "text/latex": [
       "\\begin{enumerate*}\n",
       "\\item 'chr1\\_10279\\_10779'\n",
       "\\item 'chr1\\_13252\\_13752'\n",
       "\\item 'chr1\\_16019\\_16519'\n",
       "\\item 'chr1\\_29026\\_29526'\n",
       "\\item 'chr1\\_96364\\_96864'\n",
       "\\item 'chr1\\_115440\\_115940'\n",
       "\\end{enumerate*}\n"
      ],
      "text/markdown": [
       "1. 'chr1_10279_10779'\n",
       "2. 'chr1_13252_13752'\n",
       "3. 'chr1_16019_16519'\n",
       "4. 'chr1_29026_29526'\n",
       "5. 'chr1_96364_96864'\n",
       "6. 'chr1_115440_115940'\n",
       "\n",
       "\n"
      ],
      "text/plain": [
       "[1] \"chr1_10279_10779\"   \"chr1_13252_13752\"   \"chr1_16019_16519\"  \n",
       "[4] \"chr1_29026_29526\"   \"chr1_96364_96864\"   \"chr1_115440_115940\""
      ]
     },
     "metadata": {},
     "output_type": "display_data"
    }
   ],
   "source": [
    "head(peaknames)"
   ]
  },
  {
   "cell_type": "code",
   "execution_count": 9,
   "metadata": {},
   "outputs": [
    {
     "data": {
      "text/html": [
       "<ol class=list-inline>\n",
       "\t<li>'BM1077-CLP-Frozen-160106-13'</li>\n",
       "\t<li>'BM1077-CLP-Frozen-160106-14'</li>\n",
       "\t<li>'BM1077-CLP-Frozen-160106-2'</li>\n",
       "\t<li>'BM1077-CLP-Frozen-160106-21'</li>\n",
       "\t<li>'BM1077-CLP-Frozen-160106-27'</li>\n",
       "\t<li>'BM1077-CLP-Frozen-160106-3'</li>\n",
       "</ol>\n"
      ],
      "text/latex": [
       "\\begin{enumerate*}\n",
       "\\item 'BM1077-CLP-Frozen-160106-13'\n",
       "\\item 'BM1077-CLP-Frozen-160106-14'\n",
       "\\item 'BM1077-CLP-Frozen-160106-2'\n",
       "\\item 'BM1077-CLP-Frozen-160106-21'\n",
       "\\item 'BM1077-CLP-Frozen-160106-27'\n",
       "\\item 'BM1077-CLP-Frozen-160106-3'\n",
       "\\end{enumerate*}\n"
      ],
      "text/markdown": [
       "1. 'BM1077-CLP-Frozen-160106-13'\n",
       "2. 'BM1077-CLP-Frozen-160106-14'\n",
       "3. 'BM1077-CLP-Frozen-160106-2'\n",
       "4. 'BM1077-CLP-Frozen-160106-21'\n",
       "5. 'BM1077-CLP-Frozen-160106-27'\n",
       "6. 'BM1077-CLP-Frozen-160106-3'\n",
       "\n",
       "\n"
      ],
      "text/plain": [
       "[1] \"BM1077-CLP-Frozen-160106-13\" \"BM1077-CLP-Frozen-160106-14\"\n",
       "[3] \"BM1077-CLP-Frozen-160106-2\"  \"BM1077-CLP-Frozen-160106-21\"\n",
       "[5] \"BM1077-CLP-Frozen-160106-27\" \"BM1077-CLP-Frozen-160106-3\" "
      ]
     },
     "metadata": {},
     "output_type": "display_data"
    }
   ],
   "source": [
    "head(sapply(strsplit(files,'\\\\.'),'[', 1))"
   ]
  },
  {
   "cell_type": "code",
   "execution_count": 10,
   "metadata": {},
   "outputs": [],
   "source": [
    "colnames(datafr) = sapply(strsplit(files,'\\\\.'),'[', 1)\n",
    "rownames(datafr) = peaknames"
   ]
  },
  {
   "cell_type": "code",
   "execution_count": 11,
   "metadata": {},
   "outputs": [
    {
     "data": {
      "text/html": [
       "<table>\n",
       "<thead><tr><th></th><th scope=col>BM1077-CLP-Frozen-160106-13</th><th scope=col>BM1077-CLP-Frozen-160106-14</th><th scope=col>BM1077-CLP-Frozen-160106-2</th><th scope=col>BM1077-CLP-Frozen-160106-21</th><th scope=col>BM1077-CLP-Frozen-160106-27</th><th scope=col>BM1077-CLP-Frozen-160106-3</th><th scope=col>BM1077-CLP-Frozen-160106-36</th><th scope=col>BM1077-CLP-Frozen-160106-42</th><th scope=col>BM1077-CLP-Frozen-160106-44</th><th scope=col>BM1077-CLP-Frozen-160106-50</th><th scope=col>⋯</th><th scope=col>singles-PB1022-mono-160128-81</th><th scope=col>singles-PB1022-mono-160128-82</th><th scope=col>singles-PB1022-mono-160128-83</th><th scope=col>singles-PB1022-mono-160128-84</th><th scope=col>singles-PB1022-mono-160128-85</th><th scope=col>singles-PB1022-mono-160128-86</th><th scope=col>singles-PB1022-mono-160128-89</th><th scope=col>singles-PB1022-mono-160128-90</th><th scope=col>singles-PB1022-mono-160128-95</th><th scope=col>singles-PB1022-mono-160128-96</th></tr></thead>\n",
       "<tbody>\n",
       "\t<tr><th scope=row>chr1_10279_10779</th><td>0</td><td>0</td><td>0</td><td>0</td><td>0</td><td>0</td><td>0</td><td>0</td><td>0</td><td>0</td><td>⋯</td><td>0</td><td>0</td><td>0</td><td>0</td><td>0</td><td>0</td><td>0</td><td>0</td><td>0</td><td>0</td></tr>\n",
       "\t<tr><th scope=row>chr1_13252_13752</th><td>0</td><td>0</td><td>0</td><td>0</td><td>0</td><td>0</td><td>0</td><td>0</td><td>0</td><td>0</td><td>⋯</td><td>0</td><td>0</td><td>0</td><td>0</td><td>0</td><td>0</td><td>0</td><td>0</td><td>0</td><td>0</td></tr>\n",
       "\t<tr><th scope=row>chr1_16019_16519</th><td>0</td><td>0</td><td>0</td><td>0</td><td>0</td><td>0</td><td>0</td><td>0</td><td>0</td><td>0</td><td>⋯</td><td>0</td><td>0</td><td>0</td><td>0</td><td>0</td><td>0</td><td>0</td><td>0</td><td>0</td><td>0</td></tr>\n",
       "\t<tr><th scope=row>chr1_29026_29526</th><td>0</td><td>0</td><td>0</td><td>0</td><td>0</td><td>0</td><td>0</td><td>0</td><td>2</td><td>0</td><td>⋯</td><td>0</td><td>0</td><td>2</td><td>0</td><td>2</td><td>3</td><td>0</td><td>0</td><td>0</td><td>0</td></tr>\n",
       "\t<tr><th scope=row>chr1_96364_96864</th><td>0</td><td>0</td><td>0</td><td>0</td><td>0</td><td>0</td><td>0</td><td>0</td><td>0</td><td>0</td><td>⋯</td><td>0</td><td>0</td><td>0</td><td>0</td><td>0</td><td>0</td><td>0</td><td>2</td><td>0</td><td>0</td></tr>\n",
       "\t<tr><th scope=row>chr1_115440_115940</th><td>0</td><td>0</td><td>0</td><td>0</td><td>0</td><td>0</td><td>0</td><td>0</td><td>0</td><td>0</td><td>⋯</td><td>0</td><td>0</td><td>0</td><td>0</td><td>0</td><td>0</td><td>0</td><td>0</td><td>0</td><td>0</td></tr>\n",
       "</tbody>\n",
       "</table>\n"
      ],
      "text/latex": [
       "\\begin{tabular}{r|llllllllllllllllllllllllllllllllllllllllllllllllllllllllllllllllllllllllllllllllllllllllllllllllllllllllllllllllllllllllllllllllllllllllllllllllllllllllllllllllllllllllllllllllllllllllllllllllllllllllllllllllllllllllllllllllllllllllllllllllllllllllllllllllllllllllllllllllllllllllllllllllllllllllllllllllllllllllllllllllllllllllllllllllllllllllllllllllllllllllllllllllllllllllllllllllllllllllllllllllllllllllllllllllllllllllllllllllllllllllllllllllllllllllllllllllllllllllllllllllllllllllllllllllllllllllllllllllllllllllllllllllllllllllllllllllllllllllllllllllllllllllllllllllllllllllllllllllllllllllllllllllllllllllllllllllllllllllllllllllllllllllllllllllllllllllllllllllllllllllllllllllllllllllllllllllllllllllllllllllllllllllllllllllllllllllllllllllllllllllllllllllllllllllllllllllllllllllllllllllllllllllllllllllllllllllllllllllllllllllllllllllllllllllllllllllllllllllllllllllllllllllllllllllllllllllllllllllllllllllllllllllllllllllllllllllllllllllllllllllllllllllllllllllllllllllllllllllllllllllllllllllllllllllllllllllllllllllllllllllllllllllllllllllllllllllllllllllllllllllllllllllllllllllllllllllllllllllllllllllllllllllllllllllllllllllllllllllllllllllllllllllllllllllllllllllllllllllllllllllllllllllllllllllllllllllllllllllllllllllllllllllllllllllllllllllllllllllllllllllllllllllllllllllllllllllllllllllllllllllllllllllllllllllllllllllllllllllllllllllllllllllllllllllllllllllllllllllllllllllllllllllllllllllllllllllllllllllllllllllllllllllllllllllllllllllllllllllllllllllllllllllllllllllllllllllllllllllllllllllllllllllllllllllllllllllllllllllllllllllllllllllllllllllllllllllllllllllllllllllllllllllllllllllllllllllllllllllllllllllllllllllllllllllllllllllllllllllllllllllllllllllllllllllllllllllllllllllllllllllllllllllllllllllllllllllllllllllllllllllllllllllllllllllllllllllllllllllllllllllllllllllllllllllllllllllllllllllllllllllllllllllllllllllllllllllllllllllllllllllllllllllllllllllllllllllllllllllllllllllllllllllllllllllllllllllllllllllllllllllllllllllllllllllllllllllllllllllllllllllllllllllllllllllllllllllllllllllll}\n",
       "  & BM1077-CLP-Frozen-160106-13 & BM1077-CLP-Frozen-160106-14 & BM1077-CLP-Frozen-160106-2 & BM1077-CLP-Frozen-160106-21 & BM1077-CLP-Frozen-160106-27 & BM1077-CLP-Frozen-160106-3 & BM1077-CLP-Frozen-160106-36 & BM1077-CLP-Frozen-160106-42 & BM1077-CLP-Frozen-160106-44 & BM1077-CLP-Frozen-160106-50 & ⋯ & singles-PB1022-mono-160128-81 & singles-PB1022-mono-160128-82 & singles-PB1022-mono-160128-83 & singles-PB1022-mono-160128-84 & singles-PB1022-mono-160128-85 & singles-PB1022-mono-160128-86 & singles-PB1022-mono-160128-89 & singles-PB1022-mono-160128-90 & singles-PB1022-mono-160128-95 & singles-PB1022-mono-160128-96\\\\\n",
       "\\hline\n",
       "\tchr1\\_10279\\_10779 & 0 & 0 & 0 & 0 & 0 & 0 & 0 & 0 & 0 & 0 & ⋯ & 0 & 0 & 0 & 0 & 0 & 0 & 0 & 0 & 0 & 0\\\\\n",
       "\tchr1\\_13252\\_13752 & 0 & 0 & 0 & 0 & 0 & 0 & 0 & 0 & 0 & 0 & ⋯ & 0 & 0 & 0 & 0 & 0 & 0 & 0 & 0 & 0 & 0\\\\\n",
       "\tchr1\\_16019\\_16519 & 0 & 0 & 0 & 0 & 0 & 0 & 0 & 0 & 0 & 0 & ⋯ & 0 & 0 & 0 & 0 & 0 & 0 & 0 & 0 & 0 & 0\\\\\n",
       "\tchr1\\_29026\\_29526 & 0 & 0 & 0 & 0 & 0 & 0 & 0 & 0 & 2 & 0 & ⋯ & 0 & 0 & 2 & 0 & 2 & 3 & 0 & 0 & 0 & 0\\\\\n",
       "\tchr1\\_96364\\_96864 & 0 & 0 & 0 & 0 & 0 & 0 & 0 & 0 & 0 & 0 & ⋯ & 0 & 0 & 0 & 0 & 0 & 0 & 0 & 2 & 0 & 0\\\\\n",
       "\tchr1\\_115440\\_115940 & 0 & 0 & 0 & 0 & 0 & 0 & 0 & 0 & 0 & 0 & ⋯ & 0 & 0 & 0 & 0 & 0 & 0 & 0 & 0 & 0 & 0\\\\\n",
       "\\end{tabular}\n"
      ],
      "text/markdown": [
       "\n",
       "| <!--/--> | BM1077-CLP-Frozen-160106-13 | BM1077-CLP-Frozen-160106-14 | BM1077-CLP-Frozen-160106-2 | BM1077-CLP-Frozen-160106-21 | BM1077-CLP-Frozen-160106-27 | BM1077-CLP-Frozen-160106-3 | BM1077-CLP-Frozen-160106-36 | BM1077-CLP-Frozen-160106-42 | BM1077-CLP-Frozen-160106-44 | BM1077-CLP-Frozen-160106-50 | ⋯ | singles-PB1022-mono-160128-81 | singles-PB1022-mono-160128-82 | singles-PB1022-mono-160128-83 | singles-PB1022-mono-160128-84 | singles-PB1022-mono-160128-85 | singles-PB1022-mono-160128-86 | singles-PB1022-mono-160128-89 | singles-PB1022-mono-160128-90 | singles-PB1022-mono-160128-95 | singles-PB1022-mono-160128-96 | \n",
       "|---|---|---|---|---|---|\n",
       "| chr1_10279_10779 | 0 | 0 | 0 | 0 | 0 | 0 | 0 | 0 | 0 | 0 | ⋯ | 0 | 0 | 0 | 0 | 0 | 0 | 0 | 0 | 0 | 0 | \n",
       "| chr1_13252_13752 | 0 | 0 | 0 | 0 | 0 | 0 | 0 | 0 | 0 | 0 | ⋯ | 0 | 0 | 0 | 0 | 0 | 0 | 0 | 0 | 0 | 0 | \n",
       "| chr1_16019_16519 | 0 | 0 | 0 | 0 | 0 | 0 | 0 | 0 | 0 | 0 | ⋯ | 0 | 0 | 0 | 0 | 0 | 0 | 0 | 0 | 0 | 0 | \n",
       "| chr1_29026_29526 | 0 | 0 | 0 | 0 | 0 | 0 | 0 | 0 | 2 | 0 | ⋯ | 0 | 0 | 2 | 0 | 2 | 3 | 0 | 0 | 0 | 0 | \n",
       "| chr1_96364_96864 | 0 | 0 | 0 | 0 | 0 | 0 | 0 | 0 | 0 | 0 | ⋯ | 0 | 0 | 0 | 0 | 0 | 0 | 0 | 2 | 0 | 0 | \n",
       "| chr1_115440_115940 | 0 | 0 | 0 | 0 | 0 | 0 | 0 | 0 | 0 | 0 | ⋯ | 0 | 0 | 0 | 0 | 0 | 0 | 0 | 0 | 0 | 0 | \n",
       "\n",
       "\n"
      ],
      "text/plain": [
       "                   BM1077-CLP-Frozen-160106-13 BM1077-CLP-Frozen-160106-14\n",
       "chr1_10279_10779   0                           0                          \n",
       "chr1_13252_13752   0                           0                          \n",
       "chr1_16019_16519   0                           0                          \n",
       "chr1_29026_29526   0                           0                          \n",
       "chr1_96364_96864   0                           0                          \n",
       "chr1_115440_115940 0                           0                          \n",
       "                   BM1077-CLP-Frozen-160106-2 BM1077-CLP-Frozen-160106-21\n",
       "chr1_10279_10779   0                          0                          \n",
       "chr1_13252_13752   0                          0                          \n",
       "chr1_16019_16519   0                          0                          \n",
       "chr1_29026_29526   0                          0                          \n",
       "chr1_96364_96864   0                          0                          \n",
       "chr1_115440_115940 0                          0                          \n",
       "                   BM1077-CLP-Frozen-160106-27 BM1077-CLP-Frozen-160106-3\n",
       "chr1_10279_10779   0                           0                         \n",
       "chr1_13252_13752   0                           0                         \n",
       "chr1_16019_16519   0                           0                         \n",
       "chr1_29026_29526   0                           0                         \n",
       "chr1_96364_96864   0                           0                         \n",
       "chr1_115440_115940 0                           0                         \n",
       "                   BM1077-CLP-Frozen-160106-36 BM1077-CLP-Frozen-160106-42\n",
       "chr1_10279_10779   0                           0                          \n",
       "chr1_13252_13752   0                           0                          \n",
       "chr1_16019_16519   0                           0                          \n",
       "chr1_29026_29526   0                           0                          \n",
       "chr1_96364_96864   0                           0                          \n",
       "chr1_115440_115940 0                           0                          \n",
       "                   BM1077-CLP-Frozen-160106-44 BM1077-CLP-Frozen-160106-50 ⋯\n",
       "chr1_10279_10779   0                           0                           ⋯\n",
       "chr1_13252_13752   0                           0                           ⋯\n",
       "chr1_16019_16519   0                           0                           ⋯\n",
       "chr1_29026_29526   2                           0                           ⋯\n",
       "chr1_96364_96864   0                           0                           ⋯\n",
       "chr1_115440_115940 0                           0                           ⋯\n",
       "                   singles-PB1022-mono-160128-81 singles-PB1022-mono-160128-82\n",
       "chr1_10279_10779   0                             0                            \n",
       "chr1_13252_13752   0                             0                            \n",
       "chr1_16019_16519   0                             0                            \n",
       "chr1_29026_29526   0                             0                            \n",
       "chr1_96364_96864   0                             0                            \n",
       "chr1_115440_115940 0                             0                            \n",
       "                   singles-PB1022-mono-160128-83 singles-PB1022-mono-160128-84\n",
       "chr1_10279_10779   0                             0                            \n",
       "chr1_13252_13752   0                             0                            \n",
       "chr1_16019_16519   0                             0                            \n",
       "chr1_29026_29526   2                             0                            \n",
       "chr1_96364_96864   0                             0                            \n",
       "chr1_115440_115940 0                             0                            \n",
       "                   singles-PB1022-mono-160128-85 singles-PB1022-mono-160128-86\n",
       "chr1_10279_10779   0                             0                            \n",
       "chr1_13252_13752   0                             0                            \n",
       "chr1_16019_16519   0                             0                            \n",
       "chr1_29026_29526   2                             3                            \n",
       "chr1_96364_96864   0                             0                            \n",
       "chr1_115440_115940 0                             0                            \n",
       "                   singles-PB1022-mono-160128-89 singles-PB1022-mono-160128-90\n",
       "chr1_10279_10779   0                             0                            \n",
       "chr1_13252_13752   0                             0                            \n",
       "chr1_16019_16519   0                             0                            \n",
       "chr1_29026_29526   0                             0                            \n",
       "chr1_96364_96864   0                             2                            \n",
       "chr1_115440_115940 0                             0                            \n",
       "                   singles-PB1022-mono-160128-95 singles-PB1022-mono-160128-96\n",
       "chr1_10279_10779   0                             0                            \n",
       "chr1_13252_13752   0                             0                            \n",
       "chr1_16019_16519   0                             0                            \n",
       "chr1_29026_29526   0                             0                            \n",
       "chr1_96364_96864   0                             0                            \n",
       "chr1_115440_115940 0                             0                            "
      ]
     },
     "metadata": {},
     "output_type": "display_data"
    }
   ],
   "source": [
    "head(datafr)"
   ]
  },
  {
   "cell_type": "code",
   "execution_count": 12,
   "metadata": {},
   "outputs": [
    {
     "data": {
      "text/html": [
       "<ol class=list-inline>\n",
       "\t<li>491437</li>\n",
       "\t<li>2034</li>\n",
       "</ol>\n"
      ],
      "text/latex": [
       "\\begin{enumerate*}\n",
       "\\item 491437\n",
       "\\item 2034\n",
       "\\end{enumerate*}\n"
      ],
      "text/markdown": [
       "1. 491437\n",
       "2. 2034\n",
       "\n",
       "\n"
      ],
      "text/plain": [
       "[1] 491437   2034"
      ]
     },
     "metadata": {},
     "output_type": "display_data"
    }
   ],
   "source": [
    "dim(datafr)"
   ]
  },
  {
   "cell_type": "code",
   "execution_count": 13,
   "metadata": {},
   "outputs": [],
   "source": [
    "# saveRDS(datafr, file = './datafr.rds')\n",
    "# datafr = readRDS('./datafr.rds')"
   ]
  },
  {
   "cell_type": "code",
   "execution_count": 14,
   "metadata": {},
   "outputs": [],
   "source": [
    "filter_peaks <- function (datafr,cutoff = 0.01){\n",
    "    binary_mat = as.matrix((datafr > 0) + 0)\n",
    "    binary_mat = Matrix(binary_mat, sparse = TRUE) \n",
    "    num_cells_ncounted = Matrix::rowSums(binary_mat)\n",
    "    ncounts = binary_mat[num_cells_ncounted >= dim(binary_mat)[2]*cutoff,]\n",
    "    ncounts = ncounts[rowSums(ncounts) > 0,]    \n",
    "    \n",
    "    options(repr.plot.width=4, repr.plot.height=4)\n",
    "    hist(log10(num_cells_ncounted),main=\"No. of Cells Each Site is Observed In\",breaks=50)\n",
    "    abline(v=log10(min(num_cells_ncounted[num_cells_ncounted >= dim(binary_mat)[2]*cutoff])),lwd=2,col=\"indianred\")\n",
    "#     hist(log10(new_counts),main=\"Number of Sites Each Cell Uses\",breaks=50)\n",
    "    datafr_filtered = datafr[rownames(ncounts),]\n",
    "    return(datafr_filtered)\n",
    "}\n",
    "\n",
    "\n",
    "getJaccardDist <- function(cdBinary){\n",
    "        \n",
    "    if(colnames(cdBinary[,2:3])[1] == 'start' && colnames(cdBinary[,2:3])[2] == 'end'){\n",
    "        SingleCell.Binary <- cdBinary[,4:(dim(cdBinary)[2])]\n",
    "    }\n",
    "    else\n",
    "        SingleCell.Binary <- cdBinary\n",
    "    \n",
    "    \n",
    "    SingleCell.Binary.Jaccard <- jaccard(as.matrix(SingleCell.Binary))\n",
    "    \n",
    "    return(SingleCell.Binary.Jaccard)\n",
    "}\n",
    "\n",
    "\n",
    "plot_tSNE <- function(cdBinary, nDimToUSE, groups=NULL, cellName, perplexity_division, ret.val=FALSE , text.label=FALSE, title=\"\"){\n",
    "\n",
    "    if(missing(nDimToUSE)){\n",
    "        stop(\"ERROR: Number of PCA's \\\"nDimToUSE\\\" to use is missing\")\n",
    "    }\n",
    "    if(missing(ret.val)){\n",
    "        ret.val = FALSE\n",
    "    }\n",
    "    \n",
    "    if(text.label==TRUE & missing(cellName)){\n",
    "        stop(\"ERROR: Please give cellName\")\n",
    "    }\n",
    "    \n",
    "    if(missing(perplexity_division)){\n",
    "        stop(\"ERROR: Please enter the number with which you want to divide the dimension of your data for perplexity setting\")\n",
    "    }\n",
    "        \n",
    "    \n",
    "    #SingleCell.Binary.Jaccard <- getJaccardDist(cdBinary)\n",
    "    #FinalPCAData <- t(SingleCell.Binary.Jaccard)\n",
    "    \n",
    "    SingleCell.Binary.Jaccard <- getJaccardDist(cdBinary)\n",
    "    fit <- cmdscale(as.dist(SingleCell.Binary.Jaccard),eig=TRUE, k=nDimToUSE)\n",
    "\n",
    "    #pcaPRComp <- prcomp(FinalPCAData)\n",
    "\n",
    "    \n",
    "    #rtsne_pca_out <- Rtsne(as.matrix(pcaPRComp$x[,1:nPCAToUSE]), perplexity = dim(pcaPRComp$x)[1]/perplexity_division, check_duplicates = FALSE)\n",
    "    rtsne_pca_out <- Rtsne(as.matrix(fit$points[,1:nDimToUSE]), perplexity = perplexity_division, \n",
    "                           check_duplicates = FALSE, pca=FALSE, theta=0.01, max_iter=3000)\n",
    "    \n",
    "    if(is.null(groups)){\n",
    "        if(ret.val==TRUE)\n",
    "            df<-data.frame(X=rtsne_pca_out$Y[,1],Y=rtsne_pca_out$Y[,2], cellName=cellName)\n",
    "        else\n",
    "            df<-data.frame(X=rtsne_pca_out$Y[,1],Y=rtsne_pca_out$Y[,2])\n",
    "        p1 <- ggplot(df, aes_string(x=\"X\",y =\"Y\"))\n",
    "    }\n",
    "    else{\n",
    "        if(ret.val==TRUE)\n",
    "            df<-data.frame(X=rtsne_pca_out$Y[,1],Y=rtsne_pca_out$Y[,2], Cell=colnames(SingleCell.Binary.Jaccard), Batch=groups, cellName=cellName)\n",
    "        else\n",
    "            df<-data.frame(X=rtsne_pca_out$Y[,1],Y=rtsne_pca_out$Y[,2], Cell=colnames(SingleCell.Binary.Jaccard), Batch=groups)\n",
    "        p1 <- ggplot(df, aes_string(x=\"X\",y =\"Y\", color=\"Batch\"))\n",
    "    }\n",
    "    \n",
    "\n",
    "    p1<-p1 + ggtitle(\"t-SNE plot\")\n",
    "    p1<-p1 + geom_point(size = 2) \n",
    "    p1<-p1 + xlab(paste(\"Dim-1\"))\n",
    "    p1<-p1 + ylab(\"Dim-2\")+\n",
    "        theme_light(base_size=24) +\n",
    "        theme(strip.background = element_blank(),\n",
    "              panel.border     = element_blank(),\n",
    "              plot.title = element_text(hjust = 0.5))\n",
    "#     if(length(levels(groups)) < 12)\n",
    "#         p1 <- p1 + scale_colour_brewer(palette=\"Set1\")\n",
    "    if(text.label==TRUE)\n",
    "        p1<-p1 + geom_text(data=df,aes(label=cellName),alpha=0.5,size=4, vjust=1,hjust=0.5,angle=45)\n",
    "    print(p1)\n",
    "    return(df)\n",
    "}"
   ]
  },
  {
   "cell_type": "code",
   "execution_count": null,
   "metadata": {},
   "outputs": [],
   "source": []
  },
  {
   "cell_type": "markdown",
   "metadata": {},
   "source": [
    "### Obtain Feature Matrix"
   ]
  },
  {
   "cell_type": "code",
   "execution_count": 15,
   "metadata": {},
   "outputs": [],
   "source": [
    "start_time <- Sys.time()"
   ]
  },
  {
   "cell_type": "code",
   "execution_count": 16,
   "metadata": {},
   "outputs": [],
   "source": [
    "metadata <- read.table('../../input/metadata.tsv',\n",
    "                         header = TRUE,\n",
    "                         stringsAsFactors=FALSE,quote=\"\",row.names=1)"
   ]
  },
  {
   "cell_type": "code",
   "execution_count": 17,
   "metadata": {
    "scrolled": true
   },
   "outputs": [
    {
     "data": {
      "image/png": "[encoded data removed]",
      "text/plain": [
       "Plot with title “No. of Cells Each Site is Observed In”"
      ]
     },
     "metadata": {},
     "output_type": "display_data"
    }
   ],
   "source": [
    "datafr_filtered <- filter_peaks(datafr)"
   ]
  },
  {
   "cell_type": "code",
   "execution_count": 18,
   "metadata": {},
   "outputs": [
    {
     "data": {
      "text/html": [
       "<ol class=list-inline>\n",
       "\t<li>135202</li>\n",
       "\t<li>2034</li>\n",
       "</ol>\n"
      ],
      "text/latex": [
       "\\begin{enumerate*}\n",
       "\\item 135202\n",
       "\\item 2034\n",
       "\\end{enumerate*}\n"
      ],
      "text/markdown": [
       "1. 135202\n",
       "2. 2034\n",
       "\n",
       "\n"
      ],
      "text/plain": [
       "[1] 135202   2034"
      ]
     },
     "metadata": {},
     "output_type": "display_data"
    }
   ],
   "source": [
    "dim(datafr_filtered)"
   ]
  },
  {
   "cell_type": "code",
   "execution_count": 19,
   "metadata": {
    "scrolled": true
   },
   "outputs": [],
   "source": [
    "cdBinary = as.matrix((datafr_filtered > 0) + 0)\n",
    "cdBinary = Matrix(cdBinary, sparse = TRUE) "
   ]
  },
  {
   "cell_type": "code",
   "execution_count": 20,
   "metadata": {},
   "outputs": [],
   "source": [
    "## use the similar number of dimensions as shown in tutorial https://github.com/ManchesterBioinference/Scasat/blob/master/ScAsAT_functions_Buenrostro_All_Bam_Together.ipynb\n",
    "k = 15\n",
    "SingleCell.Binary.Jaccard <- getJaccardDist(cdBinary)\n",
    "fit <- cmdscale(as.dist(SingleCell.Binary.Jaccard),eig=TRUE, k=k)\n",
    "fm_Scasat = t(fit$points)"
   ]
  },
  {
   "cell_type": "code",
   "execution_count": 21,
   "metadata": {},
   "outputs": [
    {
     "data": {
      "text/html": [
       "<ol class=list-inline>\n",
       "\t<li>15</li>\n",
       "\t<li>2034</li>\n",
       "</ol>\n"
      ],
      "text/latex": [
       "\\begin{enumerate*}\n",
       "\\item 15\n",
       "\\item 2034\n",
       "\\end{enumerate*}\n"
      ],
      "text/markdown": [
       "1. 15\n",
       "2. 2034\n",
       "\n",
       "\n"
      ],
      "text/plain": [
       "[1]   15 2034"
      ]
     },
     "metadata": {},
     "output_type": "display_data"
    },
    {
     "data": {
      "text/html": [
       "<table>\n",
       "<thead><tr><th scope=col>BM1077-CLP-Frozen-160106-13</th><th scope=col>BM1077-CLP-Frozen-160106-14</th><th scope=col>BM1077-CLP-Frozen-160106-2</th><th scope=col>BM1077-CLP-Frozen-160106-21</th><th scope=col>BM1077-CLP-Frozen-160106-27</th></tr></thead>\n",
       "<tbody>\n",
       "\t<tr><td>-0.142323125</td><td>-0.154763611</td><td>-0.15515348 </td><td>-0.159275891</td><td>-0.146524262</td></tr>\n",
       "\t<tr><td> 0.004697283</td><td>-0.004506986</td><td>-0.00932735 </td><td> 0.020139275</td><td> 0.018788678</td></tr>\n",
       "\t<tr><td> 0.040761630</td><td> 0.034512472</td><td> 0.04068651 </td><td> 0.055054869</td><td> 0.046571009</td></tr>\n",
       "\t<tr><td>-0.006401996</td><td>-0.036451892</td><td>-0.03221646 </td><td>-0.019589568</td><td>-0.004549236</td></tr>\n",
       "\t<tr><td> 0.020621483</td><td> 0.014936280</td><td> 0.02327080 </td><td> 0.009497392</td><td> 0.019369840</td></tr>\n",
       "</tbody>\n",
       "</table>\n"
      ],
      "text/latex": [
       "\\begin{tabular}{lllll}\n",
       " BM1077-CLP-Frozen-160106-13 & BM1077-CLP-Frozen-160106-14 & BM1077-CLP-Frozen-160106-2 & BM1077-CLP-Frozen-160106-21 & BM1077-CLP-Frozen-160106-27\\\\\n",
       "\\hline\n",
       "\t -0.142323125 & -0.154763611 & -0.15515348  & -0.159275891 & -0.146524262\\\\\n",
       "\t  0.004697283 & -0.004506986 & -0.00932735  &  0.020139275 &  0.018788678\\\\\n",
       "\t  0.040761630 &  0.034512472 &  0.04068651  &  0.055054869 &  0.046571009\\\\\n",
       "\t -0.006401996 & -0.036451892 & -0.03221646  & -0.019589568 & -0.004549236\\\\\n",
       "\t  0.020621483 &  0.014936280 &  0.02327080  &  0.009497392 &  0.019369840\\\\\n",
       "\\end{tabular}\n"
      ],
      "text/markdown": [
       "\n",
       "BM1077-CLP-Frozen-160106-13 | BM1077-CLP-Frozen-160106-14 | BM1077-CLP-Frozen-160106-2 | BM1077-CLP-Frozen-160106-21 | BM1077-CLP-Frozen-160106-27 | \n",
       "|---|---|---|---|---|\n",
       "| -0.142323125 | -0.154763611 | -0.15515348  | -0.159275891 | -0.146524262 | \n",
       "|  0.004697283 | -0.004506986 | -0.00932735  |  0.020139275 |  0.018788678 | \n",
       "|  0.040761630 |  0.034512472 |  0.04068651  |  0.055054869 |  0.046571009 | \n",
       "| -0.006401996 | -0.036451892 | -0.03221646  | -0.019589568 | -0.004549236 | \n",
       "|  0.020621483 |  0.014936280 |  0.02327080  |  0.009497392 |  0.019369840 | \n",
       "\n",
       "\n"
      ],
      "text/plain": [
       "     BM1077-CLP-Frozen-160106-13 BM1077-CLP-Frozen-160106-14\n",
       "[1,] -0.142323125                -0.154763611               \n",
       "[2,]  0.004697283                -0.004506986               \n",
       "[3,]  0.040761630                 0.034512472               \n",
       "[4,] -0.006401996                -0.036451892               \n",
       "[5,]  0.020621483                 0.014936280               \n",
       "     BM1077-CLP-Frozen-160106-2 BM1077-CLP-Frozen-160106-21\n",
       "[1,] -0.15515348                -0.159275891               \n",
       "[2,] -0.00932735                 0.020139275               \n",
       "[3,]  0.04068651                 0.055054869               \n",
       "[4,] -0.03221646                -0.019589568               \n",
       "[5,]  0.02327080                 0.009497392               \n",
       "     BM1077-CLP-Frozen-160106-27\n",
       "[1,] -0.146524262               \n",
       "[2,]  0.018788678               \n",
       "[3,]  0.046571009               \n",
       "[4,] -0.004549236               \n",
       "[5,]  0.019369840               "
      ]
     },
     "metadata": {},
     "output_type": "display_data"
    }
   ],
   "source": [
    "dim(fm_Scasat)\n",
    "fm_Scasat[1:5,1:5]"
   ]
  },
  {
   "cell_type": "code",
   "execution_count": 22,
   "metadata": {},
   "outputs": [],
   "source": [
    "end_time <- Sys.time()"
   ]
  },
  {
   "cell_type": "code",
   "execution_count": 23,
   "metadata": {},
   "outputs": [
    {
     "data": {
      "text/plain": [
       "Time difference of 46.10755 secs"
      ]
     },
     "metadata": {},
     "output_type": "display_data"
    }
   ],
   "source": [
    "end_time - start_time"
   ]
  },
  {
   "cell_type": "code",
   "execution_count": null,
   "metadata": {},
   "outputs": [],
   "source": []
  },
  {
   "cell_type": "code",
   "execution_count": 24,
   "metadata": {
    "scrolled": true
   },
   "outputs": [
    {
     "data": {
      "text/html": [
       "<table>\n",
       "<thead><tr><th></th><th scope=col>BM1077-CLP-Frozen-160106-13</th><th scope=col>BM1077-CLP-Frozen-160106-14</th><th scope=col>BM1077-CLP-Frozen-160106-2</th><th scope=col>BM1077-CLP-Frozen-160106-21</th><th scope=col>BM1077-CLP-Frozen-160106-27</th></tr></thead>\n",
       "<tbody>\n",
       "\t<tr><th scope=row>Dim 1</th><td>-0.142323125</td><td>-0.154763611</td><td>-0.15515348 </td><td>-0.159275891</td><td>-0.146524262</td></tr>\n",
       "\t<tr><th scope=row>Dim 2</th><td> 0.004697283</td><td>-0.004506986</td><td>-0.00932735 </td><td> 0.020139275</td><td> 0.018788678</td></tr>\n",
       "\t<tr><th scope=row>Dim 3</th><td> 0.040761630</td><td> 0.034512472</td><td> 0.04068651 </td><td> 0.055054869</td><td> 0.046571009</td></tr>\n",
       "\t<tr><th scope=row>Dim 4</th><td>-0.006401996</td><td>-0.036451892</td><td>-0.03221646 </td><td>-0.019589568</td><td>-0.004549236</td></tr>\n",
       "\t<tr><th scope=row>Dim 5</th><td> 0.020621483</td><td> 0.014936280</td><td> 0.02327080 </td><td> 0.009497392</td><td> 0.019369840</td></tr>\n",
       "</tbody>\n",
       "</table>\n"
      ],
      "text/latex": [
       "\\begin{tabular}{r|lllll}\n",
       "  & BM1077-CLP-Frozen-160106-13 & BM1077-CLP-Frozen-160106-14 & BM1077-CLP-Frozen-160106-2 & BM1077-CLP-Frozen-160106-21 & BM1077-CLP-Frozen-160106-27\\\\\n",
       "\\hline\n",
       "\tDim 1 & -0.142323125 & -0.154763611 & -0.15515348  & -0.159275891 & -0.146524262\\\\\n",
       "\tDim 2 &  0.004697283 & -0.004506986 & -0.00932735  &  0.020139275 &  0.018788678\\\\\n",
       "\tDim 3 &  0.040761630 &  0.034512472 &  0.04068651  &  0.055054869 &  0.046571009\\\\\n",
       "\tDim 4 & -0.006401996 & -0.036451892 & -0.03221646  & -0.019589568 & -0.004549236\\\\\n",
       "\tDim 5 &  0.020621483 &  0.014936280 &  0.02327080  &  0.009497392 &  0.019369840\\\\\n",
       "\\end{tabular}\n"
      ],
      "text/markdown": [
       "\n",
       "| <!--/--> | BM1077-CLP-Frozen-160106-13 | BM1077-CLP-Frozen-160106-14 | BM1077-CLP-Frozen-160106-2 | BM1077-CLP-Frozen-160106-21 | BM1077-CLP-Frozen-160106-27 | \n",
       "|---|---|---|---|---|\n",
       "| Dim 1 | -0.142323125 | -0.154763611 | -0.15515348  | -0.159275891 | -0.146524262 | \n",
       "| Dim 2 |  0.004697283 | -0.004506986 | -0.00932735  |  0.020139275 |  0.018788678 | \n",
       "| Dim 3 |  0.040761630 |  0.034512472 |  0.04068651  |  0.055054869 |  0.046571009 | \n",
       "| Dim 4 | -0.006401996 | -0.036451892 | -0.03221646  | -0.019589568 | -0.004549236 | \n",
       "| Dim 5 |  0.020621483 |  0.014936280 |  0.02327080  |  0.009497392 |  0.019369840 | \n",
       "\n",
       "\n"
      ],
      "text/plain": [
       "      BM1077-CLP-Frozen-160106-13 BM1077-CLP-Frozen-160106-14\n",
       "Dim 1 -0.142323125                -0.154763611               \n",
       "Dim 2  0.004697283                -0.004506986               \n",
       "Dim 3  0.040761630                 0.034512472               \n",
       "Dim 4 -0.006401996                -0.036451892               \n",
       "Dim 5  0.020621483                 0.014936280               \n",
       "      BM1077-CLP-Frozen-160106-2 BM1077-CLP-Frozen-160106-21\n",
       "Dim 1 -0.15515348                -0.159275891               \n",
       "Dim 2 -0.00932735                 0.020139275               \n",
       "Dim 3  0.04068651                 0.055054869               \n",
       "Dim 4 -0.03221646                -0.019589568               \n",
       "Dim 5  0.02327080                 0.009497392               \n",
       "      BM1077-CLP-Frozen-160106-27\n",
       "Dim 1 -0.146524262               \n",
       "Dim 2  0.018788678               \n",
       "Dim 3  0.046571009               \n",
       "Dim 4 -0.004549236               \n",
       "Dim 5  0.019369840               "
      ]
     },
     "metadata": {},
     "output_type": "display_data"
    }
   ],
   "source": [
    "rownames(fm_Scasat) = paste('Dim',1:dim(fm_Scasat)[1])\n",
    "fm_Scasat[1:5,1:5]"
   ]
  },
  {
   "cell_type": "code",
   "execution_count": 25,
   "metadata": {},
   "outputs": [
    {
     "data": {
      "text/html": [
       "TRUE"
      ],
      "text/latex": [
       "TRUE"
      ],
      "text/markdown": [
       "TRUE"
      ],
      "text/plain": [
       "[1] TRUE"
      ]
     },
     "metadata": {},
     "output_type": "display_data"
    }
   ],
   "source": [
    "all(colnames(fm_Scasat) == rownames(metadata))"
   ]
  },
  {
   "cell_type": "code",
   "execution_count": 28,
   "metadata": {},
   "outputs": [],
   "source": [
    "saveRDS(fm_Scasat, file = '../../output/feature_matrices/FM_Scasat_buenrostro2018bulkpeaks.rds')"
   ]
  },
  {
   "cell_type": "code",
   "execution_count": null,
   "metadata": {},
   "outputs": [],
   "source": []
  },
  {
   "cell_type": "markdown",
   "metadata": {},
   "source": [
    "### Downstream Analysis"
   ]
  },
  {
   "cell_type": "code",
   "execution_count": 33,
   "metadata": {
    "scrolled": true
   },
   "outputs": [
    {
     "data": {
      "image/png": "[encoded data removed]",
      "text/plain": [
       "plot without title"
      ]
     },
     "metadata": {},
     "output_type": "display_data"
    }
   ],
   "source": [
    "options(repr.plot.width=6, repr.plot.height=4)\n",
    "set.seed(2019)\n",
    "tsNE_out_2PCs <- plot_tSNE(cdBinary, k, groups=metadata$label, perplexity=30, \n",
    "                              cellName=rownames(metadata),ret.val=TRUE, text.label=F)"
   ]
  },
  {
   "cell_type": "code",
   "execution_count": 34,
   "metadata": {
    "scrolled": true
   },
   "outputs": [
    {
     "data": {
      "text/plain": [
       "R version 3.5.1 (2018-07-02)\n",
       "Platform: x86_64-conda_cos6-linux-gnu (64-bit)\n",
       "Running under: CentOS Linux 7 (Core)\n",
       "\n",
       "Matrix products: default\n",
       "BLAS/LAPACK: /data/pinello/SHARED_SOFTWARE/anaconda3/envs/ATACseq_scasat/lib/R/lib/libRblas.so\n",
       "\n",
       "locale:\n",
       " [1] LC_CTYPE=en_US.UTF-8       LC_NUMERIC=C              \n",
       " [3] LC_TIME=en_US.UTF-8        LC_COLLATE=en_US.UTF-8    \n",
       " [5] LC_MONETARY=en_US.UTF-8    LC_MESSAGES=en_US.UTF-8   \n",
       " [7] LC_PAPER=en_US.UTF-8       LC_NAME=C                 \n",
       " [9] LC_ADDRESS=C               LC_TELEPHONE=C            \n",
       "[11] LC_MEASUREMENT=en_US.UTF-8 LC_IDENTIFICATION=C       \n",
       "\n",
       "attached base packages:\n",
       "[1] stats     graphics  grDevices utils     datasets  methods   base     \n",
       "\n",
       "other attached packages:\n",
       "[1] ggplot2_3.0.0  Rtsne_0.15     Matrix_1.2-14  prabclus_2.2-7 mclust_5.4.3  \n",
       "[6] MASS_7.3-50   \n",
       "\n",
       "loaded via a namespace (and not attached):\n",
       " [1] Rcpp_1.0.1       compiler_3.5.1   pillar_1.3.1     plyr_1.8.4      \n",
       " [5] bindr_0.1.1      base64enc_0.1-3  tools_3.5.1      digest_0.6.18   \n",
       " [9] uuid_0.1-2       jsonlite_1.5     evaluate_0.11    tibble_2.1.1    \n",
       "[13] gtable_0.2.0     lattice_0.20-35  pkgconfig_2.0.2  rlang_0.3.3     \n",
       "[17] IRdisplay_0.5.0  IRkernel_0.8.12  bindrcpp_0.2.2   withr_2.1.2     \n",
       "[21] repr_0.15.0      stringr_1.3.1    dplyr_0.7.6      tidyselect_0.2.5\n",
       "[25] grid_3.5.1       glue_1.3.1       R6_2.4.0         pbdZMQ_0.3-3    \n",
       "[29] purrr_0.3.2      magrittr_1.5     scales_0.5.0     htmltools_0.3.6 \n",
       "[33] assertthat_0.2.1 colorspace_1.3-2 labeling_0.3     stringi_1.2.4   \n",
       "[37] lazyeval_0.2.1   munsell_0.5.0    crayon_1.3.4    "
      ]
     },
     "metadata": {},
     "output_type": "display_data"
    }
   ],
   "source": [
    "sessionInfo()"
   ]
  },
  {
   "cell_type": "code",
   "execution_count": 35,
   "metadata": {},
   "outputs": [],
   "source": [
    "save.image(file = 'Scasat_buenrostro2018bulkpeaks.RData')"
   ]
  },
  {
   "cell_type": "code",
   "execution_count": null,
   "metadata": {},
   "outputs": [],
   "source": []
  }
 ],
 "metadata": {
  "kernelspec": {
   "display_name": "R [conda env:ATACseq_scasat]",
   "language": "R",
   "name": "conda-env-ATACseq_scasat-r"
  },
  "language_info": {
   "codemirror_mode": "r",
   "file_extension": ".r",
   "mimetype": "text/x-r-source",
   "name": "R",
   "pygments_lexer": "r",
   "version": "3.5.1"
  }
 },
 "nbformat": 4,
 "nbformat_minor": 2
}
