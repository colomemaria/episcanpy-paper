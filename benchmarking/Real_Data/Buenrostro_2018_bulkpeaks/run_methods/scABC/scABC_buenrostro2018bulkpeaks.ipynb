{
 "cells": [
  {
   "cell_type": "markdown",
   "metadata": {},
   "source": [
    "### Import packages"
   ]
  },
  {
   "cell_type": "code",
   "execution_count": 1,
   "metadata": {},
   "outputs": [
    {
     "name": "stderr",
     "output_type": "stream",
     "text": [
      "Loading required package: stats4\n",
      "Loading required package: BiocGenerics\n",
      "Loading required package: parallel\n",
      "\n",
      "Attaching package: ‘BiocGenerics’\n",
      "\n",
      "The following objects are masked from ‘package:parallel’:\n",
      "\n",
      "    clusterApply, clusterApplyLB, clusterCall, clusterEvalQ,\n",
      "    clusterExport, clusterMap, parApply, parCapply, parLapply,\n",
      "    parLapplyLB, parRapply, parSapply, parSapplyLB\n",
      "\n",
      "The following objects are masked from ‘package:stats’:\n",
      "\n",
      "    IQR, mad, sd, var, xtabs\n",
      "\n",
      "The following objects are masked from ‘package:base’:\n",
      "\n",
      "    anyDuplicated, append, as.data.frame, basename, cbind, colMeans,\n",
      "    colnames, colSums, dirname, do.call, duplicated, eval, evalq,\n",
      "    Filter, Find, get, grep, grepl, intersect, is.unsorted, lapply,\n",
      "    lengths, Map, mapply, match, mget, order, paste, pmax, pmax.int,\n",
      "    pmin, pmin.int, Position, rank, rbind, Reduce, rowMeans, rownames,\n",
      "    rowSums, sapply, setdiff, sort, table, tapply, union, unique,\n",
      "    unsplit, which, which.max, which.min\n",
      "\n",
      "Loading required package: S4Vectors\n",
      "\n",
      "Attaching package: ‘S4Vectors’\n",
      "\n",
      "The following object is masked from ‘package:base’:\n",
      "\n",
      "    expand.grid\n",
      "\n",
      "Loading required package: IRanges\n",
      "Loading required package: GenomeInfoDb\n",
      "Warning message:\n",
      "“replacing previous import ‘IRanges::which’ by ‘Matrix::which’ when loading ‘scABC’”Loading required package: Biostrings\n",
      "Loading required package: XVector\n",
      "\n",
      "Attaching package: ‘Biostrings’\n",
      "\n",
      "The following object is masked from ‘package:base’:\n",
      "\n",
      "    strsplit\n",
      "\n",
      "\n",
      "Attaching package: ‘data.table’\n",
      "\n",
      "The following object is masked from ‘package:GenomicRanges’:\n",
      "\n",
      "    shift\n",
      "\n",
      "The following object is masked from ‘package:IRanges’:\n",
      "\n",
      "    shift\n",
      "\n",
      "The following objects are masked from ‘package:S4Vectors’:\n",
      "\n",
      "    first, second\n",
      "\n",
      "\n",
      "Attaching package: ‘dplyr’\n",
      "\n",
      "The following objects are masked from ‘package:data.table’:\n",
      "\n",
      "    between, first, last\n",
      "\n",
      "The following objects are masked from ‘package:Biostrings’:\n",
      "\n",
      "    collapse, intersect, setdiff, setequal, union\n",
      "\n",
      "The following object is masked from ‘package:XVector’:\n",
      "\n",
      "    slice\n",
      "\n",
      "The following objects are masked from ‘package:GenomicRanges’:\n",
      "\n",
      "    intersect, setdiff, union\n",
      "\n",
      "The following object is masked from ‘package:GenomeInfoDb’:\n",
      "\n",
      "    intersect\n",
      "\n",
      "The following objects are masked from ‘package:IRanges’:\n",
      "\n",
      "    collapse, desc, intersect, setdiff, slice, union\n",
      "\n",
      "The following objects are masked from ‘package:S4Vectors’:\n",
      "\n",
      "    first, intersect, rename, setdiff, setequal, union\n",
      "\n",
      "The following objects are masked from ‘package:BiocGenerics’:\n",
      "\n",
      "    combine, intersect, setdiff, union\n",
      "\n",
      "The following objects are masked from ‘package:stats’:\n",
      "\n",
      "    filter, lag\n",
      "\n",
      "The following objects are masked from ‘package:base’:\n",
      "\n",
      "    intersect, setdiff, setequal, union\n",
      "\n",
      "── Attaching packages ─────────────────────────────────────── tidyverse 1.2.1 ──\n",
      "✔ ggplot2 3.1.0     ✔ readr   1.3.1\n",
      "✔ tibble  2.1.1     ✔ purrr   0.3.2\n",
      "✔ tidyr   0.8.3     ✔ stringr 1.4.0\n",
      "✔ ggplot2 3.1.0     ✔ forcats 0.4.0\n",
      "── Conflicts ────────────────────────────────────────── tidyverse_conflicts() ──\n",
      "✖ dplyr::between()    masks data.table::between()\n",
      "✖ dplyr::collapse()   masks Biostrings::collapse(), IRanges::collapse()\n",
      "✖ dplyr::combine()    masks BiocGenerics::combine()\n",
      "✖ purrr::compact()    masks XVector::compact()\n",
      "✖ dplyr::desc()       masks IRanges::desc()\n",
      "✖ tidyr::expand()     masks S4Vectors::expand()\n",
      "✖ dplyr::filter()     masks stats::filter()\n",
      "✖ dplyr::first()      masks data.table::first(), S4Vectors::first()\n",
      "✖ dplyr::lag()        masks stats::lag()\n",
      "✖ dplyr::last()       masks data.table::last()\n",
      "✖ ggplot2::Position() masks BiocGenerics::Position(), base::Position()\n",
      "✖ purrr::reduce()     masks GenomicRanges::reduce(), IRanges::reduce()\n",
      "✖ dplyr::rename()     masks S4Vectors::rename()\n",
      "✖ dplyr::slice()      masks XVector::slice(), IRanges::slice()\n",
      "✖ purrr::transpose()  masks data.table::transpose()\n",
      "\n",
      "Attaching package: ‘Matrix’\n",
      "\n",
      "The following object is masked from ‘package:tidyr’:\n",
      "\n",
      "    expand\n",
      "\n",
      "The following object is masked from ‘package:S4Vectors’:\n",
      "\n",
      "    expand\n",
      "\n",
      "\n",
      "Attaching package: ‘gplots’\n",
      "\n",
      "The following object is masked from ‘package:IRanges’:\n",
      "\n",
      "    space\n",
      "\n",
      "The following object is masked from ‘package:S4Vectors’:\n",
      "\n",
      "    space\n",
      "\n",
      "The following object is masked from ‘package:stats’:\n",
      "\n",
      "    lowess\n",
      "\n",
      "SHA-1 hash of file is 015fc0457e61e3e93a903e69a24d96d2dac7b9fb\n"
     ]
    }
   ],
   "source": [
    "options(stringsAsFactors = FALSE)\n",
    "library(GenomicRanges)\n",
    "library(scABC)\n",
    "library(Rsamtools)\n",
    "library(data.table)\n",
    "library(dplyr)\n",
    "library(tidyverse)\n",
    "library(Matrix)\n",
    "\n",
    "library(gplots) \n",
    "library(RColorBrewer)\n",
    "library(devtools)\n",
    "source_url(\"https://raw.githubusercontent.com/obigriffith/biostar-tutorials/master/Heatmaps/heatmap.3.R\")"
   ]
  },
  {
   "cell_type": "code",
   "execution_count": null,
   "metadata": {},
   "outputs": [],
   "source": []
  },
  {
   "cell_type": "markdown",
   "metadata": {},
   "source": [
    "### Functions"
   ]
  },
  {
   "cell_type": "code",
   "execution_count": 2,
   "metadata": {},
   "outputs": [],
   "source": [
    "bam2gr <- function(bamfile, PAIRED = FALSE) {\n",
    "  if (PAIRED) {\n",
    "    scanned = scanBam(bamfile, param = ScanBamParam(flag =scanBamFlag(isMinusStrand = FALSE,\n",
    "                                                                      isUnmappedQuery = FALSE,\n",
    "                                                                      isProperPair = TRUE),\n",
    "                                                    what = c(\"rname\", \"pos\", \"isize\")))[[1]]\n",
    "    out = GRanges(seqnames = scanned$rname, IRanges(start = scanned$pos, width = scanned$isize))\n",
    "  } else {\n",
    "    scanned = scanBam(bamfile, param = ScanBamParam(flag =scanBamFlag(isUnmappedQuery = FALSE),\n",
    "                                                    what = c(\"rname\", \"pos\", \"strand\", \"qwidth\")))[[1]]\n",
    "    out = GRanges(seqnames = scanned$rname,\n",
    "                  IRanges(start = ifelse(scanned$strand == \"-\", scanned$pos + scanned$qwidth - 1, scanned$pos),\n",
    "                          width = scanned$qwidth))\n",
    "  }\n",
    "  return(out)\n",
    "}\n",
    "\n",
    "getCountsByReadGroup <- function(bamfile, peaks, RGtag, tags = NULL, PAIRED = FALSE, VERBOSE = FALSE){\n",
    "  scanned <- Rsamtools::scanBam(bamfile,\n",
    "                     param = Rsamtools::ScanBamParam(flag =scanBamFlag(isUnmappedQuery = FALSE),\n",
    "                                                     what = c(\"rname\", \"pos\", \"strand\", \"qwidth\"),\n",
    "                                                     tag = RGtag))[[1]]\n",
    "  if(is.null(tags)){\n",
    "    RGtags = unique(unlist(scanned$tag[RGtag]))\n",
    "  }\n",
    "  counts_mat = Matrix::Matrix(0, nrow = length(peaks), ncol = length(tags), sparse = TRUE)\n",
    "  for(i in 1:length(tags)){\n",
    "    tag = tags[i]\n",
    "    if(VERBOSE){\n",
    "      message(\"Processing tag \", tag)\n",
    "    }\n",
    "    match_RG <- which(scanned$tag[[RGtag]] == tag)\n",
    "    # convert bamfiles to Genomic Ranges\n",
    "    bam.gr = GenomicRanges::GRanges(seqnames = scanned$rname[match_RG],\n",
    "                                    IRanges::IRanges(start = sapply(match_RG, function(i) ifelse(scanned$strand[i] == \"-\",\n",
    "                                                                         scanned$pos[i] + scanned$qwidth[i] - 1,\n",
    "                                                                         scanned$pos[i])),\n",
    "                             width = scanned$qwidth[match_RG]))\n",
    "    counts_mat[,i] = GenomicRanges::countOverlaps(peaks, bam.gr, type = \"any\", ignore.strand = TRUE)\n",
    "  }\n",
    " # counts = do.call(cbind, lapply(RGtags, function(x) getTagCounts(x, bamfile, peaks)))\n",
    "  colnames(counts_mat) = tags\n",
    "  return(counts_mat)\n",
    "}\n",
    "                                    \n",
    "peaks2GRanges <- function(peaks, upstream = 0, downstream = 0){\n",
    "  peaks.gr = with(peaks, GenomicRanges::GRanges(chrom, IRanges::IRanges(sapply(start, function(x) max(0, x - upstream)), end + downstream), \n",
    "                                                                               id = name))#, pVal = pValue))\n",
    "}\n",
    "\n",
    "# peaks should be in GenomicRanges\n",
    "get_counts_from_bam <- function(bamfile, peaks){\n",
    "  param = Rsamtools::ScanBamParam(flag =scanBamFlag(isUnmappedQuery = FALSE), \n",
    "                                  which = peaks, \n",
    "                                  what = c(\"rname\", \"pos\", \"strand\", \"qwidth\"))\n",
    "  counts = Rsamtools::countBam(bamfile, param = param,\n",
    "                               flag = Rsamtools::scanBamFlag(isDuplicate = FALSE,\n",
    "                                                             isUnmappedQuery = FALSE))\n",
    "  return(counts[,c(\"space\", \"start\", \"end\", \"file\", \"records\")])\n",
    "}\n",
    "                                                \n",
    "\n",
    "getCountsMatrix <- function(bamfiles, peaks, PAIRED = FALSE,\n",
    "                            byReadGroup = FALSE, \n",
    "                            RGtag = 'RG',\n",
    "                            tags2include = NULL, \n",
    "                            VERBOSE = FALSE){\n",
    "  peaks.gr = peaks2GRanges(peaks)\n",
    "  if(VERBOSE){\n",
    "    message(\"beginning reading in counts\\n\")\n",
    "  }\n",
    "  if(byReadGroup){\n",
    "    if(VERBOSE){\n",
    "      message(\"getting counts by read group\\n\")\n",
    "      message(\"read group tag = \", RGtag, \"\\n\")\n",
    "    }\n",
    "    stopifnot(length(bamfiles) == 1)\n",
    "    counts_mat = getCountsByReadGroup(bamfiles, peaks.gr, RGtag = RGtag, \n",
    "                                      tags = tags2include);\n",
    "    rownames(counts_mat) = peaks$name\n",
    "  }\n",
    "  else{\n",
    "    nCells = length(bamfiles)\n",
    "    counts_mat = matrix(nrow = length(peaks.gr), ncol = nCells)\n",
    "    for(i in 1:nCells){\n",
    "      if(VERBOSE){\n",
    "        message(\"Processing file \", bamfiles[i])\n",
    "      }\n",
    "      # convert bamfiles to Genomic Ranges\n",
    "      bam.gr = bam2gr(bamfiles[i], PAIRED = PAIRED)\n",
    "      counts_mat[,i] = countOverlaps(peaks.gr, bam.gr, type = \"any\", ignore.strand = TRUE)\n",
    "    }\n",
    "    colnames(counts_mat) = bamfiles\n",
    "    rownames(counts_mat) = peaks$name\n",
    "    #counts_info = data.frame(chrom = counts_list[[1]]$space, start = counts_list[[1]]$start, end = counts_list[[1]]$end, name = peaks$id, pValue = peaks$pVal)\n",
    "  }\n",
    "  peaks = peaks[,c(\"chrom\", \"start\", \"end\", \"name\")]#, \"pValue\")]\n",
    "  return(list(peaks = peaks, ForeGroundMatrix = Matrix::Matrix(counts_mat, sparse = TRUE)))\n",
    "}\n",
    "                                                \n",
    "                                                \n",
    "sort_peaks <- function(peaks){\n",
    "  return(peaks[order(peaks$chrom, peaks$start), ])\n",
    "}\n",
    "                                                \n",
    "selectPeaks <- function(filename, thresh = 2){\n",
    "  peaks = read.csv(file = filename, header = FALSE, sep = \"\\t\",\n",
    "                     stringsAsFactors = FALSE);\n",
    "  peaks = peaks[,1:3]\n",
    "  if(dim(peaks)[2] == 15){\n",
    "    # gapped peaks\n",
    "    column_names = c(\"chrom\", \"start\", \"end\", \"name\", \"score\", \"strand\",\n",
    "                     \"thickStart\", \"thickEnd\", \"itemRgb\", \"blockCount\", \"blockSizes\",\n",
    "                     \"blockStarts\", \"signalValue\", \"pValue\", \"qValue\");\n",
    "    colnames(peaks) = column_names\n",
    "    wanted_peaks = which(peaks$pValue > thresh); # pValue is -log10(p), p < 0.1 => pValue > 2\n",
    "    peaks = sort_peaks(peaks[wanted_peaks, ])\n",
    "  }\n",
    "  if(dim(peaks)[2] == 10){\n",
    "    # narrow peaks\n",
    "    column_names = c(\"chrom\", \"start\", \"end\", \"name\", \"score\", \"strand\",\n",
    "                     \"foldChange\", \"pValue\", \"qValue\", \"summit2PeakDist\")\n",
    "    colnames(peaks) = column_names\n",
    "    wanted_peaks = which(peaks$pValue > thresh); # pValue is -log10(p), p < 0.1 => pValue > 2\n",
    "    peaks = sort_peaks(peaks[wanted_peaks, ])\n",
    "  }\n",
    "  \n",
    "  # mine  \n",
    "  if(dim(peaks)[2] == 3){\n",
    "    # gapped peaks\n",
    "    column_names = c(\"chrom\", \"start\", \"end\");\n",
    "    colnames(peaks) = column_names\n",
    "    peaks = sort_peaks(peaks)\n",
    "  }\n",
    "  return(peaks)\n",
    "}\n",
    "                                                \n",
    "                                                \n",
    "getBackground <- function(bamfiles, peaks, upstream = 500000,\n",
    "                          downstream = 500000, byReadGroup = FALSE,\n",
    "                          VERBOSE = FALSE, PAIRED = FALSE){\n",
    "  nCells = length(bamfiles)\n",
    "  background_peaks.gr = peaks2GRanges(peaks, upstream, downstream)\n",
    "  if(byReadGroup){\n",
    "    counts_mat = getCountsByReadGroup2(bamfile, background_peaks.gr);\n",
    "    rownames(counts_mat) = peaks$name\n",
    "  }\n",
    "  else{\n",
    "    counts_mat = matrix(nrow = length(background_peaks.gr), ncol = nCells)\n",
    "    for(i in 1:nCells){\n",
    "      if(VERBOSE){\n",
    "        message(\"Processing file \", bamfiles[i])\n",
    "      }\n",
    "      # convert bamfiles to Genomic Ranges\n",
    "      bam.gr = bam2gr(bamfiles[i], PAIRED = PAIRED)\n",
    "      counts_mat[,i] = countOverlaps(background_peaks.gr, bam.gr, type = \"any\", ignore.strand = TRUE)\n",
    "    }\n",
    "    colnames(counts_mat) = bamfiles\n",
    "    rownames(counts_mat) = peaks$name\n",
    "    #counts_info = data.frame(chrom = counts_list[[1]]$space, start = counts_list[[1]]$start, end = counts_list[[1]]$end, name = peaks$id, pValue = peaks$pVal)\n",
    "  }\n",
    "  peaks = peaks[,c(\"chrom\", \"start\", \"end\", \"name\")]#, \"pValue\")]\n",
    "  return(list(peaks = peaks, BackGroundMatrix = Matrix::Matrix(counts_mat, sparse = TRUE)))\n",
    "}"
   ]
  },
  {
   "cell_type": "code",
   "execution_count": null,
   "metadata": {},
   "outputs": [],
   "source": []
  },
  {
   "cell_type": "markdown",
   "metadata": {},
   "source": [
    "### Obtain Feature Matrix"
   ]
  },
  {
   "cell_type": "code",
   "execution_count": 3,
   "metadata": {},
   "outputs": [],
   "source": [
    "start_time <- Sys.time()"
   ]
  },
  {
   "cell_type": "code",
   "execution_count": 4,
   "metadata": {},
   "outputs": [],
   "source": [
    "metadata <- read.table('../../input/metadata.tsv',\n",
    "                         header = TRUE,\n",
    "                         stringsAsFactors=FALSE,quote=\"\",row.names=1)"
   ]
  },
  {
   "cell_type": "code",
   "execution_count": 5,
   "metadata": {},
   "outputs": [],
   "source": [
    "# loading input 1: single-cell BAM files\n",
    "bamfiles <- list.files(\"../../input/sc-bams_nodup/\", \n",
    "                       pattern = \"*.bam\", full.names = TRUE)"
   ]
  },
  {
   "cell_type": "code",
   "execution_count": 6,
   "metadata": {
    "scrolled": false
   },
   "outputs": [
    {
     "data": {
      "text/html": [
       "2034"
      ],
      "text/latex": [
       "2034"
      ],
      "text/markdown": [
       "2034"
      ],
      "text/plain": [
       "[1] 2034"
      ]
     },
     "metadata": {},
     "output_type": "display_data"
    }
   ],
   "source": [
    "length(bamfiles)"
   ]
  },
  {
   "cell_type": "code",
   "execution_count": 7,
   "metadata": {},
   "outputs": [
    {
     "data": {
      "text/html": [
       "<ol class=list-inline>\n",
       "\t<li>491437</li>\n",
       "\t<li>4</li>\n",
       "</ol>\n"
      ],
      "text/latex": [
       "\\begin{enumerate*}\n",
       "\\item 491437\n",
       "\\item 4\n",
       "\\end{enumerate*}\n"
      ],
      "text/markdown": [
       "1. 491437\n",
       "2. 4\n",
       "\n",
       "\n"
      ],
      "text/plain": [
       "[1] 491437      4"
      ]
     },
     "metadata": {},
     "output_type": "display_data"
    },
    {
     "data": {
      "text/html": [
       "<table>\n",
       "<thead><tr><th scope=col>chrom</th><th scope=col>start</th><th scope=col>end</th><th scope=col>name</th></tr></thead>\n",
       "<tbody>\n",
       "\t<tr><td>chr1                   </td><td> 10279                 </td><td> 10779                 </td><td>Peak_chr1_10279_10779  </td></tr>\n",
       "\t<tr><td>chr1                   </td><td> 13252                 </td><td> 13752                 </td><td>Peak_chr1_13252_13752  </td></tr>\n",
       "\t<tr><td>chr1                   </td><td> 16019                 </td><td> 16519                 </td><td>Peak_chr1_16019_16519  </td></tr>\n",
       "\t<tr><td>chr1                   </td><td> 29026                 </td><td> 29526                 </td><td>Peak_chr1_29026_29526  </td></tr>\n",
       "\t<tr><td>chr1                   </td><td> 96364                 </td><td> 96864                 </td><td>Peak_chr1_96364_96864  </td></tr>\n",
       "\t<tr><td>chr1                   </td><td>115440                 </td><td>115940                 </td><td>Peak_chr1_115440_115940</td></tr>\n",
       "</tbody>\n",
       "</table>\n"
      ],
      "text/latex": [
       "\\begin{tabular}{r|llll}\n",
       " chrom & start & end & name\\\\\n",
       "\\hline\n",
       "\t chr1                          &  10279                        &  10779                        & Peak\\_chr1\\_10279\\_10779  \\\\\n",
       "\t chr1                          &  13252                        &  13752                        & Peak\\_chr1\\_13252\\_13752  \\\\\n",
       "\t chr1                          &  16019                        &  16519                        & Peak\\_chr1\\_16019\\_16519  \\\\\n",
       "\t chr1                          &  29026                        &  29526                        & Peak\\_chr1\\_29026\\_29526  \\\\\n",
       "\t chr1                          &  96364                        &  96864                        & Peak\\_chr1\\_96364\\_96864  \\\\\n",
       "\t chr1                          & 115440                        & 115940                        & Peak\\_chr1\\_115440\\_115940\\\\\n",
       "\\end{tabular}\n"
      ],
      "text/markdown": [
       "\n",
       "| chrom | start | end | name |\n",
       "|---|---|---|---|\n",
       "| chr1                    |  10279                  |  10779                  | Peak_chr1_10279_10779   |\n",
       "| chr1                    |  13252                  |  13752                  | Peak_chr1_13252_13752   |\n",
       "| chr1                    |  16019                  |  16519                  | Peak_chr1_16019_16519   |\n",
       "| chr1                    |  29026                  |  29526                  | Peak_chr1_29026_29526   |\n",
       "| chr1                    |  96364                  |  96864                  | Peak_chr1_96364_96864   |\n",
       "| chr1                    | 115440                  | 115940                  | Peak_chr1_115440_115940 |\n",
       "\n"
      ],
      "text/plain": [
       "  chrom start  end    name                   \n",
       "1 chr1   10279  10779 Peak_chr1_10279_10779  \n",
       "2 chr1   13252  13752 Peak_chr1_13252_13752  \n",
       "3 chr1   16019  16519 Peak_chr1_16019_16519  \n",
       "4 chr1   29026  29526 Peak_chr1_29026_29526  \n",
       "5 chr1   96364  96864 Peak_chr1_96364_96864  \n",
       "6 chr1  115440 115940 Peak_chr1_115440_115940"
      ]
     },
     "metadata": {},
     "output_type": "display_data"
    }
   ],
   "source": [
    "# loading input 2: peaks file\n",
    "peaks <- selectPeaks(\"../../input/GSE96769_PeakFile_20160207.bed\")\n",
    "peaks$name <- paste(\"Peak\", peaks$chrom, peaks$start, peaks$end, sep = \"_\")\n",
    "dim(peaks)\n",
    "head(peaks)"
   ]
  },
  {
   "cell_type": "code",
   "execution_count": 8,
   "metadata": {
    "scrolled": true
   },
   "outputs": [],
   "source": [
    "ForeGround <- getCountsMatrix(bamfiles, peaks) "
   ]
  },
  {
   "cell_type": "code",
   "execution_count": 9,
   "metadata": {},
   "outputs": [],
   "source": [
    "ForeGroundFiltered <- filterPeaks(ForeGround$ForeGroundMatrix, peaks, \n",
    "                             nreads_thresh = 1, \n",
    "                             ncells_thresh = length(bamfiles)*0.01)"
   ]
  },
  {
   "cell_type": "code",
   "execution_count": 10,
   "metadata": {},
   "outputs": [
    {
     "data": {
      "text/html": [
       "<ol class=list-inline>\n",
       "\t<li>491437</li>\n",
       "\t<li>4</li>\n",
       "</ol>\n"
      ],
      "text/latex": [
       "\\begin{enumerate*}\n",
       "\\item 491437\n",
       "\\item 4\n",
       "\\end{enumerate*}\n"
      ],
      "text/markdown": [
       "1. 491437\n",
       "2. 4\n",
       "\n",
       "\n"
      ],
      "text/plain": [
       "[1] 491437      4"
      ]
     },
     "metadata": {},
     "output_type": "display_data"
    },
    {
     "data": {
      "text/html": [
       "<ol class=list-inline>\n",
       "\t<li>139517</li>\n",
       "\t<li>4</li>\n",
       "</ol>\n"
      ],
      "text/latex": [
       "\\begin{enumerate*}\n",
       "\\item 139517\n",
       "\\item 4\n",
       "\\end{enumerate*}\n"
      ],
      "text/markdown": [
       "1. 139517\n",
       "2. 4\n",
       "\n",
       "\n"
      ],
      "text/plain": [
       "[1] 139517      4"
      ]
     },
     "metadata": {},
     "output_type": "display_data"
    }
   ],
   "source": [
    "dim(peaks)\n",
    "dim(ForeGroundFiltered$peaks)"
   ]
  },
  {
   "cell_type": "code",
   "execution_count": 11,
   "metadata": {},
   "outputs": [],
   "source": [
    "fm_scABC = as.matrix(ForeGroundFiltered$ForeGroundMatrix)"
   ]
  },
  {
   "cell_type": "code",
   "execution_count": null,
   "metadata": {},
   "outputs": [],
   "source": []
  },
  {
   "cell_type": "code",
   "execution_count": 12,
   "metadata": {
    "scrolled": false
   },
   "outputs": [
    {
     "data": {
      "text/html": [
       "<ol class=list-inline>\n",
       "\t<li>139517</li>\n",
       "\t<li>2034</li>\n",
       "</ol>\n"
      ],
      "text/latex": [
       "\\begin{enumerate*}\n",
       "\\item 139517\n",
       "\\item 2034\n",
       "\\end{enumerate*}\n"
      ],
      "text/markdown": [
       "1. 139517\n",
       "2. 2034\n",
       "\n",
       "\n"
      ],
      "text/plain": [
       "[1] 139517   2034"
      ]
     },
     "metadata": {},
     "output_type": "display_data"
    },
    {
     "data": {
      "text/html": [
       "<table>\n",
       "<thead><tr><th></th><th scope=col>../../input/sc-bams_nodup//BM1077-CLP-Frozen-160106-13.dedup.st.bam</th><th scope=col>../../input/sc-bams_nodup//BM1077-CLP-Frozen-160106-14.dedup.st.bam</th><th scope=col>../../input/sc-bams_nodup//BM1077-CLP-Frozen-160106-2.dedup.st.bam</th><th scope=col>../../input/sc-bams_nodup//BM1077-CLP-Frozen-160106-21.dedup.st.bam</th><th scope=col>../../input/sc-bams_nodup//BM1077-CLP-Frozen-160106-27.dedup.st.bam</th></tr></thead>\n",
       "<tbody>\n",
       "\t<tr><th scope=row>Peak_chr1_10279_10779</th><td>0</td><td>0</td><td>0</td><td>0</td><td>0</td></tr>\n",
       "\t<tr><th scope=row>Peak_chr1_13252_13752</th><td>0</td><td>0</td><td>0</td><td>0</td><td>0</td></tr>\n",
       "\t<tr><th scope=row>Peak_chr1_16019_16519</th><td>0</td><td>0</td><td>0</td><td>0</td><td>0</td></tr>\n",
       "\t<tr><th scope=row>Peak_chr1_29026_29526</th><td>0</td><td>0</td><td>0</td><td>0</td><td>0</td></tr>\n",
       "\t<tr><th scope=row>Peak_chr1_96364_96864</th><td>0</td><td>0</td><td>0</td><td>0</td><td>0</td></tr>\n",
       "</tbody>\n",
       "</table>\n"
      ],
      "text/latex": [
       "\\begin{tabular}{r|lllll}\n",
       "  & ../../input/sc-bams\\_nodup//BM1077-CLP-Frozen-160106-13.dedup.st.bam & ../../input/sc-bams\\_nodup//BM1077-CLP-Frozen-160106-14.dedup.st.bam & ../../input/sc-bams\\_nodup//BM1077-CLP-Frozen-160106-2.dedup.st.bam & ../../input/sc-bams\\_nodup//BM1077-CLP-Frozen-160106-21.dedup.st.bam & ../../input/sc-bams\\_nodup//BM1077-CLP-Frozen-160106-27.dedup.st.bam\\\\\n",
       "\\hline\n",
       "\tPeak\\_chr1\\_10279\\_10779 & 0 & 0 & 0 & 0 & 0\\\\\n",
       "\tPeak\\_chr1\\_13252\\_13752 & 0 & 0 & 0 & 0 & 0\\\\\n",
       "\tPeak\\_chr1\\_16019\\_16519 & 0 & 0 & 0 & 0 & 0\\\\\n",
       "\tPeak\\_chr1\\_29026\\_29526 & 0 & 0 & 0 & 0 & 0\\\\\n",
       "\tPeak\\_chr1\\_96364\\_96864 & 0 & 0 & 0 & 0 & 0\\\\\n",
       "\\end{tabular}\n"
      ],
      "text/markdown": [
       "\n",
       "| <!--/--> | ../../input/sc-bams_nodup//BM1077-CLP-Frozen-160106-13.dedup.st.bam | ../../input/sc-bams_nodup//BM1077-CLP-Frozen-160106-14.dedup.st.bam | ../../input/sc-bams_nodup//BM1077-CLP-Frozen-160106-2.dedup.st.bam | ../../input/sc-bams_nodup//BM1077-CLP-Frozen-160106-21.dedup.st.bam | ../../input/sc-bams_nodup//BM1077-CLP-Frozen-160106-27.dedup.st.bam |\n",
       "|---|---|---|---|---|---|\n",
       "| Peak_chr1_10279_10779 | 0 | 0 | 0 | 0 | 0 |\n",
       "| Peak_chr1_13252_13752 | 0 | 0 | 0 | 0 | 0 |\n",
       "| Peak_chr1_16019_16519 | 0 | 0 | 0 | 0 | 0 |\n",
       "| Peak_chr1_29026_29526 | 0 | 0 | 0 | 0 | 0 |\n",
       "| Peak_chr1_96364_96864 | 0 | 0 | 0 | 0 | 0 |\n",
       "\n"
      ],
      "text/plain": [
       "                      ../../input/sc-bams_nodup//BM1077-CLP-Frozen-160106-13.dedup.st.bam\n",
       "Peak_chr1_10279_10779 0                                                                  \n",
       "Peak_chr1_13252_13752 0                                                                  \n",
       "Peak_chr1_16019_16519 0                                                                  \n",
       "Peak_chr1_29026_29526 0                                                                  \n",
       "Peak_chr1_96364_96864 0                                                                  \n",
       "                      ../../input/sc-bams_nodup//BM1077-CLP-Frozen-160106-14.dedup.st.bam\n",
       "Peak_chr1_10279_10779 0                                                                  \n",
       "Peak_chr1_13252_13752 0                                                                  \n",
       "Peak_chr1_16019_16519 0                                                                  \n",
       "Peak_chr1_29026_29526 0                                                                  \n",
       "Peak_chr1_96364_96864 0                                                                  \n",
       "                      ../../input/sc-bams_nodup//BM1077-CLP-Frozen-160106-2.dedup.st.bam\n",
       "Peak_chr1_10279_10779 0                                                                 \n",
       "Peak_chr1_13252_13752 0                                                                 \n",
       "Peak_chr1_16019_16519 0                                                                 \n",
       "Peak_chr1_29026_29526 0                                                                 \n",
       "Peak_chr1_96364_96864 0                                                                 \n",
       "                      ../../input/sc-bams_nodup//BM1077-CLP-Frozen-160106-21.dedup.st.bam\n",
       "Peak_chr1_10279_10779 0                                                                  \n",
       "Peak_chr1_13252_13752 0                                                                  \n",
       "Peak_chr1_16019_16519 0                                                                  \n",
       "Peak_chr1_29026_29526 0                                                                  \n",
       "Peak_chr1_96364_96864 0                                                                  \n",
       "                      ../../input/sc-bams_nodup//BM1077-CLP-Frozen-160106-27.dedup.st.bam\n",
       "Peak_chr1_10279_10779 0                                                                  \n",
       "Peak_chr1_13252_13752 0                                                                  \n",
       "Peak_chr1_16019_16519 0                                                                  \n",
       "Peak_chr1_29026_29526 0                                                                  \n",
       "Peak_chr1_96364_96864 0                                                                  "
      ]
     },
     "metadata": {},
     "output_type": "display_data"
    }
   ],
   "source": [
    "dim(fm_scABC)\n",
    "fm_scABC[1:5,1:5]"
   ]
  },
  {
   "cell_type": "code",
   "execution_count": 13,
   "metadata": {},
   "outputs": [],
   "source": [
    "end_time <- Sys.time()"
   ]
  },
  {
   "cell_type": "code",
   "execution_count": 14,
   "metadata": {},
   "outputs": [
    {
     "data": {
      "text/plain": [
       "Time difference of 9.157233 mins"
      ]
     },
     "metadata": {},
     "output_type": "display_data"
    }
   ],
   "source": [
    "end_time - start_time"
   ]
  },
  {
   "cell_type": "code",
   "execution_count": null,
   "metadata": {},
   "outputs": [],
   "source": []
  },
  {
   "cell_type": "code",
   "execution_count": 15,
   "metadata": {},
   "outputs": [
    {
     "data": {
      "text/html": [
       "TRUE"
      ],
      "text/latex": [
       "TRUE"
      ],
      "text/markdown": [
       "TRUE"
      ],
      "text/plain": [
       "[1] TRUE"
      ]
     },
     "metadata": {},
     "output_type": "display_data"
    }
   ],
   "source": [
    "all(sapply(strsplit(basename(colnames(fm_scABC)),'\\\\.'),'[', 1) == rownames(metadata))"
   ]
  },
  {
   "cell_type": "code",
   "execution_count": 16,
   "metadata": {},
   "outputs": [],
   "source": [
    "colnames(fm_scABC) = rownames(metadata)"
   ]
  },
  {
   "cell_type": "code",
   "execution_count": 17,
   "metadata": {},
   "outputs": [
    {
     "data": {
      "text/html": [
       "<ol class=list-inline>\n",
       "\t<li>139517</li>\n",
       "\t<li>2034</li>\n",
       "</ol>\n"
      ],
      "text/latex": [
       "\\begin{enumerate*}\n",
       "\\item 139517\n",
       "\\item 2034\n",
       "\\end{enumerate*}\n"
      ],
      "text/markdown": [
       "1. 139517\n",
       "2. 2034\n",
       "\n",
       "\n"
      ],
      "text/plain": [
       "[1] 139517   2034"
      ]
     },
     "metadata": {},
     "output_type": "display_data"
    },
    {
     "data": {
      "text/html": [
       "<table>\n",
       "<thead><tr><th></th><th scope=col>BM1077-CLP-Frozen-160106-13</th><th scope=col>BM1077-CLP-Frozen-160106-14</th><th scope=col>BM1077-CLP-Frozen-160106-2</th><th scope=col>BM1077-CLP-Frozen-160106-21</th><th scope=col>BM1077-CLP-Frozen-160106-27</th></tr></thead>\n",
       "<tbody>\n",
       "\t<tr><th scope=row>Peak_chr1_10279_10779</th><td>0</td><td>0</td><td>0</td><td>0</td><td>0</td></tr>\n",
       "\t<tr><th scope=row>Peak_chr1_13252_13752</th><td>0</td><td>0</td><td>0</td><td>0</td><td>0</td></tr>\n",
       "\t<tr><th scope=row>Peak_chr1_16019_16519</th><td>0</td><td>0</td><td>0</td><td>0</td><td>0</td></tr>\n",
       "\t<tr><th scope=row>Peak_chr1_29026_29526</th><td>0</td><td>0</td><td>0</td><td>0</td><td>0</td></tr>\n",
       "\t<tr><th scope=row>Peak_chr1_96364_96864</th><td>0</td><td>0</td><td>0</td><td>0</td><td>0</td></tr>\n",
       "</tbody>\n",
       "</table>\n"
      ],
      "text/latex": [
       "\\begin{tabular}{r|lllll}\n",
       "  & BM1077-CLP-Frozen-160106-13 & BM1077-CLP-Frozen-160106-14 & BM1077-CLP-Frozen-160106-2 & BM1077-CLP-Frozen-160106-21 & BM1077-CLP-Frozen-160106-27\\\\\n",
       "\\hline\n",
       "\tPeak\\_chr1\\_10279\\_10779 & 0 & 0 & 0 & 0 & 0\\\\\n",
       "\tPeak\\_chr1\\_13252\\_13752 & 0 & 0 & 0 & 0 & 0\\\\\n",
       "\tPeak\\_chr1\\_16019\\_16519 & 0 & 0 & 0 & 0 & 0\\\\\n",
       "\tPeak\\_chr1\\_29026\\_29526 & 0 & 0 & 0 & 0 & 0\\\\\n",
       "\tPeak\\_chr1\\_96364\\_96864 & 0 & 0 & 0 & 0 & 0\\\\\n",
       "\\end{tabular}\n"
      ],
      "text/markdown": [
       "\n",
       "| <!--/--> | BM1077-CLP-Frozen-160106-13 | BM1077-CLP-Frozen-160106-14 | BM1077-CLP-Frozen-160106-2 | BM1077-CLP-Frozen-160106-21 | BM1077-CLP-Frozen-160106-27 |\n",
       "|---|---|---|---|---|---|\n",
       "| Peak_chr1_10279_10779 | 0 | 0 | 0 | 0 | 0 |\n",
       "| Peak_chr1_13252_13752 | 0 | 0 | 0 | 0 | 0 |\n",
       "| Peak_chr1_16019_16519 | 0 | 0 | 0 | 0 | 0 |\n",
       "| Peak_chr1_29026_29526 | 0 | 0 | 0 | 0 | 0 |\n",
       "| Peak_chr1_96364_96864 | 0 | 0 | 0 | 0 | 0 |\n",
       "\n"
      ],
      "text/plain": [
       "                      BM1077-CLP-Frozen-160106-13 BM1077-CLP-Frozen-160106-14\n",
       "Peak_chr1_10279_10779 0                           0                          \n",
       "Peak_chr1_13252_13752 0                           0                          \n",
       "Peak_chr1_16019_16519 0                           0                          \n",
       "Peak_chr1_29026_29526 0                           0                          \n",
       "Peak_chr1_96364_96864 0                           0                          \n",
       "                      BM1077-CLP-Frozen-160106-2 BM1077-CLP-Frozen-160106-21\n",
       "Peak_chr1_10279_10779 0                          0                          \n",
       "Peak_chr1_13252_13752 0                          0                          \n",
       "Peak_chr1_16019_16519 0                          0                          \n",
       "Peak_chr1_29026_29526 0                          0                          \n",
       "Peak_chr1_96364_96864 0                          0                          \n",
       "                      BM1077-CLP-Frozen-160106-27\n",
       "Peak_chr1_10279_10779 0                          \n",
       "Peak_chr1_13252_13752 0                          \n",
       "Peak_chr1_16019_16519 0                          \n",
       "Peak_chr1_29026_29526 0                          \n",
       "Peak_chr1_96364_96864 0                          "
      ]
     },
     "metadata": {},
     "output_type": "display_data"
    }
   ],
   "source": [
    "dim(fm_scABC)\n",
    "fm_scABC[1:5,1:5]"
   ]
  },
  {
   "cell_type": "code",
   "execution_count": null,
   "metadata": {},
   "outputs": [],
   "source": []
  },
  {
   "cell_type": "code",
   "execution_count": 18,
   "metadata": {},
   "outputs": [],
   "source": [
    "saveRDS(fm_scABC, file = '../../output/feature_matrices/FM_scABC_buenrostro2018bulkpeaks.rds')"
   ]
  },
  {
   "cell_type": "code",
   "execution_count": null,
   "metadata": {},
   "outputs": [],
   "source": []
  },
  {
   "cell_type": "markdown",
   "metadata": {},
   "source": [
    "### Downstream Analysis"
   ]
  },
  {
   "cell_type": "code",
   "execution_count": 19,
   "metadata": {},
   "outputs": [],
   "source": [
    "### Instead of normalizing the peaks-by-cells matrix, \n",
    "### weights calculated below will be used in k-medoid clustering step based on cell dissimilarity matrix: WeightedCluster::wcKMedoids(FGdist, k = nCluster, weights = weights);\n",
    "### so it's not considered as part of feature matrix construction\n",
    "\n",
    "\n",
    "# BackGround <- getBackground(bamfiles, ForeGroundFiltered$peaks, \n",
    "#                            upstream = 5e+05, downstream = 5e+05,\n",
    "#                            PAIRED = FALSE, byReadGroup = FALSE)\n",
    "\n",
    "# InSilicoForeGround = ForeGroundFiltered$ForeGroundMatrix\n",
    "# InSilicoBackGround = BackGround$BackGroundMatrix\n",
    "# InSilicoPeaks = ForeGroundFiltered$peaks\n",
    "\n",
    "# fg.mat <- Matrix::Matrix(InSilicoForeGround, sparse = TRUE)\n",
    "# bg.mat <- Matrix::Matrix(InSilicoBackGround, sparse = TRUE);\n",
    "\n",
    "# weights = apply(bg.mat, 2, median);\n",
    "# c = min(8, median(weights))\n",
    "# # compute weighted k-medioids\n",
    "# lambda = 1.0\n",
    "# FGdist = 1 - sparseSpearmanCor(ForeGround);\n",
    "# weights = 1/(1 + exp(-(weights - c)/(c*lambda)));"
   ]
  },
  {
   "cell_type": "code",
   "execution_count": 20,
   "metadata": {},
   "outputs": [],
   "source": [
    "BackGround <- getBackground(bamfiles, ForeGroundFiltered$peaks, \n",
    "                           upstream = 5e+05, downstream = 5e+05,\n",
    "                           PAIRED = FALSE, byReadGroup = FALSE)"
   ]
  },
  {
   "cell_type": "code",
   "execution_count": 21,
   "metadata": {},
   "outputs": [],
   "source": [
    "InSilicoForeGround = ForeGroundFiltered$ForeGroundMatrix\n",
    "InSilicoBackGround = BackGround$BackGroundMatrix\n",
    "InSilicoPeaks = ForeGroundFiltered$peaks"
   ]
  },
  {
   "cell_type": "code",
   "execution_count": 22,
   "metadata": {},
   "outputs": [],
   "source": [
    "#compute the landmarks\n",
    "InSilicoLandMarks = computeLandmarks(ForeGround = InSilicoForeGround, \n",
    "                                      BackGround = InSilicoBackGround, \n",
    "                                      nCluster = length(unique(metadata$label)), lambda = 1, nTop = 2000)"
   ]
  },
  {
   "cell_type": "code",
   "execution_count": 23,
   "metadata": {},
   "outputs": [
    {
     "data": {
      "text/html": [
       "<table>\n",
       "<tbody>\n",
       "\t<tr><td>1.0000000</td><td>0.2438309</td><td>0.4244481</td><td>0.2580935</td><td>0.2860021</td><td>0.4803328</td><td>0.5319120</td><td>0.4612757</td><td>0.5188308</td><td>0.4235940</td></tr>\n",
       "\t<tr><td>0.2438309</td><td>1.0000000</td><td>0.3122203</td><td>0.1889295</td><td>0.2172000</td><td>0.3670636</td><td>0.3545203</td><td>0.3323311</td><td>0.3565220</td><td>0.3291958</td></tr>\n",
       "\t<tr><td>0.4244481</td><td>0.3122203</td><td>1.0000000</td><td>0.2778499</td><td>0.3243910</td><td>0.6322385</td><td>0.6562546</td><td>0.5990578</td><td>0.6152552</td><td>0.5481999</td></tr>\n",
       "\t<tr><td>0.2580935</td><td>0.1889295</td><td>0.2778499</td><td>1.0000000</td><td>0.1957895</td><td>0.3200940</td><td>0.3338121</td><td>0.3299704</td><td>0.3189125</td><td>0.2898136</td></tr>\n",
       "\t<tr><td>0.2860021</td><td>0.2172000</td><td>0.3243910</td><td>0.1957895</td><td>1.0000000</td><td>0.3977447</td><td>0.3915297</td><td>0.3598874</td><td>0.3837491</td><td>0.3461507</td></tr>\n",
       "\t<tr><td>0.4803328</td><td>0.3670636</td><td>0.6322385</td><td>0.3200940</td><td>0.3977447</td><td>1.0000000</td><td>0.8095506</td><td>0.7252495</td><td>0.8022158</td><td>0.6937151</td></tr>\n",
       "\t<tr><td>0.5319120</td><td>0.3545203</td><td>0.6562546</td><td>0.3338121</td><td>0.3915297</td><td>0.8095506</td><td>1.0000000</td><td>0.7853849</td><td>0.7875049</td><td>0.6835954</td></tr>\n",
       "\t<tr><td>0.4612757</td><td>0.3323311</td><td>0.5990578</td><td>0.3299704</td><td>0.3598874</td><td>0.7252495</td><td>0.7853849</td><td>1.0000000</td><td>0.6831432</td><td>0.6370474</td></tr>\n",
       "\t<tr><td>0.5188308</td><td>0.3565220</td><td>0.6152552</td><td>0.3189125</td><td>0.3837491</td><td>0.8022158</td><td>0.7875049</td><td>0.6831432</td><td>1.0000000</td><td>0.6882970</td></tr>\n",
       "\t<tr><td>0.4235940</td><td>0.3291958</td><td>0.5481999</td><td>0.2898136</td><td>0.3461507</td><td>0.6937151</td><td>0.6835954</td><td>0.6370474</td><td>0.6882970</td><td>1.0000000</td></tr>\n",
       "</tbody>\n",
       "</table>\n"
      ],
      "text/latex": [
       "\\begin{tabular}{llllllllll}\n",
       "\t 1.0000000 & 0.2438309 & 0.4244481 & 0.2580935 & 0.2860021 & 0.4803328 & 0.5319120 & 0.4612757 & 0.5188308 & 0.4235940\\\\\n",
       "\t 0.2438309 & 1.0000000 & 0.3122203 & 0.1889295 & 0.2172000 & 0.3670636 & 0.3545203 & 0.3323311 & 0.3565220 & 0.3291958\\\\\n",
       "\t 0.4244481 & 0.3122203 & 1.0000000 & 0.2778499 & 0.3243910 & 0.6322385 & 0.6562546 & 0.5990578 & 0.6152552 & 0.5481999\\\\\n",
       "\t 0.2580935 & 0.1889295 & 0.2778499 & 1.0000000 & 0.1957895 & 0.3200940 & 0.3338121 & 0.3299704 & 0.3189125 & 0.2898136\\\\\n",
       "\t 0.2860021 & 0.2172000 & 0.3243910 & 0.1957895 & 1.0000000 & 0.3977447 & 0.3915297 & 0.3598874 & 0.3837491 & 0.3461507\\\\\n",
       "\t 0.4803328 & 0.3670636 & 0.6322385 & 0.3200940 & 0.3977447 & 1.0000000 & 0.8095506 & 0.7252495 & 0.8022158 & 0.6937151\\\\\n",
       "\t 0.5319120 & 0.3545203 & 0.6562546 & 0.3338121 & 0.3915297 & 0.8095506 & 1.0000000 & 0.7853849 & 0.7875049 & 0.6835954\\\\\n",
       "\t 0.4612757 & 0.3323311 & 0.5990578 & 0.3299704 & 0.3598874 & 0.7252495 & 0.7853849 & 1.0000000 & 0.6831432 & 0.6370474\\\\\n",
       "\t 0.5188308 & 0.3565220 & 0.6152552 & 0.3189125 & 0.3837491 & 0.8022158 & 0.7875049 & 0.6831432 & 1.0000000 & 0.6882970\\\\\n",
       "\t 0.4235940 & 0.3291958 & 0.5481999 & 0.2898136 & 0.3461507 & 0.6937151 & 0.6835954 & 0.6370474 & 0.6882970 & 1.0000000\\\\\n",
       "\\end{tabular}\n"
      ],
      "text/markdown": [
       "\n",
       "| 1.0000000 | 0.2438309 | 0.4244481 | 0.2580935 | 0.2860021 | 0.4803328 | 0.5319120 | 0.4612757 | 0.5188308 | 0.4235940 |\n",
       "| 0.2438309 | 1.0000000 | 0.3122203 | 0.1889295 | 0.2172000 | 0.3670636 | 0.3545203 | 0.3323311 | 0.3565220 | 0.3291958 |\n",
       "| 0.4244481 | 0.3122203 | 1.0000000 | 0.2778499 | 0.3243910 | 0.6322385 | 0.6562546 | 0.5990578 | 0.6152552 | 0.5481999 |\n",
       "| 0.2580935 | 0.1889295 | 0.2778499 | 1.0000000 | 0.1957895 | 0.3200940 | 0.3338121 | 0.3299704 | 0.3189125 | 0.2898136 |\n",
       "| 0.2860021 | 0.2172000 | 0.3243910 | 0.1957895 | 1.0000000 | 0.3977447 | 0.3915297 | 0.3598874 | 0.3837491 | 0.3461507 |\n",
       "| 0.4803328 | 0.3670636 | 0.6322385 | 0.3200940 | 0.3977447 | 1.0000000 | 0.8095506 | 0.7252495 | 0.8022158 | 0.6937151 |\n",
       "| 0.5319120 | 0.3545203 | 0.6562546 | 0.3338121 | 0.3915297 | 0.8095506 | 1.0000000 | 0.7853849 | 0.7875049 | 0.6835954 |\n",
       "| 0.4612757 | 0.3323311 | 0.5990578 | 0.3299704 | 0.3598874 | 0.7252495 | 0.7853849 | 1.0000000 | 0.6831432 | 0.6370474 |\n",
       "| 0.5188308 | 0.3565220 | 0.6152552 | 0.3189125 | 0.3837491 | 0.8022158 | 0.7875049 | 0.6831432 | 1.0000000 | 0.6882970 |\n",
       "| 0.4235940 | 0.3291958 | 0.5481999 | 0.2898136 | 0.3461507 | 0.6937151 | 0.6835954 | 0.6370474 | 0.6882970 | 1.0000000 |\n",
       "\n"
      ],
      "text/plain": [
       "      [,1]      [,2]      [,3]      [,4]      [,5]      [,6]      [,7]     \n",
       " [1,] 1.0000000 0.2438309 0.4244481 0.2580935 0.2860021 0.4803328 0.5319120\n",
       " [2,] 0.2438309 1.0000000 0.3122203 0.1889295 0.2172000 0.3670636 0.3545203\n",
       " [3,] 0.4244481 0.3122203 1.0000000 0.2778499 0.3243910 0.6322385 0.6562546\n",
       " [4,] 0.2580935 0.1889295 0.2778499 1.0000000 0.1957895 0.3200940 0.3338121\n",
       " [5,] 0.2860021 0.2172000 0.3243910 0.1957895 1.0000000 0.3977447 0.3915297\n",
       " [6,] 0.4803328 0.3670636 0.6322385 0.3200940 0.3977447 1.0000000 0.8095506\n",
       " [7,] 0.5319120 0.3545203 0.6562546 0.3338121 0.3915297 0.8095506 1.0000000\n",
       " [8,] 0.4612757 0.3323311 0.5990578 0.3299704 0.3598874 0.7252495 0.7853849\n",
       " [9,] 0.5188308 0.3565220 0.6152552 0.3189125 0.3837491 0.8022158 0.7875049\n",
       "[10,] 0.4235940 0.3291958 0.5481999 0.2898136 0.3461507 0.6937151 0.6835954\n",
       "      [,8]      [,9]      [,10]    \n",
       " [1,] 0.4612757 0.5188308 0.4235940\n",
       " [2,] 0.3323311 0.3565220 0.3291958\n",
       " [3,] 0.5990578 0.6152552 0.5481999\n",
       " [4,] 0.3299704 0.3189125 0.2898136\n",
       " [5,] 0.3598874 0.3837491 0.3461507\n",
       " [6,] 0.7252495 0.8022158 0.6937151\n",
       " [7,] 0.7853849 0.7875049 0.6835954\n",
       " [8,] 1.0000000 0.6831432 0.6370474\n",
       " [9,] 0.6831432 1.0000000 0.6882970\n",
       "[10,] 0.6370474 0.6882970 1.0000000"
      ]
     },
     "metadata": {},
     "output_type": "display_data"
    }
   ],
   "source": [
    "cor(InSilicoLandMarks, InSilicoLandMarks, method = 'spearman')"
   ]
  },
  {
   "cell_type": "code",
   "execution_count": 24,
   "metadata": {},
   "outputs": [],
   "source": [
    "# assign cells to the closest landmark #\n",
    "InSilicoLandMarkAssignments = assign2landmarks(InSilicoForeGround, InSilicoLandMarks)"
   ]
  },
  {
   "cell_type": "code",
   "execution_count": 25,
   "metadata": {
    "scrolled": true
   },
   "outputs": [
    {
     "data": {
      "text/html": [
       "<ol class=list-inline>\n",
       "\t<li>139517</li>\n",
       "\t<li>10</li>\n",
       "</ol>\n"
      ],
      "text/latex": [
       "\\begin{enumerate*}\n",
       "\\item 139517\n",
       "\\item 10\n",
       "\\end{enumerate*}\n"
      ],
      "text/markdown": [
       "1. 139517\n",
       "2. 10\n",
       "\n",
       "\n"
      ],
      "text/plain": [
       "[1] 139517     10"
      ]
     },
     "metadata": {},
     "output_type": "display_data"
    },
    {
     "data": {
      "text/html": [
       "<table>\n",
       "<tbody>\n",
       "\t<tr><th scope=row>Peak_chr1_10279_10779</th><td>0</td><td>0</td><td>0</td><td>0</td><td>0</td><td>0</td><td>0</td><td>0</td><td>0</td><td>0</td></tr>\n",
       "\t<tr><th scope=row>Peak_chr1_13252_13752</th><td>0</td><td>0</td><td>0</td><td>0</td><td>0</td><td>0</td><td>0</td><td>0</td><td>0</td><td>0</td></tr>\n",
       "\t<tr><th scope=row>Peak_chr1_16019_16519</th><td>0</td><td>0</td><td>0</td><td>0</td><td>0</td><td>0</td><td>0</td><td>0</td><td>0</td><td>0</td></tr>\n",
       "\t<tr><th scope=row>Peak_chr1_29026_29526</th><td>0</td><td>0</td><td>0</td><td>0</td><td>0</td><td>0</td><td>0</td><td>0</td><td>0</td><td>0</td></tr>\n",
       "\t<tr><th scope=row>Peak_chr1_96364_96864</th><td>0</td><td>0</td><td>0</td><td>0</td><td>0</td><td>0</td><td>0</td><td>0</td><td>0</td><td>0</td></tr>\n",
       "\t<tr><th scope=row>Peak_chr1_115440_115940</th><td>0</td><td>0</td><td>0</td><td>0</td><td>0</td><td>0</td><td>0</td><td>0</td><td>0</td><td>0</td></tr>\n",
       "</tbody>\n",
       "</table>\n"
      ],
      "text/latex": [
       "\\begin{tabular}{r|llllllllll}\n",
       "\tPeak\\_chr1\\_10279\\_10779 & 0 & 0 & 0 & 0 & 0 & 0 & 0 & 0 & 0 & 0\\\\\n",
       "\tPeak\\_chr1\\_13252\\_13752 & 0 & 0 & 0 & 0 & 0 & 0 & 0 & 0 & 0 & 0\\\\\n",
       "\tPeak\\_chr1\\_16019\\_16519 & 0 & 0 & 0 & 0 & 0 & 0 & 0 & 0 & 0 & 0\\\\\n",
       "\tPeak\\_chr1\\_29026\\_29526 & 0 & 0 & 0 & 0 & 0 & 0 & 0 & 0 & 0 & 0\\\\\n",
       "\tPeak\\_chr1\\_96364\\_96864 & 0 & 0 & 0 & 0 & 0 & 0 & 0 & 0 & 0 & 0\\\\\n",
       "\tPeak\\_chr1\\_115440\\_115940 & 0 & 0 & 0 & 0 & 0 & 0 & 0 & 0 & 0 & 0\\\\\n",
       "\\end{tabular}\n"
      ],
      "text/markdown": [
       "\n",
       "| Peak_chr1_10279_10779 | 0 | 0 | 0 | 0 | 0 | 0 | 0 | 0 | 0 | 0 |\n",
       "| Peak_chr1_13252_13752 | 0 | 0 | 0 | 0 | 0 | 0 | 0 | 0 | 0 | 0 |\n",
       "| Peak_chr1_16019_16519 | 0 | 0 | 0 | 0 | 0 | 0 | 0 | 0 | 0 | 0 |\n",
       "| Peak_chr1_29026_29526 | 0 | 0 | 0 | 0 | 0 | 0 | 0 | 0 | 0 | 0 |\n",
       "| Peak_chr1_96364_96864 | 0 | 0 | 0 | 0 | 0 | 0 | 0 | 0 | 0 | 0 |\n",
       "| Peak_chr1_115440_115940 | 0 | 0 | 0 | 0 | 0 | 0 | 0 | 0 | 0 | 0 |\n",
       "\n"
      ],
      "text/plain": [
       "                        [,1] [,2] [,3] [,4] [,5] [,6] [,7] [,8] [,9] [,10]\n",
       "Peak_chr1_10279_10779   0    0    0    0    0    0    0    0    0    0    \n",
       "Peak_chr1_13252_13752   0    0    0    0    0    0    0    0    0    0    \n",
       "Peak_chr1_16019_16519   0    0    0    0    0    0    0    0    0    0    \n",
       "Peak_chr1_29026_29526   0    0    0    0    0    0    0    0    0    0    \n",
       "Peak_chr1_96364_96864   0    0    0    0    0    0    0    0    0    0    \n",
       "Peak_chr1_115440_115940 0    0    0    0    0    0    0    0    0    0    "
      ]
     },
     "metadata": {},
     "output_type": "display_data"
    }
   ],
   "source": [
    "dim(InSilicoLandMarks)\n",
    "head(InSilicoLandMarks)"
   ]
  },
  {
   "cell_type": "code",
   "execution_count": 26,
   "metadata": {},
   "outputs": [],
   "source": [
    "InSilicoCell2LandmarkCorrelation = do.call(cbind, \n",
    "                                           lapply(seq(length(unique(metadata$label))), \n",
    "                                                  function(i) apply(InSilicoForeGround, 2, \n",
    "                                                                    function(x) cor(x, InSilicoLandMarks[,i], method = 'spearman'))))"
   ]
  },
  {
   "cell_type": "code",
   "execution_count": 27,
   "metadata": {},
   "outputs": [
    {
     "data": {
      "text/html": [
       "<ol class=list-inline>\n",
       "\t<li>2034</li>\n",
       "\t<li>10</li>\n",
       "</ol>\n"
      ],
      "text/latex": [
       "\\begin{enumerate*}\n",
       "\\item 2034\n",
       "\\item 10\n",
       "\\end{enumerate*}\n"
      ],
      "text/markdown": [
       "1. 2034\n",
       "2. 10\n",
       "\n",
       "\n"
      ],
      "text/plain": [
       "[1] 2034   10"
      ]
     },
     "metadata": {},
     "output_type": "display_data"
    },
    {
     "data": {
      "text/html": [
       "<table>\n",
       "<tbody>\n",
       "\t<tr><th scope=row>../../input/sc-bams_nodup//BM1077-CLP-Frozen-160106-13.dedup.st.bam</th><td>0.08336461</td><td>0.07699669</td><td>0.10098648</td><td>0.06328785</td><td>0.06847477</td></tr>\n",
       "\t<tr><th scope=row>../../input/sc-bams_nodup//BM1077-CLP-Frozen-160106-14.dedup.st.bam</th><td>0.09077720</td><td>0.08197802</td><td>0.13509146</td><td>0.07880083</td><td>0.08514228</td></tr>\n",
       "\t<tr><th scope=row>../../input/sc-bams_nodup//BM1077-CLP-Frozen-160106-2.dedup.st.bam</th><td>0.09872969</td><td>0.08986411</td><td>0.14400939</td><td>0.07550953</td><td>0.07808820</td></tr>\n",
       "\t<tr><th scope=row>../../input/sc-bams_nodup//BM1077-CLP-Frozen-160106-21.dedup.st.bam</th><td>0.06944832</td><td>0.05367008</td><td>0.09072887</td><td>0.05064401</td><td>0.05782625</td></tr>\n",
       "\t<tr><th scope=row>../../input/sc-bams_nodup//BM1077-CLP-Frozen-160106-27.dedup.st.bam</th><td>0.08314731</td><td>0.05730688</td><td>0.09469995</td><td>0.05840546</td><td>0.06595571</td></tr>\n",
       "</tbody>\n",
       "</table>\n"
      ],
      "text/latex": [
       "\\begin{tabular}{r|lllll}\n",
       "\t../../input/sc-bams\\_nodup//BM1077-CLP-Frozen-160106-13.dedup.st.bam & 0.08336461 & 0.07699669 & 0.10098648 & 0.06328785 & 0.06847477\\\\\n",
       "\t../../input/sc-bams\\_nodup//BM1077-CLP-Frozen-160106-14.dedup.st.bam & 0.09077720 & 0.08197802 & 0.13509146 & 0.07880083 & 0.08514228\\\\\n",
       "\t../../input/sc-bams\\_nodup//BM1077-CLP-Frozen-160106-2.dedup.st.bam & 0.09872969 & 0.08986411 & 0.14400939 & 0.07550953 & 0.07808820\\\\\n",
       "\t../../input/sc-bams\\_nodup//BM1077-CLP-Frozen-160106-21.dedup.st.bam & 0.06944832 & 0.05367008 & 0.09072887 & 0.05064401 & 0.05782625\\\\\n",
       "\t../../input/sc-bams\\_nodup//BM1077-CLP-Frozen-160106-27.dedup.st.bam & 0.08314731 & 0.05730688 & 0.09469995 & 0.05840546 & 0.06595571\\\\\n",
       "\\end{tabular}\n"
      ],
      "text/markdown": [
       "\n",
       "| ../../input/sc-bams_nodup//BM1077-CLP-Frozen-160106-13.dedup.st.bam | 0.08336461 | 0.07699669 | 0.10098648 | 0.06328785 | 0.06847477 |\n",
       "| ../../input/sc-bams_nodup//BM1077-CLP-Frozen-160106-14.dedup.st.bam | 0.09077720 | 0.08197802 | 0.13509146 | 0.07880083 | 0.08514228 |\n",
       "| ../../input/sc-bams_nodup//BM1077-CLP-Frozen-160106-2.dedup.st.bam | 0.09872969 | 0.08986411 | 0.14400939 | 0.07550953 | 0.07808820 |\n",
       "| ../../input/sc-bams_nodup//BM1077-CLP-Frozen-160106-21.dedup.st.bam | 0.06944832 | 0.05367008 | 0.09072887 | 0.05064401 | 0.05782625 |\n",
       "| ../../input/sc-bams_nodup//BM1077-CLP-Frozen-160106-27.dedup.st.bam | 0.08314731 | 0.05730688 | 0.09469995 | 0.05840546 | 0.06595571 |\n",
       "\n"
      ],
      "text/plain": [
       "                                                                    [,1]      \n",
       "../../input/sc-bams_nodup//BM1077-CLP-Frozen-160106-13.dedup.st.bam 0.08336461\n",
       "../../input/sc-bams_nodup//BM1077-CLP-Frozen-160106-14.dedup.st.bam 0.09077720\n",
       "../../input/sc-bams_nodup//BM1077-CLP-Frozen-160106-2.dedup.st.bam  0.09872969\n",
       "../../input/sc-bams_nodup//BM1077-CLP-Frozen-160106-21.dedup.st.bam 0.06944832\n",
       "../../input/sc-bams_nodup//BM1077-CLP-Frozen-160106-27.dedup.st.bam 0.08314731\n",
       "                                                                    [,2]      \n",
       "../../input/sc-bams_nodup//BM1077-CLP-Frozen-160106-13.dedup.st.bam 0.07699669\n",
       "../../input/sc-bams_nodup//BM1077-CLP-Frozen-160106-14.dedup.st.bam 0.08197802\n",
       "../../input/sc-bams_nodup//BM1077-CLP-Frozen-160106-2.dedup.st.bam  0.08986411\n",
       "../../input/sc-bams_nodup//BM1077-CLP-Frozen-160106-21.dedup.st.bam 0.05367008\n",
       "../../input/sc-bams_nodup//BM1077-CLP-Frozen-160106-27.dedup.st.bam 0.05730688\n",
       "                                                                    [,3]      \n",
       "../../input/sc-bams_nodup//BM1077-CLP-Frozen-160106-13.dedup.st.bam 0.10098648\n",
       "../../input/sc-bams_nodup//BM1077-CLP-Frozen-160106-14.dedup.st.bam 0.13509146\n",
       "../../input/sc-bams_nodup//BM1077-CLP-Frozen-160106-2.dedup.st.bam  0.14400939\n",
       "../../input/sc-bams_nodup//BM1077-CLP-Frozen-160106-21.dedup.st.bam 0.09072887\n",
       "../../input/sc-bams_nodup//BM1077-CLP-Frozen-160106-27.dedup.st.bam 0.09469995\n",
       "                                                                    [,4]      \n",
       "../../input/sc-bams_nodup//BM1077-CLP-Frozen-160106-13.dedup.st.bam 0.06328785\n",
       "../../input/sc-bams_nodup//BM1077-CLP-Frozen-160106-14.dedup.st.bam 0.07880083\n",
       "../../input/sc-bams_nodup//BM1077-CLP-Frozen-160106-2.dedup.st.bam  0.07550953\n",
       "../../input/sc-bams_nodup//BM1077-CLP-Frozen-160106-21.dedup.st.bam 0.05064401\n",
       "../../input/sc-bams_nodup//BM1077-CLP-Frozen-160106-27.dedup.st.bam 0.05840546\n",
       "                                                                    [,5]      \n",
       "../../input/sc-bams_nodup//BM1077-CLP-Frozen-160106-13.dedup.st.bam 0.06847477\n",
       "../../input/sc-bams_nodup//BM1077-CLP-Frozen-160106-14.dedup.st.bam 0.08514228\n",
       "../../input/sc-bams_nodup//BM1077-CLP-Frozen-160106-2.dedup.st.bam  0.07808820\n",
       "../../input/sc-bams_nodup//BM1077-CLP-Frozen-160106-21.dedup.st.bam 0.05782625\n",
       "../../input/sc-bams_nodup//BM1077-CLP-Frozen-160106-27.dedup.st.bam 0.06595571"
      ]
     },
     "metadata": {},
     "output_type": "display_data"
    }
   ],
   "source": [
    "dim(InSilicoCell2LandmarkCorrelation)\n",
    "InSilicoCell2LandmarkCorrelation[1:5,1:5]"
   ]
  },
  {
   "cell_type": "code",
   "execution_count": 28,
   "metadata": {},
   "outputs": [],
   "source": [
    "InSilicoLandMarkAssignments_sorted <- InSilicoLandMarkAssignments[order(InSilicoLandMarkAssignments)]\n",
    "InSilicoCell2LandmarkCorrelation_sorted <- InSilicoCell2LandmarkCorrelation[names(InSilicoLandMarkAssignments_sorted),]"
   ]
  },
  {
   "cell_type": "code",
   "execution_count": 29,
   "metadata": {},
   "outputs": [
    {
     "data": {
      "text/html": [
       "<table>\n",
       "<tbody>\n",
       "\t<tr><th scope=row>../../input/sc-bams_nodup//BM1077-CMP-Frozen-160106-33.dedup.st.bam</th><td>0.1346639 </td><td>0.07255288</td><td>0.1099818 </td><td>0.08466404</td><td>0.07972895</td><td>0.1169518 </td><td>0.1243052 </td><td>0.1089520 </td><td>0.1185685 </td><td>0.1123823 </td></tr>\n",
       "\t<tr><th scope=row>../../input/sc-bams_nodup//BM1077-CMP-Frozen-160106-37.dedup.st.bam</th><td>0.1597845 </td><td>0.09066122</td><td>0.1216326 </td><td>0.09655359</td><td>0.09909307</td><td>0.1502549 </td><td>0.1564729 </td><td>0.1507547 </td><td>0.1541464 </td><td>0.1349471 </td></tr>\n",
       "\t<tr><th scope=row>../../input/sc-bams_nodup//BM1077-CMP-Frozen-160106-50.dedup.st.bam</th><td>0.1181337 </td><td>0.06196770</td><td>0.0961563 </td><td>0.05657761</td><td>0.07550897</td><td>0.1114616 </td><td>0.1151611 </td><td>0.1141769 </td><td>0.1126264 </td><td>0.0959983 </td></tr>\n",
       "\t<tr><th scope=row>../../input/sc-bams_nodup//BM1077-CMP-Frozen-160106-95.dedup.st.bam</th><td>0.1384482 </td><td>0.08042166</td><td>0.1169304 </td><td>0.09450569</td><td>0.08563679</td><td>0.1308739 </td><td>0.1301129 </td><td>0.1212820 </td><td>0.1367604 </td><td>0.1193674 </td></tr>\n",
       "\t<tr><th scope=row>../../input/sc-bams_nodup//BM1077-HSC-Frozen-160105-1.dedup.st.bam</th><td>0.1725474 </td><td>0.10743872</td><td>0.1353692 </td><td>0.11934794</td><td>0.10842628</td><td>0.1568827 </td><td>0.1663593 </td><td>0.1484896 </td><td>0.1640829 </td><td>0.1417696 </td></tr>\n",
       "\t<tr><th scope=row>../../input/sc-bams_nodup//BM1077-HSC-Frozen-160105-10.dedup.st.bam</th><td>0.1893955 </td><td>0.09720133</td><td>0.1375218 </td><td>0.11086036</td><td>0.10874579</td><td>0.1541448 </td><td>0.1572203 </td><td>0.1480809 </td><td>0.1595022 </td><td>0.1366746 </td></tr>\n",
       "</tbody>\n",
       "</table>\n"
      ],
      "text/latex": [
       "\\begin{tabular}{r|llllllllll}\n",
       "\t../../input/sc-bams\\_nodup//BM1077-CMP-Frozen-160106-33.dedup.st.bam & 0.1346639  & 0.07255288 & 0.1099818  & 0.08466404 & 0.07972895 & 0.1169518  & 0.1243052  & 0.1089520  & 0.1185685  & 0.1123823 \\\\\n",
       "\t../../input/sc-bams\\_nodup//BM1077-CMP-Frozen-160106-37.dedup.st.bam & 0.1597845  & 0.09066122 & 0.1216326  & 0.09655359 & 0.09909307 & 0.1502549  & 0.1564729  & 0.1507547  & 0.1541464  & 0.1349471 \\\\\n",
       "\t../../input/sc-bams\\_nodup//BM1077-CMP-Frozen-160106-50.dedup.st.bam & 0.1181337  & 0.06196770 & 0.0961563  & 0.05657761 & 0.07550897 & 0.1114616  & 0.1151611  & 0.1141769  & 0.1126264  & 0.0959983 \\\\\n",
       "\t../../input/sc-bams\\_nodup//BM1077-CMP-Frozen-160106-95.dedup.st.bam & 0.1384482  & 0.08042166 & 0.1169304  & 0.09450569 & 0.08563679 & 0.1308739  & 0.1301129  & 0.1212820  & 0.1367604  & 0.1193674 \\\\\n",
       "\t../../input/sc-bams\\_nodup//BM1077-HSC-Frozen-160105-1.dedup.st.bam & 0.1725474  & 0.10743872 & 0.1353692  & 0.11934794 & 0.10842628 & 0.1568827  & 0.1663593  & 0.1484896  & 0.1640829  & 0.1417696 \\\\\n",
       "\t../../input/sc-bams\\_nodup//BM1077-HSC-Frozen-160105-10.dedup.st.bam & 0.1893955  & 0.09720133 & 0.1375218  & 0.11086036 & 0.10874579 & 0.1541448  & 0.1572203  & 0.1480809  & 0.1595022  & 0.1366746 \\\\\n",
       "\\end{tabular}\n"
      ],
      "text/markdown": [
       "\n",
       "| ../../input/sc-bams_nodup//BM1077-CMP-Frozen-160106-33.dedup.st.bam | 0.1346639  | 0.07255288 | 0.1099818  | 0.08466404 | 0.07972895 | 0.1169518  | 0.1243052  | 0.1089520  | 0.1185685  | 0.1123823  |\n",
       "| ../../input/sc-bams_nodup//BM1077-CMP-Frozen-160106-37.dedup.st.bam | 0.1597845  | 0.09066122 | 0.1216326  | 0.09655359 | 0.09909307 | 0.1502549  | 0.1564729  | 0.1507547  | 0.1541464  | 0.1349471  |\n",
       "| ../../input/sc-bams_nodup//BM1077-CMP-Frozen-160106-50.dedup.st.bam | 0.1181337  | 0.06196770 | 0.0961563  | 0.05657761 | 0.07550897 | 0.1114616  | 0.1151611  | 0.1141769  | 0.1126264  | 0.0959983  |\n",
       "| ../../input/sc-bams_nodup//BM1077-CMP-Frozen-160106-95.dedup.st.bam | 0.1384482  | 0.08042166 | 0.1169304  | 0.09450569 | 0.08563679 | 0.1308739  | 0.1301129  | 0.1212820  | 0.1367604  | 0.1193674  |\n",
       "| ../../input/sc-bams_nodup//BM1077-HSC-Frozen-160105-1.dedup.st.bam | 0.1725474  | 0.10743872 | 0.1353692  | 0.11934794 | 0.10842628 | 0.1568827  | 0.1663593  | 0.1484896  | 0.1640829  | 0.1417696  |\n",
       "| ../../input/sc-bams_nodup//BM1077-HSC-Frozen-160105-10.dedup.st.bam | 0.1893955  | 0.09720133 | 0.1375218  | 0.11086036 | 0.10874579 | 0.1541448  | 0.1572203  | 0.1480809  | 0.1595022  | 0.1366746  |\n",
       "\n"
      ],
      "text/plain": [
       "                                                                    [,1]     \n",
       "../../input/sc-bams_nodup//BM1077-CMP-Frozen-160106-33.dedup.st.bam 0.1346639\n",
       "../../input/sc-bams_nodup//BM1077-CMP-Frozen-160106-37.dedup.st.bam 0.1597845\n",
       "../../input/sc-bams_nodup//BM1077-CMP-Frozen-160106-50.dedup.st.bam 0.1181337\n",
       "../../input/sc-bams_nodup//BM1077-CMP-Frozen-160106-95.dedup.st.bam 0.1384482\n",
       "../../input/sc-bams_nodup//BM1077-HSC-Frozen-160105-1.dedup.st.bam  0.1725474\n",
       "../../input/sc-bams_nodup//BM1077-HSC-Frozen-160105-10.dedup.st.bam 0.1893955\n",
       "                                                                    [,2]      \n",
       "../../input/sc-bams_nodup//BM1077-CMP-Frozen-160106-33.dedup.st.bam 0.07255288\n",
       "../../input/sc-bams_nodup//BM1077-CMP-Frozen-160106-37.dedup.st.bam 0.09066122\n",
       "../../input/sc-bams_nodup//BM1077-CMP-Frozen-160106-50.dedup.st.bam 0.06196770\n",
       "../../input/sc-bams_nodup//BM1077-CMP-Frozen-160106-95.dedup.st.bam 0.08042166\n",
       "../../input/sc-bams_nodup//BM1077-HSC-Frozen-160105-1.dedup.st.bam  0.10743872\n",
       "../../input/sc-bams_nodup//BM1077-HSC-Frozen-160105-10.dedup.st.bam 0.09720133\n",
       "                                                                    [,3]     \n",
       "../../input/sc-bams_nodup//BM1077-CMP-Frozen-160106-33.dedup.st.bam 0.1099818\n",
       "../../input/sc-bams_nodup//BM1077-CMP-Frozen-160106-37.dedup.st.bam 0.1216326\n",
       "../../input/sc-bams_nodup//BM1077-CMP-Frozen-160106-50.dedup.st.bam 0.0961563\n",
       "../../input/sc-bams_nodup//BM1077-CMP-Frozen-160106-95.dedup.st.bam 0.1169304\n",
       "../../input/sc-bams_nodup//BM1077-HSC-Frozen-160105-1.dedup.st.bam  0.1353692\n",
       "../../input/sc-bams_nodup//BM1077-HSC-Frozen-160105-10.dedup.st.bam 0.1375218\n",
       "                                                                    [,4]      \n",
       "../../input/sc-bams_nodup//BM1077-CMP-Frozen-160106-33.dedup.st.bam 0.08466404\n",
       "../../input/sc-bams_nodup//BM1077-CMP-Frozen-160106-37.dedup.st.bam 0.09655359\n",
       "../../input/sc-bams_nodup//BM1077-CMP-Frozen-160106-50.dedup.st.bam 0.05657761\n",
       "../../input/sc-bams_nodup//BM1077-CMP-Frozen-160106-95.dedup.st.bam 0.09450569\n",
       "../../input/sc-bams_nodup//BM1077-HSC-Frozen-160105-1.dedup.st.bam  0.11934794\n",
       "../../input/sc-bams_nodup//BM1077-HSC-Frozen-160105-10.dedup.st.bam 0.11086036\n",
       "                                                                    [,5]      \n",
       "../../input/sc-bams_nodup//BM1077-CMP-Frozen-160106-33.dedup.st.bam 0.07972895\n",
       "../../input/sc-bams_nodup//BM1077-CMP-Frozen-160106-37.dedup.st.bam 0.09909307\n",
       "../../input/sc-bams_nodup//BM1077-CMP-Frozen-160106-50.dedup.st.bam 0.07550897\n",
       "../../input/sc-bams_nodup//BM1077-CMP-Frozen-160106-95.dedup.st.bam 0.08563679\n",
       "../../input/sc-bams_nodup//BM1077-HSC-Frozen-160105-1.dedup.st.bam  0.10842628\n",
       "../../input/sc-bams_nodup//BM1077-HSC-Frozen-160105-10.dedup.st.bam 0.10874579\n",
       "                                                                    [,6]     \n",
       "../../input/sc-bams_nodup//BM1077-CMP-Frozen-160106-33.dedup.st.bam 0.1169518\n",
       "../../input/sc-bams_nodup//BM1077-CMP-Frozen-160106-37.dedup.st.bam 0.1502549\n",
       "../../input/sc-bams_nodup//BM1077-CMP-Frozen-160106-50.dedup.st.bam 0.1114616\n",
       "../../input/sc-bams_nodup//BM1077-CMP-Frozen-160106-95.dedup.st.bam 0.1308739\n",
       "../../input/sc-bams_nodup//BM1077-HSC-Frozen-160105-1.dedup.st.bam  0.1568827\n",
       "../../input/sc-bams_nodup//BM1077-HSC-Frozen-160105-10.dedup.st.bam 0.1541448\n",
       "                                                                    [,7]     \n",
       "../../input/sc-bams_nodup//BM1077-CMP-Frozen-160106-33.dedup.st.bam 0.1243052\n",
       "../../input/sc-bams_nodup//BM1077-CMP-Frozen-160106-37.dedup.st.bam 0.1564729\n",
       "../../input/sc-bams_nodup//BM1077-CMP-Frozen-160106-50.dedup.st.bam 0.1151611\n",
       "../../input/sc-bams_nodup//BM1077-CMP-Frozen-160106-95.dedup.st.bam 0.1301129\n",
       "../../input/sc-bams_nodup//BM1077-HSC-Frozen-160105-1.dedup.st.bam  0.1663593\n",
       "../../input/sc-bams_nodup//BM1077-HSC-Frozen-160105-10.dedup.st.bam 0.1572203\n",
       "                                                                    [,8]     \n",
       "../../input/sc-bams_nodup//BM1077-CMP-Frozen-160106-33.dedup.st.bam 0.1089520\n",
       "../../input/sc-bams_nodup//BM1077-CMP-Frozen-160106-37.dedup.st.bam 0.1507547\n",
       "../../input/sc-bams_nodup//BM1077-CMP-Frozen-160106-50.dedup.st.bam 0.1141769\n",
       "../../input/sc-bams_nodup//BM1077-CMP-Frozen-160106-95.dedup.st.bam 0.1212820\n",
       "../../input/sc-bams_nodup//BM1077-HSC-Frozen-160105-1.dedup.st.bam  0.1484896\n",
       "../../input/sc-bams_nodup//BM1077-HSC-Frozen-160105-10.dedup.st.bam 0.1480809\n",
       "                                                                    [,9]     \n",
       "../../input/sc-bams_nodup//BM1077-CMP-Frozen-160106-33.dedup.st.bam 0.1185685\n",
       "../../input/sc-bams_nodup//BM1077-CMP-Frozen-160106-37.dedup.st.bam 0.1541464\n",
       "../../input/sc-bams_nodup//BM1077-CMP-Frozen-160106-50.dedup.st.bam 0.1126264\n",
       "../../input/sc-bams_nodup//BM1077-CMP-Frozen-160106-95.dedup.st.bam 0.1367604\n",
       "../../input/sc-bams_nodup//BM1077-HSC-Frozen-160105-1.dedup.st.bam  0.1640829\n",
       "../../input/sc-bams_nodup//BM1077-HSC-Frozen-160105-10.dedup.st.bam 0.1595022\n",
       "                                                                    [,10]    \n",
       "../../input/sc-bams_nodup//BM1077-CMP-Frozen-160106-33.dedup.st.bam 0.1123823\n",
       "../../input/sc-bams_nodup//BM1077-CMP-Frozen-160106-37.dedup.st.bam 0.1349471\n",
       "../../input/sc-bams_nodup//BM1077-CMP-Frozen-160106-50.dedup.st.bam 0.0959983\n",
       "../../input/sc-bams_nodup//BM1077-CMP-Frozen-160106-95.dedup.st.bam 0.1193674\n",
       "../../input/sc-bams_nodup//BM1077-HSC-Frozen-160105-1.dedup.st.bam  0.1417696\n",
       "../../input/sc-bams_nodup//BM1077-HSC-Frozen-160105-10.dedup.st.bam 0.1366746"
      ]
     },
     "metadata": {},
     "output_type": "display_data"
    }
   ],
   "source": [
    "head(InSilicoCell2LandmarkCorrelation_sorted)"
   ]
  },
  {
   "cell_type": "code",
   "execution_count": 30,
   "metadata": {},
   "outputs": [
    {
     "data": {
      "text/html": [
       "<ol class=list-inline>\n",
       "\t<li>'BM1077-CMP-Frozen-160106-33'</li>\n",
       "\t<li>'BM1077-CMP-Frozen-160106-37'</li>\n",
       "\t<li>'BM1077-CMP-Frozen-160106-50'</li>\n",
       "\t<li>'BM1077-CMP-Frozen-160106-95'</li>\n",
       "\t<li>'BM1077-HSC-Frozen-160105-1'</li>\n",
       "\t<li>'BM1077-HSC-Frozen-160105-10'</li>\n",
       "</ol>\n"
      ],
      "text/latex": [
       "\\begin{enumerate*}\n",
       "\\item 'BM1077-CMP-Frozen-160106-33'\n",
       "\\item 'BM1077-CMP-Frozen-160106-37'\n",
       "\\item 'BM1077-CMP-Frozen-160106-50'\n",
       "\\item 'BM1077-CMP-Frozen-160106-95'\n",
       "\\item 'BM1077-HSC-Frozen-160105-1'\n",
       "\\item 'BM1077-HSC-Frozen-160105-10'\n",
       "\\end{enumerate*}\n"
      ],
      "text/markdown": [
       "1. 'BM1077-CMP-Frozen-160106-33'\n",
       "2. 'BM1077-CMP-Frozen-160106-37'\n",
       "3. 'BM1077-CMP-Frozen-160106-50'\n",
       "4. 'BM1077-CMP-Frozen-160106-95'\n",
       "5. 'BM1077-HSC-Frozen-160105-1'\n",
       "6. 'BM1077-HSC-Frozen-160105-10'\n",
       "\n",
       "\n"
      ],
      "text/plain": [
       "[1] \"BM1077-CMP-Frozen-160106-33\" \"BM1077-CMP-Frozen-160106-37\"\n",
       "[3] \"BM1077-CMP-Frozen-160106-50\" \"BM1077-CMP-Frozen-160106-95\"\n",
       "[5] \"BM1077-HSC-Frozen-160105-1\"  \"BM1077-HSC-Frozen-160105-10\""
      ]
     },
     "metadata": {},
     "output_type": "display_data"
    },
    {
     "data": {
      "text/html": [
       "<ol class=list-inline>\n",
       "\t<li>2</li>\n",
       "\t<li>2</li>\n",
       "\t<li>2</li>\n",
       "\t<li>2</li>\n",
       "\t<li>4</li>\n",
       "\t<li>4</li>\n",
       "</ol>\n"
      ],
      "text/latex": [
       "\\begin{enumerate*}\n",
       "\\item 2\n",
       "\\item 2\n",
       "\\item 2\n",
       "\\item 2\n",
       "\\item 4\n",
       "\\item 4\n",
       "\\end{enumerate*}\n"
      ],
      "text/markdown": [
       "1. 2\n",
       "2. 2\n",
       "3. 2\n",
       "4. 2\n",
       "5. 4\n",
       "6. 4\n",
       "\n",
       "\n"
      ],
      "text/plain": [
       "[1] 2 2 2 2 4 4"
      ]
     },
     "metadata": {},
     "output_type": "display_data"
    }
   ],
   "source": [
    "cell.ids = sapply(strsplit(basename(names(InSilicoLandMarkAssignments_sorted)),'\\\\.'),'[', 1)\n",
    "head(cell.ids)\n",
    "cell.labels = metadata[cell.ids,'label']\n",
    "cell.info = match(metadata[cell.ids,'label'],unique(metadata[,'label']))\n",
    "head(cell.info)"
   ]
  },
  {
   "cell_type": "code",
   "execution_count": 31,
   "metadata": {},
   "outputs": [],
   "source": [
    "scalered <- colorRampPalette(c(\"white\", \"red\"), space = \"rgb\")(256)\n",
    "rcols1 = colorRampPalette(brewer.pal(8, \"Accent\"))(length(unique(metadata$label)))\n",
    "rowcols1 = rcols1[cell.info]\n",
    "rcols2 = colorRampPalette(brewer.pal(8, \"Dark2\"))(length(unique(metadata$label)))\n",
    "rowcols2 = rcols2[InSilicoLandMarkAssignments_sorted]\n",
    "rowcols = rbind(rowcols1, rowcols2)\n",
    "rownames(rowcols) = c(\"cell label\", \"cluster\")"
   ]
  },
  {
   "cell_type": "code",
   "execution_count": 32,
   "metadata": {},
   "outputs": [
    {
     "data": {
      "text/html": [
       "<table>\n",
       "<tbody>\n",
       "\t<tr><th scope=row>cell label</th><td>#B0B4C1</td><td>#B0B4C1</td><td>#B0B4C1</td><td>#B0B4C1</td><td>#FDD58C</td></tr>\n",
       "\t<tr><th scope=row>cluster</th><td>#1B9E77</td><td>#1B9E77</td><td>#1B9E77</td><td>#1B9E77</td><td>#1B9E77</td></tr>\n",
       "</tbody>\n",
       "</table>\n"
      ],
      "text/latex": [
       "\\begin{tabular}{r|lllll}\n",
       "\tcell label & \\#B0B4C1 & \\#B0B4C1 & \\#B0B4C1 & \\#B0B4C1 & \\#FDD58C\\\\\n",
       "\tcluster & \\#1B9E77 & \\#1B9E77 & \\#1B9E77 & \\#1B9E77 & \\#1B9E77\\\\\n",
       "\\end{tabular}\n"
      ],
      "text/markdown": [
       "\n",
       "| cell label | #B0B4C1 | #B0B4C1 | #B0B4C1 | #B0B4C1 | #FDD58C |\n",
       "| cluster | #1B9E77 | #1B9E77 | #1B9E77 | #1B9E77 | #1B9E77 |\n",
       "\n"
      ],
      "text/plain": [
       "           [,1]    [,2]    [,3]    [,4]    [,5]   \n",
       "cell label #B0B4C1 #B0B4C1 #B0B4C1 #B0B4C1 #FDD58C\n",
       "cluster    #1B9E77 #1B9E77 #1B9E77 #1B9E77 #1B9E77"
      ]
     },
     "metadata": {},
     "output_type": "display_data"
    }
   ],
   "source": [
    "rowcols[,1:5]"
   ]
  },
  {
   "cell_type": "code",
   "execution_count": 33,
   "metadata": {},
   "outputs": [
    {
     "data": {
      "image/png": "[encoded data removed]",
      "text/plain": [
       "Plot with title “Color Key”"
      ]
     },
     "metadata": {},
     "output_type": "display_data"
    }
   ],
   "source": [
    "heatmap.3(InSilicoCell2LandmarkCorrelation_sorted, dendrogram='none', Rowv=FALSE, Colv=FALSE,\n",
    "          trace='none', col = scalered, margin = c(5, 5), density.info = \"none\", \n",
    "          RowSideColors = rowcols, RowSideColorsSize=2, symm=F,symkey=F,\n",
    "          symbreaks=F, scale=\"none\")\n",
    "legend(\"bottomleft\", legend = c(unique(cell.labels), paste0(\"cluster \", 1:length(unique(metadata$label)))), \n",
    "       col = c(rcols1, rcols2), border=FALSE, bty=\"n\", y.intersp = 0.7, cex=0.7, pch = 15)"
   ]
  },
  {
   "cell_type": "code",
   "execution_count": null,
   "metadata": {},
   "outputs": [],
   "source": []
  },
  {
   "cell_type": "code",
   "execution_count": 34,
   "metadata": {},
   "outputs": [
    {
     "data": {
      "text/plain": [
       "R version 3.5.1 (2018-07-02)\n",
       "Platform: x86_64-conda_cos6-linux-gnu (64-bit)\n",
       "Running under: CentOS Linux 7 (Core)\n",
       "\n",
       "Matrix products: default\n",
       "BLAS/LAPACK: /data/pinello/SHARED_SOFTWARE/anaconda3/envs/ATACseq_scABC/lib/R/lib/libRblas.so\n",
       "\n",
       "locale:\n",
       " [1] LC_CTYPE=en_US.UTF-8       LC_NUMERIC=C              \n",
       " [3] LC_TIME=en_US.UTF-8        LC_COLLATE=en_US.UTF-8    \n",
       " [5] LC_MONETARY=en_US.UTF-8    LC_MESSAGES=en_US.UTF-8   \n",
       " [7] LC_PAPER=en_US.UTF-8       LC_NAME=C                 \n",
       " [9] LC_ADDRESS=C               LC_TELEPHONE=C            \n",
       "[11] LC_MEASUREMENT=en_US.UTF-8 LC_IDENTIFICATION=C       \n",
       "\n",
       "attached base packages:\n",
       "[1] parallel  stats4    stats     graphics  grDevices utils     datasets \n",
       "[8] methods   base     \n",
       "\n",
       "other attached packages:\n",
       " [1] usethis_1.4.0        devtools_2.0.1       RColorBrewer_1.1-2  \n",
       " [4] gplots_3.0.1.1       Matrix_1.2-17        forcats_0.4.0       \n",
       " [7] stringr_1.4.0        purrr_0.3.2          readr_1.3.1         \n",
       "[10] tidyr_0.8.3          tibble_2.1.1         ggplot2_3.1.0       \n",
       "[13] tidyverse_1.2.1      dplyr_0.8.0.1        data.table_1.12.0   \n",
       "[16] Rsamtools_1.34.1     Biostrings_2.50.2    XVector_0.22.0      \n",
       "[19] scABC_0.99.0         GenomicRanges_1.34.0 GenomeInfoDb_1.18.2 \n",
       "[22] IRanges_2.16.0       S4Vectors_0.20.1     BiocGenerics_0.28.0 \n",
       "\n",
       "loaded via a namespace (and not attached):\n",
       " [1] nlme_3.1-137           fs_1.2.7               bitops_1.0-6          \n",
       " [4] lubridate_1.7.4        httr_1.4.0             rprojroot_1.3-2       \n",
       " [7] repr_0.19.2            tools_3.5.1            backports_1.1.3       \n",
       "[10] R6_2.4.0               rpart_4.1-13           KernSmooth_2.23-15    \n",
       "[13] Hmisc_4.2-0            lazyeval_0.2.2         colorspace_1.4-1      \n",
       "[16] nnet_7.3-12            withr_2.1.2            prettyunits_1.0.2     \n",
       "[19] processx_3.3.0         tidyselect_0.2.5       gridExtra_2.3         \n",
       "[22] curl_3.3               compiler_3.5.1         cli_1.1.0             \n",
       "[25] rvest_0.3.2            htmlTable_1.13.1       xml2_1.2.0            \n",
       "[28] desc_1.2.0             caTools_1.17.1.2       scales_1.0.0          \n",
       "[31] checkmate_1.9.1        callr_3.2.0            pbdZMQ_0.3-3          \n",
       "[34] digest_0.6.18          foreign_0.8-71         base64enc_0.1-3       \n",
       "[37] pkgconfig_2.0.2        htmltools_0.3.6        sessioninfo_1.1.1     \n",
       "[40] htmlwidgets_1.3        rlang_0.3.3            readxl_1.3.1          \n",
       "[43] rstudioapi_0.10        generics_0.0.2         jsonlite_1.6          \n",
       "[46] BiocParallel_1.16.6    gtools_3.8.1           acepack_1.4.1         \n",
       "[49] RCurl_1.95-4.12        magrittr_1.5           GenomeInfoDbData_1.2.0\n",
       "[52] Formula_1.2-3          Rcpp_1.0.1             IRkernel_0.8.15       \n",
       "[55] munsell_0.5.0          stringi_1.4.3          zlibbioc_1.28.0       \n",
       "[58] pkgbuild_1.0.3         plyr_1.8.4             grid_3.5.1            \n",
       "[61] gdata_2.18.0           crayon_1.3.4           lattice_0.20-38       \n",
       "[64] IRdisplay_0.7.0        haven_2.1.0            splines_3.5.1         \n",
       "[67] TraMineR_2.0-11.1      hms_0.4.2              ps_1.3.0              \n",
       "[70] knitr_1.22             pillar_1.3.1           uuid_0.1-2            \n",
       "[73] boot_1.3-20            pkgload_1.0.2          glue_1.3.1            \n",
       "[76] evaluate_0.13          latticeExtra_0.6-28    remotes_2.0.2         \n",
       "[79] modelr_0.1.4           cellranger_1.1.0       gtable_0.3.0          \n",
       "[82] assertthat_0.2.1       xfun_0.6               broom_0.5.1           \n",
       "[85] survival_2.44-1.1      memoise_1.1.0          cluster_2.0.7-1       \n",
       "[88] WeightedCluster_1.4   "
      ]
     },
     "metadata": {},
     "output_type": "display_data"
    }
   ],
   "source": [
    "sessionInfo()"
   ]
  },
  {
   "cell_type": "code",
   "execution_count": 35,
   "metadata": {},
   "outputs": [],
   "source": [
    "save.image(file = 'scABC_buenrostro2018bulkpeaks.RData')"
   ]
  },
  {
   "cell_type": "code",
   "execution_count": null,
   "metadata": {},
   "outputs": [],
   "source": []
  }
 ],
 "metadata": {
  "kernelspec": {
   "display_name": "R [conda env:ATACseq_scABC]",
   "language": "R",
   "name": "conda-env-ATACseq_scABC-r"
  },
  "language_info": {
   "codemirror_mode": "r",
   "file_extension": ".r",
   "mimetype": "text/x-r-source",
   "name": "R",
   "pygments_lexer": "r",
   "version": "3.5.1"
  }
 },
 "nbformat": 4,
 "nbformat_minor": 2
}
