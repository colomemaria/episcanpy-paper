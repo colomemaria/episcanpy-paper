{
 "cells": [
  {
   "cell_type": "markdown",
   "metadata": {},
   "source": [
    "### Import packages"
   ]
  },
  {
   "cell_type": "code",
   "execution_count": 1,
   "metadata": {},
   "outputs": [
    {
     "name": "stderr",
     "output_type": "stream",
     "text": [
      "Loading required package: stats4\n",
      "Loading required package: BiocGenerics\n",
      "Loading required package: parallel\n",
      "\n",
      "Attaching package: ‘BiocGenerics’\n",
      "\n",
      "The following objects are masked from ‘package:parallel’:\n",
      "\n",
      "    clusterApply, clusterApplyLB, clusterCall, clusterEvalQ,\n",
      "    clusterExport, clusterMap, parApply, parCapply, parLapply,\n",
      "    parLapplyLB, parRapply, parSapply, parSapplyLB\n",
      "\n",
      "The following objects are masked from ‘package:stats’:\n",
      "\n",
      "    IQR, mad, sd, var, xtabs\n",
      "\n",
      "The following objects are masked from ‘package:base’:\n",
      "\n",
      "    anyDuplicated, append, as.data.frame, basename, cbind, colMeans,\n",
      "    colnames, colSums, dirname, do.call, duplicated, eval, evalq,\n",
      "    Filter, Find, get, grep, grepl, intersect, is.unsorted, lapply,\n",
      "    lengths, Map, mapply, match, mget, order, paste, pmax, pmax.int,\n",
      "    pmin, pmin.int, Position, rank, rbind, Reduce, rowMeans, rownames,\n",
      "    rowSums, sapply, setdiff, sort, table, tapply, union, unique,\n",
      "    unsplit, which, which.max, which.min\n",
      "\n",
      "Loading required package: S4Vectors\n",
      "\n",
      "Attaching package: ‘S4Vectors’\n",
      "\n",
      "The following object is masked from ‘package:base’:\n",
      "\n",
      "    expand.grid\n",
      "\n",
      "Loading required package: IRanges\n",
      "Loading required package: GenomeInfoDb\n",
      "Warning message:\n",
      "“replacing previous import ‘IRanges::which’ by ‘Matrix::which’ when loading ‘scABC’”Loading required package: Biostrings\n",
      "Loading required package: XVector\n",
      "\n",
      "Attaching package: ‘Biostrings’\n",
      "\n",
      "The following object is masked from ‘package:base’:\n",
      "\n",
      "    strsplit\n",
      "\n",
      "\n",
      "Attaching package: ‘data.table’\n",
      "\n",
      "The following object is masked from ‘package:GenomicRanges’:\n",
      "\n",
      "    shift\n",
      "\n",
      "The following object is masked from ‘package:IRanges’:\n",
      "\n",
      "    shift\n",
      "\n",
      "The following objects are masked from ‘package:S4Vectors’:\n",
      "\n",
      "    first, second\n",
      "\n",
      "\n",
      "Attaching package: ‘dplyr’\n",
      "\n",
      "The following objects are masked from ‘package:data.table’:\n",
      "\n",
      "    between, first, last\n",
      "\n",
      "The following objects are masked from ‘package:Biostrings’:\n",
      "\n",
      "    collapse, intersect, setdiff, setequal, union\n",
      "\n",
      "The following object is masked from ‘package:XVector’:\n",
      "\n",
      "    slice\n",
      "\n",
      "The following objects are masked from ‘package:GenomicRanges’:\n",
      "\n",
      "    intersect, setdiff, union\n",
      "\n",
      "The following object is masked from ‘package:GenomeInfoDb’:\n",
      "\n",
      "    intersect\n",
      "\n",
      "The following objects are masked from ‘package:IRanges’:\n",
      "\n",
      "    collapse, desc, intersect, setdiff, slice, union\n",
      "\n",
      "The following objects are masked from ‘package:S4Vectors’:\n",
      "\n",
      "    first, intersect, rename, setdiff, setequal, union\n",
      "\n",
      "The following objects are masked from ‘package:BiocGenerics’:\n",
      "\n",
      "    combine, intersect, setdiff, union\n",
      "\n",
      "The following objects are masked from ‘package:stats’:\n",
      "\n",
      "    filter, lag\n",
      "\n",
      "The following objects are masked from ‘package:base’:\n",
      "\n",
      "    intersect, setdiff, setequal, union\n",
      "\n",
      "── Attaching packages ─────────────────────────────────────── tidyverse 1.2.1 ──\n",
      "✔ ggplot2 3.1.0     ✔ readr   1.3.1\n",
      "✔ tibble  2.1.1     ✔ purrr   0.3.2\n",
      "✔ tidyr   0.8.3     ✔ stringr 1.4.0\n",
      "✔ ggplot2 3.1.0     ✔ forcats 0.4.0\n",
      "── Conflicts ────────────────────────────────────────── tidyverse_conflicts() ──\n",
      "✖ dplyr::between()    masks data.table::between()\n",
      "✖ dplyr::collapse()   masks Biostrings::collapse(), IRanges::collapse()\n",
      "✖ dplyr::combine()    masks BiocGenerics::combine()\n",
      "✖ purrr::compact()    masks XVector::compact()\n",
      "✖ dplyr::desc()       masks IRanges::desc()\n",
      "✖ tidyr::expand()     masks S4Vectors::expand()\n",
      "✖ dplyr::filter()     masks stats::filter()\n",
      "✖ dplyr::first()      masks data.table::first(), S4Vectors::first()\n",
      "✖ dplyr::lag()        masks stats::lag()\n",
      "✖ dplyr::last()       masks data.table::last()\n",
      "✖ ggplot2::Position() masks BiocGenerics::Position(), base::Position()\n",
      "✖ purrr::reduce()     masks GenomicRanges::reduce(), IRanges::reduce()\n",
      "✖ dplyr::rename()     masks S4Vectors::rename()\n",
      "✖ dplyr::slice()      masks XVector::slice(), IRanges::slice()\n",
      "✖ purrr::transpose()  masks data.table::transpose()\n",
      "\n",
      "Attaching package: ‘Matrix’\n",
      "\n",
      "The following object is masked from ‘package:tidyr’:\n",
      "\n",
      "    expand\n",
      "\n",
      "The following object is masked from ‘package:S4Vectors’:\n",
      "\n",
      "    expand\n",
      "\n",
      "\n",
      "Attaching package: ‘gplots’\n",
      "\n",
      "The following object is masked from ‘package:IRanges’:\n",
      "\n",
      "    space\n",
      "\n",
      "The following object is masked from ‘package:S4Vectors’:\n",
      "\n",
      "    space\n",
      "\n",
      "The following object is masked from ‘package:stats’:\n",
      "\n",
      "    lowess\n",
      "\n",
      "SHA-1 hash of file is 015fc0457e61e3e93a903e69a24d96d2dac7b9fb\n"
     ]
    }
   ],
   "source": [
    "options(stringsAsFactors = FALSE)\n",
    "library(GenomicRanges)\n",
    "library(scABC)\n",
    "library(Rsamtools)\n",
    "library(data.table)\n",
    "library(dplyr)\n",
    "library(tidyverse)\n",
    "library(Matrix)\n",
    "\n",
    "library(gplots) \n",
    "library(RColorBrewer)\n",
    "library(devtools)\n",
    "source_url(\"https://raw.githubusercontent.com/obigriffith/biostar-tutorials/master/Heatmaps/heatmap.3.R\")"
   ]
  },
  {
   "cell_type": "code",
   "execution_count": null,
   "metadata": {},
   "outputs": [],
   "source": []
  },
  {
   "cell_type": "markdown",
   "metadata": {},
   "source": [
    "### Functions"
   ]
  },
  {
   "cell_type": "code",
   "execution_count": 2,
   "metadata": {},
   "outputs": [],
   "source": [
    "bam2gr <- function(bamfile, PAIRED = FALSE) {\n",
    "  if (PAIRED) {\n",
    "    scanned = scanBam(bamfile, param = ScanBamParam(flag =scanBamFlag(isMinusStrand = FALSE,\n",
    "                                                                      isUnmappedQuery = FALSE,\n",
    "                                                                      isProperPair = TRUE),\n",
    "                                                    what = c(\"rname\", \"pos\", \"isize\")))[[1]]\n",
    "    out = GRanges(seqnames = scanned$rname, IRanges(start = scanned$pos, width = scanned$isize))\n",
    "  } else {\n",
    "    scanned = scanBam(bamfile, param = ScanBamParam(flag =scanBamFlag(isUnmappedQuery = FALSE),\n",
    "                                                    what = c(\"rname\", \"pos\", \"strand\", \"qwidth\")))[[1]]\n",
    "    out = GRanges(seqnames = scanned$rname,\n",
    "                  IRanges(start = ifelse(scanned$strand == \"-\", scanned$pos + scanned$qwidth - 1, scanned$pos),\n",
    "                          width = scanned$qwidth))\n",
    "  }\n",
    "  return(out)\n",
    "}\n",
    "\n",
    "getCountsByReadGroup <- function(bamfile, peaks, RGtag, tags = NULL, PAIRED = FALSE, VERBOSE = FALSE){\n",
    "  scanned <- Rsamtools::scanBam(bamfile,\n",
    "                     param = Rsamtools::ScanBamParam(flag =scanBamFlag(isUnmappedQuery = FALSE),\n",
    "                                                     what = c(\"rname\", \"pos\", \"strand\", \"qwidth\"),\n",
    "                                                     tag = RGtag))[[1]]\n",
    "  if(is.null(tags)){\n",
    "    RGtags = unique(unlist(scanned$tag[RGtag]))\n",
    "  }\n",
    "  counts_mat = Matrix::Matrix(0, nrow = length(peaks), ncol = length(tags), sparse = TRUE)\n",
    "  for(i in 1:length(tags)){\n",
    "    tag = tags[i]\n",
    "    if(VERBOSE){\n",
    "      message(\"Processing tag \", tag)\n",
    "    }\n",
    "    match_RG <- which(scanned$tag[[RGtag]] == tag)\n",
    "    # convert bamfiles to Genomic Ranges\n",
    "    bam.gr = GenomicRanges::GRanges(seqnames = scanned$rname[match_RG],\n",
    "                                    IRanges::IRanges(start = sapply(match_RG, function(i) ifelse(scanned$strand[i] == \"-\",\n",
    "                                                                         scanned$pos[i] + scanned$qwidth[i] - 1,\n",
    "                                                                         scanned$pos[i])),\n",
    "                             width = scanned$qwidth[match_RG]))\n",
    "    counts_mat[,i] = GenomicRanges::countOverlaps(peaks, bam.gr, type = \"any\", ignore.strand = TRUE)\n",
    "  }\n",
    " # counts = do.call(cbind, lapply(RGtags, function(x) getTagCounts(x, bamfile, peaks)))\n",
    "  colnames(counts_mat) = tags\n",
    "  return(counts_mat)\n",
    "}\n",
    "                                    \n",
    "peaks2GRanges <- function(peaks, upstream = 0, downstream = 0){\n",
    "  peaks.gr = with(peaks, GenomicRanges::GRanges(chrom, IRanges::IRanges(sapply(start, function(x) max(0, x - upstream)), end + downstream), \n",
    "                                                                               id = name))#, pVal = pValue))\n",
    "}\n",
    "\n",
    "# peaks should be in GenomicRanges\n",
    "get_counts_from_bam <- function(bamfile, peaks){\n",
    "  param = Rsamtools::ScanBamParam(flag =scanBamFlag(isUnmappedQuery = FALSE), \n",
    "                                  which = peaks, \n",
    "                                  what = c(\"rname\", \"pos\", \"strand\", \"qwidth\"))\n",
    "  counts = Rsamtools::countBam(bamfile, param = param,\n",
    "                               flag = Rsamtools::scanBamFlag(isDuplicate = FALSE,\n",
    "                                                             isUnmappedQuery = FALSE))\n",
    "  return(counts[,c(\"space\", \"start\", \"end\", \"file\", \"records\")])\n",
    "}\n",
    "                                                \n",
    "\n",
    "getCountsMatrix <- function(bamfiles, peaks, PAIRED = FALSE,\n",
    "                            byReadGroup = FALSE, \n",
    "                            RGtag = 'RG',\n",
    "                            tags2include = NULL, \n",
    "                            VERBOSE = FALSE){\n",
    "  peaks.gr = peaks2GRanges(peaks)\n",
    "  if(VERBOSE){\n",
    "    message(\"beginning reading in counts\\n\")\n",
    "  }\n",
    "  if(byReadGroup){\n",
    "    if(VERBOSE){\n",
    "      message(\"getting counts by read group\\n\")\n",
    "      message(\"read group tag = \", RGtag, \"\\n\")\n",
    "    }\n",
    "    stopifnot(length(bamfiles) == 1)\n",
    "    counts_mat = getCountsByReadGroup(bamfiles, peaks.gr, RGtag = RGtag, \n",
    "                                      tags = tags2include);\n",
    "    rownames(counts_mat) = peaks$name\n",
    "  }\n",
    "  else{\n",
    "    nCells = length(bamfiles)\n",
    "    counts_mat = matrix(nrow = length(peaks.gr), ncol = nCells)\n",
    "    for(i in 1:nCells){\n",
    "      if(VERBOSE){\n",
    "        message(\"Processing file \", bamfiles[i])\n",
    "      }\n",
    "      # convert bamfiles to Genomic Ranges\n",
    "      bam.gr = bam2gr(bamfiles[i], PAIRED = PAIRED)\n",
    "      counts_mat[,i] = countOverlaps(peaks.gr, bam.gr, type = \"any\", ignore.strand = TRUE)\n",
    "    }\n",
    "    colnames(counts_mat) = bamfiles\n",
    "    rownames(counts_mat) = peaks$name\n",
    "    #counts_info = data.frame(chrom = counts_list[[1]]$space, start = counts_list[[1]]$start, end = counts_list[[1]]$end, name = peaks$id, pValue = peaks$pVal)\n",
    "  }\n",
    "  peaks = peaks[,c(\"chrom\", \"start\", \"end\", \"name\")]#, \"pValue\")]\n",
    "  return(list(peaks = peaks, ForeGroundMatrix = Matrix::Matrix(counts_mat, sparse = TRUE)))\n",
    "}\n",
    "                                                \n",
    "                                                \n",
    "sort_peaks <- function(peaks){\n",
    "  return(peaks[order(peaks$chrom, peaks$start), ])\n",
    "}\n",
    "                                                \n",
    "selectPeaks <- function(filename, thresh = 2){\n",
    "  peaks = read.table(file = filename, header = FALSE, sep = \"\\t\",\n",
    "                     stringsAsFactors = FALSE);\n",
    "  if(dim(peaks)[2] == 15){\n",
    "    # gapped peaks\n",
    "    column_names = c(\"chrom\", \"start\", \"end\", \"name\", \"score\", \"strand\",\n",
    "                     \"thickStart\", \"thickEnd\", \"itemRgb\", \"blockCount\", \"blockSizes\",\n",
    "                     \"blockStarts\", \"signalValue\", \"pValue\", \"qValue\");\n",
    "    colnames(peaks) = column_names\n",
    "    wanted_peaks = which(peaks$pValue > thresh); # pValue is -log10(p), p < 0.1 => pValue > 2\n",
    "    peaks = sort_peaks(peaks[wanted_peaks, ])\n",
    "  }\n",
    "  if(dim(peaks)[2] == 10){\n",
    "    # narrow peaks\n",
    "    column_names = c(\"chrom\", \"start\", \"end\", \"name\", \"score\", \"strand\",\n",
    "                     \"foldChange\", \"pValue\", \"qValue\", \"summit2PeakDist\")\n",
    "    colnames(peaks) = column_names\n",
    "    wanted_peaks = which(peaks$pValue > thresh); # pValue is -log10(p), p < 0.1 => pValue > 2\n",
    "    peaks = sort_peaks(peaks[wanted_peaks, ])\n",
    "  }\n",
    "  \n",
    "  # mine  \n",
    "  if(dim(peaks)[2] == 3){\n",
    "    # gapped peaks\n",
    "    column_names = c(\"chrom\", \"start\", \"end\");\n",
    "    colnames(peaks) = column_names\n",
    "    peaks = sort_peaks(peaks)\n",
    "  }\n",
    "  return(peaks)\n",
    "}\n",
    "                                                \n",
    "                                                \n",
    "getBackground <- function(bamfiles, peaks, upstream = 500000,\n",
    "                          downstream = 500000, byReadGroup = FALSE,\n",
    "                          VERBOSE = FALSE, PAIRED = FALSE){\n",
    "  nCells = length(bamfiles)\n",
    "  background_peaks.gr = peaks2GRanges(peaks, upstream, downstream)\n",
    "  if(byReadGroup){\n",
    "    counts_mat = getCountsByReadGroup2(bamfile, background_peaks.gr);\n",
    "    rownames(counts_mat) = peaks$name\n",
    "  }\n",
    "  else{\n",
    "    counts_mat = matrix(nrow = length(background_peaks.gr), ncol = nCells)\n",
    "    for(i in 1:nCells){\n",
    "      if(VERBOSE){\n",
    "        message(\"Processing file \", bamfiles[i])\n",
    "      }\n",
    "      # convert bamfiles to Genomic Ranges\n",
    "      bam.gr = bam2gr(bamfiles[i], PAIRED = PAIRED)\n",
    "      counts_mat[,i] = countOverlaps(background_peaks.gr, bam.gr, type = \"any\", ignore.strand = TRUE)\n",
    "    }\n",
    "    colnames(counts_mat) = bamfiles\n",
    "    rownames(counts_mat) = peaks$name\n",
    "    #counts_info = data.frame(chrom = counts_list[[1]]$space, start = counts_list[[1]]$start, end = counts_list[[1]]$end, name = peaks$id, pValue = peaks$pVal)\n",
    "  }\n",
    "  peaks = peaks[,c(\"chrom\", \"start\", \"end\", \"name\")]#, \"pValue\")]\n",
    "  return(list(peaks = peaks, BackGroundMatrix = Matrix::Matrix(counts_mat, sparse = TRUE)))\n",
    "}"
   ]
  },
  {
   "cell_type": "code",
   "execution_count": null,
   "metadata": {},
   "outputs": [],
   "source": []
  },
  {
   "cell_type": "markdown",
   "metadata": {},
   "source": [
    "### Obtain Feature Matrix"
   ]
  },
  {
   "cell_type": "code",
   "execution_count": 3,
   "metadata": {},
   "outputs": [],
   "source": [
    "start_time <- Sys.time()"
   ]
  },
  {
   "cell_type": "code",
   "execution_count": 4,
   "metadata": {},
   "outputs": [],
   "source": [
    "metadata <- read.table('../../input/metadata.tsv',\n",
    "                         header = TRUE,\n",
    "                         stringsAsFactors=FALSE,quote=\"\",row.names=1)"
   ]
  },
  {
   "cell_type": "code",
   "execution_count": 5,
   "metadata": {},
   "outputs": [],
   "source": [
    "# loading input 1: single-cell BAM files\n",
    "bamfiles <- list.files(\"../../input/sc-bams_nodup/\", \n",
    "                       pattern = \"*.bam\", full.names = TRUE)"
   ]
  },
  {
   "cell_type": "code",
   "execution_count": 6,
   "metadata": {
    "scrolled": false
   },
   "outputs": [
    {
     "data": {
      "text/html": [
       "5335"
      ],
      "text/latex": [
       "5335"
      ],
      "text/markdown": [
       "5335"
      ],
      "text/plain": [
       "[1] 5335"
      ]
     },
     "metadata": {},
     "output_type": "display_data"
    }
   ],
   "source": [
    "length(bamfiles)"
   ]
  },
  {
   "cell_type": "code",
   "execution_count": 7,
   "metadata": {},
   "outputs": [
    {
     "data": {
      "text/html": [
       "<ol class=list-inline>\n",
       "\t<li>97998</li>\n",
       "\t<li>4</li>\n",
       "</ol>\n"
      ],
      "text/latex": [
       "\\begin{enumerate*}\n",
       "\\item 97998\n",
       "\\item 4\n",
       "\\end{enumerate*}\n"
      ],
      "text/markdown": [
       "1. 97998\n",
       "2. 4\n",
       "\n",
       "\n"
      ],
      "text/plain": [
       "[1] 97998     4"
      ]
     },
     "metadata": {},
     "output_type": "display_data"
    },
    {
     "data": {
      "text/html": [
       "<table>\n",
       "<thead><tr><th scope=col>chrom</th><th scope=col>start</th><th scope=col>end</th><th scope=col>name</th></tr></thead>\n",
       "<tbody>\n",
       "\t<tr><td>chr1                   </td><td> 10244                 </td><td> 10510                 </td><td>Peak_chr1_10244_10510  </td></tr>\n",
       "\t<tr><td>chr1                   </td><td>237575                 </td><td>237942                 </td><td>Peak_chr1_237575_237942</td></tr>\n",
       "\t<tr><td>chr1                   </td><td>565098                 </td><td>565554                 </td><td>Peak_chr1_565098_565554</td></tr>\n",
       "\t<tr><td>chr1                   </td><td>569172                 </td><td>569645                 </td><td>Peak_chr1_569172_569645</td></tr>\n",
       "\t<tr><td>chr1                   </td><td>713421                 </td><td>715095                 </td><td>Peak_chr1_713421_715095</td></tr>\n",
       "\t<tr><td>chr1                   </td><td>752386                 </td><td>753061                 </td><td>Peak_chr1_752386_753061</td></tr>\n",
       "</tbody>\n",
       "</table>\n"
      ],
      "text/latex": [
       "\\begin{tabular}{r|llll}\n",
       " chrom & start & end & name\\\\\n",
       "\\hline\n",
       "\t chr1                          &  10244                        &  10510                        & Peak\\_chr1\\_10244\\_10510  \\\\\n",
       "\t chr1                          & 237575                        & 237942                        & Peak\\_chr1\\_237575\\_237942\\\\\n",
       "\t chr1                          & 565098                        & 565554                        & Peak\\_chr1\\_565098\\_565554\\\\\n",
       "\t chr1                          & 569172                        & 569645                        & Peak\\_chr1\\_569172\\_569645\\\\\n",
       "\t chr1                          & 713421                        & 715095                        & Peak\\_chr1\\_713421\\_715095\\\\\n",
       "\t chr1                          & 752386                        & 753061                        & Peak\\_chr1\\_752386\\_753061\\\\\n",
       "\\end{tabular}\n"
      ],
      "text/markdown": [
       "\n",
       "| chrom | start | end | name |\n",
       "|---|---|---|---|\n",
       "| chr1                    |  10244                  |  10510                  | Peak_chr1_10244_10510   |\n",
       "| chr1                    | 237575                  | 237942                  | Peak_chr1_237575_237942 |\n",
       "| chr1                    | 565098                  | 565554                  | Peak_chr1_565098_565554 |\n",
       "| chr1                    | 569172                  | 569645                  | Peak_chr1_569172_569645 |\n",
       "| chr1                    | 713421                  | 715095                  | Peak_chr1_713421_715095 |\n",
       "| chr1                    | 752386                  | 753061                  | Peak_chr1_752386_753061 |\n",
       "\n"
      ],
      "text/plain": [
       "  chrom start  end    name                   \n",
       "1 chr1   10244  10510 Peak_chr1_10244_10510  \n",
       "2 chr1  237575 237942 Peak_chr1_237575_237942\n",
       "3 chr1  565098 565554 Peak_chr1_565098_565554\n",
       "4 chr1  569172 569645 Peak_chr1_569172_569645\n",
       "5 chr1  713421 715095 Peak_chr1_713421_715095\n",
       "6 chr1  752386 753061 Peak_chr1_752386_753061"
      ]
     },
     "metadata": {},
     "output_type": "display_data"
    }
   ],
   "source": [
    "# loading input 2: peaks file\n",
    "peaks <- selectPeaks(\"../../input/atac_v1_pbmc_5k_peaks.bed\")\n",
    "peaks$name <- paste(\"Peak\", peaks$chrom, peaks$start, peaks$end, sep = \"_\")\n",
    "dim(peaks)\n",
    "head(peaks)"
   ]
  },
  {
   "cell_type": "code",
   "execution_count": 8,
   "metadata": {
    "scrolled": true
   },
   "outputs": [],
   "source": [
    "ForeGround <- getCountsMatrix(bamfiles, peaks) "
   ]
  },
  {
   "cell_type": "code",
   "execution_count": 9,
   "metadata": {},
   "outputs": [],
   "source": [
    "ForeGroundFiltered <- filterPeaks(ForeGround$ForeGroundMatrix, peaks, \n",
    "                             nreads_thresh = 1, \n",
    "                             ncells_thresh = length(bamfiles)*0.01)"
   ]
  },
  {
   "cell_type": "code",
   "execution_count": 10,
   "metadata": {},
   "outputs": [
    {
     "data": {
      "text/html": [
       "<ol class=list-inline>\n",
       "\t<li>97998</li>\n",
       "\t<li>4</li>\n",
       "</ol>\n"
      ],
      "text/latex": [
       "\\begin{enumerate*}\n",
       "\\item 97998\n",
       "\\item 4\n",
       "\\end{enumerate*}\n"
      ],
      "text/markdown": [
       "1. 97998\n",
       "2. 4\n",
       "\n",
       "\n"
      ],
      "text/plain": [
       "[1] 97998     4"
      ]
     },
     "metadata": {},
     "output_type": "display_data"
    },
    {
     "data": {
      "text/html": [
       "<ol class=list-inline>\n",
       "\t<li>69886</li>\n",
       "\t<li>4</li>\n",
       "</ol>\n"
      ],
      "text/latex": [
       "\\begin{enumerate*}\n",
       "\\item 69886\n",
       "\\item 4\n",
       "\\end{enumerate*}\n"
      ],
      "text/markdown": [
       "1. 69886\n",
       "2. 4\n",
       "\n",
       "\n"
      ],
      "text/plain": [
       "[1] 69886     4"
      ]
     },
     "metadata": {},
     "output_type": "display_data"
    }
   ],
   "source": [
    "dim(peaks)\n",
    "dim(ForeGroundFiltered$peaks)"
   ]
  },
  {
   "cell_type": "code",
   "execution_count": 11,
   "metadata": {},
   "outputs": [],
   "source": [
    "fm_scABC = as.matrix(ForeGroundFiltered$ForeGroundMatrix)"
   ]
  },
  {
   "cell_type": "code",
   "execution_count": null,
   "metadata": {},
   "outputs": [],
   "source": []
  },
  {
   "cell_type": "code",
   "execution_count": 12,
   "metadata": {
    "scrolled": true
   },
   "outputs": [
    {
     "data": {
      "text/html": [
       "<ol class=list-inline>\n",
       "\t<li>69886</li>\n",
       "\t<li>5335</li>\n",
       "</ol>\n"
      ],
      "text/latex": [
       "\\begin{enumerate*}\n",
       "\\item 69886\n",
       "\\item 5335\n",
       "\\end{enumerate*}\n"
      ],
      "text/markdown": [
       "1. 69886\n",
       "2. 5335\n",
       "\n",
       "\n"
      ],
      "text/plain": [
       "[1] 69886  5335"
      ]
     },
     "metadata": {},
     "output_type": "display_data"
    },
    {
     "data": {
      "text/html": [
       "<table>\n",
       "<thead><tr><th></th><th scope=col>../../input/sc-bams_nodup//atac_v1_pbmc_5k_possorted_bam.AAACGAAAGCGCAATG-1.dedup.st.bam</th><th scope=col>../../input/sc-bams_nodup//atac_v1_pbmc_5k_possorted_bam.AAACGAAAGGGTATCG-1.dedup.st.bam</th><th scope=col>../../input/sc-bams_nodup//atac_v1_pbmc_5k_possorted_bam.AAACGAAAGTAACATG-1.dedup.st.bam</th><th scope=col>../../input/sc-bams_nodup//atac_v1_pbmc_5k_possorted_bam.AAACGAAAGTTACACC-1.dedup.st.bam</th><th scope=col>../../input/sc-bams_nodup//atac_v1_pbmc_5k_possorted_bam.AAACGAACAGAGATGC-1.dedup.st.bam</th></tr></thead>\n",
       "<tbody>\n",
       "\t<tr><th scope=row>Peak_chr1_10244_10510</th><td>2 </td><td>0 </td><td> 4</td><td>7 </td><td>0 </td></tr>\n",
       "\t<tr><th scope=row>Peak_chr1_237575_237942</th><td>0 </td><td>0 </td><td> 0</td><td>0 </td><td>0 </td></tr>\n",
       "\t<tr><th scope=row>Peak_chr1_565098_565554</th><td>0 </td><td>0 </td><td> 6</td><td>0 </td><td>0 </td></tr>\n",
       "\t<tr><th scope=row>Peak_chr1_569172_569645</th><td>0 </td><td>0 </td><td> 8</td><td>6 </td><td>1 </td></tr>\n",
       "\t<tr><th scope=row>Peak_chr1_713421_715095</th><td>4 </td><td>4 </td><td>10</td><td>4 </td><td>0 </td></tr>\n",
       "</tbody>\n",
       "</table>\n"
      ],
      "text/latex": [
       "\\begin{tabular}{r|lllll}\n",
       "  & ../../input/sc-bams\\_nodup//atac\\_v1\\_pbmc\\_5k\\_possorted\\_bam.AAACGAAAGCGCAATG-1.dedup.st.bam & ../../input/sc-bams\\_nodup//atac\\_v1\\_pbmc\\_5k\\_possorted\\_bam.AAACGAAAGGGTATCG-1.dedup.st.bam & ../../input/sc-bams\\_nodup//atac\\_v1\\_pbmc\\_5k\\_possorted\\_bam.AAACGAAAGTAACATG-1.dedup.st.bam & ../../input/sc-bams\\_nodup//atac\\_v1\\_pbmc\\_5k\\_possorted\\_bam.AAACGAAAGTTACACC-1.dedup.st.bam & ../../input/sc-bams\\_nodup//atac\\_v1\\_pbmc\\_5k\\_possorted\\_bam.AAACGAACAGAGATGC-1.dedup.st.bam\\\\\n",
       "\\hline\n",
       "\tPeak\\_chr1\\_10244\\_10510 & 2  & 0  &  4 & 7  & 0 \\\\\n",
       "\tPeak\\_chr1\\_237575\\_237942 & 0  & 0  &  0 & 0  & 0 \\\\\n",
       "\tPeak\\_chr1\\_565098\\_565554 & 0  & 0  &  6 & 0  & 0 \\\\\n",
       "\tPeak\\_chr1\\_569172\\_569645 & 0  & 0  &  8 & 6  & 1 \\\\\n",
       "\tPeak\\_chr1\\_713421\\_715095 & 4  & 4  & 10 & 4  & 0 \\\\\n",
       "\\end{tabular}\n"
      ],
      "text/markdown": [
       "\n",
       "| <!--/--> | ../../input/sc-bams_nodup//atac_v1_pbmc_5k_possorted_bam.AAACGAAAGCGCAATG-1.dedup.st.bam | ../../input/sc-bams_nodup//atac_v1_pbmc_5k_possorted_bam.AAACGAAAGGGTATCG-1.dedup.st.bam | ../../input/sc-bams_nodup//atac_v1_pbmc_5k_possorted_bam.AAACGAAAGTAACATG-1.dedup.st.bam | ../../input/sc-bams_nodup//atac_v1_pbmc_5k_possorted_bam.AAACGAAAGTTACACC-1.dedup.st.bam | ../../input/sc-bams_nodup//atac_v1_pbmc_5k_possorted_bam.AAACGAACAGAGATGC-1.dedup.st.bam |\n",
       "|---|---|---|---|---|---|\n",
       "| Peak_chr1_10244_10510 | 2  | 0  |  4 | 7  | 0  |\n",
       "| Peak_chr1_237575_237942 | 0  | 0  |  0 | 0  | 0  |\n",
       "| Peak_chr1_565098_565554 | 0  | 0  |  6 | 0  | 0  |\n",
       "| Peak_chr1_569172_569645 | 0  | 0  |  8 | 6  | 1  |\n",
       "| Peak_chr1_713421_715095 | 4  | 4  | 10 | 4  | 0  |\n",
       "\n"
      ],
      "text/plain": [
       "                        ../../input/sc-bams_nodup//atac_v1_pbmc_5k_possorted_bam.AAACGAAAGCGCAATG-1.dedup.st.bam\n",
       "Peak_chr1_10244_10510   2                                                                                       \n",
       "Peak_chr1_237575_237942 0                                                                                       \n",
       "Peak_chr1_565098_565554 0                                                                                       \n",
       "Peak_chr1_569172_569645 0                                                                                       \n",
       "Peak_chr1_713421_715095 4                                                                                       \n",
       "                        ../../input/sc-bams_nodup//atac_v1_pbmc_5k_possorted_bam.AAACGAAAGGGTATCG-1.dedup.st.bam\n",
       "Peak_chr1_10244_10510   0                                                                                       \n",
       "Peak_chr1_237575_237942 0                                                                                       \n",
       "Peak_chr1_565098_565554 0                                                                                       \n",
       "Peak_chr1_569172_569645 0                                                                                       \n",
       "Peak_chr1_713421_715095 4                                                                                       \n",
       "                        ../../input/sc-bams_nodup//atac_v1_pbmc_5k_possorted_bam.AAACGAAAGTAACATG-1.dedup.st.bam\n",
       "Peak_chr1_10244_10510    4                                                                                      \n",
       "Peak_chr1_237575_237942  0                                                                                      \n",
       "Peak_chr1_565098_565554  6                                                                                      \n",
       "Peak_chr1_569172_569645  8                                                                                      \n",
       "Peak_chr1_713421_715095 10                                                                                      \n",
       "                        ../../input/sc-bams_nodup//atac_v1_pbmc_5k_possorted_bam.AAACGAAAGTTACACC-1.dedup.st.bam\n",
       "Peak_chr1_10244_10510   7                                                                                       \n",
       "Peak_chr1_237575_237942 0                                                                                       \n",
       "Peak_chr1_565098_565554 0                                                                                       \n",
       "Peak_chr1_569172_569645 6                                                                                       \n",
       "Peak_chr1_713421_715095 4                                                                                       \n",
       "                        ../../input/sc-bams_nodup//atac_v1_pbmc_5k_possorted_bam.AAACGAACAGAGATGC-1.dedup.st.bam\n",
       "Peak_chr1_10244_10510   0                                                                                       \n",
       "Peak_chr1_237575_237942 0                                                                                       \n",
       "Peak_chr1_565098_565554 0                                                                                       \n",
       "Peak_chr1_569172_569645 1                                                                                       \n",
       "Peak_chr1_713421_715095 0                                                                                       "
      ]
     },
     "metadata": {},
     "output_type": "display_data"
    }
   ],
   "source": [
    "dim(fm_scABC)\n",
    "fm_scABC[1:5,1:5]"
   ]
  },
  {
   "cell_type": "code",
   "execution_count": 13,
   "metadata": {},
   "outputs": [],
   "source": [
    "end_time <- Sys.time()"
   ]
  },
  {
   "cell_type": "code",
   "execution_count": 14,
   "metadata": {},
   "outputs": [
    {
     "data": {
      "text/plain": [
       "Time difference of 11.69225 mins"
      ]
     },
     "metadata": {},
     "output_type": "display_data"
    }
   ],
   "source": [
    "end_time - start_time"
   ]
  },
  {
   "cell_type": "code",
   "execution_count": null,
   "metadata": {},
   "outputs": [],
   "source": []
  },
  {
   "cell_type": "code",
   "execution_count": 15,
   "metadata": {},
   "outputs": [
    {
     "data": {
      "text/html": [
       "TRUE"
      ],
      "text/latex": [
       "TRUE"
      ],
      "text/markdown": [
       "TRUE"
      ],
      "text/plain": [
       "[1] TRUE"
      ]
     },
     "metadata": {},
     "output_type": "display_data"
    }
   ],
   "source": [
    "all(sapply(strsplit(basename(colnames(fm_scABC)),'\\\\.'),'[', 2) == rownames(metadata))"
   ]
  },
  {
   "cell_type": "code",
   "execution_count": 16,
   "metadata": {},
   "outputs": [],
   "source": [
    "colnames(fm_scABC) = rownames(metadata)"
   ]
  },
  {
   "cell_type": "code",
   "execution_count": 17,
   "metadata": {},
   "outputs": [
    {
     "data": {
      "text/html": [
       "<ol class=list-inline>\n",
       "\t<li>69886</li>\n",
       "\t<li>5335</li>\n",
       "</ol>\n"
      ],
      "text/latex": [
       "\\begin{enumerate*}\n",
       "\\item 69886\n",
       "\\item 5335\n",
       "\\end{enumerate*}\n"
      ],
      "text/markdown": [
       "1. 69886\n",
       "2. 5335\n",
       "\n",
       "\n"
      ],
      "text/plain": [
       "[1] 69886  5335"
      ]
     },
     "metadata": {},
     "output_type": "display_data"
    },
    {
     "data": {
      "text/html": [
       "<table>\n",
       "<thead><tr><th></th><th scope=col>AAACGAAAGCGCAATG-1</th><th scope=col>AAACGAAAGGGTATCG-1</th><th scope=col>AAACGAAAGTAACATG-1</th><th scope=col>AAACGAAAGTTACACC-1</th><th scope=col>AAACGAACAGAGATGC-1</th></tr></thead>\n",
       "<tbody>\n",
       "\t<tr><th scope=row>Peak_chr1_10244_10510</th><td>2 </td><td>0 </td><td> 4</td><td>7 </td><td>0 </td></tr>\n",
       "\t<tr><th scope=row>Peak_chr1_237575_237942</th><td>0 </td><td>0 </td><td> 0</td><td>0 </td><td>0 </td></tr>\n",
       "\t<tr><th scope=row>Peak_chr1_565098_565554</th><td>0 </td><td>0 </td><td> 6</td><td>0 </td><td>0 </td></tr>\n",
       "\t<tr><th scope=row>Peak_chr1_569172_569645</th><td>0 </td><td>0 </td><td> 8</td><td>6 </td><td>1 </td></tr>\n",
       "\t<tr><th scope=row>Peak_chr1_713421_715095</th><td>4 </td><td>4 </td><td>10</td><td>4 </td><td>0 </td></tr>\n",
       "</tbody>\n",
       "</table>\n"
      ],
      "text/latex": [
       "\\begin{tabular}{r|lllll}\n",
       "  & AAACGAAAGCGCAATG-1 & AAACGAAAGGGTATCG-1 & AAACGAAAGTAACATG-1 & AAACGAAAGTTACACC-1 & AAACGAACAGAGATGC-1\\\\\n",
       "\\hline\n",
       "\tPeak\\_chr1\\_10244\\_10510 & 2  & 0  &  4 & 7  & 0 \\\\\n",
       "\tPeak\\_chr1\\_237575\\_237942 & 0  & 0  &  0 & 0  & 0 \\\\\n",
       "\tPeak\\_chr1\\_565098\\_565554 & 0  & 0  &  6 & 0  & 0 \\\\\n",
       "\tPeak\\_chr1\\_569172\\_569645 & 0  & 0  &  8 & 6  & 1 \\\\\n",
       "\tPeak\\_chr1\\_713421\\_715095 & 4  & 4  & 10 & 4  & 0 \\\\\n",
       "\\end{tabular}\n"
      ],
      "text/markdown": [
       "\n",
       "| <!--/--> | AAACGAAAGCGCAATG-1 | AAACGAAAGGGTATCG-1 | AAACGAAAGTAACATG-1 | AAACGAAAGTTACACC-1 | AAACGAACAGAGATGC-1 |\n",
       "|---|---|---|---|---|---|\n",
       "| Peak_chr1_10244_10510 | 2  | 0  |  4 | 7  | 0  |\n",
       "| Peak_chr1_237575_237942 | 0  | 0  |  0 | 0  | 0  |\n",
       "| Peak_chr1_565098_565554 | 0  | 0  |  6 | 0  | 0  |\n",
       "| Peak_chr1_569172_569645 | 0  | 0  |  8 | 6  | 1  |\n",
       "| Peak_chr1_713421_715095 | 4  | 4  | 10 | 4  | 0  |\n",
       "\n"
      ],
      "text/plain": [
       "                        AAACGAAAGCGCAATG-1 AAACGAAAGGGTATCG-1\n",
       "Peak_chr1_10244_10510   2                  0                 \n",
       "Peak_chr1_237575_237942 0                  0                 \n",
       "Peak_chr1_565098_565554 0                  0                 \n",
       "Peak_chr1_569172_569645 0                  0                 \n",
       "Peak_chr1_713421_715095 4                  4                 \n",
       "                        AAACGAAAGTAACATG-1 AAACGAAAGTTACACC-1\n",
       "Peak_chr1_10244_10510    4                 7                 \n",
       "Peak_chr1_237575_237942  0                 0                 \n",
       "Peak_chr1_565098_565554  6                 0                 \n",
       "Peak_chr1_569172_569645  8                 6                 \n",
       "Peak_chr1_713421_715095 10                 4                 \n",
       "                        AAACGAACAGAGATGC-1\n",
       "Peak_chr1_10244_10510   0                 \n",
       "Peak_chr1_237575_237942 0                 \n",
       "Peak_chr1_565098_565554 0                 \n",
       "Peak_chr1_569172_569645 1                 \n",
       "Peak_chr1_713421_715095 0                 "
      ]
     },
     "metadata": {},
     "output_type": "display_data"
    }
   ],
   "source": [
    "dim(fm_scABC)\n",
    "fm_scABC[1:5,1:5]"
   ]
  },
  {
   "cell_type": "code",
   "execution_count": null,
   "metadata": {},
   "outputs": [],
   "source": []
  },
  {
   "cell_type": "code",
   "execution_count": 18,
   "metadata": {},
   "outputs": [],
   "source": [
    "saveRDS(fm_scABC, file = '../../output/feature_matrices/FM_scABC_10xpbmc5k.rds')"
   ]
  },
  {
   "cell_type": "code",
   "execution_count": null,
   "metadata": {},
   "outputs": [],
   "source": []
  },
  {
   "cell_type": "markdown",
   "metadata": {},
   "source": [
    "### Downstream Analysis"
   ]
  },
  {
   "cell_type": "code",
   "execution_count": 19,
   "metadata": {},
   "outputs": [],
   "source": [
    "### Instead of normalizing the peaks-by-cells matrix, \n",
    "### weights calculated below will be used in k-medoid clustering step based on cell dissimilarity matrix: WeightedCluster::wcKMedoids(FGdist, k = nCluster, weights = weights);\n",
    "### so it's not considered as part of feature matrix construction\n",
    "\n",
    "\n",
    "# BackGround <- getBackground(bamfiles, ForeGroundFiltered$peaks, \n",
    "#                            upstream = 5e+05, downstream = 5e+05,\n",
    "#                            PAIRED = FALSE, byReadGroup = FALSE)\n",
    "\n",
    "# InSilicoForeGround = ForeGroundFiltered$ForeGroundMatrix\n",
    "# InSilicoBackGround = BackGround$BackGroundMatrix\n",
    "# InSilicoPeaks = ForeGroundFiltered$peaks\n",
    "\n",
    "# fg.mat <- Matrix::Matrix(InSilicoForeGround, sparse = TRUE)\n",
    "# bg.mat <- Matrix::Matrix(InSilicoBackGround, sparse = TRUE);\n",
    "\n",
    "# weights = apply(bg.mat, 2, median);\n",
    "# c = min(8, median(weights))\n",
    "# # compute weighted k-medioids\n",
    "# lambda = 1.0\n",
    "# FGdist = 1 - sparseSpearmanCor(ForeGround);\n",
    "# weights = 1/(1 + exp(-(weights - c)/(c*lambda)));"
   ]
  },
  {
   "cell_type": "code",
   "execution_count": 20,
   "metadata": {},
   "outputs": [],
   "source": [
    "BackGround <- getBackground(bamfiles, ForeGroundFiltered$peaks, \n",
    "                           upstream = 5e+05, downstream = 5e+05,\n",
    "                           PAIRED = FALSE, byReadGroup = FALSE)"
   ]
  },
  {
   "cell_type": "code",
   "execution_count": 21,
   "metadata": {},
   "outputs": [],
   "source": [
    "InSilicoForeGround = ForeGroundFiltered$ForeGroundMatrix\n",
    "InSilicoBackGround = BackGround$BackGroundMatrix\n",
    "InSilicoPeaks = ForeGroundFiltered$peaks"
   ]
  },
  {
   "cell_type": "code",
   "execution_count": 22,
   "metadata": {},
   "outputs": [],
   "source": [
    "#compute the landmarks\n",
    "InSilicoLandMarks = computeLandmarks(ForeGround = InSilicoForeGround, \n",
    "                                      BackGround = InSilicoBackGround, \n",
    "                                      nCluster = length(unique(metadata$label)), lambda = 1, nTop = 2000)"
   ]
  },
  {
   "cell_type": "code",
   "execution_count": 23,
   "metadata": {},
   "outputs": [
    {
     "data": {
      "text/html": [
       "<table>\n",
       "<tbody>\n",
       "\t<tr><td>1.0000000</td><td>0.8262242</td><td>0.8066260</td><td>0.7088728</td><td>0.7186289</td><td>0.1212191</td><td>0.8649877</td><td>0.9240293</td></tr>\n",
       "\t<tr><td>0.8262242</td><td>1.0000000</td><td>0.7689306</td><td>0.7048895</td><td>0.7099296</td><td>0.1255644</td><td>0.8933118</td><td>0.8471880</td></tr>\n",
       "\t<tr><td>0.8066260</td><td>0.7689306</td><td>1.0000000</td><td>0.7064170</td><td>0.7123847</td><td>0.1208460</td><td>0.7906302</td><td>0.8075687</td></tr>\n",
       "\t<tr><td>0.7088728</td><td>0.7048895</td><td>0.7064170</td><td>1.0000000</td><td>0.9256862</td><td>0.1252557</td><td>0.6950167</td><td>0.6997389</td></tr>\n",
       "\t<tr><td>0.7186289</td><td>0.7099296</td><td>0.7123847</td><td>0.9256862</td><td>1.0000000</td><td>0.1244849</td><td>0.7005687</td><td>0.7088882</td></tr>\n",
       "\t<tr><td>0.1212191</td><td>0.1255644</td><td>0.1208460</td><td>0.1252557</td><td>0.1244849</td><td>1.0000000</td><td>0.1276495</td><td>0.1237597</td></tr>\n",
       "\t<tr><td>0.8649877</td><td>0.8933118</td><td>0.7906302</td><td>0.6950167</td><td>0.7005687</td><td>0.1276495</td><td>1.0000000</td><td>0.9058648</td></tr>\n",
       "\t<tr><td>0.9240293</td><td>0.8471880</td><td>0.8075687</td><td>0.6997389</td><td>0.7088882</td><td>0.1237597</td><td>0.9058648</td><td>1.0000000</td></tr>\n",
       "</tbody>\n",
       "</table>\n"
      ],
      "text/latex": [
       "\\begin{tabular}{llllllll}\n",
       "\t 1.0000000 & 0.8262242 & 0.8066260 & 0.7088728 & 0.7186289 & 0.1212191 & 0.8649877 & 0.9240293\\\\\n",
       "\t 0.8262242 & 1.0000000 & 0.7689306 & 0.7048895 & 0.7099296 & 0.1255644 & 0.8933118 & 0.8471880\\\\\n",
       "\t 0.8066260 & 0.7689306 & 1.0000000 & 0.7064170 & 0.7123847 & 0.1208460 & 0.7906302 & 0.8075687\\\\\n",
       "\t 0.7088728 & 0.7048895 & 0.7064170 & 1.0000000 & 0.9256862 & 0.1252557 & 0.6950167 & 0.6997389\\\\\n",
       "\t 0.7186289 & 0.7099296 & 0.7123847 & 0.9256862 & 1.0000000 & 0.1244849 & 0.7005687 & 0.7088882\\\\\n",
       "\t 0.1212191 & 0.1255644 & 0.1208460 & 0.1252557 & 0.1244849 & 1.0000000 & 0.1276495 & 0.1237597\\\\\n",
       "\t 0.8649877 & 0.8933118 & 0.7906302 & 0.6950167 & 0.7005687 & 0.1276495 & 1.0000000 & 0.9058648\\\\\n",
       "\t 0.9240293 & 0.8471880 & 0.8075687 & 0.6997389 & 0.7088882 & 0.1237597 & 0.9058648 & 1.0000000\\\\\n",
       "\\end{tabular}\n"
      ],
      "text/markdown": [
       "\n",
       "| 1.0000000 | 0.8262242 | 0.8066260 | 0.7088728 | 0.7186289 | 0.1212191 | 0.8649877 | 0.9240293 |\n",
       "| 0.8262242 | 1.0000000 | 0.7689306 | 0.7048895 | 0.7099296 | 0.1255644 | 0.8933118 | 0.8471880 |\n",
       "| 0.8066260 | 0.7689306 | 1.0000000 | 0.7064170 | 0.7123847 | 0.1208460 | 0.7906302 | 0.8075687 |\n",
       "| 0.7088728 | 0.7048895 | 0.7064170 | 1.0000000 | 0.9256862 | 0.1252557 | 0.6950167 | 0.6997389 |\n",
       "| 0.7186289 | 0.7099296 | 0.7123847 | 0.9256862 | 1.0000000 | 0.1244849 | 0.7005687 | 0.7088882 |\n",
       "| 0.1212191 | 0.1255644 | 0.1208460 | 0.1252557 | 0.1244849 | 1.0000000 | 0.1276495 | 0.1237597 |\n",
       "| 0.8649877 | 0.8933118 | 0.7906302 | 0.6950167 | 0.7005687 | 0.1276495 | 1.0000000 | 0.9058648 |\n",
       "| 0.9240293 | 0.8471880 | 0.8075687 | 0.6997389 | 0.7088882 | 0.1237597 | 0.9058648 | 1.0000000 |\n",
       "\n"
      ],
      "text/plain": [
       "     [,1]      [,2]      [,3]      [,4]      [,5]      [,6]      [,7]     \n",
       "[1,] 1.0000000 0.8262242 0.8066260 0.7088728 0.7186289 0.1212191 0.8649877\n",
       "[2,] 0.8262242 1.0000000 0.7689306 0.7048895 0.7099296 0.1255644 0.8933118\n",
       "[3,] 0.8066260 0.7689306 1.0000000 0.7064170 0.7123847 0.1208460 0.7906302\n",
       "[4,] 0.7088728 0.7048895 0.7064170 1.0000000 0.9256862 0.1252557 0.6950167\n",
       "[5,] 0.7186289 0.7099296 0.7123847 0.9256862 1.0000000 0.1244849 0.7005687\n",
       "[6,] 0.1212191 0.1255644 0.1208460 0.1252557 0.1244849 1.0000000 0.1276495\n",
       "[7,] 0.8649877 0.8933118 0.7906302 0.6950167 0.7005687 0.1276495 1.0000000\n",
       "[8,] 0.9240293 0.8471880 0.8075687 0.6997389 0.7088882 0.1237597 0.9058648\n",
       "     [,8]     \n",
       "[1,] 0.9240293\n",
       "[2,] 0.8471880\n",
       "[3,] 0.8075687\n",
       "[4,] 0.6997389\n",
       "[5,] 0.7088882\n",
       "[6,] 0.1237597\n",
       "[7,] 0.9058648\n",
       "[8,] 1.0000000"
      ]
     },
     "metadata": {},
     "output_type": "display_data"
    }
   ],
   "source": [
    "cor(InSilicoLandMarks, InSilicoLandMarks, method = 'spearman')"
   ]
  },
  {
   "cell_type": "code",
   "execution_count": 24,
   "metadata": {},
   "outputs": [],
   "source": [
    "# assign cells to the closest landmark #\n",
    "InSilicoLandMarkAssignments = assign2landmarks(InSilicoForeGround, InSilicoLandMarks)"
   ]
  },
  {
   "cell_type": "code",
   "execution_count": 25,
   "metadata": {
    "scrolled": true
   },
   "outputs": [
    {
     "data": {
      "text/html": [
       "<ol class=list-inline>\n",
       "\t<li>69886</li>\n",
       "\t<li>8</li>\n",
       "</ol>\n"
      ],
      "text/latex": [
       "\\begin{enumerate*}\n",
       "\\item 69886\n",
       "\\item 8\n",
       "\\end{enumerate*}\n"
      ],
      "text/markdown": [
       "1. 69886\n",
       "2. 8\n",
       "\n",
       "\n"
      ],
      "text/plain": [
       "[1] 69886     8"
      ]
     },
     "metadata": {},
     "output_type": "display_data"
    },
    {
     "data": {
      "text/html": [
       "<table>\n",
       "<tbody>\n",
       "\t<tr><th scope=row>Peak_chr1_10244_10510</th><td>   0</td><td>0   </td><td>   0</td><td>0   </td><td>0   </td><td> 5  </td><td>0   </td><td>0   </td></tr>\n",
       "\t<tr><th scope=row>Peak_chr1_237575_237942</th><td>   0</td><td>0   </td><td>   0</td><td>0   </td><td>0   </td><td> 0  </td><td>0   </td><td>0   </td></tr>\n",
       "\t<tr><th scope=row>Peak_chr1_565098_565554</th><td>1528</td><td>0   </td><td> 989</td><td>0   </td><td>0   </td><td> 9  </td><td>0   </td><td>0   </td></tr>\n",
       "\t<tr><th scope=row>Peak_chr1_569172_569645</th><td>1607</td><td>0   </td><td>1035</td><td>0   </td><td>0   </td><td>17  </td><td>0   </td><td>0   </td></tr>\n",
       "\t<tr><th scope=row>Peak_chr1_713421_715095</th><td>   0</td><td>0   </td><td>   0</td><td>0   </td><td>0   </td><td> 0  </td><td>0   </td><td>0   </td></tr>\n",
       "\t<tr><th scope=row>Peak_chr1_752386_753061</th><td>   0</td><td>0   </td><td>   0</td><td>0   </td><td>0   </td><td> 0  </td><td>0   </td><td>0   </td></tr>\n",
       "</tbody>\n",
       "</table>\n"
      ],
      "text/latex": [
       "\\begin{tabular}{r|llllllll}\n",
       "\tPeak\\_chr1\\_10244\\_10510 &    0 & 0    &    0 & 0    & 0    &  5   & 0    & 0   \\\\\n",
       "\tPeak\\_chr1\\_237575\\_237942 &    0 & 0    &    0 & 0    & 0    &  0   & 0    & 0   \\\\\n",
       "\tPeak\\_chr1\\_565098\\_565554 & 1528 & 0    &  989 & 0    & 0    &  9   & 0    & 0   \\\\\n",
       "\tPeak\\_chr1\\_569172\\_569645 & 1607 & 0    & 1035 & 0    & 0    & 17   & 0    & 0   \\\\\n",
       "\tPeak\\_chr1\\_713421\\_715095 &    0 & 0    &    0 & 0    & 0    &  0   & 0    & 0   \\\\\n",
       "\tPeak\\_chr1\\_752386\\_753061 &    0 & 0    &    0 & 0    & 0    &  0   & 0    & 0   \\\\\n",
       "\\end{tabular}\n"
      ],
      "text/markdown": [
       "\n",
       "| Peak_chr1_10244_10510 |    0 | 0    |    0 | 0    | 0    |  5   | 0    | 0    |\n",
       "| Peak_chr1_237575_237942 |    0 | 0    |    0 | 0    | 0    |  0   | 0    | 0    |\n",
       "| Peak_chr1_565098_565554 | 1528 | 0    |  989 | 0    | 0    |  9   | 0    | 0    |\n",
       "| Peak_chr1_569172_569645 | 1607 | 0    | 1035 | 0    | 0    | 17   | 0    | 0    |\n",
       "| Peak_chr1_713421_715095 |    0 | 0    |    0 | 0    | 0    |  0   | 0    | 0    |\n",
       "| Peak_chr1_752386_753061 |    0 | 0    |    0 | 0    | 0    |  0   | 0    | 0    |\n",
       "\n"
      ],
      "text/plain": [
       "                        [,1] [,2] [,3] [,4] [,5] [,6] [,7] [,8]\n",
       "Peak_chr1_10244_10510      0 0       0 0    0     5   0    0   \n",
       "Peak_chr1_237575_237942    0 0       0 0    0     0   0    0   \n",
       "Peak_chr1_565098_565554 1528 0     989 0    0     9   0    0   \n",
       "Peak_chr1_569172_569645 1607 0    1035 0    0    17   0    0   \n",
       "Peak_chr1_713421_715095    0 0       0 0    0     0   0    0   \n",
       "Peak_chr1_752386_753061    0 0       0 0    0     0   0    0   "
      ]
     },
     "metadata": {},
     "output_type": "display_data"
    }
   ],
   "source": [
    "dim(InSilicoLandMarks)\n",
    "head(InSilicoLandMarks)"
   ]
  },
  {
   "cell_type": "code",
   "execution_count": 26,
   "metadata": {},
   "outputs": [],
   "source": [
    "InSilicoCell2LandmarkCorrelation = do.call(cbind, \n",
    "                                           lapply(seq(length(unique(metadata$label))), \n",
    "                                                  function(i) apply(InSilicoForeGround, 2, \n",
    "                                                                    function(x) cor(x, InSilicoLandMarks[,i], method = 'spearman'))))"
   ]
  },
  {
   "cell_type": "code",
   "execution_count": 27,
   "metadata": {},
   "outputs": [
    {
     "data": {
      "text/html": [
       "<ol class=list-inline>\n",
       "\t<li>5335</li>\n",
       "\t<li>8</li>\n",
       "</ol>\n"
      ],
      "text/latex": [
       "\\begin{enumerate*}\n",
       "\\item 5335\n",
       "\\item 8\n",
       "\\end{enumerate*}\n"
      ],
      "text/markdown": [
       "1. 5335\n",
       "2. 8\n",
       "\n",
       "\n"
      ],
      "text/plain": [
       "[1] 5335    8"
      ]
     },
     "metadata": {},
     "output_type": "display_data"
    },
    {
     "data": {
      "text/html": [
       "<table>\n",
       "<tbody>\n",
       "\t<tr><th scope=row>../../input/sc-bams_nodup//atac_v1_pbmc_5k_possorted_bam.AAACGAAAGCGCAATG-1.dedup.st.bam</th><td>0.3493415</td><td>0.3433983</td><td>0.3437918</td><td>0.3736291</td><td>0.3787479</td></tr>\n",
       "\t<tr><th scope=row>../../input/sc-bams_nodup//atac_v1_pbmc_5k_possorted_bam.AAACGAAAGGGTATCG-1.dedup.st.bam</th><td>0.3220430</td><td>0.3121638</td><td>0.3181122</td><td>0.3421566</td><td>0.3406137</td></tr>\n",
       "\t<tr><th scope=row>../../input/sc-bams_nodup//atac_v1_pbmc_5k_possorted_bam.AAACGAAAGTAACATG-1.dedup.st.bam</th><td>0.3780158</td><td>0.3788147</td><td>0.3638712</td><td>0.3418282</td><td>0.3461915</td></tr>\n",
       "\t<tr><th scope=row>../../input/sc-bams_nodup//atac_v1_pbmc_5k_possorted_bam.AAACGAAAGTTACACC-1.dedup.st.bam</th><td>0.3719588</td><td>0.3773837</td><td>0.3648061</td><td>0.3382899</td><td>0.3422293</td></tr>\n",
       "\t<tr><th scope=row>../../input/sc-bams_nodup//atac_v1_pbmc_5k_possorted_bam.AAACGAACAGAGATGC-1.dedup.st.bam</th><td>0.2612269</td><td>0.2638485</td><td>0.2717175</td><td>0.2938991</td><td>0.2932577</td></tr>\n",
       "</tbody>\n",
       "</table>\n"
      ],
      "text/latex": [
       "\\begin{tabular}{r|lllll}\n",
       "\t../../input/sc-bams\\_nodup//atac\\_v1\\_pbmc\\_5k\\_possorted\\_bam.AAACGAAAGCGCAATG-1.dedup.st.bam & 0.3493415 & 0.3433983 & 0.3437918 & 0.3736291 & 0.3787479\\\\\n",
       "\t../../input/sc-bams\\_nodup//atac\\_v1\\_pbmc\\_5k\\_possorted\\_bam.AAACGAAAGGGTATCG-1.dedup.st.bam & 0.3220430 & 0.3121638 & 0.3181122 & 0.3421566 & 0.3406137\\\\\n",
       "\t../../input/sc-bams\\_nodup//atac\\_v1\\_pbmc\\_5k\\_possorted\\_bam.AAACGAAAGTAACATG-1.dedup.st.bam & 0.3780158 & 0.3788147 & 0.3638712 & 0.3418282 & 0.3461915\\\\\n",
       "\t../../input/sc-bams\\_nodup//atac\\_v1\\_pbmc\\_5k\\_possorted\\_bam.AAACGAAAGTTACACC-1.dedup.st.bam & 0.3719588 & 0.3773837 & 0.3648061 & 0.3382899 & 0.3422293\\\\\n",
       "\t../../input/sc-bams\\_nodup//atac\\_v1\\_pbmc\\_5k\\_possorted\\_bam.AAACGAACAGAGATGC-1.dedup.st.bam & 0.2612269 & 0.2638485 & 0.2717175 & 0.2938991 & 0.2932577\\\\\n",
       "\\end{tabular}\n"
      ],
      "text/markdown": [
       "\n",
       "| ../../input/sc-bams_nodup//atac_v1_pbmc_5k_possorted_bam.AAACGAAAGCGCAATG-1.dedup.st.bam | 0.3493415 | 0.3433983 | 0.3437918 | 0.3736291 | 0.3787479 |\n",
       "| ../../input/sc-bams_nodup//atac_v1_pbmc_5k_possorted_bam.AAACGAAAGGGTATCG-1.dedup.st.bam | 0.3220430 | 0.3121638 | 0.3181122 | 0.3421566 | 0.3406137 |\n",
       "| ../../input/sc-bams_nodup//atac_v1_pbmc_5k_possorted_bam.AAACGAAAGTAACATG-1.dedup.st.bam | 0.3780158 | 0.3788147 | 0.3638712 | 0.3418282 | 0.3461915 |\n",
       "| ../../input/sc-bams_nodup//atac_v1_pbmc_5k_possorted_bam.AAACGAAAGTTACACC-1.dedup.st.bam | 0.3719588 | 0.3773837 | 0.3648061 | 0.3382899 | 0.3422293 |\n",
       "| ../../input/sc-bams_nodup//atac_v1_pbmc_5k_possorted_bam.AAACGAACAGAGATGC-1.dedup.st.bam | 0.2612269 | 0.2638485 | 0.2717175 | 0.2938991 | 0.2932577 |\n",
       "\n"
      ],
      "text/plain": [
       "                                                                                         [,1]     \n",
       "../../input/sc-bams_nodup//atac_v1_pbmc_5k_possorted_bam.AAACGAAAGCGCAATG-1.dedup.st.bam 0.3493415\n",
       "../../input/sc-bams_nodup//atac_v1_pbmc_5k_possorted_bam.AAACGAAAGGGTATCG-1.dedup.st.bam 0.3220430\n",
       "../../input/sc-bams_nodup//atac_v1_pbmc_5k_possorted_bam.AAACGAAAGTAACATG-1.dedup.st.bam 0.3780158\n",
       "../../input/sc-bams_nodup//atac_v1_pbmc_5k_possorted_bam.AAACGAAAGTTACACC-1.dedup.st.bam 0.3719588\n",
       "../../input/sc-bams_nodup//atac_v1_pbmc_5k_possorted_bam.AAACGAACAGAGATGC-1.dedup.st.bam 0.2612269\n",
       "                                                                                         [,2]     \n",
       "../../input/sc-bams_nodup//atac_v1_pbmc_5k_possorted_bam.AAACGAAAGCGCAATG-1.dedup.st.bam 0.3433983\n",
       "../../input/sc-bams_nodup//atac_v1_pbmc_5k_possorted_bam.AAACGAAAGGGTATCG-1.dedup.st.bam 0.3121638\n",
       "../../input/sc-bams_nodup//atac_v1_pbmc_5k_possorted_bam.AAACGAAAGTAACATG-1.dedup.st.bam 0.3788147\n",
       "../../input/sc-bams_nodup//atac_v1_pbmc_5k_possorted_bam.AAACGAAAGTTACACC-1.dedup.st.bam 0.3773837\n",
       "../../input/sc-bams_nodup//atac_v1_pbmc_5k_possorted_bam.AAACGAACAGAGATGC-1.dedup.st.bam 0.2638485\n",
       "                                                                                         [,3]     \n",
       "../../input/sc-bams_nodup//atac_v1_pbmc_5k_possorted_bam.AAACGAAAGCGCAATG-1.dedup.st.bam 0.3437918\n",
       "../../input/sc-bams_nodup//atac_v1_pbmc_5k_possorted_bam.AAACGAAAGGGTATCG-1.dedup.st.bam 0.3181122\n",
       "../../input/sc-bams_nodup//atac_v1_pbmc_5k_possorted_bam.AAACGAAAGTAACATG-1.dedup.st.bam 0.3638712\n",
       "../../input/sc-bams_nodup//atac_v1_pbmc_5k_possorted_bam.AAACGAAAGTTACACC-1.dedup.st.bam 0.3648061\n",
       "../../input/sc-bams_nodup//atac_v1_pbmc_5k_possorted_bam.AAACGAACAGAGATGC-1.dedup.st.bam 0.2717175\n",
       "                                                                                         [,4]     \n",
       "../../input/sc-bams_nodup//atac_v1_pbmc_5k_possorted_bam.AAACGAAAGCGCAATG-1.dedup.st.bam 0.3736291\n",
       "../../input/sc-bams_nodup//atac_v1_pbmc_5k_possorted_bam.AAACGAAAGGGTATCG-1.dedup.st.bam 0.3421566\n",
       "../../input/sc-bams_nodup//atac_v1_pbmc_5k_possorted_bam.AAACGAAAGTAACATG-1.dedup.st.bam 0.3418282\n",
       "../../input/sc-bams_nodup//atac_v1_pbmc_5k_possorted_bam.AAACGAAAGTTACACC-1.dedup.st.bam 0.3382899\n",
       "../../input/sc-bams_nodup//atac_v1_pbmc_5k_possorted_bam.AAACGAACAGAGATGC-1.dedup.st.bam 0.2938991\n",
       "                                                                                         [,5]     \n",
       "../../input/sc-bams_nodup//atac_v1_pbmc_5k_possorted_bam.AAACGAAAGCGCAATG-1.dedup.st.bam 0.3787479\n",
       "../../input/sc-bams_nodup//atac_v1_pbmc_5k_possorted_bam.AAACGAAAGGGTATCG-1.dedup.st.bam 0.3406137\n",
       "../../input/sc-bams_nodup//atac_v1_pbmc_5k_possorted_bam.AAACGAAAGTAACATG-1.dedup.st.bam 0.3461915\n",
       "../../input/sc-bams_nodup//atac_v1_pbmc_5k_possorted_bam.AAACGAAAGTTACACC-1.dedup.st.bam 0.3422293\n",
       "../../input/sc-bams_nodup//atac_v1_pbmc_5k_possorted_bam.AAACGAACAGAGATGC-1.dedup.st.bam 0.2932577"
      ]
     },
     "metadata": {},
     "output_type": "display_data"
    }
   ],
   "source": [
    "dim(InSilicoCell2LandmarkCorrelation)\n",
    "InSilicoCell2LandmarkCorrelation[1:5,1:5]"
   ]
  },
  {
   "cell_type": "code",
   "execution_count": 28,
   "metadata": {},
   "outputs": [],
   "source": [
    "InSilicoLandMarkAssignments_sorted <- InSilicoLandMarkAssignments[order(InSilicoLandMarkAssignments)]\n",
    "InSilicoCell2LandmarkCorrelation_sorted <- InSilicoCell2LandmarkCorrelation[names(InSilicoLandMarkAssignments_sorted),]"
   ]
  },
  {
   "cell_type": "code",
   "execution_count": 29,
   "metadata": {},
   "outputs": [
    {
     "data": {
      "text/html": [
       "<table>\n",
       "<tbody>\n",
       "\t<tr><th scope=row>../../input/sc-bams_nodup//atac_v1_pbmc_5k_possorted_bam.AAACGAATCGACTATG-1.dedup.st.bam</th><td>0.4007094 </td><td>0.3885342 </td><td>0.3864865 </td><td>0.3515307 </td><td>0.3564914 </td><td>0.12570230</td><td>0.3935716 </td><td>0.4013180 </td></tr>\n",
       "\t<tr><th scope=row>../../input/sc-bams_nodup//atac_v1_pbmc_5k_possorted_bam.AAACGAATCGCAAGCC-1.dedup.st.bam</th><td>0.4262815 </td><td>0.4058859 </td><td>0.3980693 </td><td>0.3652951 </td><td>0.3698605 </td><td>0.11162475</td><td>0.4112844 </td><td>0.4222817 </td></tr>\n",
       "\t<tr><th scope=row>../../input/sc-bams_nodup//atac_v1_pbmc_5k_possorted_bam.AAACTCGAGGGTCCCT-1.dedup.st.bam</th><td>0.4199087 </td><td>0.4105926 </td><td>0.4037425 </td><td>0.3760156 </td><td>0.3805554 </td><td>0.12551001</td><td>0.4169034 </td><td>0.4180284 </td></tr>\n",
       "\t<tr><th scope=row>../../input/sc-bams_nodup//atac_v1_pbmc_5k_possorted_bam.AAACTGCAGAGCAGCT-1.dedup.st.bam</th><td>0.2931019 </td><td>0.2788678 </td><td>0.2882370 </td><td>0.2447565 </td><td>0.2488058 </td><td>0.07672441</td><td>0.2851668 </td><td>0.2930569 </td></tr>\n",
       "\t<tr><th scope=row>../../input/sc-bams_nodup//atac_v1_pbmc_5k_possorted_bam.AAACTGCTCGAGCGCT-1.dedup.st.bam</th><td>0.4132854 </td><td>0.3963544 </td><td>0.3878792 </td><td>0.3598486 </td><td>0.3659756 </td><td>0.10031557</td><td>0.4011866 </td><td>0.4079514 </td></tr>\n",
       "\t<tr><th scope=row>../../input/sc-bams_nodup//atac_v1_pbmc_5k_possorted_bam.AAATGAGAGAAATTCG-1.dedup.st.bam</th><td>0.4093883 </td><td>0.3857906 </td><td>0.3858714 </td><td>0.3567724 </td><td>0.3616261 </td><td>0.10939633</td><td>0.3936608 </td><td>0.4046630 </td></tr>\n",
       "</tbody>\n",
       "</table>\n"
      ],
      "text/latex": [
       "\\begin{tabular}{r|llllllll}\n",
       "\t../../input/sc-bams\\_nodup//atac\\_v1\\_pbmc\\_5k\\_possorted\\_bam.AAACGAATCGACTATG-1.dedup.st.bam & 0.4007094  & 0.3885342  & 0.3864865  & 0.3515307  & 0.3564914  & 0.12570230 & 0.3935716  & 0.4013180 \\\\\n",
       "\t../../input/sc-bams\\_nodup//atac\\_v1\\_pbmc\\_5k\\_possorted\\_bam.AAACGAATCGCAAGCC-1.dedup.st.bam & 0.4262815  & 0.4058859  & 0.3980693  & 0.3652951  & 0.3698605  & 0.11162475 & 0.4112844  & 0.4222817 \\\\\n",
       "\t../../input/sc-bams\\_nodup//atac\\_v1\\_pbmc\\_5k\\_possorted\\_bam.AAACTCGAGGGTCCCT-1.dedup.st.bam & 0.4199087  & 0.4105926  & 0.4037425  & 0.3760156  & 0.3805554  & 0.12551001 & 0.4169034  & 0.4180284 \\\\\n",
       "\t../../input/sc-bams\\_nodup//atac\\_v1\\_pbmc\\_5k\\_possorted\\_bam.AAACTGCAGAGCAGCT-1.dedup.st.bam & 0.2931019  & 0.2788678  & 0.2882370  & 0.2447565  & 0.2488058  & 0.07672441 & 0.2851668  & 0.2930569 \\\\\n",
       "\t../../input/sc-bams\\_nodup//atac\\_v1\\_pbmc\\_5k\\_possorted\\_bam.AAACTGCTCGAGCGCT-1.dedup.st.bam & 0.4132854  & 0.3963544  & 0.3878792  & 0.3598486  & 0.3659756  & 0.10031557 & 0.4011866  & 0.4079514 \\\\\n",
       "\t../../input/sc-bams\\_nodup//atac\\_v1\\_pbmc\\_5k\\_possorted\\_bam.AAATGAGAGAAATTCG-1.dedup.st.bam & 0.4093883  & 0.3857906  & 0.3858714  & 0.3567724  & 0.3616261  & 0.10939633 & 0.3936608  & 0.4046630 \\\\\n",
       "\\end{tabular}\n"
      ],
      "text/markdown": [
       "\n",
       "| ../../input/sc-bams_nodup//atac_v1_pbmc_5k_possorted_bam.AAACGAATCGACTATG-1.dedup.st.bam | 0.4007094  | 0.3885342  | 0.3864865  | 0.3515307  | 0.3564914  | 0.12570230 | 0.3935716  | 0.4013180  |\n",
       "| ../../input/sc-bams_nodup//atac_v1_pbmc_5k_possorted_bam.AAACGAATCGCAAGCC-1.dedup.st.bam | 0.4262815  | 0.4058859  | 0.3980693  | 0.3652951  | 0.3698605  | 0.11162475 | 0.4112844  | 0.4222817  |\n",
       "| ../../input/sc-bams_nodup//atac_v1_pbmc_5k_possorted_bam.AAACTCGAGGGTCCCT-1.dedup.st.bam | 0.4199087  | 0.4105926  | 0.4037425  | 0.3760156  | 0.3805554  | 0.12551001 | 0.4169034  | 0.4180284  |\n",
       "| ../../input/sc-bams_nodup//atac_v1_pbmc_5k_possorted_bam.AAACTGCAGAGCAGCT-1.dedup.st.bam | 0.2931019  | 0.2788678  | 0.2882370  | 0.2447565  | 0.2488058  | 0.07672441 | 0.2851668  | 0.2930569  |\n",
       "| ../../input/sc-bams_nodup//atac_v1_pbmc_5k_possorted_bam.AAACTGCTCGAGCGCT-1.dedup.st.bam | 0.4132854  | 0.3963544  | 0.3878792  | 0.3598486  | 0.3659756  | 0.10031557 | 0.4011866  | 0.4079514  |\n",
       "| ../../input/sc-bams_nodup//atac_v1_pbmc_5k_possorted_bam.AAATGAGAGAAATTCG-1.dedup.st.bam | 0.4093883  | 0.3857906  | 0.3858714  | 0.3567724  | 0.3616261  | 0.10939633 | 0.3936608  | 0.4046630  |\n",
       "\n"
      ],
      "text/plain": [
       "                                                                                         [,1]     \n",
       "../../input/sc-bams_nodup//atac_v1_pbmc_5k_possorted_bam.AAACGAATCGACTATG-1.dedup.st.bam 0.4007094\n",
       "../../input/sc-bams_nodup//atac_v1_pbmc_5k_possorted_bam.AAACGAATCGCAAGCC-1.dedup.st.bam 0.4262815\n",
       "../../input/sc-bams_nodup//atac_v1_pbmc_5k_possorted_bam.AAACTCGAGGGTCCCT-1.dedup.st.bam 0.4199087\n",
       "../../input/sc-bams_nodup//atac_v1_pbmc_5k_possorted_bam.AAACTGCAGAGCAGCT-1.dedup.st.bam 0.2931019\n",
       "../../input/sc-bams_nodup//atac_v1_pbmc_5k_possorted_bam.AAACTGCTCGAGCGCT-1.dedup.st.bam 0.4132854\n",
       "../../input/sc-bams_nodup//atac_v1_pbmc_5k_possorted_bam.AAATGAGAGAAATTCG-1.dedup.st.bam 0.4093883\n",
       "                                                                                         [,2]     \n",
       "../../input/sc-bams_nodup//atac_v1_pbmc_5k_possorted_bam.AAACGAATCGACTATG-1.dedup.st.bam 0.3885342\n",
       "../../input/sc-bams_nodup//atac_v1_pbmc_5k_possorted_bam.AAACGAATCGCAAGCC-1.dedup.st.bam 0.4058859\n",
       "../../input/sc-bams_nodup//atac_v1_pbmc_5k_possorted_bam.AAACTCGAGGGTCCCT-1.dedup.st.bam 0.4105926\n",
       "../../input/sc-bams_nodup//atac_v1_pbmc_5k_possorted_bam.AAACTGCAGAGCAGCT-1.dedup.st.bam 0.2788678\n",
       "../../input/sc-bams_nodup//atac_v1_pbmc_5k_possorted_bam.AAACTGCTCGAGCGCT-1.dedup.st.bam 0.3963544\n",
       "../../input/sc-bams_nodup//atac_v1_pbmc_5k_possorted_bam.AAATGAGAGAAATTCG-1.dedup.st.bam 0.3857906\n",
       "                                                                                         [,3]     \n",
       "../../input/sc-bams_nodup//atac_v1_pbmc_5k_possorted_bam.AAACGAATCGACTATG-1.dedup.st.bam 0.3864865\n",
       "../../input/sc-bams_nodup//atac_v1_pbmc_5k_possorted_bam.AAACGAATCGCAAGCC-1.dedup.st.bam 0.3980693\n",
       "../../input/sc-bams_nodup//atac_v1_pbmc_5k_possorted_bam.AAACTCGAGGGTCCCT-1.dedup.st.bam 0.4037425\n",
       "../../input/sc-bams_nodup//atac_v1_pbmc_5k_possorted_bam.AAACTGCAGAGCAGCT-1.dedup.st.bam 0.2882370\n",
       "../../input/sc-bams_nodup//atac_v1_pbmc_5k_possorted_bam.AAACTGCTCGAGCGCT-1.dedup.st.bam 0.3878792\n",
       "../../input/sc-bams_nodup//atac_v1_pbmc_5k_possorted_bam.AAATGAGAGAAATTCG-1.dedup.st.bam 0.3858714\n",
       "                                                                                         [,4]     \n",
       "../../input/sc-bams_nodup//atac_v1_pbmc_5k_possorted_bam.AAACGAATCGACTATG-1.dedup.st.bam 0.3515307\n",
       "../../input/sc-bams_nodup//atac_v1_pbmc_5k_possorted_bam.AAACGAATCGCAAGCC-1.dedup.st.bam 0.3652951\n",
       "../../input/sc-bams_nodup//atac_v1_pbmc_5k_possorted_bam.AAACTCGAGGGTCCCT-1.dedup.st.bam 0.3760156\n",
       "../../input/sc-bams_nodup//atac_v1_pbmc_5k_possorted_bam.AAACTGCAGAGCAGCT-1.dedup.st.bam 0.2447565\n",
       "../../input/sc-bams_nodup//atac_v1_pbmc_5k_possorted_bam.AAACTGCTCGAGCGCT-1.dedup.st.bam 0.3598486\n",
       "../../input/sc-bams_nodup//atac_v1_pbmc_5k_possorted_bam.AAATGAGAGAAATTCG-1.dedup.st.bam 0.3567724\n",
       "                                                                                         [,5]     \n",
       "../../input/sc-bams_nodup//atac_v1_pbmc_5k_possorted_bam.AAACGAATCGACTATG-1.dedup.st.bam 0.3564914\n",
       "../../input/sc-bams_nodup//atac_v1_pbmc_5k_possorted_bam.AAACGAATCGCAAGCC-1.dedup.st.bam 0.3698605\n",
       "../../input/sc-bams_nodup//atac_v1_pbmc_5k_possorted_bam.AAACTCGAGGGTCCCT-1.dedup.st.bam 0.3805554\n",
       "../../input/sc-bams_nodup//atac_v1_pbmc_5k_possorted_bam.AAACTGCAGAGCAGCT-1.dedup.st.bam 0.2488058\n",
       "../../input/sc-bams_nodup//atac_v1_pbmc_5k_possorted_bam.AAACTGCTCGAGCGCT-1.dedup.st.bam 0.3659756\n",
       "../../input/sc-bams_nodup//atac_v1_pbmc_5k_possorted_bam.AAATGAGAGAAATTCG-1.dedup.st.bam 0.3616261\n",
       "                                                                                         [,6]      \n",
       "../../input/sc-bams_nodup//atac_v1_pbmc_5k_possorted_bam.AAACGAATCGACTATG-1.dedup.st.bam 0.12570230\n",
       "../../input/sc-bams_nodup//atac_v1_pbmc_5k_possorted_bam.AAACGAATCGCAAGCC-1.dedup.st.bam 0.11162475\n",
       "../../input/sc-bams_nodup//atac_v1_pbmc_5k_possorted_bam.AAACTCGAGGGTCCCT-1.dedup.st.bam 0.12551001\n",
       "../../input/sc-bams_nodup//atac_v1_pbmc_5k_possorted_bam.AAACTGCAGAGCAGCT-1.dedup.st.bam 0.07672441\n",
       "../../input/sc-bams_nodup//atac_v1_pbmc_5k_possorted_bam.AAACTGCTCGAGCGCT-1.dedup.st.bam 0.10031557\n",
       "../../input/sc-bams_nodup//atac_v1_pbmc_5k_possorted_bam.AAATGAGAGAAATTCG-1.dedup.st.bam 0.10939633\n",
       "                                                                                         [,7]     \n",
       "../../input/sc-bams_nodup//atac_v1_pbmc_5k_possorted_bam.AAACGAATCGACTATG-1.dedup.st.bam 0.3935716\n",
       "../../input/sc-bams_nodup//atac_v1_pbmc_5k_possorted_bam.AAACGAATCGCAAGCC-1.dedup.st.bam 0.4112844\n",
       "../../input/sc-bams_nodup//atac_v1_pbmc_5k_possorted_bam.AAACTCGAGGGTCCCT-1.dedup.st.bam 0.4169034\n",
       "../../input/sc-bams_nodup//atac_v1_pbmc_5k_possorted_bam.AAACTGCAGAGCAGCT-1.dedup.st.bam 0.2851668\n",
       "../../input/sc-bams_nodup//atac_v1_pbmc_5k_possorted_bam.AAACTGCTCGAGCGCT-1.dedup.st.bam 0.4011866\n",
       "../../input/sc-bams_nodup//atac_v1_pbmc_5k_possorted_bam.AAATGAGAGAAATTCG-1.dedup.st.bam 0.3936608\n",
       "                                                                                         [,8]     \n",
       "../../input/sc-bams_nodup//atac_v1_pbmc_5k_possorted_bam.AAACGAATCGACTATG-1.dedup.st.bam 0.4013180\n",
       "../../input/sc-bams_nodup//atac_v1_pbmc_5k_possorted_bam.AAACGAATCGCAAGCC-1.dedup.st.bam 0.4222817\n",
       "../../input/sc-bams_nodup//atac_v1_pbmc_5k_possorted_bam.AAACTCGAGGGTCCCT-1.dedup.st.bam 0.4180284\n",
       "../../input/sc-bams_nodup//atac_v1_pbmc_5k_possorted_bam.AAACTGCAGAGCAGCT-1.dedup.st.bam 0.2930569\n",
       "../../input/sc-bams_nodup//atac_v1_pbmc_5k_possorted_bam.AAACTGCTCGAGCGCT-1.dedup.st.bam 0.4079514\n",
       "../../input/sc-bams_nodup//atac_v1_pbmc_5k_possorted_bam.AAATGAGAGAAATTCG-1.dedup.st.bam 0.4046630"
      ]
     },
     "metadata": {},
     "output_type": "display_data"
    }
   ],
   "source": [
    "head(InSilicoCell2LandmarkCorrelation_sorted)"
   ]
  },
  {
   "cell_type": "code",
   "execution_count": 30,
   "metadata": {},
   "outputs": [
    {
     "data": {
      "text/html": [
       "<ol class=list-inline>\n",
       "\t<li>'AAACGAATCGACTATG-1'</li>\n",
       "\t<li>'AAACGAATCGCAAGCC-1'</li>\n",
       "\t<li>'AAACTCGAGGGTCCCT-1'</li>\n",
       "\t<li>'AAACTGCAGAGCAGCT-1'</li>\n",
       "\t<li>'AAACTGCTCGAGCGCT-1'</li>\n",
       "\t<li>'AAATGAGAGAAATTCG-1'</li>\n",
       "</ol>\n"
      ],
      "text/latex": [
       "\\begin{enumerate*}\n",
       "\\item 'AAACGAATCGACTATG-1'\n",
       "\\item 'AAACGAATCGCAAGCC-1'\n",
       "\\item 'AAACTCGAGGGTCCCT-1'\n",
       "\\item 'AAACTGCAGAGCAGCT-1'\n",
       "\\item 'AAACTGCTCGAGCGCT-1'\n",
       "\\item 'AAATGAGAGAAATTCG-1'\n",
       "\\end{enumerate*}\n"
      ],
      "text/markdown": [
       "1. 'AAACGAATCGACTATG-1'\n",
       "2. 'AAACGAATCGCAAGCC-1'\n",
       "3. 'AAACTCGAGGGTCCCT-1'\n",
       "4. 'AAACTGCAGAGCAGCT-1'\n",
       "5. 'AAACTGCTCGAGCGCT-1'\n",
       "6. 'AAATGAGAGAAATTCG-1'\n",
       "\n",
       "\n"
      ],
      "text/plain": [
       "[1] \"AAACGAATCGACTATG-1\" \"AAACGAATCGCAAGCC-1\" \"AAACTCGAGGGTCCCT-1\"\n",
       "[4] \"AAACTGCAGAGCAGCT-1\" \"AAACTGCTCGAGCGCT-1\" \"AAATGAGAGAAATTCG-1\""
      ]
     },
     "metadata": {},
     "output_type": "display_data"
    },
    {
     "data": {
      "text/html": [
       "<ol class=list-inline>\n",
       "\t<li>6</li>\n",
       "\t<li>6</li>\n",
       "\t<li>3</li>\n",
       "\t<li>6</li>\n",
       "\t<li>3</li>\n",
       "\t<li>6</li>\n",
       "</ol>\n"
      ],
      "text/latex": [
       "\\begin{enumerate*}\n",
       "\\item 6\n",
       "\\item 6\n",
       "\\item 3\n",
       "\\item 6\n",
       "\\item 3\n",
       "\\item 6\n",
       "\\end{enumerate*}\n"
      ],
      "text/markdown": [
       "1. 6\n",
       "2. 6\n",
       "3. 3\n",
       "4. 6\n",
       "5. 3\n",
       "6. 6\n",
       "\n",
       "\n"
      ],
      "text/plain": [
       "[1] 6 6 3 6 3 6"
      ]
     },
     "metadata": {},
     "output_type": "display_data"
    }
   ],
   "source": [
    "cell.ids = sapply(strsplit(basename(names(InSilicoLandMarkAssignments_sorted)),'\\\\.'),'[', 2)\n",
    "head(cell.ids)\n",
    "cell.labels = metadata[cell.ids,'label']\n",
    "cell.info = match(metadata[cell.ids,'label'],unique(metadata[,'label']))\n",
    "head(cell.info)"
   ]
  },
  {
   "cell_type": "code",
   "execution_count": 31,
   "metadata": {},
   "outputs": [],
   "source": [
    "scalered <- colorRampPalette(c(\"white\", \"red\"), space = \"rgb\")(256)\n",
    "rcols1 = colorRampPalette(brewer.pal(8, \"Accent\"))(length(unique(metadata$label)))\n",
    "rowcols1 = rcols1[cell.info]\n",
    "rcols2 = colorRampPalette(brewer.pal(8, \"Dark2\"))(length(unique(metadata$label)))\n",
    "rowcols2 = rcols2[InSilicoLandMarkAssignments_sorted]\n",
    "rowcols = rbind(rowcols1, rowcols2)\n",
    "rownames(rowcols) = c(\"cell label\", \"cluster\")"
   ]
  },
  {
   "cell_type": "code",
   "execution_count": 32,
   "metadata": {},
   "outputs": [
    {
     "data": {
      "text/html": [
       "<table>\n",
       "<tbody>\n",
       "\t<tr><th scope=row>cell label</th><td>#F0027F</td><td>#F0027F</td><td>#FDC086</td><td>#F0027F</td><td>#FDC086</td></tr>\n",
       "\t<tr><th scope=row>cluster</th><td>#1B9E77</td><td>#1B9E77</td><td>#1B9E77</td><td>#1B9E77</td><td>#1B9E77</td></tr>\n",
       "</tbody>\n",
       "</table>\n"
      ],
      "text/latex": [
       "\\begin{tabular}{r|lllll}\n",
       "\tcell label & \\#F0027F & \\#F0027F & \\#FDC086 & \\#F0027F & \\#FDC086\\\\\n",
       "\tcluster & \\#1B9E77 & \\#1B9E77 & \\#1B9E77 & \\#1B9E77 & \\#1B9E77\\\\\n",
       "\\end{tabular}\n"
      ],
      "text/markdown": [
       "\n",
       "| cell label | #F0027F | #F0027F | #FDC086 | #F0027F | #FDC086 |\n",
       "| cluster | #1B9E77 | #1B9E77 | #1B9E77 | #1B9E77 | #1B9E77 |\n",
       "\n"
      ],
      "text/plain": [
       "           [,1]    [,2]    [,3]    [,4]    [,5]   \n",
       "cell label #F0027F #F0027F #FDC086 #F0027F #FDC086\n",
       "cluster    #1B9E77 #1B9E77 #1B9E77 #1B9E77 #1B9E77"
      ]
     },
     "metadata": {},
     "output_type": "display_data"
    }
   ],
   "source": [
    "rowcols[,1:5]"
   ]
  },
  {
   "cell_type": "code",
   "execution_count": 33,
   "metadata": {},
   "outputs": [
    {
     "data": {
      "image/png": "[encoded data removed]",
      "text/plain": [
       "Plot with title “Color Key”"
      ]
     },
     "metadata": {},
     "output_type": "display_data"
    }
   ],
   "source": [
    "heatmap.3(InSilicoCell2LandmarkCorrelation_sorted, dendrogram='none', Rowv=FALSE, Colv=FALSE,\n",
    "          trace='none', col = scalered, margin = c(5, 5), density.info = \"none\", \n",
    "          RowSideColors = rowcols, RowSideColorsSize=2, symm=F,symkey=F,\n",
    "          symbreaks=F, scale=\"none\")\n",
    "legend(\"bottomleft\", legend = c(unique(cell.labels), paste0(\"cluster \", 1:length(unique(metadata$label)))), \n",
    "       col = c(rcols1, rcols2), border=FALSE, bty=\"n\", y.intersp = 0.7, cex=0.7, pch = 15)"
   ]
  },
  {
   "cell_type": "code",
   "execution_count": null,
   "metadata": {},
   "outputs": [],
   "source": []
  },
  {
   "cell_type": "code",
   "execution_count": 34,
   "metadata": {},
   "outputs": [
    {
     "data": {
      "text/plain": [
       "R version 3.5.1 (2018-07-02)\n",
       "Platform: x86_64-conda_cos6-linux-gnu (64-bit)\n",
       "Running under: CentOS Linux 7 (Core)\n",
       "\n",
       "Matrix products: default\n",
       "BLAS/LAPACK: /data/pinello/SHARED_SOFTWARE/anaconda3/envs/ATACseq_scABC/lib/R/lib/libRblas.so\n",
       "\n",
       "locale:\n",
       " [1] LC_CTYPE=en_US.UTF-8       LC_NUMERIC=C              \n",
       " [3] LC_TIME=en_US.UTF-8        LC_COLLATE=en_US.UTF-8    \n",
       " [5] LC_MONETARY=en_US.UTF-8    LC_MESSAGES=en_US.UTF-8   \n",
       " [7] LC_PAPER=en_US.UTF-8       LC_NAME=C                 \n",
       " [9] LC_ADDRESS=C               LC_TELEPHONE=C            \n",
       "[11] LC_MEASUREMENT=en_US.UTF-8 LC_IDENTIFICATION=C       \n",
       "\n",
       "attached base packages:\n",
       "[1] parallel  stats4    stats     graphics  grDevices utils     datasets \n",
       "[8] methods   base     \n",
       "\n",
       "other attached packages:\n",
       " [1] usethis_1.4.0        devtools_2.0.1       RColorBrewer_1.1-2  \n",
       " [4] gplots_3.0.1.1       Matrix_1.2-17        forcats_0.4.0       \n",
       " [7] stringr_1.4.0        purrr_0.3.2          readr_1.3.1         \n",
       "[10] tidyr_0.8.3          tibble_2.1.1         ggplot2_3.1.0       \n",
       "[13] tidyverse_1.2.1      dplyr_0.8.0.1        data.table_1.12.0   \n",
       "[16] Rsamtools_1.34.1     Biostrings_2.50.2    XVector_0.22.0      \n",
       "[19] scABC_0.99.0         GenomicRanges_1.34.0 GenomeInfoDb_1.18.2 \n",
       "[22] IRanges_2.16.0       S4Vectors_0.20.1     BiocGenerics_0.28.0 \n",
       "\n",
       "loaded via a namespace (and not attached):\n",
       " [1] nlme_3.1-137           fs_1.2.7               bitops_1.0-6          \n",
       " [4] lubridate_1.7.4        httr_1.4.0             rprojroot_1.3-2       \n",
       " [7] repr_0.19.2            tools_3.5.1            backports_1.1.3       \n",
       "[10] R6_2.4.0               rpart_4.1-13           KernSmooth_2.23-15    \n",
       "[13] Hmisc_4.2-0            lazyeval_0.2.2         colorspace_1.4-1      \n",
       "[16] nnet_7.3-12            withr_2.1.2            prettyunits_1.0.2     \n",
       "[19] processx_3.3.0         tidyselect_0.2.5       gridExtra_2.3         \n",
       "[22] curl_3.3               compiler_3.5.1         cli_1.1.0             \n",
       "[25] rvest_0.3.2            htmlTable_1.13.1       xml2_1.2.0            \n",
       "[28] desc_1.2.0             caTools_1.17.1.2       scales_1.0.0          \n",
       "[31] checkmate_1.9.1        callr_3.2.0            pbdZMQ_0.3-3          \n",
       "[34] digest_0.6.18          foreign_0.8-71         base64enc_0.1-3       \n",
       "[37] pkgconfig_2.0.2        htmltools_0.3.6        sessioninfo_1.1.1     \n",
       "[40] htmlwidgets_1.3        rlang_0.3.3            readxl_1.3.1          \n",
       "[43] rstudioapi_0.10        generics_0.0.2         jsonlite_1.6          \n",
       "[46] BiocParallel_1.16.6    gtools_3.8.1           acepack_1.4.1         \n",
       "[49] RCurl_1.95-4.12        magrittr_1.5           GenomeInfoDbData_1.2.0\n",
       "[52] Formula_1.2-3          Rcpp_1.0.1             IRkernel_0.8.15       \n",
       "[55] munsell_0.5.0          stringi_1.4.3          zlibbioc_1.28.0       \n",
       "[58] pkgbuild_1.0.3         plyr_1.8.4             grid_3.5.1            \n",
       "[61] gdata_2.18.0           crayon_1.3.4           lattice_0.20-38       \n",
       "[64] IRdisplay_0.7.0        haven_2.1.0            splines_3.5.1         \n",
       "[67] TraMineR_2.0-11.1      hms_0.4.2              ps_1.3.0              \n",
       "[70] knitr_1.22             pillar_1.3.1           uuid_0.1-2            \n",
       "[73] boot_1.3-20            pkgload_1.0.2          glue_1.3.1            \n",
       "[76] evaluate_0.13          latticeExtra_0.6-28    remotes_2.0.2         \n",
       "[79] modelr_0.1.4           cellranger_1.1.0       gtable_0.3.0          \n",
       "[82] assertthat_0.2.1       xfun_0.6               broom_0.5.1           \n",
       "[85] survival_2.44-1.1      memoise_1.1.0          cluster_2.0.7-1       \n",
       "[88] WeightedCluster_1.4   "
      ]
     },
     "metadata": {},
     "output_type": "display_data"
    }
   ],
   "source": [
    "sessionInfo()"
   ]
  },
  {
   "cell_type": "code",
   "execution_count": 35,
   "metadata": {},
   "outputs": [],
   "source": [
    "save.image(file = 'scABC_10xpbmc5k.RData')"
   ]
  },
  {
   "cell_type": "code",
   "execution_count": null,
   "metadata": {},
   "outputs": [],
   "source": []
  }
 ],
 "metadata": {
  "kernelspec": {
   "display_name": "R [conda env:ATACseq_scABC]",
   "language": "R",
   "name": "conda-env-ATACseq_scABC-r"
  },
  "language_info": {
   "codemirror_mode": "r",
   "file_extension": ".r",
   "mimetype": "text/x-r-source",
   "name": "R",
   "pygments_lexer": "r",
   "version": "3.5.1"
  }
 },
 "nbformat": 4,
 "nbformat_minor": 2
}
