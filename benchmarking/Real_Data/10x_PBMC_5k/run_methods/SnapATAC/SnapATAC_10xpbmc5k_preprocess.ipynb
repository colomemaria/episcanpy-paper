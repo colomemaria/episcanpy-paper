{
 "cells": [
  {
   "cell_type": "markdown",
   "metadata": {},
   "source": [
    "#### extract the header file"
   ]
  },
  {
   "cell_type": "markdown",
   "metadata": {},
   "source": [
    "`samtools view ../../input/atac_v1_pbmc_5k_possorted_bam.bam -H > atac_v1_pbmc_5k_possorted_bam.header.sam`"
   ]
  },
  {
   "cell_type": "code",
   "execution_count": null,
   "metadata": {},
   "outputs": [],
   "source": []
  },
  {
   "cell_type": "markdown",
   "metadata": {},
   "source": [
    "#### create a bam file with the barcode embedded into the read name"
   ]
  },
  {
   "cell_type": "markdown",
   "metadata": {},
   "source": [
    "`cat <( cat atac_v1_pbmc_5k_possorted_bam.header.sam ) \\\n",
    "<( samtools view ../../input/atac_v1_pbmc_5k_possorted_bam.bam | awk '{for (i=12; i<=NF; ++i) { if ($i ~ \"^CB:Z:\"){ td[substr($i,1,2)] = substr($i,6,length($i)-5); } }; printf \"%s:%s\\n\", td[\"CB\"], $0 }' ) \\\n",
    "| samtools view -bS - > 10xpbmc5k.snap.bam`"
   ]
  },
  {
   "cell_type": "markdown",
   "metadata": {},
   "source": [
    "`samtools view 10xpbmc5k.snap.bam | cut -f 1 | head`"
   ]
  },
  {
   "cell_type": "code",
   "execution_count": null,
   "metadata": {},
   "outputs": [],
   "source": []
  },
  {
   "cell_type": "markdown",
   "metadata": {},
   "source": [
    "#### sort the bam file by read name:"
   ]
  },
  {
   "cell_type": "markdown",
   "metadata": {},
   "source": [
    "`$ samtools sort -n -@ 15 -m 1G 10xpbmc5k.snap.bam -o 10xpbmc5k.snap.nsrt.bam`"
   ]
  },
  {
   "cell_type": "code",
   "execution_count": null,
   "metadata": {},
   "outputs": [],
   "source": []
  }
 ],
 "metadata": {
  "kernelspec": {
   "display_name": "Python 3",
   "language": "python",
   "name": "python3"
  },
  "language_info": {
   "codemirror_mode": {
    "name": "ipython",
    "version": 3
   },
   "file_extension": ".py",
   "mimetype": "text/x-python",
   "name": "python",
   "nbconvert_exporter": "python",
   "pygments_lexer": "ipython3",
   "version": "3.6.6"
  }
 },
 "nbformat": 4,
 "nbformat_minor": 2
}
