{
 "cells": [
  {
   "cell_type": "code",
   "execution_count": null,
   "metadata": {},
   "outputs": [],
   "source": [
    "import anndata as ad\n",
    "import episcanpy.api as epi\n",
    "import pandas as pd\n",
    "import scanpy as sc\n",
    "import numpy as np\n",
    "import seaborn as sns\n",
    "import time\n",
    "\n",
    "import episcanpy\n",
    "print(episcanpy.__version__)"
   ]
  },
  {
   "cell_type": "code",
   "execution_count": null,
   "metadata": {},
   "outputs": [],
   "source": [
    "# download the data from 10x website\n",
    "!wget http://cf.10xgenomics.com/samples/cell-atac/1.0.1/atac_v1_pbmc_5k/atac_v1_pbmc_5k_fragments.tsv.gz\n",
    "!wget http://cf.10xgenomics.com/samples/cell-atac/1.0.1/atac_v1_pbmc_5k/atac_v1_pbmc_5k_fragments.tsv.gz.tbi\n",
    "!wget http://cf.10xgenomics.com/samples/cell-atac/1.0.1/atac_v1_pbmc_5k/atac_v1_pbmc_5k_singlecell.csv\n",
    "!wget http://cf.10xgenomics.com/samples/cell-atac/1.0.1/atac_v1_pbmc_5k/atac_v1_pbmc_5k_peaks.bed"
   ]
  },
  {
   "cell_type": "code",
   "execution_count": null,
   "metadata": {},
   "outputs": [],
   "source": [
    "DATADIR = ''\n",
    "peak_file = 'atac_v1_pbmc_5k_peaks.bed' # annotation \n",
    "tsv_file = 'atac_v1_pbmc_5k_fragments.tsv.gz' # fragment file\n",
    "csv_file = 'atac_v1_pbmc_5k_singlecell.csv'  # to filter bad barcodes according to cellranger\n",
    "output_mtx = 'atac_v1_pbmc_5k_singlecell_peaks.h5ad'"
   ]
  },
  {
   "cell_type": "code",
   "execution_count": null,
   "metadata": {},
   "outputs": [],
   "source": [
    "all_CHR=['1', '2', '3', '4', '5', '6', '7', '8', '9', '10', '11', '12', '13', '14',\n",
    "         '15', '16', '17', '18', '19','20', '21', '22', 'X', 'Y', 'M']\n",
    "\n",
    "WINDOWFILE=peak_file\n",
    "BEDFILE = tsv_file\n",
    "OUTPUTPREFIX = 'atac_v1_pbmc_5k_singlecell_peaks_'\n",
    "\n",
    "chrom_windows = {}\n",
    "THREAD = 2\n",
    "#manager = Manager()\n",
    "#allmtx = manager.dict()\n",
    "\n",
    "\n",
    "for CHR in all_CHR:\n",
    "    gen_windows = {}\n",
    "    gen_windows[CHR] = []\n",
    "    file = open(WINDOWFILE)\n",
    "    for line in file:\n",
    "        ar = line.strip().split('\\t')\n",
    "        if ar[0] == ('chr' + CHR):\n",
    "            gen_windows[CHR].append([int(ar[1]), int(ar[2])])\n",
    "    chrom_windows[CHR] = {CHR: gen_windows[CHR]}"
   ]
  },
  {
   "cell_type": "code",
   "execution_count": null,
   "metadata": {},
   "outputs": [],
   "source": [
    "for CHR in all_CHR:\n",
    "    epi.ct.bld_mtx_fly(bed_file=BEDFILE,\n",
    "                annotation=chrom_windows[CHR],\n",
    "                chrom = CHR,\n",
    "                thread=6,\n",
    "                save=OUTPUTPREFIX+'_'+CHR+'.h5ad')"
   ]
  },
  {
   "cell_type": "code",
   "execution_count": null,
   "metadata": {},
   "outputs": [],
   "source": [
    "all_CHR=['1', '2', '3', '4', '5', '6', '7', '8', '9', '10', '11', '12', '13', '14',\n",
    "         '15', '16', '17', '18', '19','20', '21', '22', 'X', 'Y', 'M']\n",
    "adata = ad.read('atac_v1_pbmc_5k_singlecell_peaks__'+'1'+'.h5ad')\n",
    "adata = adata.transpose()\n",
    "print(adata)\n",
    "\n",
    "\n",
    "for chrom in all_CHR[1:-1]:\n",
    "    adata2 = ad.read('atac_v1_pbmc_5k_singlecell_peaks__'+chrom+'.h5ad')\n",
    "    adata2 = adata2.transpose()\n",
    "    adata = adata.concatenate(adata2)\n",
    "    adata.obs_names = [n.split('-')[0] for n in adata.obs_names.tolist()]\n",
    "    \n",
    "adata = adata.transpose()\n",
    "print(adata)\n",
    "\n",
    "adata.write('atac_v1_pbmc_5k_singlecell_peaks_all_chrom.h5ad')"
   ]
  },
  {
   "cell_type": "code",
   "execution_count": null,
   "metadata": {},
   "outputs": [],
   "source": []
  }
 ],
 "metadata": {
  "kernelspec": {
   "display_name": "Python 3",
   "language": "python",
   "name": "python3"
  },
  "language_info": {
   "codemirror_mode": {
    "name": "ipython",
    "version": 3
   },
   "file_extension": ".py",
   "mimetype": "text/x-python",
   "name": "python",
   "nbconvert_exporter": "python",
   "pygments_lexer": "ipython3",
   "version": "3.8.3"
  }
 },
 "nbformat": 4,
 "nbformat_minor": 4
}
