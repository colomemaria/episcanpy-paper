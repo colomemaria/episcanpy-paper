{
 "cells": [
  {
   "cell_type": "code",
   "execution_count": 7,
   "metadata": {},
   "outputs": [
    {
     "name": "stdout",
     "output_type": "stream",
     "text": [
      "0.1.7+7.g9c12d96\n"
     ]
    }
   ],
   "source": [
    "import anndata as ad\n",
    "import episcanpy.api as epi\n",
    "import pandas as pd\n",
    "import scanpy as sc\n",
    "import numpy as np\n",
    "import seaborn as sns\n",
    "import time\n",
    "\n",
    "import episcanpy\n",
    "print(episcanpy.__version__)"
   ]
  },
  {
   "cell_type": "markdown",
   "metadata": {},
   "source": [
    "# Make the count matrix"
   ]
  },
  {
   "cell_type": "code",
   "execution_count": 13,
   "metadata": {},
   "outputs": [
    {
     "name": "stdout",
     "output_type": "stream",
     "text": [
      "--2019-12-04 13:58:40--  http://cf.10xgenomics.com/samples/cell-atac/1.0.1/atac_v1_pbmc_5k/atac_v1_pbmc_5k_fragments.tsv.gz\n",
      "Resolving cf.10xgenomics.com (cf.10xgenomics.com)... 52.222.158.122, 52.222.158.126, 52.222.158.176, ...\n",
      "Connecting to cf.10xgenomics.com (cf.10xgenomics.com)|52.222.158.122|:80... connected.\n",
      "HTTP request sent, awaiting response... 200 OK\n",
      "Length: 978599242 (933M) [text/tab-separated-values]\n",
      "Saving to: 'atac_v1_pbmc_5k_fragments.tsv.gz'\n",
      "\n",
      "atac_v1_pbmc_5k_fra 100%[===================>] 933.26M  11.2MB/s    in 76s     \n",
      "\n",
      "2019-12-04 13:59:57 (12.3 MB/s) - 'atac_v1_pbmc_5k_fragments.tsv.gz' saved [978599242/978599242]\n",
      "\n",
      "--2019-12-04 13:59:57--  http://cf.10xgenomics.com/samples/cell-atac/1.0.1/atac_v1_pbmc_5k/atac_v1_pbmc_5k_fragments.tsv.gz.tbi\n",
      "Resolving cf.10xgenomics.com (cf.10xgenomics.com)... 143.204.214.26, 143.204.214.27, 143.204.214.38, ...\n",
      "Connecting to cf.10xgenomics.com (cf.10xgenomics.com)|143.204.214.26|:80... connected.\n",
      "HTTP request sent, awaiting response... 200 OK\n",
      "Length: 748103 (731K) [binary/octet-stream]\n",
      "Saving to: 'atac_v1_pbmc_5k_fragments.tsv.gz.tbi'\n",
      "\n",
      "atac_v1_pbmc_5k_fra 100%[===================>] 730.57K   911KB/s    in 0.8s    \n",
      "\n",
      "2019-12-04 13:59:59 (911 KB/s) - 'atac_v1_pbmc_5k_fragments.tsv.gz.tbi' saved [748103/748103]\n",
      "\n",
      "--2019-12-04 13:59:59--  http://cf.10xgenomics.com/samples/cell-atac/1.0.1/atac_v1_pbmc_5k/atac_v1_pbmc_5k_singlecell.csv\n",
      "Resolving cf.10xgenomics.com (cf.10xgenomics.com)... 143.204.214.26, 143.204.214.27, 143.204.214.38, ...\n",
      "Connecting to cf.10xgenomics.com (cf.10xgenomics.com)|143.204.214.26|:80... connected.\n",
      "HTTP request sent, awaiting response... 200 OK\n",
      "Length: 30350169 (29M) [text/csv]\n",
      "Saving to: 'atac_v1_pbmc_5k_singlecell.csv'\n",
      "\n",
      "atac_v1_pbmc_5k_sin 100%[===================>]  28.94M  13.4MB/s    in 2.2s    \n",
      "\n",
      "2019-12-04 14:00:02 (13.4 MB/s) - 'atac_v1_pbmc_5k_singlecell.csv' saved [30350169/30350169]\n",
      "\n",
      "--2019-12-04 14:00:02--  http://cf.10xgenomics.com/samples/cell-atac/1.0.1/atac_v1_pbmc_5k/atac_v1_pbmc_5k_peaks.bed\n",
      "Resolving cf.10xgenomics.com (cf.10xgenomics.com)... 143.204.214.26, 143.204.214.27, 143.204.214.38, ...\n",
      "Connecting to cf.10xgenomics.com (cf.10xgenomics.com)|143.204.214.26|:80... connected.\n",
      "HTTP request sent, awaiting response... 200 OK\n",
      "Length: 2341602 (2.2M) [binary/octet-stream]\n",
      "Saving to: 'atac_v1_pbmc_5k_peaks.bed'\n",
      "\n",
      "atac_v1_pbmc_5k_pea 100%[===================>]   2.23M  1.91MB/s    in 1.2s    \n",
      "\n",
      "2019-12-04 14:00:04 (1.91 MB/s) - 'atac_v1_pbmc_5k_peaks.bed' saved [2341602/2341602]\n",
      "\n"
     ]
    }
   ],
   "source": [
    "# download the data from 10x website\n",
    "!wget http://cf.10xgenomics.com/samples/cell-atac/1.0.1/atac_v1_pbmc_5k/atac_v1_pbmc_5k_fragments.tsv.gz\n",
    "!wget http://cf.10xgenomics.com/samples/cell-atac/1.0.1/atac_v1_pbmc_5k/atac_v1_pbmc_5k_fragments.tsv.gz.tbi\n",
    "!wget http://cf.10xgenomics.com/samples/cell-atac/1.0.1/atac_v1_pbmc_5k/atac_v1_pbmc_5k_singlecell.csv\n",
    "!wget http://cf.10xgenomics.com/samples/cell-atac/1.0.1/atac_v1_pbmc_5k/atac_v1_pbmc_5k_peaks.bed"
   ]
  },
  {
   "cell_type": "code",
   "execution_count": 3,
   "metadata": {},
   "outputs": [],
   "source": [
    "DATADIR = ''\n",
    "peak_file = 'atac_v1_pbmc_5k_peaks.bed' # annotation \n",
    "tsv_file = 'atac_v1_pbmc_5k_fragments.tsv.gz' # fragment file\n",
    "csv_file = 'atac_v1_pbmc_5k_singlecell.csv'  # to filter bad barcodes according to cellranger\n",
    "output_mtx = 'atac_v1_pbmc_5k_singlecell_peaks.h5ad'"
   ]
  },
  {
   "cell_type": "code",
   "execution_count": 4,
   "metadata": {},
   "outputs": [
    {
     "name": "stdout",
     "output_type": "stream",
     "text": [
      "loading and filtering the barcodes\n",
      "building the count matrix\n",
      "making the AnnData\n",
      "11750.689690113068\n",
      "195.84482816855112\n"
     ]
    }
   ],
   "source": [
    "start = time.time()\n",
    "\n",
    "# loading the peaks\n",
    "peaks = []\n",
    "with open(DATADIR+peak_file) as f:\n",
    "    for line in f:\n",
    "        line = line.rstrip('\\n').split('\\t')\n",
    "        peaks.append([line[0], int(line[1]), int(line[2])])\n",
    "        \n",
    "# build the count matrix with all barcodes passing cellranger quality control\n",
    "adata = epi.ct.bld_mtx_fly(tsv_file=tsv_file,\n",
    "            annotation=peaks,\n",
    "            csv_file=csv_file,\n",
    "            genome=None,\n",
    "            DATADIR=DATADIR, \n",
    "            save=output_mtx)\n",
    "\n",
    "end = time.time()\n",
    "print(end - start)\n",
    "print((end - start)/60)"
   ]
  },
  {
   "cell_type": "code",
   "execution_count": 6,
   "metadata": {},
   "outputs": [
    {
     "data": {
      "text/plain": [
       "AnnData object with n_obs × n_vars = 5335 × 97998 \n",
       "    obs: 'cell_label'"
      ]
     },
     "execution_count": 6,
     "metadata": {},
     "output_type": "execute_result"
    }
   ],
   "source": [
    "annotation = '../../input/metadata.tsv'\n",
    "df= pd.read_csv(annotation, sep='\\t')\n",
    "\n",
    "##############\n",
    "annot_barcode = df.iloc[:,0].tolist()\n",
    "annot_label = df.iloc[:,1].tolist()\n",
    "#############\n",
    "cell_barcodes = adata.obs_names.tolist()\n",
    "#############\n",
    "cell_label = []\n",
    "\n",
    "for cell in cell_barcodes:\n",
    "    if cell not in annot_barcode:\n",
    "        print(cell)\n",
    "        break\n",
    "    index = 0\n",
    "    for cell2 in annot_barcode:\n",
    "        if cell == cell2:\n",
    "            cell_label.append(annot_label[index])\n",
    "            break\n",
    "        index += 1\n",
    "#############\n",
    "adata.obs['cell_label'] = [str(x) for x in cell_label]\n",
    "adata"
   ]
  },
  {
   "cell_type": "code",
   "execution_count": null,
   "metadata": {},
   "outputs": [],
   "source": []
  },
  {
   "cell_type": "markdown",
   "metadata": {},
   "source": [
    "# Downstream Analysis"
   ]
  },
  {
   "cell_type": "code",
   "execution_count": null,
   "metadata": {},
   "outputs": [],
   "source": []
  },
  {
   "cell_type": "code",
   "execution_count": null,
   "metadata": {},
   "outputs": [],
   "source": []
  },
  {
   "cell_type": "code",
   "execution_count": null,
   "metadata": {},
   "outputs": [],
   "source": []
  }
 ],
 "metadata": {
  "kernelspec": {
   "display_name": "Python 3",
   "language": "python",
   "name": "python3"
  },
  "language_info": {
   "codemirror_mode": {
    "name": "ipython",
    "version": 3
   },
   "file_extension": ".py",
   "mimetype": "text/x-python",
   "name": "python",
   "nbconvert_exporter": "python",
   "pygments_lexer": "ipython3",
   "version": "3.7.3"
  }
 },
 "nbformat": 4,
 "nbformat_minor": 2
}
