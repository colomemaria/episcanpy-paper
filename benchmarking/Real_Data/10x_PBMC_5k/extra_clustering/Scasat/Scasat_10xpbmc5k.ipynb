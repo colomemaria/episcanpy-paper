{
 "cells": [
  {
   "cell_type": "markdown",
   "metadata": {},
   "source": [
    "### Import packages"
   ]
  },
  {
   "cell_type": "code",
   "execution_count": 1,
   "metadata": {},
   "outputs": [
    {
     "name": "stderr",
     "output_type": "stream",
     "text": [
      "Loading required package: MASS\n",
      "Loading required package: mclust\n",
      "Package 'mclust' version 5.4.3\n",
      "Type 'citation(\"mclust\")' for citing this R package in publications.\n"
     ]
    }
   ],
   "source": [
    "library(prabclus)\n",
    "library(Matrix)\n",
    "library(Rtsne)\n",
    "library(ggplot2) "
   ]
  },
  {
   "cell_type": "markdown",
   "metadata": {},
   "source": [
    "### Load Data"
   ]
  },
  {
   "cell_type": "code",
   "execution_count": 2,
   "metadata": {},
   "outputs": [],
   "source": [
    "load(file = '../../run_methods/Scasat/Scasat_10xpbmc5k.RData')"
   ]
  },
  {
   "cell_type": "markdown",
   "metadata": {},
   "source": [
    "### Cluster Cells"
   ]
  },
  {
   "cell_type": "code",
   "execution_count": 3,
   "metadata": {
    "scrolled": false
   },
   "outputs": [],
   "source": [
    "set.seed(2019)\n",
    "\n",
    "my.dist <- as.dist(getJaccardDist(cdBinary))\n",
    "my.tree <- hclust(my.dist, method = \"ward.D2\")\n",
    "#library(dynamicTreeCut)\n",
    "#my.clusters <- unname(cutreeDynamic(my.tree, distM=as.matrix(my.dist), verbose=0))\n",
    "nClusters = length(levels(as.factor(metadata$label)))\n",
    "df_pre = data.frame('Scasat'=cutree(my.tree,nClusters))\n",
    "\n",
    "df_pre$ord = 1:nrow(df_pre)\n",
    "df_pre = df_pre[as.character(rownames(metadata)),]\n",
    "df_out = data.frame('Scasat'=df_pre[,'Scasat'])\n",
    "rownames(df_out) = rownames(df_pre)\n",
    "\n",
    "write.table(df_out,file=\"clusteringSolution.tsv\", quote=FALSE, sep='\\t', col.names = NA)"
   ]
  }
 ],
 "metadata": {
  "kernelspec": {
   "display_name": "R [conda env:ATACseq_scasat]",
   "language": "R",
   "name": "conda-env-ATACseq_scasat-r"
  },
  "language_info": {
   "codemirror_mode": "r",
   "file_extension": ".r",
   "mimetype": "text/x-r-source",
   "name": "R",
   "pygments_lexer": "r",
   "version": "3.5.1"
  }
 },
 "nbformat": 4,
 "nbformat_minor": 2
}
