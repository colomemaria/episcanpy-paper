{
 "cells": [
  {
   "cell_type": "code",
   "execution_count": 1,
   "metadata": {},
   "outputs": [],
   "source": [
    "import pandas as pd\n",
    "import numpy as np\n",
    "import scanpy as sc\n",
    "import os\n",
    "from sklearn.cluster import KMeans\n",
    "from sklearn.cluster import AgglomerativeClustering\n",
    "from sklearn.metrics.cluster import adjusted_rand_score\n",
    "from sklearn.metrics.cluster import adjusted_mutual_info_score\n",
    "from sklearn.metrics.cluster import homogeneity_score\n",
    "import rpy2.robjects as robjects\n",
    "from rpy2.robjects import pandas2ri"
   ]
  },
  {
   "cell_type": "code",
   "execution_count": 2,
   "metadata": {},
   "outputs": [],
   "source": [
    "df_metrics = pd.DataFrame(columns=['ARI_Louvain','ARI_kmeans','ARI_HC',\n",
    "                                   'AMI_Louvain','AMI_kmeans','AMI_HC',\n",
    "                                   'Homogeneity_Louvain','Homogeneity_kmeans','Homogeneity_HC'])"
   ]
  },
  {
   "cell_type": "code",
   "execution_count": 3,
   "metadata": {},
   "outputs": [
    {
     "data": {
      "text/plain": [
       "0"
      ]
     },
     "execution_count": 3,
     "metadata": {},
     "output_type": "execute_result"
    }
   ],
   "source": [
    "workdir = './output/'\n",
    "path_fm = os.path.join(workdir,'feature_matrices/')\n",
    "path_clusters = os.path.join(workdir,'clusters/')\n",
    "path_metrics = os.path.join(workdir,'metrics/')\n",
    "os.system('mkdir -p '+path_clusters)\n",
    "os.system('mkdir -p '+path_metrics)"
   ]
  },
  {
   "cell_type": "code",
   "execution_count": 4,
   "metadata": {},
   "outputs": [
    {
     "name": "stdout",
     "output_type": "stream",
     "text": [
      "13\n"
     ]
    }
   ],
   "source": [
    "metadata = pd.read_csv('./input/metadata.tsv',sep='\\t',index_col=0)\n",
    "num_clusters = len(np.unique(metadata['label']))\n",
    "print(num_clusters)"
   ]
  },
  {
   "cell_type": "code",
   "execution_count": 5,
   "metadata": {},
   "outputs": [
    {
     "data": {
      "text/plain": [
       "17"
      ]
     },
     "execution_count": 5,
     "metadata": {},
     "output_type": "execute_result"
    }
   ],
   "source": [
    "files = [x for x in os.listdir(path_fm) if x.startswith('FM')]\n",
    "len(files)"
   ]
  },
  {
   "cell_type": "code",
   "execution_count": 6,
   "metadata": {},
   "outputs": [
    {
     "data": {
      "text/plain": [
       "['FM_ChromVAR_cusanovich2018subset_kmers.rds',\n",
       " 'FM_ChromVAR_cusanovich2018subset_motifs.rds',\n",
       " 'FM_cisTopic_cusanovich2018subset.rds',\n",
       " 'FM_SnapATAC_cusanovich2018subset.rds',\n",
       " 'FM_SCRAT_cusanovich2018subset_motifs.rds',\n",
       " 'FM_BROCKMAN_cusanovich2018subset.rds',\n",
       " 'FM_Cusanovich2018_cusanovich2018subset.rds',\n",
       " 'FM_Control_cusanovich2018subset.rds',\n",
       " 'FM_GeneScoring_cusanovich2018subset.rds',\n",
       " 'FM_Scasat_cusanovich2018subset.rds',\n",
       " 'FM_scABC_cusanovich2018subset.rds',\n",
       " 'FM_Cicero_cusanovich2018subset.rds',\n",
       " 'FM_ChromVAR_cusanovich2018subset_kmers_pca.rds',\n",
       " 'FM_ChromVAR_cusanovich2018subset_motifs_pca.rds',\n",
       " 'FM_GeneScoring_cusanovich2018subset_pca.rds',\n",
       " 'FM_Cicero_cusanovich2018subset_pca.rds',\n",
       " 'FM_SCRAT_cusanovich2018subset_pca.rds']"
      ]
     },
     "execution_count": 6,
     "metadata": {},
     "output_type": "execute_result"
    }
   ],
   "source": [
    "files"
   ]
  },
  {
   "cell_type": "code",
   "execution_count": 7,
   "metadata": {},
   "outputs": [],
   "source": [
    "def getNClusters(adata,n_cluster,range_min=0,range_max=3,max_steps=20):\n",
    "    this_step = 0\n",
    "    this_min = float(range_min)\n",
    "    this_max = float(range_max)\n",
    "    while this_step < max_steps:\n",
    "        print('step ' + str(this_step))\n",
    "        this_resolution = this_min + ((this_max-this_min)/2)\n",
    "        sc.tl.louvain(adata,resolution=this_resolution)\n",
    "        this_clusters = adata.obs['louvain'].nunique()\n",
    "        \n",
    "        print('got ' + str(this_clusters) + ' at resolution ' + str(this_resolution))\n",
    "        \n",
    "        if this_clusters > n_cluster:\n",
    "            this_max = this_resolution\n",
    "        elif this_clusters < n_cluster:\n",
    "            this_min = this_resolution\n",
    "        else:\n",
    "            return(this_resolution, adata)\n",
    "        this_step += 1\n",
    "    \n",
    "    print('Cannot find the number of clusters')\n",
    "    print('Clustering solution from last iteration is used:' + str(this_clusters) + ' at resolution ' + str(this_resolution))"
   ]
  },
  {
   "cell_type": "code",
   "execution_count": 8,
   "metadata": {
    "scrolled": false
   },
   "outputs": [
    {
     "name": "stdout",
     "output_type": "stream",
     "text": [
      "ChromVAR_kmers\n"
     ]
    },
    {
     "name": "stderr",
     "output_type": "stream",
     "text": [
      "/data/pinello/SHARED_SOFTWARE/anaconda3/envs/ATACseq_clustering/lib/python3.7/site-packages/rpy2/robjects/pandas2ri.py:191: FutureWarning: from_items is deprecated. Please use DataFrame.from_dict(dict(items), ...) instead. DataFrame.from_dict(OrderedDict(items)) may be used to preserve the key order.\n",
      "  res = PandasDataFrame.from_items(items)\n"
     ]
    },
    {
     "name": "stdout",
     "output_type": "stream",
     "text": [
      "step 0\n",
      "got 15 at resolution 1.5\n",
      "step 1\n",
      "got 9 at resolution 0.75\n",
      "step 2\n",
      "got 14 at resolution 1.125\n",
      "step 3\n",
      "got 10 at resolution 0.9375\n",
      "step 4\n",
      "got 12 at resolution 1.03125\n",
      "step 5\n",
      "got 13 at resolution 1.078125\n",
      "ChromVAR_motifs\n"
     ]
    },
    {
     "name": "stderr",
     "output_type": "stream",
     "text": [
      "/data/pinello/SHARED_SOFTWARE/anaconda3/envs/ATACseq_clustering/lib/python3.7/site-packages/rpy2/robjects/pandas2ri.py:191: FutureWarning: from_items is deprecated. Please use DataFrame.from_dict(dict(items), ...) instead. DataFrame.from_dict(OrderedDict(items)) may be used to preserve the key order.\n",
      "  res = PandasDataFrame.from_items(items)\n"
     ]
    },
    {
     "name": "stdout",
     "output_type": "stream",
     "text": [
      "step 0\n",
      "got 16 at resolution 1.5\n",
      "step 1\n",
      "got 12 at resolution 0.75\n",
      "step 2\n",
      "got 15 at resolution 1.125\n",
      "step 3\n",
      "got 15 at resolution 0.9375\n",
      "step 4\n",
      "got 14 at resolution 0.84375\n",
      "step 5\n",
      "got 14 at resolution 0.796875\n",
      "step 6\n",
      "got 14 at resolution 0.7734375\n",
      "step 7\n",
      "got 13 at resolution 0.76171875\n",
      "cisTopic\n"
     ]
    },
    {
     "name": "stderr",
     "output_type": "stream",
     "text": [
      "/data/pinello/SHARED_SOFTWARE/anaconda3/envs/ATACseq_clustering/lib/python3.7/site-packages/rpy2/robjects/pandas2ri.py:191: FutureWarning: from_items is deprecated. Please use DataFrame.from_dict(dict(items), ...) instead. DataFrame.from_dict(OrderedDict(items)) may be used to preserve the key order.\n",
      "  res = PandasDataFrame.from_items(items)\n"
     ]
    },
    {
     "name": "stdout",
     "output_type": "stream",
     "text": [
      "step 0\n",
      "got 25 at resolution 1.5\n",
      "step 1\n",
      "got 21 at resolution 0.75\n",
      "step 2\n",
      "got 20 at resolution 0.375\n",
      "step 3\n",
      "got 16 at resolution 0.1875\n",
      "step 4\n",
      "got 11 at resolution 0.09375\n",
      "step 5\n",
      "got 14 at resolution 0.140625\n",
      "step 6\n",
      "got 12 at resolution 0.1171875\n",
      "step 7\n",
      "got 14 at resolution 0.12890625\n",
      "step 8\n",
      "got 14 at resolution 0.123046875\n",
      "step 9\n",
      "got 13 at resolution 0.1201171875\n",
      "SnapATAC\n"
     ]
    },
    {
     "name": "stderr",
     "output_type": "stream",
     "text": [
      "/data/pinello/SHARED_SOFTWARE/anaconda3/envs/ATACseq_clustering/lib/python3.7/site-packages/rpy2/robjects/pandas2ri.py:191: FutureWarning: from_items is deprecated. Please use DataFrame.from_dict(dict(items), ...) instead. DataFrame.from_dict(OrderedDict(items)) may be used to preserve the key order.\n",
      "  res = PandasDataFrame.from_items(items)\n"
     ]
    },
    {
     "name": "stdout",
     "output_type": "stream",
     "text": [
      "step 0\n",
      "got 26 at resolution 1.5\n",
      "step 1\n",
      "got 21 at resolution 0.75\n",
      "step 2\n",
      "got 18 at resolution 0.375\n",
      "step 3\n",
      "got 14 at resolution 0.1875\n",
      "step 4\n",
      "got 11 at resolution 0.09375\n",
      "step 5\n",
      "got 14 at resolution 0.140625\n",
      "step 6\n",
      "got 14 at resolution 0.1171875\n",
      "step 7\n",
      "got 14 at resolution 0.10546875\n",
      "step 8\n",
      "got 13 at resolution 0.099609375\n",
      "SCRAT_motifs\n"
     ]
    },
    {
     "name": "stderr",
     "output_type": "stream",
     "text": [
      "/data/pinello/SHARED_SOFTWARE/anaconda3/envs/ATACseq_clustering/lib/python3.7/site-packages/rpy2/robjects/pandas2ri.py:191: FutureWarning: from_items is deprecated. Please use DataFrame.from_dict(dict(items), ...) instead. DataFrame.from_dict(OrderedDict(items)) may be used to preserve the key order.\n",
      "  res = PandasDataFrame.from_items(items)\n"
     ]
    },
    {
     "name": "stdout",
     "output_type": "stream",
     "text": [
      "step 0\n",
      "got 22 at resolution 1.5\n",
      "step 1\n",
      "got 15 at resolution 0.75\n",
      "step 2\n",
      "got 9 at resolution 0.375\n",
      "step 3\n",
      "got 13 at resolution 0.5625\n",
      "BROCKMAN\n"
     ]
    },
    {
     "name": "stderr",
     "output_type": "stream",
     "text": [
      "/data/pinello/SHARED_SOFTWARE/anaconda3/envs/ATACseq_clustering/lib/python3.7/site-packages/rpy2/robjects/pandas2ri.py:191: FutureWarning: from_items is deprecated. Please use DataFrame.from_dict(dict(items), ...) instead. DataFrame.from_dict(OrderedDict(items)) may be used to preserve the key order.\n",
      "  res = PandasDataFrame.from_items(items)\n"
     ]
    },
    {
     "name": "stdout",
     "output_type": "stream",
     "text": [
      "step 0\n",
      "got 27 at resolution 1.5\n",
      "step 1\n",
      "got 17 at resolution 0.75\n",
      "step 2\n",
      "got 9 at resolution 0.375\n",
      "step 3\n",
      "got 13 at resolution 0.5625\n",
      "Cusanovich2018\n"
     ]
    },
    {
     "name": "stderr",
     "output_type": "stream",
     "text": [
      "/data/pinello/SHARED_SOFTWARE/anaconda3/envs/ATACseq_clustering/lib/python3.7/site-packages/rpy2/robjects/pandas2ri.py:191: FutureWarning: from_items is deprecated. Please use DataFrame.from_dict(dict(items), ...) instead. DataFrame.from_dict(OrderedDict(items)) may be used to preserve the key order.\n",
      "  res = PandasDataFrame.from_items(items)\n"
     ]
    },
    {
     "name": "stdout",
     "output_type": "stream",
     "text": [
      "step 0\n",
      "got 26 at resolution 1.5\n",
      "step 1\n",
      "got 20 at resolution 0.75\n",
      "step 2\n",
      "got 15 at resolution 0.375\n",
      "step 3\n",
      "got 15 at resolution 0.1875\n",
      "step 4\n",
      "got 11 at resolution 0.09375\n",
      "step 5\n",
      "got 14 at resolution 0.140625\n",
      "step 6\n",
      "got 14 at resolution 0.1171875\n",
      "step 7\n",
      "got 11 at resolution 0.10546875\n",
      "step 8\n",
      "got 12 at resolution 0.111328125\n",
      "step 9\n",
      "got 13 at resolution 0.1142578125\n",
      "Control\n"
     ]
    },
    {
     "name": "stderr",
     "output_type": "stream",
     "text": [
      "/data/pinello/SHARED_SOFTWARE/anaconda3/envs/ATACseq_clustering/lib/python3.7/site-packages/rpy2/robjects/pandas2ri.py:191: FutureWarning: from_items is deprecated. Please use DataFrame.from_dict(dict(items), ...) instead. DataFrame.from_dict(OrderedDict(items)) may be used to preserve the key order.\n",
      "  res = PandasDataFrame.from_items(items)\n"
     ]
    },
    {
     "name": "stdout",
     "output_type": "stream",
     "text": [
      "step 0\n",
      "got 33 at resolution 1.5\n",
      "step 1\n",
      "got 23 at resolution 0.75\n",
      "step 2\n",
      "got 16 at resolution 0.375\n",
      "step 3\n",
      "got 12 at resolution 0.1875\n",
      "step 4\n",
      "got 13 at resolution 0.28125\n",
      "GeneScoring\n"
     ]
    },
    {
     "name": "stderr",
     "output_type": "stream",
     "text": [
      "/data/pinello/SHARED_SOFTWARE/anaconda3/envs/ATACseq_clustering/lib/python3.7/site-packages/rpy2/robjects/pandas2ri.py:191: FutureWarning: from_items is deprecated. Please use DataFrame.from_dict(dict(items), ...) instead. DataFrame.from_dict(OrderedDict(items)) may be used to preserve the key order.\n",
      "  res = PandasDataFrame.from_items(items)\n"
     ]
    },
    {
     "name": "stdout",
     "output_type": "stream",
     "text": [
      "step 0\n",
      "got 43 at resolution 1.5\n",
      "step 1\n",
      "got 6 at resolution 0.75\n",
      "step 2\n",
      "got 11 at resolution 1.125\n",
      "step 3\n",
      "got 35 at resolution 1.3125\n",
      "step 4\n",
      "got 20 at resolution 1.21875\n",
      "step 5\n",
      "got 13 at resolution 1.171875\n",
      "Scasat\n"
     ]
    },
    {
     "name": "stderr",
     "output_type": "stream",
     "text": [
      "/data/pinello/SHARED_SOFTWARE/anaconda3/envs/ATACseq_clustering/lib/python3.7/site-packages/rpy2/robjects/pandas2ri.py:191: FutureWarning: from_items is deprecated. Please use DataFrame.from_dict(dict(items), ...) instead. DataFrame.from_dict(OrderedDict(items)) may be used to preserve the key order.\n",
      "  res = PandasDataFrame.from_items(items)\n"
     ]
    },
    {
     "name": "stdout",
     "output_type": "stream",
     "text": [
      "step 0\n",
      "got 33 at resolution 1.5\n",
      "step 1\n",
      "got 20 at resolution 0.75\n",
      "step 2\n",
      "got 14 at resolution 0.375\n",
      "step 3\n",
      "got 10 at resolution 0.1875\n",
      "step 4\n",
      "got 13 at resolution 0.28125\n",
      "scABC\n"
     ]
    },
    {
     "name": "stderr",
     "output_type": "stream",
     "text": [
      "/data/pinello/SHARED_SOFTWARE/anaconda3/envs/ATACseq_clustering/lib/python3.7/site-packages/rpy2/robjects/pandas2ri.py:191: FutureWarning: from_items is deprecated. Please use DataFrame.from_dict(dict(items), ...) instead. DataFrame.from_dict(OrderedDict(items)) may be used to preserve the key order.\n",
      "  res = PandasDataFrame.from_items(items)\n"
     ]
    },
    {
     "name": "stdout",
     "output_type": "stream",
     "text": [
      "step 0\n",
      "got 50 at resolution 1.5\n",
      "step 1\n",
      "got 3 at resolution 0.75\n",
      "step 2\n",
      "got 10 at resolution 1.125\n",
      "step 3\n",
      "got 18 at resolution 1.3125\n",
      "step 4\n",
      "got 19 at resolution 1.21875\n",
      "step 5\n",
      "got 13 at resolution 1.171875\n",
      "Cicero\n"
     ]
    },
    {
     "name": "stderr",
     "output_type": "stream",
     "text": [
      "/data/pinello/SHARED_SOFTWARE/anaconda3/envs/ATACseq_clustering/lib/python3.7/site-packages/rpy2/robjects/pandas2ri.py:191: FutureWarning: from_items is deprecated. Please use DataFrame.from_dict(dict(items), ...) instead. DataFrame.from_dict(OrderedDict(items)) may be used to preserve the key order.\n",
      "  res = PandasDataFrame.from_items(items)\n"
     ]
    },
    {
     "name": "stdout",
     "output_type": "stream",
     "text": [
      "step 0\n",
      "got 21 at resolution 1.5\n",
      "step 1\n",
      "got 14 at resolution 0.75\n",
      "step 2\n",
      "got 9 at resolution 0.375\n",
      "step 3\n",
      "got 12 at resolution 0.5625\n",
      "step 4\n",
      "got 12 at resolution 0.65625\n",
      "step 5\n",
      "got 12 at resolution 0.703125\n",
      "step 6\n",
      "got 13 at resolution 0.7265625\n",
      "ChromVAR_kmers_pca\n"
     ]
    },
    {
     "name": "stderr",
     "output_type": "stream",
     "text": [
      "/data/pinello/SHARED_SOFTWARE/anaconda3/envs/ATACseq_clustering/lib/python3.7/site-packages/rpy2/robjects/pandas2ri.py:191: FutureWarning: from_items is deprecated. Please use DataFrame.from_dict(dict(items), ...) instead. DataFrame.from_dict(OrderedDict(items)) may be used to preserve the key order.\n",
      "  res = PandasDataFrame.from_items(items)\n"
     ]
    },
    {
     "name": "stdout",
     "output_type": "stream",
     "text": [
      "step 0\n",
      "got 18 at resolution 1.5\n",
      "step 1\n",
      "got 13 at resolution 0.75\n",
      "ChromVAR_motifs_pca\n"
     ]
    },
    {
     "name": "stderr",
     "output_type": "stream",
     "text": [
      "/data/pinello/SHARED_SOFTWARE/anaconda3/envs/ATACseq_clustering/lib/python3.7/site-packages/rpy2/robjects/pandas2ri.py:191: FutureWarning: from_items is deprecated. Please use DataFrame.from_dict(dict(items), ...) instead. DataFrame.from_dict(OrderedDict(items)) may be used to preserve the key order.\n",
      "  res = PandasDataFrame.from_items(items)\n"
     ]
    },
    {
     "name": "stdout",
     "output_type": "stream",
     "text": [
      "step 0\n",
      "got 17 at resolution 1.5\n",
      "step 1\n",
      "got 13 at resolution 0.75\n",
      "GeneScoring_pca\n"
     ]
    },
    {
     "name": "stderr",
     "output_type": "stream",
     "text": [
      "/data/pinello/SHARED_SOFTWARE/anaconda3/envs/ATACseq_clustering/lib/python3.7/site-packages/rpy2/robjects/pandas2ri.py:191: FutureWarning: from_items is deprecated. Please use DataFrame.from_dict(dict(items), ...) instead. DataFrame.from_dict(OrderedDict(items)) may be used to preserve the key order.\n",
      "  res = PandasDataFrame.from_items(items)\n"
     ]
    },
    {
     "name": "stdout",
     "output_type": "stream",
     "text": [
      "step 0\n",
      "got 32 at resolution 1.5\n",
      "step 1\n",
      "got 19 at resolution 0.75\n",
      "step 2\n",
      "got 10 at resolution 0.375\n",
      "step 3\n",
      "got 16 at resolution 0.5625\n",
      "step 4\n",
      "got 13 at resolution 0.46875\n",
      "Cicero_pca\n"
     ]
    },
    {
     "name": "stderr",
     "output_type": "stream",
     "text": [
      "/data/pinello/SHARED_SOFTWARE/anaconda3/envs/ATACseq_clustering/lib/python3.7/site-packages/rpy2/robjects/pandas2ri.py:191: FutureWarning: from_items is deprecated. Please use DataFrame.from_dict(dict(items), ...) instead. DataFrame.from_dict(OrderedDict(items)) may be used to preserve the key order.\n",
      "  res = PandasDataFrame.from_items(items)\n"
     ]
    },
    {
     "name": "stdout",
     "output_type": "stream",
     "text": [
      "step 0\n",
      "got 33 at resolution 1.5\n",
      "step 1\n",
      "got 20 at resolution 0.75\n",
      "step 2\n",
      "got 14 at resolution 0.375\n",
      "step 3\n",
      "got 7 at resolution 0.1875\n",
      "step 4\n",
      "got 9 at resolution 0.28125\n",
      "step 5\n",
      "got 13 at resolution 0.328125\n",
      "SCRAT_pca\n"
     ]
    },
    {
     "name": "stderr",
     "output_type": "stream",
     "text": [
      "/data/pinello/SHARED_SOFTWARE/anaconda3/envs/ATACseq_clustering/lib/python3.7/site-packages/rpy2/robjects/pandas2ri.py:191: FutureWarning: from_items is deprecated. Please use DataFrame.from_dict(dict(items), ...) instead. DataFrame.from_dict(OrderedDict(items)) may be used to preserve the key order.\n",
      "  res = PandasDataFrame.from_items(items)\n"
     ]
    },
    {
     "name": "stdout",
     "output_type": "stream",
     "text": [
      "step 0\n",
      "got 27 at resolution 1.5\n",
      "step 1\n",
      "got 15 at resolution 0.75\n",
      "step 2\n",
      "got 9 at resolution 0.375\n",
      "step 3\n",
      "got 11 at resolution 0.5625\n",
      "step 4\n",
      "got 13 at resolution 0.65625\n"
     ]
    }
   ],
   "source": [
    "for file in files:\n",
    "    file_split = file.split('_')\n",
    "    method = file_split[1]\n",
    "    dataset = file_split[2].split('.')[0]\n",
    "    if(len(file_split)>3):\n",
    "        method = method + '_' + '_'.join(file_split[3:]).split('.')[0]\n",
    "    print(method)\n",
    "\n",
    "    pandas2ri.activate()\n",
    "    readRDS = robjects.r['readRDS']\n",
    "    df_rds = readRDS(os.path.join(path_fm,file))\n",
    "    fm_mat = pandas2ri.ri2py(robjects.r['data.frame'](robjects.r['as.matrix'](df_rds)))\n",
    "    fm_mat.fillna(0,inplace=True)\n",
    "    fm_mat.columns = metadata.index\n",
    "    \n",
    "    adata = sc.AnnData(fm_mat.T)\n",
    "    adata.var_names_make_unique()\n",
    "    adata.obs = metadata.loc[adata.obs.index,]\n",
    "    df_metrics.loc[method,] = \"\"\n",
    "    #Louvain\n",
    "    sc.pp.neighbors(adata, n_neighbors=15,use_rep='X')\n",
    "#     sc.tl.louvain(adata)\n",
    "    getNClusters(adata,n_cluster=num_clusters)\n",
    "    #kmeans\n",
    "    kmeans = KMeans(n_clusters=num_clusters, random_state=2019).fit(adata.X)\n",
    "    adata.obs['kmeans'] = pd.Series(kmeans.labels_,index=adata.obs.index).astype('category')\n",
    "    #hierachical clustering\n",
    "    hc = AgglomerativeClustering(n_clusters=num_clusters).fit(adata.X)\n",
    "    adata.obs['hc'] = pd.Series(hc.labels_,index=adata.obs.index).astype('category')\n",
    "    #clustering metrics\n",
    "    \n",
    "    #adjusted rank index\n",
    "    ari_louvain = adjusted_rand_score(adata.obs['label'], adata.obs['louvain'])\n",
    "    ari_kmeans = adjusted_rand_score(adata.obs['label'], adata.obs['kmeans'])\n",
    "    ari_hc = adjusted_rand_score(adata.obs['label'], adata.obs['hc'])\n",
    "    #adjusted mutual information\n",
    "    ami_louvain = adjusted_mutual_info_score(adata.obs['label'], adata.obs['louvain'],average_method='arithmetic')\n",
    "    ami_kmeans = adjusted_mutual_info_score(adata.obs['label'], adata.obs['kmeans'],average_method='arithmetic')   \n",
    "    ami_hc = adjusted_mutual_info_score(adata.obs['label'], adata.obs['hc'],average_method='arithmetic')\n",
    "    #homogeneity\n",
    "    homo_louvain = homogeneity_score(adata.obs['label'], adata.obs['louvain'])\n",
    "    homo_kmeans = homogeneity_score(adata.obs['label'], adata.obs['kmeans'])\n",
    "    homo_hc = homogeneity_score(adata.obs['label'], adata.obs['hc'])\n",
    "\n",
    "    df_metrics.loc[method,['ARI_Louvain','ARI_kmeans','ARI_HC']] = [ari_louvain,ari_kmeans,ari_hc]\n",
    "    df_metrics.loc[method,['AMI_Louvain','AMI_kmeans','AMI_HC']] = [ami_louvain,ami_kmeans,ami_hc]\n",
    "    df_metrics.loc[method,['Homogeneity_Louvain','Homogeneity_kmeans','Homogeneity_HC']] = [homo_louvain,homo_kmeans,homo_hc] \n",
    "    adata.obs[['louvain','kmeans','hc']].to_csv(os.path.join(path_clusters ,method + '_clusters.tsv'),sep='\\t')"
   ]
  },
  {
   "cell_type": "code",
   "execution_count": 9,
   "metadata": {},
   "outputs": [],
   "source": [
    "df_metrics.to_csv(path_metrics+'clustering_scores.csv')"
   ]
  },
  {
   "cell_type": "code",
   "execution_count": 10,
   "metadata": {},
   "outputs": [
    {
     "data": {
      "text/html": [
       "<div>\n",
       "<style scoped>\n",
       "    .dataframe tbody tr th:only-of-type {\n",
       "        vertical-align: middle;\n",
       "    }\n",
       "\n",
       "    .dataframe tbody tr th {\n",
       "        vertical-align: top;\n",
       "    }\n",
       "\n",
       "    .dataframe thead th {\n",
       "        text-align: right;\n",
       "    }\n",
       "</style>\n",
       "<table border=\"1\" class=\"dataframe\">\n",
       "  <thead>\n",
       "    <tr style=\"text-align: right;\">\n",
       "      <th></th>\n",
       "      <th>ARI_Louvain</th>\n",
       "      <th>ARI_kmeans</th>\n",
       "      <th>ARI_HC</th>\n",
       "      <th>AMI_Louvain</th>\n",
       "      <th>AMI_kmeans</th>\n",
       "      <th>AMI_HC</th>\n",
       "      <th>Homogeneity_Louvain</th>\n",
       "      <th>Homogeneity_kmeans</th>\n",
       "      <th>Homogeneity_HC</th>\n",
       "    </tr>\n",
       "  </thead>\n",
       "  <tbody>\n",
       "    <tr>\n",
       "      <th>ChromVAR_kmers</th>\n",
       "      <td>0.362156</td>\n",
       "      <td>0.318281</td>\n",
       "      <td>0.322602</td>\n",
       "      <td>0.547156</td>\n",
       "      <td>0.508931</td>\n",
       "      <td>0.505412</td>\n",
       "      <td>0.529241</td>\n",
       "      <td>0.494062</td>\n",
       "      <td>0.499065</td>\n",
       "    </tr>\n",
       "    <tr>\n",
       "      <th>ChromVAR_motifs</th>\n",
       "      <td>0.273587</td>\n",
       "      <td>0.234159</td>\n",
       "      <td>0.23283</td>\n",
       "      <td>0.467077</td>\n",
       "      <td>0.381515</td>\n",
       "      <td>0.389418</td>\n",
       "      <td>0.452938</td>\n",
       "      <td>0.378984</td>\n",
       "      <td>0.374202</td>\n",
       "    </tr>\n",
       "    <tr>\n",
       "      <th>cisTopic</th>\n",
       "      <td>0.326831</td>\n",
       "      <td>0.311433</td>\n",
       "      <td>0.334379</td>\n",
       "      <td>0.594191</td>\n",
       "      <td>0.548624</td>\n",
       "      <td>0.584576</td>\n",
       "      <td>0.562274</td>\n",
       "      <td>0.528385</td>\n",
       "      <td>0.572242</td>\n",
       "    </tr>\n",
       "    <tr>\n",
       "      <th>SnapATAC</th>\n",
       "      <td>0.31158</td>\n",
       "      <td>0.315666</td>\n",
       "      <td>0.238986</td>\n",
       "      <td>0.58319</td>\n",
       "      <td>0.538058</td>\n",
       "      <td>0.570649</td>\n",
       "      <td>0.549473</td>\n",
       "      <td>0.526652</td>\n",
       "      <td>0.526307</td>\n",
       "    </tr>\n",
       "    <tr>\n",
       "      <th>SCRAT_motifs</th>\n",
       "      <td>0.150932</td>\n",
       "      <td>0.077564</td>\n",
       "      <td>0.076397</td>\n",
       "      <td>0.299833</td>\n",
       "      <td>0.175588</td>\n",
       "      <td>0.174113</td>\n",
       "      <td>0.30107</td>\n",
       "      <td>0.17731</td>\n",
       "      <td>0.17448</td>\n",
       "    </tr>\n",
       "    <tr>\n",
       "      <th>BROCKMAN</th>\n",
       "      <td>0.229773</td>\n",
       "      <td>0.108314</td>\n",
       "      <td>0.0950577</td>\n",
       "      <td>0.402846</td>\n",
       "      <td>0.245153</td>\n",
       "      <td>0.216923</td>\n",
       "      <td>0.403183</td>\n",
       "      <td>0.246948</td>\n",
       "      <td>0.218872</td>\n",
       "    </tr>\n",
       "    <tr>\n",
       "      <th>Cusanovich2018</th>\n",
       "      <td>0.314571</td>\n",
       "      <td>0.312622</td>\n",
       "      <td>0.394549</td>\n",
       "      <td>0.588781</td>\n",
       "      <td>0.532839</td>\n",
       "      <td>0.579267</td>\n",
       "      <td>0.562294</td>\n",
       "      <td>0.520058</td>\n",
       "      <td>0.575403</td>\n",
       "    </tr>\n",
       "    <tr>\n",
       "      <th>Control</th>\n",
       "      <td>0.332837</td>\n",
       "      <td>0.0310206</td>\n",
       "      <td>0.0323049</td>\n",
       "      <td>0.548613</td>\n",
       "      <td>0.17679</td>\n",
       "      <td>0.18392</td>\n",
       "      <td>0.54098</td>\n",
       "      <td>0.145575</td>\n",
       "      <td>0.146171</td>\n",
       "    </tr>\n",
       "    <tr>\n",
       "      <th>GeneScoring</th>\n",
       "      <td>0.0740742</td>\n",
       "      <td>0.01888</td>\n",
       "      <td>0.0301842</td>\n",
       "      <td>0.159352</td>\n",
       "      <td>0.115906</td>\n",
       "      <td>0.178871</td>\n",
       "      <td>0.151916</td>\n",
       "      <td>0.0956696</td>\n",
       "      <td>0.143932</td>\n",
       "    </tr>\n",
       "    <tr>\n",
       "      <th>Scasat</th>\n",
       "      <td>0.358806</td>\n",
       "      <td>0.107472</td>\n",
       "      <td>0.121207</td>\n",
       "      <td>0.554397</td>\n",
       "      <td>0.33932</td>\n",
       "      <td>0.343008</td>\n",
       "      <td>0.552355</td>\n",
       "      <td>0.32181</td>\n",
       "      <td>0.327857</td>\n",
       "    </tr>\n",
       "    <tr>\n",
       "      <th>scABC</th>\n",
       "      <td>0.0331424</td>\n",
       "      <td>0.0164305</td>\n",
       "      <td>0.0304001</td>\n",
       "      <td>0.059114</td>\n",
       "      <td>0.107217</td>\n",
       "      <td>0.191117</td>\n",
       "      <td>0.0560104</td>\n",
       "      <td>0.0794209</td>\n",
       "      <td>0.15644</td>\n",
       "    </tr>\n",
       "    <tr>\n",
       "      <th>Cicero</th>\n",
       "      <td>0.00946335</td>\n",
       "      <td>0.00507737</td>\n",
       "      <td>0.00337704</td>\n",
       "      <td>0.0332948</td>\n",
       "      <td>0.0234078</td>\n",
       "      <td>0.0210244</td>\n",
       "      <td>0.0312832</td>\n",
       "      <td>0.0191649</td>\n",
       "      <td>0.0168756</td>\n",
       "    </tr>\n",
       "    <tr>\n",
       "      <th>ChromVAR_kmers_pca</th>\n",
       "      <td>0.393402</td>\n",
       "      <td>0.353105</td>\n",
       "      <td>0.330552</td>\n",
       "      <td>0.57713</td>\n",
       "      <td>0.537296</td>\n",
       "      <td>0.523283</td>\n",
       "      <td>0.570369</td>\n",
       "      <td>0.529479</td>\n",
       "      <td>0.519517</td>\n",
       "    </tr>\n",
       "    <tr>\n",
       "      <th>ChromVAR_motifs_pca</th>\n",
       "      <td>0.252594</td>\n",
       "      <td>0.237495</td>\n",
       "      <td>0.222042</td>\n",
       "      <td>0.475341</td>\n",
       "      <td>0.383546</td>\n",
       "      <td>0.387681</td>\n",
       "      <td>0.449016</td>\n",
       "      <td>0.380229</td>\n",
       "      <td>0.371064</td>\n",
       "    </tr>\n",
       "    <tr>\n",
       "      <th>GeneScoring_pca</th>\n",
       "      <td>0.184099</td>\n",
       "      <td>0.0265249</td>\n",
       "      <td>0.0295811</td>\n",
       "      <td>0.384399</td>\n",
       "      <td>0.143917</td>\n",
       "      <td>0.15945</td>\n",
       "      <td>0.38142</td>\n",
       "      <td>0.121941</td>\n",
       "      <td>0.132441</td>\n",
       "    </tr>\n",
       "    <tr>\n",
       "      <th>Cicero_pca</th>\n",
       "      <td>0.0675771</td>\n",
       "      <td>0.00516015</td>\n",
       "      <td>0.00720392</td>\n",
       "      <td>0.133417</td>\n",
       "      <td>0.0235267</td>\n",
       "      <td>0.025529</td>\n",
       "      <td>0.129841</td>\n",
       "      <td>0.0192896</td>\n",
       "      <td>0.0213231</td>\n",
       "    </tr>\n",
       "    <tr>\n",
       "      <th>SCRAT_pca</th>\n",
       "      <td>0.153423</td>\n",
       "      <td>0.0777187</td>\n",
       "      <td>0.0852386</td>\n",
       "      <td>0.286294</td>\n",
       "      <td>0.176089</td>\n",
       "      <td>0.181604</td>\n",
       "      <td>0.289815</td>\n",
       "      <td>0.177849</td>\n",
       "      <td>0.183358</td>\n",
       "    </tr>\n",
       "  </tbody>\n",
       "</table>\n",
       "</div>"
      ],
      "text/plain": [
       "                    ARI_Louvain  ARI_kmeans      ARI_HC AMI_Louvain  \\\n",
       "ChromVAR_kmers         0.362156    0.318281    0.322602    0.547156   \n",
       "ChromVAR_motifs        0.273587    0.234159     0.23283    0.467077   \n",
       "cisTopic               0.326831    0.311433    0.334379    0.594191   \n",
       "SnapATAC                0.31158    0.315666    0.238986     0.58319   \n",
       "SCRAT_motifs           0.150932    0.077564    0.076397    0.299833   \n",
       "BROCKMAN               0.229773    0.108314   0.0950577    0.402846   \n",
       "Cusanovich2018         0.314571    0.312622    0.394549    0.588781   \n",
       "Control                0.332837   0.0310206   0.0323049    0.548613   \n",
       "GeneScoring           0.0740742     0.01888   0.0301842    0.159352   \n",
       "Scasat                 0.358806    0.107472    0.121207    0.554397   \n",
       "scABC                 0.0331424   0.0164305   0.0304001    0.059114   \n",
       "Cicero               0.00946335  0.00507737  0.00337704   0.0332948   \n",
       "ChromVAR_kmers_pca     0.393402    0.353105    0.330552     0.57713   \n",
       "ChromVAR_motifs_pca    0.252594    0.237495    0.222042    0.475341   \n",
       "GeneScoring_pca        0.184099   0.0265249   0.0295811    0.384399   \n",
       "Cicero_pca            0.0675771  0.00516015  0.00720392    0.133417   \n",
       "SCRAT_pca              0.153423   0.0777187   0.0852386    0.286294   \n",
       "\n",
       "                    AMI_kmeans     AMI_HC Homogeneity_Louvain  \\\n",
       "ChromVAR_kmers        0.508931   0.505412            0.529241   \n",
       "ChromVAR_motifs       0.381515   0.389418            0.452938   \n",
       "cisTopic              0.548624   0.584576            0.562274   \n",
       "SnapATAC              0.538058   0.570649            0.549473   \n",
       "SCRAT_motifs          0.175588   0.174113             0.30107   \n",
       "BROCKMAN              0.245153   0.216923            0.403183   \n",
       "Cusanovich2018        0.532839   0.579267            0.562294   \n",
       "Control                0.17679    0.18392             0.54098   \n",
       "GeneScoring           0.115906   0.178871            0.151916   \n",
       "Scasat                 0.33932   0.343008            0.552355   \n",
       "scABC                 0.107217   0.191117           0.0560104   \n",
       "Cicero               0.0234078  0.0210244           0.0312832   \n",
       "ChromVAR_kmers_pca    0.537296   0.523283            0.570369   \n",
       "ChromVAR_motifs_pca   0.383546   0.387681            0.449016   \n",
       "GeneScoring_pca       0.143917    0.15945             0.38142   \n",
       "Cicero_pca           0.0235267   0.025529            0.129841   \n",
       "SCRAT_pca             0.176089   0.181604            0.289815   \n",
       "\n",
       "                    Homogeneity_kmeans Homogeneity_HC  \n",
       "ChromVAR_kmers                0.494062       0.499065  \n",
       "ChromVAR_motifs               0.378984       0.374202  \n",
       "cisTopic                      0.528385       0.572242  \n",
       "SnapATAC                      0.526652       0.526307  \n",
       "SCRAT_motifs                   0.17731        0.17448  \n",
       "BROCKMAN                      0.246948       0.218872  \n",
       "Cusanovich2018                0.520058       0.575403  \n",
       "Control                       0.145575       0.146171  \n",
       "GeneScoring                  0.0956696       0.143932  \n",
       "Scasat                         0.32181       0.327857  \n",
       "scABC                        0.0794209        0.15644  \n",
       "Cicero                       0.0191649      0.0168756  \n",
       "ChromVAR_kmers_pca            0.529479       0.519517  \n",
       "ChromVAR_motifs_pca           0.380229       0.371064  \n",
       "GeneScoring_pca               0.121941       0.132441  \n",
       "Cicero_pca                   0.0192896      0.0213231  \n",
       "SCRAT_pca                     0.177849       0.183358  "
      ]
     },
     "execution_count": 10,
     "metadata": {},
     "output_type": "execute_result"
    }
   ],
   "source": [
    "df_metrics"
   ]
  },
  {
   "cell_type": "code",
   "execution_count": null,
   "metadata": {},
   "outputs": [],
   "source": []
  }
 ],
 "metadata": {
  "kernelspec": {
   "display_name": "Python [conda env:ATACseq_clustering]",
   "language": "python",
   "name": "conda-env-ATACseq_clustering-py"
  },
  "language_info": {
   "codemirror_mode": {
    "name": "ipython",
    "version": 3
   },
   "file_extension": ".py",
   "mimetype": "text/x-python",
   "name": "python",
   "nbconvert_exporter": "python",
   "pygments_lexer": "ipython3",
   "version": "3.7.3"
  }
 },
 "nbformat": 4,
 "nbformat_minor": 2
}
