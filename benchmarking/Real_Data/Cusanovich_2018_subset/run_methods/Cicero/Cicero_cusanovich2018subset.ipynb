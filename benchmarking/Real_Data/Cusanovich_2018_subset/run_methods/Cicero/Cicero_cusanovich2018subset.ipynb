{
 "cells": [
  {
   "cell_type": "markdown",
   "metadata": {},
   "source": [
    "### Installation"
   ]
  },
  {
   "cell_type": "markdown",
   "metadata": {},
   "source": [
    "`conda install r-essentials r-devtools bioconductor-gviz bioconductor-genomicranges bioconductor-rtracklayer -y bioconductor-biocgenerics bioconductor-delayedarray bioconductor-delayedmatrixstats bioconductor-limma bioconductor-s4vectors bioconductor-singlecellexperiment bioconductor-summarizedexperiment r-units r-sf `"
   ]
  },
  {
   "cell_type": "markdown",
   "metadata": {},
   "source": [
    "`devtools::install_github('cole-trapnell-lab/monocle3')`  \n",
    "`devtools::install_github('cole-trapnell-lab/cicero-release', ref = \"monocle3\")`"
   ]
  },
  {
   "cell_type": "code",
   "execution_count": null,
   "metadata": {},
   "outputs": [],
   "source": []
  },
  {
   "cell_type": "markdown",
   "metadata": {},
   "source": [
    "Vignette: https://cole-trapnell-lab.github.io/cicero-release/docs_m3/"
   ]
  },
  {
   "cell_type": "markdown",
   "metadata": {},
   "source": [
    "### Import packages"
   ]
  },
  {
   "cell_type": "code",
   "execution_count": 1,
   "metadata": {},
   "outputs": [
    {
     "name": "stderr",
     "output_type": "stream",
     "text": [
      "Loading required package: monocle3\n",
      "Loading required package: Biobase\n",
      "Loading required package: BiocGenerics\n",
      "Loading required package: parallel\n",
      "\n",
      "Attaching package: ‘BiocGenerics’\n",
      "\n",
      "The following objects are masked from ‘package:parallel’:\n",
      "\n",
      "    clusterApply, clusterApplyLB, clusterCall, clusterEvalQ,\n",
      "    clusterExport, clusterMap, parApply, parCapply, parLapply,\n",
      "    parLapplyLB, parRapply, parSapply, parSapplyLB\n",
      "\n",
      "The following objects are masked from ‘package:stats’:\n",
      "\n",
      "    IQR, mad, sd, var, xtabs\n",
      "\n",
      "The following objects are masked from ‘package:base’:\n",
      "\n",
      "    anyDuplicated, append, as.data.frame, basename, cbind, colMeans,\n",
      "    colnames, colSums, dirname, do.call, duplicated, eval, evalq,\n",
      "    Filter, Find, get, grep, grepl, intersect, is.unsorted, lapply,\n",
      "    lengths, Map, mapply, match, mget, order, paste, pmax, pmax.int,\n",
      "    pmin, pmin.int, Position, rank, rbind, Reduce, rowMeans, rownames,\n",
      "    rowSums, sapply, setdiff, sort, table, tapply, union, unique,\n",
      "    unsplit, which, which.max, which.min\n",
      "\n",
      "Welcome to Bioconductor\n",
      "\n",
      "    Vignettes contain introductory material; view with\n",
      "    'browseVignettes()'. To cite Bioconductor, see\n",
      "    'citation(\"Biobase\")', and for packages 'citation(\"pkgname\")'.\n",
      "\n",
      "Loading required package: SingleCellExperiment\n",
      "Loading required package: SummarizedExperiment\n",
      "Loading required package: GenomicRanges\n",
      "Loading required package: stats4\n",
      "Loading required package: S4Vectors\n",
      "\n",
      "Attaching package: ‘S4Vectors’\n",
      "\n",
      "The following object is masked from ‘package:base’:\n",
      "\n",
      "    expand.grid\n",
      "\n",
      "Loading required package: IRanges\n",
      "Loading required package: GenomeInfoDb\n",
      "Loading required package: DelayedArray\n",
      "Loading required package: matrixStats\n",
      "\n",
      "Attaching package: ‘matrixStats’\n",
      "\n",
      "The following objects are masked from ‘package:Biobase’:\n",
      "\n",
      "    anyMissing, rowMedians\n",
      "\n",
      "Loading required package: BiocParallel\n",
      "\n",
      "Attaching package: ‘DelayedArray’\n",
      "\n",
      "The following objects are masked from ‘package:matrixStats’:\n",
      "\n",
      "    colMaxs, colMins, colRanges, rowMaxs, rowMins, rowRanges\n",
      "\n",
      "The following objects are masked from ‘package:base’:\n",
      "\n",
      "    aperm, apply\n",
      "\n",
      "\n",
      "Attaching package: ‘monocle3’\n",
      "\n",
      "The following objects are masked from ‘package:Biobase’:\n",
      "\n",
      "    exprs, fData, fData<-, pData, pData<-\n",
      "\n",
      "Loading required package: Gviz\n",
      "Loading required package: grid\n",
      "\n",
      "Attaching package: 'data.table'\n",
      "\n",
      "The following object is masked from 'package:SummarizedExperiment':\n",
      "\n",
      "    shift\n",
      "\n",
      "The following object is masked from 'package:GenomicRanges':\n",
      "\n",
      "    shift\n",
      "\n",
      "The following object is masked from 'package:IRanges':\n",
      "\n",
      "    shift\n",
      "\n",
      "The following objects are masked from 'package:S4Vectors':\n",
      "\n",
      "    first, second\n",
      "\n",
      "\n",
      "Attaching package: 'Matrix'\n",
      "\n",
      "The following object is masked from 'package:S4Vectors':\n",
      "\n",
      "    expand\n",
      "\n",
      "\n",
      "Attaching package: 'proxy'\n",
      "\n",
      "The following object is masked from 'package:Matrix':\n",
      "\n",
      "    as.matrix\n",
      "\n",
      "The following object is masked from 'package:DelayedArray':\n",
      "\n",
      "    as.matrix\n",
      "\n",
      "The following object is masked from 'package:IRanges':\n",
      "\n",
      "    as.matrix\n",
      "\n",
      "The following object is masked from 'package:S4Vectors':\n",
      "\n",
      "    as.matrix\n",
      "\n",
      "The following objects are masked from 'package:stats':\n",
      "\n",
      "    as.dist, dist\n",
      "\n",
      "The following object is masked from 'package:base':\n",
      "\n",
      "    as.matrix\n",
      "\n",
      "\n",
      "Attaching package: 'reshape2'\n",
      "\n",
      "The following objects are masked from 'package:data.table':\n",
      "\n",
      "    dcast, melt\n",
      "\n",
      "Loading required package: MASS\n",
      "Loading required package: ggplot2\n"
     ]
    }
   ],
   "source": [
    "library(cicero)\n",
    "library(data.table)\n",
    "library(Matrix)\n",
    "library(proxy)\n",
    "library(reshape2)\n",
    "library(BuenColors)\n",
    "library(umap)"
   ]
  },
  {
   "cell_type": "code",
   "execution_count": null,
   "metadata": {},
   "outputs": [],
   "source": []
  },
  {
   "cell_type": "markdown",
   "metadata": {},
   "source": [
    "### Preprocess"
   ]
  },
  {
   "cell_type": "markdown",
   "metadata": {},
   "source": [
    "`bsub < count_reads_peaks.sh`"
   ]
  },
  {
   "cell_type": "code",
   "execution_count": 2,
   "metadata": {},
   "outputs": [
    {
     "data": {
      "text/html": [
       "12178"
      ],
      "text/latex": [
       "12178"
      ],
      "text/markdown": [
       "12178"
      ],
      "text/plain": [
       "[1] 12178"
      ]
     },
     "metadata": {},
     "output_type": "display_data"
    }
   ],
   "source": [
    "path = './count_reads_peaks_output/'\n",
    "files <- list.files(path,pattern = \"\\\\.txt$\")\n",
    "length(files)"
   ]
  },
  {
   "cell_type": "code",
   "execution_count": null,
   "metadata": {},
   "outputs": [],
   "source": [
    "#assuming tab separated values with a header    \n",
    "datalist = lapply(files, function(x)fread(paste0(path,x))$V4) \n",
    "#assuming the same header/columns for all files\n",
    "datafr = do.call(\"cbind\", datalist) "
   ]
  },
  {
   "cell_type": "code",
   "execution_count": 4,
   "metadata": {
    "scrolled": true
   },
   "outputs": [
    {
     "data": {
      "text/html": [
       "<ol class=list-inline>\n",
       "\t<li>385237</li>\n",
       "\t<li>12178</li>\n",
       "</ol>\n"
      ],
      "text/latex": [
       "\\begin{enumerate*}\n",
       "\\item 385237\n",
       "\\item 12178\n",
       "\\end{enumerate*}\n"
      ],
      "text/markdown": [
       "1. 385237\n",
       "2. 12178\n",
       "\n",
       "\n"
      ],
      "text/plain": [
       "[1] 385237  12178"
      ]
     },
     "metadata": {},
     "output_type": "display_data"
    }
   ],
   "source": [
    "dim(datafr)"
   ]
  },
  {
   "cell_type": "code",
   "execution_count": 5,
   "metadata": {},
   "outputs": [],
   "source": [
    "df_regions = read.csv(\"../../input/combined.sorted.merged.bed\",\n",
    "                      sep = '\\t',header=FALSE,stringsAsFactors=FALSE)"
   ]
  },
  {
   "cell_type": "code",
   "execution_count": 6,
   "metadata": {},
   "outputs": [
    {
     "data": {
      "text/html": [
       "<ol class=list-inline>\n",
       "\t<li>385237</li>\n",
       "\t<li>3</li>\n",
       "</ol>\n"
      ],
      "text/latex": [
       "\\begin{enumerate*}\n",
       "\\item 385237\n",
       "\\item 3\n",
       "\\end{enumerate*}\n"
      ],
      "text/markdown": [
       "1. 385237\n",
       "2. 3\n",
       "\n",
       "\n"
      ],
      "text/plain": [
       "[1] 385237      3"
      ]
     },
     "metadata": {},
     "output_type": "display_data"
    }
   ],
   "source": [
    "dim(df_regions)"
   ]
  },
  {
   "cell_type": "code",
   "execution_count": 7,
   "metadata": {},
   "outputs": [],
   "source": [
    "peaknames = paste(df_regions$V1,df_regions$V2,df_regions$V3,sep = \"_\")"
   ]
  },
  {
   "cell_type": "code",
   "execution_count": 8,
   "metadata": {},
   "outputs": [
    {
     "data": {
      "text/html": [
       "<ol class=list-inline>\n",
       "\t<li>'chr1_3002715_3002962'</li>\n",
       "\t<li>'chr1_3037090_3037634'</li>\n",
       "\t<li>'chr1_3084622_3085850'</li>\n",
       "\t<li>'chr1_3103610_3104006'</li>\n",
       "\t<li>'chr1_3106869_3107182'</li>\n",
       "\t<li>'chr1_3109389_3111052'</li>\n",
       "</ol>\n"
      ],
      "text/latex": [
       "\\begin{enumerate*}\n",
       "\\item 'chr1\\_3002715\\_3002962'\n",
       "\\item 'chr1\\_3037090\\_3037634'\n",
       "\\item 'chr1\\_3084622\\_3085850'\n",
       "\\item 'chr1\\_3103610\\_3104006'\n",
       "\\item 'chr1\\_3106869\\_3107182'\n",
       "\\item 'chr1\\_3109389\\_3111052'\n",
       "\\end{enumerate*}\n"
      ],
      "text/markdown": [
       "1. 'chr1_3002715_3002962'\n",
       "2. 'chr1_3037090_3037634'\n",
       "3. 'chr1_3084622_3085850'\n",
       "4. 'chr1_3103610_3104006'\n",
       "5. 'chr1_3106869_3107182'\n",
       "6. 'chr1_3109389_3111052'\n",
       "\n",
       "\n"
      ],
      "text/plain": [
       "[1] \"chr1_3002715_3002962\" \"chr1_3037090_3037634\" \"chr1_3084622_3085850\"\n",
       "[4] \"chr1_3103610_3104006\" \"chr1_3106869_3107182\" \"chr1_3109389_3111052\""
      ]
     },
     "metadata": {},
     "output_type": "display_data"
    }
   ],
   "source": [
    "head(peaknames)"
   ]
  },
  {
   "cell_type": "code",
   "execution_count": 9,
   "metadata": {},
   "outputs": [
    {
     "data": {
      "text/html": [
       "<ol class=list-inline>\n",
       "\t<li>'AGCGATAGAATACGATAATGGCAGCTCGCAGGACGT'</li>\n",
       "\t<li>'AGCGATAGAATATTACTTTCCGCGGACTGTACTGAC'</li>\n",
       "\t<li>'AGCGATAGACCAGGCGCATGGCAGCTCGATAGAGGC'</li>\n",
       "\t<li>'AGCGATAGAGATTACGTTGCGCAATGACGTACTGAC'</li>\n",
       "\t<li>'AGCGATAGAGGTCAGCTTGGAGTTGCGTGTACTGAC'</li>\n",
       "\t<li>'AGCGATAGAGTTGAATCAAAGCTAGGTTCCTATCCT'</li>\n",
       "</ol>\n"
      ],
      "text/latex": [
       "\\begin{enumerate*}\n",
       "\\item 'AGCGATAGAATACGATAATGGCAGCTCGCAGGACGT'\n",
       "\\item 'AGCGATAGAATATTACTTTCCGCGGACTGTACTGAC'\n",
       "\\item 'AGCGATAGACCAGGCGCATGGCAGCTCGATAGAGGC'\n",
       "\\item 'AGCGATAGAGATTACGTTGCGCAATGACGTACTGAC'\n",
       "\\item 'AGCGATAGAGGTCAGCTTGGAGTTGCGTGTACTGAC'\n",
       "\\item 'AGCGATAGAGTTGAATCAAAGCTAGGTTCCTATCCT'\n",
       "\\end{enumerate*}\n"
      ],
      "text/markdown": [
       "1. 'AGCGATAGAATACGATAATGGCAGCTCGCAGGACGT'\n",
       "2. 'AGCGATAGAATATTACTTTCCGCGGACTGTACTGAC'\n",
       "3. 'AGCGATAGACCAGGCGCATGGCAGCTCGATAGAGGC'\n",
       "4. 'AGCGATAGAGATTACGTTGCGCAATGACGTACTGAC'\n",
       "5. 'AGCGATAGAGGTCAGCTTGGAGTTGCGTGTACTGAC'\n",
       "6. 'AGCGATAGAGTTGAATCAAAGCTAGGTTCCTATCCT'\n",
       "\n",
       "\n"
      ],
      "text/plain": [
       "[1] \"AGCGATAGAATACGATAATGGCAGCTCGCAGGACGT\"\n",
       "[2] \"AGCGATAGAATATTACTTTCCGCGGACTGTACTGAC\"\n",
       "[3] \"AGCGATAGACCAGGCGCATGGCAGCTCGATAGAGGC\"\n",
       "[4] \"AGCGATAGAGATTACGTTGCGCAATGACGTACTGAC\"\n",
       "[5] \"AGCGATAGAGGTCAGCTTGGAGTTGCGTGTACTGAC\"\n",
       "[6] \"AGCGATAGAGTTGAATCAAAGCTAGGTTCCTATCCT\""
      ]
     },
     "metadata": {},
     "output_type": "display_data"
    }
   ],
   "source": [
    "head(sapply(strsplit(files,'\\\\.'),'[', 2))"
   ]
  },
  {
   "cell_type": "code",
   "execution_count": 10,
   "metadata": {},
   "outputs": [],
   "source": [
    "colnames(datafr) = sapply(strsplit(files,'\\\\.'),'[', 2)\n",
    "rownames(datafr) = peaknames"
   ]
  },
  {
   "cell_type": "code",
   "execution_count": 11,
   "metadata": {},
   "outputs": [
    {
     "data": {
      "text/html": [
       "<table>\n",
       "<caption>A matrix: 5 × 5 of type int</caption>\n",
       "<thead>\n",
       "\t<tr><th></th><th scope=col>AGCGATAGAATACGATAATGGCAGCTCGCAGGACGT</th><th scope=col>AGCGATAGAATATTACTTTCCGCGGACTGTACTGAC</th><th scope=col>AGCGATAGACCAGGCGCATGGCAGCTCGATAGAGGC</th><th scope=col>AGCGATAGAGATTACGTTGCGCAATGACGTACTGAC</th><th scope=col>AGCGATAGAGGTCAGCTTGGAGTTGCGTGTACTGAC</th></tr>\n",
       "</thead>\n",
       "<tbody>\n",
       "\t<tr><th scope=row>chr1_3002715_3002962</th><td>0</td><td>0</td><td>0</td><td>0</td><td>0</td></tr>\n",
       "\t<tr><th scope=row>chr1_3037090_3037634</th><td>0</td><td>0</td><td>0</td><td>0</td><td>0</td></tr>\n",
       "\t<tr><th scope=row>chr1_3084622_3085850</th><td>0</td><td>0</td><td>0</td><td>0</td><td>0</td></tr>\n",
       "\t<tr><th scope=row>chr1_3103610_3104006</th><td>0</td><td>0</td><td>0</td><td>0</td><td>0</td></tr>\n",
       "\t<tr><th scope=row>chr1_3106869_3107182</th><td>0</td><td>0</td><td>0</td><td>0</td><td>0</td></tr>\n",
       "</tbody>\n",
       "</table>\n"
      ],
      "text/latex": [
       "A matrix: 5 × 5 of type int\n",
       "\\begin{tabular}{r|lllll}\n",
       "  & AGCGATAGAATACGATAATGGCAGCTCGCAGGACGT & AGCGATAGAATATTACTTTCCGCGGACTGTACTGAC & AGCGATAGACCAGGCGCATGGCAGCTCGATAGAGGC & AGCGATAGAGATTACGTTGCGCAATGACGTACTGAC & AGCGATAGAGGTCAGCTTGGAGTTGCGTGTACTGAC\\\\\n",
       "\\hline\n",
       "\tchr1\\_3002715\\_3002962 & 0 & 0 & 0 & 0 & 0\\\\\n",
       "\tchr1\\_3037090\\_3037634 & 0 & 0 & 0 & 0 & 0\\\\\n",
       "\tchr1\\_3084622\\_3085850 & 0 & 0 & 0 & 0 & 0\\\\\n",
       "\tchr1\\_3103610\\_3104006 & 0 & 0 & 0 & 0 & 0\\\\\n",
       "\tchr1\\_3106869\\_3107182 & 0 & 0 & 0 & 0 & 0\\\\\n",
       "\\end{tabular}\n"
      ],
      "text/markdown": [
       "\n",
       "A matrix: 5 × 5 of type int\n",
       "\n",
       "| <!--/--> | AGCGATAGAATACGATAATGGCAGCTCGCAGGACGT | AGCGATAGAATATTACTTTCCGCGGACTGTACTGAC | AGCGATAGACCAGGCGCATGGCAGCTCGATAGAGGC | AGCGATAGAGATTACGTTGCGCAATGACGTACTGAC | AGCGATAGAGGTCAGCTTGGAGTTGCGTGTACTGAC |\n",
       "|---|---|---|---|---|---|\n",
       "| chr1_3002715_3002962 | 0 | 0 | 0 | 0 | 0 |\n",
       "| chr1_3037090_3037634 | 0 | 0 | 0 | 0 | 0 |\n",
       "| chr1_3084622_3085850 | 0 | 0 | 0 | 0 | 0 |\n",
       "| chr1_3103610_3104006 | 0 | 0 | 0 | 0 | 0 |\n",
       "| chr1_3106869_3107182 | 0 | 0 | 0 | 0 | 0 |\n",
       "\n"
      ],
      "text/plain": [
       "                     AGCGATAGAATACGATAATGGCAGCTCGCAGGACGT\n",
       "chr1_3002715_3002962 0                                   \n",
       "chr1_3037090_3037634 0                                   \n",
       "chr1_3084622_3085850 0                                   \n",
       "chr1_3103610_3104006 0                                   \n",
       "chr1_3106869_3107182 0                                   \n",
       "                     AGCGATAGAATATTACTTTCCGCGGACTGTACTGAC\n",
       "chr1_3002715_3002962 0                                   \n",
       "chr1_3037090_3037634 0                                   \n",
       "chr1_3084622_3085850 0                                   \n",
       "chr1_3103610_3104006 0                                   \n",
       "chr1_3106869_3107182 0                                   \n",
       "                     AGCGATAGACCAGGCGCATGGCAGCTCGATAGAGGC\n",
       "chr1_3002715_3002962 0                                   \n",
       "chr1_3037090_3037634 0                                   \n",
       "chr1_3084622_3085850 0                                   \n",
       "chr1_3103610_3104006 0                                   \n",
       "chr1_3106869_3107182 0                                   \n",
       "                     AGCGATAGAGATTACGTTGCGCAATGACGTACTGAC\n",
       "chr1_3002715_3002962 0                                   \n",
       "chr1_3037090_3037634 0                                   \n",
       "chr1_3084622_3085850 0                                   \n",
       "chr1_3103610_3104006 0                                   \n",
       "chr1_3106869_3107182 0                                   \n",
       "                     AGCGATAGAGGTCAGCTTGGAGTTGCGTGTACTGAC\n",
       "chr1_3002715_3002962 0                                   \n",
       "chr1_3037090_3037634 0                                   \n",
       "chr1_3084622_3085850 0                                   \n",
       "chr1_3103610_3104006 0                                   \n",
       "chr1_3106869_3107182 0                                   "
      ]
     },
     "metadata": {},
     "output_type": "display_data"
    }
   ],
   "source": [
    "datafr[1:5,1:5]"
   ]
  },
  {
   "cell_type": "code",
   "execution_count": 12,
   "metadata": {},
   "outputs": [
    {
     "data": {
      "text/html": [
       "<ol class=list-inline>\n",
       "\t<li>385237</li>\n",
       "\t<li>12178</li>\n",
       "</ol>\n"
      ],
      "text/latex": [
       "\\begin{enumerate*}\n",
       "\\item 385237\n",
       "\\item 12178\n",
       "\\end{enumerate*}\n"
      ],
      "text/markdown": [
       "1. 385237\n",
       "2. 12178\n",
       "\n",
       "\n"
      ],
      "text/plain": [
       "[1] 385237  12178"
      ]
     },
     "metadata": {},
     "output_type": "display_data"
    }
   ],
   "source": [
    "dim(datafr)"
   ]
  },
  {
   "cell_type": "code",
   "execution_count": 13,
   "metadata": {},
   "outputs": [],
   "source": [
    "# saveRDS(datafr, file = './datafr.rds')\n",
    "# datafr = readRDS('./datafr.rds')"
   ]
  },
  {
   "cell_type": "code",
   "execution_count": null,
   "metadata": {},
   "outputs": [],
   "source": []
  },
  {
   "cell_type": "code",
   "execution_count": 14,
   "metadata": {},
   "outputs": [],
   "source": [
    "mat_sparse = as(datafr, \"dgTMatrix\")\n",
    "cicero_data = data.frame(cbind(Peak=rownames(datafr)[mat_sparse@i+1],\n",
    "                               Cell=colnames(datafr)[mat_sparse@j+1],\n",
    "                               Count=mat_sparse@x),stringsAsFactors = FALSE)\n",
    "cicero_data$Count = as.numeric(cicero_data$Count)"
   ]
  },
  {
   "cell_type": "code",
   "execution_count": 15,
   "metadata": {},
   "outputs": [
    {
     "data": {
      "text/html": [
       "<table>\n",
       "<caption>A data.frame: 6 × 3</caption>\n",
       "<thead>\n",
       "\t<tr><th scope=col>Peak</th><th scope=col>Cell</th><th scope=col>Count</th></tr>\n",
       "\t<tr><th scope=col>&lt;chr&gt;</th><th scope=col>&lt;chr&gt;</th><th scope=col>&lt;dbl&gt;</th></tr>\n",
       "</thead>\n",
       "<tbody>\n",
       "\t<tr><td>chr1_3254750_3255907</td><td>AGCGATAGAATACGATAATGGCAGCTCGCAGGACGT</td><td>2</td></tr>\n",
       "\t<tr><td>chr1_3378202_3378888</td><td>AGCGATAGAATACGATAATGGCAGCTCGCAGGACGT</td><td>2</td></tr>\n",
       "\t<tr><td>chr1_6443336_6444923</td><td>AGCGATAGAATACGATAATGGCAGCTCGCAGGACGT</td><td>2</td></tr>\n",
       "\t<tr><td>chr1_6584548_6585071</td><td>AGCGATAGAATACGATAATGGCAGCTCGCAGGACGT</td><td>1</td></tr>\n",
       "\t<tr><td>chr1_7127882_7129914</td><td>AGCGATAGAATACGATAATGGCAGCTCGCAGGACGT</td><td>2</td></tr>\n",
       "\t<tr><td>chr1_7136712_7137602</td><td>AGCGATAGAATACGATAATGGCAGCTCGCAGGACGT</td><td>1</td></tr>\n",
       "</tbody>\n",
       "</table>\n"
      ],
      "text/latex": [
       "A data.frame: 6 × 3\n",
       "\\begin{tabular}{r|lll}\n",
       " Peak & Cell & Count\\\\\n",
       " <chr> & <chr> & <dbl>\\\\\n",
       "\\hline\n",
       "\t chr1\\_3254750\\_3255907 & AGCGATAGAATACGATAATGGCAGCTCGCAGGACGT & 2\\\\\n",
       "\t chr1\\_3378202\\_3378888 & AGCGATAGAATACGATAATGGCAGCTCGCAGGACGT & 2\\\\\n",
       "\t chr1\\_6443336\\_6444923 & AGCGATAGAATACGATAATGGCAGCTCGCAGGACGT & 2\\\\\n",
       "\t chr1\\_6584548\\_6585071 & AGCGATAGAATACGATAATGGCAGCTCGCAGGACGT & 1\\\\\n",
       "\t chr1\\_7127882\\_7129914 & AGCGATAGAATACGATAATGGCAGCTCGCAGGACGT & 2\\\\\n",
       "\t chr1\\_7136712\\_7137602 & AGCGATAGAATACGATAATGGCAGCTCGCAGGACGT & 1\\\\\n",
       "\\end{tabular}\n"
      ],
      "text/markdown": [
       "\n",
       "A data.frame: 6 × 3\n",
       "\n",
       "| Peak &lt;chr&gt; | Cell &lt;chr&gt; | Count &lt;dbl&gt; |\n",
       "|---|---|---|\n",
       "| chr1_3254750_3255907 | AGCGATAGAATACGATAATGGCAGCTCGCAGGACGT | 2 |\n",
       "| chr1_3378202_3378888 | AGCGATAGAATACGATAATGGCAGCTCGCAGGACGT | 2 |\n",
       "| chr1_6443336_6444923 | AGCGATAGAATACGATAATGGCAGCTCGCAGGACGT | 2 |\n",
       "| chr1_6584548_6585071 | AGCGATAGAATACGATAATGGCAGCTCGCAGGACGT | 1 |\n",
       "| chr1_7127882_7129914 | AGCGATAGAATACGATAATGGCAGCTCGCAGGACGT | 2 |\n",
       "| chr1_7136712_7137602 | AGCGATAGAATACGATAATGGCAGCTCGCAGGACGT | 1 |\n",
       "\n"
      ],
      "text/plain": [
       "  Peak                 Cell                                 Count\n",
       "1 chr1_3254750_3255907 AGCGATAGAATACGATAATGGCAGCTCGCAGGACGT 2    \n",
       "2 chr1_3378202_3378888 AGCGATAGAATACGATAATGGCAGCTCGCAGGACGT 2    \n",
       "3 chr1_6443336_6444923 AGCGATAGAATACGATAATGGCAGCTCGCAGGACGT 2    \n",
       "4 chr1_6584548_6585071 AGCGATAGAATACGATAATGGCAGCTCGCAGGACGT 1    \n",
       "5 chr1_7127882_7129914 AGCGATAGAATACGATAATGGCAGCTCGCAGGACGT 2    \n",
       "6 chr1_7136712_7137602 AGCGATAGAATACGATAATGGCAGCTCGCAGGACGT 1    "
      ]
     },
     "metadata": {},
     "output_type": "display_data"
    }
   ],
   "source": [
    "head(cicero_data)"
   ]
  },
  {
   "cell_type": "code",
   "execution_count": null,
   "metadata": {},
   "outputs": [],
   "source": []
  },
  {
   "cell_type": "markdown",
   "metadata": {},
   "source": [
    "### Obtain Feature Matrix"
   ]
  },
  {
   "cell_type": "code",
   "execution_count": 16,
   "metadata": {},
   "outputs": [],
   "source": [
    "start_time <- Sys.time()"
   ]
  },
  {
   "cell_type": "code",
   "execution_count": 17,
   "metadata": {},
   "outputs": [],
   "source": [
    "metadata <- read.table('../../input/metadata.tsv',\n",
    "                         header = TRUE,\n",
    "                         stringsAsFactors=FALSE,quote=\"\",row.names=1)"
   ]
  },
  {
   "cell_type": "code",
   "execution_count": 18,
   "metadata": {
    "scrolled": true
   },
   "outputs": [],
   "source": [
    "input_cds <- make_atac_cds(cicero_data, binarize = TRUE)"
   ]
  },
  {
   "cell_type": "code",
   "execution_count": null,
   "metadata": {},
   "outputs": [],
   "source": []
  },
  {
   "cell_type": "code",
   "execution_count": 19,
   "metadata": {},
   "outputs": [],
   "source": [
    "pData(input_cds)$label = metadata[rownames(pData(input_cds)),'label']"
   ]
  },
  {
   "cell_type": "code",
   "execution_count": 20,
   "metadata": {
    "scrolled": true
   },
   "outputs": [
    {
     "data": {
      "text/html": [
       "<ol class=list-inline>\n",
       "\t<li>385237</li>\n",
       "\t<li>12178</li>\n",
       "</ol>\n"
      ],
      "text/latex": [
       "\\begin{enumerate*}\n",
       "\\item 385237\n",
       "\\item 12178\n",
       "\\end{enumerate*}\n"
      ],
      "text/markdown": [
       "1. 385237\n",
       "2. 12178\n",
       "\n",
       "\n"
      ],
      "text/plain": [
       "[1] 385237  12178"
      ]
     },
     "metadata": {},
     "output_type": "display_data"
    }
   ],
   "source": [
    "dim(input_cds)"
   ]
  },
  {
   "cell_type": "code",
   "execution_count": 21,
   "metadata": {},
   "outputs": [],
   "source": [
    "#Ensure there are no peaks included with zero reads\n",
    "input_cds <- input_cds[Matrix::rowSums(exprs(input_cds)) != 0,] "
   ]
  },
  {
   "cell_type": "code",
   "execution_count": 22,
   "metadata": {
    "scrolled": true
   },
   "outputs": [
    {
     "data": {
      "text/html": [
       "<ol class=list-inline>\n",
       "\t<li>385237</li>\n",
       "\t<li>12178</li>\n",
       "</ol>\n"
      ],
      "text/latex": [
       "\\begin{enumerate*}\n",
       "\\item 385237\n",
       "\\item 12178\n",
       "\\end{enumerate*}\n"
      ],
      "text/markdown": [
       "1. 385237\n",
       "2. 12178\n",
       "\n",
       "\n"
      ],
      "text/plain": [
       "[1] 385237  12178"
      ]
     },
     "metadata": {},
     "output_type": "display_data"
    }
   ],
   "source": [
    "dim(input_cds)"
   ]
  },
  {
   "cell_type": "code",
   "execution_count": 23,
   "metadata": {
    "scrolled": true
   },
   "outputs": [
    {
     "data": {
      "text/plain": [
       "class: cell_data_set \n",
       "dim: 385237 12178 \n",
       "metadata(1): cds_version\n",
       "assays(1): counts\n",
       "rownames(385237): chr1_3002715_3002962 chr1_3037090_3037634 ...\n",
       "  chrY_629891_631022 chrY_631121_631487\n",
       "rowData names(5): site_name chr bp1 bp2 num_cells_expressed\n",
       "colnames(12178): AGCGATAGAACGAATTCGAAGCCTACGACCTATCCT\n",
       "  AGCGATAGAACGAATTCGAAGCCTACGATATAGCCT ...\n",
       "  TCTCGCGCTTGGTAAGGATCAATATCGAGGCTCTGA\n",
       "  TCTCGCGCTTGGTAAGGATTGGTAGTCGTATAGCCT\n",
       "colData names(4): cells Size_Factor num_genes_expressed label\n",
       "reducedDimNames(0):\n",
       "spikeNames(0):"
      ]
     },
     "metadata": {},
     "output_type": "display_data"
    }
   ],
   "source": [
    "input_cds"
   ]
  },
  {
   "cell_type": "code",
   "execution_count": 24,
   "metadata": {},
   "outputs": [],
   "source": [
    "set.seed(2019)\n",
    "input_cds <- monocle3::detect_genes(input_cds)"
   ]
  },
  {
   "cell_type": "code",
   "execution_count": 25,
   "metadata": {},
   "outputs": [],
   "source": [
    "input_cds <- monocle3::estimate_size_factors(input_cds)"
   ]
  },
  {
   "cell_type": "code",
   "execution_count": 26,
   "metadata": {},
   "outputs": [],
   "source": [
    "input_cds <- monocle3::preprocess_cds(input_cds, method = \"PCA\")"
   ]
  },
  {
   "cell_type": "code",
   "execution_count": 27,
   "metadata": {},
   "outputs": [],
   "source": [
    "input_cds <- monocle3::reduce_dimension(input_cds, max_components = 2,\n",
    "                        reduction_method = 'tSNE', norm_method = \"PCA\")"
   ]
  },
  {
   "cell_type": "code",
   "execution_count": 28,
   "metadata": {},
   "outputs": [],
   "source": [
    "tsne_coords <- reducedDims(input_cds)$tSNE"
   ]
  },
  {
   "cell_type": "code",
   "execution_count": 29,
   "metadata": {},
   "outputs": [
    {
     "data": {
      "text/html": [
       "<table>\n",
       "<caption>A matrix: 6 × 2 of type dbl</caption>\n",
       "<tbody>\n",
       "\t<tr><th scope=row>AGCGATAGAACGAATTCGAAGCCTACGACCTATCCT</th><td>  5.753484</td><td>  7.379997</td></tr>\n",
       "\t<tr><th scope=row>AGCGATAGAACGAATTCGAAGCCTACGATATAGCCT</th><td> 20.106651</td><td>  4.298927</td></tr>\n",
       "\t<tr><th scope=row>AGCGATAGAACGAATTCGACTGAGCGACTATAGCCT</th><td>-34.422202</td><td> 22.735345</td></tr>\n",
       "\t<tr><th scope=row>AGCGATAGAACGAATTCGCAATGAGTCCCAGGACGT</th><td> 40.481276</td><td> -8.924276</td></tr>\n",
       "\t<tr><th scope=row>AGCGATAGAACGAATTCGCCTCCGACGGGTACTGAC</th><td> 22.238024</td><td>  5.116645</td></tr>\n",
       "\t<tr><th scope=row>AGCGATAGAACGAATTCGGCGATTGCAGCCTATCCT</th><td> 17.932063</td><td>-20.208207</td></tr>\n",
       "</tbody>\n",
       "</table>\n"
      ],
      "text/latex": [
       "A matrix: 6 × 2 of type dbl\n",
       "\\begin{tabular}{r|ll}\n",
       "\tAGCGATAGAACGAATTCGAAGCCTACGACCTATCCT &   5.753484 &   7.379997\\\\\n",
       "\tAGCGATAGAACGAATTCGAAGCCTACGATATAGCCT &  20.106651 &   4.298927\\\\\n",
       "\tAGCGATAGAACGAATTCGACTGAGCGACTATAGCCT & -34.422202 &  22.735345\\\\\n",
       "\tAGCGATAGAACGAATTCGCAATGAGTCCCAGGACGT &  40.481276 &  -8.924276\\\\\n",
       "\tAGCGATAGAACGAATTCGCCTCCGACGGGTACTGAC &  22.238024 &   5.116645\\\\\n",
       "\tAGCGATAGAACGAATTCGGCGATTGCAGCCTATCCT &  17.932063 & -20.208207\\\\\n",
       "\\end{tabular}\n"
      ],
      "text/markdown": [
       "\n",
       "A matrix: 6 × 2 of type dbl\n",
       "\n",
       "| AGCGATAGAACGAATTCGAAGCCTACGACCTATCCT |   5.753484 |   7.379997 |\n",
       "| AGCGATAGAACGAATTCGAAGCCTACGATATAGCCT |  20.106651 |   4.298927 |\n",
       "| AGCGATAGAACGAATTCGACTGAGCGACTATAGCCT | -34.422202 |  22.735345 |\n",
       "| AGCGATAGAACGAATTCGCAATGAGTCCCAGGACGT |  40.481276 |  -8.924276 |\n",
       "| AGCGATAGAACGAATTCGCCTCCGACGGGTACTGAC |  22.238024 |   5.116645 |\n",
       "| AGCGATAGAACGAATTCGGCGATTGCAGCCTATCCT |  17.932063 | -20.208207 |\n",
       "\n"
      ],
      "text/plain": [
       "                                     [,1]       [,2]      \n",
       "AGCGATAGAACGAATTCGAAGCCTACGACCTATCCT   5.753484   7.379997\n",
       "AGCGATAGAACGAATTCGAAGCCTACGATATAGCCT  20.106651   4.298927\n",
       "AGCGATAGAACGAATTCGACTGAGCGACTATAGCCT -34.422202  22.735345\n",
       "AGCGATAGAACGAATTCGCAATGAGTCCCAGGACGT  40.481276  -8.924276\n",
       "AGCGATAGAACGAATTCGCCTCCGACGGGTACTGAC  22.238024   5.116645\n",
       "AGCGATAGAACGAATTCGGCGATTGCAGCCTATCCT  17.932063 -20.208207"
      ]
     },
     "metadata": {},
     "output_type": "display_data"
    }
   ],
   "source": [
    "head(tsne_coords)"
   ]
  },
  {
   "cell_type": "code",
   "execution_count": 30,
   "metadata": {
    "scrolled": true
   },
   "outputs": [],
   "source": [
    "df_tsne_coords = data.frame(cbind(tsne_coords,as.character(pData(input_cds)$label)),stringsAsFactors = FALSE)\n",
    "colnames(df_tsne_coords) = c('tsne_1','tsne_2','label')\n",
    "df_tsne_coords$tsne_1 = as.numeric(df_tsne_coords$tsne_1)\n",
    "df_tsne_coords$tsne_2 = as.numeric(df_tsne_coords$tsne_2)"
   ]
  },
  {
   "cell_type": "code",
   "execution_count": 31,
   "metadata": {},
   "outputs": [
    {
     "data": {
      "image/png": "[encoded data removed]",
      "text/plain": [
       "plot without title"
      ]
     },
     "metadata": {},
     "output_type": "display_data"
    }
   ],
   "source": [
    "options(repr.plot.width=4, repr.plot.height=3)\n",
    "p <- ggplot(shuf(df_tsne_coords), aes(x = tsne_1, y = tsne_2, color = label)) +\n",
    "  geom_point(size = 1)+\n",
    "  ggtitle('tSNE') + theme_classic()\n",
    "p"
   ]
  },
  {
   "cell_type": "code",
   "execution_count": null,
   "metadata": {},
   "outputs": [],
   "source": []
  },
  {
   "cell_type": "code",
   "execution_count": 32,
   "metadata": {},
   "outputs": [],
   "source": [
    "mouse.mm9.genome = read.table('../../input/mm9/mm9.chrom.sizes')\n",
    "genome_ref = mouse.mm9.genome\n",
    "file_tss='../../input/mm9/mm9-tss.bed'"
   ]
  },
  {
   "cell_type": "code",
   "execution_count": 33,
   "metadata": {
    "scrolled": true
   },
   "outputs": [
    {
     "data": {
      "text/html": [
       "<table>\n",
       "<caption>A data.frame: 6 × 2</caption>\n",
       "<thead>\n",
       "\t<tr><th scope=col>V1</th><th scope=col>V2</th></tr>\n",
       "\t<tr><th scope=col>&lt;fct&gt;</th><th scope=col>&lt;int&gt;</th></tr>\n",
       "</thead>\n",
       "<tbody>\n",
       "\t<tr><td>chr1</td><td>197195432</td></tr>\n",
       "\t<tr><td>chr2</td><td>181748087</td></tr>\n",
       "\t<tr><td>chr3</td><td>159599783</td></tr>\n",
       "\t<tr><td>chr4</td><td>155630120</td></tr>\n",
       "\t<tr><td>chr5</td><td>152537259</td></tr>\n",
       "\t<tr><td>chr6</td><td>149517037</td></tr>\n",
       "</tbody>\n",
       "</table>\n"
      ],
      "text/latex": [
       "A data.frame: 6 × 2\n",
       "\\begin{tabular}{r|ll}\n",
       " V1 & V2\\\\\n",
       " <fct> & <int>\\\\\n",
       "\\hline\n",
       "\t chr1 & 197195432\\\\\n",
       "\t chr2 & 181748087\\\\\n",
       "\t chr3 & 159599783\\\\\n",
       "\t chr4 & 155630120\\\\\n",
       "\t chr5 & 152537259\\\\\n",
       "\t chr6 & 149517037\\\\\n",
       "\\end{tabular}\n"
      ],
      "text/markdown": [
       "\n",
       "A data.frame: 6 × 2\n",
       "\n",
       "| V1 &lt;fct&gt; | V2 &lt;int&gt; |\n",
       "|---|---|\n",
       "| chr1 | 197195432 |\n",
       "| chr2 | 181748087 |\n",
       "| chr3 | 159599783 |\n",
       "| chr4 | 155630120 |\n",
       "| chr5 | 152537259 |\n",
       "| chr6 | 149517037 |\n",
       "\n"
      ],
      "text/plain": [
       "  V1   V2       \n",
       "1 chr1 197195432\n",
       "2 chr2 181748087\n",
       "3 chr3 159599783\n",
       "4 chr4 155630120\n",
       "5 chr5 152537259\n",
       "6 chr6 149517037"
      ]
     },
     "metadata": {},
     "output_type": "display_data"
    }
   ],
   "source": [
    "head(genome_ref)"
   ]
  },
  {
   "cell_type": "code",
   "execution_count": null,
   "metadata": {
    "scrolled": true
   },
   "outputs": [
    {
     "name": "stderr",
     "output_type": "stream",
     "text": [
      "Overlap QC metrics:\n",
      "Cells per bin: 50\n",
      "Maximum shared cells bin-bin: 44\n",
      "Mean shared cells bin-bin: 0.217377279116039\n",
      "Median shared cells bin-bin: 0\n"
     ]
    }
   ],
   "source": [
    "row.names(tsne_coords) <- row.names(pData(input_cds))\n",
    "cicero_cds <- make_cicero_cds(input_cds, reduced_coordinates = tsne_coords)\n",
    "conns <- run_cicero(cicero_cds, genome_ref)"
   ]
  },
  {
   "cell_type": "code",
   "execution_count": null,
   "metadata": {
    "scrolled": true
   },
   "outputs": [],
   "source": [
    "gene_annotation <- read.table(file_tss,sep='\\t')\n",
    "names(gene_annotation)[4] <- \"gene\"    \n",
    "gene_annotation_pos <- subset(gene_annotation, V5 == \"+\")\n",
    "gene_annotation_pos$V3 <- gene_annotation_pos$V2 + 1\n",
    "gene_annotation_neg <- subset(gene_annotation, V5 == \"-\")\n",
    "gene_annotation_neg$V2 <- gene_annotation_neg$V3 - 1\n",
    "tss <- rbind(gene_annotation_pos, gene_annotation_neg)    "
   ]
  },
  {
   "cell_type": "code",
   "execution_count": null,
   "metadata": {},
   "outputs": [],
   "source": [
    "input_cds <- annotate_cds_by_site(input_cds, tss)\n",
    "# generate unnormalized gene activity matrix\n",
    "unnorm_ga <- build_gene_activity_matrix(input_cds, conns)\n",
    "unnorm_ga <- unnorm_ga[!Matrix::rowSums(unnorm_ga) == 0,]\n",
    "\n",
    "# make a list of num_genes_expressed\n",
    "num_genes <- pData(input_cds)$num_genes_expressed\n",
    "names(num_genes) <- row.names(pData(input_cds))\n",
    "\n",
    "# normalize\n",
    "cicero_gene_activities <- normalize_gene_activities(unnorm_ga, num_genes)    \n",
    "fm_Cicero = as.matrix(cicero_gene_activities)"
   ]
  },
  {
   "cell_type": "code",
   "execution_count": null,
   "metadata": {},
   "outputs": [],
   "source": [
    "end_time <- Sys.time()"
   ]
  },
  {
   "cell_type": "code",
   "execution_count": 40,
   "metadata": {},
   "outputs": [
    {
     "data": {
      "text/plain": [
       "Time difference of 3.974864 hours"
      ]
     },
     "metadata": {},
     "output_type": "display_data"
    }
   ],
   "source": [
    "end_time - start_time"
   ]
  },
  {
   "cell_type": "code",
   "execution_count": 41,
   "metadata": {},
   "outputs": [
    {
     "data": {
      "text/html": [
       "FALSE"
      ],
      "text/latex": [
       "FALSE"
      ],
      "text/markdown": [
       "FALSE"
      ],
      "text/plain": [
       "[1] FALSE"
      ]
     },
     "metadata": {},
     "output_type": "display_data"
    }
   ],
   "source": [
    "all(colnames(fm_Cicero) == rownames(metadata))"
   ]
  },
  {
   "cell_type": "code",
   "execution_count": 42,
   "metadata": {},
   "outputs": [
    {
     "data": {
      "text/html": [
       "<table>\n",
       "<caption>A matrix: 3 × 3 of type dbl</caption>\n",
       "<thead>\n",
       "\t<tr><th></th><th scope=col>AGCGATAGAACGAATTCGAAGCCTACGACCTATCCT</th><th scope=col>AGCGATAGAACGAATTCGAAGCCTACGATATAGCCT</th><th scope=col>AGCGATAGAACGAATTCGACTGAGCGACTATAGCCT</th></tr>\n",
       "</thead>\n",
       "<tbody>\n",
       "\t<tr><th scope=row>0610005C13Rik</th><td>0.0001183164</td><td>0.0000000000</td><td>1.905327e-05</td></tr>\n",
       "\t<tr><th scope=row>0610007C21Rik</th><td>0.0000000000</td><td>0.0002032640</td><td>0.000000e+00</td></tr>\n",
       "\t<tr><th scope=row>0610007N19Rik</th><td>0.0000000000</td><td>0.0005284018</td><td>3.645020e-04</td></tr>\n",
       "</tbody>\n",
       "</table>\n"
      ],
      "text/latex": [
       "A matrix: 3 × 3 of type dbl\n",
       "\\begin{tabular}{r|lll}\n",
       "  & AGCGATAGAACGAATTCGAAGCCTACGACCTATCCT & AGCGATAGAACGAATTCGAAGCCTACGATATAGCCT & AGCGATAGAACGAATTCGACTGAGCGACTATAGCCT\\\\\n",
       "\\hline\n",
       "\t0610005C13Rik & 0.0001183164 & 0.0000000000 & 1.905327e-05\\\\\n",
       "\t0610007C21Rik & 0.0000000000 & 0.0002032640 & 0.000000e+00\\\\\n",
       "\t0610007N19Rik & 0.0000000000 & 0.0005284018 & 3.645020e-04\\\\\n",
       "\\end{tabular}\n"
      ],
      "text/markdown": [
       "\n",
       "A matrix: 3 × 3 of type dbl\n",
       "\n",
       "| <!--/--> | AGCGATAGAACGAATTCGAAGCCTACGACCTATCCT | AGCGATAGAACGAATTCGAAGCCTACGATATAGCCT | AGCGATAGAACGAATTCGACTGAGCGACTATAGCCT |\n",
       "|---|---|---|---|\n",
       "| 0610005C13Rik | 0.0001183164 | 0.0000000000 | 1.905327e-05 |\n",
       "| 0610007C21Rik | 0.0000000000 | 0.0002032640 | 0.000000e+00 |\n",
       "| 0610007N19Rik | 0.0000000000 | 0.0005284018 | 3.645020e-04 |\n",
       "\n"
      ],
      "text/plain": [
       "              AGCGATAGAACGAATTCGAAGCCTACGACCTATCCT\n",
       "0610005C13Rik 0.0001183164                        \n",
       "0610007C21Rik 0.0000000000                        \n",
       "0610007N19Rik 0.0000000000                        \n",
       "              AGCGATAGAACGAATTCGAAGCCTACGATATAGCCT\n",
       "0610005C13Rik 0.0000000000                        \n",
       "0610007C21Rik 0.0002032640                        \n",
       "0610007N19Rik 0.0005284018                        \n",
       "              AGCGATAGAACGAATTCGACTGAGCGACTATAGCCT\n",
       "0610005C13Rik 1.905327e-05                        \n",
       "0610007C21Rik 0.000000e+00                        \n",
       "0610007N19Rik 3.645020e-04                        "
      ]
     },
     "metadata": {},
     "output_type": "display_data"
    }
   ],
   "source": [
    "fm_Cicero[1:3,1:3]"
   ]
  },
  {
   "cell_type": "code",
   "execution_count": 45,
   "metadata": {},
   "outputs": [
    {
     "data": {
      "text/html": [
       "<ol class=list-inline>\n",
       "\t<li>16792</li>\n",
       "\t<li>12178</li>\n",
       "</ol>\n"
      ],
      "text/latex": [
       "\\begin{enumerate*}\n",
       "\\item 16792\n",
       "\\item 12178\n",
       "\\end{enumerate*}\n"
      ],
      "text/markdown": [
       "1. 16792\n",
       "2. 12178\n",
       "\n",
       "\n"
      ],
      "text/plain": [
       "[1] 16792 12178"
      ]
     },
     "metadata": {},
     "output_type": "display_data"
    },
    {
     "data": {
      "text/html": [
       "<table>\n",
       "<caption>A matrix: 3 × 3 of type dbl</caption>\n",
       "<thead>\n",
       "\t<tr><th></th><th scope=col>TCCGCGAACTAACTAGGTTGCTACGGTCATAGAGGC</th><th scope=col>TCCGCGAAAGGTCAGCTTTGCGGATAGTGTACTGAC</th><th scope=col>ATTACTCGTTGCCGTAGGCTTAATCTTGTATAGCCT</th></tr>\n",
       "</thead>\n",
       "<tbody>\n",
       "\t<tr><th scope=row>0610005C13Rik</th><td>0</td><td>0</td><td>0</td></tr>\n",
       "\t<tr><th scope=row>0610007C21Rik</th><td>0</td><td>0</td><td>0</td></tr>\n",
       "\t<tr><th scope=row>0610007N19Rik</th><td>0</td><td>0</td><td>0</td></tr>\n",
       "</tbody>\n",
       "</table>\n"
      ],
      "text/latex": [
       "A matrix: 3 × 3 of type dbl\n",
       "\\begin{tabular}{r|lll}\n",
       "  & TCCGCGAACTAACTAGGTTGCTACGGTCATAGAGGC & TCCGCGAAAGGTCAGCTTTGCGGATAGTGTACTGAC & ATTACTCGTTGCCGTAGGCTTAATCTTGTATAGCCT\\\\\n",
       "\\hline\n",
       "\t0610005C13Rik & 0 & 0 & 0\\\\\n",
       "\t0610007C21Rik & 0 & 0 & 0\\\\\n",
       "\t0610007N19Rik & 0 & 0 & 0\\\\\n",
       "\\end{tabular}\n"
      ],
      "text/markdown": [
       "\n",
       "A matrix: 3 × 3 of type dbl\n",
       "\n",
       "| <!--/--> | TCCGCGAACTAACTAGGTTGCTACGGTCATAGAGGC | TCCGCGAAAGGTCAGCTTTGCGGATAGTGTACTGAC | ATTACTCGTTGCCGTAGGCTTAATCTTGTATAGCCT |\n",
       "|---|---|---|---|\n",
       "| 0610005C13Rik | 0 | 0 | 0 |\n",
       "| 0610007C21Rik | 0 | 0 | 0 |\n",
       "| 0610007N19Rik | 0 | 0 | 0 |\n",
       "\n"
      ],
      "text/plain": [
       "              TCCGCGAACTAACTAGGTTGCTACGGTCATAGAGGC\n",
       "0610005C13Rik 0                                   \n",
       "0610007C21Rik 0                                   \n",
       "0610007N19Rik 0                                   \n",
       "              TCCGCGAAAGGTCAGCTTTGCGGATAGTGTACTGAC\n",
       "0610005C13Rik 0                                   \n",
       "0610007C21Rik 0                                   \n",
       "0610007N19Rik 0                                   \n",
       "              ATTACTCGTTGCCGTAGGCTTAATCTTGTATAGCCT\n",
       "0610005C13Rik 0                                   \n",
       "0610007C21Rik 0                                   \n",
       "0610007N19Rik 0                                   "
      ]
     },
     "metadata": {},
     "output_type": "display_data"
    }
   ],
   "source": [
    "fm_Cicero = fm_Cicero[,rownames(metadata)]\n",
    "dim(fm_Cicero)\n",
    "fm_Cicero[1:3,1:3]"
   ]
  },
  {
   "cell_type": "code",
   "execution_count": 46,
   "metadata": {},
   "outputs": [
    {
     "data": {
      "text/html": [
       "TRUE"
      ],
      "text/latex": [
       "TRUE"
      ],
      "text/markdown": [
       "TRUE"
      ],
      "text/plain": [
       "[1] TRUE"
      ]
     },
     "metadata": {},
     "output_type": "display_data"
    }
   ],
   "source": [
    "all(colnames(fm_Cicero) == rownames(metadata))"
   ]
  },
  {
   "cell_type": "code",
   "execution_count": 48,
   "metadata": {},
   "outputs": [],
   "source": [
    "saveRDS(fm_Cicero, file = '../../output/feature_matrices/FM_Cicero_cusanovich2018subset.rds')"
   ]
  },
  {
   "cell_type": "code",
   "execution_count": null,
   "metadata": {},
   "outputs": [],
   "source": []
  },
  {
   "cell_type": "markdown",
   "metadata": {},
   "source": [
    "### Downstream Analysis"
   ]
  },
  {
   "cell_type": "code",
   "execution_count": 49,
   "metadata": {},
   "outputs": [],
   "source": [
    "df_umap_Cicero <- umap(t(fm_Cicero))$layout"
   ]
  },
  {
   "cell_type": "code",
   "execution_count": 50,
   "metadata": {},
   "outputs": [
    {
     "data": {
      "image/png": "[encoded data removed]",
      "text/plain": [
       "plot without title"
      ]
     },
     "metadata": {},
     "output_type": "display_data"
    }
   ],
   "source": [
    "df_umap = data.frame(cbind(df_umap_Cicero,metadata[,'label']),stringsAsFactors = FALSE)\n",
    "colnames(df_umap) = c('umap_1','umap_2','label')\n",
    "df_umap$umap_1 = as.numeric(df_umap$umap_1)\n",
    "df_umap$umap_2 = as.numeric(df_umap$umap_2)\n",
    "options(repr.plot.width=5, repr.plot.height=4)\n",
    "p <- ggplot(df_umap, aes(x = umap_1, y = umap_2, color = label)) +\n",
    "  geom_point(size = 1) + \n",
    "  ggtitle('Cicero') + theme_classic()\n",
    "p"
   ]
  },
  {
   "cell_type": "code",
   "execution_count": null,
   "metadata": {},
   "outputs": [],
   "source": []
  },
  {
   "cell_type": "code",
   "execution_count": 51,
   "metadata": {
    "scrolled": true
   },
   "outputs": [
    {
     "data": {
      "text/plain": [
       "R version 3.5.1 (2018-07-02)\n",
       "Platform: x86_64-conda_cos6-linux-gnu (64-bit)\n",
       "Running under: CentOS Linux 7 (Core)\n",
       "\n",
       "Matrix products: default\n",
       "BLAS/LAPACK: /data/pinello/SHARED_SOFTWARE/anaconda3/envs/ATACseq_Cicero_m3/lib/R/lib/libRblas.so\n",
       "\n",
       "locale:\n",
       " [1] LC_CTYPE=en_US.UTF-8       LC_NUMERIC=C              \n",
       " [3] LC_TIME=en_US.UTF-8        LC_COLLATE=en_US.UTF-8    \n",
       " [5] LC_MONETARY=en_US.UTF-8    LC_MESSAGES=en_US.UTF-8   \n",
       " [7] LC_PAPER=en_US.UTF-8       LC_NAME=C                 \n",
       " [9] LC_ADDRESS=C               LC_TELEPHONE=C            \n",
       "[11] LC_MEASUREMENT=en_US.UTF-8 LC_IDENTIFICATION=C       \n",
       "\n",
       "attached base packages:\n",
       " [1] grid      stats4    parallel  stats     graphics  grDevices utils    \n",
       " [8] datasets  methods   base     \n",
       "\n",
       "other attached packages:\n",
       " [1] umap_0.2.2.0                BuenColors_0.5.5           \n",
       " [3] ggplot2_3.2.0               MASS_7.3-51.4              \n",
       " [5] reshape2_1.4.3              proxy_0.4-23               \n",
       " [7] Matrix_1.2-17               data.table_1.12.2          \n",
       " [9] cicero_1.3.2                Gviz_1.26.4                \n",
       "[11] monocle3_0.1.2              SingleCellExperiment_1.4.0 \n",
       "[13] SummarizedExperiment_1.12.0 DelayedArray_0.8.0         \n",
       "[15] BiocParallel_1.16.6         matrixStats_0.54.0         \n",
       "[17] GenomicRanges_1.34.0        GenomeInfoDb_1.18.1        \n",
       "[19] IRanges_2.16.0              S4Vectors_0.20.1           \n",
       "[21] Biobase_2.42.0              BiocGenerics_0.28.0        \n",
       "\n",
       "loaded via a namespace (and not attached):\n",
       "  [1] Rtsne_0.15               VGAM_1.1-1               colorspace_1.4-1        \n",
       "  [4] biovizBase_1.30.1        IRdisplay_0.7.0          htmlTable_1.13.1        \n",
       "  [7] XVector_0.22.0           base64enc_0.1-3          dichromat_2.0-0         \n",
       " [10] rstudioapi_0.10          bit64_0.9-7              RSpectra_0.15-0         \n",
       " [13] AnnotationDbi_1.44.0     splines_3.5.1            knitr_1.23              \n",
       " [16] glasso_1.10              zeallot_0.1.0            IRkernel_1.0.2          \n",
       " [19] Formula_1.2-3            jsonlite_1.6             Rsamtools_1.34.0        \n",
       " [22] cluster_2.1.0            HDF5Array_1.10.1         compiler_3.5.1          \n",
       " [25] httr_1.4.0               backports_1.1.4          assertthat_0.2.1        \n",
       " [28] lazyeval_0.2.2           acepack_1.4.1            htmltools_0.3.6         \n",
       " [31] prettyunits_1.0.2        tools_3.5.1              gtable_0.3.0            \n",
       " [34] glue_1.3.1               GenomeInfoDbData_1.2.1   dplyr_0.8.3             \n",
       " [37] Rcpp_1.0.2               vctrs_0.2.0              Biostrings_2.50.2       \n",
       " [40] rtracklayer_1.42.1       DelayedMatrixStats_1.4.0 xfun_0.8                \n",
       " [43] stringr_1.4.0            irlba_2.3.3              ensembldb_2.6.3         \n",
       " [46] XML_3.98-1.20            zlibbioc_1.28.0          scales_1.0.0            \n",
       " [49] BSgenome_1.50.0          VariantAnnotation_1.28.3 hms_0.5.0               \n",
       " [52] ProtGenerics_1.14.0      rhdf5_2.26.2             AnnotationFilter_1.6.0  \n",
       " [55] RColorBrewer_1.1-2       curl_4.0                 memoise_1.1.0           \n",
       " [58] reticulate_1.12          gridExtra_2.3            biomaRt_2.38.0          \n",
       " [61] rpart_4.1-15             latticeExtra_0.6-28      stringi_1.4.3           \n",
       " [64] RSQLite_2.1.2            checkmate_1.9.4          GenomicFeatures_1.34.1  \n",
       " [67] repr_1.0.1               rlang_0.4.0              pkgconfig_2.0.2         \n",
       " [70] bitops_1.0-6             evaluate_0.14            lattice_0.20-38         \n",
       " [73] purrr_0.3.2              Rhdf5lib_1.4.3           labeling_0.3            \n",
       " [76] GenomicAlignments_1.18.1 htmlwidgets_1.3          bit_1.1-14              \n",
       " [79] tidyselect_0.2.5         plyr_1.8.4               magrittr_1.5            \n",
       " [82] R6_2.4.0                 Hmisc_4.2-0              pbdZMQ_0.3-3            \n",
       " [85] DBI_1.0.0                pillar_1.4.2             foreign_0.8-71          \n",
       " [88] withr_2.1.2              survival_2.44-1.1        RCurl_1.95-4.12         \n",
       " [91] nnet_7.3-12              tibble_2.1.3             crayon_1.3.4            \n",
       " [94] uuid_0.1-2               viridis_0.5.1            progress_1.2.2          \n",
       " [97] FNN_1.1.3                blob_1.2.0               digest_0.6.20           \n",
       "[100] munsell_0.5.0            viridisLite_0.3.0       "
      ]
     },
     "metadata": {},
     "output_type": "display_data"
    }
   ],
   "source": [
    "sessionInfo()"
   ]
  },
  {
   "cell_type": "code",
   "execution_count": 52,
   "metadata": {},
   "outputs": [],
   "source": [
    "save.image(file = 'Cicero_cusanovich2018subset.RData')"
   ]
  },
  {
   "cell_type": "code",
   "execution_count": null,
   "metadata": {},
   "outputs": [],
   "source": []
  }
 ],
 "metadata": {
  "kernelspec": {
   "display_name": "R [conda env:ATACseq_Cicero_m3]",
   "language": "R",
   "name": "conda-env-ATACseq_Cicero_m3-r"
  },
  "language_info": {
   "codemirror_mode": "r",
   "file_extension": ".r",
   "mimetype": "text/x-r-source",
   "name": "R",
   "pygments_lexer": "r",
   "version": "3.5.1"
  }
 },
 "nbformat": 4,
 "nbformat_minor": 2
}
