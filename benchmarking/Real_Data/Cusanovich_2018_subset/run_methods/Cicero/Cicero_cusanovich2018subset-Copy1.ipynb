{
 "cells": [
  {
   "cell_type": "markdown",
   "metadata": {},
   "source": [
    "### Installation"
   ]
  },
  {
   "cell_type": "code",
   "execution_count": 1,
   "metadata": {},
   "outputs": [],
   "source": [
    "# if (!requireNamespace(\"BiocManager\", quietly = TRUE))\n",
    "#      install.packages(\"BiocManager\")\n",
    "#   BiocManager::install(\"cicero\")"
   ]
  },
  {
   "cell_type": "markdown",
   "metadata": {},
   "source": [
    "Vignette: https://www.bioconductor.org/packages/devel/bioc/vignettes/cicero/inst/doc/website.html"
   ]
  },
  {
   "cell_type": "code",
   "execution_count": null,
   "metadata": {},
   "outputs": [],
   "source": []
  },
  {
   "cell_type": "markdown",
   "metadata": {},
   "source": [
    "### Import packages"
   ]
  },
  {
   "cell_type": "code",
   "execution_count": 2,
   "metadata": {},
   "outputs": [
    {
     "name": "stderr",
     "output_type": "stream",
     "text": [
      "Loading required package: monocle\n",
      "Loading required package: Matrix\n",
      "Loading required package: Biobase\n",
      "Loading required package: BiocGenerics\n",
      "Loading required package: parallel\n",
      "\n",
      "Attaching package: ‘BiocGenerics’\n",
      "\n",
      "The following objects are masked from ‘package:parallel’:\n",
      "\n",
      "    clusterApply, clusterApplyLB, clusterCall, clusterEvalQ,\n",
      "    clusterExport, clusterMap, parApply, parCapply, parLapply,\n",
      "    parLapplyLB, parRapply, parSapply, parSapplyLB\n",
      "\n",
      "The following objects are masked from ‘package:Matrix’:\n",
      "\n",
      "    colMeans, colSums, rowMeans, rowSums, which\n",
      "\n",
      "The following objects are masked from ‘package:stats’:\n",
      "\n",
      "    IQR, mad, sd, var, xtabs\n",
      "\n",
      "The following objects are masked from ‘package:base’:\n",
      "\n",
      "    anyDuplicated, append, as.data.frame, basename, cbind, colMeans,\n",
      "    colnames, colSums, dirname, do.call, duplicated, eval, evalq,\n",
      "    Filter, Find, get, grep, grepl, intersect, is.unsorted, lapply,\n",
      "    lengths, Map, mapply, match, mget, order, paste, pmax, pmax.int,\n",
      "    pmin, pmin.int, Position, rank, rbind, Reduce, rowMeans, rownames,\n",
      "    rowSums, sapply, setdiff, sort, table, tapply, union, unique,\n",
      "    unsplit, which, which.max, which.min\n",
      "\n",
      "Welcome to Bioconductor\n",
      "\n",
      "    Vignettes contain introductory material; view with\n",
      "    'browseVignettes()'. To cite Bioconductor, see\n",
      "    'citation(\"Biobase\")', and for packages 'citation(\"pkgname\")'.\n",
      "\n",
      "Loading required package: ggplot2\n",
      "Loading required package: VGAM\n",
      "Loading required package: stats4\n",
      "Loading required package: splines\n",
      "Loading required package: DDRTree\n",
      "Loading required package: irlba\n",
      "Loading required package: Gviz\n",
      "Loading required package: S4Vectors\n",
      "\n",
      "Attaching package: ‘S4Vectors’\n",
      "\n",
      "The following object is masked from ‘package:Matrix’:\n",
      "\n",
      "    expand\n",
      "\n",
      "The following object is masked from ‘package:base’:\n",
      "\n",
      "    expand.grid\n",
      "\n",
      "Loading required package: IRanges\n",
      "Loading required package: GenomicRanges\n",
      "Loading required package: GenomeInfoDb\n",
      "Loading required package: grid\n",
      "\n",
      "Attaching package: 'data.table'\n",
      "\n",
      "The following object is masked from 'package:GenomicRanges':\n",
      "\n",
      "    shift\n",
      "\n",
      "The following object is masked from 'package:IRanges':\n",
      "\n",
      "    shift\n",
      "\n",
      "The following objects are masked from 'package:S4Vectors':\n",
      "\n",
      "    first, second\n",
      "\n",
      "\n",
      "Attaching package: 'proxy'\n",
      "\n",
      "The following object is masked from 'package:IRanges':\n",
      "\n",
      "    as.matrix\n",
      "\n",
      "The following object is masked from 'package:S4Vectors':\n",
      "\n",
      "    as.matrix\n",
      "\n",
      "The following object is masked from 'package:Matrix':\n",
      "\n",
      "    as.matrix\n",
      "\n",
      "The following objects are masked from 'package:stats':\n",
      "\n",
      "    as.dist, dist\n",
      "\n",
      "The following object is masked from 'package:base':\n",
      "\n",
      "    as.matrix\n",
      "\n",
      "\n",
      "Attaching package: 'reshape2'\n",
      "\n",
      "The following objects are masked from 'package:data.table':\n",
      "\n",
      "    dcast, melt\n",
      "\n",
      "Loading required package: MASS\n"
     ]
    }
   ],
   "source": [
    "library(cicero)\n",
    "library(data.table)\n",
    "library(Matrix)\n",
    "library(proxy)\n",
    "library(reshape2)\n",
    "library(BuenColors)\n",
    "library(umap)"
   ]
  },
  {
   "cell_type": "code",
   "execution_count": null,
   "metadata": {},
   "outputs": [],
   "source": []
  },
  {
   "cell_type": "markdown",
   "metadata": {},
   "source": [
    "### Preprocess"
   ]
  },
  {
   "cell_type": "markdown",
   "metadata": {},
   "source": [
    "`bsub < count_reads_peaks.sh`"
   ]
  },
  {
   "cell_type": "code",
   "execution_count": 3,
   "metadata": {},
   "outputs": [
    {
     "data": {
      "text/html": [
       "12178"
      ],
      "text/latex": [
       "12178"
      ],
      "text/markdown": [
       "12178"
      ],
      "text/plain": [
       "[1] 12178"
      ]
     },
     "metadata": {},
     "output_type": "display_data"
    }
   ],
   "source": [
    "path = './count_reads_peaks_output/'\n",
    "files <- list.files(path,pattern = \"\\\\.txt$\")\n",
    "length(files)"
   ]
  },
  {
   "cell_type": "code",
   "execution_count": null,
   "metadata": {},
   "outputs": [],
   "source": [
    "#assuming tab separated values with a header    \n",
    "datalist = lapply(files, function(x)fread(paste0(path,x))$V4) \n",
    "#assuming the same header/columns for all files\n",
    "datafr = do.call(\"cbind\", datalist) "
   ]
  },
  {
   "cell_type": "code",
   "execution_count": 5,
   "metadata": {
    "scrolled": true
   },
   "outputs": [
    {
     "data": {
      "text/html": [
       "<ol class=list-inline>\n",
       "\t<li>385237</li>\n",
       "\t<li>12178</li>\n",
       "</ol>\n"
      ],
      "text/latex": [
       "\\begin{enumerate*}\n",
       "\\item 385237\n",
       "\\item 12178\n",
       "\\end{enumerate*}\n"
      ],
      "text/markdown": [
       "1. 385237\n",
       "2. 12178\n",
       "\n",
       "\n"
      ],
      "text/plain": [
       "[1] 385237  12178"
      ]
     },
     "metadata": {},
     "output_type": "display_data"
    }
   ],
   "source": [
    "dim(datafr)"
   ]
  },
  {
   "cell_type": "code",
   "execution_count": 6,
   "metadata": {},
   "outputs": [],
   "source": [
    "df_regions = read.csv(\"../../input/combined.sorted.merged.bed\",\n",
    "                      sep = '\\t',header=FALSE,stringsAsFactors=FALSE)"
   ]
  },
  {
   "cell_type": "code",
   "execution_count": 7,
   "metadata": {},
   "outputs": [
    {
     "data": {
      "text/html": [
       "<ol class=list-inline>\n",
       "\t<li>385237</li>\n",
       "\t<li>3</li>\n",
       "</ol>\n"
      ],
      "text/latex": [
       "\\begin{enumerate*}\n",
       "\\item 385237\n",
       "\\item 3\n",
       "\\end{enumerate*}\n"
      ],
      "text/markdown": [
       "1. 385237\n",
       "2. 3\n",
       "\n",
       "\n"
      ],
      "text/plain": [
       "[1] 385237      3"
      ]
     },
     "metadata": {},
     "output_type": "display_data"
    }
   ],
   "source": [
    "dim(df_regions)"
   ]
  },
  {
   "cell_type": "code",
   "execution_count": 8,
   "metadata": {},
   "outputs": [],
   "source": [
    "peaknames = paste(df_regions$V1,df_regions$V2,df_regions$V3,sep = \"_\")"
   ]
  },
  {
   "cell_type": "code",
   "execution_count": 9,
   "metadata": {},
   "outputs": [
    {
     "data": {
      "text/html": [
       "<ol class=list-inline>\n",
       "\t<li>'chr1_3002715_3002962'</li>\n",
       "\t<li>'chr1_3037090_3037634'</li>\n",
       "\t<li>'chr1_3084622_3085850'</li>\n",
       "\t<li>'chr1_3103610_3104006'</li>\n",
       "\t<li>'chr1_3106869_3107182'</li>\n",
       "\t<li>'chr1_3109389_3111052'</li>\n",
       "</ol>\n"
      ],
      "text/latex": [
       "\\begin{enumerate*}\n",
       "\\item 'chr1\\_3002715\\_3002962'\n",
       "\\item 'chr1\\_3037090\\_3037634'\n",
       "\\item 'chr1\\_3084622\\_3085850'\n",
       "\\item 'chr1\\_3103610\\_3104006'\n",
       "\\item 'chr1\\_3106869\\_3107182'\n",
       "\\item 'chr1\\_3109389\\_3111052'\n",
       "\\end{enumerate*}\n"
      ],
      "text/markdown": [
       "1. 'chr1_3002715_3002962'\n",
       "2. 'chr1_3037090_3037634'\n",
       "3. 'chr1_3084622_3085850'\n",
       "4. 'chr1_3103610_3104006'\n",
       "5. 'chr1_3106869_3107182'\n",
       "6. 'chr1_3109389_3111052'\n",
       "\n",
       "\n"
      ],
      "text/plain": [
       "[1] \"chr1_3002715_3002962\" \"chr1_3037090_3037634\" \"chr1_3084622_3085850\"\n",
       "[4] \"chr1_3103610_3104006\" \"chr1_3106869_3107182\" \"chr1_3109389_3111052\""
      ]
     },
     "metadata": {},
     "output_type": "display_data"
    }
   ],
   "source": [
    "head(peaknames)"
   ]
  },
  {
   "cell_type": "code",
   "execution_count": 10,
   "metadata": {},
   "outputs": [
    {
     "data": {
      "text/html": [
       "<ol class=list-inline>\n",
       "\t<li>'AGCGATAGAATACGATAATGGCAGCTCGCAGGACGT'</li>\n",
       "\t<li>'AGCGATAGAATATTACTTTCCGCGGACTGTACTGAC'</li>\n",
       "\t<li>'AGCGATAGACCAGGCGCATGGCAGCTCGATAGAGGC'</li>\n",
       "\t<li>'AGCGATAGAGATTACGTTGCGCAATGACGTACTGAC'</li>\n",
       "\t<li>'AGCGATAGAGGTCAGCTTGGAGTTGCGTGTACTGAC'</li>\n",
       "\t<li>'AGCGATAGAGTTGAATCAAAGCTAGGTTCCTATCCT'</li>\n",
       "</ol>\n"
      ],
      "text/latex": [
       "\\begin{enumerate*}\n",
       "\\item 'AGCGATAGAATACGATAATGGCAGCTCGCAGGACGT'\n",
       "\\item 'AGCGATAGAATATTACTTTCCGCGGACTGTACTGAC'\n",
       "\\item 'AGCGATAGACCAGGCGCATGGCAGCTCGATAGAGGC'\n",
       "\\item 'AGCGATAGAGATTACGTTGCGCAATGACGTACTGAC'\n",
       "\\item 'AGCGATAGAGGTCAGCTTGGAGTTGCGTGTACTGAC'\n",
       "\\item 'AGCGATAGAGTTGAATCAAAGCTAGGTTCCTATCCT'\n",
       "\\end{enumerate*}\n"
      ],
      "text/markdown": [
       "1. 'AGCGATAGAATACGATAATGGCAGCTCGCAGGACGT'\n",
       "2. 'AGCGATAGAATATTACTTTCCGCGGACTGTACTGAC'\n",
       "3. 'AGCGATAGACCAGGCGCATGGCAGCTCGATAGAGGC'\n",
       "4. 'AGCGATAGAGATTACGTTGCGCAATGACGTACTGAC'\n",
       "5. 'AGCGATAGAGGTCAGCTTGGAGTTGCGTGTACTGAC'\n",
       "6. 'AGCGATAGAGTTGAATCAAAGCTAGGTTCCTATCCT'\n",
       "\n",
       "\n"
      ],
      "text/plain": [
       "[1] \"AGCGATAGAATACGATAATGGCAGCTCGCAGGACGT\"\n",
       "[2] \"AGCGATAGAATATTACTTTCCGCGGACTGTACTGAC\"\n",
       "[3] \"AGCGATAGACCAGGCGCATGGCAGCTCGATAGAGGC\"\n",
       "[4] \"AGCGATAGAGATTACGTTGCGCAATGACGTACTGAC\"\n",
       "[5] \"AGCGATAGAGGTCAGCTTGGAGTTGCGTGTACTGAC\"\n",
       "[6] \"AGCGATAGAGTTGAATCAAAGCTAGGTTCCTATCCT\""
      ]
     },
     "metadata": {},
     "output_type": "display_data"
    }
   ],
   "source": [
    "head(sapply(strsplit(files,'\\\\.'),'[', 2))"
   ]
  },
  {
   "cell_type": "code",
   "execution_count": 11,
   "metadata": {},
   "outputs": [],
   "source": [
    "colnames(datafr) = sapply(strsplit(files,'\\\\.'),'[', 2)\n",
    "rownames(datafr) = peaknames"
   ]
  },
  {
   "cell_type": "code",
   "execution_count": 12,
   "metadata": {},
   "outputs": [
    {
     "data": {
      "text/html": [
       "<table>\n",
       "<thead><tr><th></th><th scope=col>AGCGATAGAATACGATAATGGCAGCTCGCAGGACGT</th><th scope=col>AGCGATAGAATATTACTTTCCGCGGACTGTACTGAC</th><th scope=col>AGCGATAGACCAGGCGCATGGCAGCTCGATAGAGGC</th><th scope=col>AGCGATAGAGATTACGTTGCGCAATGACGTACTGAC</th><th scope=col>AGCGATAGAGGTCAGCTTGGAGTTGCGTGTACTGAC</th></tr></thead>\n",
       "<tbody>\n",
       "\t<tr><th scope=row>chr1_3002715_3002962</th><td>0</td><td>0</td><td>0</td><td>0</td><td>0</td></tr>\n",
       "\t<tr><th scope=row>chr1_3037090_3037634</th><td>0</td><td>0</td><td>0</td><td>0</td><td>0</td></tr>\n",
       "\t<tr><th scope=row>chr1_3084622_3085850</th><td>0</td><td>0</td><td>0</td><td>0</td><td>0</td></tr>\n",
       "\t<tr><th scope=row>chr1_3103610_3104006</th><td>0</td><td>0</td><td>0</td><td>0</td><td>0</td></tr>\n",
       "\t<tr><th scope=row>chr1_3106869_3107182</th><td>0</td><td>0</td><td>0</td><td>0</td><td>0</td></tr>\n",
       "</tbody>\n",
       "</table>\n"
      ],
      "text/latex": [
       "\\begin{tabular}{r|lllll}\n",
       "  & AGCGATAGAATACGATAATGGCAGCTCGCAGGACGT & AGCGATAGAATATTACTTTCCGCGGACTGTACTGAC & AGCGATAGACCAGGCGCATGGCAGCTCGATAGAGGC & AGCGATAGAGATTACGTTGCGCAATGACGTACTGAC & AGCGATAGAGGTCAGCTTGGAGTTGCGTGTACTGAC\\\\\n",
       "\\hline\n",
       "\tchr1\\_3002715\\_3002962 & 0 & 0 & 0 & 0 & 0\\\\\n",
       "\tchr1\\_3037090\\_3037634 & 0 & 0 & 0 & 0 & 0\\\\\n",
       "\tchr1\\_3084622\\_3085850 & 0 & 0 & 0 & 0 & 0\\\\\n",
       "\tchr1\\_3103610\\_3104006 & 0 & 0 & 0 & 0 & 0\\\\\n",
       "\tchr1\\_3106869\\_3107182 & 0 & 0 & 0 & 0 & 0\\\\\n",
       "\\end{tabular}\n"
      ],
      "text/markdown": [
       "\n",
       "| <!--/--> | AGCGATAGAATACGATAATGGCAGCTCGCAGGACGT | AGCGATAGAATATTACTTTCCGCGGACTGTACTGAC | AGCGATAGACCAGGCGCATGGCAGCTCGATAGAGGC | AGCGATAGAGATTACGTTGCGCAATGACGTACTGAC | AGCGATAGAGGTCAGCTTGGAGTTGCGTGTACTGAC |\n",
       "|---|---|---|---|---|---|\n",
       "| chr1_3002715_3002962 | 0 | 0 | 0 | 0 | 0 |\n",
       "| chr1_3037090_3037634 | 0 | 0 | 0 | 0 | 0 |\n",
       "| chr1_3084622_3085850 | 0 | 0 | 0 | 0 | 0 |\n",
       "| chr1_3103610_3104006 | 0 | 0 | 0 | 0 | 0 |\n",
       "| chr1_3106869_3107182 | 0 | 0 | 0 | 0 | 0 |\n",
       "\n"
      ],
      "text/plain": [
       "                     AGCGATAGAATACGATAATGGCAGCTCGCAGGACGT\n",
       "chr1_3002715_3002962 0                                   \n",
       "chr1_3037090_3037634 0                                   \n",
       "chr1_3084622_3085850 0                                   \n",
       "chr1_3103610_3104006 0                                   \n",
       "chr1_3106869_3107182 0                                   \n",
       "                     AGCGATAGAATATTACTTTCCGCGGACTGTACTGAC\n",
       "chr1_3002715_3002962 0                                   \n",
       "chr1_3037090_3037634 0                                   \n",
       "chr1_3084622_3085850 0                                   \n",
       "chr1_3103610_3104006 0                                   \n",
       "chr1_3106869_3107182 0                                   \n",
       "                     AGCGATAGACCAGGCGCATGGCAGCTCGATAGAGGC\n",
       "chr1_3002715_3002962 0                                   \n",
       "chr1_3037090_3037634 0                                   \n",
       "chr1_3084622_3085850 0                                   \n",
       "chr1_3103610_3104006 0                                   \n",
       "chr1_3106869_3107182 0                                   \n",
       "                     AGCGATAGAGATTACGTTGCGCAATGACGTACTGAC\n",
       "chr1_3002715_3002962 0                                   \n",
       "chr1_3037090_3037634 0                                   \n",
       "chr1_3084622_3085850 0                                   \n",
       "chr1_3103610_3104006 0                                   \n",
       "chr1_3106869_3107182 0                                   \n",
       "                     AGCGATAGAGGTCAGCTTGGAGTTGCGTGTACTGAC\n",
       "chr1_3002715_3002962 0                                   \n",
       "chr1_3037090_3037634 0                                   \n",
       "chr1_3084622_3085850 0                                   \n",
       "chr1_3103610_3104006 0                                   \n",
       "chr1_3106869_3107182 0                                   "
      ]
     },
     "metadata": {},
     "output_type": "display_data"
    }
   ],
   "source": [
    "datafr[1:5,1:5]"
   ]
  },
  {
   "cell_type": "code",
   "execution_count": 13,
   "metadata": {},
   "outputs": [
    {
     "data": {
      "text/html": [
       "<ol class=list-inline>\n",
       "\t<li>385237</li>\n",
       "\t<li>12178</li>\n",
       "</ol>\n"
      ],
      "text/latex": [
       "\\begin{enumerate*}\n",
       "\\item 385237\n",
       "\\item 12178\n",
       "\\end{enumerate*}\n"
      ],
      "text/markdown": [
       "1. 385237\n",
       "2. 12178\n",
       "\n",
       "\n"
      ],
      "text/plain": [
       "[1] 385237  12178"
      ]
     },
     "metadata": {},
     "output_type": "display_data"
    }
   ],
   "source": [
    "dim(datafr)"
   ]
  },
  {
   "cell_type": "code",
   "execution_count": 4,
   "metadata": {},
   "outputs": [],
   "source": [
    "# saveRDS(datafr, file = './datafr.rds')\n",
    "# datafr = readRDS('./datafr.rds')"
   ]
  },
  {
   "cell_type": "code",
   "execution_count": 15,
   "metadata": {},
   "outputs": [],
   "source": [
    "mat_sparse = as(datafr, \"dgTMatrix\")\n",
    "cicero_data = data.frame(cbind(Peak=rownames(datafr)[mat_sparse@i+1],\n",
    "                               Cell=colnames(datafr)[mat_sparse@j+1],\n",
    "                               Count=mat_sparse@x),stringsAsFactors = FALSE)\n",
    "cicero_data$Count = as.numeric(cicero_data$Count)"
   ]
  },
  {
   "cell_type": "code",
   "execution_count": 16,
   "metadata": {},
   "outputs": [
    {
     "data": {
      "text/html": [
       "<table>\n",
       "<thead><tr><th scope=col>Peak</th><th scope=col>Cell</th><th scope=col>Count</th></tr></thead>\n",
       "<tbody>\n",
       "\t<tr><td>chr1_3254750_3255907                </td><td>AGCGATAGAATACGATAATGGCAGCTCGCAGGACGT</td><td>2                                   </td></tr>\n",
       "\t<tr><td>chr1_3378202_3378888                </td><td>AGCGATAGAATACGATAATGGCAGCTCGCAGGACGT</td><td>2                                   </td></tr>\n",
       "\t<tr><td>chr1_6443336_6444923                </td><td>AGCGATAGAATACGATAATGGCAGCTCGCAGGACGT</td><td>2                                   </td></tr>\n",
       "\t<tr><td>chr1_6584548_6585071                </td><td>AGCGATAGAATACGATAATGGCAGCTCGCAGGACGT</td><td>1                                   </td></tr>\n",
       "\t<tr><td>chr1_7127882_7129914                </td><td>AGCGATAGAATACGATAATGGCAGCTCGCAGGACGT</td><td>2                                   </td></tr>\n",
       "\t<tr><td>chr1_7136712_7137602                </td><td>AGCGATAGAATACGATAATGGCAGCTCGCAGGACGT</td><td>1                                   </td></tr>\n",
       "</tbody>\n",
       "</table>\n"
      ],
      "text/latex": [
       "\\begin{tabular}{r|lll}\n",
       " Peak & Cell & Count\\\\\n",
       "\\hline\n",
       "\t chr1\\_3254750\\_3255907             & AGCGATAGAATACGATAATGGCAGCTCGCAGGACGT & 2                                   \\\\\n",
       "\t chr1\\_3378202\\_3378888             & AGCGATAGAATACGATAATGGCAGCTCGCAGGACGT & 2                                   \\\\\n",
       "\t chr1\\_6443336\\_6444923             & AGCGATAGAATACGATAATGGCAGCTCGCAGGACGT & 2                                   \\\\\n",
       "\t chr1\\_6584548\\_6585071             & AGCGATAGAATACGATAATGGCAGCTCGCAGGACGT & 1                                   \\\\\n",
       "\t chr1\\_7127882\\_7129914             & AGCGATAGAATACGATAATGGCAGCTCGCAGGACGT & 2                                   \\\\\n",
       "\t chr1\\_7136712\\_7137602             & AGCGATAGAATACGATAATGGCAGCTCGCAGGACGT & 1                                   \\\\\n",
       "\\end{tabular}\n"
      ],
      "text/markdown": [
       "\n",
       "| Peak | Cell | Count |\n",
       "|---|---|---|\n",
       "| chr1_3254750_3255907                 | AGCGATAGAATACGATAATGGCAGCTCGCAGGACGT | 2                                    |\n",
       "| chr1_3378202_3378888                 | AGCGATAGAATACGATAATGGCAGCTCGCAGGACGT | 2                                    |\n",
       "| chr1_6443336_6444923                 | AGCGATAGAATACGATAATGGCAGCTCGCAGGACGT | 2                                    |\n",
       "| chr1_6584548_6585071                 | AGCGATAGAATACGATAATGGCAGCTCGCAGGACGT | 1                                    |\n",
       "| chr1_7127882_7129914                 | AGCGATAGAATACGATAATGGCAGCTCGCAGGACGT | 2                                    |\n",
       "| chr1_7136712_7137602                 | AGCGATAGAATACGATAATGGCAGCTCGCAGGACGT | 1                                    |\n",
       "\n"
      ],
      "text/plain": [
       "  Peak                 Cell                                 Count\n",
       "1 chr1_3254750_3255907 AGCGATAGAATACGATAATGGCAGCTCGCAGGACGT 2    \n",
       "2 chr1_3378202_3378888 AGCGATAGAATACGATAATGGCAGCTCGCAGGACGT 2    \n",
       "3 chr1_6443336_6444923 AGCGATAGAATACGATAATGGCAGCTCGCAGGACGT 2    \n",
       "4 chr1_6584548_6585071 AGCGATAGAATACGATAATGGCAGCTCGCAGGACGT 1    \n",
       "5 chr1_7127882_7129914 AGCGATAGAATACGATAATGGCAGCTCGCAGGACGT 2    \n",
       "6 chr1_7136712_7137602 AGCGATAGAATACGATAATGGCAGCTCGCAGGACGT 1    "
      ]
     },
     "metadata": {},
     "output_type": "display_data"
    }
   ],
   "source": [
    "head(cicero_data)"
   ]
  },
  {
   "cell_type": "code",
   "execution_count": null,
   "metadata": {},
   "outputs": [],
   "source": []
  },
  {
   "cell_type": "markdown",
   "metadata": {},
   "source": [
    "### Obtain Feature Matrix"
   ]
  },
  {
   "cell_type": "code",
   "execution_count": 17,
   "metadata": {},
   "outputs": [],
   "source": [
    "start_time <- Sys.time()"
   ]
  },
  {
   "cell_type": "code",
   "execution_count": 18,
   "metadata": {},
   "outputs": [],
   "source": [
    "metadata <- read.table('../../input/metadata.tsv',\n",
    "                         header = TRUE,\n",
    "                         stringsAsFactors=FALSE,quote=\"\",row.names=1)"
   ]
  },
  {
   "cell_type": "code",
   "execution_count": 28,
   "metadata": {
    "scrolled": true
   },
   "outputs": [],
   "source": [
    "input_cds <- make_atac_cds(cicero_data, binarize = TRUE)"
   ]
  },
  {
   "cell_type": "code",
   "execution_count": 29,
   "metadata": {},
   "outputs": [],
   "source": [
    "pData(input_cds)$label = metadata[rownames(pData(input_cds)),'label']"
   ]
  },
  {
   "cell_type": "code",
   "execution_count": 30,
   "metadata": {
    "scrolled": true
   },
   "outputs": [
    {
     "data": {
      "text/html": [
       "<dl class=dl-horizontal>\n",
       "\t<dt>Features</dt>\n",
       "\t\t<dd>385237</dd>\n",
       "\t<dt>Samples</dt>\n",
       "\t\t<dd>12178</dd>\n",
       "</dl>\n"
      ],
      "text/latex": [
       "\\begin{description*}\n",
       "\\item[Features] 385237\n",
       "\\item[Samples] 12178\n",
       "\\end{description*}\n"
      ],
      "text/markdown": [
       "Features\n",
       ":   385237Samples\n",
       ":   12178\n",
       "\n"
      ],
      "text/plain": [
       "Features  Samples \n",
       "  385237    12178 "
      ]
     },
     "metadata": {},
     "output_type": "display_data"
    }
   ],
   "source": [
    "dim(input_cds)"
   ]
  },
  {
   "cell_type": "code",
   "execution_count": 31,
   "metadata": {},
   "outputs": [],
   "source": [
    "#Ensure there are no peaks included with zero reads\n",
    "input_cds <- input_cds[Matrix::rowSums(exprs(input_cds)) != 0,] "
   ]
  },
  {
   "cell_type": "code",
   "execution_count": 32,
   "metadata": {
    "scrolled": true
   },
   "outputs": [
    {
     "data": {
      "text/html": [
       "<dl class=dl-horizontal>\n",
       "\t<dt>Features</dt>\n",
       "\t\t<dd>385237</dd>\n",
       "\t<dt>Samples</dt>\n",
       "\t\t<dd>12178</dd>\n",
       "</dl>\n"
      ],
      "text/latex": [
       "\\begin{description*}\n",
       "\\item[Features] 385237\n",
       "\\item[Samples] 12178\n",
       "\\end{description*}\n"
      ],
      "text/markdown": [
       "Features\n",
       ":   385237Samples\n",
       ":   12178\n",
       "\n"
      ],
      "text/plain": [
       "Features  Samples \n",
       "  385237    12178 "
      ]
     },
     "metadata": {},
     "output_type": "display_data"
    }
   ],
   "source": [
    "dim(input_cds)"
   ]
  },
  {
   "cell_type": "code",
   "execution_count": 33,
   "metadata": {},
   "outputs": [
    {
     "data": {
      "text/plain": [
       "CellDataSet (storageMode: environment)\n",
       "assayData: 385237 features, 12178 samples \n",
       "  element names: exprs \n",
       "protocolData: none\n",
       "phenoData\n",
       "  sampleNames: AGCGATAGAACGAATTCGAAGCCTACGACCTATCCT\n",
       "    AGCGATAGAACGAATTCGAAGCCTACGATATAGCCT ...\n",
       "    TCTCGCGCTTGGTAAGGATTGGTAGTCGTATAGCCT (12178 total)\n",
       "  varLabels: cells Size_Factor num_genes_expressed label\n",
       "  varMetadata: labelDescription\n",
       "featureData\n",
       "  featureNames: chr1_3002715_3002962 chr1_3037090_3037634 ...\n",
       "    chrY_631121_631487 (385237 total)\n",
       "  fvarLabels: site_name chr ... num_cells_expressed (5 total)\n",
       "  fvarMetadata: labelDescription\n",
       "experimentData: use 'experimentData(object)'\n",
       "Annotation:  "
      ]
     },
     "metadata": {},
     "output_type": "display_data"
    }
   ],
   "source": [
    "input_cds"
   ]
  },
  {
   "cell_type": "code",
   "execution_count": 34,
   "metadata": {},
   "outputs": [],
   "source": [
    "set.seed(2019)\n",
    "input_cds <- detectGenes(input_cds)"
   ]
  },
  {
   "cell_type": "code",
   "execution_count": 35,
   "metadata": {},
   "outputs": [],
   "source": [
    "input_cds <- estimateSizeFactors(input_cds)"
   ]
  },
  {
   "cell_type": "code",
   "execution_count": 36,
   "metadata": {},
   "outputs": [
    {
     "name": "stderr",
     "output_type": "stream",
     "text": [
      "Warning message in int2i(as.integer(i), n):\n",
      "\"NAs introduced by coercion to integer range\""
     ]
    },
    {
     "ename": "ERROR",
     "evalue": "Error in if (any(i < 0L)) {: missing value where TRUE/FALSE needed\n",
     "output_type": "error",
     "traceback": [
      "Error in if (any(i < 0L)) {: missing value where TRUE/FALSE needed\nTraceback:\n",
      "1. reduceDimension(input_cds, max_components = 2, num_dim = 15, \n .     reduction_method = \"tSNE\", norm_method = \"none\")",
      "2. normalize_expr_data(cds, norm_method, pseudo_expr)",
      "3. `[<-`(`*tmp*`, ncounts != 0, value = 1)",
      "4. `[<-`(`*tmp*`, ncounts != 0, value = 1)",
      "5. as(.TM.repl.i.mat(as(x, \"TsparseMatrix\"), i = i, value = value), \n .     \"CsparseMatrix\")",
      "6. .class1(object)",
      "7. .TM.repl.i.mat(as(x, \"TsparseMatrix\"), i = i, value = value)",
      "8. `[<-`(x, i, value = value)",
      "9. `[<-`(x, i, value = value)",
      "10. int2i(as.integer(i), n)"
     ]
    }
   ],
   "source": [
    "input_cds <- reduceDimension(input_cds, max_components = 2, num_dim=15,\n",
    "                        reduction_method = 'tSNE', norm_method = \"none\")"
   ]
  },
  {
   "cell_type": "markdown",
   "metadata": {},
   "source": [
    "#### Errors were reported previously  \n",
    "https://github.com/cole-trapnell-lab/cicero-release/issues/25"
   ]
  },
  {
   "cell_type": "code",
   "execution_count": null,
   "metadata": {},
   "outputs": [],
   "source": []
  },
  {
   "cell_type": "code",
   "execution_count": null,
   "metadata": {},
   "outputs": [],
   "source": [
    "tsne_coords <- t(reducedDimA(input_cds))"
   ]
  },
  {
   "cell_type": "code",
   "execution_count": null,
   "metadata": {},
   "outputs": [],
   "source": [
    "head(tsne_coords)"
   ]
  },
  {
   "cell_type": "code",
   "execution_count": null,
   "metadata": {
    "scrolled": true
   },
   "outputs": [],
   "source": [
    "df_tsne_coords = data.frame(cbind(tsne_coords,as.character(pData(input_cds)$label)),stringsAsFactors = FALSE)\n",
    "colnames(df_tsne_coords) = c('tsne_1','tsne_2','label')\n",
    "df_tsne_coords$tsne_1 = as.numeric(df_tsne_coords$tsne_1)\n",
    "df_tsne_coords$tsne_2 = as.numeric(df_tsne_coords$tsne_2)"
   ]
  },
  {
   "cell_type": "code",
   "execution_count": null,
   "metadata": {},
   "outputs": [],
   "source": [
    "options(repr.plot.width=4, repr.plot.height=3)\n",
    "p <- ggplot(shuf(df_tsne_coords), aes(x = tsne_1, y = tsne_2, color = label)) +\n",
    "  geom_point(size = 1)+\n",
    "  ggtitle('tSNE') + theme_classic()\n",
    "p"
   ]
  },
  {
   "cell_type": "code",
   "execution_count": null,
   "metadata": {},
   "outputs": [],
   "source": []
  },
  {
   "cell_type": "code",
   "execution_count": null,
   "metadata": {},
   "outputs": [],
   "source": [
    "mouse.mm9.genome = read.table('../../input/mm9/mm9.chrom.sizes')\n",
    "genome_ref = mouse.mm9.genome\n",
    "file_tss='../../input/mm9/mm9-tss.bed'"
   ]
  },
  {
   "cell_type": "code",
   "execution_count": null,
   "metadata": {
    "scrolled": true
   },
   "outputs": [],
   "source": [
    "head(genome_ref)"
   ]
  },
  {
   "cell_type": "code",
   "execution_count": null,
   "metadata": {
    "scrolled": true
   },
   "outputs": [],
   "source": [
    "row.names(tsne_coords) <- row.names(pData(input_cds))\n",
    "cicero_cds <- make_cicero_cds(input_cds, reduced_coordinates = tsne_coords)\n",
    "conns <- run_cicero(cicero_cds, genome_ref) # Takes a few minutes to run"
   ]
  },
  {
   "cell_type": "code",
   "execution_count": null,
   "metadata": {
    "scrolled": true
   },
   "outputs": [],
   "source": [
    "gene_annotation <- read.table(file_tss,sep='\\t')\n",
    "names(gene_annotation)[4] <- \"gene\"    \n",
    "gene_annotation_pos <- subset(gene_annotation, V5 == \"+\")\n",
    "gene_annotation_pos$V3 <- gene_annotation_pos$V2 + 1\n",
    "gene_annotation_neg <- subset(gene_annotation, V5 == \"-\")\n",
    "gene_annotation_neg$V2 <- gene_annotation_neg$V3 - 1\n",
    "tss <- rbind(gene_annotation_pos, gene_annotation_neg)    "
   ]
  },
  {
   "cell_type": "code",
   "execution_count": null,
   "metadata": {},
   "outputs": [],
   "source": [
    "input_cds <- annotate_cds_by_site(input_cds, tss)\n",
    "# generate unnormalized gene activity matrix\n",
    "unnorm_ga <- build_gene_activity_matrix(input_cds, conns)\n",
    "unnorm_ga <- unnorm_ga[!Matrix::rowSums(unnorm_ga) == 0,]\n",
    "\n",
    "# make a list of num_genes_expressed\n",
    "num_genes <- pData(input_cds)$num_genes_expressed\n",
    "names(num_genes) <- row.names(pData(input_cds))\n",
    "\n",
    "# normalize\n",
    "cicero_gene_activities <- normalize_gene_activities(unnorm_ga, num_genes)    \n",
    "fm_Cicero = as.matrix(cicero_gene_activities)"
   ]
  },
  {
   "cell_type": "code",
   "execution_count": null,
   "metadata": {},
   "outputs": [],
   "source": [
    "end_time <- Sys.time()"
   ]
  },
  {
   "cell_type": "code",
   "execution_count": null,
   "metadata": {},
   "outputs": [],
   "source": [
    "end_time - start_time"
   ]
  },
  {
   "cell_type": "code",
   "execution_count": null,
   "metadata": {},
   "outputs": [],
   "source": []
  },
  {
   "cell_type": "code",
   "execution_count": null,
   "metadata": {},
   "outputs": [],
   "source": []
  },
  {
   "cell_type": "code",
   "execution_count": null,
   "metadata": {},
   "outputs": [],
   "source": [
    "all(colnames(fm_Cicero) == rownames(metadata))"
   ]
  },
  {
   "cell_type": "code",
   "execution_count": null,
   "metadata": {},
   "outputs": [],
   "source": []
  },
  {
   "cell_type": "code",
   "execution_count": null,
   "metadata": {},
   "outputs": [],
   "source": [
    "saveRDS(fm_Cicero, file = '../../output/feature_matrices/FM_Cicero_cusanovich2018subset.rds')"
   ]
  },
  {
   "cell_type": "code",
   "execution_count": null,
   "metadata": {},
   "outputs": [],
   "source": []
  },
  {
   "cell_type": "markdown",
   "metadata": {},
   "source": [
    "### Downstream Analysis"
   ]
  },
  {
   "cell_type": "code",
   "execution_count": null,
   "metadata": {},
   "outputs": [],
   "source": [
    "df_umap_Cicero <- umap(t(fm_Cicero))$layout"
   ]
  },
  {
   "cell_type": "code",
   "execution_count": null,
   "metadata": {},
   "outputs": [],
   "source": [
    "df_umap = data.frame(cbind(df_umap_Cicero,metadata[rownames(pData(input_cds)),'label']),stringsAsFactors = FALSE)\n",
    "colnames(df_umap) = c('umap_1','umap_2','label')\n",
    "df_umap$umap_1 = as.numeric(df_umap$umap_1)\n",
    "df_umap$umap_2 = as.numeric(df_umap$umap_2)\n",
    "options(repr.plot.width=5, repr.plot.height=4)\n",
    "p <- ggplot(df_umap, aes(x = umap_1, y = umap_2, color = label)) +\n",
    "  geom_point(size = 1) + \n",
    "  ggtitle('Cicero') + theme_classic()\n",
    "p"
   ]
  },
  {
   "cell_type": "code",
   "execution_count": null,
   "metadata": {},
   "outputs": [],
   "source": []
  },
  {
   "cell_type": "code",
   "execution_count": 37,
   "metadata": {
    "scrolled": true
   },
   "outputs": [
    {
     "data": {
      "text/plain": [
       "R version 3.5.1 (2018-07-02)\n",
       "Platform: x86_64-conda_cos6-linux-gnu (64-bit)\n",
       "Running under: CentOS Linux 7 (Core)\n",
       "\n",
       "Matrix products: default\n",
       "BLAS/LAPACK: /data/pinello/SHARED_SOFTWARE/anaconda3/envs/ATACseq_Cicero/lib/R/lib/libRblas.so\n",
       "\n",
       "locale:\n",
       " [1] LC_CTYPE=en_US.UTF-8       LC_NUMERIC=C              \n",
       " [3] LC_TIME=en_US.UTF-8        LC_COLLATE=en_US.UTF-8    \n",
       " [5] LC_MONETARY=en_US.UTF-8    LC_MESSAGES=en_US.UTF-8   \n",
       " [7] LC_PAPER=en_US.UTF-8       LC_NAME=C                 \n",
       " [9] LC_ADDRESS=C               LC_TELEPHONE=C            \n",
       "[11] LC_MEASUREMENT=en_US.UTF-8 LC_IDENTIFICATION=C       \n",
       "\n",
       "attached base packages:\n",
       " [1] grid      splines   stats4    parallel  stats     graphics  grDevices\n",
       " [8] utils     datasets  methods   base     \n",
       "\n",
       "other attached packages:\n",
       " [1] umap_0.2.2.0         BuenColors_0.5.5     MASS_7.3-51.1       \n",
       " [4] reshape2_1.4.3       proxy_0.4-23         data.table_1.12.0   \n",
       " [7] cicero_1.0.15        Gviz_1.26.5          GenomicRanges_1.34.0\n",
       "[10] GenomeInfoDb_1.18.1  IRanges_2.16.0       S4Vectors_0.20.1    \n",
       "[13] monocle_2.10.1       DDRTree_0.1.5        irlba_2.3.3         \n",
       "[16] VGAM_1.0-6           ggplot2_3.1.0        Biobase_2.42.0      \n",
       "[19] BiocGenerics_0.28.0  Matrix_1.2-17       \n",
       "\n",
       "loaded via a namespace (and not attached):\n",
       "  [1] Rtsne_0.15                  colorspace_1.4-1           \n",
       "  [3] biovizBase_1.30.1           IRdisplay_0.7.0            \n",
       "  [5] htmlTable_1.13.1            XVector_0.22.0             \n",
       "  [7] base64enc_0.1-3             dichromat_2.0-0            \n",
       "  [9] rstudioapi_0.10             ggrepel_0.8.0              \n",
       " [11] bit64_0.9-7                 AnnotationDbi_1.44.0       \n",
       " [13] docopt_0.6.1                knitr_1.22                 \n",
       " [15] IRkernel_0.8.15             Formula_1.2-3              \n",
       " [17] jsonlite_1.6                Rsamtools_1.34.0           \n",
       " [19] cluster_2.0.7-1             pheatmap_1.0.12            \n",
       " [21] compiler_3.5.1              httr_1.4.0                 \n",
       " [23] backports_1.1.3             assertthat_0.2.1           \n",
       " [25] lazyeval_0.2.2              limma_3.38.3               \n",
       " [27] acepack_1.4.1               htmltools_0.3.6            \n",
       " [29] prettyunits_1.0.2           tools_3.5.1                \n",
       " [31] igraph_1.2.4                gtable_0.3.0               \n",
       " [33] glue_1.3.1                  GenomeInfoDbData_1.2.1     \n",
       " [35] RANN_2.6.1                  dplyr_0.8.0.1              \n",
       " [37] Rcpp_1.0.1                  slam_0.1-45                \n",
       " [39] Biostrings_2.50.2           rtracklayer_1.42.1         \n",
       " [41] xfun_0.6                    stringr_1.4.0              \n",
       " [43] ensembldb_2.6.8             XML_3.98-1.19              \n",
       " [45] zlibbioc_1.28.0             scales_1.0.0               \n",
       " [47] BSgenome_1.50.0             VariantAnnotation_1.28.13  \n",
       " [49] hms_0.4.2                   ProtGenerics_1.14.0        \n",
       " [51] SummarizedExperiment_1.12.0 AnnotationFilter_1.6.0     \n",
       " [53] RColorBrewer_1.1-2          curl_3.3                   \n",
       " [55] reticulate_1.12             memoise_1.1.0              \n",
       " [57] gridExtra_2.3               biomaRt_2.38.0             \n",
       " [59] rpart_4.1-13                fastICA_1.2-1              \n",
       " [61] latticeExtra_0.6-28         stringi_1.4.3              \n",
       " [63] RSQLite_2.1.1               checkmate_1.9.1            \n",
       " [65] GenomicFeatures_1.34.8      densityClust_0.3           \n",
       " [67] BiocParallel_1.16.6         repr_0.19.2                \n",
       " [69] rlang_0.3.3                 pkgconfig_2.0.2            \n",
       " [71] matrixStats_0.54.0          bitops_1.0-6               \n",
       " [73] qlcMatrix_0.9.7             evaluate_0.13              \n",
       " [75] lattice_0.20-38             purrr_0.3.2                \n",
       " [77] GenomicAlignments_1.18.1    htmlwidgets_1.3            \n",
       " [79] bit_1.1-14                  tidyselect_0.2.5           \n",
       " [81] plyr_1.8.4                  magrittr_1.5               \n",
       " [83] R6_2.4.0                    Hmisc_4.2-0                \n",
       " [85] combinat_0.0-8              pbdZMQ_0.3-3               \n",
       " [87] DelayedArray_0.8.0          DBI_1.0.0                  \n",
       " [89] pillar_1.3.1                foreign_0.8-71             \n",
       " [91] withr_2.1.2                 survival_2.43-3            \n",
       " [93] RCurl_1.95-4.12             nnet_7.3-12                \n",
       " [95] tibble_2.1.1                crayon_1.3.4               \n",
       " [97] uuid_0.1-2                  viridis_0.5.1              \n",
       " [99] progress_1.2.0              blob_1.1.1                 \n",
       "[101] FNN_1.1.3                   HSMMSingleCell_1.2.0       \n",
       "[103] sparsesvd_0.1-4             digest_0.6.18              \n",
       "[105] munsell_0.5.0               viridisLite_0.3.0          "
      ]
     },
     "metadata": {},
     "output_type": "display_data"
    }
   ],
   "source": [
    "sessionInfo()"
   ]
  },
  {
   "cell_type": "code",
   "execution_count": null,
   "metadata": {},
   "outputs": [],
   "source": [
    "save.image(file = 'Cicero_cusanovich2018subset.RData')"
   ]
  }
 ],
 "metadata": {
  "kernelspec": {
   "display_name": "R [conda env:ATACseq_Cicero]",
   "language": "R",
   "name": "conda-env-ATACseq_Cicero-r"
  },
  "language_info": {
   "codemirror_mode": "r",
   "file_extension": ".r",
   "mimetype": "text/x-r-source",
   "name": "R",
   "pygments_lexer": "r",
   "version": "3.5.1"
  }
 },
 "nbformat": 4,
 "nbformat_minor": 2
}
