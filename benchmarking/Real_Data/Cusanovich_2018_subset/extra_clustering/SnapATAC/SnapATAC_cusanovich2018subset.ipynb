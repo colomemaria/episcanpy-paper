{
 "cells": [
  {
   "cell_type": "markdown",
   "metadata": {},
   "source": [
    "### Installation"
   ]
  },
  {
   "cell_type": "markdown",
   "metadata": {},
   "source": [
    "`conda create -n ATACseq_SnapATAC python r-essentials jupyter pip pysam pybedtools -y`  \n",
    "`pip install snaptools`  \n",
    "`conda install -c bioconda bioconductor-rhdf5 bioconductor-rhdf5lib -y`  \n",
    "`conda install -c vtraag leidenalg -y`\n",
    "`conda install python-igraph -y`"
   ]
  },
  {
   "cell_type": "markdown",
   "metadata": {},
   "source": [
    "###  Import packages"
   ]
  },
  {
   "cell_type": "code",
   "execution_count": 1,
   "metadata": {},
   "outputs": [
    {
     "name": "stderr",
     "output_type": "stream",
     "text": [
      "Loading required package: Matrix\n",
      "Loading required package: rhdf5\n",
      "Loading required package: stats4\n",
      "Loading required package: BiocGenerics\n",
      "Loading required package: parallel\n",
      "\n",
      "Attaching package: ‘BiocGenerics’\n",
      "\n",
      "The following objects are masked from ‘package:parallel’:\n",
      "\n",
      "    clusterApply, clusterApplyLB, clusterCall, clusterEvalQ,\n",
      "    clusterExport, clusterMap, parApply, parCapply, parLapply,\n",
      "    parLapplyLB, parRapply, parSapply, parSapplyLB\n",
      "\n",
      "The following objects are masked from ‘package:SnapATAC’:\n",
      "\n",
      "    colMeans, colSums, rowMeans, rowSums\n",
      "\n",
      "The following objects are masked from ‘package:Matrix’:\n",
      "\n",
      "    colMeans, colSums, rowMeans, rowSums, which\n",
      "\n",
      "The following objects are masked from ‘package:stats’:\n",
      "\n",
      "    IQR, mad, sd, var, xtabs\n",
      "\n",
      "The following objects are masked from ‘package:base’:\n",
      "\n",
      "    anyDuplicated, append, as.data.frame, basename, cbind, colMeans,\n",
      "    colnames, colSums, dirname, do.call, duplicated, eval, evalq,\n",
      "    Filter, Find, get, grep, grepl, intersect, is.unsorted, lapply,\n",
      "    lengths, Map, mapply, match, mget, order, paste, pmax, pmax.int,\n",
      "    pmin, pmin.int, Position, rank, rbind, Reduce, rowMeans, rownames,\n",
      "    rowSums, sapply, setdiff, sort, table, tapply, union, unique,\n",
      "    unsplit, which, which.max, which.min\n",
      "\n",
      "Loading required package: S4Vectors\n",
      "\n",
      "Attaching package: ‘S4Vectors’\n",
      "\n",
      "The following object is masked from ‘package:Matrix’:\n",
      "\n",
      "    expand\n",
      "\n",
      "The following object is masked from ‘package:base’:\n",
      "\n",
      "    expand.grid\n",
      "\n",
      "Loading required package: IRanges\n",
      "Loading required package: GenomeInfoDb\n"
     ]
    }
   ],
   "source": [
    "library(SnapATAC);\n",
    "library(GenomicRanges);"
   ]
  },
  {
   "cell_type": "code",
   "execution_count": 2,
   "metadata": {},
   "outputs": [
    {
     "data": {
      "text/plain": [
       "[1] ‘1.0.0’"
      ]
     },
     "metadata": {},
     "output_type": "display_data"
    }
   ],
   "source": [
    "packageVersion(\"SnapATAC\")"
   ]
  },
  {
   "cell_type": "markdown",
   "metadata": {},
   "source": [
    "### Import leiden"
   ]
  },
  {
   "cell_type": "code",
   "execution_count": 3,
   "metadata": {},
   "outputs": [],
   "source": [
    "library('leiden')"
   ]
  },
  {
   "cell_type": "markdown",
   "metadata": {},
   "source": [
    "### Load Data"
   ]
  },
  {
   "cell_type": "code",
   "execution_count": 4,
   "metadata": {},
   "outputs": [],
   "source": [
    "load(file = '../../run_methods/SnapATAC/SnapATAC_cusanovich2018subset.RData')"
   ]
  },
  {
   "cell_type": "markdown",
   "metadata": {},
   "source": [
    "#### Clustering (SnapATAC)"
   ]
  },
  {
   "cell_type": "code",
   "execution_count": 5,
   "metadata": {},
   "outputs": [],
   "source": [
    "set.seed(2019) # this function is stochastic even after setting seed, so the number of clusters cannot be guaranteed for a specific resolution"
   ]
  },
  {
   "cell_type": "code",
   "execution_count": 6,
   "metadata": {},
   "outputs": [],
   "source": [
    "getNClusters = function(adata,n_cluster,range_min=0,range_max=2,max_steps=10)\n",
    "{\n",
    "    this_step = 0\n",
    "    this_min = range_min\n",
    "    this_max = range_max\n",
    "    while (this_step < max_steps)\n",
    "    {\n",
    "        print(paste('step ',this_step))\n",
    "        this_resolution = this_min + ((this_max-this_min)/2)\n",
    "        adata = runCluster(\n",
    "            obj=adata,\n",
    "            tmp.folder=tempdir(),\n",
    "            louvain.lib=\"leiden\",\n",
    "            seed.use=10,\n",
    "            resolution=this_resolution\n",
    "            );\n",
    "        this_clusters = length(levels(adata@cluster))\n",
    "        \n",
    "        print(paste('got ', this_clusters , ' at resolution ' , this_resolution))\n",
    "        \n",
    "        if (this_clusters > n_cluster)\n",
    "        {\n",
    "            this_max = this_resolution   \n",
    "        } else if (this_clusters < n_cluster)\n",
    "        {\n",
    "            this_min = this_resolution\n",
    "        } else\n",
    "        {\n",
    "            return(adata)\n",
    "        }\n",
    "        this_step = this_step + 1\n",
    "    }\n",
    "    \n",
    "    print('Cannot find the number of clusters')\n",
    "    print(paste('Clustering solution from last iteration is used:' , this_clusters , ' at resolution ' , this_resolution))\n",
    "}"
   ]
  },
  {
   "cell_type": "code",
   "execution_count": 7,
   "metadata": {},
   "outputs": [
    {
     "name": "stdout",
     "output_type": "stream",
     "text": [
      "[1] \"step  0\"\n",
      "[1] \"got  22  at resolution  1\"\n",
      "[1] \"step  1\"\n",
      "[1] \"got  19  at resolution  0.5\"\n",
      "[1] \"step  2\"\n",
      "[1] \"got  15  at resolution  0.25\"\n",
      "[1] \"step  3\"\n",
      "[1] \"got  12  at resolution  0.125\"\n",
      "[1] \"step  4\"\n",
      "[1] \"got  13  at resolution  0.1875\"\n"
     ]
    }
   ],
   "source": [
    "nClusters = length(levels(as.factor(metadata$label)))\n",
    "\n",
    "x.sp = getNClusters(x.sp,n_cluster=nClusters)\n",
    "\n",
    "\n",
    "#resolution    clusters\n",
    "#      0.1     8\n",
    "#     0.18     10\n",
    "#      0.2     11\n",
    "#      0.3     13\n",
    "#      0.5     16\n",
    "#      0.8     20\n",
    "#        1     23\n",
    "#        6     50"
   ]
  },
  {
   "cell_type": "code",
   "execution_count": 8,
   "metadata": {},
   "outputs": [],
   "source": [
    "df_pre = data.frame('SnapATAC'=x.sp@cluster)\n",
    "rownames(df_pre) = as.character(x.sp@metaData$barcode)\n",
    "df_pre$ord = 1:nrow(df_pre)\n",
    "df_pre = df_pre[as.character(rownames(metadata)),]\n",
    "df_out = data.frame('SnapATAC'=df_pre[,'SnapATAC'])\n",
    "rownames(df_out) = rownames(df_pre)\n",
    "write.table(df_out,file=\"clusteringSolution.tsv\", quote=FALSE, sep='\\t', col.names = NA)"
   ]
  }
 ],
 "metadata": {
  "kernelspec": {
   "display_name": "R [conda env:ATACseq_SnapATAC_py37]",
   "language": "R",
   "name": "conda-env-ATACseq_SnapATAC_py37-r"
  },
  "language_info": {
   "codemirror_mode": "r",
   "file_extension": ".r",
   "mimetype": "text/x-r-source",
   "name": "R",
   "pygments_lexer": "r",
   "version": "3.5.1"
  }
 },
 "nbformat": 4,
 "nbformat_minor": 2
}
