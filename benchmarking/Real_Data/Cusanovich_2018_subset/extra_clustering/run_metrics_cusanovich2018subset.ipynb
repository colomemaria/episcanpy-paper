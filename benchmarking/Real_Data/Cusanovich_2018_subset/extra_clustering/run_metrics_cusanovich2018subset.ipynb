{
 "cells": [
  {
   "cell_type": "code",
   "execution_count": 1,
   "metadata": {},
   "outputs": [],
   "source": [
    "import pandas as pd\n",
    "import numpy as np\n",
    "import scanpy as sc\n",
    "import os\n",
    "from sklearn.cluster import KMeans\n",
    "from sklearn.cluster import AgglomerativeClustering\n",
    "from sklearn.metrics.cluster import adjusted_rand_score\n",
    "from sklearn.metrics.cluster import adjusted_mutual_info_score\n",
    "from sklearn.metrics.cluster import homogeneity_score\n",
    "import rpy2.robjects as robjects\n",
    "from rpy2.robjects import pandas2ri"
   ]
  },
  {
   "cell_type": "code",
   "execution_count": 2,
   "metadata": {},
   "outputs": [
    {
     "name": "stdout",
     "output_type": "stream",
     "text": [
      "13\n"
     ]
    }
   ],
   "source": [
    "metadata = pd.read_csv('../input/metadata.tsv',sep='\\t',index_col=0)\n",
    "num_clusters = len(np.unique(metadata['label']))\n",
    "print(num_clusters)"
   ]
  },
  {
   "cell_type": "code",
   "execution_count": 3,
   "metadata": {},
   "outputs": [],
   "source": [
    "df_metrics = pd.DataFrame(columns=['ARI','AMI','Homogeneity'])"
   ]
  },
  {
   "cell_type": "code",
   "execution_count": 4,
   "metadata": {},
   "outputs": [
    {
     "name": "stdout",
     "output_type": "stream",
     "text": [
      "./Cicero/clusteringSolution.tsv\n",
      "./cisTopic/clusteringSolution.tsv\n",
      "./Cusanovich2018/clusteringSolution.tsv\n",
      "./scABC/clusteringSolution.tsv\n",
      "./Scasat/clusteringSolution.tsv\n",
      "./SnapATAC/clusteringSolution.tsv\n"
     ]
    }
   ],
   "source": [
    "df_clusters = pd.DataFrame(index=metadata.index)\n",
    "for dirpath, dirnames, filenames in os.walk(\"./\"):\n",
    "    for filename in [f for f in filenames if(f.endswith(\".tsv\") and f.startswith(\"clustering\"))]:\n",
    "        print(os.path.join(dirpath, filename))\n",
    "        df = pd.read_csv(os.path.join(dirpath, filename),sep='\\t',index_col=0)\n",
    "        df_clusters = pd.merge(df_clusters, df, left_index=True, right_index=True)"
   ]
  },
  {
   "cell_type": "code",
   "execution_count": 5,
   "metadata": {},
   "outputs": [
    {
     "data": {
      "text/html": [
       "<div>\n",
       "<style scoped>\n",
       "    .dataframe tbody tr th:only-of-type {\n",
       "        vertical-align: middle;\n",
       "    }\n",
       "\n",
       "    .dataframe tbody tr th {\n",
       "        vertical-align: top;\n",
       "    }\n",
       "\n",
       "    .dataframe thead th {\n",
       "        text-align: right;\n",
       "    }\n",
       "</style>\n",
       "<table border=\"1\" class=\"dataframe\">\n",
       "  <thead>\n",
       "    <tr style=\"text-align: right;\">\n",
       "      <th></th>\n",
       "      <th>Cicero</th>\n",
       "      <th>cisTopic</th>\n",
       "      <th>cusanovich2018</th>\n",
       "      <th>scABC</th>\n",
       "      <th>Scasat</th>\n",
       "      <th>SnapATAC</th>\n",
       "    </tr>\n",
       "  </thead>\n",
       "  <tbody>\n",
       "    <tr>\n",
       "      <th>TCCGCGAACTAACTAGGTTGCTACGGTCATAGAGGC</th>\n",
       "      <td>5</td>\n",
       "      <td>1</td>\n",
       "      <td>4</td>\n",
       "      <td>9</td>\n",
       "      <td>1</td>\n",
       "      <td>1</td>\n",
       "    </tr>\n",
       "    <tr>\n",
       "      <th>TCCGCGAAAGGTCAGCTTTGCGGATAGTGTACTGAC</th>\n",
       "      <td>12</td>\n",
       "      <td>2</td>\n",
       "      <td>9</td>\n",
       "      <td>1</td>\n",
       "      <td>1</td>\n",
       "      <td>1</td>\n",
       "    </tr>\n",
       "    <tr>\n",
       "      <th>ATTACTCGTTGCCGTAGGCTTAATCTTGTATAGCCT</th>\n",
       "      <td>5</td>\n",
       "      <td>1</td>\n",
       "      <td>12</td>\n",
       "      <td>9</td>\n",
       "      <td>3</td>\n",
       "      <td>1</td>\n",
       "    </tr>\n",
       "    <tr>\n",
       "      <th>TCCGCGAAACCAGGCGCAAAGCTAGGTTGTACTGAC</th>\n",
       "      <td>8</td>\n",
       "      <td>2</td>\n",
       "      <td>5</td>\n",
       "      <td>8</td>\n",
       "      <td>1</td>\n",
       "      <td>9</td>\n",
       "    </tr>\n",
       "    <tr>\n",
       "      <th>ATTCAGAATCGTAGCATCGCGCAATGACCCTATCCT</th>\n",
       "      <td>9</td>\n",
       "      <td>2</td>\n",
       "      <td>3</td>\n",
       "      <td>1</td>\n",
       "      <td>3</td>\n",
       "      <td>11</td>\n",
       "    </tr>\n",
       "  </tbody>\n",
       "</table>\n",
       "</div>"
      ],
      "text/plain": [
       "                                      Cicero  cisTopic  cusanovich2018  scABC  \\\n",
       "TCCGCGAACTAACTAGGTTGCTACGGTCATAGAGGC       5         1               4      9   \n",
       "TCCGCGAAAGGTCAGCTTTGCGGATAGTGTACTGAC      12         2               9      1   \n",
       "ATTACTCGTTGCCGTAGGCTTAATCTTGTATAGCCT       5         1              12      9   \n",
       "TCCGCGAAACCAGGCGCAAAGCTAGGTTGTACTGAC       8         2               5      8   \n",
       "ATTCAGAATCGTAGCATCGCGCAATGACCCTATCCT       9         2               3      1   \n",
       "\n",
       "                                      Scasat  SnapATAC  \n",
       "TCCGCGAACTAACTAGGTTGCTACGGTCATAGAGGC       1         1  \n",
       "TCCGCGAAAGGTCAGCTTTGCGGATAGTGTACTGAC       1         1  \n",
       "ATTACTCGTTGCCGTAGGCTTAATCTTGTATAGCCT       3         1  \n",
       "TCCGCGAAACCAGGCGCAAAGCTAGGTTGTACTGAC       1         9  \n",
       "ATTCAGAATCGTAGCATCGCGCAATGACCCTATCCT       3        11  "
      ]
     },
     "execution_count": 5,
     "metadata": {},
     "output_type": "execute_result"
    }
   ],
   "source": [
    "df_clusters.head()"
   ]
  },
  {
   "cell_type": "code",
   "execution_count": 6,
   "metadata": {
    "scrolled": false
   },
   "outputs": [
    {
     "name": "stdout",
     "output_type": "stream",
     "text": [
      "Cicero\n",
      "cisTopic\n",
      "cusanovich2018\n",
      "scABC\n",
      "Scasat\n",
      "SnapATAC\n"
     ]
    }
   ],
   "source": [
    "for method in df_clusters.columns:\n",
    "    print(method)\n",
    "\n",
    "    #adjusted rank index\n",
    "    ari = adjusted_rand_score(metadata['label'], df_clusters[method])\n",
    "\n",
    "    #adjusted mutual information\n",
    "    ami = adjusted_mutual_info_score(metadata['label'], df_clusters[method],average_method='arithmetic')\n",
    "    \n",
    "    #homogeneity\n",
    "    homo = homogeneity_score(metadata['label'], df_clusters[method])\n",
    "\n",
    "    df_metrics.loc[method,'ARI'] = ari\n",
    "    df_metrics.loc[method,'AMI'] = ami\n",
    "    df_metrics.loc[method,'Homogeneity'] = homo"
   ]
  },
  {
   "cell_type": "code",
   "execution_count": 7,
   "metadata": {
    "scrolled": true
   },
   "outputs": [
    {
     "data": {
      "text/html": [
       "<div>\n",
       "<style scoped>\n",
       "    .dataframe tbody tr th:only-of-type {\n",
       "        vertical-align: middle;\n",
       "    }\n",
       "\n",
       "    .dataframe tbody tr th {\n",
       "        vertical-align: top;\n",
       "    }\n",
       "\n",
       "    .dataframe thead th {\n",
       "        text-align: right;\n",
       "    }\n",
       "</style>\n",
       "<table border=\"1\" class=\"dataframe\">\n",
       "  <thead>\n",
       "    <tr style=\"text-align: right;\">\n",
       "      <th></th>\n",
       "      <th>ARI</th>\n",
       "      <th>AMI</th>\n",
       "      <th>Homogeneity</th>\n",
       "    </tr>\n",
       "  </thead>\n",
       "  <tbody>\n",
       "    <tr>\n",
       "      <th>Cicero</th>\n",
       "      <td>0.294221</td>\n",
       "      <td>0.491658</td>\n",
       "      <td>0.477514</td>\n",
       "    </tr>\n",
       "    <tr>\n",
       "      <th>cisTopic</th>\n",
       "      <td>0.334379</td>\n",
       "      <td>0.584576</td>\n",
       "      <td>0.572242</td>\n",
       "    </tr>\n",
       "    <tr>\n",
       "      <th>cusanovich2018</th>\n",
       "      <td>0.364865</td>\n",
       "      <td>0.566409</td>\n",
       "      <td>0.562232</td>\n",
       "    </tr>\n",
       "    <tr>\n",
       "      <th>scABC</th>\n",
       "      <td>0.324509</td>\n",
       "      <td>0.464398</td>\n",
       "      <td>0.46399</td>\n",
       "    </tr>\n",
       "    <tr>\n",
       "      <th>Scasat</th>\n",
       "      <td>0.119738</td>\n",
       "      <td>0.351462</td>\n",
       "      <td>0.332869</td>\n",
       "    </tr>\n",
       "    <tr>\n",
       "      <th>SnapATAC</th>\n",
       "      <td>0.272518</td>\n",
       "      <td>0.562663</td>\n",
       "      <td>0.529729</td>\n",
       "    </tr>\n",
       "  </tbody>\n",
       "</table>\n",
       "</div>"
      ],
      "text/plain": [
       "                     ARI       AMI Homogeneity\n",
       "Cicero          0.294221  0.491658    0.477514\n",
       "cisTopic        0.334379  0.584576    0.572242\n",
       "cusanovich2018  0.364865  0.566409    0.562232\n",
       "scABC           0.324509  0.464398     0.46399\n",
       "Scasat          0.119738  0.351462    0.332869\n",
       "SnapATAC        0.272518  0.562663    0.529729"
      ]
     },
     "execution_count": 7,
     "metadata": {},
     "output_type": "execute_result"
    }
   ],
   "source": [
    "df_metrics"
   ]
  },
  {
   "cell_type": "code",
   "execution_count": 8,
   "metadata": {},
   "outputs": [],
   "source": [
    "df_metrics.to_csv('./clustering_scores.csv')"
   ]
  },
  {
   "cell_type": "code",
   "execution_count": null,
   "metadata": {},
   "outputs": [],
   "source": []
  }
 ],
 "metadata": {
  "kernelspec": {
   "display_name": "Python [conda env:ATACseq_clustering]",
   "language": "python",
   "name": "conda-env-ATACseq_clustering-py"
  },
  "language_info": {
   "codemirror_mode": {
    "name": "ipython",
    "version": 3
   },
   "file_extension": ".py",
   "mimetype": "text/x-python",
   "name": "python",
   "nbconvert_exporter": "python",
   "pygments_lexer": "ipython3",
   "version": "3.7.3"
  }
 },
 "nbformat": 4,
 "nbformat_minor": 2
}
