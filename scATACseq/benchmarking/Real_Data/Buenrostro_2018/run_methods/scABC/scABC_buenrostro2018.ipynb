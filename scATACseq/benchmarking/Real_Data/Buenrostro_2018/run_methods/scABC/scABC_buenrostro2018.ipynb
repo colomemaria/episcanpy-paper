{
 "cells": [
  {
   "cell_type": "markdown",
   "metadata": {},
   "source": [
    "### Import packages"
   ]
  },
  {
   "cell_type": "code",
   "execution_count": 1,
   "metadata": {},
   "outputs": [
    {
     "name": "stderr",
     "output_type": "stream",
     "text": [
      "Loading required package: stats4\n",
      "Loading required package: BiocGenerics\n",
      "Loading required package: parallel\n",
      "\n",
      "Attaching package: ‘BiocGenerics’\n",
      "\n",
      "The following objects are masked from ‘package:parallel’:\n",
      "\n",
      "    clusterApply, clusterApplyLB, clusterCall, clusterEvalQ,\n",
      "    clusterExport, clusterMap, parApply, parCapply, parLapply,\n",
      "    parLapplyLB, parRapply, parSapply, parSapplyLB\n",
      "\n",
      "The following objects are masked from ‘package:stats’:\n",
      "\n",
      "    IQR, mad, sd, var, xtabs\n",
      "\n",
      "The following objects are masked from ‘package:base’:\n",
      "\n",
      "    anyDuplicated, append, as.data.frame, basename, cbind, colMeans,\n",
      "    colnames, colSums, dirname, do.call, duplicated, eval, evalq,\n",
      "    Filter, Find, get, grep, grepl, intersect, is.unsorted, lapply,\n",
      "    lengths, Map, mapply, match, mget, order, paste, pmax, pmax.int,\n",
      "    pmin, pmin.int, Position, rank, rbind, Reduce, rowMeans, rownames,\n",
      "    rowSums, sapply, setdiff, sort, table, tapply, union, unique,\n",
      "    unsplit, which, which.max, which.min\n",
      "\n",
      "Loading required package: S4Vectors\n",
      "\n",
      "Attaching package: ‘S4Vectors’\n",
      "\n",
      "The following object is masked from ‘package:base’:\n",
      "\n",
      "    expand.grid\n",
      "\n",
      "Loading required package: IRanges\n",
      "Loading required package: GenomeInfoDb\n",
      "Warning message:\n",
      "“replacing previous import ‘IRanges::which’ by ‘Matrix::which’ when loading ‘scABC’”Loading required package: Biostrings\n",
      "Loading required package: XVector\n",
      "\n",
      "Attaching package: ‘Biostrings’\n",
      "\n",
      "The following object is masked from ‘package:base’:\n",
      "\n",
      "    strsplit\n",
      "\n",
      "\n",
      "Attaching package: ‘data.table’\n",
      "\n",
      "The following object is masked from ‘package:GenomicRanges’:\n",
      "\n",
      "    shift\n",
      "\n",
      "The following object is masked from ‘package:IRanges’:\n",
      "\n",
      "    shift\n",
      "\n",
      "The following objects are masked from ‘package:S4Vectors’:\n",
      "\n",
      "    first, second\n",
      "\n",
      "\n",
      "Attaching package: ‘dplyr’\n",
      "\n",
      "The following objects are masked from ‘package:data.table’:\n",
      "\n",
      "    between, first, last\n",
      "\n",
      "The following objects are masked from ‘package:Biostrings’:\n",
      "\n",
      "    collapse, intersect, setdiff, setequal, union\n",
      "\n",
      "The following object is masked from ‘package:XVector’:\n",
      "\n",
      "    slice\n",
      "\n",
      "The following objects are masked from ‘package:GenomicRanges’:\n",
      "\n",
      "    intersect, setdiff, union\n",
      "\n",
      "The following object is masked from ‘package:GenomeInfoDb’:\n",
      "\n",
      "    intersect\n",
      "\n",
      "The following objects are masked from ‘package:IRanges’:\n",
      "\n",
      "    collapse, desc, intersect, setdiff, slice, union\n",
      "\n",
      "The following objects are masked from ‘package:S4Vectors’:\n",
      "\n",
      "    first, intersect, rename, setdiff, setequal, union\n",
      "\n",
      "The following objects are masked from ‘package:BiocGenerics’:\n",
      "\n",
      "    combine, intersect, setdiff, union\n",
      "\n",
      "The following objects are masked from ‘package:stats’:\n",
      "\n",
      "    filter, lag\n",
      "\n",
      "The following objects are masked from ‘package:base’:\n",
      "\n",
      "    intersect, setdiff, setequal, union\n",
      "\n",
      "── Attaching packages ─────────────────────────────────────── tidyverse 1.2.1 ──\n",
      "✔ ggplot2 3.1.0     ✔ readr   1.3.1\n",
      "✔ tibble  2.1.1     ✔ purrr   0.3.2\n",
      "✔ tidyr   0.8.3     ✔ stringr 1.4.0\n",
      "✔ ggplot2 3.1.0     ✔ forcats 0.4.0\n",
      "── Conflicts ────────────────────────────────────────── tidyverse_conflicts() ──\n",
      "✖ dplyr::between()    masks data.table::between()\n",
      "✖ dplyr::collapse()   masks Biostrings::collapse(), IRanges::collapse()\n",
      "✖ dplyr::combine()    masks BiocGenerics::combine()\n",
      "✖ purrr::compact()    masks XVector::compact()\n",
      "✖ dplyr::desc()       masks IRanges::desc()\n",
      "✖ tidyr::expand()     masks S4Vectors::expand()\n",
      "✖ dplyr::filter()     masks stats::filter()\n",
      "✖ dplyr::first()      masks data.table::first(), S4Vectors::first()\n",
      "✖ dplyr::lag()        masks stats::lag()\n",
      "✖ dplyr::last()       masks data.table::last()\n",
      "✖ ggplot2::Position() masks BiocGenerics::Position(), base::Position()\n",
      "✖ purrr::reduce()     masks GenomicRanges::reduce(), IRanges::reduce()\n",
      "✖ dplyr::rename()     masks S4Vectors::rename()\n",
      "✖ dplyr::slice()      masks XVector::slice(), IRanges::slice()\n",
      "✖ purrr::transpose()  masks data.table::transpose()\n",
      "\n",
      "Attaching package: ‘Matrix’\n",
      "\n",
      "The following object is masked from ‘package:tidyr’:\n",
      "\n",
      "    expand\n",
      "\n",
      "The following object is masked from ‘package:S4Vectors’:\n",
      "\n",
      "    expand\n",
      "\n",
      "\n",
      "Attaching package: ‘gplots’\n",
      "\n",
      "The following object is masked from ‘package:IRanges’:\n",
      "\n",
      "    space\n",
      "\n",
      "The following object is masked from ‘package:S4Vectors’:\n",
      "\n",
      "    space\n",
      "\n",
      "The following object is masked from ‘package:stats’:\n",
      "\n",
      "    lowess\n",
      "\n",
      "SHA-1 hash of file is 015fc0457e61e3e93a903e69a24d96d2dac7b9fb\n"
     ]
    }
   ],
   "source": [
    "options(stringsAsFactors = FALSE)\n",
    "library(GenomicRanges)\n",
    "library(scABC)\n",
    "library(Rsamtools)\n",
    "library(data.table)\n",
    "library(dplyr)\n",
    "library(tidyverse)\n",
    "library(Matrix)\n",
    "\n",
    "library(gplots) \n",
    "library(RColorBrewer)\n",
    "library(devtools)\n",
    "source_url(\"https://raw.githubusercontent.com/obigriffith/biostar-tutorials/master/Heatmaps/heatmap.3.R\")"
   ]
  },
  {
   "cell_type": "code",
   "execution_count": null,
   "metadata": {},
   "outputs": [],
   "source": []
  },
  {
   "cell_type": "markdown",
   "metadata": {},
   "source": [
    "### Functions"
   ]
  },
  {
   "cell_type": "code",
   "execution_count": 2,
   "metadata": {},
   "outputs": [],
   "source": [
    "bam2gr <- function(bamfile, PAIRED = FALSE) {\n",
    "  if (PAIRED) {\n",
    "    scanned = scanBam(bamfile, param = ScanBamParam(flag =scanBamFlag(isMinusStrand = FALSE,\n",
    "                                                                      isUnmappedQuery = FALSE,\n",
    "                                                                      isProperPair = TRUE),\n",
    "                                                    what = c(\"rname\", \"pos\", \"isize\")))[[1]]\n",
    "    out = GRanges(seqnames = scanned$rname, IRanges(start = scanned$pos, width = scanned$isize))\n",
    "  } else {\n",
    "    scanned = scanBam(bamfile, param = ScanBamParam(flag =scanBamFlag(isUnmappedQuery = FALSE),\n",
    "                                                    what = c(\"rname\", \"pos\", \"strand\", \"qwidth\")))[[1]]\n",
    "    out = GRanges(seqnames = scanned$rname,\n",
    "                  IRanges(start = ifelse(scanned$strand == \"-\", scanned$pos + scanned$qwidth - 1, scanned$pos),\n",
    "                          width = scanned$qwidth))\n",
    "  }\n",
    "  return(out)\n",
    "}\n",
    "\n",
    "getCountsByReadGroup <- function(bamfile, peaks, RGtag, tags = NULL, PAIRED = FALSE, VERBOSE = FALSE){\n",
    "  scanned <- Rsamtools::scanBam(bamfile,\n",
    "                     param = Rsamtools::ScanBamParam(flag =scanBamFlag(isUnmappedQuery = FALSE),\n",
    "                                                     what = c(\"rname\", \"pos\", \"strand\", \"qwidth\"),\n",
    "                                                     tag = RGtag))[[1]]\n",
    "  if(is.null(tags)){\n",
    "    RGtags = unique(unlist(scanned$tag[RGtag]))\n",
    "  }\n",
    "  counts_mat = Matrix::Matrix(0, nrow = length(peaks), ncol = length(tags), sparse = TRUE)\n",
    "  for(i in 1:length(tags)){\n",
    "    tag = tags[i]\n",
    "    if(VERBOSE){\n",
    "      message(\"Processing tag \", tag)\n",
    "    }\n",
    "    match_RG <- which(scanned$tag[[RGtag]] == tag)\n",
    "    # convert bamfiles to Genomic Ranges\n",
    "    bam.gr = GenomicRanges::GRanges(seqnames = scanned$rname[match_RG],\n",
    "                                    IRanges::IRanges(start = sapply(match_RG, function(i) ifelse(scanned$strand[i] == \"-\",\n",
    "                                                                         scanned$pos[i] + scanned$qwidth[i] - 1,\n",
    "                                                                         scanned$pos[i])),\n",
    "                             width = scanned$qwidth[match_RG]))\n",
    "    counts_mat[,i] = GenomicRanges::countOverlaps(peaks, bam.gr, type = \"any\", ignore.strand = TRUE)\n",
    "  }\n",
    " # counts = do.call(cbind, lapply(RGtags, function(x) getTagCounts(x, bamfile, peaks)))\n",
    "  colnames(counts_mat) = tags\n",
    "  return(counts_mat)\n",
    "}\n",
    "                                    \n",
    "peaks2GRanges <- function(peaks, upstream = 0, downstream = 0){\n",
    "  peaks.gr = with(peaks, GenomicRanges::GRanges(chrom, IRanges::IRanges(sapply(start, function(x) max(0, x - upstream)), end + downstream), \n",
    "                                                                               id = name))#, pVal = pValue))\n",
    "}\n",
    "\n",
    "# peaks should be in GenomicRanges\n",
    "get_counts_from_bam <- function(bamfile, peaks){\n",
    "  param = Rsamtools::ScanBamParam(flag =scanBamFlag(isUnmappedQuery = FALSE), \n",
    "                                  which = peaks, \n",
    "                                  what = c(\"rname\", \"pos\", \"strand\", \"qwidth\"))\n",
    "  counts = Rsamtools::countBam(bamfile, param = param,\n",
    "                               flag = Rsamtools::scanBamFlag(isDuplicate = FALSE,\n",
    "                                                             isUnmappedQuery = FALSE))\n",
    "  return(counts[,c(\"space\", \"start\", \"end\", \"file\", \"records\")])\n",
    "}\n",
    "                                                \n",
    "\n",
    "getCountsMatrix <- function(bamfiles, peaks, PAIRED = FALSE,\n",
    "                            byReadGroup = FALSE, \n",
    "                            RGtag = 'RG',\n",
    "                            tags2include = NULL, \n",
    "                            VERBOSE = FALSE){\n",
    "  peaks.gr = peaks2GRanges(peaks)\n",
    "  if(VERBOSE){\n",
    "    message(\"beginning reading in counts\\n\")\n",
    "  }\n",
    "  if(byReadGroup){\n",
    "    if(VERBOSE){\n",
    "      message(\"getting counts by read group\\n\")\n",
    "      message(\"read group tag = \", RGtag, \"\\n\")\n",
    "    }\n",
    "    stopifnot(length(bamfiles) == 1)\n",
    "    counts_mat = getCountsByReadGroup(bamfiles, peaks.gr, RGtag = RGtag, \n",
    "                                      tags = tags2include);\n",
    "    rownames(counts_mat) = peaks$name\n",
    "  }\n",
    "  else{\n",
    "    nCells = length(bamfiles)\n",
    "    counts_mat = matrix(nrow = length(peaks.gr), ncol = nCells)\n",
    "    for(i in 1:nCells){\n",
    "      if(VERBOSE){\n",
    "        message(\"Processing file \", bamfiles[i])\n",
    "      }\n",
    "      # convert bamfiles to Genomic Ranges\n",
    "      bam.gr = bam2gr(bamfiles[i], PAIRED = PAIRED)\n",
    "      counts_mat[,i] = countOverlaps(peaks.gr, bam.gr, type = \"any\", ignore.strand = TRUE)\n",
    "    }\n",
    "    colnames(counts_mat) = bamfiles\n",
    "    rownames(counts_mat) = peaks$name\n",
    "    #counts_info = data.frame(chrom = counts_list[[1]]$space, start = counts_list[[1]]$start, end = counts_list[[1]]$end, name = peaks$id, pValue = peaks$pVal)\n",
    "  }\n",
    "  peaks = peaks[,c(\"chrom\", \"start\", \"end\", \"name\")]#, \"pValue\")]\n",
    "  return(list(peaks = peaks, ForeGroundMatrix = Matrix::Matrix(counts_mat, sparse = TRUE)))\n",
    "}\n",
    "                                                \n",
    "                                                \n",
    "sort_peaks <- function(peaks){\n",
    "  return(peaks[order(peaks$chrom, peaks$start), ])\n",
    "}\n",
    "                                                \n",
    "selectPeaks <- function(filename, thresh = 2){\n",
    "  peaks = read.table(file = filename, header = FALSE, sep = \"\\t\",\n",
    "                     stringsAsFactors = FALSE);\n",
    "  if(dim(peaks)[2] == 15){\n",
    "    # gapped peaks\n",
    "    column_names = c(\"chrom\", \"start\", \"end\", \"name\", \"score\", \"strand\",\n",
    "                     \"thickStart\", \"thickEnd\", \"itemRgb\", \"blockCount\", \"blockSizes\",\n",
    "                     \"blockStarts\", \"signalValue\", \"pValue\", \"qValue\");\n",
    "    colnames(peaks) = column_names\n",
    "    wanted_peaks = which(peaks$pValue > thresh); # pValue is -log10(p), p < 0.1 => pValue > 2\n",
    "    peaks = sort_peaks(peaks[wanted_peaks, ])\n",
    "  }\n",
    "  if(dim(peaks)[2] == 10){\n",
    "    # narrow peaks\n",
    "    column_names = c(\"chrom\", \"start\", \"end\", \"name\", \"score\", \"strand\",\n",
    "                     \"foldChange\", \"pValue\", \"qValue\", \"summit2PeakDist\")\n",
    "    colnames(peaks) = column_names\n",
    "    wanted_peaks = which(peaks$pValue > thresh); # pValue is -log10(p), p < 0.1 => pValue > 2\n",
    "    peaks = sort_peaks(peaks[wanted_peaks, ])\n",
    "  }\n",
    "  \n",
    "  # mine  \n",
    "  if(dim(peaks)[2] == 3){\n",
    "    # gapped peaks\n",
    "    column_names = c(\"chrom\", \"start\", \"end\");\n",
    "    colnames(peaks) = column_names\n",
    "    peaks = sort_peaks(peaks)\n",
    "  }\n",
    "  return(peaks)\n",
    "}\n",
    "                                                \n",
    "                                                \n",
    "getBackground <- function(bamfiles, peaks, upstream = 500000,\n",
    "                          downstream = 500000, byReadGroup = FALSE,\n",
    "                          VERBOSE = FALSE, PAIRED = FALSE){\n",
    "  nCells = length(bamfiles)\n",
    "  background_peaks.gr = peaks2GRanges(peaks, upstream, downstream)\n",
    "  if(byReadGroup){\n",
    "    counts_mat = getCountsByReadGroup2(bamfile, background_peaks.gr);\n",
    "    rownames(counts_mat) = peaks$name\n",
    "  }\n",
    "  else{\n",
    "    counts_mat = matrix(nrow = length(background_peaks.gr), ncol = nCells)\n",
    "    for(i in 1:nCells){\n",
    "      if(VERBOSE){\n",
    "        message(\"Processing file \", bamfiles[i])\n",
    "      }\n",
    "      # convert bamfiles to Genomic Ranges\n",
    "      bam.gr = bam2gr(bamfiles[i], PAIRED = PAIRED)\n",
    "      counts_mat[,i] = countOverlaps(background_peaks.gr, bam.gr, type = \"any\", ignore.strand = TRUE)\n",
    "    }\n",
    "    colnames(counts_mat) = bamfiles\n",
    "    rownames(counts_mat) = peaks$name\n",
    "    #counts_info = data.frame(chrom = counts_list[[1]]$space, start = counts_list[[1]]$start, end = counts_list[[1]]$end, name = peaks$id, pValue = peaks$pVal)\n",
    "  }\n",
    "  peaks = peaks[,c(\"chrom\", \"start\", \"end\", \"name\")]#, \"pValue\")]\n",
    "  return(list(peaks = peaks, BackGroundMatrix = Matrix::Matrix(counts_mat, sparse = TRUE)))\n",
    "}"
   ]
  },
  {
   "cell_type": "code",
   "execution_count": null,
   "metadata": {},
   "outputs": [],
   "source": []
  },
  {
   "cell_type": "markdown",
   "metadata": {},
   "source": [
    "### Obtain Feature Matrix"
   ]
  },
  {
   "cell_type": "code",
   "execution_count": 3,
   "metadata": {},
   "outputs": [],
   "source": [
    "start_time <- Sys.time()"
   ]
  },
  {
   "cell_type": "code",
   "execution_count": 4,
   "metadata": {},
   "outputs": [],
   "source": [
    "metadata <- read.table('../../input/metadata.tsv',\n",
    "                         header = TRUE,\n",
    "                         stringsAsFactors=FALSE,quote=\"\",row.names=1)"
   ]
  },
  {
   "cell_type": "code",
   "execution_count": 5,
   "metadata": {},
   "outputs": [],
   "source": [
    "# loading input 1: single-cell BAM files\n",
    "bamfiles <- list.files(\"../../input/sc-bams_nodup/\", \n",
    "                       pattern = \"*.bam\", full.names = TRUE)"
   ]
  },
  {
   "cell_type": "code",
   "execution_count": 6,
   "metadata": {
    "scrolled": false
   },
   "outputs": [
    {
     "data": {
      "text/html": [
       "2034"
      ],
      "text/latex": [
       "2034"
      ],
      "text/markdown": [
       "2034"
      ],
      "text/plain": [
       "[1] 2034"
      ]
     },
     "metadata": {},
     "output_type": "display_data"
    }
   ],
   "source": [
    "length(bamfiles)"
   ]
  },
  {
   "cell_type": "code",
   "execution_count": 7,
   "metadata": {},
   "outputs": [
    {
     "data": {
      "text/html": [
       "<ol class=list-inline>\n",
       "\t<li>237450</li>\n",
       "\t<li>4</li>\n",
       "</ol>\n"
      ],
      "text/latex": [
       "\\begin{enumerate*}\n",
       "\\item 237450\n",
       "\\item 4\n",
       "\\end{enumerate*}\n"
      ],
      "text/markdown": [
       "1. 237450\n",
       "2. 4\n",
       "\n",
       "\n"
      ],
      "text/plain": [
       "[1] 237450      4"
      ]
     },
     "metadata": {},
     "output_type": "display_data"
    },
    {
     "data": {
      "text/html": [
       "<table>\n",
       "<thead><tr><th scope=col>chrom</th><th scope=col>start</th><th scope=col>end</th><th scope=col>name</th></tr></thead>\n",
       "<tbody>\n",
       "\t<tr><td>chr1                   </td><td> 10413                 </td><td> 10625                 </td><td>Peak_chr1_10413_10625  </td></tr>\n",
       "\t<tr><td>chr1                   </td><td> 13380                 </td><td> 13624                 </td><td>Peak_chr1_13380_13624  </td></tr>\n",
       "\t<tr><td>chr1                   </td><td> 16145                 </td><td> 16354                 </td><td>Peak_chr1_16145_16354  </td></tr>\n",
       "\t<tr><td>chr1                   </td><td> 96388                 </td><td> 96812                 </td><td>Peak_chr1_96388_96812  </td></tr>\n",
       "\t<tr><td>chr1                   </td><td>115650                 </td><td>115812                 </td><td>Peak_chr1_115650_115812</td></tr>\n",
       "\t<tr><td>chr1                   </td><td>237625                 </td><td>237888                 </td><td>Peak_chr1_237625_237888</td></tr>\n",
       "</tbody>\n",
       "</table>\n"
      ],
      "text/latex": [
       "\\begin{tabular}{r|llll}\n",
       " chrom & start & end & name\\\\\n",
       "\\hline\n",
       "\t chr1                          &  10413                        &  10625                        & Peak\\_chr1\\_10413\\_10625  \\\\\n",
       "\t chr1                          &  13380                        &  13624                        & Peak\\_chr1\\_13380\\_13624  \\\\\n",
       "\t chr1                          &  16145                        &  16354                        & Peak\\_chr1\\_16145\\_16354  \\\\\n",
       "\t chr1                          &  96388                        &  96812                        & Peak\\_chr1\\_96388\\_96812  \\\\\n",
       "\t chr1                          & 115650                        & 115812                        & Peak\\_chr1\\_115650\\_115812\\\\\n",
       "\t chr1                          & 237625                        & 237888                        & Peak\\_chr1\\_237625\\_237888\\\\\n",
       "\\end{tabular}\n"
      ],
      "text/markdown": [
       "\n",
       "| chrom | start | end | name |\n",
       "|---|---|---|---|\n",
       "| chr1                    |  10413                  |  10625                  | Peak_chr1_10413_10625   |\n",
       "| chr1                    |  13380                  |  13624                  | Peak_chr1_13380_13624   |\n",
       "| chr1                    |  16145                  |  16354                  | Peak_chr1_16145_16354   |\n",
       "| chr1                    |  96388                  |  96812                  | Peak_chr1_96388_96812   |\n",
       "| chr1                    | 115650                  | 115812                  | Peak_chr1_115650_115812 |\n",
       "| chr1                    | 237625                  | 237888                  | Peak_chr1_237625_237888 |\n",
       "\n"
      ],
      "text/plain": [
       "  chrom start  end    name                   \n",
       "1 chr1   10413  10625 Peak_chr1_10413_10625  \n",
       "2 chr1   13380  13624 Peak_chr1_13380_13624  \n",
       "3 chr1   16145  16354 Peak_chr1_16145_16354  \n",
       "4 chr1   96388  96812 Peak_chr1_96388_96812  \n",
       "5 chr1  115650 115812 Peak_chr1_115650_115812\n",
       "6 chr1  237625 237888 Peak_chr1_237625_237888"
      ]
     },
     "metadata": {},
     "output_type": "display_data"
    }
   ],
   "source": [
    "# loading input 2: peaks file\n",
    "peaks <- selectPeaks(\"../../input/combined.sorted.merged.bed\")\n",
    "peaks$name <- paste(\"Peak\", peaks$chrom, peaks$start, peaks$end, sep = \"_\")\n",
    "dim(peaks)\n",
    "head(peaks)"
   ]
  },
  {
   "cell_type": "code",
   "execution_count": 8,
   "metadata": {
    "scrolled": true
   },
   "outputs": [],
   "source": [
    "ForeGround <- getCountsMatrix(bamfiles, peaks) "
   ]
  },
  {
   "cell_type": "code",
   "execution_count": 9,
   "metadata": {},
   "outputs": [],
   "source": [
    "ForeGroundFiltered <- filterPeaks(ForeGround$ForeGroundMatrix, peaks, \n",
    "                             nreads_thresh = 1, \n",
    "                             ncells_thresh = length(bamfiles)*0.01)"
   ]
  },
  {
   "cell_type": "code",
   "execution_count": 10,
   "metadata": {},
   "outputs": [
    {
     "data": {
      "text/html": [
       "<ol class=list-inline>\n",
       "\t<li>237450</li>\n",
       "\t<li>4</li>\n",
       "</ol>\n"
      ],
      "text/latex": [
       "\\begin{enumerate*}\n",
       "\\item 237450\n",
       "\\item 4\n",
       "\\end{enumerate*}\n"
      ],
      "text/markdown": [
       "1. 237450\n",
       "2. 4\n",
       "\n",
       "\n"
      ],
      "text/plain": [
       "[1] 237450      4"
      ]
     },
     "metadata": {},
     "output_type": "display_data"
    },
    {
     "data": {
      "text/html": [
       "<ol class=list-inline>\n",
       "\t<li>102231</li>\n",
       "\t<li>4</li>\n",
       "</ol>\n"
      ],
      "text/latex": [
       "\\begin{enumerate*}\n",
       "\\item 102231\n",
       "\\item 4\n",
       "\\end{enumerate*}\n"
      ],
      "text/markdown": [
       "1. 102231\n",
       "2. 4\n",
       "\n",
       "\n"
      ],
      "text/plain": [
       "[1] 102231      4"
      ]
     },
     "metadata": {},
     "output_type": "display_data"
    }
   ],
   "source": [
    "dim(peaks)\n",
    "dim(ForeGroundFiltered$peaks)"
   ]
  },
  {
   "cell_type": "code",
   "execution_count": 11,
   "metadata": {},
   "outputs": [],
   "source": [
    "fm_scABC = as.matrix(ForeGroundFiltered$ForeGroundMatrix)"
   ]
  },
  {
   "cell_type": "code",
   "execution_count": null,
   "metadata": {},
   "outputs": [],
   "source": []
  },
  {
   "cell_type": "code",
   "execution_count": 12,
   "metadata": {
    "scrolled": true
   },
   "outputs": [
    {
     "data": {
      "text/html": [
       "<ol class=list-inline>\n",
       "\t<li>102231</li>\n",
       "\t<li>2034</li>\n",
       "</ol>\n"
      ],
      "text/latex": [
       "\\begin{enumerate*}\n",
       "\\item 102231\n",
       "\\item 2034\n",
       "\\end{enumerate*}\n"
      ],
      "text/markdown": [
       "1. 102231\n",
       "2. 2034\n",
       "\n",
       "\n"
      ],
      "text/plain": [
       "[1] 102231   2034"
      ]
     },
     "metadata": {},
     "output_type": "display_data"
    },
    {
     "data": {
      "text/html": [
       "<table>\n",
       "<thead><tr><th></th><th scope=col>../../input/sc-bams_nodup//BM1077-CLP-Frozen-160106-13.dedup.st.bam</th><th scope=col>../../input/sc-bams_nodup//BM1077-CLP-Frozen-160106-14.dedup.st.bam</th><th scope=col>../../input/sc-bams_nodup//BM1077-CLP-Frozen-160106-2.dedup.st.bam</th><th scope=col>../../input/sc-bams_nodup//BM1077-CLP-Frozen-160106-21.dedup.st.bam</th><th scope=col>../../input/sc-bams_nodup//BM1077-CLP-Frozen-160106-27.dedup.st.bam</th></tr></thead>\n",
       "<tbody>\n",
       "\t<tr><th scope=row>Peak_chr1_10413_10625</th><td>0</td><td>0</td><td>0</td><td>0</td><td>0</td></tr>\n",
       "\t<tr><th scope=row>Peak_chr1_13380_13624</th><td>0</td><td>0</td><td>0</td><td>0</td><td>0</td></tr>\n",
       "\t<tr><th scope=row>Peak_chr1_16145_16354</th><td>0</td><td>0</td><td>0</td><td>0</td><td>0</td></tr>\n",
       "\t<tr><th scope=row>Peak_chr1_96388_96812</th><td>0</td><td>0</td><td>0</td><td>0</td><td>0</td></tr>\n",
       "\t<tr><th scope=row>Peak_chr1_115650_115812</th><td>0</td><td>0</td><td>0</td><td>0</td><td>0</td></tr>\n",
       "</tbody>\n",
       "</table>\n"
      ],
      "text/latex": [
       "\\begin{tabular}{r|lllll}\n",
       "  & ../../input/sc-bams\\_nodup//BM1077-CLP-Frozen-160106-13.dedup.st.bam & ../../input/sc-bams\\_nodup//BM1077-CLP-Frozen-160106-14.dedup.st.bam & ../../input/sc-bams\\_nodup//BM1077-CLP-Frozen-160106-2.dedup.st.bam & ../../input/sc-bams\\_nodup//BM1077-CLP-Frozen-160106-21.dedup.st.bam & ../../input/sc-bams\\_nodup//BM1077-CLP-Frozen-160106-27.dedup.st.bam\\\\\n",
       "\\hline\n",
       "\tPeak\\_chr1\\_10413\\_10625 & 0 & 0 & 0 & 0 & 0\\\\\n",
       "\tPeak\\_chr1\\_13380\\_13624 & 0 & 0 & 0 & 0 & 0\\\\\n",
       "\tPeak\\_chr1\\_16145\\_16354 & 0 & 0 & 0 & 0 & 0\\\\\n",
       "\tPeak\\_chr1\\_96388\\_96812 & 0 & 0 & 0 & 0 & 0\\\\\n",
       "\tPeak\\_chr1\\_115650\\_115812 & 0 & 0 & 0 & 0 & 0\\\\\n",
       "\\end{tabular}\n"
      ],
      "text/markdown": [
       "\n",
       "| <!--/--> | ../../input/sc-bams_nodup//BM1077-CLP-Frozen-160106-13.dedup.st.bam | ../../input/sc-bams_nodup//BM1077-CLP-Frozen-160106-14.dedup.st.bam | ../../input/sc-bams_nodup//BM1077-CLP-Frozen-160106-2.dedup.st.bam | ../../input/sc-bams_nodup//BM1077-CLP-Frozen-160106-21.dedup.st.bam | ../../input/sc-bams_nodup//BM1077-CLP-Frozen-160106-27.dedup.st.bam |\n",
       "|---|---|---|---|---|---|\n",
       "| Peak_chr1_10413_10625 | 0 | 0 | 0 | 0 | 0 |\n",
       "| Peak_chr1_13380_13624 | 0 | 0 | 0 | 0 | 0 |\n",
       "| Peak_chr1_16145_16354 | 0 | 0 | 0 | 0 | 0 |\n",
       "| Peak_chr1_96388_96812 | 0 | 0 | 0 | 0 | 0 |\n",
       "| Peak_chr1_115650_115812 | 0 | 0 | 0 | 0 | 0 |\n",
       "\n"
      ],
      "text/plain": [
       "                        ../../input/sc-bams_nodup//BM1077-CLP-Frozen-160106-13.dedup.st.bam\n",
       "Peak_chr1_10413_10625   0                                                                  \n",
       "Peak_chr1_13380_13624   0                                                                  \n",
       "Peak_chr1_16145_16354   0                                                                  \n",
       "Peak_chr1_96388_96812   0                                                                  \n",
       "Peak_chr1_115650_115812 0                                                                  \n",
       "                        ../../input/sc-bams_nodup//BM1077-CLP-Frozen-160106-14.dedup.st.bam\n",
       "Peak_chr1_10413_10625   0                                                                  \n",
       "Peak_chr1_13380_13624   0                                                                  \n",
       "Peak_chr1_16145_16354   0                                                                  \n",
       "Peak_chr1_96388_96812   0                                                                  \n",
       "Peak_chr1_115650_115812 0                                                                  \n",
       "                        ../../input/sc-bams_nodup//BM1077-CLP-Frozen-160106-2.dedup.st.bam\n",
       "Peak_chr1_10413_10625   0                                                                 \n",
       "Peak_chr1_13380_13624   0                                                                 \n",
       "Peak_chr1_16145_16354   0                                                                 \n",
       "Peak_chr1_96388_96812   0                                                                 \n",
       "Peak_chr1_115650_115812 0                                                                 \n",
       "                        ../../input/sc-bams_nodup//BM1077-CLP-Frozen-160106-21.dedup.st.bam\n",
       "Peak_chr1_10413_10625   0                                                                  \n",
       "Peak_chr1_13380_13624   0                                                                  \n",
       "Peak_chr1_16145_16354   0                                                                  \n",
       "Peak_chr1_96388_96812   0                                                                  \n",
       "Peak_chr1_115650_115812 0                                                                  \n",
       "                        ../../input/sc-bams_nodup//BM1077-CLP-Frozen-160106-27.dedup.st.bam\n",
       "Peak_chr1_10413_10625   0                                                                  \n",
       "Peak_chr1_13380_13624   0                                                                  \n",
       "Peak_chr1_16145_16354   0                                                                  \n",
       "Peak_chr1_96388_96812   0                                                                  \n",
       "Peak_chr1_115650_115812 0                                                                  "
      ]
     },
     "metadata": {},
     "output_type": "display_data"
    }
   ],
   "source": [
    "dim(fm_scABC)\n",
    "fm_scABC[1:5,1:5]"
   ]
  },
  {
   "cell_type": "code",
   "execution_count": 13,
   "metadata": {},
   "outputs": [],
   "source": [
    "end_time <- Sys.time()"
   ]
  },
  {
   "cell_type": "code",
   "execution_count": 14,
   "metadata": {},
   "outputs": [
    {
     "data": {
      "text/plain": [
       "Time difference of 5.486554 mins"
      ]
     },
     "metadata": {},
     "output_type": "display_data"
    }
   ],
   "source": [
    "end_time - start_time"
   ]
  },
  {
   "cell_type": "code",
   "execution_count": null,
   "metadata": {},
   "outputs": [],
   "source": []
  },
  {
   "cell_type": "code",
   "execution_count": 15,
   "metadata": {},
   "outputs": [
    {
     "data": {
      "text/html": [
       "TRUE"
      ],
      "text/latex": [
       "TRUE"
      ],
      "text/markdown": [
       "TRUE"
      ],
      "text/plain": [
       "[1] TRUE"
      ]
     },
     "metadata": {},
     "output_type": "display_data"
    }
   ],
   "source": [
    "all(sapply(strsplit(basename(colnames(fm_scABC)),'\\\\.'),'[', 1) == rownames(metadata))"
   ]
  },
  {
   "cell_type": "code",
   "execution_count": 16,
   "metadata": {},
   "outputs": [],
   "source": [
    "colnames(fm_scABC) = rownames(metadata)"
   ]
  },
  {
   "cell_type": "code",
   "execution_count": 17,
   "metadata": {},
   "outputs": [
    {
     "data": {
      "text/html": [
       "<ol class=list-inline>\n",
       "\t<li>102231</li>\n",
       "\t<li>2034</li>\n",
       "</ol>\n"
      ],
      "text/latex": [
       "\\begin{enumerate*}\n",
       "\\item 102231\n",
       "\\item 2034\n",
       "\\end{enumerate*}\n"
      ],
      "text/markdown": [
       "1. 102231\n",
       "2. 2034\n",
       "\n",
       "\n"
      ],
      "text/plain": [
       "[1] 102231   2034"
      ]
     },
     "metadata": {},
     "output_type": "display_data"
    },
    {
     "data": {
      "text/html": [
       "<table>\n",
       "<thead><tr><th></th><th scope=col>BM1077-CLP-Frozen-160106-13</th><th scope=col>BM1077-CLP-Frozen-160106-14</th><th scope=col>BM1077-CLP-Frozen-160106-2</th><th scope=col>BM1077-CLP-Frozen-160106-21</th><th scope=col>BM1077-CLP-Frozen-160106-27</th></tr></thead>\n",
       "<tbody>\n",
       "\t<tr><th scope=row>Peak_chr1_10413_10625</th><td>0</td><td>0</td><td>0</td><td>0</td><td>0</td></tr>\n",
       "\t<tr><th scope=row>Peak_chr1_13380_13624</th><td>0</td><td>0</td><td>0</td><td>0</td><td>0</td></tr>\n",
       "\t<tr><th scope=row>Peak_chr1_16145_16354</th><td>0</td><td>0</td><td>0</td><td>0</td><td>0</td></tr>\n",
       "\t<tr><th scope=row>Peak_chr1_96388_96812</th><td>0</td><td>0</td><td>0</td><td>0</td><td>0</td></tr>\n",
       "\t<tr><th scope=row>Peak_chr1_115650_115812</th><td>0</td><td>0</td><td>0</td><td>0</td><td>0</td></tr>\n",
       "</tbody>\n",
       "</table>\n"
      ],
      "text/latex": [
       "\\begin{tabular}{r|lllll}\n",
       "  & BM1077-CLP-Frozen-160106-13 & BM1077-CLP-Frozen-160106-14 & BM1077-CLP-Frozen-160106-2 & BM1077-CLP-Frozen-160106-21 & BM1077-CLP-Frozen-160106-27\\\\\n",
       "\\hline\n",
       "\tPeak\\_chr1\\_10413\\_10625 & 0 & 0 & 0 & 0 & 0\\\\\n",
       "\tPeak\\_chr1\\_13380\\_13624 & 0 & 0 & 0 & 0 & 0\\\\\n",
       "\tPeak\\_chr1\\_16145\\_16354 & 0 & 0 & 0 & 0 & 0\\\\\n",
       "\tPeak\\_chr1\\_96388\\_96812 & 0 & 0 & 0 & 0 & 0\\\\\n",
       "\tPeak\\_chr1\\_115650\\_115812 & 0 & 0 & 0 & 0 & 0\\\\\n",
       "\\end{tabular}\n"
      ],
      "text/markdown": [
       "\n",
       "| <!--/--> | BM1077-CLP-Frozen-160106-13 | BM1077-CLP-Frozen-160106-14 | BM1077-CLP-Frozen-160106-2 | BM1077-CLP-Frozen-160106-21 | BM1077-CLP-Frozen-160106-27 |\n",
       "|---|---|---|---|---|---|\n",
       "| Peak_chr1_10413_10625 | 0 | 0 | 0 | 0 | 0 |\n",
       "| Peak_chr1_13380_13624 | 0 | 0 | 0 | 0 | 0 |\n",
       "| Peak_chr1_16145_16354 | 0 | 0 | 0 | 0 | 0 |\n",
       "| Peak_chr1_96388_96812 | 0 | 0 | 0 | 0 | 0 |\n",
       "| Peak_chr1_115650_115812 | 0 | 0 | 0 | 0 | 0 |\n",
       "\n"
      ],
      "text/plain": [
       "                        BM1077-CLP-Frozen-160106-13 BM1077-CLP-Frozen-160106-14\n",
       "Peak_chr1_10413_10625   0                           0                          \n",
       "Peak_chr1_13380_13624   0                           0                          \n",
       "Peak_chr1_16145_16354   0                           0                          \n",
       "Peak_chr1_96388_96812   0                           0                          \n",
       "Peak_chr1_115650_115812 0                           0                          \n",
       "                        BM1077-CLP-Frozen-160106-2 BM1077-CLP-Frozen-160106-21\n",
       "Peak_chr1_10413_10625   0                          0                          \n",
       "Peak_chr1_13380_13624   0                          0                          \n",
       "Peak_chr1_16145_16354   0                          0                          \n",
       "Peak_chr1_96388_96812   0                          0                          \n",
       "Peak_chr1_115650_115812 0                          0                          \n",
       "                        BM1077-CLP-Frozen-160106-27\n",
       "Peak_chr1_10413_10625   0                          \n",
       "Peak_chr1_13380_13624   0                          \n",
       "Peak_chr1_16145_16354   0                          \n",
       "Peak_chr1_96388_96812   0                          \n",
       "Peak_chr1_115650_115812 0                          "
      ]
     },
     "metadata": {},
     "output_type": "display_data"
    }
   ],
   "source": [
    "dim(fm_scABC)\n",
    "fm_scABC[1:5,1:5]"
   ]
  },
  {
   "cell_type": "code",
   "execution_count": null,
   "metadata": {},
   "outputs": [],
   "source": []
  },
  {
   "cell_type": "code",
   "execution_count": 18,
   "metadata": {},
   "outputs": [],
   "source": [
    "saveRDS(fm_scABC, file = '../../output/feature_matrices/FM_scABC_buenrostro2018.rds')"
   ]
  },
  {
   "cell_type": "code",
   "execution_count": null,
   "metadata": {},
   "outputs": [],
   "source": []
  },
  {
   "cell_type": "markdown",
   "metadata": {},
   "source": [
    "### Downstream Analysis"
   ]
  },
  {
   "cell_type": "code",
   "execution_count": 19,
   "metadata": {},
   "outputs": [],
   "source": [
    "### Instead of normalizing the peaks-by-cells matrix, \n",
    "### weights calculated below will be used in k-medoid clustering step based on cell dissimilarity matrix: WeightedCluster::wcKMedoids(FGdist, k = nCluster, weights = weights);\n",
    "### so it's not considered as part of feature matrix construction\n",
    "\n",
    "\n",
    "# BackGround <- getBackground(bamfiles, ForeGroundFiltered$peaks, \n",
    "#                            upstream = 5e+05, downstream = 5e+05,\n",
    "#                            PAIRED = FALSE, byReadGroup = FALSE)\n",
    "\n",
    "# InSilicoForeGround = ForeGroundFiltered$ForeGroundMatrix\n",
    "# InSilicoBackGround = BackGround$BackGroundMatrix\n",
    "# InSilicoPeaks = ForeGroundFiltered$peaks\n",
    "\n",
    "# fg.mat <- Matrix::Matrix(InSilicoForeGround, sparse = TRUE)\n",
    "# bg.mat <- Matrix::Matrix(InSilicoBackGround, sparse = TRUE);\n",
    "\n",
    "# weights = apply(bg.mat, 2, median);\n",
    "# c = min(8, median(weights))\n",
    "# # compute weighted k-medioids\n",
    "# lambda = 1.0\n",
    "# FGdist = 1 - sparseSpearmanCor(ForeGround);\n",
    "# weights = 1/(1 + exp(-(weights - c)/(c*lambda)));"
   ]
  },
  {
   "cell_type": "code",
   "execution_count": 20,
   "metadata": {},
   "outputs": [],
   "source": [
    "BackGround <- getBackground(bamfiles, ForeGroundFiltered$peaks, \n",
    "                           upstream = 5e+05, downstream = 5e+05,\n",
    "                           PAIRED = FALSE, byReadGroup = FALSE)"
   ]
  },
  {
   "cell_type": "code",
   "execution_count": 21,
   "metadata": {},
   "outputs": [],
   "source": [
    "InSilicoForeGround = ForeGroundFiltered$ForeGroundMatrix\n",
    "InSilicoBackGround = BackGround$BackGroundMatrix\n",
    "InSilicoPeaks = ForeGroundFiltered$peaks"
   ]
  },
  {
   "cell_type": "code",
   "execution_count": 22,
   "metadata": {},
   "outputs": [],
   "source": [
    "#compute the landmarks\n",
    "InSilicoLandMarks = computeLandmarks(ForeGround = InSilicoForeGround, \n",
    "                                      BackGround = InSilicoBackGround, \n",
    "                                      nCluster = length(unique(metadata$label)), lambda = 1, nTop = 2000)"
   ]
  },
  {
   "cell_type": "code",
   "execution_count": 23,
   "metadata": {},
   "outputs": [
    {
     "data": {
      "text/html": [
       "<table>\n",
       "<tbody>\n",
       "\t<tr><td>1.0000000</td><td>0.2806084</td><td>0.4562526</td><td>0.3280079</td><td>0.5268890</td><td>0.4247587</td><td>0.5776797</td><td>0.5070144</td><td>0.5482723</td><td>0.4697709</td></tr>\n",
       "\t<tr><td>0.2806084</td><td>1.0000000</td><td>0.3659681</td><td>0.2845508</td><td>0.4174065</td><td>0.3280550</td><td>0.4043950</td><td>0.3883399</td><td>0.4074063</td><td>0.3795353</td></tr>\n",
       "\t<tr><td>0.4562526</td><td>0.3659681</td><td>1.0000000</td><td>0.3783465</td><td>0.6628670</td><td>0.5362145</td><td>0.6661144</td><td>0.6261362</td><td>0.6387535</td><td>0.5715490</td></tr>\n",
       "\t<tr><td>0.3280079</td><td>0.2845508</td><td>0.3783465</td><td>1.0000000</td><td>0.4606991</td><td>0.3504381</td><td>0.4393135</td><td>0.4304815</td><td>0.4383549</td><td>0.4084173</td></tr>\n",
       "\t<tr><td>0.5268890</td><td>0.4174065</td><td>0.6628670</td><td>0.4606991</td><td>1.0000000</td><td>0.5760098</td><td>0.8321583</td><td>0.7574156</td><td>0.8085315</td><td>0.7075168</td></tr>\n",
       "\t<tr><td>0.4247587</td><td>0.3280550</td><td>0.5362145</td><td>0.3504381</td><td>0.5760098</td><td>1.0000000</td><td>0.5942422</td><td>0.5582701</td><td>0.6107355</td><td>0.5346743</td></tr>\n",
       "\t<tr><td>0.5776797</td><td>0.4043950</td><td>0.6661144</td><td>0.4393135</td><td>0.8321583</td><td>0.5942422</td><td>1.0000000</td><td>0.8062656</td><td>0.7895777</td><td>0.7012000</td></tr>\n",
       "\t<tr><td>0.5070144</td><td>0.3883399</td><td>0.6261362</td><td>0.4304815</td><td>0.7574156</td><td>0.5582701</td><td>0.8062656</td><td>1.0000000</td><td>0.7134268</td><td>0.6649214</td></tr>\n",
       "\t<tr><td>0.5482723</td><td>0.4074063</td><td>0.6387535</td><td>0.4383549</td><td>0.8085315</td><td>0.6107355</td><td>0.7895777</td><td>0.7134268</td><td>1.0000000</td><td>0.7024901</td></tr>\n",
       "\t<tr><td>0.4697709</td><td>0.3795353</td><td>0.5715490</td><td>0.4084173</td><td>0.7075168</td><td>0.5346743</td><td>0.7012000</td><td>0.6649214</td><td>0.7024901</td><td>1.0000000</td></tr>\n",
       "</tbody>\n",
       "</table>\n"
      ],
      "text/latex": [
       "\\begin{tabular}{llllllllll}\n",
       "\t 1.0000000 & 0.2806084 & 0.4562526 & 0.3280079 & 0.5268890 & 0.4247587 & 0.5776797 & 0.5070144 & 0.5482723 & 0.4697709\\\\\n",
       "\t 0.2806084 & 1.0000000 & 0.3659681 & 0.2845508 & 0.4174065 & 0.3280550 & 0.4043950 & 0.3883399 & 0.4074063 & 0.3795353\\\\\n",
       "\t 0.4562526 & 0.3659681 & 1.0000000 & 0.3783465 & 0.6628670 & 0.5362145 & 0.6661144 & 0.6261362 & 0.6387535 & 0.5715490\\\\\n",
       "\t 0.3280079 & 0.2845508 & 0.3783465 & 1.0000000 & 0.4606991 & 0.3504381 & 0.4393135 & 0.4304815 & 0.4383549 & 0.4084173\\\\\n",
       "\t 0.5268890 & 0.4174065 & 0.6628670 & 0.4606991 & 1.0000000 & 0.5760098 & 0.8321583 & 0.7574156 & 0.8085315 & 0.7075168\\\\\n",
       "\t 0.4247587 & 0.3280550 & 0.5362145 & 0.3504381 & 0.5760098 & 1.0000000 & 0.5942422 & 0.5582701 & 0.6107355 & 0.5346743\\\\\n",
       "\t 0.5776797 & 0.4043950 & 0.6661144 & 0.4393135 & 0.8321583 & 0.5942422 & 1.0000000 & 0.8062656 & 0.7895777 & 0.7012000\\\\\n",
       "\t 0.5070144 & 0.3883399 & 0.6261362 & 0.4304815 & 0.7574156 & 0.5582701 & 0.8062656 & 1.0000000 & 0.7134268 & 0.6649214\\\\\n",
       "\t 0.5482723 & 0.4074063 & 0.6387535 & 0.4383549 & 0.8085315 & 0.6107355 & 0.7895777 & 0.7134268 & 1.0000000 & 0.7024901\\\\\n",
       "\t 0.4697709 & 0.3795353 & 0.5715490 & 0.4084173 & 0.7075168 & 0.5346743 & 0.7012000 & 0.6649214 & 0.7024901 & 1.0000000\\\\\n",
       "\\end{tabular}\n"
      ],
      "text/markdown": [
       "\n",
       "| 1.0000000 | 0.2806084 | 0.4562526 | 0.3280079 | 0.5268890 | 0.4247587 | 0.5776797 | 0.5070144 | 0.5482723 | 0.4697709 |\n",
       "| 0.2806084 | 1.0000000 | 0.3659681 | 0.2845508 | 0.4174065 | 0.3280550 | 0.4043950 | 0.3883399 | 0.4074063 | 0.3795353 |\n",
       "| 0.4562526 | 0.3659681 | 1.0000000 | 0.3783465 | 0.6628670 | 0.5362145 | 0.6661144 | 0.6261362 | 0.6387535 | 0.5715490 |\n",
       "| 0.3280079 | 0.2845508 | 0.3783465 | 1.0000000 | 0.4606991 | 0.3504381 | 0.4393135 | 0.4304815 | 0.4383549 | 0.4084173 |\n",
       "| 0.5268890 | 0.4174065 | 0.6628670 | 0.4606991 | 1.0000000 | 0.5760098 | 0.8321583 | 0.7574156 | 0.8085315 | 0.7075168 |\n",
       "| 0.4247587 | 0.3280550 | 0.5362145 | 0.3504381 | 0.5760098 | 1.0000000 | 0.5942422 | 0.5582701 | 0.6107355 | 0.5346743 |\n",
       "| 0.5776797 | 0.4043950 | 0.6661144 | 0.4393135 | 0.8321583 | 0.5942422 | 1.0000000 | 0.8062656 | 0.7895777 | 0.7012000 |\n",
       "| 0.5070144 | 0.3883399 | 0.6261362 | 0.4304815 | 0.7574156 | 0.5582701 | 0.8062656 | 1.0000000 | 0.7134268 | 0.6649214 |\n",
       "| 0.5482723 | 0.4074063 | 0.6387535 | 0.4383549 | 0.8085315 | 0.6107355 | 0.7895777 | 0.7134268 | 1.0000000 | 0.7024901 |\n",
       "| 0.4697709 | 0.3795353 | 0.5715490 | 0.4084173 | 0.7075168 | 0.5346743 | 0.7012000 | 0.6649214 | 0.7024901 | 1.0000000 |\n",
       "\n"
      ],
      "text/plain": [
       "      [,1]      [,2]      [,3]      [,4]      [,5]      [,6]      [,7]     \n",
       " [1,] 1.0000000 0.2806084 0.4562526 0.3280079 0.5268890 0.4247587 0.5776797\n",
       " [2,] 0.2806084 1.0000000 0.3659681 0.2845508 0.4174065 0.3280550 0.4043950\n",
       " [3,] 0.4562526 0.3659681 1.0000000 0.3783465 0.6628670 0.5362145 0.6661144\n",
       " [4,] 0.3280079 0.2845508 0.3783465 1.0000000 0.4606991 0.3504381 0.4393135\n",
       " [5,] 0.5268890 0.4174065 0.6628670 0.4606991 1.0000000 0.5760098 0.8321583\n",
       " [6,] 0.4247587 0.3280550 0.5362145 0.3504381 0.5760098 1.0000000 0.5942422\n",
       " [7,] 0.5776797 0.4043950 0.6661144 0.4393135 0.8321583 0.5942422 1.0000000\n",
       " [8,] 0.5070144 0.3883399 0.6261362 0.4304815 0.7574156 0.5582701 0.8062656\n",
       " [9,] 0.5482723 0.4074063 0.6387535 0.4383549 0.8085315 0.6107355 0.7895777\n",
       "[10,] 0.4697709 0.3795353 0.5715490 0.4084173 0.7075168 0.5346743 0.7012000\n",
       "      [,8]      [,9]      [,10]    \n",
       " [1,] 0.5070144 0.5482723 0.4697709\n",
       " [2,] 0.3883399 0.4074063 0.3795353\n",
       " [3,] 0.6261362 0.6387535 0.5715490\n",
       " [4,] 0.4304815 0.4383549 0.4084173\n",
       " [5,] 0.7574156 0.8085315 0.7075168\n",
       " [6,] 0.5582701 0.6107355 0.5346743\n",
       " [7,] 0.8062656 0.7895777 0.7012000\n",
       " [8,] 1.0000000 0.7134268 0.6649214\n",
       " [9,] 0.7134268 1.0000000 0.7024901\n",
       "[10,] 0.6649214 0.7024901 1.0000000"
      ]
     },
     "metadata": {},
     "output_type": "display_data"
    }
   ],
   "source": [
    "cor(InSilicoLandMarks, InSilicoLandMarks, method = 'spearman')"
   ]
  },
  {
   "cell_type": "code",
   "execution_count": 24,
   "metadata": {},
   "outputs": [],
   "source": [
    "# assign cells to the closest landmark #\n",
    "InSilicoLandMarkAssignments = assign2landmarks(InSilicoForeGround, InSilicoLandMarks)"
   ]
  },
  {
   "cell_type": "code",
   "execution_count": 25,
   "metadata": {
    "scrolled": true
   },
   "outputs": [
    {
     "data": {
      "text/html": [
       "<ol class=list-inline>\n",
       "\t<li>102231</li>\n",
       "\t<li>10</li>\n",
       "</ol>\n"
      ],
      "text/latex": [
       "\\begin{enumerate*}\n",
       "\\item 102231\n",
       "\\item 10\n",
       "\\end{enumerate*}\n"
      ],
      "text/markdown": [
       "1. 102231\n",
       "2. 10\n",
       "\n",
       "\n"
      ],
      "text/plain": [
       "[1] 102231     10"
      ]
     },
     "metadata": {},
     "output_type": "display_data"
    },
    {
     "data": {
      "text/html": [
       "<table>\n",
       "<tbody>\n",
       "\t<tr><th scope=row>Peak_chr1_10413_10625</th><td>0</td><td>0</td><td>0</td><td>0</td><td>0</td><td>0</td><td>0</td><td>0</td><td>0</td><td>0</td></tr>\n",
       "\t<tr><th scope=row>Peak_chr1_13380_13624</th><td>0</td><td>0</td><td>0</td><td>0</td><td>0</td><td>0</td><td>0</td><td>0</td><td>0</td><td>0</td></tr>\n",
       "\t<tr><th scope=row>Peak_chr1_16145_16354</th><td>0</td><td>0</td><td>0</td><td>0</td><td>0</td><td>0</td><td>0</td><td>0</td><td>0</td><td>0</td></tr>\n",
       "\t<tr><th scope=row>Peak_chr1_96388_96812</th><td>0</td><td>0</td><td>0</td><td>0</td><td>0</td><td>0</td><td>0</td><td>0</td><td>0</td><td>0</td></tr>\n",
       "\t<tr><th scope=row>Peak_chr1_115650_115812</th><td>0</td><td>0</td><td>0</td><td>0</td><td>0</td><td>0</td><td>0</td><td>0</td><td>0</td><td>0</td></tr>\n",
       "\t<tr><th scope=row>Peak_chr1_237625_237888</th><td>0</td><td>0</td><td>0</td><td>0</td><td>0</td><td>0</td><td>0</td><td>0</td><td>0</td><td>0</td></tr>\n",
       "</tbody>\n",
       "</table>\n"
      ],
      "text/latex": [
       "\\begin{tabular}{r|llllllllll}\n",
       "\tPeak\\_chr1\\_10413\\_10625 & 0 & 0 & 0 & 0 & 0 & 0 & 0 & 0 & 0 & 0\\\\\n",
       "\tPeak\\_chr1\\_13380\\_13624 & 0 & 0 & 0 & 0 & 0 & 0 & 0 & 0 & 0 & 0\\\\\n",
       "\tPeak\\_chr1\\_16145\\_16354 & 0 & 0 & 0 & 0 & 0 & 0 & 0 & 0 & 0 & 0\\\\\n",
       "\tPeak\\_chr1\\_96388\\_96812 & 0 & 0 & 0 & 0 & 0 & 0 & 0 & 0 & 0 & 0\\\\\n",
       "\tPeak\\_chr1\\_115650\\_115812 & 0 & 0 & 0 & 0 & 0 & 0 & 0 & 0 & 0 & 0\\\\\n",
       "\tPeak\\_chr1\\_237625\\_237888 & 0 & 0 & 0 & 0 & 0 & 0 & 0 & 0 & 0 & 0\\\\\n",
       "\\end{tabular}\n"
      ],
      "text/markdown": [
       "\n",
       "| Peak_chr1_10413_10625 | 0 | 0 | 0 | 0 | 0 | 0 | 0 | 0 | 0 | 0 |\n",
       "| Peak_chr1_13380_13624 | 0 | 0 | 0 | 0 | 0 | 0 | 0 | 0 | 0 | 0 |\n",
       "| Peak_chr1_16145_16354 | 0 | 0 | 0 | 0 | 0 | 0 | 0 | 0 | 0 | 0 |\n",
       "| Peak_chr1_96388_96812 | 0 | 0 | 0 | 0 | 0 | 0 | 0 | 0 | 0 | 0 |\n",
       "| Peak_chr1_115650_115812 | 0 | 0 | 0 | 0 | 0 | 0 | 0 | 0 | 0 | 0 |\n",
       "| Peak_chr1_237625_237888 | 0 | 0 | 0 | 0 | 0 | 0 | 0 | 0 | 0 | 0 |\n",
       "\n"
      ],
      "text/plain": [
       "                        [,1] [,2] [,3] [,4] [,5] [,6] [,7] [,8] [,9] [,10]\n",
       "Peak_chr1_10413_10625   0    0    0    0    0    0    0    0    0    0    \n",
       "Peak_chr1_13380_13624   0    0    0    0    0    0    0    0    0    0    \n",
       "Peak_chr1_16145_16354   0    0    0    0    0    0    0    0    0    0    \n",
       "Peak_chr1_96388_96812   0    0    0    0    0    0    0    0    0    0    \n",
       "Peak_chr1_115650_115812 0    0    0    0    0    0    0    0    0    0    \n",
       "Peak_chr1_237625_237888 0    0    0    0    0    0    0    0    0    0    "
      ]
     },
     "metadata": {},
     "output_type": "display_data"
    }
   ],
   "source": [
    "dim(InSilicoLandMarks)\n",
    "head(InSilicoLandMarks)"
   ]
  },
  {
   "cell_type": "code",
   "execution_count": null,
   "metadata": {},
   "outputs": [],
   "source": [
    "InSilicoCell2LandmarkCorrelation = do.call(cbind, \n",
    "                                           lapply(seq(length(unique(metadata$label))), \n",
    "                                                  function(i) apply(InSilicoForeGround, 2, \n",
    "                                                                    function(x) cor(x, InSilicoLandMarks[,i], method = 'spearman'))))"
   ]
  },
  {
   "cell_type": "code",
   "execution_count": null,
   "metadata": {},
   "outputs": [],
   "source": [
    "dim(InSilicoCell2LandmarkCorrelation)\n",
    "InSilicoCell2LandmarkCorrelation[1:5,1:5]"
   ]
  },
  {
   "cell_type": "code",
   "execution_count": null,
   "metadata": {},
   "outputs": [],
   "source": [
    "InSilicoLandMarkAssignments_sorted <- InSilicoLandMarkAssignments[order(InSilicoLandMarkAssignments)]\n",
    "InSilicoCell2LandmarkCorrelation_sorted <- InSilicoCell2LandmarkCorrelation[names(InSilicoLandMarkAssignments_sorted),]"
   ]
  },
  {
   "cell_type": "code",
   "execution_count": null,
   "metadata": {},
   "outputs": [],
   "source": [
    "head(InSilicoCell2LandmarkCorrelation_sorted)"
   ]
  },
  {
   "cell_type": "code",
   "execution_count": null,
   "metadata": {},
   "outputs": [],
   "source": [
    "cell.ids = sapply(strsplit(basename(names(InSilicoLandMarkAssignments_sorted)),'\\\\.'),'[', 1)\n",
    "head(cell.ids)\n",
    "cell.labels = metadata[cell.ids,'label']\n",
    "cell.info = match(metadata[cell.ids,'label'],unique(metadata[,'label']))\n",
    "head(cell.info)"
   ]
  },
  {
   "cell_type": "code",
   "execution_count": null,
   "metadata": {},
   "outputs": [],
   "source": [
    "scalered <- colorRampPalette(c(\"white\", \"red\"), space = \"rgb\")(256)\n",
    "rcols1 = colorRampPalette(brewer.pal(8, \"Accent\"))(length(unique(metadata$label)))\n",
    "rowcols1 = rcols1[cell.info]\n",
    "rcols2 = colorRampPalette(brewer.pal(8, \"Dark2\"))(length(unique(metadata$label)))\n",
    "rowcols2 = rcols2[InSilicoLandMarkAssignments_sorted]\n",
    "rowcols = rbind(rowcols1, rowcols2)\n",
    "rownames(rowcols) = c(\"cell label\", \"cluster\")"
   ]
  },
  {
   "cell_type": "code",
   "execution_count": null,
   "metadata": {},
   "outputs": [],
   "source": [
    "rowcols[,1:5]"
   ]
  },
  {
   "cell_type": "code",
   "execution_count": 37,
   "metadata": {},
   "outputs": [
    {
     "data": {
      "image/png": "[encoded data removed]",
      "text/plain": [
       "Plot with title “Color Key”"
      ]
     },
     "metadata": {},
     "output_type": "display_data"
    }
   ],
   "source": [
    "heatmap.3(InSilicoCell2LandmarkCorrelation_sorted, dendrogram='none', Rowv=FALSE, Colv=FALSE,\n",
    "          trace='none', col = scalered, margin = c(5, 5), density.info = \"none\", \n",
    "          RowSideColors = rowcols, RowSideColorsSize=2, symm=F,symkey=F,\n",
    "          symbreaks=F, scale=\"none\")\n",
    "legend(\"bottomleft\", legend = c(unique(cell.labels), paste0(\"cluster \", 1:length(unique(metadata$label)))), \n",
    "       col = c(rcols1, rcols2), border=FALSE, bty=\"n\", y.intersp = 0.7, cex=0.7, pch = 15)"
   ]
  },
  {
   "cell_type": "code",
   "execution_count": null,
   "metadata": {},
   "outputs": [],
   "source": []
  },
  {
   "cell_type": "code",
   "execution_count": 38,
   "metadata": {},
   "outputs": [
    {
     "data": {
      "text/plain": [
       "R version 3.5.1 (2018-07-02)\n",
       "Platform: x86_64-conda_cos6-linux-gnu (64-bit)\n",
       "Running under: CentOS Linux 7 (Core)\n",
       "\n",
       "Matrix products: default\n",
       "BLAS/LAPACK: /data/pinello/SHARED_SOFTWARE/anaconda3/envs/ATACseq_scABC/lib/R/lib/libRblas.so\n",
       "\n",
       "locale:\n",
       " [1] LC_CTYPE=en_US.UTF-8       LC_NUMERIC=C              \n",
       " [3] LC_TIME=en_US.UTF-8        LC_COLLATE=en_US.UTF-8    \n",
       " [5] LC_MONETARY=en_US.UTF-8    LC_MESSAGES=en_US.UTF-8   \n",
       " [7] LC_PAPER=en_US.UTF-8       LC_NAME=C                 \n",
       " [9] LC_ADDRESS=C               LC_TELEPHONE=C            \n",
       "[11] LC_MEASUREMENT=en_US.UTF-8 LC_IDENTIFICATION=C       \n",
       "\n",
       "attached base packages:\n",
       "[1] parallel  stats4    stats     graphics  grDevices utils     datasets \n",
       "[8] methods   base     \n",
       "\n",
       "other attached packages:\n",
       " [1] usethis_1.4.0        devtools_2.0.1       RColorBrewer_1.1-2  \n",
       " [4] gplots_3.0.1.1       Matrix_1.2-17        forcats_0.4.0       \n",
       " [7] stringr_1.4.0        purrr_0.3.2          readr_1.3.1         \n",
       "[10] tidyr_0.8.3          tibble_2.1.1         ggplot2_3.1.0       \n",
       "[13] tidyverse_1.2.1      dplyr_0.8.0.1        data.table_1.12.0   \n",
       "[16] Rsamtools_1.34.1     Biostrings_2.50.2    XVector_0.22.0      \n",
       "[19] scABC_0.99.0         GenomicRanges_1.34.0 GenomeInfoDb_1.18.2 \n",
       "[22] IRanges_2.16.0       S4Vectors_0.20.1     BiocGenerics_0.28.0 \n",
       "\n",
       "loaded via a namespace (and not attached):\n",
       " [1] nlme_3.1-137           fs_1.2.7               bitops_1.0-6          \n",
       " [4] lubridate_1.7.4        httr_1.4.0             rprojroot_1.3-2       \n",
       " [7] repr_0.19.2            tools_3.5.1            backports_1.1.3       \n",
       "[10] R6_2.4.0               rpart_4.1-13           KernSmooth_2.23-15    \n",
       "[13] Hmisc_4.2-0            lazyeval_0.2.2         colorspace_1.4-1      \n",
       "[16] nnet_7.3-12            withr_2.1.2            prettyunits_1.0.2     \n",
       "[19] processx_3.3.0         tidyselect_0.2.5       gridExtra_2.3         \n",
       "[22] curl_3.3               compiler_3.5.1         cli_1.1.0             \n",
       "[25] rvest_0.3.2            htmlTable_1.13.1       xml2_1.2.0            \n",
       "[28] desc_1.2.0             caTools_1.17.1.2       scales_1.0.0          \n",
       "[31] checkmate_1.9.1        callr_3.2.0            pbdZMQ_0.3-3          \n",
       "[34] digest_0.6.18          foreign_0.8-71         base64enc_0.1-3       \n",
       "[37] pkgconfig_2.0.2        htmltools_0.3.6        sessioninfo_1.1.1     \n",
       "[40] htmlwidgets_1.3        rlang_0.3.3            readxl_1.3.1          \n",
       "[43] rstudioapi_0.10        generics_0.0.2         jsonlite_1.6          \n",
       "[46] BiocParallel_1.16.6    gtools_3.8.1           acepack_1.4.1         \n",
       "[49] RCurl_1.95-4.12        magrittr_1.5           GenomeInfoDbData_1.2.0\n",
       "[52] Formula_1.2-3          Rcpp_1.0.1             IRkernel_0.8.15       \n",
       "[55] munsell_0.5.0          stringi_1.4.3          zlibbioc_1.28.0       \n",
       "[58] pkgbuild_1.0.3         plyr_1.8.4             grid_3.5.1            \n",
       "[61] gdata_2.18.0           crayon_1.3.4           lattice_0.20-38       \n",
       "[64] IRdisplay_0.7.0        haven_2.1.0            splines_3.5.1         \n",
       "[67] TraMineR_2.0-11.1      hms_0.4.2              ps_1.3.0              \n",
       "[70] knitr_1.22             pillar_1.3.1           uuid_0.1-2            \n",
       "[73] boot_1.3-20            pkgload_1.0.2          glue_1.3.1            \n",
       "[76] evaluate_0.13          latticeExtra_0.6-28    remotes_2.0.2         \n",
       "[79] modelr_0.1.4           cellranger_1.1.0       gtable_0.3.0          \n",
       "[82] assertthat_0.2.1       xfun_0.6               broom_0.5.1           \n",
       "[85] survival_2.44-1.1      memoise_1.1.0          cluster_2.0.7-1       \n",
       "[88] WeightedCluster_1.4   "
      ]
     },
     "metadata": {},
     "output_type": "display_data"
    }
   ],
   "source": [
    "sessionInfo()"
   ]
  },
  {
   "cell_type": "code",
   "execution_count": null,
   "metadata": {},
   "outputs": [],
   "source": [
    "save.image(file = 'scABC_buenrostro2018.RData')"
   ]
  },
  {
   "cell_type": "code",
   "execution_count": null,
   "metadata": {},
   "outputs": [],
   "source": []
  }
 ],
 "metadata": {
  "kernelspec": {
   "display_name": "R [conda env:ATACseq_scABC]",
   "language": "R",
   "name": "conda-env-ATACseq_scABC-r"
  },
  "language_info": {
   "codemirror_mode": "r",
   "file_extension": ".r",
   "mimetype": "text/x-r-source",
   "name": "R",
   "pygments_lexer": "r",
   "version": "3.5.1"
  }
 },
 "nbformat": 4,
 "nbformat_minor": 2
}
