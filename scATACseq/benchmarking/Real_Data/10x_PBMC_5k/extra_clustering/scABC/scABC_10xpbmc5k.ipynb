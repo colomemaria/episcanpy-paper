{
 "cells": [
  {
   "cell_type": "markdown",
   "metadata": {},
   "source": [
    "### Import packages"
   ]
  },
  {
   "cell_type": "code",
   "execution_count": 1,
   "metadata": {},
   "outputs": [
    {
     "name": "stderr",
     "output_type": "stream",
     "text": [
      "Loading required package: stats4\n",
      "Loading required package: BiocGenerics\n",
      "Loading required package: parallel\n",
      "\n",
      "Attaching package: ‘BiocGenerics’\n",
      "\n",
      "The following objects are masked from ‘package:parallel’:\n",
      "\n",
      "    clusterApply, clusterApplyLB, clusterCall, clusterEvalQ,\n",
      "    clusterExport, clusterMap, parApply, parCapply, parLapply,\n",
      "    parLapplyLB, parRapply, parSapply, parSapplyLB\n",
      "\n",
      "The following objects are masked from ‘package:stats’:\n",
      "\n",
      "    IQR, mad, sd, var, xtabs\n",
      "\n",
      "The following objects are masked from ‘package:base’:\n",
      "\n",
      "    anyDuplicated, append, as.data.frame, basename, cbind, colMeans,\n",
      "    colnames, colSums, dirname, do.call, duplicated, eval, evalq,\n",
      "    Filter, Find, get, grep, grepl, intersect, is.unsorted, lapply,\n",
      "    lengths, Map, mapply, match, mget, order, paste, pmax, pmax.int,\n",
      "    pmin, pmin.int, Position, rank, rbind, Reduce, rowMeans, rownames,\n",
      "    rowSums, sapply, setdiff, sort, table, tapply, union, unique,\n",
      "    unsplit, which, which.max, which.min\n",
      "\n",
      "Loading required package: S4Vectors\n",
      "\n",
      "Attaching package: ‘S4Vectors’\n",
      "\n",
      "The following object is masked from ‘package:base’:\n",
      "\n",
      "    expand.grid\n",
      "\n",
      "Loading required package: IRanges\n",
      "Loading required package: GenomeInfoDb\n",
      "Warning message:\n",
      "“replacing previous import ‘IRanges::which’ by ‘Matrix::which’ when loading ‘scABC’”Loading required package: Biostrings\n",
      "Loading required package: XVector\n",
      "\n",
      "Attaching package: ‘Biostrings’\n",
      "\n",
      "The following object is masked from ‘package:base’:\n",
      "\n",
      "    strsplit\n",
      "\n",
      "\n",
      "Attaching package: ‘data.table’\n",
      "\n",
      "The following object is masked from ‘package:GenomicRanges’:\n",
      "\n",
      "    shift\n",
      "\n",
      "The following object is masked from ‘package:IRanges’:\n",
      "\n",
      "    shift\n",
      "\n",
      "The following objects are masked from ‘package:S4Vectors’:\n",
      "\n",
      "    first, second\n",
      "\n",
      "\n",
      "Attaching package: ‘dplyr’\n",
      "\n",
      "The following objects are masked from ‘package:data.table’:\n",
      "\n",
      "    between, first, last\n",
      "\n",
      "The following objects are masked from ‘package:Biostrings’:\n",
      "\n",
      "    collapse, intersect, setdiff, setequal, union\n",
      "\n",
      "The following object is masked from ‘package:XVector’:\n",
      "\n",
      "    slice\n",
      "\n",
      "The following objects are masked from ‘package:GenomicRanges’:\n",
      "\n",
      "    intersect, setdiff, union\n",
      "\n",
      "The following object is masked from ‘package:GenomeInfoDb’:\n",
      "\n",
      "    intersect\n",
      "\n",
      "The following objects are masked from ‘package:IRanges’:\n",
      "\n",
      "    collapse, desc, intersect, setdiff, slice, union\n",
      "\n",
      "The following objects are masked from ‘package:S4Vectors’:\n",
      "\n",
      "    first, intersect, rename, setdiff, setequal, union\n",
      "\n",
      "The following objects are masked from ‘package:BiocGenerics’:\n",
      "\n",
      "    combine, intersect, setdiff, union\n",
      "\n",
      "The following objects are masked from ‘package:stats’:\n",
      "\n",
      "    filter, lag\n",
      "\n",
      "The following objects are masked from ‘package:base’:\n",
      "\n",
      "    intersect, setdiff, setequal, union\n",
      "\n",
      "── Attaching packages ─────────────────────────────────────── tidyverse 1.2.1 ──\n",
      "✔ ggplot2 3.1.0     ✔ readr   1.3.1\n",
      "✔ tibble  2.1.1     ✔ purrr   0.3.2\n",
      "✔ tidyr   0.8.3     ✔ stringr 1.4.0\n",
      "✔ ggplot2 3.1.0     ✔ forcats 0.4.0\n",
      "── Conflicts ────────────────────────────────────────── tidyverse_conflicts() ──\n",
      "✖ dplyr::between()    masks data.table::between()\n",
      "✖ dplyr::collapse()   masks Biostrings::collapse(), IRanges::collapse()\n",
      "✖ dplyr::combine()    masks BiocGenerics::combine()\n",
      "✖ purrr::compact()    masks XVector::compact()\n",
      "✖ dplyr::desc()       masks IRanges::desc()\n",
      "✖ tidyr::expand()     masks S4Vectors::expand()\n",
      "✖ dplyr::filter()     masks stats::filter()\n",
      "✖ dplyr::first()      masks data.table::first(), S4Vectors::first()\n",
      "✖ dplyr::lag()        masks stats::lag()\n",
      "✖ dplyr::last()       masks data.table::last()\n",
      "✖ ggplot2::Position() masks BiocGenerics::Position(), base::Position()\n",
      "✖ purrr::reduce()     masks GenomicRanges::reduce(), IRanges::reduce()\n",
      "✖ dplyr::rename()     masks S4Vectors::rename()\n",
      "✖ dplyr::slice()      masks XVector::slice(), IRanges::slice()\n",
      "✖ purrr::transpose()  masks data.table::transpose()\n",
      "\n",
      "Attaching package: ‘Matrix’\n",
      "\n",
      "The following object is masked from ‘package:tidyr’:\n",
      "\n",
      "    expand\n",
      "\n",
      "The following object is masked from ‘package:S4Vectors’:\n",
      "\n",
      "    expand\n",
      "\n",
      "\n",
      "Attaching package: ‘gplots’\n",
      "\n",
      "The following object is masked from ‘package:IRanges’:\n",
      "\n",
      "    space\n",
      "\n",
      "The following object is masked from ‘package:S4Vectors’:\n",
      "\n",
      "    space\n",
      "\n",
      "The following object is masked from ‘package:stats’:\n",
      "\n",
      "    lowess\n",
      "\n",
      "SHA-1 hash of file is 015fc0457e61e3e93a903e69a24d96d2dac7b9fb\n"
     ]
    }
   ],
   "source": [
    "options(stringsAsFactors = FALSE)\n",
    "library(GenomicRanges)\n",
    "library(scABC)\n",
    "library(Rsamtools)\n",
    "library(data.table)\n",
    "library(dplyr)\n",
    "library(tidyverse)\n",
    "library(Matrix)\n",
    "\n",
    "library(gplots) \n",
    "library(RColorBrewer)\n",
    "library(devtools)\n",
    "source_url(\"https://raw.githubusercontent.com/obigriffith/biostar-tutorials/master/Heatmaps/heatmap.3.R\")"
   ]
  },
  {
   "cell_type": "markdown",
   "metadata": {},
   "source": [
    "### Load Data"
   ]
  },
  {
   "cell_type": "code",
   "execution_count": 2,
   "metadata": {},
   "outputs": [],
   "source": [
    "load(file = '../../run_methods/scABC/scABC_10xpbmc5k.RData')"
   ]
  },
  {
   "cell_type": "code",
   "execution_count": 3,
   "metadata": {},
   "outputs": [
    {
     "data": {
      "image/png": "[encoded data removed]",
      "text/plain": [
       "Plot with title “Color Key”"
      ]
     },
     "metadata": {},
     "output_type": "display_data"
    }
   ],
   "source": [
    "heatmap.3(InSilicoCell2LandmarkCorrelation_sorted, dendrogram='none', Rowv=FALSE, Colv=FALSE,\n",
    "          trace='none', col = scalered, margin = c(5, 5), density.info = \"none\", \n",
    "          RowSideColors = rowcols, RowSideColorsSize=2, symm=F,symkey=F,\n",
    "          symbreaks=F, scale=\"none\",)\n",
    "legend(\"bottomleft\", legend = c(unique(cell.labels), paste0(\"cluster \", 1:length(unique(metadata$label)))), \n",
    "       col = c(rcols1, rcols2), border=FALSE, bty=\"n\", y.intersp = 0.7, cex=0.7, pch = 15)"
   ]
  },
  {
   "cell_type": "code",
   "execution_count": 4,
   "metadata": {},
   "outputs": [
    {
     "data": {
      "text/html": [
       "<dl class=dl-horizontal>\n",
       "\t<dt>../../input/sc-bams_nodup//atac_v1_pbmc_5k_possorted_bam.TTTGCGCCAGTTCGGC-1.dedup.st.bam</dt>\n",
       "\t\t<dd>8</dd>\n",
       "\t<dt>../../input/sc-bams_nodup//atac_v1_pbmc_5k_possorted_bam.TTTGCGCGTCAGTGCC-1.dedup.st.bam</dt>\n",
       "\t\t<dd>8</dd>\n",
       "\t<dt>../../input/sc-bams_nodup//atac_v1_pbmc_5k_possorted_bam.TTTGGCCGTGGACAGT-1.dedup.st.bam</dt>\n",
       "\t\t<dd>8</dd>\n",
       "\t<dt>../../input/sc-bams_nodup//atac_v1_pbmc_5k_possorted_bam.TTTGGTTCATGGTAAA-1.dedup.st.bam</dt>\n",
       "\t\t<dd>8</dd>\n",
       "\t<dt>../../input/sc-bams_nodup//atac_v1_pbmc_5k_possorted_bam.TTTGGTTGTTGTATCG-1.dedup.st.bam</dt>\n",
       "\t\t<dd>8</dd>\n",
       "\t<dt>../../input/sc-bams_nodup//atac_v1_pbmc_5k_possorted_bam.TTTGTGTCAAGCCTTA-1.dedup.st.bam</dt>\n",
       "\t\t<dd>8</dd>\n",
       "</dl>\n"
      ],
      "text/latex": [
       "\\begin{description*}\n",
       "\\item[../../input/sc-bams\\textbackslash{}\\_nodup//atac\\textbackslash{}\\_v1\\textbackslash{}\\_pbmc\\textbackslash{}\\_5k\\textbackslash{}\\_possorted\\textbackslash{}\\_bam.TTTGCGCCAGTTCGGC-1.dedup.st.bam] 8\n",
       "\\item[../../input/sc-bams\\textbackslash{}\\_nodup//atac\\textbackslash{}\\_v1\\textbackslash{}\\_pbmc\\textbackslash{}\\_5k\\textbackslash{}\\_possorted\\textbackslash{}\\_bam.TTTGCGCGTCAGTGCC-1.dedup.st.bam] 8\n",
       "\\item[../../input/sc-bams\\textbackslash{}\\_nodup//atac\\textbackslash{}\\_v1\\textbackslash{}\\_pbmc\\textbackslash{}\\_5k\\textbackslash{}\\_possorted\\textbackslash{}\\_bam.TTTGGCCGTGGACAGT-1.dedup.st.bam] 8\n",
       "\\item[../../input/sc-bams\\textbackslash{}\\_nodup//atac\\textbackslash{}\\_v1\\textbackslash{}\\_pbmc\\textbackslash{}\\_5k\\textbackslash{}\\_possorted\\textbackslash{}\\_bam.TTTGGTTCATGGTAAA-1.dedup.st.bam] 8\n",
       "\\item[../../input/sc-bams\\textbackslash{}\\_nodup//atac\\textbackslash{}\\_v1\\textbackslash{}\\_pbmc\\textbackslash{}\\_5k\\textbackslash{}\\_possorted\\textbackslash{}\\_bam.TTTGGTTGTTGTATCG-1.dedup.st.bam] 8\n",
       "\\item[../../input/sc-bams\\textbackslash{}\\_nodup//atac\\textbackslash{}\\_v1\\textbackslash{}\\_pbmc\\textbackslash{}\\_5k\\textbackslash{}\\_possorted\\textbackslash{}\\_bam.TTTGTGTCAAGCCTTA-1.dedup.st.bam] 8\n",
       "\\end{description*}\n"
      ],
      "text/markdown": [
       "../../input/sc-bams_nodup//atac_v1_pbmc_5k_possorted_bam.TTTGCGCCAGTTCGGC-1.dedup.st.bam\n",
       ":   8../../input/sc-bams_nodup//atac_v1_pbmc_5k_possorted_bam.TTTGCGCGTCAGTGCC-1.dedup.st.bam\n",
       ":   8../../input/sc-bams_nodup//atac_v1_pbmc_5k_possorted_bam.TTTGGCCGTGGACAGT-1.dedup.st.bam\n",
       ":   8../../input/sc-bams_nodup//atac_v1_pbmc_5k_possorted_bam.TTTGGTTCATGGTAAA-1.dedup.st.bam\n",
       ":   8../../input/sc-bams_nodup//atac_v1_pbmc_5k_possorted_bam.TTTGGTTGTTGTATCG-1.dedup.st.bam\n",
       ":   8../../input/sc-bams_nodup//atac_v1_pbmc_5k_possorted_bam.TTTGTGTCAAGCCTTA-1.dedup.st.bam\n",
       ":   8\n",
       "\n"
      ],
      "text/plain": [
       "../../input/sc-bams_nodup//atac_v1_pbmc_5k_possorted_bam.TTTGCGCCAGTTCGGC-1.dedup.st.bam \n",
       "                                                                                       8 \n",
       "../../input/sc-bams_nodup//atac_v1_pbmc_5k_possorted_bam.TTTGCGCGTCAGTGCC-1.dedup.st.bam \n",
       "                                                                                       8 \n",
       "../../input/sc-bams_nodup//atac_v1_pbmc_5k_possorted_bam.TTTGGCCGTGGACAGT-1.dedup.st.bam \n",
       "                                                                                       8 \n",
       "../../input/sc-bams_nodup//atac_v1_pbmc_5k_possorted_bam.TTTGGTTCATGGTAAA-1.dedup.st.bam \n",
       "                                                                                       8 \n",
       "../../input/sc-bams_nodup//atac_v1_pbmc_5k_possorted_bam.TTTGGTTGTTGTATCG-1.dedup.st.bam \n",
       "                                                                                       8 \n",
       "../../input/sc-bams_nodup//atac_v1_pbmc_5k_possorted_bam.TTTGTGTCAAGCCTTA-1.dedup.st.bam \n",
       "                                                                                       8 "
      ]
     },
     "metadata": {},
     "output_type": "display_data"
    }
   ],
   "source": [
    "tail(InSilicoLandMarkAssignments_sorted)\n"
   ]
  },
  {
   "cell_type": "code",
   "execution_count": 5,
   "metadata": {},
   "outputs": [],
   "source": [
    "result = data.frame('scABC'=InSilicoLandMarkAssignments_sorted)\n",
    "rownames(result) = sapply(strsplit(basename(rownames(result)),'\\\\.'),'[', 2)\n",
    "\n",
    "df_pre = result\n",
    "df_pre$ord = 1:nrow(df_pre)\n",
    "df_pre = df_pre[as.character(rownames(metadata)),]\n",
    "df_out = data.frame('scABC'=df_pre[,'scABC'])\n",
    "rownames(df_out) = rownames(df_pre)\n",
    "\n",
    "write.table(result,file=\"clusteringSolution.tsv\", quote=FALSE, sep='\\t', col.names = NA)"
   ]
  },
  {
   "cell_type": "code",
   "execution_count": 6,
   "metadata": {},
   "outputs": [
    {
     "data": {
      "text/html": [
       "<table>\n",
       "<thead><tr><th></th><th scope=col>scABC</th></tr></thead>\n",
       "<tbody>\n",
       "\t<tr><th scope=row>TTTGCGCCAGTTCGGC-1</th><td>8</td></tr>\n",
       "\t<tr><th scope=row>TTTGCGCGTCAGTGCC-1</th><td>8</td></tr>\n",
       "\t<tr><th scope=row>TTTGGCCGTGGACAGT-1</th><td>8</td></tr>\n",
       "\t<tr><th scope=row>TTTGGTTCATGGTAAA-1</th><td>8</td></tr>\n",
       "\t<tr><th scope=row>TTTGGTTGTTGTATCG-1</th><td>8</td></tr>\n",
       "\t<tr><th scope=row>TTTGTGTCAAGCCTTA-1</th><td>8</td></tr>\n",
       "</tbody>\n",
       "</table>\n"
      ],
      "text/latex": [
       "\\begin{tabular}{r|l}\n",
       "  & scABC\\\\\n",
       "\\hline\n",
       "\tTTTGCGCCAGTTCGGC-1 & 8\\\\\n",
       "\tTTTGCGCGTCAGTGCC-1 & 8\\\\\n",
       "\tTTTGGCCGTGGACAGT-1 & 8\\\\\n",
       "\tTTTGGTTCATGGTAAA-1 & 8\\\\\n",
       "\tTTTGGTTGTTGTATCG-1 & 8\\\\\n",
       "\tTTTGTGTCAAGCCTTA-1 & 8\\\\\n",
       "\\end{tabular}\n"
      ],
      "text/markdown": [
       "\n",
       "| <!--/--> | scABC |\n",
       "|---|---|\n",
       "| TTTGCGCCAGTTCGGC-1 | 8 |\n",
       "| TTTGCGCGTCAGTGCC-1 | 8 |\n",
       "| TTTGGCCGTGGACAGT-1 | 8 |\n",
       "| TTTGGTTCATGGTAAA-1 | 8 |\n",
       "| TTTGGTTGTTGTATCG-1 | 8 |\n",
       "| TTTGTGTCAAGCCTTA-1 | 8 |\n",
       "\n"
      ],
      "text/plain": [
       "                   scABC\n",
       "TTTGCGCCAGTTCGGC-1 8    \n",
       "TTTGCGCGTCAGTGCC-1 8    \n",
       "TTTGGCCGTGGACAGT-1 8    \n",
       "TTTGGTTCATGGTAAA-1 8    \n",
       "TTTGGTTGTTGTATCG-1 8    \n",
       "TTTGTGTCAAGCCTTA-1 8    "
      ]
     },
     "metadata": {},
     "output_type": "display_data"
    }
   ],
   "source": [
    "tail(result)"
   ]
  },
  {
   "cell_type": "code",
   "execution_count": null,
   "metadata": {},
   "outputs": [],
   "source": []
  }
 ],
 "metadata": {
  "kernelspec": {
   "display_name": "R [conda env:ATACseq_scABC]",
   "language": "R",
   "name": "conda-env-ATACseq_scABC-r"
  },
  "language_info": {
   "codemirror_mode": "r",
   "file_extension": ".r",
   "mimetype": "text/x-r-source",
   "name": "R",
   "pygments_lexer": "r",
   "version": "3.5.1"
  }
 },
 "nbformat": 4,
 "nbformat_minor": 2
}
