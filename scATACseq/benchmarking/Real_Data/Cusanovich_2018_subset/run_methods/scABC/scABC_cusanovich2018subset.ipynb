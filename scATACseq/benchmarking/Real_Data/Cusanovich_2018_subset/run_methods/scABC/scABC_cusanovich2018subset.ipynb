{
 "cells": [
  {
   "cell_type": "markdown",
   "metadata": {},
   "source": [
    "### Import packages"
   ]
  },
  {
   "cell_type": "code",
   "execution_count": 1,
   "metadata": {},
   "outputs": [
    {
     "name": "stderr",
     "output_type": "stream",
     "text": [
      "Loading required package: stats4\n",
      "Loading required package: BiocGenerics\n",
      "Loading required package: parallel\n",
      "\n",
      "Attaching package: ‘BiocGenerics’\n",
      "\n",
      "The following objects are masked from ‘package:parallel’:\n",
      "\n",
      "    clusterApply, clusterApplyLB, clusterCall, clusterEvalQ,\n",
      "    clusterExport, clusterMap, parApply, parCapply, parLapply,\n",
      "    parLapplyLB, parRapply, parSapply, parSapplyLB\n",
      "\n",
      "The following objects are masked from ‘package:stats’:\n",
      "\n",
      "    IQR, mad, sd, var, xtabs\n",
      "\n",
      "The following objects are masked from ‘package:base’:\n",
      "\n",
      "    anyDuplicated, append, as.data.frame, basename, cbind, colMeans,\n",
      "    colnames, colSums, dirname, do.call, duplicated, eval, evalq,\n",
      "    Filter, Find, get, grep, grepl, intersect, is.unsorted, lapply,\n",
      "    lengths, Map, mapply, match, mget, order, paste, pmax, pmax.int,\n",
      "    pmin, pmin.int, Position, rank, rbind, Reduce, rowMeans, rownames,\n",
      "    rowSums, sapply, setdiff, sort, table, tapply, union, unique,\n",
      "    unsplit, which, which.max, which.min\n",
      "\n",
      "Loading required package: S4Vectors\n",
      "\n",
      "Attaching package: ‘S4Vectors’\n",
      "\n",
      "The following object is masked from ‘package:base’:\n",
      "\n",
      "    expand.grid\n",
      "\n",
      "Loading required package: IRanges\n",
      "Loading required package: GenomeInfoDb\n",
      "Warning message:\n",
      "“replacing previous import ‘IRanges::which’ by ‘Matrix::which’ when loading ‘scABC’”Loading required package: Biostrings\n",
      "Loading required package: XVector\n",
      "\n",
      "Attaching package: ‘Biostrings’\n",
      "\n",
      "The following object is masked from ‘package:base’:\n",
      "\n",
      "    strsplit\n",
      "\n",
      "\n",
      "Attaching package: ‘data.table’\n",
      "\n",
      "The following object is masked from ‘package:GenomicRanges’:\n",
      "\n",
      "    shift\n",
      "\n",
      "The following object is masked from ‘package:IRanges’:\n",
      "\n",
      "    shift\n",
      "\n",
      "The following objects are masked from ‘package:S4Vectors’:\n",
      "\n",
      "    first, second\n",
      "\n",
      "\n",
      "Attaching package: ‘dplyr’\n",
      "\n",
      "The following objects are masked from ‘package:data.table’:\n",
      "\n",
      "    between, first, last\n",
      "\n",
      "The following objects are masked from ‘package:Biostrings’:\n",
      "\n",
      "    collapse, intersect, setdiff, setequal, union\n",
      "\n",
      "The following object is masked from ‘package:XVector’:\n",
      "\n",
      "    slice\n",
      "\n",
      "The following objects are masked from ‘package:GenomicRanges’:\n",
      "\n",
      "    intersect, setdiff, union\n",
      "\n",
      "The following object is masked from ‘package:GenomeInfoDb’:\n",
      "\n",
      "    intersect\n",
      "\n",
      "The following objects are masked from ‘package:IRanges’:\n",
      "\n",
      "    collapse, desc, intersect, setdiff, slice, union\n",
      "\n",
      "The following objects are masked from ‘package:S4Vectors’:\n",
      "\n",
      "    first, intersect, rename, setdiff, setequal, union\n",
      "\n",
      "The following objects are masked from ‘package:BiocGenerics’:\n",
      "\n",
      "    combine, intersect, setdiff, union\n",
      "\n",
      "The following objects are masked from ‘package:stats’:\n",
      "\n",
      "    filter, lag\n",
      "\n",
      "The following objects are masked from ‘package:base’:\n",
      "\n",
      "    intersect, setdiff, setequal, union\n",
      "\n",
      "── Attaching packages ─────────────────────────────────────── tidyverse 1.2.1 ──\n",
      "✔ ggplot2 3.1.0     ✔ readr   1.3.1\n",
      "✔ tibble  2.1.1     ✔ purrr   0.3.2\n",
      "✔ tidyr   0.8.3     ✔ stringr 1.4.0\n",
      "✔ ggplot2 3.1.0     ✔ forcats 0.4.0\n",
      "── Conflicts ────────────────────────────────────────── tidyverse_conflicts() ──\n",
      "✖ dplyr::between()    masks data.table::between()\n",
      "✖ dplyr::collapse()   masks Biostrings::collapse(), IRanges::collapse()\n",
      "✖ dplyr::combine()    masks BiocGenerics::combine()\n",
      "✖ purrr::compact()    masks XVector::compact()\n",
      "✖ dplyr::desc()       masks IRanges::desc()\n",
      "✖ tidyr::expand()     masks S4Vectors::expand()\n",
      "✖ dplyr::filter()     masks stats::filter()\n",
      "✖ dplyr::first()      masks data.table::first(), S4Vectors::first()\n",
      "✖ dplyr::lag()        masks stats::lag()\n",
      "✖ dplyr::last()       masks data.table::last()\n",
      "✖ ggplot2::Position() masks BiocGenerics::Position(), base::Position()\n",
      "✖ purrr::reduce()     masks GenomicRanges::reduce(), IRanges::reduce()\n",
      "✖ dplyr::rename()     masks S4Vectors::rename()\n",
      "✖ dplyr::slice()      masks XVector::slice(), IRanges::slice()\n",
      "✖ purrr::transpose()  masks data.table::transpose()\n",
      "\n",
      "Attaching package: ‘Matrix’\n",
      "\n",
      "The following object is masked from ‘package:tidyr’:\n",
      "\n",
      "    expand\n",
      "\n",
      "The following object is masked from ‘package:S4Vectors’:\n",
      "\n",
      "    expand\n",
      "\n",
      "\n",
      "Attaching package: ‘gplots’\n",
      "\n",
      "The following object is masked from ‘package:IRanges’:\n",
      "\n",
      "    space\n",
      "\n",
      "The following object is masked from ‘package:S4Vectors’:\n",
      "\n",
      "    space\n",
      "\n",
      "The following object is masked from ‘package:stats’:\n",
      "\n",
      "    lowess\n",
      "\n",
      "SHA-1 hash of file is 015fc0457e61e3e93a903e69a24d96d2dac7b9fb\n"
     ]
    }
   ],
   "source": [
    "options(stringsAsFactors = FALSE)\n",
    "library(GenomicRanges)\n",
    "library(scABC)\n",
    "library(Rsamtools)\n",
    "library(data.table)\n",
    "library(dplyr)\n",
    "library(tidyverse)\n",
    "library(Matrix)\n",
    "\n",
    "library(gplots) \n",
    "library(RColorBrewer)\n",
    "library(devtools)\n",
    "source_url(\"https://raw.githubusercontent.com/obigriffith/biostar-tutorials/master/Heatmaps/heatmap.3.R\")"
   ]
  },
  {
   "cell_type": "code",
   "execution_count": null,
   "metadata": {},
   "outputs": [],
   "source": []
  },
  {
   "cell_type": "markdown",
   "metadata": {},
   "source": [
    "### Functions"
   ]
  },
  {
   "cell_type": "code",
   "execution_count": 2,
   "metadata": {},
   "outputs": [],
   "source": [
    "bam2gr <- function(bamfile, PAIRED = FALSE) {\n",
    "  if (PAIRED) {\n",
    "    scanned = scanBam(bamfile, param = ScanBamParam(flag =scanBamFlag(isMinusStrand = FALSE,\n",
    "                                                                      isUnmappedQuery = FALSE,\n",
    "                                                                      isProperPair = TRUE),\n",
    "                                                    what = c(\"rname\", \"pos\", \"isize\")))[[1]]\n",
    "    out = GRanges(seqnames = scanned$rname, IRanges(start = scanned$pos, width = scanned$isize))\n",
    "  } else {\n",
    "    scanned = scanBam(bamfile, param = ScanBamParam(flag =scanBamFlag(isUnmappedQuery = FALSE),\n",
    "                                                    what = c(\"rname\", \"pos\", \"strand\", \"qwidth\")))[[1]]\n",
    "    out = GRanges(seqnames = scanned$rname,\n",
    "                  IRanges(start = ifelse(scanned$strand == \"-\", scanned$pos + scanned$qwidth - 1, scanned$pos),\n",
    "                          width = scanned$qwidth))\n",
    "  }\n",
    "  return(out)\n",
    "}\n",
    "\n",
    "getCountsByReadGroup <- function(bamfile, peaks, RGtag, tags = NULL, PAIRED = FALSE, VERBOSE = FALSE){\n",
    "  scanned <- Rsamtools::scanBam(bamfile,\n",
    "                     param = Rsamtools::ScanBamParam(flag =scanBamFlag(isUnmappedQuery = FALSE),\n",
    "                                                     what = c(\"rname\", \"pos\", \"strand\", \"qwidth\"),\n",
    "                                                     tag = RGtag))[[1]]\n",
    "  if(is.null(tags)){\n",
    "    RGtags = unique(unlist(scanned$tag[RGtag]))\n",
    "  }\n",
    "  counts_mat = Matrix::Matrix(0, nrow = length(peaks), ncol = length(tags), sparse = TRUE)\n",
    "  for(i in 1:length(tags)){\n",
    "    tag = tags[i]\n",
    "    if(VERBOSE){\n",
    "      message(\"Processing tag \", tag)\n",
    "    }\n",
    "    match_RG <- which(scanned$tag[[RGtag]] == tag)\n",
    "    # convert bamfiles to Genomic Ranges\n",
    "    bam.gr = GenomicRanges::GRanges(seqnames = scanned$rname[match_RG],\n",
    "                                    IRanges::IRanges(start = sapply(match_RG, function(i) ifelse(scanned$strand[i] == \"-\",\n",
    "                                                                         scanned$pos[i] + scanned$qwidth[i] - 1,\n",
    "                                                                         scanned$pos[i])),\n",
    "                             width = scanned$qwidth[match_RG]))\n",
    "    counts_mat[,i] = GenomicRanges::countOverlaps(peaks, bam.gr, type = \"any\", ignore.strand = TRUE)\n",
    "  }\n",
    " # counts = do.call(cbind, lapply(RGtags, function(x) getTagCounts(x, bamfile, peaks)))\n",
    "  colnames(counts_mat) = tags\n",
    "  return(counts_mat)\n",
    "}\n",
    "                                    \n",
    "peaks2GRanges <- function(peaks, upstream = 0, downstream = 0){\n",
    "  peaks.gr = with(peaks, GenomicRanges::GRanges(chrom, IRanges::IRanges(sapply(start, function(x) max(0, x - upstream)), end + downstream), \n",
    "                                                                               id = name))#, pVal = pValue))\n",
    "}\n",
    "\n",
    "# peaks should be in GenomicRanges\n",
    "get_counts_from_bam <- function(bamfile, peaks){\n",
    "  param = Rsamtools::ScanBamParam(flag =scanBamFlag(isUnmappedQuery = FALSE), \n",
    "                                  which = peaks, \n",
    "                                  what = c(\"rname\", \"pos\", \"strand\", \"qwidth\"))\n",
    "  counts = Rsamtools::countBam(bamfile, param = param,\n",
    "                               flag = Rsamtools::scanBamFlag(isDuplicate = FALSE,\n",
    "                                                             isUnmappedQuery = FALSE))\n",
    "  return(counts[,c(\"space\", \"start\", \"end\", \"file\", \"records\")])\n",
    "}\n",
    "                                                \n",
    "\n",
    "getCountsMatrix <- function(bamfiles, peaks, PAIRED = FALSE,\n",
    "                            byReadGroup = FALSE, \n",
    "                            RGtag = 'RG',\n",
    "                            tags2include = NULL, \n",
    "                            VERBOSE = FALSE){\n",
    "  peaks.gr = peaks2GRanges(peaks)\n",
    "  if(VERBOSE){\n",
    "    message(\"beginning reading in counts\\n\")\n",
    "  }\n",
    "  if(byReadGroup){\n",
    "    if(VERBOSE){\n",
    "      message(\"getting counts by read group\\n\")\n",
    "      message(\"read group tag = \", RGtag, \"\\n\")\n",
    "    }\n",
    "    stopifnot(length(bamfiles) == 1)\n",
    "    counts_mat = getCountsByReadGroup(bamfiles, peaks.gr, RGtag = RGtag, \n",
    "                                      tags = tags2include);\n",
    "    rownames(counts_mat) = peaks$name\n",
    "  }\n",
    "  else{\n",
    "    nCells = length(bamfiles)\n",
    "    counts_mat = matrix(nrow = length(peaks.gr), ncol = nCells)\n",
    "    for(i in 1:nCells){\n",
    "      if(VERBOSE){\n",
    "        message(\"Processing file \", bamfiles[i])\n",
    "      }\n",
    "      # convert bamfiles to Genomic Ranges\n",
    "      bam.gr = bam2gr(bamfiles[i], PAIRED = PAIRED)\n",
    "      counts_mat[,i] = countOverlaps(peaks.gr, bam.gr, type = \"any\", ignore.strand = TRUE)\n",
    "    }\n",
    "    colnames(counts_mat) = bamfiles\n",
    "    rownames(counts_mat) = peaks$name\n",
    "    #counts_info = data.frame(chrom = counts_list[[1]]$space, start = counts_list[[1]]$start, end = counts_list[[1]]$end, name = peaks$id, pValue = peaks$pVal)\n",
    "  }\n",
    "  peaks = peaks[,c(\"chrom\", \"start\", \"end\", \"name\")]#, \"pValue\")]\n",
    "  return(list(peaks = peaks, ForeGroundMatrix = Matrix::Matrix(counts_mat, sparse = TRUE)))\n",
    "}\n",
    "                                                \n",
    "                                                \n",
    "sort_peaks <- function(peaks){\n",
    "  return(peaks[order(peaks$chrom, peaks$start), ])\n",
    "}\n",
    "                                                \n",
    "selectPeaks <- function(filename, thresh = 2){\n",
    "  peaks = read.table(file = filename, header = FALSE, sep = \"\\t\",\n",
    "                     stringsAsFactors = FALSE);\n",
    "  if(dim(peaks)[2] == 15){\n",
    "    # gapped peaks\n",
    "    column_names = c(\"chrom\", \"start\", \"end\", \"name\", \"score\", \"strand\",\n",
    "                     \"thickStart\", \"thickEnd\", \"itemRgb\", \"blockCount\", \"blockSizes\",\n",
    "                     \"blockStarts\", \"signalValue\", \"pValue\", \"qValue\");\n",
    "    colnames(peaks) = column_names\n",
    "    wanted_peaks = which(peaks$pValue > thresh); # pValue is -log10(p), p < 0.1 => pValue > 2\n",
    "    peaks = sort_peaks(peaks[wanted_peaks, ])\n",
    "  }\n",
    "  if(dim(peaks)[2] == 10){\n",
    "    # narrow peaks\n",
    "    column_names = c(\"chrom\", \"start\", \"end\", \"name\", \"score\", \"strand\",\n",
    "                     \"foldChange\", \"pValue\", \"qValue\", \"summit2PeakDist\")\n",
    "    colnames(peaks) = column_names\n",
    "    wanted_peaks = which(peaks$pValue > thresh); # pValue is -log10(p), p < 0.1 => pValue > 2\n",
    "    peaks = sort_peaks(peaks[wanted_peaks, ])\n",
    "  }\n",
    "  \n",
    "  # mine  \n",
    "  if(dim(peaks)[2] == 3){\n",
    "    # gapped peaks\n",
    "    column_names = c(\"chrom\", \"start\", \"end\");\n",
    "    colnames(peaks) = column_names\n",
    "    peaks = sort_peaks(peaks)\n",
    "  }\n",
    "  return(peaks)\n",
    "}\n",
    "                                                \n",
    "                                                \n",
    "getBackground <- function(bamfiles, peaks, upstream = 500000,\n",
    "                          downstream = 500000, byReadGroup = FALSE,\n",
    "                          VERBOSE = FALSE, PAIRED = FALSE){\n",
    "  nCells = length(bamfiles)\n",
    "  background_peaks.gr = peaks2GRanges(peaks, upstream, downstream)\n",
    "  if(byReadGroup){\n",
    "    counts_mat = getCountsByReadGroup2(bamfile, background_peaks.gr);\n",
    "    rownames(counts_mat) = peaks$name\n",
    "  }\n",
    "  else{\n",
    "    counts_mat = matrix(nrow = length(background_peaks.gr), ncol = nCells)\n",
    "    for(i in 1:nCells){\n",
    "      if(VERBOSE){\n",
    "        message(\"Processing file \", bamfiles[i])\n",
    "      }\n",
    "      # convert bamfiles to Genomic Ranges\n",
    "      bam.gr = bam2gr(bamfiles[i], PAIRED = PAIRED)\n",
    "      counts_mat[,i] = countOverlaps(background_peaks.gr, bam.gr, type = \"any\", ignore.strand = TRUE)\n",
    "    }\n",
    "    colnames(counts_mat) = bamfiles\n",
    "    rownames(counts_mat) = peaks$name\n",
    "    #counts_info = data.frame(chrom = counts_list[[1]]$space, start = counts_list[[1]]$start, end = counts_list[[1]]$end, name = peaks$id, pValue = peaks$pVal)\n",
    "  }\n",
    "  peaks = peaks[,c(\"chrom\", \"start\", \"end\", \"name\")]#, \"pValue\")]\n",
    "  return(list(peaks = peaks, BackGroundMatrix = Matrix::Matrix(counts_mat, sparse = TRUE)))\n",
    "}"
   ]
  },
  {
   "cell_type": "code",
   "execution_count": null,
   "metadata": {},
   "outputs": [],
   "source": []
  },
  {
   "cell_type": "markdown",
   "metadata": {},
   "source": [
    "### Obtain Feature Matrix"
   ]
  },
  {
   "cell_type": "code",
   "execution_count": 3,
   "metadata": {},
   "outputs": [],
   "source": [
    "start_time <- Sys.time()"
   ]
  },
  {
   "cell_type": "code",
   "execution_count": 4,
   "metadata": {},
   "outputs": [],
   "source": [
    "metadata <- read.table('../../input/metadata.tsv',\n",
    "                         header = TRUE,\n",
    "                         stringsAsFactors=FALSE,quote=\"\",row.names=1)"
   ]
  },
  {
   "cell_type": "code",
   "execution_count": 5,
   "metadata": {},
   "outputs": [],
   "source": [
    "# loading input 1: single-cell BAM files\n",
    "bamfiles <- list.files(\"../../input/sc-bams_nodup/\", \n",
    "                       pattern = \"*.bam\", full.names = TRUE)"
   ]
  },
  {
   "cell_type": "code",
   "execution_count": 6,
   "metadata": {
    "scrolled": false
   },
   "outputs": [
    {
     "data": {
      "text/html": [
       "12178"
      ],
      "text/latex": [
       "12178"
      ],
      "text/markdown": [
       "12178"
      ],
      "text/plain": [
       "[1] 12178"
      ]
     },
     "metadata": {},
     "output_type": "display_data"
    }
   ],
   "source": [
    "length(bamfiles)"
   ]
  },
  {
   "cell_type": "code",
   "execution_count": 7,
   "metadata": {},
   "outputs": [
    {
     "data": {
      "text/html": [
       "<ol class=list-inline>\n",
       "\t<li>385237</li>\n",
       "\t<li>4</li>\n",
       "</ol>\n"
      ],
      "text/latex": [
       "\\begin{enumerate*}\n",
       "\\item 385237\n",
       "\\item 4\n",
       "\\end{enumerate*}\n"
      ],
      "text/markdown": [
       "1. 385237\n",
       "2. 4\n",
       "\n",
       "\n"
      ],
      "text/plain": [
       "[1] 385237      4"
      ]
     },
     "metadata": {},
     "output_type": "display_data"
    },
    {
     "data": {
      "text/html": [
       "<table>\n",
       "<thead><tr><th scope=col>chrom</th><th scope=col>start</th><th scope=col>end</th><th scope=col>name</th></tr></thead>\n",
       "<tbody>\n",
       "\t<tr><td>chr1                     </td><td>3002715                  </td><td>3002962                  </td><td>Peak_chr1_3002715_3002962</td></tr>\n",
       "\t<tr><td>chr1                     </td><td>3037090                  </td><td>3037634                  </td><td>Peak_chr1_3037090_3037634</td></tr>\n",
       "\t<tr><td>chr1                     </td><td>3084622                  </td><td>3085850                  </td><td>Peak_chr1_3084622_3085850</td></tr>\n",
       "\t<tr><td>chr1                     </td><td>3103610                  </td><td>3104006                  </td><td>Peak_chr1_3103610_3104006</td></tr>\n",
       "\t<tr><td>chr1                     </td><td>3106869                  </td><td>3107182                  </td><td>Peak_chr1_3106869_3107182</td></tr>\n",
       "\t<tr><td>chr1                     </td><td>3109389                  </td><td>3111052                  </td><td>Peak_chr1_3109389_3111052</td></tr>\n",
       "</tbody>\n",
       "</table>\n"
      ],
      "text/latex": [
       "\\begin{tabular}{r|llll}\n",
       " chrom & start & end & name\\\\\n",
       "\\hline\n",
       "\t chr1                            & 3002715                         & 3002962                         & Peak\\_chr1\\_3002715\\_3002962\\\\\n",
       "\t chr1                            & 3037090                         & 3037634                         & Peak\\_chr1\\_3037090\\_3037634\\\\\n",
       "\t chr1                            & 3084622                         & 3085850                         & Peak\\_chr1\\_3084622\\_3085850\\\\\n",
       "\t chr1                            & 3103610                         & 3104006                         & Peak\\_chr1\\_3103610\\_3104006\\\\\n",
       "\t chr1                            & 3106869                         & 3107182                         & Peak\\_chr1\\_3106869\\_3107182\\\\\n",
       "\t chr1                            & 3109389                         & 3111052                         & Peak\\_chr1\\_3109389\\_3111052\\\\\n",
       "\\end{tabular}\n"
      ],
      "text/markdown": [
       "\n",
       "| chrom | start | end | name |\n",
       "|---|---|---|---|\n",
       "| chr1                      | 3002715                   | 3002962                   | Peak_chr1_3002715_3002962 |\n",
       "| chr1                      | 3037090                   | 3037634                   | Peak_chr1_3037090_3037634 |\n",
       "| chr1                      | 3084622                   | 3085850                   | Peak_chr1_3084622_3085850 |\n",
       "| chr1                      | 3103610                   | 3104006                   | Peak_chr1_3103610_3104006 |\n",
       "| chr1                      | 3106869                   | 3107182                   | Peak_chr1_3106869_3107182 |\n",
       "| chr1                      | 3109389                   | 3111052                   | Peak_chr1_3109389_3111052 |\n",
       "\n"
      ],
      "text/plain": [
       "  chrom start   end     name                     \n",
       "1 chr1  3002715 3002962 Peak_chr1_3002715_3002962\n",
       "2 chr1  3037090 3037634 Peak_chr1_3037090_3037634\n",
       "3 chr1  3084622 3085850 Peak_chr1_3084622_3085850\n",
       "4 chr1  3103610 3104006 Peak_chr1_3103610_3104006\n",
       "5 chr1  3106869 3107182 Peak_chr1_3106869_3107182\n",
       "6 chr1  3109389 3111052 Peak_chr1_3109389_3111052"
      ]
     },
     "metadata": {},
     "output_type": "display_data"
    }
   ],
   "source": [
    "# loading input 2: peaks file\n",
    "peaks <- selectPeaks(\"../../input/combined.sorted.merged.bed\")\n",
    "peaks$name <- paste(\"Peak\", peaks$chrom, peaks$start, peaks$end, sep = \"_\")\n",
    "dim(peaks)\n",
    "head(peaks)"
   ]
  },
  {
   "cell_type": "code",
   "execution_count": 8,
   "metadata": {
    "scrolled": true
   },
   "outputs": [],
   "source": [
    "ForeGround <- getCountsMatrix(bamfiles, peaks) "
   ]
  },
  {
   "cell_type": "code",
   "execution_count": 9,
   "metadata": {},
   "outputs": [],
   "source": [
    "ForeGroundFiltered <- filterPeaks(ForeGround$ForeGroundMatrix, peaks, \n",
    "                             nreads_thresh = 1, \n",
    "                             ncells_thresh = length(bamfiles)*0.01)"
   ]
  },
  {
   "cell_type": "code",
   "execution_count": 10,
   "metadata": {},
   "outputs": [
    {
     "data": {
      "text/html": [
       "<ol class=list-inline>\n",
       "\t<li>385237</li>\n",
       "\t<li>4</li>\n",
       "</ol>\n"
      ],
      "text/latex": [
       "\\begin{enumerate*}\n",
       "\\item 385237\n",
       "\\item 4\n",
       "\\end{enumerate*}\n"
      ],
      "text/markdown": [
       "1. 385237\n",
       "2. 4\n",
       "\n",
       "\n"
      ],
      "text/plain": [
       "[1] 385237      4"
      ]
     },
     "metadata": {},
     "output_type": "display_data"
    },
    {
     "data": {
      "text/html": [
       "<ol class=list-inline>\n",
       "\t<li>147423</li>\n",
       "\t<li>4</li>\n",
       "</ol>\n"
      ],
      "text/latex": [
       "\\begin{enumerate*}\n",
       "\\item 147423\n",
       "\\item 4\n",
       "\\end{enumerate*}\n"
      ],
      "text/markdown": [
       "1. 147423\n",
       "2. 4\n",
       "\n",
       "\n"
      ],
      "text/plain": [
       "[1] 147423      4"
      ]
     },
     "metadata": {},
     "output_type": "display_data"
    }
   ],
   "source": [
    "dim(peaks)\n",
    "dim(ForeGroundFiltered$peaks)"
   ]
  },
  {
   "cell_type": "code",
   "execution_count": 11,
   "metadata": {},
   "outputs": [],
   "source": [
    "fm_scABC = as.matrix(ForeGroundFiltered$ForeGroundMatrix)"
   ]
  },
  {
   "cell_type": "code",
   "execution_count": null,
   "metadata": {},
   "outputs": [],
   "source": []
  },
  {
   "cell_type": "code",
   "execution_count": 12,
   "metadata": {
    "scrolled": true
   },
   "outputs": [
    {
     "data": {
      "text/html": [
       "<ol class=list-inline>\n",
       "\t<li>147423</li>\n",
       "\t<li>12178</li>\n",
       "</ol>\n"
      ],
      "text/latex": [
       "\\begin{enumerate*}\n",
       "\\item 147423\n",
       "\\item 12178\n",
       "\\end{enumerate*}\n"
      ],
      "text/markdown": [
       "1. 147423\n",
       "2. 12178\n",
       "\n",
       "\n"
      ],
      "text/plain": [
       "[1] 147423  12178"
      ]
     },
     "metadata": {},
     "output_type": "display_data"
    },
    {
     "data": {
      "text/html": [
       "<table>\n",
       "<thead><tr><th></th><th scope=col>../../input/sc-bams_nodup//BoneMarrow_62016.AGCGATAGAATACGATAATGGCAGCTCGCAGGACGT.header.bam</th><th scope=col>../../input/sc-bams_nodup//BoneMarrow_62016.AGCGATAGAATATTACTTTCCGCGGACTGTACTGAC.header.bam</th><th scope=col>../../input/sc-bams_nodup//BoneMarrow_62016.AGCGATAGACCAGGCGCATGGCAGCTCGATAGAGGC.header.bam</th><th scope=col>../../input/sc-bams_nodup//BoneMarrow_62016.AGCGATAGAGATTACGTTGCGCAATGACGTACTGAC.header.bam</th><th scope=col>../../input/sc-bams_nodup//BoneMarrow_62016.AGCGATAGAGGTCAGCTTGGAGTTGCGTGTACTGAC.header.bam</th></tr></thead>\n",
       "<tbody>\n",
       "\t<tr><th scope=row>Peak_chr1_3084622_3085850</th><td>0</td><td>0</td><td>0</td><td>0</td><td>0</td></tr>\n",
       "\t<tr><th scope=row>Peak_chr1_3109389_3111052</th><td>0</td><td>0</td><td>0</td><td>0</td><td>0</td></tr>\n",
       "\t<tr><th scope=row>Peak_chr1_3111327_3111863</th><td>0</td><td>0</td><td>0</td><td>0</td><td>0</td></tr>\n",
       "\t<tr><th scope=row>Peak_chr1_3174934_3176608</th><td>0</td><td>0</td><td>0</td><td>0</td><td>0</td></tr>\n",
       "\t<tr><th scope=row>Peak_chr1_3238831_3239934</th><td>0</td><td>0</td><td>0</td><td>0</td><td>0</td></tr>\n",
       "</tbody>\n",
       "</table>\n"
      ],
      "text/latex": [
       "\\begin{tabular}{r|lllll}\n",
       "  & ../../input/sc-bams\\_nodup//BoneMarrow\\_62016.AGCGATAGAATACGATAATGGCAGCTCGCAGGACGT.header.bam & ../../input/sc-bams\\_nodup//BoneMarrow\\_62016.AGCGATAGAATATTACTTTCCGCGGACTGTACTGAC.header.bam & ../../input/sc-bams\\_nodup//BoneMarrow\\_62016.AGCGATAGACCAGGCGCATGGCAGCTCGATAGAGGC.header.bam & ../../input/sc-bams\\_nodup//BoneMarrow\\_62016.AGCGATAGAGATTACGTTGCGCAATGACGTACTGAC.header.bam & ../../input/sc-bams\\_nodup//BoneMarrow\\_62016.AGCGATAGAGGTCAGCTTGGAGTTGCGTGTACTGAC.header.bam\\\\\n",
       "\\hline\n",
       "\tPeak\\_chr1\\_3084622\\_3085850 & 0 & 0 & 0 & 0 & 0\\\\\n",
       "\tPeak\\_chr1\\_3109389\\_3111052 & 0 & 0 & 0 & 0 & 0\\\\\n",
       "\tPeak\\_chr1\\_3111327\\_3111863 & 0 & 0 & 0 & 0 & 0\\\\\n",
       "\tPeak\\_chr1\\_3174934\\_3176608 & 0 & 0 & 0 & 0 & 0\\\\\n",
       "\tPeak\\_chr1\\_3238831\\_3239934 & 0 & 0 & 0 & 0 & 0\\\\\n",
       "\\end{tabular}\n"
      ],
      "text/markdown": [
       "\n",
       "| <!--/--> | ../../input/sc-bams_nodup//BoneMarrow_62016.AGCGATAGAATACGATAATGGCAGCTCGCAGGACGT.header.bam | ../../input/sc-bams_nodup//BoneMarrow_62016.AGCGATAGAATATTACTTTCCGCGGACTGTACTGAC.header.bam | ../../input/sc-bams_nodup//BoneMarrow_62016.AGCGATAGACCAGGCGCATGGCAGCTCGATAGAGGC.header.bam | ../../input/sc-bams_nodup//BoneMarrow_62016.AGCGATAGAGATTACGTTGCGCAATGACGTACTGAC.header.bam | ../../input/sc-bams_nodup//BoneMarrow_62016.AGCGATAGAGGTCAGCTTGGAGTTGCGTGTACTGAC.header.bam |\n",
       "|---|---|---|---|---|---|\n",
       "| Peak_chr1_3084622_3085850 | 0 | 0 | 0 | 0 | 0 |\n",
       "| Peak_chr1_3109389_3111052 | 0 | 0 | 0 | 0 | 0 |\n",
       "| Peak_chr1_3111327_3111863 | 0 | 0 | 0 | 0 | 0 |\n",
       "| Peak_chr1_3174934_3176608 | 0 | 0 | 0 | 0 | 0 |\n",
       "| Peak_chr1_3238831_3239934 | 0 | 0 | 0 | 0 | 0 |\n",
       "\n"
      ],
      "text/plain": [
       "                          ../../input/sc-bams_nodup//BoneMarrow_62016.AGCGATAGAATACGATAATGGCAGCTCGCAGGACGT.header.bam\n",
       "Peak_chr1_3084622_3085850 0                                                                                          \n",
       "Peak_chr1_3109389_3111052 0                                                                                          \n",
       "Peak_chr1_3111327_3111863 0                                                                                          \n",
       "Peak_chr1_3174934_3176608 0                                                                                          \n",
       "Peak_chr1_3238831_3239934 0                                                                                          \n",
       "                          ../../input/sc-bams_nodup//BoneMarrow_62016.AGCGATAGAATATTACTTTCCGCGGACTGTACTGAC.header.bam\n",
       "Peak_chr1_3084622_3085850 0                                                                                          \n",
       "Peak_chr1_3109389_3111052 0                                                                                          \n",
       "Peak_chr1_3111327_3111863 0                                                                                          \n",
       "Peak_chr1_3174934_3176608 0                                                                                          \n",
       "Peak_chr1_3238831_3239934 0                                                                                          \n",
       "                          ../../input/sc-bams_nodup//BoneMarrow_62016.AGCGATAGACCAGGCGCATGGCAGCTCGATAGAGGC.header.bam\n",
       "Peak_chr1_3084622_3085850 0                                                                                          \n",
       "Peak_chr1_3109389_3111052 0                                                                                          \n",
       "Peak_chr1_3111327_3111863 0                                                                                          \n",
       "Peak_chr1_3174934_3176608 0                                                                                          \n",
       "Peak_chr1_3238831_3239934 0                                                                                          \n",
       "                          ../../input/sc-bams_nodup//BoneMarrow_62016.AGCGATAGAGATTACGTTGCGCAATGACGTACTGAC.header.bam\n",
       "Peak_chr1_3084622_3085850 0                                                                                          \n",
       "Peak_chr1_3109389_3111052 0                                                                                          \n",
       "Peak_chr1_3111327_3111863 0                                                                                          \n",
       "Peak_chr1_3174934_3176608 0                                                                                          \n",
       "Peak_chr1_3238831_3239934 0                                                                                          \n",
       "                          ../../input/sc-bams_nodup//BoneMarrow_62016.AGCGATAGAGGTCAGCTTGGAGTTGCGTGTACTGAC.header.bam\n",
       "Peak_chr1_3084622_3085850 0                                                                                          \n",
       "Peak_chr1_3109389_3111052 0                                                                                          \n",
       "Peak_chr1_3111327_3111863 0                                                                                          \n",
       "Peak_chr1_3174934_3176608 0                                                                                          \n",
       "Peak_chr1_3238831_3239934 0                                                                                          "
      ]
     },
     "metadata": {},
     "output_type": "display_data"
    }
   ],
   "source": [
    "dim(fm_scABC)\n",
    "fm_scABC[1:5,1:5]"
   ]
  },
  {
   "cell_type": "code",
   "execution_count": 13,
   "metadata": {},
   "outputs": [],
   "source": [
    "end_time <- Sys.time()"
   ]
  },
  {
   "cell_type": "code",
   "execution_count": 14,
   "metadata": {},
   "outputs": [
    {
     "data": {
      "text/plain": [
       "Time difference of 48.47346 mins"
      ]
     },
     "metadata": {},
     "output_type": "display_data"
    }
   ],
   "source": [
    "end_time - start_time"
   ]
  },
  {
   "cell_type": "code",
   "execution_count": 37,
   "metadata": {},
   "outputs": [
    {
     "data": {
      "text/html": [
       "FALSE"
      ],
      "text/latex": [
       "FALSE"
      ],
      "text/markdown": [
       "FALSE"
      ],
      "text/plain": [
       "[1] FALSE"
      ]
     },
     "metadata": {},
     "output_type": "display_data"
    }
   ],
   "source": [
    "all(sapply(strsplit(basename(colnames(fm_scABC)),'\\\\.'),'[', 2) == rownames(metadata))"
   ]
  },
  {
   "cell_type": "code",
   "execution_count": 39,
   "metadata": {},
   "outputs": [],
   "source": [
    "colnames(fm_scABC) = sapply(strsplit(basename(colnames(fm_scABC)),'\\\\.'),'[', 2)"
   ]
  },
  {
   "cell_type": "code",
   "execution_count": 40,
   "metadata": {},
   "outputs": [
    {
     "data": {
      "text/html": [
       "<ol class=list-inline>\n",
       "\t<li>147423</li>\n",
       "\t<li>12178</li>\n",
       "</ol>\n"
      ],
      "text/latex": [
       "\\begin{enumerate*}\n",
       "\\item 147423\n",
       "\\item 12178\n",
       "\\end{enumerate*}\n"
      ],
      "text/markdown": [
       "1. 147423\n",
       "2. 12178\n",
       "\n",
       "\n"
      ],
      "text/plain": [
       "[1] 147423  12178"
      ]
     },
     "metadata": {},
     "output_type": "display_data"
    },
    {
     "data": {
      "text/html": [
       "<table>\n",
       "<thead><tr><th></th><th scope=col>AGCGATAGAATACGATAATGGCAGCTCGCAGGACGT</th><th scope=col>AGCGATAGAATATTACTTTCCGCGGACTGTACTGAC</th><th scope=col>AGCGATAGACCAGGCGCATGGCAGCTCGATAGAGGC</th><th scope=col>AGCGATAGAGATTACGTTGCGCAATGACGTACTGAC</th><th scope=col>AGCGATAGAGGTCAGCTTGGAGTTGCGTGTACTGAC</th></tr></thead>\n",
       "<tbody>\n",
       "\t<tr><th scope=row>Peak_chr1_3084622_3085850</th><td>0</td><td>0</td><td>0</td><td>0</td><td>0</td></tr>\n",
       "\t<tr><th scope=row>Peak_chr1_3109389_3111052</th><td>0</td><td>0</td><td>0</td><td>0</td><td>0</td></tr>\n",
       "\t<tr><th scope=row>Peak_chr1_3111327_3111863</th><td>0</td><td>0</td><td>0</td><td>0</td><td>0</td></tr>\n",
       "\t<tr><th scope=row>Peak_chr1_3174934_3176608</th><td>0</td><td>0</td><td>0</td><td>0</td><td>0</td></tr>\n",
       "\t<tr><th scope=row>Peak_chr1_3238831_3239934</th><td>0</td><td>0</td><td>0</td><td>0</td><td>0</td></tr>\n",
       "</tbody>\n",
       "</table>\n"
      ],
      "text/latex": [
       "\\begin{tabular}{r|lllll}\n",
       "  & AGCGATAGAATACGATAATGGCAGCTCGCAGGACGT & AGCGATAGAATATTACTTTCCGCGGACTGTACTGAC & AGCGATAGACCAGGCGCATGGCAGCTCGATAGAGGC & AGCGATAGAGATTACGTTGCGCAATGACGTACTGAC & AGCGATAGAGGTCAGCTTGGAGTTGCGTGTACTGAC\\\\\n",
       "\\hline\n",
       "\tPeak\\_chr1\\_3084622\\_3085850 & 0 & 0 & 0 & 0 & 0\\\\\n",
       "\tPeak\\_chr1\\_3109389\\_3111052 & 0 & 0 & 0 & 0 & 0\\\\\n",
       "\tPeak\\_chr1\\_3111327\\_3111863 & 0 & 0 & 0 & 0 & 0\\\\\n",
       "\tPeak\\_chr1\\_3174934\\_3176608 & 0 & 0 & 0 & 0 & 0\\\\\n",
       "\tPeak\\_chr1\\_3238831\\_3239934 & 0 & 0 & 0 & 0 & 0\\\\\n",
       "\\end{tabular}\n"
      ],
      "text/markdown": [
       "\n",
       "| <!--/--> | AGCGATAGAATACGATAATGGCAGCTCGCAGGACGT | AGCGATAGAATATTACTTTCCGCGGACTGTACTGAC | AGCGATAGACCAGGCGCATGGCAGCTCGATAGAGGC | AGCGATAGAGATTACGTTGCGCAATGACGTACTGAC | AGCGATAGAGGTCAGCTTGGAGTTGCGTGTACTGAC |\n",
       "|---|---|---|---|---|---|\n",
       "| Peak_chr1_3084622_3085850 | 0 | 0 | 0 | 0 | 0 |\n",
       "| Peak_chr1_3109389_3111052 | 0 | 0 | 0 | 0 | 0 |\n",
       "| Peak_chr1_3111327_3111863 | 0 | 0 | 0 | 0 | 0 |\n",
       "| Peak_chr1_3174934_3176608 | 0 | 0 | 0 | 0 | 0 |\n",
       "| Peak_chr1_3238831_3239934 | 0 | 0 | 0 | 0 | 0 |\n",
       "\n"
      ],
      "text/plain": [
       "                          AGCGATAGAATACGATAATGGCAGCTCGCAGGACGT\n",
       "Peak_chr1_3084622_3085850 0                                   \n",
       "Peak_chr1_3109389_3111052 0                                   \n",
       "Peak_chr1_3111327_3111863 0                                   \n",
       "Peak_chr1_3174934_3176608 0                                   \n",
       "Peak_chr1_3238831_3239934 0                                   \n",
       "                          AGCGATAGAATATTACTTTCCGCGGACTGTACTGAC\n",
       "Peak_chr1_3084622_3085850 0                                   \n",
       "Peak_chr1_3109389_3111052 0                                   \n",
       "Peak_chr1_3111327_3111863 0                                   \n",
       "Peak_chr1_3174934_3176608 0                                   \n",
       "Peak_chr1_3238831_3239934 0                                   \n",
       "                          AGCGATAGACCAGGCGCATGGCAGCTCGATAGAGGC\n",
       "Peak_chr1_3084622_3085850 0                                   \n",
       "Peak_chr1_3109389_3111052 0                                   \n",
       "Peak_chr1_3111327_3111863 0                                   \n",
       "Peak_chr1_3174934_3176608 0                                   \n",
       "Peak_chr1_3238831_3239934 0                                   \n",
       "                          AGCGATAGAGATTACGTTGCGCAATGACGTACTGAC\n",
       "Peak_chr1_3084622_3085850 0                                   \n",
       "Peak_chr1_3109389_3111052 0                                   \n",
       "Peak_chr1_3111327_3111863 0                                   \n",
       "Peak_chr1_3174934_3176608 0                                   \n",
       "Peak_chr1_3238831_3239934 0                                   \n",
       "                          AGCGATAGAGGTCAGCTTGGAGTTGCGTGTACTGAC\n",
       "Peak_chr1_3084622_3085850 0                                   \n",
       "Peak_chr1_3109389_3111052 0                                   \n",
       "Peak_chr1_3111327_3111863 0                                   \n",
       "Peak_chr1_3174934_3176608 0                                   \n",
       "Peak_chr1_3238831_3239934 0                                   "
      ]
     },
     "metadata": {},
     "output_type": "display_data"
    }
   ],
   "source": [
    "dim(fm_scABC)\n",
    "fm_scABC[1:5,1:5]"
   ]
  },
  {
   "cell_type": "code",
   "execution_count": 42,
   "metadata": {
    "scrolled": true
   },
   "outputs": [],
   "source": [
    "fm_scABC = fm_scABC[,rownames(metadata)]"
   ]
  },
  {
   "cell_type": "code",
   "execution_count": 43,
   "metadata": {},
   "outputs": [
    {
     "data": {
      "text/html": [
       "<ol class=list-inline>\n",
       "\t<li>147423</li>\n",
       "\t<li>12178</li>\n",
       "</ol>\n"
      ],
      "text/latex": [
       "\\begin{enumerate*}\n",
       "\\item 147423\n",
       "\\item 12178\n",
       "\\end{enumerate*}\n"
      ],
      "text/markdown": [
       "1. 147423\n",
       "2. 12178\n",
       "\n",
       "\n"
      ],
      "text/plain": [
       "[1] 147423  12178"
      ]
     },
     "metadata": {},
     "output_type": "display_data"
    },
    {
     "data": {
      "text/html": [
       "<table>\n",
       "<thead><tr><th></th><th scope=col>TCCGCGAACTAACTAGGTTGCTACGGTCATAGAGGC</th><th scope=col>TCCGCGAAAGGTCAGCTTTGCGGATAGTGTACTGAC</th><th scope=col>ATTACTCGTTGCCGTAGGCTTAATCTTGTATAGCCT</th><th scope=col>TCCGCGAAACCAGGCGCAAAGCTAGGTTGTACTGAC</th><th scope=col>ATTCAGAATCGTAGCATCGCGCAATGACCCTATCCT</th></tr></thead>\n",
       "<tbody>\n",
       "\t<tr><th scope=row>Peak_chr1_3084622_3085850</th><td>0</td><td>0</td><td>0</td><td>0</td><td>0</td></tr>\n",
       "\t<tr><th scope=row>Peak_chr1_3109389_3111052</th><td>0</td><td>0</td><td>0</td><td>0</td><td>0</td></tr>\n",
       "\t<tr><th scope=row>Peak_chr1_3111327_3111863</th><td>0</td><td>0</td><td>0</td><td>0</td><td>0</td></tr>\n",
       "\t<tr><th scope=row>Peak_chr1_3174934_3176608</th><td>0</td><td>0</td><td>0</td><td>0</td><td>0</td></tr>\n",
       "\t<tr><th scope=row>Peak_chr1_3238831_3239934</th><td>0</td><td>0</td><td>0</td><td>0</td><td>0</td></tr>\n",
       "</tbody>\n",
       "</table>\n"
      ],
      "text/latex": [
       "\\begin{tabular}{r|lllll}\n",
       "  & TCCGCGAACTAACTAGGTTGCTACGGTCATAGAGGC & TCCGCGAAAGGTCAGCTTTGCGGATAGTGTACTGAC & ATTACTCGTTGCCGTAGGCTTAATCTTGTATAGCCT & TCCGCGAAACCAGGCGCAAAGCTAGGTTGTACTGAC & ATTCAGAATCGTAGCATCGCGCAATGACCCTATCCT\\\\\n",
       "\\hline\n",
       "\tPeak\\_chr1\\_3084622\\_3085850 & 0 & 0 & 0 & 0 & 0\\\\\n",
       "\tPeak\\_chr1\\_3109389\\_3111052 & 0 & 0 & 0 & 0 & 0\\\\\n",
       "\tPeak\\_chr1\\_3111327\\_3111863 & 0 & 0 & 0 & 0 & 0\\\\\n",
       "\tPeak\\_chr1\\_3174934\\_3176608 & 0 & 0 & 0 & 0 & 0\\\\\n",
       "\tPeak\\_chr1\\_3238831\\_3239934 & 0 & 0 & 0 & 0 & 0\\\\\n",
       "\\end{tabular}\n"
      ],
      "text/markdown": [
       "\n",
       "| <!--/--> | TCCGCGAACTAACTAGGTTGCTACGGTCATAGAGGC | TCCGCGAAAGGTCAGCTTTGCGGATAGTGTACTGAC | ATTACTCGTTGCCGTAGGCTTAATCTTGTATAGCCT | TCCGCGAAACCAGGCGCAAAGCTAGGTTGTACTGAC | ATTCAGAATCGTAGCATCGCGCAATGACCCTATCCT |\n",
       "|---|---|---|---|---|---|\n",
       "| Peak_chr1_3084622_3085850 | 0 | 0 | 0 | 0 | 0 |\n",
       "| Peak_chr1_3109389_3111052 | 0 | 0 | 0 | 0 | 0 |\n",
       "| Peak_chr1_3111327_3111863 | 0 | 0 | 0 | 0 | 0 |\n",
       "| Peak_chr1_3174934_3176608 | 0 | 0 | 0 | 0 | 0 |\n",
       "| Peak_chr1_3238831_3239934 | 0 | 0 | 0 | 0 | 0 |\n",
       "\n"
      ],
      "text/plain": [
       "                          TCCGCGAACTAACTAGGTTGCTACGGTCATAGAGGC\n",
       "Peak_chr1_3084622_3085850 0                                   \n",
       "Peak_chr1_3109389_3111052 0                                   \n",
       "Peak_chr1_3111327_3111863 0                                   \n",
       "Peak_chr1_3174934_3176608 0                                   \n",
       "Peak_chr1_3238831_3239934 0                                   \n",
       "                          TCCGCGAAAGGTCAGCTTTGCGGATAGTGTACTGAC\n",
       "Peak_chr1_3084622_3085850 0                                   \n",
       "Peak_chr1_3109389_3111052 0                                   \n",
       "Peak_chr1_3111327_3111863 0                                   \n",
       "Peak_chr1_3174934_3176608 0                                   \n",
       "Peak_chr1_3238831_3239934 0                                   \n",
       "                          ATTACTCGTTGCCGTAGGCTTAATCTTGTATAGCCT\n",
       "Peak_chr1_3084622_3085850 0                                   \n",
       "Peak_chr1_3109389_3111052 0                                   \n",
       "Peak_chr1_3111327_3111863 0                                   \n",
       "Peak_chr1_3174934_3176608 0                                   \n",
       "Peak_chr1_3238831_3239934 0                                   \n",
       "                          TCCGCGAAACCAGGCGCAAAGCTAGGTTGTACTGAC\n",
       "Peak_chr1_3084622_3085850 0                                   \n",
       "Peak_chr1_3109389_3111052 0                                   \n",
       "Peak_chr1_3111327_3111863 0                                   \n",
       "Peak_chr1_3174934_3176608 0                                   \n",
       "Peak_chr1_3238831_3239934 0                                   \n",
       "                          ATTCAGAATCGTAGCATCGCGCAATGACCCTATCCT\n",
       "Peak_chr1_3084622_3085850 0                                   \n",
       "Peak_chr1_3109389_3111052 0                                   \n",
       "Peak_chr1_3111327_3111863 0                                   \n",
       "Peak_chr1_3174934_3176608 0                                   \n",
       "Peak_chr1_3238831_3239934 0                                   "
      ]
     },
     "metadata": {},
     "output_type": "display_data"
    }
   ],
   "source": [
    "dim(fm_scABC)\n",
    "fm_scABC[1:5,1:5]"
   ]
  },
  {
   "cell_type": "code",
   "execution_count": 44,
   "metadata": {},
   "outputs": [
    {
     "data": {
      "text/html": [
       "TRUE"
      ],
      "text/latex": [
       "TRUE"
      ],
      "text/markdown": [
       "TRUE"
      ],
      "text/plain": [
       "[1] TRUE"
      ]
     },
     "metadata": {},
     "output_type": "display_data"
    }
   ],
   "source": [
    "all(colnames(fm_scABC) == rownames(metadata))"
   ]
  },
  {
   "cell_type": "code",
   "execution_count": 45,
   "metadata": {},
   "outputs": [],
   "source": [
    "saveRDS(fm_scABC, file = '../../output/feature_matrices/FM_scABC_cusanovich2018subset.rds')"
   ]
  },
  {
   "cell_type": "code",
   "execution_count": null,
   "metadata": {},
   "outputs": [],
   "source": []
  },
  {
   "cell_type": "markdown",
   "metadata": {},
   "source": [
    "### Downstream Analysis"
   ]
  },
  {
   "cell_type": "code",
   "execution_count": 19,
   "metadata": {},
   "outputs": [],
   "source": [
    "### Instead of normalizing the peaks-by-cells matrix, \n",
    "### weights calculated below will be used in k-medoid clustering step based on cell dissimilarity matrix: WeightedCluster::wcKMedoids(FGdist, k = nCluster, weights = weights);\n",
    "### so it's not considered as part of feature matrix construction\n",
    "\n",
    "\n",
    "# BackGround <- getBackground(bamfiles, ForeGroundFiltered$peaks, \n",
    "#                            upstream = 5e+05, downstream = 5e+05,\n",
    "#                            PAIRED = FALSE, byReadGroup = FALSE)\n",
    "\n",
    "# InSilicoForeGround = ForeGroundFiltered$ForeGroundMatrix\n",
    "# InSilicoBackGround = BackGround$BackGroundMatrix\n",
    "# InSilicoPeaks = ForeGroundFiltered$peaks\n",
    "\n",
    "# fg.mat <- Matrix::Matrix(InSilicoForeGround, sparse = TRUE)\n",
    "# bg.mat <- Matrix::Matrix(InSilicoBackGround, sparse = TRUE);\n",
    "\n",
    "# weights = apply(bg.mat, 2, median);\n",
    "# c = min(8, median(weights))\n",
    "# # compute weighted k-medioids\n",
    "# lambda = 1.0\n",
    "# FGdist = 1 - sparseSpearmanCor(ForeGround);\n",
    "# weights = 1/(1 + exp(-(weights - c)/(c*lambda)));"
   ]
  },
  {
   "cell_type": "code",
   "execution_count": 20,
   "metadata": {},
   "outputs": [],
   "source": [
    "BackGround <- getBackground(bamfiles, ForeGroundFiltered$peaks, \n",
    "                           upstream = 5e+05, downstream = 5e+05,\n",
    "                           PAIRED = FALSE, byReadGroup = FALSE)"
   ]
  },
  {
   "cell_type": "code",
   "execution_count": 21,
   "metadata": {},
   "outputs": [],
   "source": [
    "InSilicoForeGround = ForeGroundFiltered$ForeGroundMatrix\n",
    "InSilicoBackGround = BackGround$BackGroundMatrix\n",
    "InSilicoPeaks = ForeGroundFiltered$peaks"
   ]
  },
  {
   "cell_type": "code",
   "execution_count": 22,
   "metadata": {},
   "outputs": [],
   "source": [
    "#compute the landmarks\n",
    "InSilicoLandMarks = computeLandmarks(ForeGround = InSilicoForeGround, \n",
    "                                      BackGround = InSilicoBackGround, \n",
    "                                      nCluster = length(unique(metadata$label)), lambda = 1, nTop = 2000)"
   ]
  },
  {
   "cell_type": "code",
   "execution_count": 23,
   "metadata": {},
   "outputs": [
    {
     "data": {
      "text/html": [
       "<table>\n",
       "<tbody>\n",
       "\t<tr><td>1.0000000</td><td>0.4502911</td><td>0.5828863</td><td>0.3910398</td><td>0.6133986</td><td>0.5850597</td><td>0.4262520</td><td>0.7529231</td><td>0.6787846</td><td>0.6137799</td><td>0.5689958</td><td>0.5148295</td><td>0.5075920</td></tr>\n",
       "\t<tr><td>0.4502911</td><td>1.0000000</td><td>0.4783861</td><td>0.4091725</td><td>0.5072364</td><td>0.4641601</td><td>0.3939587</td><td>0.4716679</td><td>0.4326113</td><td>0.4031804</td><td>0.4728562</td><td>0.4416382</td><td>0.3808171</td></tr>\n",
       "\t<tr><td>0.5828863</td><td>0.4783861</td><td>1.0000000</td><td>0.5317003</td><td>0.5680175</td><td>0.5619443</td><td>0.4188157</td><td>0.5798220</td><td>0.5326821</td><td>0.5050429</td><td>0.5248360</td><td>0.4879837</td><td>0.4476117</td></tr>\n",
       "\t<tr><td>0.3910398</td><td>0.4091725</td><td>0.5317003</td><td>1.0000000</td><td>0.4158435</td><td>0.3906936</td><td>0.3107852</td><td>0.4064649</td><td>0.3731941</td><td>0.3641376</td><td>0.3708085</td><td>0.3555687</td><td>0.3026505</td></tr>\n",
       "\t<tr><td>0.6133986</td><td>0.5072364</td><td>0.5680175</td><td>0.4158435</td><td>1.0000000</td><td>0.6023185</td><td>0.4439613</td><td>0.6484725</td><td>0.5950063</td><td>0.5283675</td><td>0.5981445</td><td>0.5088167</td><td>0.4748662</td></tr>\n",
       "\t<tr><td>0.5850597</td><td>0.4641601</td><td>0.5619443</td><td>0.3906936</td><td>0.6023185</td><td>1.0000000</td><td>0.3999461</td><td>0.6076734</td><td>0.5590317</td><td>0.4948485</td><td>0.5069651</td><td>0.4620556</td><td>0.4338220</td></tr>\n",
       "\t<tr><td>0.4262520</td><td>0.3939587</td><td>0.4188157</td><td>0.3107852</td><td>0.4439613</td><td>0.3999461</td><td>1.0000000</td><td>0.4469632</td><td>0.4155036</td><td>0.4120799</td><td>0.4797128</td><td>0.6801581</td><td>0.4932913</td></tr>\n",
       "\t<tr><td>0.7529231</td><td>0.4716679</td><td>0.5798220</td><td>0.4064649</td><td>0.6484725</td><td>0.6076734</td><td>0.4469632</td><td>1.0000000</td><td>0.8028852</td><td>0.7095414</td><td>0.5667249</td><td>0.5378509</td><td>0.5003190</td></tr>\n",
       "\t<tr><td>0.6787846</td><td>0.4326113</td><td>0.5326821</td><td>0.3731941</td><td>0.5950063</td><td>0.5590317</td><td>0.4155036</td><td>0.8028852</td><td>1.0000000</td><td>0.6829619</td><td>0.5261481</td><td>0.4867047</td><td>0.4652567</td></tr>\n",
       "\t<tr><td>0.6137799</td><td>0.4031804</td><td>0.5050429</td><td>0.3641376</td><td>0.5283675</td><td>0.4948485</td><td>0.4120799</td><td>0.7095414</td><td>0.6829619</td><td>1.0000000</td><td>0.4900305</td><td>0.4790754</td><td>0.4470428</td></tr>\n",
       "\t<tr><td>0.5689958</td><td>0.4728562</td><td>0.5248360</td><td>0.3708085</td><td>0.5981445</td><td>0.5069651</td><td>0.4797128</td><td>0.5667249</td><td>0.5261481</td><td>0.4900305</td><td>1.0000000</td><td>0.5370407</td><td>0.5077249</td></tr>\n",
       "\t<tr><td>0.5148295</td><td>0.4416382</td><td>0.4879837</td><td>0.3555687</td><td>0.5088167</td><td>0.4620556</td><td>0.6801581</td><td>0.5378509</td><td>0.4867047</td><td>0.4790754</td><td>0.5370407</td><td>1.0000000</td><td>0.5389705</td></tr>\n",
       "\t<tr><td>0.5075920</td><td>0.3808171</td><td>0.4476117</td><td>0.3026505</td><td>0.4748662</td><td>0.4338220</td><td>0.4932913</td><td>0.5003190</td><td>0.4652567</td><td>0.4470428</td><td>0.5077249</td><td>0.5389705</td><td>1.0000000</td></tr>\n",
       "</tbody>\n",
       "</table>\n"
      ],
      "text/latex": [
       "\\begin{tabular}{lllllllllllll}\n",
       "\t 1.0000000 & 0.4502911 & 0.5828863 & 0.3910398 & 0.6133986 & 0.5850597 & 0.4262520 & 0.7529231 & 0.6787846 & 0.6137799 & 0.5689958 & 0.5148295 & 0.5075920\\\\\n",
       "\t 0.4502911 & 1.0000000 & 0.4783861 & 0.4091725 & 0.5072364 & 0.4641601 & 0.3939587 & 0.4716679 & 0.4326113 & 0.4031804 & 0.4728562 & 0.4416382 & 0.3808171\\\\\n",
       "\t 0.5828863 & 0.4783861 & 1.0000000 & 0.5317003 & 0.5680175 & 0.5619443 & 0.4188157 & 0.5798220 & 0.5326821 & 0.5050429 & 0.5248360 & 0.4879837 & 0.4476117\\\\\n",
       "\t 0.3910398 & 0.4091725 & 0.5317003 & 1.0000000 & 0.4158435 & 0.3906936 & 0.3107852 & 0.4064649 & 0.3731941 & 0.3641376 & 0.3708085 & 0.3555687 & 0.3026505\\\\\n",
       "\t 0.6133986 & 0.5072364 & 0.5680175 & 0.4158435 & 1.0000000 & 0.6023185 & 0.4439613 & 0.6484725 & 0.5950063 & 0.5283675 & 0.5981445 & 0.5088167 & 0.4748662\\\\\n",
       "\t 0.5850597 & 0.4641601 & 0.5619443 & 0.3906936 & 0.6023185 & 1.0000000 & 0.3999461 & 0.6076734 & 0.5590317 & 0.4948485 & 0.5069651 & 0.4620556 & 0.4338220\\\\\n",
       "\t 0.4262520 & 0.3939587 & 0.4188157 & 0.3107852 & 0.4439613 & 0.3999461 & 1.0000000 & 0.4469632 & 0.4155036 & 0.4120799 & 0.4797128 & 0.6801581 & 0.4932913\\\\\n",
       "\t 0.7529231 & 0.4716679 & 0.5798220 & 0.4064649 & 0.6484725 & 0.6076734 & 0.4469632 & 1.0000000 & 0.8028852 & 0.7095414 & 0.5667249 & 0.5378509 & 0.5003190\\\\\n",
       "\t 0.6787846 & 0.4326113 & 0.5326821 & 0.3731941 & 0.5950063 & 0.5590317 & 0.4155036 & 0.8028852 & 1.0000000 & 0.6829619 & 0.5261481 & 0.4867047 & 0.4652567\\\\\n",
       "\t 0.6137799 & 0.4031804 & 0.5050429 & 0.3641376 & 0.5283675 & 0.4948485 & 0.4120799 & 0.7095414 & 0.6829619 & 1.0000000 & 0.4900305 & 0.4790754 & 0.4470428\\\\\n",
       "\t 0.5689958 & 0.4728562 & 0.5248360 & 0.3708085 & 0.5981445 & 0.5069651 & 0.4797128 & 0.5667249 & 0.5261481 & 0.4900305 & 1.0000000 & 0.5370407 & 0.5077249\\\\\n",
       "\t 0.5148295 & 0.4416382 & 0.4879837 & 0.3555687 & 0.5088167 & 0.4620556 & 0.6801581 & 0.5378509 & 0.4867047 & 0.4790754 & 0.5370407 & 1.0000000 & 0.5389705\\\\\n",
       "\t 0.5075920 & 0.3808171 & 0.4476117 & 0.3026505 & 0.4748662 & 0.4338220 & 0.4932913 & 0.5003190 & 0.4652567 & 0.4470428 & 0.5077249 & 0.5389705 & 1.0000000\\\\\n",
       "\\end{tabular}\n"
      ],
      "text/markdown": [
       "\n",
       "| 1.0000000 | 0.4502911 | 0.5828863 | 0.3910398 | 0.6133986 | 0.5850597 | 0.4262520 | 0.7529231 | 0.6787846 | 0.6137799 | 0.5689958 | 0.5148295 | 0.5075920 |\n",
       "| 0.4502911 | 1.0000000 | 0.4783861 | 0.4091725 | 0.5072364 | 0.4641601 | 0.3939587 | 0.4716679 | 0.4326113 | 0.4031804 | 0.4728562 | 0.4416382 | 0.3808171 |\n",
       "| 0.5828863 | 0.4783861 | 1.0000000 | 0.5317003 | 0.5680175 | 0.5619443 | 0.4188157 | 0.5798220 | 0.5326821 | 0.5050429 | 0.5248360 | 0.4879837 | 0.4476117 |\n",
       "| 0.3910398 | 0.4091725 | 0.5317003 | 1.0000000 | 0.4158435 | 0.3906936 | 0.3107852 | 0.4064649 | 0.3731941 | 0.3641376 | 0.3708085 | 0.3555687 | 0.3026505 |\n",
       "| 0.6133986 | 0.5072364 | 0.5680175 | 0.4158435 | 1.0000000 | 0.6023185 | 0.4439613 | 0.6484725 | 0.5950063 | 0.5283675 | 0.5981445 | 0.5088167 | 0.4748662 |\n",
       "| 0.5850597 | 0.4641601 | 0.5619443 | 0.3906936 | 0.6023185 | 1.0000000 | 0.3999461 | 0.6076734 | 0.5590317 | 0.4948485 | 0.5069651 | 0.4620556 | 0.4338220 |\n",
       "| 0.4262520 | 0.3939587 | 0.4188157 | 0.3107852 | 0.4439613 | 0.3999461 | 1.0000000 | 0.4469632 | 0.4155036 | 0.4120799 | 0.4797128 | 0.6801581 | 0.4932913 |\n",
       "| 0.7529231 | 0.4716679 | 0.5798220 | 0.4064649 | 0.6484725 | 0.6076734 | 0.4469632 | 1.0000000 | 0.8028852 | 0.7095414 | 0.5667249 | 0.5378509 | 0.5003190 |\n",
       "| 0.6787846 | 0.4326113 | 0.5326821 | 0.3731941 | 0.5950063 | 0.5590317 | 0.4155036 | 0.8028852 | 1.0000000 | 0.6829619 | 0.5261481 | 0.4867047 | 0.4652567 |\n",
       "| 0.6137799 | 0.4031804 | 0.5050429 | 0.3641376 | 0.5283675 | 0.4948485 | 0.4120799 | 0.7095414 | 0.6829619 | 1.0000000 | 0.4900305 | 0.4790754 | 0.4470428 |\n",
       "| 0.5689958 | 0.4728562 | 0.5248360 | 0.3708085 | 0.5981445 | 0.5069651 | 0.4797128 | 0.5667249 | 0.5261481 | 0.4900305 | 1.0000000 | 0.5370407 | 0.5077249 |\n",
       "| 0.5148295 | 0.4416382 | 0.4879837 | 0.3555687 | 0.5088167 | 0.4620556 | 0.6801581 | 0.5378509 | 0.4867047 | 0.4790754 | 0.5370407 | 1.0000000 | 0.5389705 |\n",
       "| 0.5075920 | 0.3808171 | 0.4476117 | 0.3026505 | 0.4748662 | 0.4338220 | 0.4932913 | 0.5003190 | 0.4652567 | 0.4470428 | 0.5077249 | 0.5389705 | 1.0000000 |\n",
       "\n"
      ],
      "text/plain": [
       "      [,1]      [,2]      [,3]      [,4]      [,5]      [,6]      [,7]     \n",
       " [1,] 1.0000000 0.4502911 0.5828863 0.3910398 0.6133986 0.5850597 0.4262520\n",
       " [2,] 0.4502911 1.0000000 0.4783861 0.4091725 0.5072364 0.4641601 0.3939587\n",
       " [3,] 0.5828863 0.4783861 1.0000000 0.5317003 0.5680175 0.5619443 0.4188157\n",
       " [4,] 0.3910398 0.4091725 0.5317003 1.0000000 0.4158435 0.3906936 0.3107852\n",
       " [5,] 0.6133986 0.5072364 0.5680175 0.4158435 1.0000000 0.6023185 0.4439613\n",
       " [6,] 0.5850597 0.4641601 0.5619443 0.3906936 0.6023185 1.0000000 0.3999461\n",
       " [7,] 0.4262520 0.3939587 0.4188157 0.3107852 0.4439613 0.3999461 1.0000000\n",
       " [8,] 0.7529231 0.4716679 0.5798220 0.4064649 0.6484725 0.6076734 0.4469632\n",
       " [9,] 0.6787846 0.4326113 0.5326821 0.3731941 0.5950063 0.5590317 0.4155036\n",
       "[10,] 0.6137799 0.4031804 0.5050429 0.3641376 0.5283675 0.4948485 0.4120799\n",
       "[11,] 0.5689958 0.4728562 0.5248360 0.3708085 0.5981445 0.5069651 0.4797128\n",
       "[12,] 0.5148295 0.4416382 0.4879837 0.3555687 0.5088167 0.4620556 0.6801581\n",
       "[13,] 0.5075920 0.3808171 0.4476117 0.3026505 0.4748662 0.4338220 0.4932913\n",
       "      [,8]      [,9]      [,10]     [,11]     [,12]     [,13]    \n",
       " [1,] 0.7529231 0.6787846 0.6137799 0.5689958 0.5148295 0.5075920\n",
       " [2,] 0.4716679 0.4326113 0.4031804 0.4728562 0.4416382 0.3808171\n",
       " [3,] 0.5798220 0.5326821 0.5050429 0.5248360 0.4879837 0.4476117\n",
       " [4,] 0.4064649 0.3731941 0.3641376 0.3708085 0.3555687 0.3026505\n",
       " [5,] 0.6484725 0.5950063 0.5283675 0.5981445 0.5088167 0.4748662\n",
       " [6,] 0.6076734 0.5590317 0.4948485 0.5069651 0.4620556 0.4338220\n",
       " [7,] 0.4469632 0.4155036 0.4120799 0.4797128 0.6801581 0.4932913\n",
       " [8,] 1.0000000 0.8028852 0.7095414 0.5667249 0.5378509 0.5003190\n",
       " [9,] 0.8028852 1.0000000 0.6829619 0.5261481 0.4867047 0.4652567\n",
       "[10,] 0.7095414 0.6829619 1.0000000 0.4900305 0.4790754 0.4470428\n",
       "[11,] 0.5667249 0.5261481 0.4900305 1.0000000 0.5370407 0.5077249\n",
       "[12,] 0.5378509 0.4867047 0.4790754 0.5370407 1.0000000 0.5389705\n",
       "[13,] 0.5003190 0.4652567 0.4470428 0.5077249 0.5389705 1.0000000"
      ]
     },
     "metadata": {},
     "output_type": "display_data"
    }
   ],
   "source": [
    "cor(InSilicoLandMarks, InSilicoLandMarks, method = 'spearman')"
   ]
  },
  {
   "cell_type": "code",
   "execution_count": 24,
   "metadata": {},
   "outputs": [],
   "source": [
    "# assign cells to the closest landmark #\n",
    "InSilicoLandMarkAssignments = assign2landmarks(InSilicoForeGround, InSilicoLandMarks)"
   ]
  },
  {
   "cell_type": "code",
   "execution_count": 25,
   "metadata": {
    "scrolled": false
   },
   "outputs": [
    {
     "data": {
      "text/html": [
       "<ol class=list-inline>\n",
       "\t<li>147423</li>\n",
       "\t<li>13</li>\n",
       "</ol>\n"
      ],
      "text/latex": [
       "\\begin{enumerate*}\n",
       "\\item 147423\n",
       "\\item 13\n",
       "\\end{enumerate*}\n"
      ],
      "text/markdown": [
       "1. 147423\n",
       "2. 13\n",
       "\n",
       "\n"
      ],
      "text/plain": [
       "[1] 147423     13"
      ]
     },
     "metadata": {},
     "output_type": "display_data"
    },
    {
     "data": {
      "text/html": [
       "<table>\n",
       "<tbody>\n",
       "\t<tr><th scope=row>Peak_chr1_3084622_3085850</th><td>0</td><td>0</td><td>0</td><td>0</td><td>0</td><td>0</td><td>0</td><td>0</td><td>0</td><td>0</td><td>0</td><td>0</td><td>0</td></tr>\n",
       "\t<tr><th scope=row>Peak_chr1_3109389_3111052</th><td>0</td><td>0</td><td>0</td><td>0</td><td>0</td><td>0</td><td>0</td><td>0</td><td>0</td><td>0</td><td>0</td><td>0</td><td>0</td></tr>\n",
       "\t<tr><th scope=row>Peak_chr1_3111327_3111863</th><td>0</td><td>0</td><td>0</td><td>0</td><td>0</td><td>0</td><td>0</td><td>0</td><td>0</td><td>0</td><td>0</td><td>0</td><td>0</td></tr>\n",
       "\t<tr><th scope=row>Peak_chr1_3174934_3176608</th><td>0</td><td>0</td><td>0</td><td>0</td><td>0</td><td>0</td><td>0</td><td>0</td><td>0</td><td>0</td><td>0</td><td>0</td><td>0</td></tr>\n",
       "\t<tr><th scope=row>Peak_chr1_3238831_3239934</th><td>0</td><td>0</td><td>0</td><td>0</td><td>0</td><td>0</td><td>0</td><td>0</td><td>0</td><td>0</td><td>0</td><td>0</td><td>0</td></tr>\n",
       "\t<tr><th scope=row>Peak_chr1_3240564_3242233</th><td>0</td><td>0</td><td>0</td><td>0</td><td>0</td><td>0</td><td>0</td><td>0</td><td>0</td><td>0</td><td>0</td><td>0</td><td>0</td></tr>\n",
       "</tbody>\n",
       "</table>\n"
      ],
      "text/latex": [
       "\\begin{tabular}{r|lllllllllllll}\n",
       "\tPeak\\_chr1\\_3084622\\_3085850 & 0 & 0 & 0 & 0 & 0 & 0 & 0 & 0 & 0 & 0 & 0 & 0 & 0\\\\\n",
       "\tPeak\\_chr1\\_3109389\\_3111052 & 0 & 0 & 0 & 0 & 0 & 0 & 0 & 0 & 0 & 0 & 0 & 0 & 0\\\\\n",
       "\tPeak\\_chr1\\_3111327\\_3111863 & 0 & 0 & 0 & 0 & 0 & 0 & 0 & 0 & 0 & 0 & 0 & 0 & 0\\\\\n",
       "\tPeak\\_chr1\\_3174934\\_3176608 & 0 & 0 & 0 & 0 & 0 & 0 & 0 & 0 & 0 & 0 & 0 & 0 & 0\\\\\n",
       "\tPeak\\_chr1\\_3238831\\_3239934 & 0 & 0 & 0 & 0 & 0 & 0 & 0 & 0 & 0 & 0 & 0 & 0 & 0\\\\\n",
       "\tPeak\\_chr1\\_3240564\\_3242233 & 0 & 0 & 0 & 0 & 0 & 0 & 0 & 0 & 0 & 0 & 0 & 0 & 0\\\\\n",
       "\\end{tabular}\n"
      ],
      "text/markdown": [
       "\n",
       "| Peak_chr1_3084622_3085850 | 0 | 0 | 0 | 0 | 0 | 0 | 0 | 0 | 0 | 0 | 0 | 0 | 0 |\n",
       "| Peak_chr1_3109389_3111052 | 0 | 0 | 0 | 0 | 0 | 0 | 0 | 0 | 0 | 0 | 0 | 0 | 0 |\n",
       "| Peak_chr1_3111327_3111863 | 0 | 0 | 0 | 0 | 0 | 0 | 0 | 0 | 0 | 0 | 0 | 0 | 0 |\n",
       "| Peak_chr1_3174934_3176608 | 0 | 0 | 0 | 0 | 0 | 0 | 0 | 0 | 0 | 0 | 0 | 0 | 0 |\n",
       "| Peak_chr1_3238831_3239934 | 0 | 0 | 0 | 0 | 0 | 0 | 0 | 0 | 0 | 0 | 0 | 0 | 0 |\n",
       "| Peak_chr1_3240564_3242233 | 0 | 0 | 0 | 0 | 0 | 0 | 0 | 0 | 0 | 0 | 0 | 0 | 0 |\n",
       "\n"
      ],
      "text/plain": [
       "                          [,1] [,2] [,3] [,4] [,5] [,6] [,7] [,8] [,9] [,10]\n",
       "Peak_chr1_3084622_3085850 0    0    0    0    0    0    0    0    0    0    \n",
       "Peak_chr1_3109389_3111052 0    0    0    0    0    0    0    0    0    0    \n",
       "Peak_chr1_3111327_3111863 0    0    0    0    0    0    0    0    0    0    \n",
       "Peak_chr1_3174934_3176608 0    0    0    0    0    0    0    0    0    0    \n",
       "Peak_chr1_3238831_3239934 0    0    0    0    0    0    0    0    0    0    \n",
       "Peak_chr1_3240564_3242233 0    0    0    0    0    0    0    0    0    0    \n",
       "                          [,11] [,12] [,13]\n",
       "Peak_chr1_3084622_3085850 0     0     0    \n",
       "Peak_chr1_3109389_3111052 0     0     0    \n",
       "Peak_chr1_3111327_3111863 0     0     0    \n",
       "Peak_chr1_3174934_3176608 0     0     0    \n",
       "Peak_chr1_3238831_3239934 0     0     0    \n",
       "Peak_chr1_3240564_3242233 0     0     0    "
      ]
     },
     "metadata": {},
     "output_type": "display_data"
    }
   ],
   "source": [
    "dim(InSilicoLandMarks)\n",
    "head(InSilicoLandMarks)"
   ]
  },
  {
   "cell_type": "code",
   "execution_count": null,
   "metadata": {},
   "outputs": [],
   "source": [
    "InSilicoCell2LandmarkCorrelation = do.call(cbind, \n",
    "                                           lapply(seq(length(unique(metadata$label))), \n",
    "                                                  function(i) apply(InSilicoForeGround, 2, \n",
    "                                                                    function(x) cor(x, InSilicoLandMarks[,i], method = 'spearman'))))"
   ]
  },
  {
   "cell_type": "code",
   "execution_count": null,
   "metadata": {},
   "outputs": [],
   "source": [
    "dim(InSilicoCell2LandmarkCorrelation)\n",
    "InSilicoCell2LandmarkCorrelation[1:5,1:5]"
   ]
  },
  {
   "cell_type": "code",
   "execution_count": null,
   "metadata": {},
   "outputs": [],
   "source": [
    "InSilicoLandMarkAssignments_sorted <- InSilicoLandMarkAssignments[order(InSilicoLandMarkAssignments)]\n",
    "InSilicoCell2LandmarkCorrelation_sorted <- InSilicoCell2LandmarkCorrelation[names(InSilicoLandMarkAssignments_sorted),]"
   ]
  },
  {
   "cell_type": "code",
   "execution_count": 46,
   "metadata": {},
   "outputs": [
    {
     "data": {
      "text/html": [
       "<table>\n",
       "<tbody>\n",
       "\t<tr><th scope=row>../../input/sc-bams_nodup//BoneMarrow_62016.AGCGATAGAGATTACGTTGCGCAATGACGTACTGAC.header.bam</th><td>0.15037825</td><td>0.08100556</td><td>0.09970500</td><td>0.07487623</td><td>0.10867135</td><td>0.10783935</td><td>0.08097096</td><td>0.12848284</td><td>0.12549406</td><td>0.10458567</td><td>0.10517637</td><td>0.09236745</td><td>0.09934552</td></tr>\n",
       "\t<tr><th scope=row>../../input/sc-bams_nodup//BoneMarrow_62016.AGCGATAGAGTTGAATCAAAGCTAGGTTCCTATCCT.header.bam</th><td>0.02254813</td><td>0.01167650</td><td>0.01717296</td><td>0.01222310</td><td>0.01361289</td><td>0.01319279</td><td>0.01381670</td><td>0.01980719</td><td>0.02092724</td><td>0.02139908</td><td>0.01926243</td><td>0.01614836</td><td>0.01441729</td></tr>\n",
       "\t<tr><th scope=row>../../input/sc-bams_nodup//BoneMarrow_62016.AGCGATAGATGGCGCCTGCTTAATCTTGGTACTGAC.header.bam</th><td>0.07982147</td><td>0.03168394</td><td>0.06199784</td><td>0.04273903</td><td>0.04101516</td><td>0.04706886</td><td>0.03759681</td><td>0.05680032</td><td>0.04660285</td><td>0.04887604</td><td>0.04069325</td><td>0.04219200</td><td>0.03981479</td></tr>\n",
       "\t<tr><th scope=row>../../input/sc-bams_nodup//BoneMarrow_62016.AGCGATAGCCGCTAAGAGTCCGCGGACTATAGAGGC.header.bam</th><td>0.09332764</td><td>0.05470010</td><td>0.06528551</td><td>0.06023007</td><td>0.07070460</td><td>0.06730417</td><td>0.04801937</td><td>0.08351262</td><td>0.07833204</td><td>0.07596945</td><td>0.05664343</td><td>0.05437833</td><td>0.05871448</td></tr>\n",
       "\t<tr><th scope=row>../../input/sc-bams_nodup//BoneMarrow_62016.AGCGATAGCTAATTGCGATCCGCGGACTAGGCGAAG.header.bam</th><td>0.13298426</td><td>0.07647489</td><td>0.08945609</td><td>0.06134983</td><td>0.09372020</td><td>0.09838101</td><td>0.07392224</td><td>0.11821980</td><td>0.11236638</td><td>0.10301981</td><td>0.08600142</td><td>0.08108829</td><td>0.07482789</td></tr>\n",
       "\t<tr><th scope=row>../../input/sc-bams_nodup//BoneMarrow_62016.AGCGATAGCTCAATTAGTAAGCTAGGTTAGGCGAAG.header.bam</th><td>0.19314251</td><td>0.11728222</td><td>0.13639938</td><td>0.10323081</td><td>0.16583521</td><td>0.14759743</td><td>0.11103057</td><td>0.18328654</td><td>0.16987117</td><td>0.15700288</td><td>0.14417240</td><td>0.13356430</td><td>0.12417066</td></tr>\n",
       "</tbody>\n",
       "</table>\n"
      ],
      "text/latex": [
       "\\begin{tabular}{r|lllllllllllll}\n",
       "\t../../input/sc-bams\\_nodup//BoneMarrow\\_62016.AGCGATAGAGATTACGTTGCGCAATGACGTACTGAC.header.bam & 0.15037825 & 0.08100556 & 0.09970500 & 0.07487623 & 0.10867135 & 0.10783935 & 0.08097096 & 0.12848284 & 0.12549406 & 0.10458567 & 0.10517637 & 0.09236745 & 0.09934552\\\\\n",
       "\t../../input/sc-bams\\_nodup//BoneMarrow\\_62016.AGCGATAGAGTTGAATCAAAGCTAGGTTCCTATCCT.header.bam & 0.02254813 & 0.01167650 & 0.01717296 & 0.01222310 & 0.01361289 & 0.01319279 & 0.01381670 & 0.01980719 & 0.02092724 & 0.02139908 & 0.01926243 & 0.01614836 & 0.01441729\\\\\n",
       "\t../../input/sc-bams\\_nodup//BoneMarrow\\_62016.AGCGATAGATGGCGCCTGCTTAATCTTGGTACTGAC.header.bam & 0.07982147 & 0.03168394 & 0.06199784 & 0.04273903 & 0.04101516 & 0.04706886 & 0.03759681 & 0.05680032 & 0.04660285 & 0.04887604 & 0.04069325 & 0.04219200 & 0.03981479\\\\\n",
       "\t../../input/sc-bams\\_nodup//BoneMarrow\\_62016.AGCGATAGCCGCTAAGAGTCCGCGGACTATAGAGGC.header.bam & 0.09332764 & 0.05470010 & 0.06528551 & 0.06023007 & 0.07070460 & 0.06730417 & 0.04801937 & 0.08351262 & 0.07833204 & 0.07596945 & 0.05664343 & 0.05437833 & 0.05871448\\\\\n",
       "\t../../input/sc-bams\\_nodup//BoneMarrow\\_62016.AGCGATAGCTAATTGCGATCCGCGGACTAGGCGAAG.header.bam & 0.13298426 & 0.07647489 & 0.08945609 & 0.06134983 & 0.09372020 & 0.09838101 & 0.07392224 & 0.11821980 & 0.11236638 & 0.10301981 & 0.08600142 & 0.08108829 & 0.07482789\\\\\n",
       "\t../../input/sc-bams\\_nodup//BoneMarrow\\_62016.AGCGATAGCTCAATTAGTAAGCTAGGTTAGGCGAAG.header.bam & 0.19314251 & 0.11728222 & 0.13639938 & 0.10323081 & 0.16583521 & 0.14759743 & 0.11103057 & 0.18328654 & 0.16987117 & 0.15700288 & 0.14417240 & 0.13356430 & 0.12417066\\\\\n",
       "\\end{tabular}\n"
      ],
      "text/markdown": [
       "\n",
       "| ../../input/sc-bams_nodup//BoneMarrow_62016.AGCGATAGAGATTACGTTGCGCAATGACGTACTGAC.header.bam | 0.15037825 | 0.08100556 | 0.09970500 | 0.07487623 | 0.10867135 | 0.10783935 | 0.08097096 | 0.12848284 | 0.12549406 | 0.10458567 | 0.10517637 | 0.09236745 | 0.09934552 |\n",
       "| ../../input/sc-bams_nodup//BoneMarrow_62016.AGCGATAGAGTTGAATCAAAGCTAGGTTCCTATCCT.header.bam | 0.02254813 | 0.01167650 | 0.01717296 | 0.01222310 | 0.01361289 | 0.01319279 | 0.01381670 | 0.01980719 | 0.02092724 | 0.02139908 | 0.01926243 | 0.01614836 | 0.01441729 |\n",
       "| ../../input/sc-bams_nodup//BoneMarrow_62016.AGCGATAGATGGCGCCTGCTTAATCTTGGTACTGAC.header.bam | 0.07982147 | 0.03168394 | 0.06199784 | 0.04273903 | 0.04101516 | 0.04706886 | 0.03759681 | 0.05680032 | 0.04660285 | 0.04887604 | 0.04069325 | 0.04219200 | 0.03981479 |\n",
       "| ../../input/sc-bams_nodup//BoneMarrow_62016.AGCGATAGCCGCTAAGAGTCCGCGGACTATAGAGGC.header.bam | 0.09332764 | 0.05470010 | 0.06528551 | 0.06023007 | 0.07070460 | 0.06730417 | 0.04801937 | 0.08351262 | 0.07833204 | 0.07596945 | 0.05664343 | 0.05437833 | 0.05871448 |\n",
       "| ../../input/sc-bams_nodup//BoneMarrow_62016.AGCGATAGCTAATTGCGATCCGCGGACTAGGCGAAG.header.bam | 0.13298426 | 0.07647489 | 0.08945609 | 0.06134983 | 0.09372020 | 0.09838101 | 0.07392224 | 0.11821980 | 0.11236638 | 0.10301981 | 0.08600142 | 0.08108829 | 0.07482789 |\n",
       "| ../../input/sc-bams_nodup//BoneMarrow_62016.AGCGATAGCTCAATTAGTAAGCTAGGTTAGGCGAAG.header.bam | 0.19314251 | 0.11728222 | 0.13639938 | 0.10323081 | 0.16583521 | 0.14759743 | 0.11103057 | 0.18328654 | 0.16987117 | 0.15700288 | 0.14417240 | 0.13356430 | 0.12417066 |\n",
       "\n"
      ],
      "text/plain": [
       "                                                                                            [,1]      \n",
       "../../input/sc-bams_nodup//BoneMarrow_62016.AGCGATAGAGATTACGTTGCGCAATGACGTACTGAC.header.bam 0.15037825\n",
       "../../input/sc-bams_nodup//BoneMarrow_62016.AGCGATAGAGTTGAATCAAAGCTAGGTTCCTATCCT.header.bam 0.02254813\n",
       "../../input/sc-bams_nodup//BoneMarrow_62016.AGCGATAGATGGCGCCTGCTTAATCTTGGTACTGAC.header.bam 0.07982147\n",
       "../../input/sc-bams_nodup//BoneMarrow_62016.AGCGATAGCCGCTAAGAGTCCGCGGACTATAGAGGC.header.bam 0.09332764\n",
       "../../input/sc-bams_nodup//BoneMarrow_62016.AGCGATAGCTAATTGCGATCCGCGGACTAGGCGAAG.header.bam 0.13298426\n",
       "../../input/sc-bams_nodup//BoneMarrow_62016.AGCGATAGCTCAATTAGTAAGCTAGGTTAGGCGAAG.header.bam 0.19314251\n",
       "                                                                                            [,2]      \n",
       "../../input/sc-bams_nodup//BoneMarrow_62016.AGCGATAGAGATTACGTTGCGCAATGACGTACTGAC.header.bam 0.08100556\n",
       "../../input/sc-bams_nodup//BoneMarrow_62016.AGCGATAGAGTTGAATCAAAGCTAGGTTCCTATCCT.header.bam 0.01167650\n",
       "../../input/sc-bams_nodup//BoneMarrow_62016.AGCGATAGATGGCGCCTGCTTAATCTTGGTACTGAC.header.bam 0.03168394\n",
       "../../input/sc-bams_nodup//BoneMarrow_62016.AGCGATAGCCGCTAAGAGTCCGCGGACTATAGAGGC.header.bam 0.05470010\n",
       "../../input/sc-bams_nodup//BoneMarrow_62016.AGCGATAGCTAATTGCGATCCGCGGACTAGGCGAAG.header.bam 0.07647489\n",
       "../../input/sc-bams_nodup//BoneMarrow_62016.AGCGATAGCTCAATTAGTAAGCTAGGTTAGGCGAAG.header.bam 0.11728222\n",
       "                                                                                            [,3]      \n",
       "../../input/sc-bams_nodup//BoneMarrow_62016.AGCGATAGAGATTACGTTGCGCAATGACGTACTGAC.header.bam 0.09970500\n",
       "../../input/sc-bams_nodup//BoneMarrow_62016.AGCGATAGAGTTGAATCAAAGCTAGGTTCCTATCCT.header.bam 0.01717296\n",
       "../../input/sc-bams_nodup//BoneMarrow_62016.AGCGATAGATGGCGCCTGCTTAATCTTGGTACTGAC.header.bam 0.06199784\n",
       "../../input/sc-bams_nodup//BoneMarrow_62016.AGCGATAGCCGCTAAGAGTCCGCGGACTATAGAGGC.header.bam 0.06528551\n",
       "../../input/sc-bams_nodup//BoneMarrow_62016.AGCGATAGCTAATTGCGATCCGCGGACTAGGCGAAG.header.bam 0.08945609\n",
       "../../input/sc-bams_nodup//BoneMarrow_62016.AGCGATAGCTCAATTAGTAAGCTAGGTTAGGCGAAG.header.bam 0.13639938\n",
       "                                                                                            [,4]      \n",
       "../../input/sc-bams_nodup//BoneMarrow_62016.AGCGATAGAGATTACGTTGCGCAATGACGTACTGAC.header.bam 0.07487623\n",
       "../../input/sc-bams_nodup//BoneMarrow_62016.AGCGATAGAGTTGAATCAAAGCTAGGTTCCTATCCT.header.bam 0.01222310\n",
       "../../input/sc-bams_nodup//BoneMarrow_62016.AGCGATAGATGGCGCCTGCTTAATCTTGGTACTGAC.header.bam 0.04273903\n",
       "../../input/sc-bams_nodup//BoneMarrow_62016.AGCGATAGCCGCTAAGAGTCCGCGGACTATAGAGGC.header.bam 0.06023007\n",
       "../../input/sc-bams_nodup//BoneMarrow_62016.AGCGATAGCTAATTGCGATCCGCGGACTAGGCGAAG.header.bam 0.06134983\n",
       "../../input/sc-bams_nodup//BoneMarrow_62016.AGCGATAGCTCAATTAGTAAGCTAGGTTAGGCGAAG.header.bam 0.10323081\n",
       "                                                                                            [,5]      \n",
       "../../input/sc-bams_nodup//BoneMarrow_62016.AGCGATAGAGATTACGTTGCGCAATGACGTACTGAC.header.bam 0.10867135\n",
       "../../input/sc-bams_nodup//BoneMarrow_62016.AGCGATAGAGTTGAATCAAAGCTAGGTTCCTATCCT.header.bam 0.01361289\n",
       "../../input/sc-bams_nodup//BoneMarrow_62016.AGCGATAGATGGCGCCTGCTTAATCTTGGTACTGAC.header.bam 0.04101516\n",
       "../../input/sc-bams_nodup//BoneMarrow_62016.AGCGATAGCCGCTAAGAGTCCGCGGACTATAGAGGC.header.bam 0.07070460\n",
       "../../input/sc-bams_nodup//BoneMarrow_62016.AGCGATAGCTAATTGCGATCCGCGGACTAGGCGAAG.header.bam 0.09372020\n",
       "../../input/sc-bams_nodup//BoneMarrow_62016.AGCGATAGCTCAATTAGTAAGCTAGGTTAGGCGAAG.header.bam 0.16583521\n",
       "                                                                                            [,6]      \n",
       "../../input/sc-bams_nodup//BoneMarrow_62016.AGCGATAGAGATTACGTTGCGCAATGACGTACTGAC.header.bam 0.10783935\n",
       "../../input/sc-bams_nodup//BoneMarrow_62016.AGCGATAGAGTTGAATCAAAGCTAGGTTCCTATCCT.header.bam 0.01319279\n",
       "../../input/sc-bams_nodup//BoneMarrow_62016.AGCGATAGATGGCGCCTGCTTAATCTTGGTACTGAC.header.bam 0.04706886\n",
       "../../input/sc-bams_nodup//BoneMarrow_62016.AGCGATAGCCGCTAAGAGTCCGCGGACTATAGAGGC.header.bam 0.06730417\n",
       "../../input/sc-bams_nodup//BoneMarrow_62016.AGCGATAGCTAATTGCGATCCGCGGACTAGGCGAAG.header.bam 0.09838101\n",
       "../../input/sc-bams_nodup//BoneMarrow_62016.AGCGATAGCTCAATTAGTAAGCTAGGTTAGGCGAAG.header.bam 0.14759743\n",
       "                                                                                            [,7]      \n",
       "../../input/sc-bams_nodup//BoneMarrow_62016.AGCGATAGAGATTACGTTGCGCAATGACGTACTGAC.header.bam 0.08097096\n",
       "../../input/sc-bams_nodup//BoneMarrow_62016.AGCGATAGAGTTGAATCAAAGCTAGGTTCCTATCCT.header.bam 0.01381670\n",
       "../../input/sc-bams_nodup//BoneMarrow_62016.AGCGATAGATGGCGCCTGCTTAATCTTGGTACTGAC.header.bam 0.03759681\n",
       "../../input/sc-bams_nodup//BoneMarrow_62016.AGCGATAGCCGCTAAGAGTCCGCGGACTATAGAGGC.header.bam 0.04801937\n",
       "../../input/sc-bams_nodup//BoneMarrow_62016.AGCGATAGCTAATTGCGATCCGCGGACTAGGCGAAG.header.bam 0.07392224\n",
       "../../input/sc-bams_nodup//BoneMarrow_62016.AGCGATAGCTCAATTAGTAAGCTAGGTTAGGCGAAG.header.bam 0.11103057\n",
       "                                                                                            [,8]      \n",
       "../../input/sc-bams_nodup//BoneMarrow_62016.AGCGATAGAGATTACGTTGCGCAATGACGTACTGAC.header.bam 0.12848284\n",
       "../../input/sc-bams_nodup//BoneMarrow_62016.AGCGATAGAGTTGAATCAAAGCTAGGTTCCTATCCT.header.bam 0.01980719\n",
       "../../input/sc-bams_nodup//BoneMarrow_62016.AGCGATAGATGGCGCCTGCTTAATCTTGGTACTGAC.header.bam 0.05680032\n",
       "../../input/sc-bams_nodup//BoneMarrow_62016.AGCGATAGCCGCTAAGAGTCCGCGGACTATAGAGGC.header.bam 0.08351262\n",
       "../../input/sc-bams_nodup//BoneMarrow_62016.AGCGATAGCTAATTGCGATCCGCGGACTAGGCGAAG.header.bam 0.11821980\n",
       "../../input/sc-bams_nodup//BoneMarrow_62016.AGCGATAGCTCAATTAGTAAGCTAGGTTAGGCGAAG.header.bam 0.18328654\n",
       "                                                                                            [,9]      \n",
       "../../input/sc-bams_nodup//BoneMarrow_62016.AGCGATAGAGATTACGTTGCGCAATGACGTACTGAC.header.bam 0.12549406\n",
       "../../input/sc-bams_nodup//BoneMarrow_62016.AGCGATAGAGTTGAATCAAAGCTAGGTTCCTATCCT.header.bam 0.02092724\n",
       "../../input/sc-bams_nodup//BoneMarrow_62016.AGCGATAGATGGCGCCTGCTTAATCTTGGTACTGAC.header.bam 0.04660285\n",
       "../../input/sc-bams_nodup//BoneMarrow_62016.AGCGATAGCCGCTAAGAGTCCGCGGACTATAGAGGC.header.bam 0.07833204\n",
       "../../input/sc-bams_nodup//BoneMarrow_62016.AGCGATAGCTAATTGCGATCCGCGGACTAGGCGAAG.header.bam 0.11236638\n",
       "../../input/sc-bams_nodup//BoneMarrow_62016.AGCGATAGCTCAATTAGTAAGCTAGGTTAGGCGAAG.header.bam 0.16987117\n",
       "                                                                                            [,10]     \n",
       "../../input/sc-bams_nodup//BoneMarrow_62016.AGCGATAGAGATTACGTTGCGCAATGACGTACTGAC.header.bam 0.10458567\n",
       "../../input/sc-bams_nodup//BoneMarrow_62016.AGCGATAGAGTTGAATCAAAGCTAGGTTCCTATCCT.header.bam 0.02139908\n",
       "../../input/sc-bams_nodup//BoneMarrow_62016.AGCGATAGATGGCGCCTGCTTAATCTTGGTACTGAC.header.bam 0.04887604\n",
       "../../input/sc-bams_nodup//BoneMarrow_62016.AGCGATAGCCGCTAAGAGTCCGCGGACTATAGAGGC.header.bam 0.07596945\n",
       "../../input/sc-bams_nodup//BoneMarrow_62016.AGCGATAGCTAATTGCGATCCGCGGACTAGGCGAAG.header.bam 0.10301981\n",
       "../../input/sc-bams_nodup//BoneMarrow_62016.AGCGATAGCTCAATTAGTAAGCTAGGTTAGGCGAAG.header.bam 0.15700288\n",
       "                                                                                            [,11]     \n",
       "../../input/sc-bams_nodup//BoneMarrow_62016.AGCGATAGAGATTACGTTGCGCAATGACGTACTGAC.header.bam 0.10517637\n",
       "../../input/sc-bams_nodup//BoneMarrow_62016.AGCGATAGAGTTGAATCAAAGCTAGGTTCCTATCCT.header.bam 0.01926243\n",
       "../../input/sc-bams_nodup//BoneMarrow_62016.AGCGATAGATGGCGCCTGCTTAATCTTGGTACTGAC.header.bam 0.04069325\n",
       "../../input/sc-bams_nodup//BoneMarrow_62016.AGCGATAGCCGCTAAGAGTCCGCGGACTATAGAGGC.header.bam 0.05664343\n",
       "../../input/sc-bams_nodup//BoneMarrow_62016.AGCGATAGCTAATTGCGATCCGCGGACTAGGCGAAG.header.bam 0.08600142\n",
       "../../input/sc-bams_nodup//BoneMarrow_62016.AGCGATAGCTCAATTAGTAAGCTAGGTTAGGCGAAG.header.bam 0.14417240\n",
       "                                                                                            [,12]     \n",
       "../../input/sc-bams_nodup//BoneMarrow_62016.AGCGATAGAGATTACGTTGCGCAATGACGTACTGAC.header.bam 0.09236745\n",
       "../../input/sc-bams_nodup//BoneMarrow_62016.AGCGATAGAGTTGAATCAAAGCTAGGTTCCTATCCT.header.bam 0.01614836\n",
       "../../input/sc-bams_nodup//BoneMarrow_62016.AGCGATAGATGGCGCCTGCTTAATCTTGGTACTGAC.header.bam 0.04219200\n",
       "../../input/sc-bams_nodup//BoneMarrow_62016.AGCGATAGCCGCTAAGAGTCCGCGGACTATAGAGGC.header.bam 0.05437833\n",
       "../../input/sc-bams_nodup//BoneMarrow_62016.AGCGATAGCTAATTGCGATCCGCGGACTAGGCGAAG.header.bam 0.08108829\n",
       "../../input/sc-bams_nodup//BoneMarrow_62016.AGCGATAGCTCAATTAGTAAGCTAGGTTAGGCGAAG.header.bam 0.13356430\n",
       "                                                                                            [,13]     \n",
       "../../input/sc-bams_nodup//BoneMarrow_62016.AGCGATAGAGATTACGTTGCGCAATGACGTACTGAC.header.bam 0.09934552\n",
       "../../input/sc-bams_nodup//BoneMarrow_62016.AGCGATAGAGTTGAATCAAAGCTAGGTTCCTATCCT.header.bam 0.01441729\n",
       "../../input/sc-bams_nodup//BoneMarrow_62016.AGCGATAGATGGCGCCTGCTTAATCTTGGTACTGAC.header.bam 0.03981479\n",
       "../../input/sc-bams_nodup//BoneMarrow_62016.AGCGATAGCCGCTAAGAGTCCGCGGACTATAGAGGC.header.bam 0.05871448\n",
       "../../input/sc-bams_nodup//BoneMarrow_62016.AGCGATAGCTAATTGCGATCCGCGGACTAGGCGAAG.header.bam 0.07482789\n",
       "../../input/sc-bams_nodup//BoneMarrow_62016.AGCGATAGCTCAATTAGTAAGCTAGGTTAGGCGAAG.header.bam 0.12417066"
      ]
     },
     "metadata": {},
     "output_type": "display_data"
    }
   ],
   "source": [
    "head(InSilicoCell2LandmarkCorrelation_sorted)"
   ]
  },
  {
   "cell_type": "code",
   "execution_count": 47,
   "metadata": {},
   "outputs": [
    {
     "data": {
      "text/html": [
       "<ol class=list-inline>\n",
       "\t<li>'AGCGATAGAGATTACGTTGCGCAATGACGTACTGAC'</li>\n",
       "\t<li>'AGCGATAGAGTTGAATCAAAGCTAGGTTCCTATCCT'</li>\n",
       "\t<li>'AGCGATAGATGGCGCCTGCTTAATCTTGGTACTGAC'</li>\n",
       "\t<li>'AGCGATAGCCGCTAAGAGTCCGCGGACTATAGAGGC'</li>\n",
       "\t<li>'AGCGATAGCTAATTGCGATCCGCGGACTAGGCGAAG'</li>\n",
       "\t<li>'AGCGATAGCTCAATTAGTAAGCTAGGTTAGGCGAAG'</li>\n",
       "</ol>\n"
      ],
      "text/latex": [
       "\\begin{enumerate*}\n",
       "\\item 'AGCGATAGAGATTACGTTGCGCAATGACGTACTGAC'\n",
       "\\item 'AGCGATAGAGTTGAATCAAAGCTAGGTTCCTATCCT'\n",
       "\\item 'AGCGATAGATGGCGCCTGCTTAATCTTGGTACTGAC'\n",
       "\\item 'AGCGATAGCCGCTAAGAGTCCGCGGACTATAGAGGC'\n",
       "\\item 'AGCGATAGCTAATTGCGATCCGCGGACTAGGCGAAG'\n",
       "\\item 'AGCGATAGCTCAATTAGTAAGCTAGGTTAGGCGAAG'\n",
       "\\end{enumerate*}\n"
      ],
      "text/markdown": [
       "1. 'AGCGATAGAGATTACGTTGCGCAATGACGTACTGAC'\n",
       "2. 'AGCGATAGAGTTGAATCAAAGCTAGGTTCCTATCCT'\n",
       "3. 'AGCGATAGATGGCGCCTGCTTAATCTTGGTACTGAC'\n",
       "4. 'AGCGATAGCCGCTAAGAGTCCGCGGACTATAGAGGC'\n",
       "5. 'AGCGATAGCTAATTGCGATCCGCGGACTAGGCGAAG'\n",
       "6. 'AGCGATAGCTCAATTAGTAAGCTAGGTTAGGCGAAG'\n",
       "\n",
       "\n"
      ],
      "text/plain": [
       "[1] \"AGCGATAGAGATTACGTTGCGCAATGACGTACTGAC\"\n",
       "[2] \"AGCGATAGAGTTGAATCAAAGCTAGGTTCCTATCCT\"\n",
       "[3] \"AGCGATAGATGGCGCCTGCTTAATCTTGGTACTGAC\"\n",
       "[4] \"AGCGATAGCCGCTAAGAGTCCGCGGACTATAGAGGC\"\n",
       "[5] \"AGCGATAGCTAATTGCGATCCGCGGACTAGGCGAAG\"\n",
       "[6] \"AGCGATAGCTCAATTAGTAAGCTAGGTTAGGCGAAG\""
      ]
     },
     "metadata": {},
     "output_type": "display_data"
    },
    {
     "data": {
      "text/html": [
       "<ol class=list-inline>\n",
       "\t<li>1</li>\n",
       "\t<li>1</li>\n",
       "\t<li>1</li>\n",
       "\t<li>1</li>\n",
       "\t<li>1</li>\n",
       "\t<li>1</li>\n",
       "</ol>\n"
      ],
      "text/latex": [
       "\\begin{enumerate*}\n",
       "\\item 1\n",
       "\\item 1\n",
       "\\item 1\n",
       "\\item 1\n",
       "\\item 1\n",
       "\\item 1\n",
       "\\end{enumerate*}\n"
      ],
      "text/markdown": [
       "1. 1\n",
       "2. 1\n",
       "3. 1\n",
       "4. 1\n",
       "5. 1\n",
       "6. 1\n",
       "\n",
       "\n"
      ],
      "text/plain": [
       "[1] 1 1 1 1 1 1"
      ]
     },
     "metadata": {},
     "output_type": "display_data"
    }
   ],
   "source": [
    "cell.ids = sapply(strsplit(basename(names(InSilicoLandMarkAssignments_sorted)),'\\\\.'),'[', 2)\n",
    "head(cell.ids)\n",
    "cell.labels = metadata[cell.ids,'label']\n",
    "cell.info = match(metadata[cell.ids,'label'],unique(metadata[,'label']))\n",
    "head(cell.info)"
   ]
  },
  {
   "cell_type": "code",
   "execution_count": 48,
   "metadata": {},
   "outputs": [],
   "source": [
    "scalered <- colorRampPalette(c(\"white\", \"red\"), space = \"rgb\")(256)\n",
    "rcols1 = colorRampPalette(brewer.pal(8, \"Accent\"))(length(unique(metadata$label)))\n",
    "rowcols1 = rcols1[cell.info]\n",
    "rcols2 = colorRampPalette(brewer.pal(8, \"Dark2\"))(length(unique(metadata$label)))\n",
    "rowcols2 = rcols2[InSilicoLandMarkAssignments_sorted]\n",
    "rowcols = rbind(rowcols1, rowcols2)\n",
    "rownames(rowcols) = c(\"cell label\", \"cluster\")"
   ]
  },
  {
   "cell_type": "code",
   "execution_count": 49,
   "metadata": {},
   "outputs": [
    {
     "data": {
      "text/html": [
       "<table>\n",
       "<tbody>\n",
       "\t<tr><th scope=row>cell label</th><td>#7FC97F</td><td>#7FC97F</td><td>#7FC97F</td><td>#7FC97F</td><td>#7FC97F</td></tr>\n",
       "\t<tr><th scope=row>cluster</th><td>#1B9E77</td><td>#1B9E77</td><td>#1B9E77</td><td>#1B9E77</td><td>#1B9E77</td></tr>\n",
       "</tbody>\n",
       "</table>\n"
      ],
      "text/latex": [
       "\\begin{tabular}{r|lllll}\n",
       "\tcell label & \\#7FC97F & \\#7FC97F & \\#7FC97F & \\#7FC97F & \\#7FC97F\\\\\n",
       "\tcluster & \\#1B9E77 & \\#1B9E77 & \\#1B9E77 & \\#1B9E77 & \\#1B9E77\\\\\n",
       "\\end{tabular}\n"
      ],
      "text/markdown": [
       "\n",
       "| cell label | #7FC97F | #7FC97F | #7FC97F | #7FC97F | #7FC97F |\n",
       "| cluster | #1B9E77 | #1B9E77 | #1B9E77 | #1B9E77 | #1B9E77 |\n",
       "\n"
      ],
      "text/plain": [
       "           [,1]    [,2]    [,3]    [,4]    [,5]   \n",
       "cell label #7FC97F #7FC97F #7FC97F #7FC97F #7FC97F\n",
       "cluster    #1B9E77 #1B9E77 #1B9E77 #1B9E77 #1B9E77"
      ]
     },
     "metadata": {},
     "output_type": "display_data"
    }
   ],
   "source": [
    "rowcols[,1:5]"
   ]
  },
  {
   "cell_type": "code",
   "execution_count": 50,
   "metadata": {},
   "outputs": [
    {
     "data": {
      "image/png": "[encoded data removed]",
      "text/plain": [
       "Plot with title “Color Key”"
      ]
     },
     "metadata": {},
     "output_type": "display_data"
    }
   ],
   "source": [
    "heatmap.3(InSilicoCell2LandmarkCorrelation_sorted, dendrogram='none', Rowv=FALSE, Colv=FALSE,\n",
    "          trace='none', col = scalered, margin = c(5, 5), density.info = \"none\", \n",
    "          RowSideColors = rowcols, RowSideColorsSize=2, symm=F,symkey=F,\n",
    "          symbreaks=F, scale=\"none\")\n",
    "legend(\"bottomleft\", legend = c(unique(cell.labels), paste0(\"cluster \", 1:length(unique(metadata$label)))), \n",
    "       col = c(rcols1, rcols2), border=FALSE, bty=\"n\", y.intersp = 0.7, cex=0.7, pch = 15)"
   ]
  },
  {
   "cell_type": "code",
   "execution_count": null,
   "metadata": {},
   "outputs": [],
   "source": []
  },
  {
   "cell_type": "code",
   "execution_count": 51,
   "metadata": {},
   "outputs": [
    {
     "data": {
      "text/plain": [
       "R version 3.5.1 (2018-07-02)\n",
       "Platform: x86_64-conda_cos6-linux-gnu (64-bit)\n",
       "Running under: CentOS Linux 7 (Core)\n",
       "\n",
       "Matrix products: default\n",
       "BLAS/LAPACK: /data/pinello/SHARED_SOFTWARE/anaconda3/envs/ATACseq_scABC/lib/R/lib/libRblas.so\n",
       "\n",
       "locale:\n",
       " [1] LC_CTYPE=en_US.UTF-8       LC_NUMERIC=C              \n",
       " [3] LC_TIME=en_US.UTF-8        LC_COLLATE=en_US.UTF-8    \n",
       " [5] LC_MONETARY=en_US.UTF-8    LC_MESSAGES=en_US.UTF-8   \n",
       " [7] LC_PAPER=en_US.UTF-8       LC_NAME=C                 \n",
       " [9] LC_ADDRESS=C               LC_TELEPHONE=C            \n",
       "[11] LC_MEASUREMENT=en_US.UTF-8 LC_IDENTIFICATION=C       \n",
       "\n",
       "attached base packages:\n",
       "[1] parallel  stats4    stats     graphics  grDevices utils     datasets \n",
       "[8] methods   base     \n",
       "\n",
       "other attached packages:\n",
       " [1] usethis_1.4.0        devtools_2.0.1       RColorBrewer_1.1-2  \n",
       " [4] gplots_3.0.1.1       Matrix_1.2-17        forcats_0.4.0       \n",
       " [7] stringr_1.4.0        purrr_0.3.2          readr_1.3.1         \n",
       "[10] tidyr_0.8.3          tibble_2.1.1         ggplot2_3.1.0       \n",
       "[13] tidyverse_1.2.1      dplyr_0.8.0.1        data.table_1.12.0   \n",
       "[16] Rsamtools_1.34.1     Biostrings_2.50.2    XVector_0.22.0      \n",
       "[19] scABC_0.99.0         GenomicRanges_1.34.0 GenomeInfoDb_1.18.2 \n",
       "[22] IRanges_2.16.0       S4Vectors_0.20.1     BiocGenerics_0.28.0 \n",
       "\n",
       "loaded via a namespace (and not attached):\n",
       " [1] nlme_3.1-137           fs_1.2.7               bitops_1.0-6          \n",
       " [4] lubridate_1.7.4        httr_1.4.0             rprojroot_1.3-2       \n",
       " [7] repr_0.19.2            tools_3.5.1            backports_1.1.3       \n",
       "[10] R6_2.4.0               rpart_4.1-13           KernSmooth_2.23-15    \n",
       "[13] Hmisc_4.2-0            lazyeval_0.2.2         colorspace_1.4-1      \n",
       "[16] nnet_7.3-12            withr_2.1.2            prettyunits_1.0.2     \n",
       "[19] processx_3.3.0         tidyselect_0.2.5       gridExtra_2.3         \n",
       "[22] curl_3.3               compiler_3.5.1         cli_1.1.0             \n",
       "[25] rvest_0.3.2            htmlTable_1.13.1       xml2_1.2.0            \n",
       "[28] desc_1.2.0             caTools_1.17.1.2       scales_1.0.0          \n",
       "[31] checkmate_1.9.1        callr_3.2.0            pbdZMQ_0.3-3          \n",
       "[34] digest_0.6.18          foreign_0.8-71         base64enc_0.1-3       \n",
       "[37] pkgconfig_2.0.2        htmltools_0.3.6        sessioninfo_1.1.1     \n",
       "[40] htmlwidgets_1.3        rlang_0.3.3            readxl_1.3.1          \n",
       "[43] rstudioapi_0.10        generics_0.0.2         jsonlite_1.6          \n",
       "[46] BiocParallel_1.16.6    gtools_3.8.1           acepack_1.4.1         \n",
       "[49] RCurl_1.95-4.12        magrittr_1.5           GenomeInfoDbData_1.2.0\n",
       "[52] Formula_1.2-3          Rcpp_1.0.1             IRkernel_0.8.15       \n",
       "[55] munsell_0.5.0          stringi_1.4.3          zlibbioc_1.28.0       \n",
       "[58] pkgbuild_1.0.3         plyr_1.8.4             grid_3.5.1            \n",
       "[61] gdata_2.18.0           crayon_1.3.4           lattice_0.20-38       \n",
       "[64] IRdisplay_0.7.0        haven_2.1.0            splines_3.5.1         \n",
       "[67] TraMineR_2.0-11.1      hms_0.4.2              ps_1.3.0              \n",
       "[70] knitr_1.22             pillar_1.3.1           uuid_0.1-2            \n",
       "[73] boot_1.3-20            pkgload_1.0.2          glue_1.3.1            \n",
       "[76] evaluate_0.13          latticeExtra_0.6-28    remotes_2.0.2         \n",
       "[79] modelr_0.1.4           cellranger_1.1.0       gtable_0.3.0          \n",
       "[82] assertthat_0.2.1       xfun_0.6               broom_0.5.1           \n",
       "[85] survival_2.44-1.1      memoise_1.1.0          cluster_2.0.7-1       \n",
       "[88] WeightedCluster_1.4   "
      ]
     },
     "metadata": {},
     "output_type": "display_data"
    }
   ],
   "source": [
    "sessionInfo()"
   ]
  },
  {
   "cell_type": "code",
   "execution_count": 52,
   "metadata": {},
   "outputs": [],
   "source": [
    "save.image(file = 'scABC_cusanovich2018subset.RData')"
   ]
  },
  {
   "cell_type": "code",
   "execution_count": null,
   "metadata": {},
   "outputs": [],
   "source": []
  }
 ],
 "metadata": {
  "kernelspec": {
   "display_name": "R [conda env:ATACseq_scABC]",
   "language": "R",
   "name": "conda-env-ATACseq_scABC-r"
  },
  "language_info": {
   "codemirror_mode": "r",
   "file_extension": ".r",
   "mimetype": "text/x-r-source",
   "name": "R",
   "pygments_lexer": "r",
   "version": "3.5.1"
  }
 },
 "nbformat": 4,
 "nbformat_minor": 2
}
