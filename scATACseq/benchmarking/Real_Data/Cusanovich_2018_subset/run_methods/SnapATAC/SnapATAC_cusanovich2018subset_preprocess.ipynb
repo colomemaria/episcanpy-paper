{
 "cells": [
  {
   "cell_type": "code",
   "execution_count": 1,
   "metadata": {},
   "outputs": [],
   "source": [
    "import itertools\n",
    "import pandas as pd\n",
    "import numpy as np\n",
    "import os"
   ]
  },
  {
   "cell_type": "code",
   "execution_count": 2,
   "metadata": {},
   "outputs": [],
   "source": [
    "metadata = pd.read_csv('../../input/metadata.tsv',sep='\\t',index_col=0)"
   ]
  },
  {
   "cell_type": "code",
   "execution_count": 3,
   "metadata": {},
   "outputs": [
    {
     "data": {
      "text/html": [
       "<div>\n",
       "<style scoped>\n",
       "    .dataframe tbody tr th:only-of-type {\n",
       "        vertical-align: middle;\n",
       "    }\n",
       "\n",
       "    .dataframe tbody tr th {\n",
       "        vertical-align: top;\n",
       "    }\n",
       "\n",
       "    .dataframe thead th {\n",
       "        text-align: right;\n",
       "    }\n",
       "</style>\n",
       "<table border=\"1\" class=\"dataframe\">\n",
       "  <thead>\n",
       "    <tr style=\"text-align: right;\">\n",
       "      <th></th>\n",
       "      <th>label</th>\n",
       "    </tr>\n",
       "  </thead>\n",
       "  <tbody>\n",
       "    <tr>\n",
       "      <th>TCCGCGAACTAACTAGGTTGCTACGGTCATAGAGGC</th>\n",
       "      <td>BoneMarrow</td>\n",
       "    </tr>\n",
       "    <tr>\n",
       "      <th>TCCGCGAAAGGTCAGCTTTGCGGATAGTGTACTGAC</th>\n",
       "      <td>BoneMarrow</td>\n",
       "    </tr>\n",
       "    <tr>\n",
       "      <th>ATTACTCGTTGCCGTAGGCTTAATCTTGTATAGCCT</th>\n",
       "      <td>BoneMarrow</td>\n",
       "    </tr>\n",
       "    <tr>\n",
       "      <th>TCCGCGAAACCAGGCGCAAAGCTAGGTTGTACTGAC</th>\n",
       "      <td>BoneMarrow</td>\n",
       "    </tr>\n",
       "    <tr>\n",
       "      <th>ATTCAGAATCGTAGCATCGCGCAATGACCCTATCCT</th>\n",
       "      <td>BoneMarrow</td>\n",
       "    </tr>\n",
       "  </tbody>\n",
       "</table>\n",
       "</div>"
      ],
      "text/plain": [
       "                                           label\n",
       "TCCGCGAACTAACTAGGTTGCTACGGTCATAGAGGC  BoneMarrow\n",
       "TCCGCGAAAGGTCAGCTTTGCGGATAGTGTACTGAC  BoneMarrow\n",
       "ATTACTCGTTGCCGTAGGCTTAATCTTGTATAGCCT  BoneMarrow\n",
       "TCCGCGAAACCAGGCGCAAAGCTAGGTTGTACTGAC  BoneMarrow\n",
       "ATTCAGAATCGTAGCATCGCGCAATGACCCTATCCT  BoneMarrow"
      ]
     },
     "execution_count": 3,
     "metadata": {},
     "output_type": "execute_result"
    }
   ],
   "source": [
    "metadata.shape\n",
    "metadata.head()"
   ]
  },
  {
   "cell_type": "code",
   "execution_count": 4,
   "metadata": {},
   "outputs": [
    {
     "data": {
      "text/plain": [
       "12178"
      ]
     },
     "execution_count": 4,
     "metadata": {},
     "output_type": "execute_result"
    }
   ],
   "source": [
    "path = '../../input/sc-bams_nodup/'\n",
    "bamfile = [os.path.join(path,f) for f in os.listdir(path) if f.endswith(\".bam\")]\n",
    "len(bamfile)"
   ]
  },
  {
   "cell_type": "code",
   "execution_count": null,
   "metadata": {},
   "outputs": [],
   "source": []
  },
  {
   "cell_type": "markdown",
   "metadata": {},
   "source": [
    "#### Merge all the bam files"
   ]
  },
  {
   "cell_type": "markdown",
   "metadata": {},
   "source": [
    "#### Split the bamfiles into chunks"
   ]
  },
  {
   "cell_type": "code",
   "execution_count": 5,
   "metadata": {},
   "outputs": [],
   "source": [
    "with open('list_bamfiles.txt', 'w') as f:\n",
    "    for item in bamfile:\n",
    "        f.write(\"%s\\n\" % item)"
   ]
  },
  {
   "cell_type": "code",
   "execution_count": 6,
   "metadata": {},
   "outputs": [],
   "source": [
    "def chunkIt(seq, num):\n",
    "    avg = len(seq) / float(num)\n",
    "    out = []\n",
    "    last = 0.0\n",
    "\n",
    "    while last < len(seq):\n",
    "        out.append(seq[int(last):int(last + avg)])\n",
    "        last += avg\n",
    "\n",
    "    return out"
   ]
  },
  {
   "cell_type": "code",
   "execution_count": 7,
   "metadata": {},
   "outputs": [],
   "source": [
    "bamfile_chunks = chunkIt(bamfile,10)"
   ]
  },
  {
   "cell_type": "code",
   "execution_count": 8,
   "metadata": {},
   "outputs": [],
   "source": [
    "for i,x in enumerate(bamfile_chunks):\n",
    "    with open('list_bamfiles_'+str(i)+'.txt', 'w') as f:\n",
    "        for item in x:\n",
    "            f.write(\"%s\\n\" % item)"
   ]
  },
  {
   "cell_type": "code",
   "execution_count": null,
   "metadata": {},
   "outputs": [],
   "source": []
  },
  {
   "cell_type": "markdown",
   "metadata": {},
   "source": [
    "`bash run_merge_sort.sh`"
   ]
  },
  {
   "cell_type": "code",
   "execution_count": null,
   "metadata": {},
   "outputs": [],
   "source": []
  },
  {
   "cell_type": "code",
   "execution_count": null,
   "metadata": {},
   "outputs": [],
   "source": []
  }
 ],
 "metadata": {
  "kernelspec": {
   "display_name": "Python [conda env:ATACseq_SnapATAC]",
   "language": "python",
   "name": "conda-env-ATACseq_SnapATAC-py"
  },
  "language_info": {
   "codemirror_mode": {
    "name": "ipython",
    "version": 2
   },
   "file_extension": ".py",
   "mimetype": "text/x-python",
   "name": "python",
   "nbconvert_exporter": "python",
   "pygments_lexer": "ipython2",
   "version": "2.7.15"
  }
 },
 "nbformat": 4,
 "nbformat_minor": 2
}
