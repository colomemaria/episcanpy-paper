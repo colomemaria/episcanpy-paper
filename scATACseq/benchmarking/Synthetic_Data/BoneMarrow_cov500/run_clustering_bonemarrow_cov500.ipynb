{
 "cells": [
  {
   "cell_type": "code",
   "execution_count": 1,
   "metadata": {},
   "outputs": [],
   "source": [
    "import pandas as pd\n",
    "import numpy as np\n",
    "import scanpy as sc\n",
    "import os\n",
    "from sklearn.cluster import KMeans\n",
    "from sklearn.cluster import AgglomerativeClustering\n",
    "from sklearn.metrics.cluster import adjusted_rand_score\n",
    "from sklearn.metrics.cluster import adjusted_mutual_info_score\n",
    "from sklearn.metrics.cluster import homogeneity_score\n",
    "import rpy2.robjects as robjects\n",
    "from rpy2.robjects import pandas2ri"
   ]
  },
  {
   "cell_type": "code",
   "execution_count": 2,
   "metadata": {},
   "outputs": [],
   "source": [
    "df_metrics = pd.DataFrame(columns=['ARI_Louvain','ARI_kmeans','ARI_HC',\n",
    "                                   'AMI_Louvain','AMI_kmeans','AMI_HC',\n",
    "                                   'Homogeneity_Louvain','Homogeneity_kmeans','Homogeneity_HC'])"
   ]
  },
  {
   "cell_type": "code",
   "execution_count": 3,
   "metadata": {},
   "outputs": [
    {
     "data": {
      "text/plain": [
       "0"
      ]
     },
     "execution_count": 3,
     "metadata": {},
     "output_type": "execute_result"
    }
   ],
   "source": [
    "workdir = './output/'\n",
    "path_fm = os.path.join(workdir,'feature_matrices/')\n",
    "path_clusters = os.path.join(workdir,'clusters/')\n",
    "path_metrics = os.path.join(workdir,'metrics/')\n",
    "os.system('mkdir -p '+path_clusters)\n",
    "os.system('mkdir -p '+path_metrics)"
   ]
  },
  {
   "cell_type": "code",
   "execution_count": 4,
   "metadata": {},
   "outputs": [],
   "source": [
    "metadata = pd.read_csv('./input/metadata.tsv',sep='\\t',index_col=0)\n",
    "num_clusters = len(np.unique(metadata['label']))"
   ]
  },
  {
   "cell_type": "code",
   "execution_count": 5,
   "metadata": {},
   "outputs": [
    {
     "data": {
      "text/plain": [
       "17"
      ]
     },
     "execution_count": 5,
     "metadata": {},
     "output_type": "execute_result"
    }
   ],
   "source": [
    "files = [x for x in os.listdir(path_fm) if x.startswith('FM')]\n",
    "len(files)"
   ]
  },
  {
   "cell_type": "code",
   "execution_count": 6,
   "metadata": {},
   "outputs": [
    {
     "data": {
      "text/plain": [
       "['FM_Control_BMcov500.rds',\n",
       " 'FM_BROCKMAN_BMcov500.rds',\n",
       " 'FM_Cusanovich2018_BMcov500.rds',\n",
       " 'FM_cisTopic_BMcov500.rds',\n",
       " 'FM_chromVAR_BMcov500_kmers.rds',\n",
       " 'FM_chromVAR_BMcov500_motifs.rds',\n",
       " 'FM_chromVAR_BMcov500_kmers_pca.rds',\n",
       " 'FM_chromVAR_BMcov500_motifs_pca.rds',\n",
       " 'FM_GeneScoring_BMcov500.rds',\n",
       " 'FM_GeneScoring_BMcov500_pca.rds',\n",
       " 'FM_Cicero_BMcov500.rds',\n",
       " 'FM_Cicero_BMcov500_pca.rds',\n",
       " 'FM_SnapATAC_BMcov500.rds',\n",
       " 'FM_Scasat_BMcov500.rds',\n",
       " 'FM_scABC_BMcov500.rds',\n",
       " 'FM_SCRAT_BMcov500.rds',\n",
       " 'FM_SCRAT_BMcov500_pca.rds']"
      ]
     },
     "execution_count": 6,
     "metadata": {},
     "output_type": "execute_result"
    }
   ],
   "source": [
    "files"
   ]
  },
  {
   "cell_type": "code",
   "execution_count": 7,
   "metadata": {},
   "outputs": [],
   "source": [
    "def getNClusters(adata,n_cluster,range_min=0,range_max=3,max_steps=20):\n",
    "    this_step = 0\n",
    "    this_min = float(range_min)\n",
    "    this_max = float(range_max)\n",
    "    while this_step < max_steps:\n",
    "        print('step ' + str(this_step))\n",
    "        this_resolution = this_min + ((this_max-this_min)/2)\n",
    "        sc.tl.louvain(adata,resolution=this_resolution)\n",
    "        this_clusters = adata.obs['louvain'].nunique()\n",
    "        \n",
    "        print('got ' + str(this_clusters) + ' at resolution ' + str(this_resolution))\n",
    "        \n",
    "        if this_clusters > n_cluster:\n",
    "            this_max = this_resolution\n",
    "        elif this_clusters < n_cluster:\n",
    "            this_min = this_resolution\n",
    "        else:\n",
    "            return(this_resolution, adata)\n",
    "        this_step += 1\n",
    "    \n",
    "    print('Cannot find the number of clusters')\n",
    "    print('Clustering solution from last iteration is used:' + str(this_clusters) + ' at resolution ' + str(this_resolution))"
   ]
  },
  {
   "cell_type": "code",
   "execution_count": 8,
   "metadata": {
    "scrolled": false
   },
   "outputs": [
    {
     "name": "stdout",
     "output_type": "stream",
     "text": [
      "Control\n"
     ]
    },
    {
     "name": "stderr",
     "output_type": "stream",
     "text": [
      "/data/pinello/SHARED_SOFTWARE/anaconda3/envs/ATACseq_clustering/lib/python3.7/site-packages/rpy2/robjects/pandas2ri.py:191: FutureWarning: from_items is deprecated. Please use DataFrame.from_dict(dict(items), ...) instead. DataFrame.from_dict(OrderedDict(items)) may be used to preserve the key order.\n",
      "  res = PandasDataFrame.from_items(items)\n"
     ]
    },
    {
     "name": "stdout",
     "output_type": "stream",
     "text": [
      "step 0\n",
      "got 9 at resolution 1.5\n",
      "step 1\n",
      "got 3 at resolution 0.75\n",
      "step 2\n",
      "got 7 at resolution 1.125\n",
      "step 3\n",
      "got 4 at resolution 0.9375\n",
      "step 4\n",
      "got 5 at resolution 1.03125\n",
      "step 5\n",
      "got 6 at resolution 1.078125\n",
      "BROCKMAN\n"
     ]
    },
    {
     "name": "stderr",
     "output_type": "stream",
     "text": [
      "/data/pinello/SHARED_SOFTWARE/anaconda3/envs/ATACseq_clustering/lib/python3.7/site-packages/rpy2/robjects/pandas2ri.py:191: FutureWarning: from_items is deprecated. Please use DataFrame.from_dict(dict(items), ...) instead. DataFrame.from_dict(OrderedDict(items)) may be used to preserve the key order.\n",
      "  res = PandasDataFrame.from_items(items)\n"
     ]
    },
    {
     "name": "stdout",
     "output_type": "stream",
     "text": [
      "step 0\n",
      "got 9 at resolution 1.5\n",
      "step 1\n",
      "got 6 at resolution 0.75\n",
      "Cusanovich2018\n"
     ]
    },
    {
     "name": "stderr",
     "output_type": "stream",
     "text": [
      "/data/pinello/SHARED_SOFTWARE/anaconda3/envs/ATACseq_clustering/lib/python3.7/site-packages/rpy2/robjects/pandas2ri.py:191: FutureWarning: from_items is deprecated. Please use DataFrame.from_dict(dict(items), ...) instead. DataFrame.from_dict(OrderedDict(items)) may be used to preserve the key order.\n",
      "  res = PandasDataFrame.from_items(items)\n"
     ]
    },
    {
     "name": "stdout",
     "output_type": "stream",
     "text": [
      "step 0\n",
      "got 9 at resolution 1.5\n",
      "step 1\n",
      "got 4 at resolution 0.75\n",
      "step 2\n",
      "got 6 at resolution 1.125\n",
      "cisTopic\n"
     ]
    },
    {
     "name": "stderr",
     "output_type": "stream",
     "text": [
      "/data/pinello/SHARED_SOFTWARE/anaconda3/envs/ATACseq_clustering/lib/python3.7/site-packages/rpy2/robjects/pandas2ri.py:191: FutureWarning: from_items is deprecated. Please use DataFrame.from_dict(dict(items), ...) instead. DataFrame.from_dict(OrderedDict(items)) may be used to preserve the key order.\n",
      "  res = PandasDataFrame.from_items(items)\n"
     ]
    },
    {
     "name": "stdout",
     "output_type": "stream",
     "text": [
      "step 0\n",
      "got 10 at resolution 1.5\n",
      "step 1\n",
      "got 5 at resolution 0.75\n",
      "step 2\n",
      "got 8 at resolution 1.125\n",
      "step 3\n",
      "got 7 at resolution 0.9375\n",
      "step 4\n",
      "got 5 at resolution 0.84375\n",
      "step 5\n",
      "got 7 at resolution 0.890625\n",
      "step 6\n",
      "got 5 at resolution 0.8671875\n",
      "step 7\n",
      "got 6 at resolution 0.87890625\n",
      "chromVAR_kmers\n"
     ]
    },
    {
     "name": "stderr",
     "output_type": "stream",
     "text": [
      "/data/pinello/SHARED_SOFTWARE/anaconda3/envs/ATACseq_clustering/lib/python3.7/site-packages/rpy2/robjects/pandas2ri.py:191: FutureWarning: from_items is deprecated. Please use DataFrame.from_dict(dict(items), ...) instead. DataFrame.from_dict(OrderedDict(items)) may be used to preserve the key order.\n",
      "  res = PandasDataFrame.from_items(items)\n"
     ]
    },
    {
     "name": "stdout",
     "output_type": "stream",
     "text": [
      "step 0\n",
      "got 13 at resolution 1.5\n",
      "step 1\n",
      "got 3 at resolution 0.75\n",
      "step 2\n",
      "got 5 at resolution 1.125\n",
      "step 3\n",
      "got 8 at resolution 1.3125\n",
      "step 4\n",
      "got 7 at resolution 1.21875\n",
      "step 5\n",
      "got 6 at resolution 1.171875\n",
      "chromVAR_motifs\n"
     ]
    },
    {
     "name": "stderr",
     "output_type": "stream",
     "text": [
      "/data/pinello/SHARED_SOFTWARE/anaconda3/envs/ATACseq_clustering/lib/python3.7/site-packages/rpy2/robjects/pandas2ri.py:191: FutureWarning: from_items is deprecated. Please use DataFrame.from_dict(dict(items), ...) instead. DataFrame.from_dict(OrderedDict(items)) may be used to preserve the key order.\n",
      "  res = PandasDataFrame.from_items(items)\n"
     ]
    },
    {
     "name": "stdout",
     "output_type": "stream",
     "text": [
      "step 0\n",
      "got 14 at resolution 1.5\n",
      "step 1\n",
      "got 3 at resolution 0.75\n",
      "step 2\n",
      "got 8 at resolution 1.125\n",
      "step 3\n",
      "got 6 at resolution 0.9375\n",
      "chromVAR_kmers_pca\n"
     ]
    },
    {
     "name": "stderr",
     "output_type": "stream",
     "text": [
      "/data/pinello/SHARED_SOFTWARE/anaconda3/envs/ATACseq_clustering/lib/python3.7/site-packages/rpy2/robjects/pandas2ri.py:191: FutureWarning: from_items is deprecated. Please use DataFrame.from_dict(dict(items), ...) instead. DataFrame.from_dict(OrderedDict(items)) may be used to preserve the key order.\n",
      "  res = PandasDataFrame.from_items(items)\n"
     ]
    },
    {
     "name": "stdout",
     "output_type": "stream",
     "text": [
      "step 0\n",
      "got 9 at resolution 1.5\n",
      "step 1\n",
      "got 3 at resolution 0.75\n",
      "step 2\n",
      "got 5 at resolution 1.125\n",
      "step 3\n",
      "got 7 at resolution 1.3125\n",
      "step 4\n",
      "got 6 at resolution 1.21875\n",
      "chromVAR_motifs_pca\n"
     ]
    },
    {
     "name": "stderr",
     "output_type": "stream",
     "text": [
      "/data/pinello/SHARED_SOFTWARE/anaconda3/envs/ATACseq_clustering/lib/python3.7/site-packages/rpy2/robjects/pandas2ri.py:191: FutureWarning: from_items is deprecated. Please use DataFrame.from_dict(dict(items), ...) instead. DataFrame.from_dict(OrderedDict(items)) may be used to preserve the key order.\n",
      "  res = PandasDataFrame.from_items(items)\n"
     ]
    },
    {
     "name": "stdout",
     "output_type": "stream",
     "text": [
      "step 0\n",
      "got 10 at resolution 1.5\n",
      "step 1\n",
      "got 5 at resolution 0.75\n",
      "step 2\n",
      "got 8 at resolution 1.125\n",
      "step 3\n",
      "got 6 at resolution 0.9375\n",
      "GeneScoring\n"
     ]
    },
    {
     "name": "stderr",
     "output_type": "stream",
     "text": [
      "/data/pinello/SHARED_SOFTWARE/anaconda3/envs/ATACseq_clustering/lib/python3.7/site-packages/rpy2/robjects/pandas2ri.py:191: FutureWarning: from_items is deprecated. Please use DataFrame.from_dict(dict(items), ...) instead. DataFrame.from_dict(OrderedDict(items)) may be used to preserve the key order.\n",
      "  res = PandasDataFrame.from_items(items)\n"
     ]
    },
    {
     "name": "stdout",
     "output_type": "stream",
     "text": [
      "step 0\n",
      "got 31 at resolution 1.5\n",
      "step 1\n",
      "got 3 at resolution 0.75\n",
      "step 2\n",
      "got 19 at resolution 1.125\n",
      "step 3\n",
      "got 9 at resolution 0.9375\n",
      "step 4\n",
      "got 6 at resolution 0.84375\n",
      "GeneScoring_pca\n"
     ]
    },
    {
     "name": "stderr",
     "output_type": "stream",
     "text": [
      "/data/pinello/SHARED_SOFTWARE/anaconda3/envs/ATACseq_clustering/lib/python3.7/site-packages/rpy2/robjects/pandas2ri.py:191: FutureWarning: from_items is deprecated. Please use DataFrame.from_dict(dict(items), ...) instead. DataFrame.from_dict(OrderedDict(items)) may be used to preserve the key order.\n",
      "  res = PandasDataFrame.from_items(items)\n"
     ]
    },
    {
     "name": "stdout",
     "output_type": "stream",
     "text": [
      "step 0\n",
      "got 13 at resolution 1.5\n",
      "step 1\n",
      "got 11 at resolution 0.75\n",
      "step 2\n",
      "got 8 at resolution 0.375\n",
      "step 3\n",
      "got 6 at resolution 0.1875\n",
      "Cicero\n"
     ]
    },
    {
     "name": "stderr",
     "output_type": "stream",
     "text": [
      "/data/pinello/SHARED_SOFTWARE/anaconda3/envs/ATACseq_clustering/lib/python3.7/site-packages/rpy2/robjects/pandas2ri.py:191: FutureWarning: from_items is deprecated. Please use DataFrame.from_dict(dict(items), ...) instead. DataFrame.from_dict(OrderedDict(items)) may be used to preserve the key order.\n",
      "  res = PandasDataFrame.from_items(items)\n"
     ]
    },
    {
     "name": "stdout",
     "output_type": "stream",
     "text": [
      "step 0\n",
      "got 37 at resolution 1.5\n",
      "step 1\n",
      "got 1 at resolution 0.75\n",
      "step 2\n",
      "got 20 at resolution 1.125\n",
      "step 3\n",
      "got 6 at resolution 0.9375\n",
      "Cicero_pca\n"
     ]
    },
    {
     "name": "stderr",
     "output_type": "stream",
     "text": [
      "/data/pinello/SHARED_SOFTWARE/anaconda3/envs/ATACseq_clustering/lib/python3.7/site-packages/rpy2/robjects/pandas2ri.py:191: FutureWarning: from_items is deprecated. Please use DataFrame.from_dict(dict(items), ...) instead. DataFrame.from_dict(OrderedDict(items)) may be used to preserve the key order.\n",
      "  res = PandasDataFrame.from_items(items)\n"
     ]
    },
    {
     "name": "stdout",
     "output_type": "stream",
     "text": [
      "step 0\n",
      "got 14 at resolution 1.5\n",
      "step 1\n",
      "got 4 at resolution 0.75\n",
      "step 2\n",
      "got 9 at resolution 1.125\n",
      "step 3\n",
      "got 6 at resolution 0.9375\n",
      "SnapATAC\n"
     ]
    },
    {
     "name": "stderr",
     "output_type": "stream",
     "text": [
      "/data/pinello/SHARED_SOFTWARE/anaconda3/envs/ATACseq_clustering/lib/python3.7/site-packages/rpy2/robjects/pandas2ri.py:191: FutureWarning: from_items is deprecated. Please use DataFrame.from_dict(dict(items), ...) instead. DataFrame.from_dict(OrderedDict(items)) may be used to preserve the key order.\n",
      "  res = PandasDataFrame.from_items(items)\n"
     ]
    },
    {
     "name": "stdout",
     "output_type": "stream",
     "text": [
      "step 0\n",
      "got 9 at resolution 1.5\n",
      "step 1\n",
      "got 3 at resolution 0.75\n",
      "step 2\n",
      "got 6 at resolution 1.125\n",
      "Scasat\n"
     ]
    },
    {
     "name": "stderr",
     "output_type": "stream",
     "text": [
      "/data/pinello/SHARED_SOFTWARE/anaconda3/envs/ATACseq_clustering/lib/python3.7/site-packages/rpy2/robjects/pandas2ri.py:191: FutureWarning: from_items is deprecated. Please use DataFrame.from_dict(dict(items), ...) instead. DataFrame.from_dict(OrderedDict(items)) may be used to preserve the key order.\n",
      "  res = PandasDataFrame.from_items(items)\n"
     ]
    },
    {
     "name": "stdout",
     "output_type": "stream",
     "text": [
      "step 0\n",
      "got 11 at resolution 1.5\n",
      "step 1\n",
      "got 3 at resolution 0.75\n",
      "step 2\n",
      "got 5 at resolution 1.125\n",
      "step 3\n",
      "got 6 at resolution 1.3125\n",
      "scABC\n"
     ]
    },
    {
     "name": "stderr",
     "output_type": "stream",
     "text": [
      "/data/pinello/SHARED_SOFTWARE/anaconda3/envs/ATACseq_clustering/lib/python3.7/site-packages/rpy2/robjects/pandas2ri.py:191: FutureWarning: from_items is deprecated. Please use DataFrame.from_dict(dict(items), ...) instead. DataFrame.from_dict(OrderedDict(items)) may be used to preserve the key order.\n",
      "  res = PandasDataFrame.from_items(items)\n"
     ]
    },
    {
     "name": "stdout",
     "output_type": "stream",
     "text": [
      "step 0\n",
      "got 32 at resolution 1.5\n",
      "step 1\n",
      "got 1 at resolution 0.75\n",
      "step 2\n",
      "got 15 at resolution 1.125\n",
      "step 3\n",
      "got 5 at resolution 0.9375\n",
      "step 4\n",
      "got 11 at resolution 1.03125\n",
      "step 5\n",
      "got 9 at resolution 0.984375\n",
      "step 6\n",
      "got 7 at resolution 0.9609375\n",
      "step 7\n",
      "got 6 at resolution 0.94921875\n",
      "SCRAT\n"
     ]
    },
    {
     "name": "stderr",
     "output_type": "stream",
     "text": [
      "/data/pinello/SHARED_SOFTWARE/anaconda3/envs/ATACseq_clustering/lib/python3.7/site-packages/rpy2/robjects/pandas2ri.py:191: FutureWarning: from_items is deprecated. Please use DataFrame.from_dict(dict(items), ...) instead. DataFrame.from_dict(OrderedDict(items)) may be used to preserve the key order.\n",
      "  res = PandasDataFrame.from_items(items)\n"
     ]
    },
    {
     "name": "stdout",
     "output_type": "stream",
     "text": [
      "step 0\n",
      "got 8 at resolution 1.5\n",
      "step 1\n",
      "got 5 at resolution 0.75\n",
      "step 2\n",
      "got 5 at resolution 1.125\n",
      "step 3\n",
      "got 6 at resolution 1.3125\n",
      "SCRAT_pca\n"
     ]
    },
    {
     "name": "stderr",
     "output_type": "stream",
     "text": [
      "/data/pinello/SHARED_SOFTWARE/anaconda3/envs/ATACseq_clustering/lib/python3.7/site-packages/rpy2/robjects/pandas2ri.py:191: FutureWarning: from_items is deprecated. Please use DataFrame.from_dict(dict(items), ...) instead. DataFrame.from_dict(OrderedDict(items)) may be used to preserve the key order.\n",
      "  res = PandasDataFrame.from_items(items)\n"
     ]
    },
    {
     "name": "stdout",
     "output_type": "stream",
     "text": [
      "step 0\n",
      "got 11 at resolution 1.5\n",
      "step 1\n",
      "got 5 at resolution 0.75\n",
      "step 2\n",
      "got 6 at resolution 1.125\n"
     ]
    }
   ],
   "source": [
    "for file in files:\n",
    "    file_split = file.split('_')\n",
    "    method = file_split[1]\n",
    "    dataset = file_split[2].split('.')[0]\n",
    "    if(len(file_split)>3):\n",
    "        method = method + '_' + '_'.join(file_split[3:]).split('.')[0]\n",
    "    print(method)\n",
    "\n",
    "    pandas2ri.activate()\n",
    "    readRDS = robjects.r['readRDS']\n",
    "    df_rds = readRDS(os.path.join(path_fm,file))\n",
    "    fm_mat = pandas2ri.ri2py(robjects.r['data.frame'](robjects.r['as.matrix'](df_rds)))\n",
    "    fm_mat.columns = metadata.index\n",
    "    \n",
    "    adata = sc.AnnData(fm_mat.T)\n",
    "    adata.var_names_make_unique()\n",
    "    adata.obs = metadata.loc[adata.obs.index,]\n",
    "    df_metrics.loc[method,] = \"\"\n",
    "    #Louvain\n",
    "    sc.pp.neighbors(adata, n_neighbors=15,use_rep='X')\n",
    "#     sc.tl.louvain(adata)\n",
    "    getNClusters(adata,n_cluster=num_clusters)\n",
    "    #kmeans\n",
    "    kmeans = KMeans(n_clusters=num_clusters, random_state=2019).fit(adata.X)\n",
    "    adata.obs['kmeans'] = pd.Series(kmeans.labels_,index=adata.obs.index).astype('category')\n",
    "    #hierachical clustering\n",
    "    hc = AgglomerativeClustering(n_clusters=num_clusters).fit(adata.X)\n",
    "    adata.obs['hc'] = pd.Series(hc.labels_,index=adata.obs.index).astype('category')\n",
    "    #clustering metrics\n",
    "    \n",
    "    #adjusted rank index\n",
    "    ari_louvain = adjusted_rand_score(adata.obs['label'], adata.obs['louvain'])\n",
    "    ari_kmeans = adjusted_rand_score(adata.obs['label'], adata.obs['kmeans'])\n",
    "    ari_hc = adjusted_rand_score(adata.obs['label'], adata.obs['hc'])\n",
    "    #adjusted mutual information\n",
    "    ami_louvain = adjusted_mutual_info_score(adata.obs['label'], adata.obs['louvain'],average_method='arithmetic')\n",
    "    ami_kmeans = adjusted_mutual_info_score(adata.obs['label'], adata.obs['kmeans'],average_method='arithmetic')   \n",
    "    ami_hc = adjusted_mutual_info_score(adata.obs['label'], adata.obs['hc'],average_method='arithmetic')\n",
    "    #homogeneity\n",
    "    homo_louvain = homogeneity_score(adata.obs['label'], adata.obs['louvain'])\n",
    "    homo_kmeans = homogeneity_score(adata.obs['label'], adata.obs['kmeans'])\n",
    "    homo_hc = homogeneity_score(adata.obs['label'], adata.obs['hc'])\n",
    "\n",
    "    df_metrics.loc[method,['ARI_Louvain','ARI_kmeans','ARI_HC']] = [ari_louvain,ari_kmeans,ari_hc]\n",
    "    df_metrics.loc[method,['AMI_Louvain','AMI_kmeans','AMI_HC']] = [ami_louvain,ami_kmeans,ami_hc]\n",
    "    df_metrics.loc[method,['Homogeneity_Louvain','Homogeneity_kmeans','Homogeneity_HC']] = [homo_louvain,homo_kmeans,homo_hc] \n",
    "    adata.obs[['louvain','kmeans','hc']].to_csv(os.path.join(path_clusters ,method + '_clusters.tsv'),sep='\\t')"
   ]
  },
  {
   "cell_type": "code",
   "execution_count": 9,
   "metadata": {},
   "outputs": [],
   "source": [
    "df_metrics.to_csv(path_metrics+'clustering_scores.csv')"
   ]
  },
  {
   "cell_type": "code",
   "execution_count": 10,
   "metadata": {},
   "outputs": [
    {
     "data": {
      "text/html": [
       "<div>\n",
       "<style scoped>\n",
       "    .dataframe tbody tr th:only-of-type {\n",
       "        vertical-align: middle;\n",
       "    }\n",
       "\n",
       "    .dataframe tbody tr th {\n",
       "        vertical-align: top;\n",
       "    }\n",
       "\n",
       "    .dataframe thead th {\n",
       "        text-align: right;\n",
       "    }\n",
       "</style>\n",
       "<table border=\"1\" class=\"dataframe\">\n",
       "  <thead>\n",
       "    <tr style=\"text-align: right;\">\n",
       "      <th></th>\n",
       "      <th>ARI_Louvain</th>\n",
       "      <th>ARI_kmeans</th>\n",
       "      <th>ARI_HC</th>\n",
       "      <th>AMI_Louvain</th>\n",
       "      <th>AMI_kmeans</th>\n",
       "      <th>AMI_HC</th>\n",
       "      <th>Homogeneity_Louvain</th>\n",
       "      <th>Homogeneity_kmeans</th>\n",
       "      <th>Homogeneity_HC</th>\n",
       "    </tr>\n",
       "  </thead>\n",
       "  <tbody>\n",
       "    <tr>\n",
       "      <th>Control</th>\n",
       "      <td>0.497741</td>\n",
       "      <td>0.498302</td>\n",
       "      <td>0.488403</td>\n",
       "      <td>0.612442</td>\n",
       "      <td>0.607714</td>\n",
       "      <td>0.611818</td>\n",
       "      <td>0.592454</td>\n",
       "      <td>0.595279</td>\n",
       "      <td>0.587975</td>\n",
       "    </tr>\n",
       "    <tr>\n",
       "      <th>BROCKMAN</th>\n",
       "      <td>0.443817</td>\n",
       "      <td>0.384405</td>\n",
       "      <td>0.425049</td>\n",
       "      <td>0.591878</td>\n",
       "      <td>0.548319</td>\n",
       "      <td>0.603044</td>\n",
       "      <td>0.583846</td>\n",
       "      <td>0.536774</td>\n",
       "      <td>0.588663</td>\n",
       "    </tr>\n",
       "    <tr>\n",
       "      <th>Cusanovich2018</th>\n",
       "      <td>0.518985</td>\n",
       "      <td>0.557346</td>\n",
       "      <td>0.520973</td>\n",
       "      <td>0.65191</td>\n",
       "      <td>0.694411</td>\n",
       "      <td>0.651651</td>\n",
       "      <td>0.650078</td>\n",
       "      <td>0.657094</td>\n",
       "      <td>0.617172</td>\n",
       "    </tr>\n",
       "    <tr>\n",
       "      <th>cisTopic</th>\n",
       "      <td>0.426681</td>\n",
       "      <td>0.428198</td>\n",
       "      <td>0.427</td>\n",
       "      <td>0.582059</td>\n",
       "      <td>0.578854</td>\n",
       "      <td>0.578283</td>\n",
       "      <td>0.57882</td>\n",
       "      <td>0.580315</td>\n",
       "      <td>0.580238</td>\n",
       "    </tr>\n",
       "    <tr>\n",
       "      <th>chromVAR_kmers</th>\n",
       "      <td>0.367749</td>\n",
       "      <td>0.348663</td>\n",
       "      <td>0.297824</td>\n",
       "      <td>0.451998</td>\n",
       "      <td>0.45965</td>\n",
       "      <td>0.35703</td>\n",
       "      <td>0.432026</td>\n",
       "      <td>0.461088</td>\n",
       "      <td>0.352456</td>\n",
       "    </tr>\n",
       "    <tr>\n",
       "      <th>chromVAR_motifs</th>\n",
       "      <td>0.101836</td>\n",
       "      <td>0.102986</td>\n",
       "      <td>0.0694161</td>\n",
       "      <td>0.1653</td>\n",
       "      <td>0.14777</td>\n",
       "      <td>0.122929</td>\n",
       "      <td>0.167011</td>\n",
       "      <td>0.152132</td>\n",
       "      <td>0.125115</td>\n",
       "    </tr>\n",
       "    <tr>\n",
       "      <th>chromVAR_kmers_pca</th>\n",
       "      <td>0.372098</td>\n",
       "      <td>0.374914</td>\n",
       "      <td>0.294734</td>\n",
       "      <td>0.465553</td>\n",
       "      <td>0.496276</td>\n",
       "      <td>0.387262</td>\n",
       "      <td>0.463427</td>\n",
       "      <td>0.498582</td>\n",
       "      <td>0.381975</td>\n",
       "    </tr>\n",
       "    <tr>\n",
       "      <th>chromVAR_motifs_pca</th>\n",
       "      <td>0.121054</td>\n",
       "      <td>0.0905712</td>\n",
       "      <td>0.0930063</td>\n",
       "      <td>0.188937</td>\n",
       "      <td>0.145689</td>\n",
       "      <td>0.155174</td>\n",
       "      <td>0.190978</td>\n",
       "      <td>0.150077</td>\n",
       "      <td>0.156825</td>\n",
       "    </tr>\n",
       "    <tr>\n",
       "      <th>GeneScoring</th>\n",
       "      <td>-0.000120752</td>\n",
       "      <td>0.00577751</td>\n",
       "      <td>0.0138995</td>\n",
       "      <td>0.00291468</td>\n",
       "      <td>0.0122876</td>\n",
       "      <td>0.0513902</td>\n",
       "      <td>0.00851104</td>\n",
       "      <td>0.0161987</td>\n",
       "      <td>0.0442105</td>\n",
       "    </tr>\n",
       "    <tr>\n",
       "      <th>GeneScoring_pca</th>\n",
       "      <td>0.00358284</td>\n",
       "      <td>0.00187602</td>\n",
       "      <td>0.0017292</td>\n",
       "      <td>0.00941856</td>\n",
       "      <td>0.00729027</td>\n",
       "      <td>0.00784308</td>\n",
       "      <td>0.0137504</td>\n",
       "      <td>0.0116766</td>\n",
       "      <td>0.0120619</td>\n",
       "    </tr>\n",
       "    <tr>\n",
       "      <th>Cicero</th>\n",
       "      <td>0.0121098</td>\n",
       "      <td>0.083018</td>\n",
       "      <td>0.212315</td>\n",
       "      <td>0.0147164</td>\n",
       "      <td>0.103785</td>\n",
       "      <td>0.333521</td>\n",
       "      <td>0.0197579</td>\n",
       "      <td>0.0865826</td>\n",
       "      <td>0.26518</td>\n",
       "    </tr>\n",
       "    <tr>\n",
       "      <th>Cicero_pca</th>\n",
       "      <td>0.354803</td>\n",
       "      <td>0.316956</td>\n",
       "      <td>0.283117</td>\n",
       "      <td>0.404299</td>\n",
       "      <td>0.426715</td>\n",
       "      <td>0.395462</td>\n",
       "      <td>0.400145</td>\n",
       "      <td>0.417876</td>\n",
       "      <td>0.379171</td>\n",
       "    </tr>\n",
       "    <tr>\n",
       "      <th>SnapATAC</th>\n",
       "      <td>0.505748</td>\n",
       "      <td>0.505138</td>\n",
       "      <td>0.485932</td>\n",
       "      <td>0.614573</td>\n",
       "      <td>0.615253</td>\n",
       "      <td>0.616791</td>\n",
       "      <td>0.601021</td>\n",
       "      <td>0.602294</td>\n",
       "      <td>0.589024</td>\n",
       "    </tr>\n",
       "    <tr>\n",
       "      <th>Scasat</th>\n",
       "      <td>0.497175</td>\n",
       "      <td>0.513178</td>\n",
       "      <td>0.498159</td>\n",
       "      <td>0.60743</td>\n",
       "      <td>0.620666</td>\n",
       "      <td>0.604752</td>\n",
       "      <td>0.593773</td>\n",
       "      <td>0.607801</td>\n",
       "      <td>0.588698</td>\n",
       "    </tr>\n",
       "    <tr>\n",
       "      <th>scABC</th>\n",
       "      <td>0.0733737</td>\n",
       "      <td>0.0219744</td>\n",
       "      <td>0.274395</td>\n",
       "      <td>0.0866164</td>\n",
       "      <td>0.0281832</td>\n",
       "      <td>0.35884</td>\n",
       "      <td>0.0879831</td>\n",
       "      <td>0.0316541</td>\n",
       "      <td>0.297886</td>\n",
       "    </tr>\n",
       "    <tr>\n",
       "      <th>SCRAT</th>\n",
       "      <td>0.420341</td>\n",
       "      <td>0.296208</td>\n",
       "      <td>0.337653</td>\n",
       "      <td>0.535693</td>\n",
       "      <td>0.419763</td>\n",
       "      <td>0.488362</td>\n",
       "      <td>0.529769</td>\n",
       "      <td>0.420522</td>\n",
       "      <td>0.47925</td>\n",
       "    </tr>\n",
       "    <tr>\n",
       "      <th>SCRAT_pca</th>\n",
       "      <td>0.407336</td>\n",
       "      <td>0.32115</td>\n",
       "      <td>0.304999</td>\n",
       "      <td>0.526936</td>\n",
       "      <td>0.490409</td>\n",
       "      <td>0.470972</td>\n",
       "      <td>0.52637</td>\n",
       "      <td>0.479973</td>\n",
       "      <td>0.461012</td>\n",
       "    </tr>\n",
       "  </tbody>\n",
       "</table>\n",
       "</div>"
      ],
      "text/plain": [
       "                     ARI_Louvain  ARI_kmeans     ARI_HC AMI_Louvain  \\\n",
       "Control                 0.497741    0.498302   0.488403    0.612442   \n",
       "BROCKMAN                0.443817    0.384405   0.425049    0.591878   \n",
       "Cusanovich2018          0.518985    0.557346   0.520973     0.65191   \n",
       "cisTopic                0.426681    0.428198      0.427    0.582059   \n",
       "chromVAR_kmers          0.367749    0.348663   0.297824    0.451998   \n",
       "chromVAR_motifs         0.101836    0.102986  0.0694161      0.1653   \n",
       "chromVAR_kmers_pca      0.372098    0.374914   0.294734    0.465553   \n",
       "chromVAR_motifs_pca     0.121054   0.0905712  0.0930063    0.188937   \n",
       "GeneScoring         -0.000120752  0.00577751  0.0138995  0.00291468   \n",
       "GeneScoring_pca       0.00358284  0.00187602  0.0017292  0.00941856   \n",
       "Cicero                 0.0121098    0.083018   0.212315   0.0147164   \n",
       "Cicero_pca              0.354803    0.316956   0.283117    0.404299   \n",
       "SnapATAC                0.505748    0.505138   0.485932    0.614573   \n",
       "Scasat                  0.497175    0.513178   0.498159     0.60743   \n",
       "scABC                  0.0733737   0.0219744   0.274395   0.0866164   \n",
       "SCRAT                   0.420341    0.296208   0.337653    0.535693   \n",
       "SCRAT_pca               0.407336     0.32115   0.304999    0.526936   \n",
       "\n",
       "                     AMI_kmeans      AMI_HC Homogeneity_Louvain  \\\n",
       "Control                0.607714    0.611818            0.592454   \n",
       "BROCKMAN               0.548319    0.603044            0.583846   \n",
       "Cusanovich2018         0.694411    0.651651            0.650078   \n",
       "cisTopic               0.578854    0.578283             0.57882   \n",
       "chromVAR_kmers          0.45965     0.35703            0.432026   \n",
       "chromVAR_motifs         0.14777    0.122929            0.167011   \n",
       "chromVAR_kmers_pca     0.496276    0.387262            0.463427   \n",
       "chromVAR_motifs_pca    0.145689    0.155174            0.190978   \n",
       "GeneScoring           0.0122876   0.0513902          0.00851104   \n",
       "GeneScoring_pca      0.00729027  0.00784308           0.0137504   \n",
       "Cicero                 0.103785    0.333521           0.0197579   \n",
       "Cicero_pca             0.426715    0.395462            0.400145   \n",
       "SnapATAC               0.615253    0.616791            0.601021   \n",
       "Scasat                 0.620666    0.604752            0.593773   \n",
       "scABC                 0.0281832     0.35884           0.0879831   \n",
       "SCRAT                  0.419763    0.488362            0.529769   \n",
       "SCRAT_pca              0.490409    0.470972             0.52637   \n",
       "\n",
       "                    Homogeneity_kmeans Homogeneity_HC  \n",
       "Control                       0.595279       0.587975  \n",
       "BROCKMAN                      0.536774       0.588663  \n",
       "Cusanovich2018                0.657094       0.617172  \n",
       "cisTopic                      0.580315       0.580238  \n",
       "chromVAR_kmers                0.461088       0.352456  \n",
       "chromVAR_motifs               0.152132       0.125115  \n",
       "chromVAR_kmers_pca            0.498582       0.381975  \n",
       "chromVAR_motifs_pca           0.150077       0.156825  \n",
       "GeneScoring                  0.0161987      0.0442105  \n",
       "GeneScoring_pca              0.0116766      0.0120619  \n",
       "Cicero                       0.0865826        0.26518  \n",
       "Cicero_pca                    0.417876       0.379171  \n",
       "SnapATAC                      0.602294       0.589024  \n",
       "Scasat                        0.607801       0.588698  \n",
       "scABC                        0.0316541       0.297886  \n",
       "SCRAT                         0.420522        0.47925  \n",
       "SCRAT_pca                     0.479973       0.461012  "
      ]
     },
     "execution_count": 10,
     "metadata": {},
     "output_type": "execute_result"
    }
   ],
   "source": [
    "df_metrics"
   ]
  },
  {
   "cell_type": "code",
   "execution_count": null,
   "metadata": {},
   "outputs": [],
   "source": []
  }
 ],
 "metadata": {
  "kernelspec": {
   "display_name": "Python [conda env:ATACseq_clustering]",
   "language": "python",
   "name": "conda-env-ATACseq_clustering-py"
  },
  "language_info": {
   "codemirror_mode": {
    "name": "ipython",
    "version": 3
   },
   "file_extension": ".py",
   "mimetype": "text/x-python",
   "name": "python",
   "nbconvert_exporter": "python",
   "pygments_lexer": "ipython3",
   "version": "3.7.3"
  }
 },
 "nbformat": 4,
 "nbformat_minor": 2
}
