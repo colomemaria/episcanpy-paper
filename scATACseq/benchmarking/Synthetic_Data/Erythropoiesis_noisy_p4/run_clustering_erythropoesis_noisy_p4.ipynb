{
 "cells": [
  {
   "cell_type": "code",
   "execution_count": 1,
   "metadata": {},
   "outputs": [],
   "source": [
    "import pandas as pd\n",
    "import numpy as np\n",
    "import scanpy as sc\n",
    "import os\n",
    "from sklearn.cluster import KMeans\n",
    "from sklearn.cluster import AgglomerativeClustering\n",
    "from sklearn.metrics.cluster import adjusted_rand_score\n",
    "from sklearn.metrics.cluster import adjusted_mutual_info_score\n",
    "from sklearn.metrics.cluster import homogeneity_score\n",
    "import rpy2.robjects as robjects\n",
    "from rpy2.robjects import pandas2ri"
   ]
  },
  {
   "cell_type": "code",
   "execution_count": 2,
   "metadata": {},
   "outputs": [],
   "source": [
    "df_metrics = pd.DataFrame(columns=['ARI_Louvain','ARI_kmeans','ARI_HC',\n",
    "                                   'AMI_Louvain','AMI_kmeans','AMI_HC',\n",
    "                                   'Homogeneity_Louvain','Homogeneity_kmeans','Homogeneity_HC'])"
   ]
  },
  {
   "cell_type": "code",
   "execution_count": 3,
   "metadata": {},
   "outputs": [
    {
     "data": {
      "text/plain": [
       "0"
      ]
     },
     "execution_count": 3,
     "metadata": {},
     "output_type": "execute_result"
    }
   ],
   "source": [
    "workdir = './output/'\n",
    "path_fm = os.path.join(workdir,'feature_matrices/')\n",
    "path_clusters = os.path.join(workdir,'clusters/')\n",
    "path_metrics = os.path.join(workdir,'metrics/')\n",
    "os.system('mkdir -p '+path_clusters)\n",
    "os.system('mkdir -p '+path_metrics)"
   ]
  },
  {
   "cell_type": "code",
   "execution_count": 4,
   "metadata": {},
   "outputs": [],
   "source": [
    "metadata = pd.read_csv('./input/metadata.tsv',sep='\\t',index_col=0)\n",
    "num_clusters = len(np.unique(metadata['label']))"
   ]
  },
  {
   "cell_type": "code",
   "execution_count": 5,
   "metadata": {},
   "outputs": [
    {
     "data": {
      "text/plain": [
       "17"
      ]
     },
     "execution_count": 5,
     "metadata": {},
     "output_type": "execute_result"
    }
   ],
   "source": [
    "files = [x for x in os.listdir(path_fm) if x.startswith('FM')]\n",
    "len(files)"
   ]
  },
  {
   "cell_type": "code",
   "execution_count": 6,
   "metadata": {},
   "outputs": [
    {
     "data": {
      "text/plain": [
       "['FM_Control_Erynoisyp4.rds',\n",
       " 'FM_BROCKMAN_Erynoisyp4.rds',\n",
       " 'FM_Cusanovich2018_Erynoisyp4.rds',\n",
       " 'FM_cisTopic_Erynoisyp4.rds',\n",
       " 'FM_chromVAR_Erynoisyp4_kmers.rds',\n",
       " 'FM_chromVAR_Erynoisyp4_motifs.rds',\n",
       " 'FM_chromVAR_Erynoisyp4_kmers_pca.rds',\n",
       " 'FM_chromVAR_Erynoisyp4_motifs_pca.rds',\n",
       " 'FM_GeneScoring_Erynoisyp4.rds',\n",
       " 'FM_GeneScoring_Erynoisyp4_pca.rds',\n",
       " 'FM_Cicero_Erynoisyp4.rds',\n",
       " 'FM_Cicero_Erynoisyp4_pca.rds',\n",
       " 'FM_SnapATAC_Erynoisyp4.rds',\n",
       " 'FM_Scasat_Erynoisyp4.rds',\n",
       " 'FM_scABC_Erynoisyp4.rds',\n",
       " 'FM_SCRAT_Erynoisyp4.rds',\n",
       " 'FM_SCRAT_Erynoisyp4_pca.rds']"
      ]
     },
     "execution_count": 6,
     "metadata": {},
     "output_type": "execute_result"
    }
   ],
   "source": [
    "files"
   ]
  },
  {
   "cell_type": "code",
   "execution_count": 7,
   "metadata": {},
   "outputs": [],
   "source": [
    "def getNClusters(adata,n_cluster,range_min=0,range_max=3,max_steps=20):\n",
    "    this_step = 0\n",
    "    this_min = float(range_min)\n",
    "    this_max = float(range_max)\n",
    "    while this_step < max_steps:\n",
    "        print('step ' + str(this_step))\n",
    "        this_resolution = this_min + ((this_max-this_min)/2)\n",
    "        sc.tl.louvain(adata,resolution=this_resolution)\n",
    "        this_clusters = adata.obs['louvain'].nunique()\n",
    "        \n",
    "        print('got ' + str(this_clusters) + ' at resolution ' + str(this_resolution))\n",
    "        \n",
    "        if this_clusters > n_cluster:\n",
    "            this_max = this_resolution\n",
    "        elif this_clusters < n_cluster:\n",
    "            this_min = this_resolution\n",
    "        else:\n",
    "            return(this_resolution, adata)\n",
    "        this_step += 1\n",
    "    \n",
    "    print('Cannot find the number of clusters')\n",
    "    print('Clustering solution from last iteration is used:' + str(this_clusters) + ' at resolution ' + str(this_resolution))"
   ]
  },
  {
   "cell_type": "code",
   "execution_count": 8,
   "metadata": {
    "scrolled": false
   },
   "outputs": [
    {
     "name": "stdout",
     "output_type": "stream",
     "text": [
      "Control\n"
     ]
    },
    {
     "name": "stderr",
     "output_type": "stream",
     "text": [
      "/data/pinello/SHARED_SOFTWARE/anaconda3/envs/ATACseq_clustering/lib/python3.7/site-packages/rpy2/robjects/pandas2ri.py:191: FutureWarning: from_items is deprecated. Please use DataFrame.from_dict(dict(items), ...) instead. DataFrame.from_dict(OrderedDict(items)) may be used to preserve the key order.\n",
      "  res = PandasDataFrame.from_items(items)\n"
     ]
    },
    {
     "name": "stdout",
     "output_type": "stream",
     "text": [
      "step 0\n",
      "got 9 at resolution 1.5\n",
      "step 1\n",
      "got 13 at resolution 2.25\n",
      "step 2\n",
      "got 9 at resolution 1.875\n",
      "step 3\n",
      "got 11 at resolution 2.0625\n",
      "step 4\n",
      "got 12 at resolution 2.15625\n",
      "BROCKMAN\n"
     ]
    },
    {
     "name": "stderr",
     "output_type": "stream",
     "text": [
      "/data/pinello/SHARED_SOFTWARE/anaconda3/envs/ATACseq_clustering/lib/python3.7/site-packages/rpy2/robjects/pandas2ri.py:191: FutureWarning: from_items is deprecated. Please use DataFrame.from_dict(dict(items), ...) instead. DataFrame.from_dict(OrderedDict(items)) may be used to preserve the key order.\n",
      "  res = PandasDataFrame.from_items(items)\n"
     ]
    },
    {
     "name": "stdout",
     "output_type": "stream",
     "text": [
      "step 0\n",
      "got 10 at resolution 1.5\n",
      "step 1\n",
      "got 11 at resolution 2.25\n",
      "step 2\n",
      "got 14 at resolution 2.625\n",
      "step 3\n",
      "got 13 at resolution 2.4375\n",
      "step 4\n",
      "got 12 at resolution 2.34375\n",
      "Cusanovich2018\n"
     ]
    },
    {
     "name": "stderr",
     "output_type": "stream",
     "text": [
      "/data/pinello/SHARED_SOFTWARE/anaconda3/envs/ATACseq_clustering/lib/python3.7/site-packages/rpy2/robjects/pandas2ri.py:191: FutureWarning: from_items is deprecated. Please use DataFrame.from_dict(dict(items), ...) instead. DataFrame.from_dict(OrderedDict(items)) may be used to preserve the key order.\n",
      "  res = PandasDataFrame.from_items(items)\n"
     ]
    },
    {
     "name": "stdout",
     "output_type": "stream",
     "text": [
      "step 0\n",
      "got 9 at resolution 1.5\n",
      "step 1\n",
      "got 13 at resolution 2.25\n",
      "step 2\n",
      "got 10 at resolution 1.875\n",
      "step 3\n",
      "got 10 at resolution 2.0625\n",
      "step 4\n",
      "got 12 at resolution 2.15625\n",
      "cisTopic\n"
     ]
    },
    {
     "name": "stderr",
     "output_type": "stream",
     "text": [
      "/data/pinello/SHARED_SOFTWARE/anaconda3/envs/ATACseq_clustering/lib/python3.7/site-packages/rpy2/robjects/pandas2ri.py:191: FutureWarning: from_items is deprecated. Please use DataFrame.from_dict(dict(items), ...) instead. DataFrame.from_dict(OrderedDict(items)) may be used to preserve the key order.\n",
      "  res = PandasDataFrame.from_items(items)\n"
     ]
    },
    {
     "name": "stdout",
     "output_type": "stream",
     "text": [
      "step 0\n",
      "got 7 at resolution 1.5\n",
      "step 1\n",
      "got 10 at resolution 2.25\n",
      "step 2\n",
      "got 11 at resolution 2.625\n",
      "step 3\n",
      "got 12 at resolution 2.8125\n",
      "chromVAR_kmers\n"
     ]
    },
    {
     "name": "stderr",
     "output_type": "stream",
     "text": [
      "/data/pinello/SHARED_SOFTWARE/anaconda3/envs/ATACseq_clustering/lib/python3.7/site-packages/rpy2/robjects/pandas2ri.py:191: FutureWarning: from_items is deprecated. Please use DataFrame.from_dict(dict(items), ...) instead. DataFrame.from_dict(OrderedDict(items)) may be used to preserve the key order.\n",
      "  res = PandasDataFrame.from_items(items)\n"
     ]
    },
    {
     "name": "stdout",
     "output_type": "stream",
     "text": [
      "step 0\n",
      "got 6 at resolution 1.5\n",
      "step 1\n",
      "got 17 at resolution 2.25\n",
      "step 2\n",
      "got 10 at resolution 1.875\n",
      "step 3\n",
      "got 14 at resolution 2.0625\n",
      "step 4\n",
      "got 11 at resolution 1.96875\n",
      "step 5\n",
      "got 13 at resolution 2.015625\n",
      "step 6\n",
      "got 14 at resolution 1.9921875\n",
      "step 7\n",
      "got 11 at resolution 1.98046875\n",
      "step 8\n",
      "got 13 at resolution 1.986328125\n",
      "step 9\n",
      "got 12 at resolution 1.9833984375\n",
      "chromVAR_motifs\n"
     ]
    },
    {
     "name": "stderr",
     "output_type": "stream",
     "text": [
      "/data/pinello/SHARED_SOFTWARE/anaconda3/envs/ATACseq_clustering/lib/python3.7/site-packages/rpy2/robjects/pandas2ri.py:191: FutureWarning: from_items is deprecated. Please use DataFrame.from_dict(dict(items), ...) instead. DataFrame.from_dict(OrderedDict(items)) may be used to preserve the key order.\n",
      "  res = PandasDataFrame.from_items(items)\n"
     ]
    },
    {
     "name": "stdout",
     "output_type": "stream",
     "text": [
      "step 0\n",
      "got 8 at resolution 1.5\n",
      "step 1\n",
      "got 18 at resolution 2.25\n",
      "step 2\n",
      "got 12 at resolution 1.875\n",
      "chromVAR_kmers_pca\n"
     ]
    },
    {
     "name": "stderr",
     "output_type": "stream",
     "text": [
      "/data/pinello/SHARED_SOFTWARE/anaconda3/envs/ATACseq_clustering/lib/python3.7/site-packages/rpy2/robjects/pandas2ri.py:191: FutureWarning: from_items is deprecated. Please use DataFrame.from_dict(dict(items), ...) instead. DataFrame.from_dict(OrderedDict(items)) may be used to preserve the key order.\n",
      "  res = PandasDataFrame.from_items(items)\n"
     ]
    },
    {
     "name": "stdout",
     "output_type": "stream",
     "text": [
      "step 0\n",
      "got 6 at resolution 1.5\n",
      "step 1\n",
      "got 12 at resolution 2.25\n",
      "chromVAR_motifs_pca\n"
     ]
    },
    {
     "name": "stderr",
     "output_type": "stream",
     "text": [
      "/data/pinello/SHARED_SOFTWARE/anaconda3/envs/ATACseq_clustering/lib/python3.7/site-packages/rpy2/robjects/pandas2ri.py:191: FutureWarning: from_items is deprecated. Please use DataFrame.from_dict(dict(items), ...) instead. DataFrame.from_dict(OrderedDict(items)) may be used to preserve the key order.\n",
      "  res = PandasDataFrame.from_items(items)\n"
     ]
    },
    {
     "name": "stdout",
     "output_type": "stream",
     "text": [
      "step 0\n",
      "got 10 at resolution 1.5\n",
      "step 1\n",
      "got 16 at resolution 2.25\n",
      "step 2\n",
      "got 11 at resolution 1.875\n",
      "step 3\n",
      "got 15 at resolution 2.0625\n",
      "step 4\n",
      "got 13 at resolution 1.96875\n",
      "step 5\n",
      "got 12 at resolution 1.921875\n",
      "GeneScoring\n"
     ]
    },
    {
     "name": "stderr",
     "output_type": "stream",
     "text": [
      "/data/pinello/SHARED_SOFTWARE/anaconda3/envs/ATACseq_clustering/lib/python3.7/site-packages/rpy2/robjects/pandas2ri.py:191: FutureWarning: from_items is deprecated. Please use DataFrame.from_dict(dict(items), ...) instead. DataFrame.from_dict(OrderedDict(items)) may be used to preserve the key order.\n",
      "  res = PandasDataFrame.from_items(items)\n"
     ]
    },
    {
     "name": "stdout",
     "output_type": "stream",
     "text": [
      "step 0\n",
      "got 33 at resolution 1.5\n",
      "step 1\n",
      "got 2 at resolution 0.75\n",
      "step 2\n",
      "got 15 at resolution 1.125\n",
      "step 3\n",
      "got 5 at resolution 0.9375\n",
      "step 4\n",
      "got 10 at resolution 1.03125\n",
      "step 5\n",
      "got 13 at resolution 1.078125\n",
      "step 6\n",
      "got 11 at resolution 1.0546875\n",
      "step 7\n",
      "got 11 at resolution 1.06640625\n",
      "step 8\n",
      "got 12 at resolution 1.072265625\n",
      "GeneScoring_pca\n"
     ]
    },
    {
     "name": "stderr",
     "output_type": "stream",
     "text": [
      "/data/pinello/SHARED_SOFTWARE/anaconda3/envs/ATACseq_clustering/lib/python3.7/site-packages/rpy2/robjects/pandas2ri.py:191: FutureWarning: from_items is deprecated. Please use DataFrame.from_dict(dict(items), ...) instead. DataFrame.from_dict(OrderedDict(items)) may be used to preserve the key order.\n",
      "  res = PandasDataFrame.from_items(items)\n"
     ]
    },
    {
     "name": "stdout",
     "output_type": "stream",
     "text": [
      "step 0\n",
      "got 13 at resolution 1.5\n",
      "step 1\n",
      "got 6 at resolution 0.75\n",
      "step 2\n",
      "got 10 at resolution 1.125\n",
      "step 3\n",
      "got 11 at resolution 1.3125\n",
      "step 4\n",
      "got 11 at resolution 1.40625\n",
      "step 5\n",
      "got 11 at resolution 1.453125\n",
      "step 6\n",
      "got 12 at resolution 1.4765625\n",
      "Cicero\n"
     ]
    },
    {
     "name": "stderr",
     "output_type": "stream",
     "text": [
      "/data/pinello/SHARED_SOFTWARE/anaconda3/envs/ATACseq_clustering/lib/python3.7/site-packages/rpy2/robjects/pandas2ri.py:191: FutureWarning: from_items is deprecated. Please use DataFrame.from_dict(dict(items), ...) instead. DataFrame.from_dict(OrderedDict(items)) may be used to preserve the key order.\n",
      "  res = PandasDataFrame.from_items(items)\n"
     ]
    },
    {
     "name": "stdout",
     "output_type": "stream",
     "text": [
      "step 0\n",
      "got 37 at resolution 1.5\n",
      "step 1\n",
      "got 1 at resolution 0.75\n",
      "step 2\n",
      "got 18 at resolution 1.125\n",
      "step 3\n",
      "got 7 at resolution 0.9375\n",
      "step 4\n",
      "got 14 at resolution 1.03125\n",
      "step 5\n",
      "got 11 at resolution 0.984375\n",
      "step 6\n",
      "got 10 at resolution 1.0078125\n",
      "step 7\n",
      "got 12 at resolution 1.01953125\n",
      "Cicero_pca\n"
     ]
    },
    {
     "name": "stderr",
     "output_type": "stream",
     "text": [
      "/data/pinello/SHARED_SOFTWARE/anaconda3/envs/ATACseq_clustering/lib/python3.7/site-packages/rpy2/robjects/pandas2ri.py:191: FutureWarning: from_items is deprecated. Please use DataFrame.from_dict(dict(items), ...) instead. DataFrame.from_dict(OrderedDict(items)) may be used to preserve the key order.\n",
      "  res = PandasDataFrame.from_items(items)\n"
     ]
    },
    {
     "name": "stdout",
     "output_type": "stream",
     "text": [
      "step 0\n",
      "got 13 at resolution 1.5\n",
      "step 1\n",
      "got 7 at resolution 0.75\n",
      "step 2\n",
      "got 9 at resolution 1.125\n",
      "step 3\n",
      "got 11 at resolution 1.3125\n",
      "step 4\n",
      "got 13 at resolution 1.40625\n",
      "step 5\n",
      "got 12 at resolution 1.359375\n",
      "SnapATAC\n"
     ]
    },
    {
     "name": "stderr",
     "output_type": "stream",
     "text": [
      "/data/pinello/SHARED_SOFTWARE/anaconda3/envs/ATACseq_clustering/lib/python3.7/site-packages/rpy2/robjects/pandas2ri.py:191: FutureWarning: from_items is deprecated. Please use DataFrame.from_dict(dict(items), ...) instead. DataFrame.from_dict(OrderedDict(items)) may be used to preserve the key order.\n",
      "  res = PandasDataFrame.from_items(items)\n"
     ]
    },
    {
     "name": "stdout",
     "output_type": "stream",
     "text": [
      "step 0\n",
      "got 11 at resolution 1.5\n",
      "step 1\n",
      "got 12 at resolution 2.25\n",
      "Scasat\n"
     ]
    },
    {
     "name": "stderr",
     "output_type": "stream",
     "text": [
      "/data/pinello/SHARED_SOFTWARE/anaconda3/envs/ATACseq_clustering/lib/python3.7/site-packages/rpy2/robjects/pandas2ri.py:191: FutureWarning: from_items is deprecated. Please use DataFrame.from_dict(dict(items), ...) instead. DataFrame.from_dict(OrderedDict(items)) may be used to preserve the key order.\n",
      "  res = PandasDataFrame.from_items(items)\n"
     ]
    },
    {
     "name": "stdout",
     "output_type": "stream",
     "text": [
      "step 0\n",
      "got 7 at resolution 1.5\n",
      "step 1\n",
      "got 11 at resolution 2.25\n",
      "step 2\n",
      "got 14 at resolution 2.625\n",
      "step 3\n",
      "got 12 at resolution 2.4375\n",
      "scABC\n"
     ]
    },
    {
     "name": "stderr",
     "output_type": "stream",
     "text": [
      "/data/pinello/SHARED_SOFTWARE/anaconda3/envs/ATACseq_clustering/lib/python3.7/site-packages/rpy2/robjects/pandas2ri.py:191: FutureWarning: from_items is deprecated. Please use DataFrame.from_dict(dict(items), ...) instead. DataFrame.from_dict(OrderedDict(items)) may be used to preserve the key order.\n",
      "  res = PandasDataFrame.from_items(items)\n"
     ]
    },
    {
     "name": "stdout",
     "output_type": "stream",
     "text": [
      "step 0\n",
      "got 8 at resolution 1.5\n",
      "step 1\n",
      "got 28 at resolution 2.25\n",
      "step 2\n",
      "got 17 at resolution 1.875\n",
      "step 3\n",
      "got 13 at resolution 1.6875\n",
      "step 4\n",
      "got 8 at resolution 1.59375\n",
      "step 5\n",
      "got 10 at resolution 1.640625\n",
      "step 6\n",
      "got 11 at resolution 1.6640625\n",
      "step 7\n",
      "got 9 at resolution 1.67578125\n",
      "step 8\n",
      "got 8 at resolution 1.681640625\n",
      "step 9\n",
      "got 9 at resolution 1.6845703125\n",
      "step 10\n",
      "got 9 at resolution 1.68603515625\n",
      "step 11\n",
      "got 9 at resolution 1.686767578125\n",
      "step 12\n",
      "got 9 at resolution 1.6871337890625\n",
      "step 13\n",
      "got 13 at resolution 1.68731689453125\n",
      "step 14\n",
      "got 13 at resolution 1.687225341796875\n",
      "step 15\n",
      "got 13 at resolution 1.6871795654296875\n",
      "step 16\n",
      "got 9 at resolution 1.6871566772460938\n",
      "step 17\n",
      "got 13 at resolution 1.6871681213378906\n",
      "step 18\n",
      "got 13 at resolution 1.6871623992919922\n",
      "step 19\n",
      "got 13 at resolution 1.687159538269043\n",
      "Cannot find the number of clusters\n",
      "Clustering solution from last iteration is used:13 at resolution 1.687159538269043\n",
      "SCRAT\n"
     ]
    },
    {
     "name": "stderr",
     "output_type": "stream",
     "text": [
      "/data/pinello/SHARED_SOFTWARE/anaconda3/envs/ATACseq_clustering/lib/python3.7/site-packages/rpy2/robjects/pandas2ri.py:191: FutureWarning: from_items is deprecated. Please use DataFrame.from_dict(dict(items), ...) instead. DataFrame.from_dict(OrderedDict(items)) may be used to preserve the key order.\n",
      "  res = PandasDataFrame.from_items(items)\n"
     ]
    },
    {
     "name": "stdout",
     "output_type": "stream",
     "text": [
      "step 0\n",
      "got 9 at resolution 1.5\n",
      "step 1\n",
      "got 13 at resolution 2.25\n",
      "step 2\n",
      "got 10 at resolution 1.875\n",
      "step 3\n",
      "got 11 at resolution 2.0625\n",
      "step 4\n",
      "got 12 at resolution 2.15625\n",
      "SCRAT_pca\n"
     ]
    },
    {
     "name": "stderr",
     "output_type": "stream",
     "text": [
      "/data/pinello/SHARED_SOFTWARE/anaconda3/envs/ATACseq_clustering/lib/python3.7/site-packages/rpy2/robjects/pandas2ri.py:191: FutureWarning: from_items is deprecated. Please use DataFrame.from_dict(dict(items), ...) instead. DataFrame.from_dict(OrderedDict(items)) may be used to preserve the key order.\n",
      "  res = PandasDataFrame.from_items(items)\n"
     ]
    },
    {
     "name": "stdout",
     "output_type": "stream",
     "text": [
      "step 0\n",
      "got 10 at resolution 1.5\n",
      "step 1\n",
      "got 15 at resolution 2.25\n",
      "step 2\n",
      "got 11 at resolution 1.875\n",
      "step 3\n",
      "got 12 at resolution 2.0625\n"
     ]
    }
   ],
   "source": [
    "for file in files:\n",
    "    file_split = file.split('_')\n",
    "    method = file_split[1]\n",
    "    dataset = file_split[2].split('.')[0]\n",
    "    if(len(file_split)>3):\n",
    "        method = method + '_' + '_'.join(file_split[3:]).split('.')[0]\n",
    "    print(method)\n",
    "\n",
    "    pandas2ri.activate()\n",
    "    readRDS = robjects.r['readRDS']\n",
    "    df_rds = readRDS(os.path.join(path_fm,file))\n",
    "    fm_mat = pandas2ri.ri2py(robjects.r['data.frame'](robjects.r['as.matrix'](df_rds)))\n",
    "    fm_mat.columns = metadata.index\n",
    "    \n",
    "    adata = sc.AnnData(fm_mat.T)\n",
    "    adata.var_names_make_unique()\n",
    "    adata.obs = metadata.loc[adata.obs.index,]\n",
    "    df_metrics.loc[method,] = \"\"\n",
    "    #Louvain\n",
    "    sc.pp.neighbors(adata, n_neighbors=15,use_rep='X')\n",
    "#     sc.tl.louvain(adata)\n",
    "    getNClusters(adata,n_cluster=num_clusters)\n",
    "    #kmeans\n",
    "    kmeans = KMeans(n_clusters=num_clusters, random_state=2019).fit(adata.X)\n",
    "    adata.obs['kmeans'] = pd.Series(kmeans.labels_,index=adata.obs.index).astype('category')\n",
    "    #hierachical clustering\n",
    "    hc = AgglomerativeClustering(n_clusters=num_clusters).fit(adata.X)\n",
    "    adata.obs['hc'] = pd.Series(hc.labels_,index=adata.obs.index).astype('category')\n",
    "    #clustering metrics\n",
    "    \n",
    "    #adjusted rank index\n",
    "    ari_louvain = adjusted_rand_score(adata.obs['label'], adata.obs['louvain'])\n",
    "    ari_kmeans = adjusted_rand_score(adata.obs['label'], adata.obs['kmeans'])\n",
    "    ari_hc = adjusted_rand_score(adata.obs['label'], adata.obs['hc'])\n",
    "    #adjusted mutual information\n",
    "    ami_louvain = adjusted_mutual_info_score(adata.obs['label'], adata.obs['louvain'],average_method='arithmetic')\n",
    "    ami_kmeans = adjusted_mutual_info_score(adata.obs['label'], adata.obs['kmeans'],average_method='arithmetic')   \n",
    "    ami_hc = adjusted_mutual_info_score(adata.obs['label'], adata.obs['hc'],average_method='arithmetic')\n",
    "    #homogeneity\n",
    "    homo_louvain = homogeneity_score(adata.obs['label'], adata.obs['louvain'])\n",
    "    homo_kmeans = homogeneity_score(adata.obs['label'], adata.obs['kmeans'])\n",
    "    homo_hc = homogeneity_score(adata.obs['label'], adata.obs['hc'])\n",
    "\n",
    "    df_metrics.loc[method,['ARI_Louvain','ARI_kmeans','ARI_HC']] = [ari_louvain,ari_kmeans,ari_hc]\n",
    "    df_metrics.loc[method,['AMI_Louvain','AMI_kmeans','AMI_HC']] = [ami_louvain,ami_kmeans,ami_hc]\n",
    "    df_metrics.loc[method,['Homogeneity_Louvain','Homogeneity_kmeans','Homogeneity_HC']] = [homo_louvain,homo_kmeans,homo_hc] \n",
    "    adata.obs[['louvain','kmeans','hc']].to_csv(os.path.join(path_clusters ,method + '_clusters.tsv'),sep='\\t')"
   ]
  },
  {
   "cell_type": "code",
   "execution_count": 9,
   "metadata": {},
   "outputs": [],
   "source": [
    "df_metrics.to_csv(path_metrics+'clustering_scores.csv')"
   ]
  },
  {
   "cell_type": "code",
   "execution_count": 10,
   "metadata": {},
   "outputs": [
    {
     "data": {
      "text/html": [
       "<div>\n",
       "<style scoped>\n",
       "    .dataframe tbody tr th:only-of-type {\n",
       "        vertical-align: middle;\n",
       "    }\n",
       "\n",
       "    .dataframe tbody tr th {\n",
       "        vertical-align: top;\n",
       "    }\n",
       "\n",
       "    .dataframe thead th {\n",
       "        text-align: right;\n",
       "    }\n",
       "</style>\n",
       "<table border=\"1\" class=\"dataframe\">\n",
       "  <thead>\n",
       "    <tr style=\"text-align: right;\">\n",
       "      <th></th>\n",
       "      <th>ARI_Louvain</th>\n",
       "      <th>ARI_kmeans</th>\n",
       "      <th>ARI_HC</th>\n",
       "      <th>AMI_Louvain</th>\n",
       "      <th>AMI_kmeans</th>\n",
       "      <th>AMI_HC</th>\n",
       "      <th>Homogeneity_Louvain</th>\n",
       "      <th>Homogeneity_kmeans</th>\n",
       "      <th>Homogeneity_HC</th>\n",
       "    </tr>\n",
       "  </thead>\n",
       "  <tbody>\n",
       "    <tr>\n",
       "      <th>Control</th>\n",
       "      <td>0.65972</td>\n",
       "      <td>0.636097</td>\n",
       "      <td>0.591576</td>\n",
       "      <td>0.79335</td>\n",
       "      <td>0.780363</td>\n",
       "      <td>0.756768</td>\n",
       "      <td>0.789569</td>\n",
       "      <td>0.77741</td>\n",
       "      <td>0.7553</td>\n",
       "    </tr>\n",
       "    <tr>\n",
       "      <th>BROCKMAN</th>\n",
       "      <td>0.641155</td>\n",
       "      <td>0.532434</td>\n",
       "      <td>0.576959</td>\n",
       "      <td>0.784956</td>\n",
       "      <td>0.73782</td>\n",
       "      <td>0.758699</td>\n",
       "      <td>0.78375</td>\n",
       "      <td>0.736047</td>\n",
       "      <td>0.756478</td>\n",
       "    </tr>\n",
       "    <tr>\n",
       "      <th>Cusanovich2018</th>\n",
       "      <td>0.692886</td>\n",
       "      <td>0.592626</td>\n",
       "      <td>0.618372</td>\n",
       "      <td>0.814455</td>\n",
       "      <td>0.787994</td>\n",
       "      <td>0.771733</td>\n",
       "      <td>0.817862</td>\n",
       "      <td>0.777585</td>\n",
       "      <td>0.760077</td>\n",
       "    </tr>\n",
       "    <tr>\n",
       "      <th>cisTopic</th>\n",
       "      <td>0.721536</td>\n",
       "      <td>0.720576</td>\n",
       "      <td>0.654783</td>\n",
       "      <td>0.824928</td>\n",
       "      <td>0.838678</td>\n",
       "      <td>0.784448</td>\n",
       "      <td>0.826919</td>\n",
       "      <td>0.835139</td>\n",
       "      <td>0.787615</td>\n",
       "    </tr>\n",
       "    <tr>\n",
       "      <th>chromVAR_kmers</th>\n",
       "      <td>0.392939</td>\n",
       "      <td>0.362402</td>\n",
       "      <td>0.375366</td>\n",
       "      <td>0.552959</td>\n",
       "      <td>0.565858</td>\n",
       "      <td>0.539151</td>\n",
       "      <td>0.54188</td>\n",
       "      <td>0.562366</td>\n",
       "      <td>0.542549</td>\n",
       "    </tr>\n",
       "    <tr>\n",
       "      <th>chromVAR_motifs</th>\n",
       "      <td>0.177749</td>\n",
       "      <td>0.212574</td>\n",
       "      <td>0.167491</td>\n",
       "      <td>0.359959</td>\n",
       "      <td>0.4059</td>\n",
       "      <td>0.325384</td>\n",
       "      <td>0.364856</td>\n",
       "      <td>0.415697</td>\n",
       "      <td>0.337029</td>\n",
       "    </tr>\n",
       "    <tr>\n",
       "      <th>chromVAR_kmers_pca</th>\n",
       "      <td>0.407467</td>\n",
       "      <td>0.405397</td>\n",
       "      <td>0.3525</td>\n",
       "      <td>0.554217</td>\n",
       "      <td>0.583439</td>\n",
       "      <td>0.53764</td>\n",
       "      <td>0.547964</td>\n",
       "      <td>0.590954</td>\n",
       "      <td>0.541055</td>\n",
       "    </tr>\n",
       "    <tr>\n",
       "      <th>chromVAR_motifs_pca</th>\n",
       "      <td>0.214423</td>\n",
       "      <td>0.184863</td>\n",
       "      <td>0.151007</td>\n",
       "      <td>0.394982</td>\n",
       "      <td>0.374467</td>\n",
       "      <td>0.324611</td>\n",
       "      <td>0.399325</td>\n",
       "      <td>0.386423</td>\n",
       "      <td>0.334291</td>\n",
       "    </tr>\n",
       "    <tr>\n",
       "      <th>GeneScoring</th>\n",
       "      <td>0.00284294</td>\n",
       "      <td>0.1755</td>\n",
       "      <td>0.175657</td>\n",
       "      <td>0.00441611</td>\n",
       "      <td>0.289236</td>\n",
       "      <td>0.282009</td>\n",
       "      <td>0.0252127</td>\n",
       "      <td>0.266834</td>\n",
       "      <td>0.279538</td>\n",
       "    </tr>\n",
       "    <tr>\n",
       "      <th>GeneScoring_pca</th>\n",
       "      <td>0.149945</td>\n",
       "      <td>0.184965</td>\n",
       "      <td>0.197432</td>\n",
       "      <td>0.327187</td>\n",
       "      <td>0.334777</td>\n",
       "      <td>0.34613</td>\n",
       "      <td>0.334635</td>\n",
       "      <td>0.33875</td>\n",
       "      <td>0.346018</td>\n",
       "    </tr>\n",
       "    <tr>\n",
       "      <th>Cicero</th>\n",
       "      <td>-0.000142554</td>\n",
       "      <td>0.242909</td>\n",
       "      <td>0.308266</td>\n",
       "      <td>0.000938386</td>\n",
       "      <td>0.454503</td>\n",
       "      <td>0.477417</td>\n",
       "      <td>0.0218704</td>\n",
       "      <td>0.376673</td>\n",
       "      <td>0.453725</td>\n",
       "    </tr>\n",
       "    <tr>\n",
       "      <th>Cicero_pca</th>\n",
       "      <td>0.293574</td>\n",
       "      <td>0.262829</td>\n",
       "      <td>0.234186</td>\n",
       "      <td>0.47036</td>\n",
       "      <td>0.433284</td>\n",
       "      <td>0.421939</td>\n",
       "      <td>0.461548</td>\n",
       "      <td>0.433776</td>\n",
       "      <td>0.40749</td>\n",
       "    </tr>\n",
       "    <tr>\n",
       "      <th>SnapATAC</th>\n",
       "      <td>0.847829</td>\n",
       "      <td>0.846591</td>\n",
       "      <td>0.815399</td>\n",
       "      <td>0.907737</td>\n",
       "      <td>0.906247</td>\n",
       "      <td>0.894752</td>\n",
       "      <td>0.907918</td>\n",
       "      <td>0.90812</td>\n",
       "      <td>0.895495</td>\n",
       "    </tr>\n",
       "    <tr>\n",
       "      <th>Scasat</th>\n",
       "      <td>0.626085</td>\n",
       "      <td>0.647375</td>\n",
       "      <td>0.615576</td>\n",
       "      <td>0.770045</td>\n",
       "      <td>0.785213</td>\n",
       "      <td>0.761184</td>\n",
       "      <td>0.767963</td>\n",
       "      <td>0.783016</td>\n",
       "      <td>0.758848</td>\n",
       "    </tr>\n",
       "    <tr>\n",
       "      <th>scABC</th>\n",
       "      <td>0.341578</td>\n",
       "      <td>0.27842</td>\n",
       "      <td>0.402747</td>\n",
       "      <td>0.509823</td>\n",
       "      <td>0.549059</td>\n",
       "      <td>0.589272</td>\n",
       "      <td>0.471725</td>\n",
       "      <td>0.415121</td>\n",
       "      <td>0.572294</td>\n",
       "    </tr>\n",
       "    <tr>\n",
       "      <th>SCRAT</th>\n",
       "      <td>0.551589</td>\n",
       "      <td>0.488487</td>\n",
       "      <td>0.479701</td>\n",
       "      <td>0.728861</td>\n",
       "      <td>0.703775</td>\n",
       "      <td>0.706105</td>\n",
       "      <td>0.728487</td>\n",
       "      <td>0.70234</td>\n",
       "      <td>0.700959</td>\n",
       "    </tr>\n",
       "    <tr>\n",
       "      <th>SCRAT_pca</th>\n",
       "      <td>0.537457</td>\n",
       "      <td>0.516056</td>\n",
       "      <td>0.512602</td>\n",
       "      <td>0.72096</td>\n",
       "      <td>0.718026</td>\n",
       "      <td>0.720016</td>\n",
       "      <td>0.719459</td>\n",
       "      <td>0.718332</td>\n",
       "      <td>0.716091</td>\n",
       "    </tr>\n",
       "  </tbody>\n",
       "</table>\n",
       "</div>"
      ],
      "text/plain": [
       "                     ARI_Louvain ARI_kmeans    ARI_HC  AMI_Louvain AMI_kmeans  \\\n",
       "Control                  0.65972   0.636097  0.591576      0.79335   0.780363   \n",
       "BROCKMAN                0.641155   0.532434  0.576959     0.784956    0.73782   \n",
       "Cusanovich2018          0.692886   0.592626  0.618372     0.814455   0.787994   \n",
       "cisTopic                0.721536   0.720576  0.654783     0.824928   0.838678   \n",
       "chromVAR_kmers          0.392939   0.362402  0.375366     0.552959   0.565858   \n",
       "chromVAR_motifs         0.177749   0.212574  0.167491     0.359959     0.4059   \n",
       "chromVAR_kmers_pca      0.407467   0.405397    0.3525     0.554217   0.583439   \n",
       "chromVAR_motifs_pca     0.214423   0.184863  0.151007     0.394982   0.374467   \n",
       "GeneScoring           0.00284294     0.1755  0.175657   0.00441611   0.289236   \n",
       "GeneScoring_pca         0.149945   0.184965  0.197432     0.327187   0.334777   \n",
       "Cicero              -0.000142554   0.242909  0.308266  0.000938386   0.454503   \n",
       "Cicero_pca              0.293574   0.262829  0.234186      0.47036   0.433284   \n",
       "SnapATAC                0.847829   0.846591  0.815399     0.907737   0.906247   \n",
       "Scasat                  0.626085   0.647375  0.615576     0.770045   0.785213   \n",
       "scABC                   0.341578    0.27842  0.402747     0.509823   0.549059   \n",
       "SCRAT                   0.551589   0.488487  0.479701     0.728861   0.703775   \n",
       "SCRAT_pca               0.537457   0.516056  0.512602      0.72096   0.718026   \n",
       "\n",
       "                       AMI_HC Homogeneity_Louvain Homogeneity_kmeans  \\\n",
       "Control              0.756768            0.789569            0.77741   \n",
       "BROCKMAN             0.758699             0.78375           0.736047   \n",
       "Cusanovich2018       0.771733            0.817862           0.777585   \n",
       "cisTopic             0.784448            0.826919           0.835139   \n",
       "chromVAR_kmers       0.539151             0.54188           0.562366   \n",
       "chromVAR_motifs      0.325384            0.364856           0.415697   \n",
       "chromVAR_kmers_pca    0.53764            0.547964           0.590954   \n",
       "chromVAR_motifs_pca  0.324611            0.399325           0.386423   \n",
       "GeneScoring          0.282009           0.0252127           0.266834   \n",
       "GeneScoring_pca       0.34613            0.334635            0.33875   \n",
       "Cicero               0.477417           0.0218704           0.376673   \n",
       "Cicero_pca           0.421939            0.461548           0.433776   \n",
       "SnapATAC             0.894752            0.907918            0.90812   \n",
       "Scasat               0.761184            0.767963           0.783016   \n",
       "scABC                0.589272            0.471725           0.415121   \n",
       "SCRAT                0.706105            0.728487            0.70234   \n",
       "SCRAT_pca            0.720016            0.719459           0.718332   \n",
       "\n",
       "                    Homogeneity_HC  \n",
       "Control                     0.7553  \n",
       "BROCKMAN                  0.756478  \n",
       "Cusanovich2018            0.760077  \n",
       "cisTopic                  0.787615  \n",
       "chromVAR_kmers            0.542549  \n",
       "chromVAR_motifs           0.337029  \n",
       "chromVAR_kmers_pca        0.541055  \n",
       "chromVAR_motifs_pca       0.334291  \n",
       "GeneScoring               0.279538  \n",
       "GeneScoring_pca           0.346018  \n",
       "Cicero                    0.453725  \n",
       "Cicero_pca                 0.40749  \n",
       "SnapATAC                  0.895495  \n",
       "Scasat                    0.758848  \n",
       "scABC                     0.572294  \n",
       "SCRAT                     0.700959  \n",
       "SCRAT_pca                 0.716091  "
      ]
     },
     "execution_count": 10,
     "metadata": {},
     "output_type": "execute_result"
    }
   ],
   "source": [
    "df_metrics"
   ]
  },
  {
   "cell_type": "code",
   "execution_count": null,
   "metadata": {},
   "outputs": [],
   "source": []
  }
 ],
 "metadata": {
  "kernelspec": {
   "display_name": "Python [conda env:ATACseq_clustering]",
   "language": "python",
   "name": "conda-env-ATACseq_clustering-py"
  },
  "language_info": {
   "codemirror_mode": {
    "name": "ipython",
    "version": 3
   },
   "file_extension": ".py",
   "mimetype": "text/x-python",
   "name": "python",
   "nbconvert_exporter": "python",
   "pygments_lexer": "ipython3",
   "version": "3.7.3"
  }
 },
 "nbformat": 4,
 "nbformat_minor": 2
}
