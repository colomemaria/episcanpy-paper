{
 "cells": [
  {
   "cell_type": "code",
   "execution_count": null,
   "metadata": {},
   "outputs": [],
   "source": [
    "import episcanpy as epi\n",
    "import numpy as np\n",
    "import pandas as pd\n",
    "import seaborn as sns\n",
    "import matplotlib.pyplot as plt\n",
    "from scipy import stats\n",
    "\n",
    "import pysam\n",
    "import argparse\n",
    "import numpy as np\n",
    "import anndata as ad\n",
    "import pandas as pd\n",
    "from scipy.sparse import lil_matrix\n",
    "from multiprocessing import Pool, Manager, Value\n",
    "import gzip\n",
    "import os\n",
    "from functools import partial"
   ]
  },
  {
   "cell_type": "markdown",
   "metadata": {},
   "source": [
    "# Downloading data"
   ]
  },
  {
   "cell_type": "code",
   "execution_count": 2,
   "metadata": {},
   "outputs": [
    {
     "data": {
      "text/plain": [
       "'/mnt/znas/icb_zstore01/scratch/users/anna.danese/greenleaf_tsv'"
      ]
     },
     "execution_count": 2,
     "metadata": {},
     "output_type": "execute_result"
    }
   ],
   "source": [
    "# download tsv, tbi and filters index\n",
    "!wget https://cf.10xgenomics.com/samples/cell-atac/1.2.0/atac_pbmc_10k_nextgem/atac_pbmc_10k_nextgem_fragments.tsv.gz.tbi\n",
    "!wget https://cf.10xgenomics.com/samples/cell-atac/1.2.0/atac_pbmc_10k_nextgem/atac_pbmc_10k_nextgem_fragments.tsv.gz\n",
    "\n",
    "!https://cf.10xgenomics.com/samples/cell-atac/1.2.0/atac_pbmc_10k_nextgem/atac_pbmc_10k_nextgem_singlecell.csv"
   ]
  },
  {
   "cell_type": "markdown",
   "metadata": {},
   "source": [
    "## calling peaks for the 10x data"
   ]
  },
  {
   "cell_type": "code",
   "execution_count": 3,
   "metadata": {
    "scrolled": true
   },
   "outputs": [],
   "source": [
    "!macs2 callpeak -t atac_pbmc_10k_nextgem_fragments.tsv -n more_peaks_atac_pbmc_10k_nextgem_fragments --nomodel -p 0.005"
   ]
  },
  {
   "cell_type": "code",
   "execution_count": 3,
   "metadata": {},
   "outputs": [
    {
     "name": "stdout",
     "output_type": "stream",
     "text": [
      "156283 more_peaks_atac_pbmc_10k_nextgem_fragments_summits.bed\r\n"
     ]
    }
   ],
   "source": [
    "!wc -l more_peaks_atac_pbmc_10k_nextgem_fragments_summits.bed"
   ]
  },
  {
   "cell_type": "code",
   "execution_count": 5,
   "metadata": {},
   "outputs": [],
   "source": [
    "peak_file_10x = 'more_peaks_atac_pbmc_10k_nextgem_fragments_summits.bed'"
   ]
  },
  {
   "cell_type": "markdown",
   "metadata": {},
   "source": [
    "# Build count matrices\n",
    "\n",
    "- I want to build a count matrix only using 10x peaks\n",
    "- I want to build a count matrix with the merged filtered peaks for both 10x and the Greenleaf sample(s)"
   ]
  },
  {
   "cell_type": "code",
   "execution_count": 6,
   "metadata": {},
   "outputs": [],
   "source": [
    "DATADIR = ''\n",
    "WINDOWFILE=DATADIR+peak_file_10x\n",
    "all_CHR=['1', '2', '3', '4', '5', '6', '7', '8', '9', '10', '11', '12', '13', '14',\n",
    "         '15', '16', '17', '18', '19','20', '21', '22', 'X', 'Y', 'M']\n",
    "BEDFILE = 'atac_pbmc_10k_nextgem_fragments.tsv.gz'\n",
    "OUTPUTPREFIX = 'atac_pbmc_10k_nextgem_fragments_more_peaks_'\n",
    "chrom_windows = {}\n",
    "THREAD = 6\n",
    "manager = Manager()\n",
    "allmtx = manager.dict()\n",
    "\n",
    "\n",
    "for CHR in all_CHR:\n",
    "    gen_windows = {}\n",
    "    gen_windows[CHR] = []\n",
    "    file = open(WINDOWFILE)\n",
    "    for line in file:\n",
    "        ar = line.strip().split('\\t')\n",
    "        if ar[0] == ('chr' + CHR):\n",
    "            gen_windows[CHR].append([int(ar[1]), int(ar[2])])\n",
    "    chrom_windows[CHR] = {CHR: gen_windows[CHR]}"
   ]
  },
  {
   "cell_type": "code",
   "execution_count": 7,
   "metadata": {},
   "outputs": [
    {
     "name": "stdout",
     "output_type": "stream",
     "text": [
      "Time point, loading barcodess 0.018559932708740234 sec\n",
      "Chr:  chr1\n",
      "Time point, done sorting barcodes 217.87969493865967 sec\n",
      "barcodes:\t 199752\n",
      "Time point, loading index file 217.88015413284302 sec\n",
      "Time point, done loading index file and creating window_list 217.88018012046814 sec\n",
      "Time point, after creating window_list 217.92262649536133 sec\n",
      "building count matrix\n",
      "Time point, after creating empty matrix 217.93671464920044 sec\n",
      "All parts for threading\n",
      "[range(0, 4980), range(4980, 9960), range(9960, 14940), range(14940, 19920), range(19920, 24900), range(24900, 29880)]\n",
      "In Index:  0  PID:  42975 , loading tbx file\n",
      "range(0, 4980)\n",
      "In Index:  2  PID:  42981 , loading tbx file\n",
      "range(9960, 14940)\n",
      "In Index:  1  PID:  42978 , loading tbx file\n",
      "range(4980, 9960)\n",
      "In Index:  3  PID:  42984 , loading tbx file\n",
      "range(14940, 19920)\n",
      "In Index:  4  PID:  42987 , loading tbx file\n",
      "range(19920, 24900)\n",
      "In Index:  5  PID:  42990 , loading tbx file\n",
      "range(24900, 29880)\n",
      "In Index:  4  PID:  42987 , all value =  796907\n",
      "In Index:  2  PID:  42981 , all value =  693706\n",
      "In Index:  5  PID:  42990 , all value =  693706\n",
      "In Index:  1  PID:  42978 , all value =  796907\n",
      "In Index:  3  PID:  42984 , all value =  927515\n",
      "In Index:  0  PID:  42975 , all value =  927515\n",
      "All value =  4836256\n",
      "Time point, after creating a count matrix 2652.71812582016 sec\n",
      "building AnnData object\n"
     ]
    },
    {
     "name": "stderr",
     "output_type": "stream",
     "text": [
      "Variable names are not unique. To make them unique, call `.var_names_make_unique`.\n"
     ]
    },
    {
     "name": "stdout",
     "output_type": "stream",
     "text": [
      "Time point, after saving H5AD 2653.370507478714 sec\n",
      "Time point, loading barcodess 0.07533836364746094 sec\n",
      "Chr:  chr2\n",
      "Time point, done sorting barcodes 175.89739227294922 sec\n",
      "barcodes:\t 188948\n",
      "Time point, loading index file 175.8989200592041 sec\n",
      "Time point, done loading index file and creating window_list 175.8989634513855 sec\n",
      "Time point, after creating window_list 175.9431562423706 sec\n",
      "building count matrix\n",
      "Time point, after creating empty matrix 175.95132899284363 sec\n",
      "All parts for threading\n",
      "[range(0, 4318), range(4318, 8637), range(8637, 12956), range(12956, 17274), range(17274, 21593), range(21593, 25912)]\n",
      "In Index:  1  PID:  1843 , loading tbx file\n",
      "range(4318, 8637)\n",
      "In Index:  0  PID:  1840 , loading tbx file\n",
      "range(0, 4318)\n",
      "In Index:  2  PID:  1846 , loading tbx file\n",
      "range(8637, 12956)\n",
      "In Index:  3  PID:  1849 , loading tbx file\n",
      "range(12956, 17274)\n",
      "In Index:  4  PID:  1852 , loading tbx file\n",
      "range(17274, 21593)\n",
      "In Index:  5  PID:  1855 , loading tbx file\n",
      "range(21593, 25912)\n",
      "In Index:  4  PID:  1852 , all value =  552926\n",
      "In Index:  3  PID:  1849 , all value =  600581\n",
      "In Index:  5  PID:  1855 , all value =  580754\n",
      "In Index:  0  PID:  1840 , all value =  600581\n",
      "In Index:  1  PID:  1843 , all value =  552926\n",
      "In Index:  2  PID:  1846 , all value =  580754\n",
      "All value =  3468522\n",
      "Time point, after creating a count matrix 1642.0951812267303 sec\n",
      "building AnnData object\n"
     ]
    },
    {
     "name": "stderr",
     "output_type": "stream",
     "text": [
      "Variable names are not unique. To make them unique, call `.var_names_make_unique`.\n"
     ]
    },
    {
     "name": "stdout",
     "output_type": "stream",
     "text": [
      "Time point, after saving H5AD 1642.650149345398 sec\n",
      "Time point, loading barcodess 0.07525420188903809 sec\n",
      "Chr:  chr3\n",
      "Time point, done sorting barcodes 159.0638747215271 sec\n",
      "barcodes:\t 174299\n",
      "Time point, loading index file 159.06422090530396 sec\n",
      "Time point, done loading index file and creating window_list 159.06527376174927 sec\n",
      "Time point, after creating window_list 159.1244387626648 sec\n",
      "building count matrix\n",
      "Time point, after creating empty matrix 159.12930154800415 sec\n",
      "All parts for threading\n",
      "[range(0, 3403), range(3403, 6806), range(6806, 10210), range(10210, 13613), range(13613, 17016), range(17016, 20420)]\n",
      "In Index:  0  PID:  6371 , loading tbx file\n",
      "range(0, 3403)\n",
      "In Index:  2  PID:  6377 , loading tbx file\n",
      "range(6806, 10210)\n",
      "In Index:  1  PID:  6374 , loading tbx file\n",
      "range(3403, 6806)\n",
      "In Index:  5  PID:  6386 , loading tbx file\n",
      "range(17016, 20420)\n",
      "In Index:  4  PID:  6383 , loading tbx file\n",
      "range(13613, 17016)\n",
      "In Index:  3  PID:  6380 , loading tbx file\n",
      "range(10210, 13613)\n",
      "In Index:  1  PID:  6374 , all value =  437168\n",
      "In Index:  5  PID:  6386 , all value =  433235\n",
      "In Index:  2  PID:  6377 , all value =  433235\n",
      "In Index:  4  PID:  6383 , all value =  437168\n",
      "In Index:  3  PID:  6380 , all value =  554099\n",
      "In Index:  0  PID:  6371 , all value =  554099\n",
      "All value =  2849004\n",
      "Time point, after creating a count matrix 1322.6305735111237 sec\n",
      "building AnnData object\n"
     ]
    },
    {
     "name": "stderr",
     "output_type": "stream",
     "text": [
      "Variable names are not unique. To make them unique, call `.var_names_make_unique`.\n"
     ]
    },
    {
     "name": "stdout",
     "output_type": "stream",
     "text": [
      "Time point, after saving H5AD 1323.0974864959717 sec\n",
      "Time point, loading barcodess 0.07561922073364258 sec\n",
      "Chr:  chr4\n",
      "Time point, done sorting barcodes 155.040372133255 sec\n",
      "barcodes:\t 158770\n",
      "Time point, loading index file 155.04070472717285 sec\n",
      "Time point, done loading index file and creating window_list 155.04177451133728 sec\n",
      "Time point, after creating window_list 155.09676694869995 sec\n",
      "building count matrix\n",
      "Time point, after creating empty matrix 155.10043334960938 sec\n",
      "All parts for threading\n",
      "[range(0, 2340), range(2340, 4681), range(4681, 7022), range(7022, 9362), range(9362, 11703), range(11703, 14043), range(14043, 14044)]\n",
      "In Index:  0  PID:  10091 , loading tbx file\n",
      "range(0, 2340)\n",
      "In Index:  1  PID:  In Index: 10094  , loading tbx file2\n",
      " range(2340, 4681) PID: \n",
      " 10097 , loading tbx file\n",
      "range(4681, 7022)\n",
      "In Index:  3  PID:  10100 , loading tbx file\n",
      "range(7022, 9362)\n",
      "In Index:  4  PID:  10103 , loading tbx file\n",
      "range(9362, 11703)\n",
      "In Index:  5  PID:  10106 , loading tbx file\n",
      "range(11703, 14043)\n",
      "In Index:  4  PID:  10103 , all value =  288140\n",
      "In Index:  6  PID:  10103 , loading tbx file\n",
      "range(14043, 14044)\n",
      "In Index:  6  PID:  10103 , all value =  38\n",
      "In Index:  1  PID:  10094 , all value =  288140\n",
      "In Index:  5  PID:  10106 , all value =  271033\n",
      "In Index:  3  PID:  10100 , all value =  327431\n",
      "In Index:  2  PID:  10097 , all value =  271071\n",
      "In Index:  0  PID:  10091 , all value =  327431\n"
     ]
    },
    {
     "name": "stderr",
     "output_type": "stream",
     "text": [
      "Variable names are not unique. To make them unique, call `.var_names_make_unique`.\n"
     ]
    },
    {
     "name": "stdout",
     "output_type": "stream",
     "text": [
      "All value =  1773284\n",
      "Time point, after creating a count matrix 771.7595236301422 sec\n",
      "building AnnData object\n",
      "Time point, after saving H5AD 772.1008408069611 sec\n",
      "Time point, loading barcodess 0.06304216384887695 sec\n",
      "Chr:  chr5\n",
      "Time point, done sorting barcodes 156.3274281024933 sec\n",
      "barcodes:\t 166408\n",
      "Time point, loading index file 156.3278353214264 sec\n",
      "Time point, done loading index file and creating window_list 156.32900547981262 sec\n",
      "Time point, after creating window_list 156.3716335296631 sec\n",
      "building count matrix\n",
      "Time point, after creating empty matrix 156.38178372383118 sec\n",
      "All parts for threading\n",
      "[range(0, 2802), range(2802, 5604), range(5604, 8407), range(8407, 11209), range(11209, 14011), range(14011, 16814)]\n",
      "In Index:  0  PID:  12494 , loading tbx file\n",
      "range(0, 2802)\n",
      "In Index:  3  PID:  12503 , loading tbx file\n",
      "range(8407, 11209)\n",
      "In Index:  1  PID:  12497 , loading tbx file\n",
      "range(2802, 5604)\n",
      "In Index:  2  PID:  12500 , loading tbx file\n",
      "range(5604, 8407)\n",
      "In Index:  4  PID:  12506 , loading tbx file\n",
      "range(11209, 14011)\n",
      "In Index:  5  PID:  12509 , loading tbx file\n",
      "range(14011, 16814)\n",
      "In Index:  0  PID:  12494 , all value =  327958\n",
      "In Index:  1  PID:  12497 , all value =  346532\n",
      "In Index:  3  PID:  12503 , all value =  327958\n",
      "In Index:  4  PID:  12506 , all value =  346532\n",
      "In Index:  2  PID:  12500 , all value =  453520\n",
      "In Index:  5  PID:  12509 , all value =  453520\n"
     ]
    },
    {
     "name": "stderr",
     "output_type": "stream",
     "text": [
      "Variable names are not unique. To make them unique, call `.var_names_make_unique`.\n"
     ]
    },
    {
     "name": "stdout",
     "output_type": "stream",
     "text": [
      "All value =  2256020\n",
      "Time point, after creating a count matrix 1045.178656578064 sec\n",
      "building AnnData object\n",
      "Time point, after saving H5AD 1045.4690103530884 sec\n",
      "Time point, loading barcodess 0.06654191017150879 sec\n",
      "Chr:  chr6\n",
      "Time point, done sorting barcodes 164.10723495483398 sec\n",
      "barcodes:\t 169923\n",
      "Time point, loading index file 164.10862159729004 sec\n",
      "Time point, done loading index file and creating window_list 164.10887169837952 sec\n",
      "Time point, after creating window_list 164.16004300117493 sec\n",
      "building count matrix\n",
      "Time point, after creating empty matrix 164.30395317077637 sec\n",
      "All parts for threading\n",
      "[range(0, 3216), range(3216, 6433), range(6433, 9650), range(9650, 12866), range(12866, 16083), range(16083, 19300)]\n",
      "In Index:  1  PID:  15498 , loading tbx file\n",
      "range(3216, 6433)\n",
      "In Index:  0  PID:  15495 , loading tbx file\n",
      "range(0, 3216)\n",
      "In Index:  3  PID:  15504In Index:  , loading tbx file \n",
      "2range(9650, 12866) \n",
      " PID:  15501 , loading tbx file\n",
      "range(6433, 9650)\n",
      "In Index:  4  PID:  15507 , loading tbx file\n",
      "range(12866, 16083)\n",
      "In Index:  5  PID:  15510 , loading tbx file\n",
      "range(16083, 19300)\n",
      "In Index:  5  PID:  15510 , all value =  370174\n",
      "In Index:  2  PID:  15501 , all value =  370174\n",
      "In Index:  1  PID:  15498 , all value =  468496\n",
      "In Index:  3  PID:  15504 , all value =  570341\n",
      "In Index:  4  PID:  15507 , all value =  468496\n",
      "In Index:  0  PID:  15495 , all value =  570341\n"
     ]
    },
    {
     "name": "stderr",
     "output_type": "stream",
     "text": [
      "Variable names are not unique. To make them unique, call `.var_names_make_unique`.\n"
     ]
    },
    {
     "name": "stdout",
     "output_type": "stream",
     "text": [
      "All value =  2818022\n",
      "Time point, after creating a count matrix 1170.0009908676147 sec\n",
      "building AnnData object\n",
      "Time point, after saving H5AD 1170.3206341266632 sec\n",
      "Time point, loading barcodess 0.0553126335144043 sec\n",
      "Chr:  chr7\n",
      "Time point, done sorting barcodes 158.02397894859314 sec\n",
      "barcodes:\t 162586\n",
      "Time point, loading index file 158.02426075935364 sec\n",
      "Time point, done loading index file and creating window_list 158.0242772102356 sec\n",
      "Time point, after creating window_list 158.0789041519165 sec\n",
      "building count matrix\n",
      "Time point, after creating empty matrix 158.0830774307251 sec\n",
      "All parts for threading\n",
      "[range(0, 2664), range(2664, 5328), range(5328, 7992), range(7992, 10656), range(10656, 13320), range(13320, 15984)]\n",
      "In Index:  1  PID:  18960 , loading tbx file\n",
      "range(2664, 5328)\n",
      "In Index:  0  PID:  18957 , loading tbx file\n",
      "range(0, 2664)\n",
      "In Index:  2  PID:  18963 , loading tbx file\n",
      "range(5328, 7992)\n",
      "In Index:  3  PID:  18966 , loading tbx file\n",
      "range(7992, 10656)\n",
      "In Index:  4  PID:  18969 , loading tbx file\n",
      "range(10656, 13320)\n",
      "In Index:  5  PID:  18972 , loading tbx file\n",
      "range(13320, 15984)\n",
      "In Index:  3  PID:  18966 , all value =  350126\n",
      "In Index:  5  PID:  18972 , all value =  362481\n",
      "In Index:  1  PID:  18960 , all value =  454038\n",
      "In Index:  0  PID:  18957 , all value =  350126\n",
      "In Index:  2  PID:  18963 , all value =  362481\n",
      "In Index:  4  PID:  18969 , all value =  454038\n"
     ]
    },
    {
     "name": "stderr",
     "output_type": "stream",
     "text": [
      "Variable names are not unique. To make them unique, call `.var_names_make_unique`.\n"
     ]
    },
    {
     "name": "stdout",
     "output_type": "stream",
     "text": [
      "All value =  2333290\n",
      "Time point, after creating a count matrix 1211.6790959835052 sec\n",
      "building AnnData object\n",
      "Time point, after saving H5AD 1211.9705493450165 sec\n",
      "Time point, loading barcodess 0.06618857383728027 sec\n",
      "Chr:  chr8\n",
      "Time point, done sorting barcodes 157.74300527572632 sec\n",
      "barcodes:\t 155552\n",
      "Time point, loading index file 157.74429774284363 sec\n",
      "Time point, done loading index file and creating window_list 157.74449753761292 sec\n",
      "Time point, after creating window_list 157.788147687912 sec\n",
      "building count matrix\n",
      "Time point, after creating empty matrix 157.79769563674927 sec\n",
      "All parts for threading\n",
      "[range(0, 2375), range(2375, 4751), range(4751, 7127), range(7127, 9502), range(9502, 11878), range(11878, 14253), range(14253, 14254)]\n",
      "In Index:  1  PID:  22547 , loading tbx file\n",
      "range(2375, 4751)\n",
      "In Index:  0  PID:  22544 , loading tbx file\n",
      "range(0, 2375)\n",
      "In Index:  5  PID:  In Index: 22559  3, loading tbx file \n",
      " PID: range(11878, 14253) \n",
      "22553 , loading tbx file\n",
      "range(7127, 9502)\n",
      "In Index:  2  PID:  22550 , loading tbx file\n",
      "range(4751, 7127)\n",
      "In Index:  4  PID:  22556 , loading tbx file\n",
      "range(9502, 11878)\n",
      "In Index:  1  PID:  22547 , all value =  276887\n",
      "In Index:  6  PID:  22547 , loading tbx file\n",
      "range(14253, 14254)\n",
      "In Index:  6  PID:  22547 , all value =  17\n",
      "In Index:  5  PID:  22559 , all value =  311352\n",
      "In Index:  4  PID:  22556 , all value =  276887\n",
      "In Index:  2  PID:  22550 , all value =  311369\n",
      "In Index:  0  PID:  22544 , all value =  323339\n",
      "In Index:  3  PID:  22553 , all value =  323339\n"
     ]
    },
    {
     "name": "stderr",
     "output_type": "stream",
     "text": [
      "Variable names are not unique. To make them unique, call `.var_names_make_unique`.\n"
     ]
    },
    {
     "name": "stdout",
     "output_type": "stream",
     "text": [
      "All value =  1823190\n",
      "Time point, after creating a count matrix 1045.6082320213318 sec\n",
      "building AnnData object\n",
      "Time point, after saving H5AD 1045.8696236610413 sec\n",
      "Time point, loading barcodess 0.06158852577209473 sec\n",
      "Chr:  chr9\n",
      "Time point, done sorting barcodes 165.82512140274048 sec\n",
      "barcodes:\t 151222\n",
      "Time point, loading index file 165.82544493675232 sec\n",
      "Time point, done loading index file and creating window_list 165.82654762268066 sec\n",
      "Time point, after creating window_list 165.8736970424652 sec\n",
      "building count matrix\n",
      "Time point, after creating empty matrix 165.87736654281616 sec\n",
      "All parts for threading\n",
      "[range(0, 2154), range(2154, 4308), range(4308, 6463), range(6463, 8617), range(8617, 10771), range(10771, 12926)]\n",
      "In Index:  0  PID:  25636 , loading tbx file\n",
      "range(0, 2154)\n",
      "In Index:  2  PID:  25642 , loading tbx file\n",
      "range(4308, 6463)In Index: \n",
      " 1  PID:  25639 , loading tbx file\n",
      "range(2154, 4308)\n",
      "In Index:  3  PID:  25645 , loading tbx file\n",
      "range(6463, 8617)\n",
      "In Index:  4  PID:  25648 , loading tbx file\n",
      "range(8617, 10771)\n",
      "In Index:  5  PID:  25651 , loading tbx file\n",
      "range(10771, 12926)\n",
      "In Index:  1  PID:  25639 , all value =  270519\n",
      "In Index:  4  PID:  25648 , all value =  270519\n",
      "In Index:  3  PID:  25645 , all value =  306049\n",
      "In Index:  0  PID:  25636 , all value =  306049\n",
      "In Index:  5  PID:  25651 , all value =  417819\n",
      "In Index:  2  PID:  25642 , all value =  417819\n"
     ]
    },
    {
     "name": "stderr",
     "output_type": "stream",
     "text": [
      "Variable names are not unique. To make them unique, call `.var_names_make_unique`.\n"
     ]
    },
    {
     "name": "stdout",
     "output_type": "stream",
     "text": [
      "All value =  1988774\n",
      "Time point, after creating a count matrix 1160.111124753952 sec\n",
      "building AnnData object\n",
      "Time point, after saving H5AD 1160.4257230758667 sec\n",
      "Time point, loading barcodess 0.06607174873352051 sec\n",
      "Chr:  chr10\n",
      "Time point, done sorting barcodes 156.75141549110413 sec\n",
      "barcodes:\t 157711\n",
      "Time point, loading index file 156.75272703170776 sec\n",
      "Time point, done loading index file and creating window_list 156.75288319587708 sec\n",
      "Time point, after creating window_list 156.80010414123535 sec\n",
      "building count matrix\n",
      "Time point, after creating empty matrix 156.80406427383423 sec\n",
      "All parts for threading\n",
      "[range(0, 2558), range(2558, 5116), range(5116, 7675), range(7675, 10233), range(10233, 12791), range(12791, 15350)]\n",
      "In Index:  0  PID:  29156 , loading tbx file\n",
      "range(0, 2558)\n",
      "In Index:  1  PID:  29159 , loading tbx file\n",
      "range(2558, 5116)\n",
      "In Index:  2  PID:  29162 , loading tbx file\n",
      "range(5116, 7675)\n",
      "In Index:  3  PID:  29165 , loading tbx file\n",
      "range(7675, 10233)\n",
      "In Index:  4  PID:  29168 , loading tbx file\n",
      "range(10233, 12791)\n",
      "In Index:  5  PID:  29171 , loading tbx file\n",
      "range(12791, 15350)\n",
      "In Index:  0  PID:  29156 , all value =  320217\n",
      "In Index:  4  PID:  29168 , all value =  340273\n",
      "In Index:  3  PID:  29165 , all value =  320217\n",
      "In Index:  1  PID:  29159 , all value =  340273\n",
      "In Index:  2  PID:  29162 , all value =  385864\n",
      "In Index:  5  PID:  29171 , all value =  385864\n"
     ]
    },
    {
     "name": "stderr",
     "output_type": "stream",
     "text": [
      "Variable names are not unique. To make them unique, call `.var_names_make_unique`.\n"
     ]
    },
    {
     "name": "stdout",
     "output_type": "stream",
     "text": [
      "All value =  2092708\n",
      "Time point, after creating a count matrix 1236.5574824810028 sec\n",
      "building AnnData object\n",
      "Time point, after saving H5AD 1236.8889513015747 sec\n",
      "Time point, loading barcodess 0.06690049171447754 sec\n",
      "Chr:  chr11\n",
      "Time point, done sorting barcodes 163.86473202705383 sec\n",
      "barcodes:\t 161706\n",
      "Time point, loading index file 163.86599922180176 sec\n",
      "Time point, done loading index file and creating window_list 163.86619329452515 sec\n",
      "Time point, after creating window_list 163.9139678478241 sec\n",
      "building count matrix\n",
      "Time point, after creating empty matrix 163.91769456863403 sec\n",
      "All parts for threading\n",
      "[range(0, 2504), range(2504, 5008), range(5008, 7513), range(7513, 10017), range(10017, 12521), range(12521, 15026)]\n",
      "In Index:  1  PID:  33067 , loading tbx file\n",
      "range(2504, 5008)\n",
      "In Index:  0  PID:  33064 , loading tbx file\n",
      "range(0, 2504)\n",
      "In Index:  2  PID:  33070 , loading tbx file\n",
      "range(5008, 7513)\n",
      "In Index:  3  PID:  33073 , loading tbx file\n",
      "range(7513, 10017)\n",
      "In Index:  4  PID:  33076 , loading tbx file\n",
      "range(10017, 12521)\n",
      "In Index:  5  PID:  33079 , loading tbx file\n",
      "range(12521, 15026)\n",
      "In Index:  0  PID:  33064 , all value =  390302\n",
      "In Index:  5  PID:  33079 , all value =  342006\n",
      "In Index:  2  PID:  33070 , all value =  342006\n",
      "In Index:  3  PID:  33073 , all value =  390302\n",
      "In Index:  4  PID:  33076 , all value =  552922\n",
      "In Index:  1  PID:  33067 , all value =  552922\n"
     ]
    },
    {
     "name": "stderr",
     "output_type": "stream",
     "text": [
      "Variable names are not unique. To make them unique, call `.var_names_make_unique`.\n"
     ]
    },
    {
     "name": "stdout",
     "output_type": "stream",
     "text": [
      "All value =  2570460\n",
      "Time point, after creating a count matrix 1708.7569072246552 sec\n",
      "building AnnData object\n",
      "Time point, after saving H5AD 1709.0479409694672 sec\n",
      "Time point, loading barcodess 0.05431652069091797 sec\n",
      "Chr:  chr12\n",
      "Time point, done sorting barcodes 154.28652715682983 sec\n",
      "barcodes:\t 161599\n",
      "Time point, loading index file 154.28686356544495 sec\n",
      "Time point, done loading index file and creating window_list 154.28795957565308 sec\n",
      "Time point, after creating window_list 154.33760333061218 sec\n",
      "building count matrix\n",
      "Time point, after creating empty matrix 154.34148597717285 sec\n",
      "All parts for threading\n",
      "[range(0, 2643), range(2643, 5286), range(5286, 7930), range(7930, 10573), range(10573, 13216), range(13216, 15860)]\n",
      "In Index:  0  PID:  38394 , loading tbx file\n",
      "range(0, 2643)\n",
      "In Index:  1  PID:  38397 , loading tbx file\n",
      "range(2643, 5286)\n",
      "In Index:  2  PID:  38400 , loading tbx file\n",
      "range(5286, 7930)\n",
      "In Index:  3  PID:  38403 , loading tbx file\n",
      "range(7930, 10573)\n",
      "In Index:  4  PID:  38406 , loading tbx file\n",
      "range(10573, 13216)\n",
      "In Index:  5  PID:  38409 , loading tbx file\n",
      "range(13216, 15860)\n",
      "In Index:  0  PID:  38394 , all value =  368451\n",
      "In Index:  2  PID:  38400 , all value =  453186\n",
      "In Index:  3  PID:  38403 , all value =  368451\n",
      "In Index:  1  PID:  38397 , all value =  456386\n",
      "In Index:  5  PID:  38409 , all value =  453186\n",
      "In Index:  4  PID:  38406 , all value =  456386\n",
      "All value =  2556046\n",
      "Time point, after creating a count matrix 1711.5692183971405 sec\n",
      "building AnnData object\n"
     ]
    },
    {
     "name": "stderr",
     "output_type": "stream",
     "text": [
      "Variable names are not unique. To make them unique, call `.var_names_make_unique`.\n"
     ]
    },
    {
     "name": "stdout",
     "output_type": "stream",
     "text": [
      "Time point, after saving H5AD 1712.0050852298737 sec\n",
      "Time point, loading barcodess 0.07574820518493652 sec\n",
      "Chr:  chr13\n",
      "Time point, done sorting barcodes 160.79528164863586 sec\n",
      "barcodes:\t 127070\n",
      "Time point, loading index file 160.79561519622803 sec\n",
      "Time point, done loading index file and creating window_list 160.79563546180725 sec\n",
      "Time point, after creating window_list 160.8475422859192 sec\n",
      "building count matrix\n",
      "Time point, after creating empty matrix 160.8493528366089 sec\n",
      "All parts for threading\n",
      "[range(0, 1292), range(1292, 2584), range(2584, 3876), range(3876, 5168), range(5168, 6460), range(6460, 7752)]\n",
      "In Index:  0  PID:  43183 , loading tbx file\n",
      "range(0, 1292)\n",
      "In Index:  3  PID:  43193 , loading tbx file\n",
      "range(3876, 5168)\n",
      "In Index:  2  PID:  43190 , loading tbx file\n",
      "range(2584, 3876)\n",
      "In Index:  1  PID:  43186 , loading tbx file\n",
      "range(1292, 2584)\n",
      "In Index:  4  PID:  43196 , loading tbx file\n",
      "range(5168, 6460)\n",
      "In Index:  5  PID:  43199 , loading tbx file\n",
      "range(6460, 7752)\n",
      "In Index:  3  PID:  43193 , all value =  163088\n",
      "In Index:  1  PID:  43186 , all value =  162190\n",
      "In Index:  0  PID:  43183 , all value =  163088\n",
      "In Index:  5  PID:  43199 , all value =  151165\n",
      "In Index:  2  PID:  43190 , all value =  151165\n",
      "In Index:  4  PID:  43196 , all value =  162190\n"
     ]
    },
    {
     "name": "stderr",
     "output_type": "stream",
     "text": [
      "Variable names are not unique. To make them unique, call `.var_names_make_unique`.\n"
     ]
    },
    {
     "name": "stdout",
     "output_type": "stream",
     "text": [
      "All value =  952886\n",
      "Time point, after creating a count matrix 661.2441537380219 sec\n",
      "building AnnData object\n",
      "Time point, after saving H5AD 661.4653770923615 sec\n",
      "Time point, loading barcodess 0.0754709243774414 sec\n",
      "Chr:  chr14\n",
      "Time point, done sorting barcodes 162.78214621543884 sec\n",
      "barcodes:\t 140491\n",
      "Time point, loading index file 162.78266549110413 sec\n",
      "Time point, done loading index file and creating window_list 162.7836570739746 sec\n",
      "Time point, after creating window_list 162.82437348365784 sec\n",
      "building count matrix\n",
      "Time point, after creating empty matrix 162.82671570777893 sec\n",
      "All parts for threading\n",
      "[range(0, 1713), range(1713, 3427), range(3427, 5141), range(5141, 6854), range(6854, 8568), range(8568, 10282)]\n",
      "In Index:  0  PID:  44943 , loading tbx file\n",
      "range(0, 1713)\n",
      "In Index:  1  PID:  44946 , loading tbx file\n",
      "range(1713, 3427)\n",
      "In Index:  2  PID:  44950 , loading tbx file\n",
      "range(3427, 5141)\n",
      "In Index:  3  PID:  44953 , loading tbx file\n",
      "range(5141, 6854)\n",
      "In Index:  4  PID:  44956 , loading tbx file\n",
      "range(6854, 8568)\n",
      "In Index:  5  PID:  44959 , loading tbx file\n",
      "range(8568, 10282)\n",
      "In Index:  1  PID:  44946 , all value =  271566\n",
      "In Index:  4  PID:  44956 , all value =  271566\n",
      "In Index:  5  PID:  44959 , all value =  266928\n",
      "In Index:  2  PID:  44950 , all value =  266928\n",
      "In Index:  3  PID:  44953 , all value =  307816\n",
      "In Index:  0  PID:  44943 , all value =  307816\n"
     ]
    },
    {
     "name": "stderr",
     "output_type": "stream",
     "text": [
      "Variable names are not unique. To make them unique, call `.var_names_make_unique`.\n"
     ]
    },
    {
     "name": "stdout",
     "output_type": "stream",
     "text": [
      "All value =  1692620\n",
      "Time point, after creating a count matrix 1147.6407239437103 sec\n",
      "building AnnData object\n",
      "Time point, after saving H5AD 1147.9473164081573 sec\n",
      "Time point, loading barcodess 0.04437899589538574 sec\n",
      "Chr:  chr15\n",
      "Time point, done sorting barcodes 161.68234872817993 sec\n",
      "barcodes:\t 135394\n",
      "Time point, loading index file 161.68370580673218 sec\n",
      "Time point, done loading index file and creating window_list 161.68388509750366 sec\n",
      "Time point, after creating window_list 161.72148036956787 sec\n",
      "building count matrix\n",
      "Time point, after creating empty matrix 161.72912120819092 sec\n",
      "All parts for threading\n",
      "[range(0, 1703), range(1703, 3406), range(3406, 5109), range(5109, 6812), range(6812, 8515), range(8515, 10218)]\n",
      "In Index:  0  PID:  8016 , loading tbx file\n",
      "range(0, 1703)\n",
      "In Index:  1  PID:  8019 , loading tbx file\n",
      "range(1703, 3406)\n",
      "In Index:  3  PID:  In Index: 8025  2, loading tbx file \n",
      " PID: range(5109, 6812) \n",
      "8022 , loading tbx file\n",
      "range(3406, 5109)\n",
      "In Index:  5  PID:  8033 , loading tbx file\n",
      "range(8515, 10218)\n",
      "In Index:  4  PID:  8030 , loading tbx file\n",
      "range(6812, 8515)\n",
      "In Index:  2  PID:  8022 , all value =  248199\n",
      "In Index:  4  PID:  8030 , all value =  261086\n",
      "In Index:  5  PID:  8033 , all value =  248199\n",
      "In Index:  1  PID:  8019 , all value =  261086\n",
      "In Index:  3  PID:  8025 , all value =  273198\n",
      "In Index:  0  PID:  8016 , all value =  273198\n"
     ]
    },
    {
     "name": "stderr",
     "output_type": "stream",
     "text": [
      "Variable names are not unique. To make them unique, call `.var_names_make_unique`.\n"
     ]
    },
    {
     "name": "stdout",
     "output_type": "stream",
     "text": [
      "All value =  1564966\n",
      "Time point, after creating a count matrix 904.013180732727 sec\n",
      "building AnnData object\n",
      "Time point, after saving H5AD 904.3133935928345 sec\n",
      "Time point, loading barcodess 0.07104706764221191 sec\n",
      "Chr:  chr16\n",
      "Time point, done sorting barcodes 156.84125971794128 sec\n",
      "barcodes:\t 143352\n",
      "Time point, loading index file 156.8416166305542 sec\n",
      "Time point, done loading index file and creating window_list 156.84163665771484 sec\n",
      "Time point, after creating window_list 156.88013172149658 sec\n",
      "building count matrix\n",
      "Time point, after creating empty matrix 156.888503074646 sec\n",
      "All parts for threading\n",
      "[range(0, 1691), range(1691, 3382), range(3382, 5073), range(5073, 6764), range(6764, 8455), range(8455, 10146)]\n",
      "In Index:  0  PID:  27830 , loading tbx file\n",
      "range(0, 1691)\n",
      "In Index:  2  PID:  27836 , loading tbx file\n",
      "range(3382, 5073)\n",
      "In Index:  1  PID:  27833 , loading tbx file\n",
      "range(1691, 3382)\n",
      "In Index:  3  PID:  27839 , loading tbx file\n",
      "range(5073, 6764)\n",
      "In Index:  4  PID:  27842 , loading tbx file\n",
      "range(6764, 8455)\n",
      "In Index:  5  PID:  27845 , loading tbx file\n",
      "range(8455, 10146)\n",
      "In Index:  5  PID:  27845 , all value =  291744\n",
      "In Index:  4  PID:  27842 , all value =  354139\n",
      "In Index:  2  PID:  27836 , all value =  291744\n",
      "In Index:  1  PID:  27833 , all value =  354139\n",
      "In Index:  0  PID:  27830 , all value =  352044\n",
      "In Index:  3  PID:  27839 , all value =  352044\n"
     ]
    },
    {
     "name": "stderr",
     "output_type": "stream",
     "text": [
      "Variable names are not unique. To make them unique, call `.var_names_make_unique`.\n"
     ]
    },
    {
     "name": "stdout",
     "output_type": "stream",
     "text": [
      "All value =  1643810\n",
      "Time point, after creating a count matrix 1306.9159321784973 sec\n",
      "building AnnData object\n",
      "Time point, after saving H5AD 1307.2290124893188 sec\n",
      "Time point, loading barcodess 0.0670924186706543 sec\n",
      "Chr:  chr17\n",
      "Time point, done sorting barcodes 155.76524996757507 sec\n",
      "barcodes:\t 154559\n",
      "Time point, loading index file 155.76553606987 sec\n",
      "Time point, done loading index file and creating window_list 155.7655484676361 sec\n",
      "Time point, after creating window_list 155.8138346672058 sec\n",
      "building count matrix\n",
      "Time point, after creating empty matrix 155.8169128894806 sec\n",
      "All parts for threading\n",
      "[range(0, 2338), range(2338, 4676), range(4676, 7014), range(7014, 9352), range(9352, 11690), range(11690, 14028)]\n",
      "In Index:  0  PID:  32497 , loading tbx file\n",
      "range(0, 2338)\n",
      "In Index:  1  PID:  32500 , loading tbx file\n",
      "range(2338, 4676)\n",
      "In Index:  2  PID:  32503 , loading tbx file\n",
      "range(4676, 7014)\n",
      "In Index:  3  PID:  32506 , loading tbx file\n",
      "range(7014, 9352)\n",
      "In Index:  4  PID:  32509 , loading tbx file\n",
      "range(9352, 11690)\n",
      "In Index:  5  PID:  32512 , loading tbx file\n",
      "range(11690, 14028)\n",
      "In Index:  2  PID:  32503 , all value =  444691\n",
      "In Index:  3  PID:  32506 , all value =  503715\n",
      "In Index:  5  PID:  32512 , all value =  444691\n",
      "In Index:  1  PID:  32500 , all value =  458402\n",
      "In Index:  4  PID:  32509 , all value =  458402\n",
      "In Index:  0  PID:  32497 , all value =  503715\n",
      "All value =  2813616\n",
      "Time point, after creating a count matrix 1773.4042389392853 sec\n",
      "building AnnData object\n"
     ]
    },
    {
     "name": "stderr",
     "output_type": "stream",
     "text": [
      "Variable names are not unique. To make them unique, call `.var_names_make_unique`.\n"
     ]
    },
    {
     "name": "stdout",
     "output_type": "stream",
     "text": [
      "Time point, after saving H5AD 1773.8069558143616 sec\n",
      "Time point, loading barcodess 0.07746291160583496 sec\n",
      "Chr:  chr18\n",
      "Time point, done sorting barcodes 161.9303240776062 sec\n",
      "barcodes:\t 119372\n",
      "Time point, loading index file 161.9306721687317 sec\n",
      "Time point, done loading index file and creating window_list 161.9317946434021 sec\n",
      "Time point, after creating window_list 161.974347114563 sec\n",
      "building count matrix\n",
      "Time point, after creating empty matrix 161.98058676719666 sec\n",
      "All parts for threading\n",
      "[range(0, 1122), range(1122, 2244), range(2244, 3367), range(3367, 4489), range(4489, 5611), range(5611, 6733), range(6733, 6734)]\n",
      "In Index:  0 In Index:  PID:   137174   PID: , loading tbx file \n",
      "37178range(0, 1122) \n",
      ", loading tbx file\n",
      "range(1122, 2244)\n",
      "In Index:  3  PID:  37193 , loading tbx file\n",
      "range(3367, 4489)\n",
      "In Index:  5  PID:  37199 , loading tbx file\n",
      "range(5611, 6733)\n",
      "In Index:  4  PID:  37196 , loading tbx fileIn Index: \n",
      "range(4489, 5611) \n",
      "2  PID:  37182 , loading tbx file\n",
      "range(2244, 3367)\n",
      "In Index:  0  PID:  37174 , all value =  139698\n",
      "In Index:  6  PID:  37174 , loading tbx file\n",
      "range(6733, 6734)\n",
      "In Index:  6  PID:  37174 , all value =  166\n",
      "In Index:  1  PID:  37178 , all value =  126753\n",
      "In Index:  5  PID:  37199 , all value =  125839\n",
      "In Index:  3  PID:  37193 , all value =  139698\n",
      "In Index:  4  PID:  37196 , all value =  126753\n",
      "In Index:  2  PID:  37182 , all value =  126005\n"
     ]
    },
    {
     "name": "stderr",
     "output_type": "stream",
     "text": [
      "Variable names are not unique. To make them unique, call `.var_names_make_unique`.\n"
     ]
    },
    {
     "name": "stdout",
     "output_type": "stream",
     "text": [
      "All value =  784912\n",
      "Time point, after creating a count matrix 515.6636335849762 sec\n",
      "building AnnData object\n",
      "Time point, after saving H5AD 515.8624634742737 sec\n",
      "Time point, loading barcodess 0.04748249053955078 sec\n",
      "Chr:  chr19\n",
      "Time point, done sorting barcodes 155.93430519104004 sec\n",
      "barcodes:\t 151352\n",
      "Time point, loading index file 155.93463134765625 sec\n",
      "Time point, done loading index file and creating window_list 155.93464994430542 sec\n",
      "Time point, after creating window_list 155.97375774383545 sec\n",
      "building count matrix\n",
      "Time point, after creating empty matrix 155.9761357307434 sec\n",
      "All parts for threading\n",
      "[range(0, 1782), range(1782, 3564), range(3564, 5347), range(5347, 7129), range(7129, 8911), range(8911, 10694)]\n",
      "In Index:  0  PID:  38828 , loading tbx file\n",
      "range(0, 1782)\n",
      "In Index:  1  PID:  38831 , loading tbx file\n",
      "range(1782, 3564)\n",
      "In Index:  2  PID:  38834 , loading tbx file\n",
      "range(3564, 5347)\n",
      "In Index:  3  PID:  38837 , loading tbx file\n",
      "range(5347, 7129)\n",
      "In Index:  4  PID:  38840 , loading tbx file\n",
      "range(7129, 8911)\n",
      "In Index:  5  PID:  38843 , loading tbx file\n",
      "range(8911, 10694)\n",
      "In Index:  0  PID:  38828 , all value =  547841\n",
      "In Index:  4  PID:  38840 , all value =  492135\n",
      "In Index:  5  PID:  38843 , all value =  545214\n",
      "In Index:  1  PID:  38831 , all value =  492135\n",
      "In Index:  2  PID:  38834 , all value =  545214\n",
      "In Index:  3  PID:  38837 , all value =  547841\n"
     ]
    },
    {
     "name": "stderr",
     "output_type": "stream",
     "text": [
      "Variable names are not unique. To make them unique, call `.var_names_make_unique`.\n"
     ]
    },
    {
     "name": "stdout",
     "output_type": "stream",
     "text": [
      "All value =  3170380\n",
      "Time point, after creating a count matrix 2085.3340899944305 sec\n",
      "building AnnData object\n",
      "Time point, after saving H5AD 2085.656503677368 sec\n",
      "Time point, loading barcodess 0.08008909225463867 sec\n",
      "Chr:  chr20\n",
      "Time point, done sorting barcodes 156.6387903690338 sec\n",
      "barcodes:\t 127620\n",
      "Time point, loading index file 156.63917660713196 sec\n",
      "Time point, done loading index file and creating window_list 156.63919615745544 sec\n",
      "Time point, after creating window_list 156.68721985816956 sec\n",
      "building count matrix\n",
      "Time point, after creating empty matrix 156.68926000595093 sec\n",
      "All parts for threading\n",
      "[range(0, 1436), range(1436, 2873), range(2873, 4310), range(4310, 5746), range(5746, 7183), range(7183, 8620)]\n",
      "In Index:  1  PID:  44328 , loading tbx file\n",
      "range(1436, 2873)\n",
      "In Index:  0  PID:  44325 , loading tbx file\n",
      "range(0, 1436)\n",
      "In Index:  2  PID:  44331 , loading tbx file\n",
      "range(2873, 4310)\n",
      "In Index:  3  PID:  44334 , loading tbx file\n",
      "range(4310, 5746)\n",
      "In Index:  4  PID:  44337 , loading tbx file\n",
      "range(5746, 7183)\n",
      "In Index:  5  PID:  44340 , loading tbx file\n",
      "range(7183, 8620)\n",
      "In Index:  5  PID:  44340 , all value =  219641\n",
      "In Index:  0  PID:  44325 , all value =  199908\n",
      "In Index:  3  PID:  44334 , all value =  199908\n",
      "In Index:  1  PID:  44328 , all value =  242384\n",
      "In Index:  2  PID:  44331 , all value =  219641\n",
      "In Index:  4  PID:  44337 , all value =  242384\n"
     ]
    },
    {
     "name": "stderr",
     "output_type": "stream",
     "text": [
      "Variable names are not unique. To make them unique, call `.var_names_make_unique`.\n"
     ]
    },
    {
     "name": "stdout",
     "output_type": "stream",
     "text": [
      "All value =  1323866\n",
      "Time point, after creating a count matrix 918.0664005279541 sec\n",
      "building AnnData object\n",
      "Time point, after saving H5AD 918.3198170661926 sec\n",
      "Time point, loading barcodess 0.06387948989868164 sec\n",
      "Chr:  chr21\n",
      "Time point, done sorting barcodes 155.35319828987122 sec\n",
      "barcodes:\t 94436\n",
      "Time point, loading index file 155.35439658164978 sec\n",
      "Time point, done loading index file and creating window_list 155.3546426296234 sec\n",
      "Time point, after creating window_list 155.38719201087952 sec\n",
      "building count matrix\n",
      "Time point, after creating empty matrix 155.39161276817322 sec\n",
      "All parts for threading\n",
      "[range(0, 667), range(667, 1334), range(1334, 2001), range(2001, 2668), range(2668, 3335), range(3335, 4002)]\n",
      "In Index:  0  PID:  46643 , loading tbx file\n",
      "range(0, 667)\n",
      "In Index:  1  PID:  46646 , loading tbx file\n",
      "range(667, 1334)\n",
      "In Index:  In Index: 3   PID: 2  46652 PID:   , loading tbx file46649\n",
      " range(2001, 2668), loading tbx file\n",
      "\n",
      "range(1334, 2001)\n",
      "In Index:  4  PID:  46655 , loading tbx file\n",
      "range(2668, 3335)\n",
      "In Index:  5  PID:  46658 , loading tbx file\n",
      "range(3335, 4002)\n",
      "In Index:  0  PID:  46643 , all value =  66461\n",
      "In Index:  4  PID:  46655 , all value =  95510\n",
      "In Index:  3  PID:  46652 , all value =  66461\n",
      "In Index:  1  PID:  46646 , all value =  95510\n",
      "In Index:  2  PID:  46649 , all value =  117066\n",
      "In Index:  5  PID:  46658 , all value =  117066\n"
     ]
    },
    {
     "name": "stderr",
     "output_type": "stream",
     "text": [
      "Variable names are not unique. To make them unique, call `.var_names_make_unique`.\n"
     ]
    },
    {
     "name": "stdout",
     "output_type": "stream",
     "text": [
      "All value =  558074\n",
      "Time point, after creating a count matrix 380.1876132488251 sec\n",
      "building AnnData object\n",
      "Time point, after saving H5AD 380.3357722759247 sec\n",
      "Time point, loading barcodess 0.05910086631774902 sec\n",
      "Chr:  chr22\n",
      "Time point, done sorting barcodes 155.41784477233887 sec\n",
      "barcodes:\t 114785\n",
      "Time point, loading index file 155.41823816299438 sec\n",
      "Time point, done loading index file and creating window_list 155.41825771331787 sec\n",
      "Time point, after creating window_list 155.44406628608704 sec\n",
      "building count matrix\n",
      "Time point, after creating empty matrix 155.4497606754303 sec\n",
      "All parts for threading\n",
      "[range(0, 1037), range(1037, 2074), range(2074, 3111), range(3111, 4148), range(4148, 5185), range(5185, 6222)]\n",
      "In Index:  1  PID:  48135 , loading tbx file\n",
      "range(1037, 2074)\n",
      "In Index:  0  PID:  48132 , loading tbx file\n",
      "range(0, 1037)\n",
      "In Index:  2  PID:  48138 , loading tbx file\n",
      "range(2074, 3111)\n",
      "In Index:  3  PID:  48141 , loading tbx file\n",
      "range(3111, 4148)\n",
      "In Index:  5  PID:  In Index: 48147  , loading tbx file4\n",
      " range(5185, 6222) PID: \n",
      " 48144 , loading tbx file\n",
      "range(4148, 5185)\n",
      "In Index:  1  PID:  48135 , all value =  213672\n",
      "In Index:  0  PID:  48132 , all value =  165925\n",
      "In Index:  3  PID:  48141 , all value =  165925\n",
      "In Index:  5  PID:  48147 , all value =  194136\n",
      "In Index:  2  PID:  48138 , all value =  194136\n",
      "In Index:  4  PID:  48144 , all value =  213672\n"
     ]
    },
    {
     "name": "stderr",
     "output_type": "stream",
     "text": [
      "Variable names are not unique. To make them unique, call `.var_names_make_unique`.\n"
     ]
    },
    {
     "name": "stdout",
     "output_type": "stream",
     "text": [
      "All value =  1147466\n",
      "Time point, after creating a count matrix 766.8853735923767 sec\n",
      "building AnnData object\n",
      "Time point, after saving H5AD 767.1617331504822 sec\n",
      "Time point, loading barcodess 0.06095266342163086 sec\n",
      "Chr:  chrX\n",
      "Time point, done sorting barcodes 155.2265110015869 sec\n",
      "barcodes:\t 123906\n",
      "Time point, loading index file 155.22685408592224 sec\n",
      "Time point, done loading index file and creating window_list 155.22687220573425 sec\n",
      "Time point, after creating window_list 155.25793051719666 sec\n",
      "building count matrix\n",
      "Time point, after creating empty matrix 155.26454162597656 sec\n",
      "All parts for threading\n",
      "[range(0, 1282), range(1282, 2564), range(2564, 3847), range(3847, 5129), range(5129, 6411), range(6411, 7693), range(7693, 7694)]\n",
      "In Index:  0  PID:  1693 , loading tbx file\n",
      "range(0, 1282)\n",
      "In Index:  1  PID:  1696 , loading tbx file\n",
      "range(1282, 2564)\n",
      "In Index:  2  PID:  1699 , loading tbx file\n",
      "range(2564, 3847)\n",
      "In Index:  3  PID:  1702 , loading tbx file\n",
      "range(3847, 5129)\n",
      "In Index:  4  PID:  1705 , loading tbx file\n",
      "range(5129, 6411)\n",
      "In Index:  5  PID:  1708 , loading tbx file\n",
      "range(6411, 7693)\n",
      "In Index:  3  PID:  1702 , all value =  140291\n",
      "In Index:  6  PID:  1702 , loading tbx file\n",
      "range(7693, 7694)\n",
      "In Index:  6  PID:  1702 , all value =  33\n",
      "In Index:  2  PID:  1699 , all value =  166995\n",
      "In Index:  0  PID:  1693 , all value =  140291\n",
      "In Index:  4  PID:  1705 , all value =  182717\n",
      "In Index:  5  PID:  1708 , all value =  166962\n",
      "In Index:  1  PID:  1696 , all value =  182717\n"
     ]
    },
    {
     "name": "stderr",
     "output_type": "stream",
     "text": [
      "Variable names are not unique. To make them unique, call `.var_names_make_unique`.\n"
     ]
    },
    {
     "name": "stdout",
     "output_type": "stream",
     "text": [
      "All value =  980006\n",
      "Time point, after creating a count matrix 696.5565724372864 sec\n",
      "building AnnData object\n",
      "Time point, after saving H5AD 696.7955963611603 sec\n",
      "Time point, loading barcodess 0.0608515739440918 sec\n",
      "Chr:  chrY\n",
      "Time point, done sorting barcodes 155.36392545700073 sec\n",
      "barcodes:\t 33765\n",
      "Time point, loading index file 155.365318775177 sec\n",
      "Time point, done loading index file and creating window_list 155.36535906791687 sec\n",
      "Time point, after creating window_list 155.3656198978424 sec\n",
      "building count matrix\n",
      "Time point, after creating empty matrix 155.36609411239624 sec\n",
      "All parts for threading\n",
      "[range(0, 67), range(67, 134), range(134, 202), range(202, 269), range(269, 336), range(336, 403), range(403, 404)]\n",
      "In Index:  0  PID:  3689 , loading tbx file\n",
      "range(0, 67)\n",
      "In Index:  1  PID:  3692 , loading tbx file\n",
      "range(67, 134)\n",
      "In Index:  2  PID:  3695 , loading tbx file\n",
      "range(134, 202)\n",
      "In Index:  3  PID: In Index:   43698  PID:   3701, loading tbx fileIn Index: \n",
      " range(202, 269) \n",
      "5  PID:  3704, loading tbx file , loading tbx file\n",
      "\n",
      "range(269, 336)range(336, 403)\n",
      "\n",
      "In Index:  2  PID:  3695 , all value =  5289\n",
      "In Index:  6  PID:  3695 , loading tbx file\n",
      "range(403, 404)\n",
      "In Index:  5 In Index:  PID:   63704   PID: , all value =   36955263 \n",
      ", all value =  26\n",
      "In Index:  3  PID:  3698 , all value =  6273\n",
      "In Index:  0  PID:  3689 , all value =  6273\n",
      "In Index:  4  PID:  3701 , all value =  6759\n",
      "In Index:  1  PID:  3692 , all value =  6759\n"
     ]
    },
    {
     "name": "stderr",
     "output_type": "stream",
     "text": [
      "Variable names are not unique. To make them unique, call `.var_names_make_unique`.\n"
     ]
    },
    {
     "name": "stdout",
     "output_type": "stream",
     "text": [
      "All value =  31379\n",
      "Time point, after creating a count matrix 160.80305695533752 sec\n",
      "building AnnData object\n",
      "Time point, after saving H5AD 160.85908246040344 sec\n",
      "Time point, loading barcodess 0.0457921028137207 sec\n",
      "Chr:  chrM\n",
      "Time point, done sorting barcodes 157.26942086219788 sec\n",
      "barcodes:\t 0\n",
      "Time point, loading index file 157.27078485488892 sec\n",
      "Time point, done loading index file and creating window_list 157.27081108093262 sec\n",
      "Time point, after creating window_list 157.27086353302002 sec\n",
      "building count matrix\n",
      "Time point, after creating empty matrix 157.27118134498596 sec\n",
      "All parts for threading\n",
      "[]\n",
      "All value =  0\n",
      "Time point, after creating a count matrix 157.46477222442627 sec\n",
      "building AnnData object\n",
      "Time point, after saving H5AD 157.46985983848572 sec\n"
     ]
    }
   ],
   "source": [
    "for CHR in all_CHR:\n",
    "    epi.ct.bld_mtx_fly(bed_file=BEDFILE,\n",
    "                annotation=chrom_windows[CHR],\n",
    "                chrom = CHR,\n",
    "                thread=6,\n",
    "                save=OUTPUTPREFIX+'_'+CHR+'.h5ad')"
   ]
  },
  {
   "cell_type": "code",
   "execution_count": null,
   "metadata": {},
   "outputs": [],
   "source": []
  }
 ],
 "metadata": {
  "kernelspec": {
   "display_name": "Python 3",
   "language": "python",
   "name": "python3"
  },
  "language_info": {
   "codemirror_mode": {
    "name": "ipython",
    "version": 3
   },
   "file_extension": ".py",
   "mimetype": "text/x-python",
   "name": "python",
   "nbconvert_exporter": "python",
   "pygments_lexer": "ipython3",
   "version": "3.8.5"
  }
 },
 "nbformat": 4,
 "nbformat_minor": 4
}
