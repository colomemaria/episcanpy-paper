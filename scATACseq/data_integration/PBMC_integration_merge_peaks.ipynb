{
 "cells": [
  {
   "cell_type": "code",
   "execution_count": 21,
   "metadata": {},
   "outputs": [],
   "source": [
    "import seaborn as sns"
   ]
  },
  {
   "cell_type": "markdown",
   "metadata": {},
   "source": [
    "# 10x 10k peaks "
   ]
  },
  {
   "cell_type": "code",
   "execution_count": 10,
   "metadata": {},
   "outputs": [
    {
     "name": "stdout",
     "output_type": "stream",
     "text": [
      "--2020-10-09 13:51:34--  https://cf.10xgenomics.com/samples/cell-atac/1.2.0/atac_pbmc_10k_nextgem/atac_pbmc_10k_nextgem_fragments.tsv.gz\n",
      "Resolving cf.10xgenomics.com (cf.10xgenomics.com)... 104.18.1.173, 104.18.0.173, 2606:4700::6812:1ad, ...\n",
      "Connecting to cf.10xgenomics.com (cf.10xgenomics.com)|104.18.1.173|:443... connected.\n",
      "HTTP request sent, awaiting response... 200 OK\n",
      "Length: 1971483394 (1.8G) [text/tab-separated-values]\n",
      "Saving to: ‘atac_pbmc_10k_nextgem_fragments.tsv.gz.2’\n",
      "\n",
      "atac_pbmc_10k_nextg 100%[===================>]   1.84G  17.0MB/s    in 1m 46s  \n",
      "\n",
      "2020-10-09 13:53:21 (17.7 MB/s) - ‘atac_pbmc_10k_nextgem_fragments.tsv.gz.2’ saved [1971483394/1971483394]\n",
      "\n",
      "INFO  @ Fri, 09 Oct 2020 13:55:32: \n",
      "# Command line: callpeak -t atac_pbmc_10k_nextgem_fragments.tsv -n peaks_atac_pbmc_10k_nextgem_fragments --nomodel\n",
      "# ARGUMENTS LIST:\n",
      "# name = peaks_atac_pbmc_10k_nextgem_fragments\n",
      "# format = AUTO\n",
      "# ChIP-seq file = ['atac_pbmc_10k_nextgem_fragments.tsv']\n",
      "# control file = None\n",
      "# effective genome size = 2.70e+09\n",
      "# band width = 300\n",
      "# model fold = [5, 50]\n",
      "# qvalue cutoff = 5.00e-02\n",
      "# The maximum gap between significant sites is assigned as the read length/tag size.\n",
      "# The minimum length of peaks is assigned as the predicted fragment length \"d\".\n",
      "# Larger dataset will be scaled towards smaller dataset.\n",
      "# Range for calculating regional lambda is: 10000 bps\n",
      "# Broad region calling is off\n",
      "# Paired-End mode is off\n",
      " \n",
      "INFO  @ Fri, 09 Oct 2020 13:55:32: #1 read tag files... \n",
      "INFO  @ Fri, 09 Oct 2020 13:55:32: #1 read treatment tags... \n",
      "INFO  @ Fri, 09 Oct 2020 13:55:32: Detected format is: BED \n",
      "INFO  @ Fri, 09 Oct 2020 13:55:33:  1000000 \n",
      "INFO  @ Fri, 09 Oct 2020 13:55:34:  2000000 \n",
      "INFO  @ Fri, 09 Oct 2020 13:55:35:  3000000 \n",
      "INFO  @ Fri, 09 Oct 2020 13:55:35:  4000000 \n",
      "INFO  @ Fri, 09 Oct 2020 13:55:36:  5000000 \n",
      "INFO  @ Fri, 09 Oct 2020 13:55:37:  6000000 \n",
      "INFO  @ Fri, 09 Oct 2020 13:55:38:  7000000 \n",
      "INFO  @ Fri, 09 Oct 2020 13:55:39:  8000000 \n",
      "INFO  @ Fri, 09 Oct 2020 13:55:40:  9000000 \n",
      "INFO  @ Fri, 09 Oct 2020 13:55:40:  10000000 \n",
      "INFO  @ Fri, 09 Oct 2020 13:55:41:  11000000 \n",
      "INFO  @ Fri, 09 Oct 2020 13:55:42:  12000000 \n",
      "INFO  @ Fri, 09 Oct 2020 13:55:43:  13000000 \n",
      "INFO  @ Fri, 09 Oct 2020 13:55:44:  14000000 \n",
      "INFO  @ Fri, 09 Oct 2020 13:55:45:  15000000 \n",
      "INFO  @ Fri, 09 Oct 2020 13:55:45:  16000000 \n",
      "INFO  @ Fri, 09 Oct 2020 13:55:46:  17000000 \n",
      "INFO  @ Fri, 09 Oct 2020 13:55:47:  18000000 \n",
      "INFO  @ Fri, 09 Oct 2020 13:55:48:  19000000 \n",
      "INFO  @ Fri, 09 Oct 2020 13:55:49:  20000000 \n",
      "INFO  @ Fri, 09 Oct 2020 13:55:50:  21000000 \n",
      "INFO  @ Fri, 09 Oct 2020 13:55:51:  22000000 \n",
      "INFO  @ Fri, 09 Oct 2020 13:55:51:  23000000 \n",
      "INFO  @ Fri, 09 Oct 2020 13:55:52:  24000000 \n",
      "INFO  @ Fri, 09 Oct 2020 13:55:53:  25000000 \n",
      "INFO  @ Fri, 09 Oct 2020 13:55:54:  26000000 \n",
      "INFO  @ Fri, 09 Oct 2020 13:55:55:  27000000 \n",
      "INFO  @ Fri, 09 Oct 2020 13:55:56:  28000000 \n",
      "INFO  @ Fri, 09 Oct 2020 13:55:57:  29000000 \n",
      "INFO  @ Fri, 09 Oct 2020 13:55:58:  30000000 \n",
      "INFO  @ Fri, 09 Oct 2020 13:55:58:  31000000 \n",
      "INFO  @ Fri, 09 Oct 2020 13:55:59:  32000000 \n",
      "INFO  @ Fri, 09 Oct 2020 13:56:00:  33000000 \n",
      "INFO  @ Fri, 09 Oct 2020 13:56:01:  34000000 \n",
      "INFO  @ Fri, 09 Oct 2020 13:56:02:  35000000 \n",
      "INFO  @ Fri, 09 Oct 2020 13:56:03:  36000000 \n",
      "INFO  @ Fri, 09 Oct 2020 13:56:04:  37000000 \n",
      "INFO  @ Fri, 09 Oct 2020 13:56:05:  38000000 \n",
      "INFO  @ Fri, 09 Oct 2020 13:56:06:  39000000 \n",
      "INFO  @ Fri, 09 Oct 2020 13:56:07:  40000000 \n",
      "INFO  @ Fri, 09 Oct 2020 13:56:08:  41000000 \n",
      "INFO  @ Fri, 09 Oct 2020 13:56:09:  42000000 \n",
      "INFO  @ Fri, 09 Oct 2020 13:56:10:  43000000 \n",
      "INFO  @ Fri, 09 Oct 2020 13:56:10:  44000000 \n",
      "INFO  @ Fri, 09 Oct 2020 13:56:11:  45000000 \n",
      "INFO  @ Fri, 09 Oct 2020 13:56:12:  46000000 \n",
      "INFO  @ Fri, 09 Oct 2020 13:56:13:  47000000 \n",
      "INFO  @ Fri, 09 Oct 2020 13:56:14:  48000000 \n",
      "INFO  @ Fri, 09 Oct 2020 13:56:15:  49000000 \n",
      "INFO  @ Fri, 09 Oct 2020 13:56:16:  50000000 \n",
      "INFO  @ Fri, 09 Oct 2020 13:56:17:  51000000 \n",
      "INFO  @ Fri, 09 Oct 2020 13:56:18:  52000000 \n",
      "INFO  @ Fri, 09 Oct 2020 13:56:19:  53000000 \n",
      "INFO  @ Fri, 09 Oct 2020 13:56:20:  54000000 \n",
      "INFO  @ Fri, 09 Oct 2020 13:56:21:  55000000 \n",
      "INFO  @ Fri, 09 Oct 2020 13:56:22:  56000000 \n",
      "INFO  @ Fri, 09 Oct 2020 13:56:23:  57000000 \n",
      "INFO  @ Fri, 09 Oct 2020 13:56:24:  58000000 \n",
      "INFO  @ Fri, 09 Oct 2020 13:56:25:  59000000 \n",
      "INFO  @ Fri, 09 Oct 2020 13:56:26:  60000000 \n",
      "INFO  @ Fri, 09 Oct 2020 13:56:27:  61000000 \n",
      "INFO  @ Fri, 09 Oct 2020 13:56:28:  62000000 \n",
      "INFO  @ Fri, 09 Oct 2020 13:56:29:  63000000 \n",
      "INFO  @ Fri, 09 Oct 2020 13:56:30:  64000000 \n",
      "INFO  @ Fri, 09 Oct 2020 13:56:31:  65000000 \n",
      "INFO  @ Fri, 09 Oct 2020 13:56:32:  66000000 \n",
      "INFO  @ Fri, 09 Oct 2020 13:56:33:  67000000 \n",
      "INFO  @ Fri, 09 Oct 2020 13:56:34:  68000000 \n",
      "INFO  @ Fri, 09 Oct 2020 13:56:35:  69000000 \n",
      "INFO  @ Fri, 09 Oct 2020 13:56:36:  70000000 \n",
      "INFO  @ Fri, 09 Oct 2020 13:56:37:  71000000 \n",
      "INFO  @ Fri, 09 Oct 2020 13:56:38:  72000000 \n",
      "INFO  @ Fri, 09 Oct 2020 13:56:39:  73000000 \n",
      "INFO  @ Fri, 09 Oct 2020 13:56:40:  74000000 \n",
      "INFO  @ Fri, 09 Oct 2020 13:56:42:  75000000 \n",
      "INFO  @ Fri, 09 Oct 2020 13:56:43:  76000000 \n",
      "INFO  @ Fri, 09 Oct 2020 13:56:44:  77000000 \n",
      "INFO  @ Fri, 09 Oct 2020 13:56:45:  78000000 \n",
      "INFO  @ Fri, 09 Oct 2020 13:56:46:  79000000 \n",
      "INFO  @ Fri, 09 Oct 2020 13:56:47:  80000000 \n",
      "INFO  @ Fri, 09 Oct 2020 13:56:48:  81000000 \n",
      "INFO  @ Fri, 09 Oct 2020 13:56:49:  82000000 \n",
      "INFO  @ Fri, 09 Oct 2020 13:56:50:  83000000 \n",
      "INFO  @ Fri, 09 Oct 2020 13:56:51:  84000000 \n",
      "INFO  @ Fri, 09 Oct 2020 13:56:52:  85000000 \n",
      "INFO  @ Fri, 09 Oct 2020 13:56:53:  86000000 \n",
      "INFO  @ Fri, 09 Oct 2020 13:56:54:  87000000 \n",
      "INFO  @ Fri, 09 Oct 2020 13:56:55:  88000000 \n",
      "INFO  @ Fri, 09 Oct 2020 13:56:56:  89000000 \n",
      "INFO  @ Fri, 09 Oct 2020 13:56:57:  90000000 \n",
      "INFO  @ Fri, 09 Oct 2020 13:56:58:  91000000 \n",
      "INFO  @ Fri, 09 Oct 2020 13:56:59:  92000000 \n",
      "INFO  @ Fri, 09 Oct 2020 13:57:00:  93000000 \n",
      "INFO  @ Fri, 09 Oct 2020 13:57:01:  94000000 \n",
      "INFO  @ Fri, 09 Oct 2020 13:57:02:  95000000 \n",
      "INFO  @ Fri, 09 Oct 2020 13:57:03:  96000000 \n",
      "INFO  @ Fri, 09 Oct 2020 13:57:04:  97000000 \n",
      "INFO  @ Fri, 09 Oct 2020 13:57:04:  98000000 \n",
      "INFO  @ Fri, 09 Oct 2020 13:57:05:  99000000 \n",
      "INFO  @ Fri, 09 Oct 2020 13:57:07:  100000000 \n",
      "INFO  @ Fri, 09 Oct 2020 13:57:07:  101000000 \n",
      "INFO  @ Fri, 09 Oct 2020 13:57:08:  102000000 \n",
      "INFO  @ Fri, 09 Oct 2020 13:57:09:  103000000 \n",
      "INFO  @ Fri, 09 Oct 2020 13:57:10:  104000000 \n",
      "INFO  @ Fri, 09 Oct 2020 13:57:11:  105000000 \n",
      "INFO  @ Fri, 09 Oct 2020 13:57:12:  106000000 \n",
      "INFO  @ Fri, 09 Oct 2020 13:57:13:  107000000 \n",
      "INFO  @ Fri, 09 Oct 2020 13:57:14:  108000000 \n",
      "INFO  @ Fri, 09 Oct 2020 13:57:15:  109000000 \n",
      "INFO  @ Fri, 09 Oct 2020 13:57:16:  110000000 \n",
      "INFO  @ Fri, 09 Oct 2020 13:57:17:  111000000 \n",
      "INFO  @ Fri, 09 Oct 2020 13:57:17:  112000000 \n",
      "INFO  @ Fri, 09 Oct 2020 13:57:18:  113000000 \n",
      "INFO  @ Fri, 09 Oct 2020 13:57:19:  114000000 \n",
      "INFO  @ Fri, 09 Oct 2020 13:57:20:  115000000 \n",
      "INFO  @ Fri, 09 Oct 2020 13:57:21:  116000000 \n",
      "INFO  @ Fri, 09 Oct 2020 13:57:22:  117000000 \n",
      "INFO  @ Fri, 09 Oct 2020 13:57:23:  118000000 \n",
      "INFO  @ Fri, 09 Oct 2020 13:57:24:  119000000 \n",
      "INFO  @ Fri, 09 Oct 2020 13:57:25:  120000000 \n",
      "INFO  @ Fri, 09 Oct 2020 13:57:26:  121000000 \n",
      "INFO  @ Fri, 09 Oct 2020 13:57:27:  122000000 \n",
      "INFO  @ Fri, 09 Oct 2020 13:57:28:  123000000 \n",
      "INFO  @ Fri, 09 Oct 2020 13:57:29:  124000000 \n",
      "INFO  @ Fri, 09 Oct 2020 13:57:30:  125000000 \n",
      "INFO  @ Fri, 09 Oct 2020 13:57:31:  126000000 \n",
      "INFO  @ Fri, 09 Oct 2020 13:57:32:  127000000 \n",
      "INFO  @ Fri, 09 Oct 2020 13:57:33:  128000000 \n",
      "INFO  @ Fri, 09 Oct 2020 13:57:34:  129000000 \n",
      "INFO  @ Fri, 09 Oct 2020 13:57:35:  130000000 \n",
      "INFO  @ Fri, 09 Oct 2020 13:57:36:  131000000 \n",
      "INFO  @ Fri, 09 Oct 2020 13:57:37:  132000000 \n",
      "INFO  @ Fri, 09 Oct 2020 13:57:38:  133000000 \n",
      "INFO  @ Fri, 09 Oct 2020 13:57:39:  134000000 \n",
      "INFO  @ Fri, 09 Oct 2020 13:57:40:  135000000 \n",
      "INFO  @ Fri, 09 Oct 2020 13:57:41:  136000000 \n",
      "INFO  @ Fri, 09 Oct 2020 13:57:42:  137000000 \n",
      "INFO  @ Fri, 09 Oct 2020 13:57:43:  138000000 \n",
      "INFO  @ Fri, 09 Oct 2020 13:57:44:  139000000 \n",
      "INFO  @ Fri, 09 Oct 2020 13:57:45:  140000000 \n",
      "INFO  @ Fri, 09 Oct 2020 13:57:46:  141000000 \n",
      "INFO  @ Fri, 09 Oct 2020 13:57:47:  142000000 \n",
      "INFO  @ Fri, 09 Oct 2020 13:57:47:  143000000 \n"
     ]
    },
    {
     "name": "stdout",
     "output_type": "stream",
     "text": [
      "INFO  @ Fri, 09 Oct 2020 13:57:48:  144000000 \n",
      "INFO  @ Fri, 09 Oct 2020 13:57:49:  145000000 \n",
      "INFO  @ Fri, 09 Oct 2020 13:57:50:  146000000 \n",
      "INFO  @ Fri, 09 Oct 2020 13:57:51:  147000000 \n",
      "INFO  @ Fri, 09 Oct 2020 13:57:52:  148000000 \n",
      "INFO  @ Fri, 09 Oct 2020 13:57:53:  149000000 \n",
      "INFO  @ Fri, 09 Oct 2020 13:57:54:  150000000 \n",
      "INFO  @ Fri, 09 Oct 2020 13:57:55:  151000000 \n",
      "INFO  @ Fri, 09 Oct 2020 13:57:56:  152000000 \n",
      "INFO  @ Fri, 09 Oct 2020 13:57:57:  153000000 \n",
      "INFO  @ Fri, 09 Oct 2020 13:57:58:  154000000 \n",
      "INFO  @ Fri, 09 Oct 2020 13:57:59:  155000000 \n",
      "INFO  @ Fri, 09 Oct 2020 13:58:00:  156000000 \n",
      "INFO  @ Fri, 09 Oct 2020 13:58:01:  157000000 \n",
      "INFO  @ Fri, 09 Oct 2020 13:58:01:  158000000 \n",
      "INFO  @ Fri, 09 Oct 2020 13:58:02:  159000000 \n",
      "INFO  @ Fri, 09 Oct 2020 13:58:03:  160000000 \n",
      "INFO  @ Fri, 09 Oct 2020 13:58:04:  161000000 \n",
      "INFO  @ Fri, 09 Oct 2020 13:58:05:  162000000 \n",
      "INFO  @ Fri, 09 Oct 2020 13:58:06:  163000000 \n",
      "INFO  @ Fri, 09 Oct 2020 13:58:07:  164000000 \n",
      "INFO  @ Fri, 09 Oct 2020 13:58:08:  165000000 \n",
      "INFO  @ Fri, 09 Oct 2020 13:58:09:  166000000 \n",
      "INFO  @ Fri, 09 Oct 2020 13:58:10:  167000000 \n",
      "INFO  @ Fri, 09 Oct 2020 13:58:11:  168000000 \n",
      "INFO  @ Fri, 09 Oct 2020 13:58:12:  169000000 \n",
      "INFO  @ Fri, 09 Oct 2020 13:58:13:  170000000 \n",
      "INFO  @ Fri, 09 Oct 2020 13:58:14:  171000000 \n",
      "INFO  @ Fri, 09 Oct 2020 13:58:14:  172000000 \n",
      "INFO  @ Fri, 09 Oct 2020 13:58:15:  173000000 \n",
      "INFO  @ Fri, 09 Oct 2020 13:58:16:  174000000 \n",
      "INFO  @ Fri, 09 Oct 2020 13:58:17:  175000000 \n",
      "INFO  @ Fri, 09 Oct 2020 13:58:18:  176000000 \n",
      "INFO  @ Fri, 09 Oct 2020 13:58:19:  177000000 \n",
      "INFO  @ Fri, 09 Oct 2020 13:58:20:  178000000 \n",
      "INFO  @ Fri, 09 Oct 2020 13:58:21:  179000000 \n",
      "INFO  @ Fri, 09 Oct 2020 13:58:22:  180000000 \n",
      "INFO  @ Fri, 09 Oct 2020 13:58:22:  181000000 \n",
      "INFO  @ Fri, 09 Oct 2020 13:58:23:  182000000 \n",
      "INFO  @ Fri, 09 Oct 2020 13:58:24:  183000000 \n",
      "INFO  @ Fri, 09 Oct 2020 13:58:25:  184000000 \n",
      "INFO  @ Fri, 09 Oct 2020 13:58:26:  185000000 \n",
      "INFO  @ Fri, 09 Oct 2020 13:58:27:  186000000 \n",
      "INFO  @ Fri, 09 Oct 2020 13:58:28:  187000000 \n",
      "INFO  @ Fri, 09 Oct 2020 13:58:29:  188000000 \n",
      "INFO  @ Fri, 09 Oct 2020 13:58:31: #1 tag size is determined as 297 bps \n",
      "INFO  @ Fri, 09 Oct 2020 13:58:31: #1 tag size = 297.0 \n",
      "INFO  @ Fri, 09 Oct 2020 13:58:31: #1  total tags in treatment: 188430247 \n",
      "INFO  @ Fri, 09 Oct 2020 13:58:31: #1 user defined the maximum tags... \n",
      "INFO  @ Fri, 09 Oct 2020 13:58:31: #1 filter out redundant tags at the same location and the same strand by allowing at most 1 tag(s) \n",
      "INFO  @ Fri, 09 Oct 2020 13:58:32: #1  tags after filtering in treatment: 106469039 \n",
      "INFO  @ Fri, 09 Oct 2020 13:58:32: #1  Redundant rate of treatment: 0.43 \n",
      "INFO  @ Fri, 09 Oct 2020 13:58:32: #1 finished! \n",
      "INFO  @ Fri, 09 Oct 2020 13:58:32: #2 Build Peak Model... \n",
      "INFO  @ Fri, 09 Oct 2020 13:58:32: #2 Skipped... \n",
      "INFO  @ Fri, 09 Oct 2020 13:58:32: #2 Use 200 as fragment length \n",
      "INFO  @ Fri, 09 Oct 2020 13:58:32: #3 Call peaks... \n",
      "INFO  @ Fri, 09 Oct 2020 13:58:32: #3 Pre-compute pvalue-qvalue table... \n",
      "INFO  @ Fri, 09 Oct 2020 14:02:41: #3 Call peaks for each chromosome... \n",
      "INFO  @ Fri, 09 Oct 2020 14:05:51: #4 Write output xls file... peaks_atac_pbmc_10k_nextgem_fragments_peaks.xls \n",
      "INFO  @ Fri, 09 Oct 2020 14:05:52: #4 Write peak in narrowPeak format file... peaks_atac_pbmc_10k_nextgem_fragments_peaks.narrowPeak \n",
      "INFO  @ Fri, 09 Oct 2020 14:05:52: #4 Write summits bed file... peaks_atac_pbmc_10k_nextgem_fragments_summits.bed \n",
      "INFO  @ Fri, 09 Oct 2020 14:05:53: Done! \n"
     ]
    }
   ],
   "source": [
    "!wget https://cf.10xgenomics.com/samples/cell-atac/1.2.0/atac_pbmc_10k_nextgem/atac_pbmc_10k_nextgem_fragments.tsv.gz\n",
    "!gunzip -d atac_pbmc_10k_nextgem_fragments.tsv.gz\n",
    "!macs2 callpeak -t atac_pbmc_10k_nextgem_fragments.tsv -n peaks_atac_pbmc_10k_nextgem_fragments --nomodel"
   ]
  },
  {
   "cell_type": "markdown",
   "metadata": {},
   "source": [
    "# Greenleaf peaks"
   ]
  },
  {
   "cell_type": "code",
   "execution_count": 25,
   "metadata": {},
   "outputs": [
    {
     "name": "stdout",
     "output_type": "stream",
     "text": [
      "--2020-10-09 14:16:31--  https://ftp.ncbi.nlm.nih.gov/geo/series/GSE129nnn/GSE129785/suppl/GSE129785%5FscATAC%2DHematopoiesis%2DAll%2Epeaks%2Etxt%2Egz\n",
      "Resolving ftp.ncbi.nlm.nih.gov (ftp.ncbi.nlm.nih.gov)... 130.14.250.7, 2607:f220:41e:250::7, 2607:f220:41e:250::10, ...\n",
      "Connecting to ftp.ncbi.nlm.nih.gov (ftp.ncbi.nlm.nih.gov)|130.14.250.7|:443... connected.\n",
      "HTTP request sent, awaiting response... 200 OK\n",
      "Length: 4478236 (4.3M) [application/x-gzip]\n",
      "Saving to: ‘GSE129785_scATAC-Hematopoiesis-All.peaks.txt.gz’\n",
      "\n",
      "GSE129785_scATAC-He 100%[===================>]   4.27M  6.11MB/s    in 0.7s    \n",
      "\n",
      "2020-10-09 14:16:38 (6.11 MB/s) - ‘GSE129785_scATAC-Hematopoiesis-All.peaks.txt.gz’ saved [4478236/4478236]\n",
      "\n"
     ]
    }
   ],
   "source": [
    "#GSE129785_scATAC-Hematopoiesis-All.peaks.txt.gz\n",
    "!wget https://ftp.ncbi.nlm.nih.gov/geo/series/GSE129nnn/GSE129785/suppl/GSE129785%5FscATAC%2DHematopoiesis%2DAll%2Epeaks%2Etxt%2Egz\n",
    "!gzip -d GSE129785_scATAC-Hematopoiesis-All.peaks.txt.gz"
   ]
  },
  {
   "cell_type": "markdown",
   "metadata": {},
   "source": [
    "## Check number of peaks per datasets"
   ]
  },
  {
   "cell_type": "code",
   "execution_count": 26,
   "metadata": {},
   "outputs": [
    {
     "name": "stdout",
     "output_type": "stream",
     "text": [
      "131565 peaks_atac_pbmc_10k_nextgem_fragments_peaks.narrowPeak\r\n"
     ]
    }
   ],
   "source": [
    "!wc -l peaks_atac_pbmc_10k_nextgem_fragments_peaks.narrowPeak"
   ]
  },
  {
   "cell_type": "code",
   "execution_count": 27,
   "metadata": {},
   "outputs": [
    {
     "name": "stdout",
     "output_type": "stream",
     "text": [
      "571401 GSE129785_scATAC-Hematopoiesis-All.peaks.txt\r\n"
     ]
    }
   ],
   "source": [
    "!wc -l GSE129785_scATAC-Hematopoiesis-All.peaks.txt"
   ]
  },
  {
   "cell_type": "code",
   "execution_count": 40,
   "metadata": {},
   "outputs": [
    {
     "name": "stdout",
     "output_type": "stream",
     "text": [
      "chr1\t10168\t10642\tpeaks_atac_pbmc_10k_nextgem_fragments_peak_1\t63\t.\t3.26334\t8.23107\t6.38007\t345\r\n",
      "chr1\t569386\t569595\tpeaks_atac_pbmc_10k_nextgem_fragments_peak_2\t147\t.\t4.72622\t16.8159\t14.7266\t147\r\n",
      "chr1\t713611\t714750\tpeaks_atac_pbmc_10k_nextgem_fragments_peak_3\t1036\t.\t10.7378\t109.698\t103.653\t552\r\n",
      "chr1\t752417\t752913\tpeaks_atac_pbmc_10k_nextgem_fragments_peak_4\t636\t.\t9.13706\t67.0793\t63.6238\t328\r\n",
      "chr1\t762144\t763277\tpeaks_atac_pbmc_10k_nextgem_fragments_peak_5\t993\t.\t10.3093\t105.024\t99.3308\t823\r\n",
      "chr1\t779486\t780265\tpeaks_atac_pbmc_10k_nextgem_fragments_peak_6\t179\t.\t4.71869\t20.1226\t17.9546\t640\r\n",
      "chr1\t793492\t794334\tpeaks_atac_pbmc_10k_nextgem_fragments_peak_7\t119\t.\t4.2761\t13.9644\t11.9467\t77\r\n",
      "chr1\t795693\t796166\tpeaks_atac_pbmc_10k_nextgem_fragments_peak_8\t28\t.\t2.47564\t4.5664\t2.86451\t40\r\n",
      "chr1\t801150\t801412\tpeaks_atac_pbmc_10k_nextgem_fragments_peak_9\t141\t.\t3.7112\t16.2554\t14.1802\t130\r\n",
      "chr1\t804853\t805708\tpeaks_atac_pbmc_10k_nextgem_fragments_peak_10\t858\t.\t9.56175\t90.4964\t85.8337\t480\r\n"
     ]
    }
   ],
   "source": [
    "!head peaks_atac_pbmc_10k_nextgem_fragments_peaks.narrowPeak"
   ]
  },
  {
   "cell_type": "code",
   "execution_count": 41,
   "metadata": {},
   "outputs": [
    {
     "name": "stdout",
     "output_type": "stream",
     "text": [
      "Feature\r\n",
      "chr1_10238_10738\r\n",
      "chr1_115476_115976\r\n",
      "chr1_236856_237356\r\n",
      "chr1_237511_238011\r\n",
      "chr1_240801_241301\r\n",
      "chr1_250084_250584\r\n",
      "chr1_540710_541210\r\n",
      "chr1_710379_710879\r\n",
      "chr1_714861_715361\r\n"
     ]
    }
   ],
   "source": [
    "!head GSE129785_scATAC-Hematopoiesis-All.peaks.txt"
   ]
  },
  {
   "cell_type": "markdown",
   "metadata": {},
   "source": [
    "### format peaks to the MACS2 output format"
   ]
  },
  {
   "cell_type": "code",
   "execution_count": 48,
   "metadata": {},
   "outputs": [],
   "source": [
    "input_file = 'GSE129785_scATAC-Hematopoiesis-All.peaks.txt'\n",
    "output_file = 'GSE129785_scATAC-Hematopoiesis-All.peaks_formatted.bed'\n",
    "output = open(output_file, 'w')\n",
    "index = 1\n",
    "with open(input_file) as f:\n",
    "    for line in f:\n",
    "        if 'Feature' not in line: \n",
    "            line = line.rstrip('\\n').split('_')\n",
    "            line.append(input_file.rstrip('.txt')+'peaks_formatted_'+str(index)+'\\n')\n",
    "            line = '\\t'.join(line)\n",
    "            output.write(line)\n",
    "            index +=1\n",
    "output.close()"
   ]
  },
  {
   "cell_type": "code",
   "execution_count": 49,
   "metadata": {},
   "outputs": [
    {
     "name": "stdout",
     "output_type": "stream",
     "text": [
      "chr1\t10238\t10738\tGSE129785_scATAC-Hematopoiesis-All.peakspeaks_formatted_1\r\n",
      "chr1\t115476\t115976\tGSE129785_scATAC-Hematopoiesis-All.peakspeaks_formatted_2\r\n",
      "chr1\t236856\t237356\tGSE129785_scATAC-Hematopoiesis-All.peakspeaks_formatted_3\r\n",
      "chr1\t237511\t238011\tGSE129785_scATAC-Hematopoiesis-All.peakspeaks_formatted_4\r\n",
      "chr1\t240801\t241301\tGSE129785_scATAC-Hematopoiesis-All.peakspeaks_formatted_5\r\n",
      "chr1\t250084\t250584\tGSE129785_scATAC-Hematopoiesis-All.peakspeaks_formatted_6\r\n",
      "chr1\t540710\t541210\tGSE129785_scATAC-Hematopoiesis-All.peakspeaks_formatted_7\r\n",
      "chr1\t710379\t710879\tGSE129785_scATAC-Hematopoiesis-All.peakspeaks_formatted_8\r\n",
      "chr1\t714861\t715361\tGSE129785_scATAC-Hematopoiesis-All.peakspeaks_formatted_9\r\n",
      "chr1\t740068\t740568\tGSE129785_scATAC-Hematopoiesis-All.peakspeaks_formatted_10\r\n"
     ]
    }
   ],
   "source": [
    "!head GSE129785_scATAC-Hematopoiesis-All.peaks_formatted.bed"
   ]
  },
  {
   "cell_type": "markdown",
   "metadata": {},
   "source": [
    "# Sorting out peaks"
   ]
  },
  {
   "cell_type": "code",
   "execution_count": 50,
   "metadata": {},
   "outputs": [],
   "source": [
    "file1 = 'peaks_atac_pbmc_10k_nextgem_fragments_peaks.narrowPeak'\n",
    "file2 = 'GSE129785_scATAC-Hematopoiesis-All.peaks_formatted.bed'\n",
    "output_file = 'merged_GSE129785_scATAC-Hematopoiesis-All_and_peaks_atac_pbmc_10k.bed'"
   ]
  },
  {
   "cell_type": "code",
   "execution_count": 51,
   "metadata": {},
   "outputs": [],
   "source": [
    "min_size=300\n",
    "max_size=1000"
   ]
  },
  {
   "cell_type": "code",
   "execution_count": 52,
   "metadata": {},
   "outputs": [
    {
     "data": {
      "text/plain": [
       "[['chr1', 10168, 10642, 'peaks_atac_pbmc_10k_nextgem_fragments_peak_1', 474],\n",
       " ['chr1', 752417, 752913, 'peaks_atac_pbmc_10k_nextgem_fragments_peak_4', 496],\n",
       " ['chr1', 779486, 780265, 'peaks_atac_pbmc_10k_nextgem_fragments_peak_6', 779],\n",
       " ['chr1', 793492, 794334, 'peaks_atac_pbmc_10k_nextgem_fragments_peak_7', 842],\n",
       " ['chr1', 795693, 796166, 'peaks_atac_pbmc_10k_nextgem_fragments_peak_8', 473]]"
      ]
     },
     "execution_count": 52,
     "metadata": {},
     "output_type": "execute_result"
    }
   ],
   "source": [
    "# filter valid peaks for file 1\n",
    "peaks1 = []\n",
    "size = []\n",
    "with open(file1) as f:\n",
    "    for line in f:\n",
    "        line = line.split('\\t')[0:4]\n",
    "        line[1] = int(line[1])\n",
    "        line[2] = int(line[2])\n",
    "        if min_size <= line[2]-line[1] <=max_size:\n",
    "            line.append(line[2]-line[1])\n",
    "            size.append(line[2]-line[1])\n",
    "            peaks1.append(line)\n",
    "peaks1[0:5]"
   ]
  },
  {
   "cell_type": "code",
   "execution_count": 53,
   "metadata": {},
   "outputs": [
    {
     "name": "stdout",
     "output_type": "stream",
     "text": [
      "Number of peaks from peaks_atac_pbmc_10k_nextgem_fragments_peaks.narrowPeak :\t 81798\n"
     ]
    }
   ],
   "source": [
    "#how many peak left\n",
    "print('Number of peaks from',file1,':\\t', len(peaks1))"
   ]
  },
  {
   "cell_type": "code",
   "execution_count": 54,
   "metadata": {},
   "outputs": [
    {
     "name": "stderr",
     "output_type": "stream",
     "text": [
      "/home/icb/anna.danese/miniconda3/lib/python3.7/site-packages/seaborn/distributions.py:2551: FutureWarning: `distplot` is a deprecated function and will be removed in a future version. Please adapt your code to use either `displot` (a figure-level function with similar flexibility) or `histplot` (an axes-level function for histograms).\n",
      "  warnings.warn(msg, FutureWarning)\n"
     ]
    },
    {
     "data": {
      "text/plain": [
       "<AxesSubplot:ylabel='Density'>"
      ]
     },
     "execution_count": 54,
     "metadata": {},
     "output_type": "execute_result"
    },
    {
     "data": {
      "image/png": "[encoded data removed]",
      "text/plain": [
       "<Figure size 432x288 with 1 Axes>"
      ]
     },
     "metadata": {
      "needs_background": "light"
     },
     "output_type": "display_data"
    }
   ],
   "source": [
    "# plot length peak distribution\n",
    "sns.distplot(size)"
   ]
  },
  {
   "cell_type": "code",
   "execution_count": 55,
   "metadata": {},
   "outputs": [],
   "source": [
    "# save reference chromosomes\n",
    "ref_chromosome = list(set([x[0] for x in peaks1]))"
   ]
  },
  {
   "cell_type": "code",
   "execution_count": 56,
   "metadata": {},
   "outputs": [
    {
     "data": {
      "text/plain": [
       "[['chr1',\n",
       "  10238,\n",
       "  10738,\n",
       "  'GSE129785_scATAC-Hematopoiesis-All.peakspeaks_formatted_1\\n',\n",
       "  500],\n",
       " ['chr1',\n",
       "  115476,\n",
       "  115976,\n",
       "  'GSE129785_scATAC-Hematopoiesis-All.peakspeaks_formatted_2\\n',\n",
       "  500],\n",
       " ['chr1',\n",
       "  236856,\n",
       "  237356,\n",
       "  'GSE129785_scATAC-Hematopoiesis-All.peakspeaks_formatted_3\\n',\n",
       "  500],\n",
       " ['chr1',\n",
       "  237511,\n",
       "  238011,\n",
       "  'GSE129785_scATAC-Hematopoiesis-All.peakspeaks_formatted_4\\n',\n",
       "  500],\n",
       " ['chr1',\n",
       "  240801,\n",
       "  241301,\n",
       "  'GSE129785_scATAC-Hematopoiesis-All.peakspeaks_formatted_5\\n',\n",
       "  500]]"
      ]
     },
     "execution_count": 56,
     "metadata": {},
     "output_type": "execute_result"
    }
   ],
   "source": [
    "# filter valid peaks for file 2\n",
    "peaks2 = []\n",
    "size = []\n",
    "with open(file2) as f:\n",
    "    for line in f:\n",
    "        line = line.split('\\t')[0:4]\n",
    "        line[1] = int(line[1])\n",
    "        line[2] = int(line[2])\n",
    "        if min_size <= line[2]-line[1] <=max_size:\n",
    "            line.append(line[2]-line[1])\n",
    "            size.append(line[2]-line[1])\n",
    "            peaks2.append(line)\n",
    "peaks2[0:5]"
   ]
  },
  {
   "cell_type": "code",
   "execution_count": 57,
   "metadata": {},
   "outputs": [
    {
     "name": "stdout",
     "output_type": "stream",
     "text": [
      "Number of peaks from peaks_atac_pbmc_10k_nextgem_fragments_peaks.narrowPeak :\t 571400\n"
     ]
    }
   ],
   "source": [
    "#how many peak left\n",
    "print('Number of peaks from',file1,':\\t', len(peaks2))"
   ]
  },
  {
   "cell_type": "code",
   "execution_count": 58,
   "metadata": {},
   "outputs": [
    {
     "name": "stderr",
     "output_type": "stream",
     "text": [
      "/home/icb/anna.danese/miniconda3/lib/python3.7/site-packages/seaborn/distributions.py:2551: FutureWarning: `distplot` is a deprecated function and will be removed in a future version. Please adapt your code to use either `displot` (a figure-level function with similar flexibility) or `histplot` (an axes-level function for histograms).\n",
      "  warnings.warn(msg, FutureWarning)\n",
      "/home/icb/anna.danese/miniconda3/lib/python3.7/site-packages/seaborn/distributions.py:305: UserWarning: Dataset has 0 variance; skipping density estimate.\n",
      "  warnings.warn(msg, UserWarning)\n"
     ]
    },
    {
     "data": {
      "text/plain": [
       "<AxesSubplot:ylabel='Density'>"
      ]
     },
     "execution_count": 58,
     "metadata": {},
     "output_type": "execute_result"
    },
    {
     "data": {
      "image/png": "[encoded data removed]",
      "text/plain": [
       "<Figure size 432x288 with 1 Axes>"
      ]
     },
     "metadata": {
      "needs_background": "light"
     },
     "output_type": "display_data"
    }
   ],
   "source": [
    "# plot length peak distribution\n",
    "sns.distplot(size)"
   ]
  },
  {
   "cell_type": "code",
   "execution_count": 59,
   "metadata": {},
   "outputs": [
    {
     "name": "stdout",
     "output_type": "stream",
     "text": [
      "all peaks in all 2 datasets =\t 653198\n"
     ]
    }
   ],
   "source": [
    "### Concatenating peaks\n",
    "all_peaks = peaks1+peaks2\n",
    "print('all peaks in all 2 datasets =\\t', len(all_peaks))"
   ]
  },
  {
   "cell_type": "code",
   "execution_count": 60,
   "metadata": {},
   "outputs": [
    {
     "name": "stderr",
     "output_type": "stream",
     "text": [
      "/home/icb/anna.danese/miniconda3/lib/python3.7/site-packages/seaborn/distributions.py:2551: FutureWarning: `distplot` is a deprecated function and will be removed in a future version. Please adapt your code to use either `displot` (a figure-level function with similar flexibility) or `histplot` (an axes-level function for histograms).\n",
      "  warnings.warn(msg, FutureWarning)\n"
     ]
    },
    {
     "data": {
      "text/plain": [
       "<AxesSubplot:ylabel='Density'>"
      ]
     },
     "execution_count": 60,
     "metadata": {},
     "output_type": "execute_result"
    },
    {
     "data": {
      "image/png": "[encoded data removed]",
      "text/plain": [
       "<Figure size 432x288 with 1 Axes>"
      ]
     },
     "metadata": {
      "needs_background": "light"
     },
     "output_type": "display_data"
    }
   ],
   "source": [
    "size = [x[-1] for x in all_peaks]\n",
    "sns.distplot(size)"
   ]
  },
  {
   "cell_type": "code",
   "execution_count": 61,
   "metadata": {},
   "outputs": [
    {
     "name": "stdout",
     "output_type": "stream",
     "text": [
      "chr1 61395 61395\n",
      "chr5 34882 34882\n",
      "chr17 29104 29104\n",
      "chrX 16335 16335\n",
      "chr8 28898 28898\n",
      "chr18 13800 13800\n",
      "chr22 14010 14010\n",
      "chr19 23458 23458\n",
      "chr4 29676 29676\n",
      "chr14 21677 21677\n",
      "chr15 20164 20164\n",
      "chr10 31669 31669\n",
      "chr16 22052 22052\n",
      "chr6 39248 39248\n",
      "chr11 32800 32800\n",
      "chr2 54162 54162\n",
      "chrY 98 98\n",
      "chr12 32827 32827\n",
      "chr20 17535 17535\n",
      "chr21 8153 8153\n",
      "chr7 34334 34334\n",
      "chr3 43409 43409\n",
      "chr13 16344 16344\n",
      "chr9 27168 27168\n",
      "new size\t 653198\n",
      "old size\t 653198\n"
     ]
    }
   ],
   "source": [
    "### Filter unique peaks --> remove identical peaks \n",
    "all_peaks_dict = {}\n",
    "for chrom in ref_chromosome:\n",
    "    all_peaks_dict[chrom] = []\n",
    "for line in all_peaks:\n",
    "    all_peaks_dict[line[0]].append(line[1:])\n",
    "    \n",
    "all_peaks_dict_no_name = {}\n",
    "for chrom in ref_chromosome:\n",
    "    all_peaks_dict_no_name[chrom] = []\n",
    "for line in all_peaks:\n",
    "    all_peaks_dict_no_name[line[0]].append(line[1:3])\n",
    "unique_peaks_dict = {}\n",
    "for chrom in ref_chromosome:\n",
    "    unique_peaks_dict[chrom] = []\n",
    "new_size = 0\n",
    "for chrom in all_peaks_dict_no_name.keys():\n",
    "    unique_peaks_dict[chrom] = [list(x) for x in set(tuple(x) for x in all_peaks_dict_no_name[chrom])]\n",
    "    print(chrom, len(all_peaks_dict_no_name[chrom]), len(unique_peaks_dict[chrom]))\n",
    "    new_size += len(unique_peaks_dict[chrom])\n",
    "\n",
    "print('new size\\t', new_size)\n",
    "print('old size\\t', len(all_peaks))"
   ]
  },
  {
   "cell_type": "code",
   "execution_count": 62,
   "metadata": {},
   "outputs": [],
   "source": [
    "### Filtering overlapping peaks to keep the largest ones:\n",
    "# first, sorting the dictionary containing the unique peaks\n",
    "for chrom in unique_peaks_dict.keys():\n",
    "    unique_peaks_dict[chrom] = sorted(unique_peaks_dict[chrom])"
   ]
  },
  {
   "cell_type": "code",
   "execution_count": 63,
   "metadata": {},
   "outputs": [
    {
     "name": "stdout",
     "output_type": "stream",
     "text": [
      "chr1 61395 58078\n",
      "chr5 34882 33072\n",
      "chr17 29104 27551\n",
      "chrX 16335 15398\n",
      "chr8 28898 27328\n",
      "chr18 13800 13068\n",
      "chr22 14010 13318\n",
      "chr19 23458 22240\n",
      "chr4 29676 28157\n",
      "chr14 21677 20553\n",
      "chr15 20164 19073\n",
      "chr10 31669 29963\n",
      "chr16 22052 20993\n",
      "chr6 39248 37130\n",
      "chr11 32800 31130\n",
      "chr2 54162 51289\n",
      "chrY 98 97\n",
      "chr12 32827 31060\n",
      "chr20 17535 16550\n",
      "chr21 8153 7709\n",
      "chr7 34334 32589\n",
      "chr3 43409 41140\n",
      "chr13 16344 15457\n",
      "chr9 27168 25806\n",
      "total number of filtered peaks\t 618749\n"
     ]
    }
   ],
   "source": [
    "filtered_unique_peaks_dict = {}\n",
    "new_size = 0\n",
    "for chrom in unique_peaks_dict.keys():\n",
    "    all_new_chrom_peaks = []\n",
    "    peak1 = unique_peaks_dict[chrom][0]\n",
    "    for peak in unique_peaks_dict[chrom][1:]:\n",
    "        # if the start coordinate of a peak is the same, I am taking the largest peak (the new peak)\n",
    "        if peak[0] == peak1[0]:\n",
    "            peak1 = peak.copy()\n",
    "        # if the end coordinate of a peak is the same, I am taking the largest peak (the previous peak)\n",
    "        elif peak[1] == peak1[1]:\n",
    "            all_new_chrom_peaks.append(peak1)\n",
    "            continue\n",
    "        # if the new peak is inluded in the previous one, I keep the previous one\n",
    "        elif (peak1[0] <= peak[0]) and (peak1[1] >= peak[1]):\n",
    "            continue\n",
    "        # else, I am moving to the next peak\n",
    "        else:\n",
    "            peak1 = peak.copy()\n",
    "            all_new_chrom_peaks.append(peak1)\n",
    "    print(chrom, len(unique_peaks_dict[chrom]), len(all_new_chrom_peaks))\n",
    "    new_size += len(all_new_chrom_peaks)\n",
    "    filtered_unique_peaks_dict[chrom] = all_new_chrom_peaks.copy()\n",
    "    \n",
    "print('total number of filtered peaks\\t', new_size)"
   ]
  },
  {
   "cell_type": "code",
   "execution_count": 64,
   "metadata": {},
   "outputs": [
    {
     "name": "stderr",
     "output_type": "stream",
     "text": [
      "/home/icb/anna.danese/miniconda3/lib/python3.7/site-packages/seaborn/distributions.py:2551: FutureWarning: `distplot` is a deprecated function and will be removed in a future version. Please adapt your code to use either `displot` (a figure-level function with similar flexibility) or `histplot` (an axes-level function for histograms).\n",
      "  warnings.warn(msg, FutureWarning)\n"
     ]
    },
    {
     "data": {
      "text/plain": [
       "<AxesSubplot:ylabel='Density'>"
      ]
     },
     "execution_count": 64,
     "metadata": {},
     "output_type": "execute_result"
    },
    {
     "data": {
      "image/png": "[encoded data removed]",
      "text/plain": [
       "<Figure size 432x288 with 1 Axes>"
      ]
     },
     "metadata": {
      "needs_background": "light"
     },
     "output_type": "display_data"
    }
   ],
   "source": [
    "size = [x[-1] for x in all_peaks]\n",
    "sns.distplot(size)"
   ]
  },
  {
   "cell_type": "code",
   "execution_count": 65,
   "metadata": {},
   "outputs": [],
   "source": [
    "### write down the peaks\n",
    "output_file = 'filtered_peaks_episcanpy_pbmc_10x_greenleaf_all_.bed'\n",
    "with open(output_file, 'w') as f:\n",
    "    for chrom in filtered_unique_peaks_dict.keys():\n",
    "        filtered_unique_peaks_dict[chrom] = sorted(filtered_unique_peaks_dict[chrom])\n",
    "        for peak in filtered_unique_peaks_dict[chrom]:\n",
    "            peak = [chrom]+[str(x) for x in peak]\n",
    "            peak.append('_'.join(peak))\n",
    "            f.write('\\t'.join(peak))\n",
    "            f.write('\\n')"
   ]
  }
 ],
 "metadata": {
  "kernelspec": {
   "display_name": "Python 3",
   "language": "python",
   "name": "python3"
  },
  "language_info": {
   "codemirror_mode": {
    "name": "ipython",
    "version": 3
   },
   "file_extension": ".py",
   "mimetype": "text/x-python",
   "name": "python",
   "nbconvert_exporter": "python",
   "pygments_lexer": "ipython3",
   "version": "3.8.5"
  }
 },
 "nbformat": 4,
 "nbformat_minor": 4
}
